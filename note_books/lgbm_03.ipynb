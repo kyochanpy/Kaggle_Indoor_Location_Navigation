{
  "nbformat": 4,
  "nbformat_minor": 0,
  "metadata": {
    "colab": {
      "name": "Untitled16.ipynb",
      "provenance": [],
      "machine_shape": "hm",
      "mount_file_id": "1z_nAjb1DwB5dOQau68rwsqlHPpAQ6jN5",
      "authorship_tag": "ABX9TyN4fHR29zFEtRvVOuyfgFeq",
      "include_colab_link": true
    },
    "kernelspec": {
      "name": "python3",
      "display_name": "Python 3"
    },
    "language_info": {
      "name": "python"
    },
    "accelerator": "GPU"
  },
  "cells": [
    {
      "cell_type": "markdown",
      "metadata": {
        "id": "view-in-github",
        "colab_type": "text"
      },
      "source": [
        "<a href=\"https://colab.research.google.com/github/kyochanpy/Kaggle_Indoor_Location_Navigation/blob/main/note_books/lgbm_03.ipynb\" target=\"_parent\"><img src=\"https://colab.research.google.com/assets/colab-badge.svg\" alt=\"Open In Colab\"/></a>"
      ]
    },
    {
      "cell_type": "code",
      "metadata": {
        "id": "6SU575qxxCew"
      },
      "source": [
        "import numpy as np\n",
        "import pandas as pd\n",
        "import scipy.stats as stats\n",
        "from pathlib import Path\n",
        "import glob\n",
        "\n",
        "from sklearn.model_selection import KFold\n",
        "import lightgbm as lgb\n",
        "\n",
        "import psutil\n",
        "import random\n",
        "import os\n",
        "import time\n",
        "import sys\n",
        "import math\n",
        "from contextlib import contextmanager"
      ],
      "execution_count": 10,
      "outputs": []
    },
    {
      "cell_type": "code",
      "metadata": {
        "id": "sm4BoEzDxFPe"
      },
      "source": [
        "N_SPLITS = 10\n",
        "SEED = 618\n"
      ],
      "execution_count": 11,
      "outputs": []
    },
    {
      "cell_type": "code",
      "metadata": {
        "id": "TWuzNzX5xN-s"
      },
      "source": [
        "LOG_PATH = Path(\"./log/\")\n",
        "LOG_PATH.mkdir(parents=True, exist_ok=True)\n"
      ],
      "execution_count": 12,
      "outputs": []
    },
    {
      "cell_type": "code",
      "metadata": {
        "id": "KuXjg4fnxQsS"
      },
      "source": [
        "@contextmanager\n",
        "def timer(name: str):\n",
        "    t0 = time.time()\n",
        "    p = psutil.Process(os.getpid())\n",
        "    m0 = p.memory_info()[0] / 2. ** 30\n",
        "    try:\n",
        "        yield\n",
        "    finally:\n",
        "        m1 = p.memory_info()[0] / 2. ** 30\n",
        "        delta = m1 - m0\n",
        "        sign = '+' if delta >= 0 else '-'\n",
        "        delta = math.fabs(delta)\n",
        "        print(f\"[{m1:.1f}GB({sign}{delta:.1f}GB): {time.time() - t0:.3f}sec] {name}\", file=sys.stderr)\n"
      ],
      "execution_count": 13,
      "outputs": []
    },
    {
      "cell_type": "code",
      "metadata": {
        "id": "t-WJLWe9xUWC"
      },
      "source": [
        "def set_seed(seed=618):\n",
        "    random.seed(seed)\n",
        "    os.environ[\"PYTHONHASHSEED\"] = str(seed)\n",
        "    np.random.seed(seed)\n",
        "\n",
        "    \n",
        "def comp_metric(xhat, yhat, fhat, x, y, f):\n",
        "    intermediate = np.sqrt(np.power(xhat-x, 2) + np.power(yhat-y, 2)) + 15 * np.abs(fhat-f)\n",
        "    return intermediate.sum()/xhat.shape[0]\n",
        "\n",
        "\n",
        "def score_log(df: pd.DataFrame, num_files: int, nam_file: str, data_shape: tuple, n_fold: int, seed: int, mpe: float):\n",
        "    score_dict = {'n_files': num_files, 'file_name': nam_file, 'shape': data_shape, 'fold': n_fold, 'seed': seed, 'score': mpe}\n",
        "    # noinspection PyTypeChecker\n",
        "    df = pd.concat([df, pd.DataFrame.from_dict([score_dict])])\n",
        "    df.to_csv(LOG_PATH / f\"log_score.csv\", index=False)\n",
        "    return df"
      ],
      "execution_count": 14,
      "outputs": []
    },
    {
      "cell_type": "code",
      "metadata": {
        "id": "-Y0snFNmxYSg"
      },
      "source": [
        "set_seed(SEED)\n"
      ],
      "execution_count": 15,
      "outputs": []
    },
    {
      "cell_type": "code",
      "metadata": {
        "id": "63hV5hB1xaad"
      },
      "source": [
        "feature_dir = \"/content/drive/MyDrive/wifi_500_01\"\n",
        "train_files = sorted(glob.glob(os.path.join(feature_dir, '*_train.csv')))\n",
        "test_files = sorted(glob.glob(os.path.join(feature_dir, '*_test.csv')))\n",
        "subm = pd.read_csv('/content/drive/MyDrive/sample_submission.csv', index_col=0)"
      ],
      "execution_count": 16,
      "outputs": []
    },
    {
      "cell_type": "code",
      "metadata": {
        "id": "VrCKhgNdxxc4"
      },
      "source": [
        "lgb_params = {'objective': 'root_mean_squared_error',\n",
        "              'boosting_type': 'gbdt',\n",
        "              'n_estimators': 50000,\n",
        "              'learning_rate': 0.1,\n",
        "              'num_leaves': 90,\n",
        "              'colsample_bytree': 0.4,\n",
        "              'subsample': 0.6,\n",
        "              'subsample_freq': 2,\n",
        "              'bagging_seed': SEED,\n",
        "              'reg_alpha': 8,\n",
        "              'reg_lambda': 2,\n",
        "              'random_state': SEED,\n",
        "              'n_jobs': -1\n",
        "              }\n",
        "\n",
        "lgb_f_params = {'objective': 'multiclass',\n",
        "                'boosting_type': 'gbdt',\n",
        "                'n_estimators': 50000,\n",
        "                'learning_rate': 0.1,\n",
        "                'num_leaves': 90,\n",
        "                'colsample_bytree': 0.4,\n",
        "                'subsample': 0.6,\n",
        "                'subsample_freq': 2,\n",
        "                'bagging_seed': SEED,\n",
        "                'reg_alpha': 10,\n",
        "                'reg_lambda': 2,\n",
        "                'random_state': SEED,\n",
        "                'n_jobs': -1\n",
        "                }"
      ],
      "execution_count": 17,
      "outputs": []
    },
    {
      "cell_type": "code",
      "metadata": {
        "colab": {
          "base_uri": "https://localhost:8080/"
        },
        "id": "4ZOk9Sagx1Do",
        "outputId": "dc1f2553-75ec-4964-bc19-07cda1e4b10a"
      },
      "source": [
        "score_df = pd.DataFrame()\n",
        "oof = list()\n",
        "predictions = list()\n",
        "for n_files, file in enumerate(train_files):\n",
        "    data = pd.read_csv(file, index_col=0)\n",
        "    test_data = pd.read_csv(test_files[n_files], index_col=0)\n",
        "\n",
        "    oof_x, oof_y, oof_f = np.zeros(data.shape[0]), np.zeros(data.shape[0]), np.zeros(data.shape[0])\n",
        "    preds_x, preds_y = 0, 0\n",
        "    preds_f_arr = np.zeros((test_data.shape[0], N_SPLITS))\n",
        "\n",
        "    kf = KFold(n_splits=N_SPLITS, shuffle=True, random_state=SEED)\n",
        "    for fold, (trn_idx, val_idx) in enumerate(kf.split(data.iloc[:, :-4])):\n",
        "        X_train = data.iloc[trn_idx, :-4]\n",
        "        y_trainx = data.iloc[trn_idx, -4]\n",
        "        y_trainy = data.iloc[trn_idx, -3]\n",
        "        y_trainf = data.iloc[trn_idx, -2]\n",
        "\n",
        "        X_valid = data.iloc[val_idx, :-4]\n",
        "        y_validx = data.iloc[val_idx, -4]\n",
        "        y_validy = data.iloc[val_idx, -3]\n",
        "        y_validf = data.iloc[val_idx, -2]\n",
        "        \n",
        "        modelx = lgb.LGBMRegressor(**lgb_params)\n",
        "        with timer(\"fit X\"):\n",
        "            modelx.fit(X_train, y_trainx,\n",
        "                       eval_set=[(X_valid, y_validx)],\n",
        "                       eval_metric='rmse',\n",
        "                       verbose=False,\n",
        "                       early_stopping_rounds=20\n",
        "                       )\n",
        "\n",
        "        modely = lgb.LGBMRegressor(**lgb_params)\n",
        "        with timer(\"fit Y\"):\n",
        "            modely.fit(X_train, y_trainy,\n",
        "                       eval_set=[(X_valid, y_validy)],\n",
        "                       eval_metric='rmse',\n",
        "                       verbose=False,\n",
        "                       early_stopping_rounds=20\n",
        "                       )\n",
        "\n",
        "        modelf = lgb.LGBMClassifier(**lgb_f_params)\n",
        "        with timer(\"fit F\"):\n",
        "            modelf.fit(X_train, y_trainf,\n",
        "                       eval_set=[(X_valid, y_validf)],\n",
        "                       eval_metric='multi_logloss',\n",
        "                       verbose=False,\n",
        "                       early_stopping_rounds=20\n",
        "                       )\n",
        "            \n",
        "        oof_x[val_idx] = modelx.predict(X_valid)\n",
        "        oof_y[val_idx] = modely.predict(X_valid)\n",
        "        oof_f[val_idx] = modelf.predict(X_valid).astype(int)\n",
        "\n",
        "        preds_x += modelx.predict(test_data.iloc[:, :-1]) / N_SPLITS\n",
        "        preds_y += modely.predict(test_data.iloc[:, :-1]) / N_SPLITS\n",
        "        preds_f_arr[:, fold] = modelf.predict(test_data.iloc[:, :-1]).astype(int)\n",
        "\n",
        "        score = comp_metric(oof_x[val_idx], oof_y[val_idx], oof_f[val_idx],\n",
        "                            y_validx.to_numpy(), y_validy.to_numpy(), y_validf.to_numpy())\n",
        "        print(f\"fold {fold}: mean position error {score}\")\n",
        "        score_df = score_log(score_df, n_files, os.path.basename(file), data.shape, fold, SEED, score)\n",
        "\n",
        "    print(\"*+\"*40)\n",
        "    print(f\"file #{n_files}, shape={data.shape}, name={os.path.basename(file)}\")\n",
        "    score = comp_metric(oof_x, oof_y, oof_f,\n",
        "                        data.iloc[:, -4].to_numpy(), data.iloc[:, -3].to_numpy(), data.iloc[:, -2].to_numpy())\n",
        "    oof.append(score)\n",
        "    print(f\"mean position error {score}\")\n",
        "    print(\"*+\"*40)\n",
        "    score_df = score_log(score_df, n_files, os.path.basename(file), data.shape, 999, SEED, score)\n",
        "\n",
        "    preds_f_mode = stats.mode(preds_f_arr, axis=1)\n",
        "    preds_f = preds_f_mode[0].astype(int).reshape(-1)\n",
        "    test_preds = pd.DataFrame(np.stack((preds_f, preds_x, preds_y))).T\n",
        "    test_preds.columns = subm.columns\n",
        "    test_preds.index = test_data[\"site_path_timestamp\"]\n",
        "    test_preds[\"floor\"] = test_preds[\"floor\"].astype(int)\n",
        "    predictions.append(test_preds)"
      ],
      "execution_count": 18,
      "outputs": [
        {
          "output_type": "stream",
          "text": [
            "[1.5GB(+0.1GB): 11.603sec] fit X\n",
            "[1.5GB(+0.0GB): 10.835sec] fit Y\n",
            "[1.5GB(+0.0GB): 6.728sec] fit F\n"
          ],
          "name": "stderr"
        },
        {
          "output_type": "stream",
          "text": [
            "fold 0: mean position error 3.7240354107655427\n"
          ],
          "name": "stdout"
        },
        {
          "output_type": "stream",
          "text": [
            "[1.5GB(+0.0GB): 13.826sec] fit X\n",
            "[1.5GB(+0.0GB): 9.325sec] fit Y\n",
            "[1.5GB(+0.0GB): 6.275sec] fit F\n"
          ],
          "name": "stderr"
        },
        {
          "output_type": "stream",
          "text": [
            "fold 1: mean position error 3.9386484298412436\n"
          ],
          "name": "stdout"
        },
        {
          "output_type": "stream",
          "text": [
            "[1.5GB(+0.0GB): 11.554sec] fit X\n",
            "[1.5GB(+0.0GB): 12.890sec] fit Y\n",
            "[1.5GB(+0.0GB): 6.759sec] fit F\n"
          ],
          "name": "stderr"
        },
        {
          "output_type": "stream",
          "text": [
            "fold 2: mean position error 3.909926448131514\n"
          ],
          "name": "stdout"
        },
        {
          "output_type": "stream",
          "text": [
            "[1.5GB(+0.0GB): 17.404sec] fit X\n",
            "[1.5GB(+0.0GB): 10.863sec] fit Y\n",
            "[1.5GB(+0.0GB): 7.232sec] fit F\n"
          ],
          "name": "stderr"
        },
        {
          "output_type": "stream",
          "text": [
            "fold 3: mean position error 3.736630481589569\n"
          ],
          "name": "stdout"
        },
        {
          "output_type": "stream",
          "text": [
            "[1.5GB(+0.0GB): 12.168sec] fit X\n",
            "[1.5GB(+0.0GB): 9.246sec] fit Y\n",
            "[1.5GB(+0.0GB): 6.374sec] fit F\n"
          ],
          "name": "stderr"
        },
        {
          "output_type": "stream",
          "text": [
            "fold 4: mean position error 3.72395902251561\n"
          ],
          "name": "stdout"
        },
        {
          "output_type": "stream",
          "text": [
            "[1.5GB(+0.0GB): 12.895sec] fit X\n",
            "[1.5GB(+0.0GB): 11.128sec] fit Y\n",
            "[1.5GB(+0.0GB): 6.964sec] fit F\n"
          ],
          "name": "stderr"
        },
        {
          "output_type": "stream",
          "text": [
            "fold 5: mean position error 3.6924477425748843\n"
          ],
          "name": "stdout"
        },
        {
          "output_type": "stream",
          "text": [
            "[1.6GB(+0.0GB): 9.747sec] fit X\n",
            "[1.6GB(+0.0GB): 8.802sec] fit Y\n",
            "[1.6GB(+0.0GB): 6.951sec] fit F\n"
          ],
          "name": "stderr"
        },
        {
          "output_type": "stream",
          "text": [
            "fold 6: mean position error 3.933182925762241\n"
          ],
          "name": "stdout"
        },
        {
          "output_type": "stream",
          "text": [
            "[1.6GB(+0.0GB): 21.343sec] fit X\n",
            "[1.6GB(+0.0GB): 11.073sec] fit Y\n",
            "[1.6GB(+0.0GB): 7.153sec] fit F\n"
          ],
          "name": "stderr"
        },
        {
          "output_type": "stream",
          "text": [
            "fold 7: mean position error 3.628158538523988\n"
          ],
          "name": "stdout"
        },
        {
          "output_type": "stream",
          "text": [
            "[1.6GB(+0.0GB): 11.379sec] fit X\n",
            "[1.6GB(+0.0GB): 10.642sec] fit Y\n",
            "[1.6GB(+0.0GB): 6.923sec] fit F\n"
          ],
          "name": "stderr"
        },
        {
          "output_type": "stream",
          "text": [
            "fold 8: mean position error 3.8395317867389323\n"
          ],
          "name": "stdout"
        },
        {
          "output_type": "stream",
          "text": [
            "[1.6GB(+0.0GB): 13.563sec] fit X\n",
            "[1.6GB(+0.0GB): 14.938sec] fit Y\n",
            "[1.6GB(+0.0GB): 6.993sec] fit F\n"
          ],
          "name": "stderr"
        },
        {
          "output_type": "stream",
          "text": [
            "fold 9: mean position error 3.4012694209664502\n",
            "*+*+*+*+*+*+*+*+*+*+*+*+*+*+*+*+*+*+*+*+*+*+*+*+*+*+*+*+*+*+*+*+*+*+*+*+*+*+*+*+\n",
            "file #0, shape=(9296, 1655), name=5a0546857ecc773753327266_500_train.csv\n",
            "mean position error 3.7528015006690287\n",
            "*+*+*+*+*+*+*+*+*+*+*+*+*+*+*+*+*+*+*+*+*+*+*+*+*+*+*+*+*+*+*+*+*+*+*+*+*+*+*+*+\n"
          ],
          "name": "stdout"
        },
        {
          "output_type": "stream",
          "text": [
            "[1.6GB(+0.0GB): 12.901sec] fit X\n",
            "[1.6GB(+0.0GB): 10.578sec] fit Y\n",
            "[1.6GB(+0.0GB): 9.322sec] fit F\n"
          ],
          "name": "stderr"
        },
        {
          "output_type": "stream",
          "text": [
            "fold 0: mean position error 4.716040415414155\n"
          ],
          "name": "stdout"
        },
        {
          "output_type": "stream",
          "text": [
            "[1.6GB(+0.0GB): 9.776sec] fit X\n",
            "[1.6GB(+0.0GB): 12.178sec] fit Y\n",
            "[1.6GB(+0.0GB): 8.549sec] fit F\n"
          ],
          "name": "stderr"
        },
        {
          "output_type": "stream",
          "text": [
            "fold 1: mean position error 4.689443777647328\n"
          ],
          "name": "stdout"
        },
        {
          "output_type": "stream",
          "text": [
            "[1.6GB(+0.0GB): 14.378sec] fit X\n",
            "[1.6GB(+0.0GB): 10.148sec] fit Y\n",
            "[1.6GB(+0.0GB): 7.896sec] fit F\n"
          ],
          "name": "stderr"
        },
        {
          "output_type": "stream",
          "text": [
            "fold 2: mean position error 4.443768164716502\n"
          ],
          "name": "stdout"
        },
        {
          "output_type": "stream",
          "text": [
            "[1.6GB(+0.0GB): 8.368sec] fit X\n",
            "[1.6GB(+0.0GB): 9.203sec] fit Y\n",
            "[1.6GB(+0.0GB): 8.559sec] fit F\n"
          ],
          "name": "stderr"
        },
        {
          "output_type": "stream",
          "text": [
            "fold 3: mean position error 4.844390453672948\n"
          ],
          "name": "stdout"
        },
        {
          "output_type": "stream",
          "text": [
            "[1.6GB(+0.0GB): 10.356sec] fit X\n",
            "[1.6GB(+0.0GB): 8.524sec] fit Y\n",
            "[1.6GB(+0.0GB): 7.411sec] fit F\n"
          ],
          "name": "stderr"
        },
        {
          "output_type": "stream",
          "text": [
            "fold 4: mean position error 4.554331727953752\n"
          ],
          "name": "stdout"
        },
        {
          "output_type": "stream",
          "text": [
            "[1.6GB(+0.0GB): 8.756sec] fit X\n",
            "[1.6GB(+0.0GB): 6.425sec] fit Y\n",
            "[1.6GB(+0.0GB): 8.501sec] fit F\n"
          ],
          "name": "stderr"
        },
        {
          "output_type": "stream",
          "text": [
            "fold 5: mean position error 4.627690240815448\n"
          ],
          "name": "stdout"
        },
        {
          "output_type": "stream",
          "text": [
            "[1.6GB(+0.0GB): 9.617sec] fit X\n",
            "[1.6GB(+0.0GB): 10.628sec] fit Y\n",
            "[1.6GB(+0.0GB): 8.045sec] fit F\n"
          ],
          "name": "stderr"
        },
        {
          "output_type": "stream",
          "text": [
            "fold 6: mean position error 4.317521221204336\n"
          ],
          "name": "stdout"
        },
        {
          "output_type": "stream",
          "text": [
            "[1.6GB(+0.0GB): 10.722sec] fit X\n",
            "[1.6GB(+0.0GB): 11.695sec] fit Y\n",
            "[1.6GB(+0.0GB): 7.761sec] fit F\n"
          ],
          "name": "stderr"
        },
        {
          "output_type": "stream",
          "text": [
            "fold 7: mean position error 4.667746065974884\n"
          ],
          "name": "stdout"
        },
        {
          "output_type": "stream",
          "text": [
            "[1.6GB(+0.0GB): 11.547sec] fit X\n",
            "[1.6GB(+0.0GB): 9.277sec] fit Y\n",
            "[1.6GB(+0.0GB): 7.709sec] fit F\n"
          ],
          "name": "stderr"
        },
        {
          "output_type": "stream",
          "text": [
            "fold 8: mean position error 4.52893067118973\n"
          ],
          "name": "stdout"
        },
        {
          "output_type": "stream",
          "text": [
            "[1.6GB(+0.0GB): 11.470sec] fit X\n",
            "[1.6GB(+0.0GB): 10.379sec] fit Y\n",
            "[1.6GB(+0.0GB): 8.644sec] fit F\n"
          ],
          "name": "stderr"
        },
        {
          "output_type": "stream",
          "text": [
            "fold 9: mean position error 4.58281898220787\n",
            "*+*+*+*+*+*+*+*+*+*+*+*+*+*+*+*+*+*+*+*+*+*+*+*+*+*+*+*+*+*+*+*+*+*+*+*+*+*+*+*+\n",
            "file #1, shape=(9737, 1344), name=5c3c44b80379370013e0fd2b_500_train.csv\n",
            "mean position error 4.5972694362059014\n",
            "*+*+*+*+*+*+*+*+*+*+*+*+*+*+*+*+*+*+*+*+*+*+*+*+*+*+*+*+*+*+*+*+*+*+*+*+*+*+*+*+\n"
          ],
          "name": "stdout"
        },
        {
          "output_type": "stream",
          "text": [
            "[4.1GB(+0.5GB): 69.219sec] fit X\n",
            "[4.1GB(+0.0GB): 47.241sec] fit Y\n",
            "[4.1GB(+0.0GB): 56.449sec] fit F\n"
          ],
          "name": "stderr"
        },
        {
          "output_type": "stream",
          "text": [
            "fold 0: mean position error 3.881568749960312\n"
          ],
          "name": "stdout"
        },
        {
          "output_type": "stream",
          "text": [
            "[4.1GB(+0.0GB): 56.309sec] fit X\n",
            "[4.1GB(+0.0GB): 77.407sec] fit Y\n",
            "[4.1GB(+0.0GB): 47.119sec] fit F\n"
          ],
          "name": "stderr"
        },
        {
          "output_type": "stream",
          "text": [
            "fold 1: mean position error 3.877333036407894\n"
          ],
          "name": "stdout"
        },
        {
          "output_type": "stream",
          "text": [
            "[4.1GB(+0.0GB): 58.221sec] fit X\n",
            "[4.1GB(+0.0GB): 69.157sec] fit Y\n",
            "[4.1GB(+0.0GB): 66.572sec] fit F\n"
          ],
          "name": "stderr"
        },
        {
          "output_type": "stream",
          "text": [
            "fold 2: mean position error 3.773499473261445\n"
          ],
          "name": "stdout"
        },
        {
          "output_type": "stream",
          "text": [
            "[4.1GB(+0.0GB): 56.256sec] fit X\n",
            "[4.1GB(+0.0GB): 62.254sec] fit Y\n",
            "[4.1GB(+0.0GB): 53.804sec] fit F\n"
          ],
          "name": "stderr"
        },
        {
          "output_type": "stream",
          "text": [
            "fold 3: mean position error 3.9427522699802893\n"
          ],
          "name": "stdout"
        },
        {
          "output_type": "stream",
          "text": [
            "[4.1GB(+0.0GB): 93.496sec] fit X\n",
            "[4.1GB(+0.0GB): 81.698sec] fit Y\n",
            "[4.1GB(+0.0GB): 52.235sec] fit F\n"
          ],
          "name": "stderr"
        },
        {
          "output_type": "stream",
          "text": [
            "fold 4: mean position error 3.815077391987549\n"
          ],
          "name": "stdout"
        },
        {
          "output_type": "stream",
          "text": [
            "[4.1GB(+0.0GB): 62.290sec] fit X\n",
            "[4.1GB(+0.0GB): 69.899sec] fit Y\n",
            "[4.1GB(+0.0GB): 39.220sec] fit F\n"
          ],
          "name": "stderr"
        },
        {
          "output_type": "stream",
          "text": [
            "fold 5: mean position error 3.8844705247717806\n"
          ],
          "name": "stdout"
        },
        {
          "output_type": "stream",
          "text": [
            "[4.6GB(+0.0GB): 67.073sec] fit X\n",
            "[4.6GB(+0.0GB): 67.535sec] fit Y\n",
            "[4.6GB(+0.0GB): 45.996sec] fit F\n"
          ],
          "name": "stderr"
        },
        {
          "output_type": "stream",
          "text": [
            "fold 6: mean position error 3.762549515356237\n"
          ],
          "name": "stdout"
        },
        {
          "output_type": "stream",
          "text": [
            "[4.6GB(+0.0GB): 65.065sec] fit X\n",
            "[4.6GB(+0.0GB): 70.010sec] fit Y\n",
            "[4.6GB(+0.0GB): 68.629sec] fit F\n"
          ],
          "name": "stderr"
        },
        {
          "output_type": "stream",
          "text": [
            "fold 7: mean position error 3.86667682723443\n"
          ],
          "name": "stdout"
        },
        {
          "output_type": "stream",
          "text": [
            "[4.6GB(+0.0GB): 78.578sec] fit X\n",
            "[4.6GB(+0.0GB): 58.286sec] fit Y\n",
            "[4.6GB(+0.0GB): 44.380sec] fit F\n"
          ],
          "name": "stderr"
        },
        {
          "output_type": "stream",
          "text": [
            "fold 8: mean position error 3.8959485300586185\n"
          ],
          "name": "stdout"
        },
        {
          "output_type": "stream",
          "text": [
            "[4.6GB(+0.0GB): 53.090sec] fit X\n",
            "[4.6GB(+0.0GB): 65.517sec] fit Y\n",
            "[4.6GB(+0.0GB): 49.461sec] fit F\n"
          ],
          "name": "stderr"
        },
        {
          "output_type": "stream",
          "text": [
            "fold 9: mean position error 3.8740036490595293\n",
            "*+*+*+*+*+*+*+*+*+*+*+*+*+*+*+*+*+*+*+*+*+*+*+*+*+*+*+*+*+*+*+*+*+*+*+*+*+*+*+*+\n",
            "file #2, shape=(23666, 2870), name=5d27075f03f801723c2e360f_500_train.csv\n",
            "mean position error 3.857389280229828\n",
            "*+*+*+*+*+*+*+*+*+*+*+*+*+*+*+*+*+*+*+*+*+*+*+*+*+*+*+*+*+*+*+*+*+*+*+*+*+*+*+*+\n"
          ],
          "name": "stdout"
        },
        {
          "output_type": "stream",
          "text": [
            "[4.6GB(+0.0GB): 3.698sec] fit X\n",
            "[4.6GB(+0.0GB): 4.025sec] fit Y\n",
            "[4.6GB(+0.0GB): 2.251sec] fit F\n"
          ],
          "name": "stderr"
        },
        {
          "output_type": "stream",
          "text": [
            "fold 0: mean position error 2.6070744670820054\n"
          ],
          "name": "stdout"
        },
        {
          "output_type": "stream",
          "text": [
            "[4.6GB(+0.0GB): 5.843sec] fit X\n",
            "[4.6GB(+0.0GB): 4.374sec] fit Y\n",
            "[4.6GB(+0.0GB): 3.198sec] fit F\n"
          ],
          "name": "stderr"
        },
        {
          "output_type": "stream",
          "text": [
            "fold 1: mean position error 2.5072029069632373\n"
          ],
          "name": "stdout"
        },
        {
          "output_type": "stream",
          "text": [
            "[4.6GB(+0.0GB): 4.987sec] fit X\n",
            "[4.6GB(+0.0GB): 3.566sec] fit Y\n",
            "[4.6GB(+0.0GB): 2.868sec] fit F\n"
          ],
          "name": "stderr"
        },
        {
          "output_type": "stream",
          "text": [
            "fold 2: mean position error 2.5349937683188197\n"
          ],
          "name": "stdout"
        },
        {
          "output_type": "stream",
          "text": [
            "[4.6GB(+0.0GB): 4.395sec] fit X\n",
            "[4.6GB(+0.0GB): 5.578sec] fit Y\n",
            "[4.6GB(+0.0GB): 2.621sec] fit F\n"
          ],
          "name": "stderr"
        },
        {
          "output_type": "stream",
          "text": [
            "fold 3: mean position error 2.5184862320881507\n"
          ],
          "name": "stdout"
        },
        {
          "output_type": "stream",
          "text": [
            "[4.6GB(+0.0GB): 5.770sec] fit X\n",
            "[4.6GB(+0.0GB): 4.700sec] fit Y\n",
            "[4.6GB(+0.0GB): 2.332sec] fit F\n"
          ],
          "name": "stderr"
        },
        {
          "output_type": "stream",
          "text": [
            "fold 4: mean position error 2.5625508047534784\n"
          ],
          "name": "stdout"
        },
        {
          "output_type": "stream",
          "text": [
            "[4.6GB(+0.0GB): 3.345sec] fit X\n",
            "[4.6GB(+0.0GB): 5.071sec] fit Y\n",
            "[4.6GB(+0.0GB): 2.926sec] fit F\n"
          ],
          "name": "stderr"
        },
        {
          "output_type": "stream",
          "text": [
            "fold 5: mean position error 2.62933666210384\n"
          ],
          "name": "stdout"
        },
        {
          "output_type": "stream",
          "text": [
            "[4.6GB(+0.0GB): 5.796sec] fit X\n",
            "[4.6GB(+0.0GB): 4.476sec] fit Y\n",
            "[4.6GB(+0.0GB): 3.127sec] fit F\n"
          ],
          "name": "stderr"
        },
        {
          "output_type": "stream",
          "text": [
            "fold 6: mean position error 2.554026224748676\n"
          ],
          "name": "stdout"
        },
        {
          "output_type": "stream",
          "text": [
            "[4.6GB(+0.0GB): 4.761sec] fit X\n",
            "[4.6GB(+0.0GB): 2.371sec] fit Y\n",
            "[4.6GB(+0.0GB): 2.404sec] fit F\n"
          ],
          "name": "stderr"
        },
        {
          "output_type": "stream",
          "text": [
            "fold 7: mean position error 2.6872761494039463\n"
          ],
          "name": "stdout"
        },
        {
          "output_type": "stream",
          "text": [
            "[4.6GB(+0.0GB): 4.413sec] fit X\n",
            "[4.6GB(+0.0GB): 5.539sec] fit Y\n",
            "[4.6GB(+0.0GB): 2.753sec] fit F\n"
          ],
          "name": "stderr"
        },
        {
          "output_type": "stream",
          "text": [
            "fold 8: mean position error 2.423314577442253\n"
          ],
          "name": "stdout"
        },
        {
          "output_type": "stream",
          "text": [
            "[4.6GB(+0.0GB): 5.858sec] fit X\n",
            "[4.6GB(+0.0GB): 5.113sec] fit Y\n",
            "[4.6GB(+0.0GB): 2.679sec] fit F\n"
          ],
          "name": "stderr"
        },
        {
          "output_type": "stream",
          "text": [
            "fold 9: mean position error 2.570989430359417\n",
            "*+*+*+*+*+*+*+*+*+*+*+*+*+*+*+*+*+*+*+*+*+*+*+*+*+*+*+*+*+*+*+*+*+*+*+*+*+*+*+*+\n",
            "file #3, shape=(9100, 504), name=5d27096c03f801723c31e5e0_500_train.csv\n",
            "mean position error 2.559525122326382\n",
            "*+*+*+*+*+*+*+*+*+*+*+*+*+*+*+*+*+*+*+*+*+*+*+*+*+*+*+*+*+*+*+*+*+*+*+*+*+*+*+*+\n"
          ],
          "name": "stdout"
        },
        {
          "output_type": "stream",
          "text": [
            "[4.6GB(+0.0GB): 3.226sec] fit X\n",
            "[4.6GB(-0.0GB): 3.148sec] fit Y\n",
            "[4.6GB(+0.0GB): 6.117sec] fit F\n"
          ],
          "name": "stderr"
        },
        {
          "output_type": "stream",
          "text": [
            "fold 0: mean position error 10.799521178192856\n"
          ],
          "name": "stdout"
        },
        {
          "output_type": "stream",
          "text": [
            "[4.6GB(+0.0GB): 3.835sec] fit X\n",
            "[4.6GB(+0.0GB): 3.158sec] fit Y\n",
            "[4.6GB(+0.0GB): 5.749sec] fit F\n"
          ],
          "name": "stderr"
        },
        {
          "output_type": "stream",
          "text": [
            "fold 1: mean position error 8.55891366458212\n"
          ],
          "name": "stdout"
        },
        {
          "output_type": "stream",
          "text": [
            "[4.6GB(+0.0GB): 4.606sec] fit X\n",
            "[4.6GB(+0.0GB): 3.620sec] fit Y\n",
            "[4.6GB(+0.0GB): 6.776sec] fit F\n"
          ],
          "name": "stderr"
        },
        {
          "output_type": "stream",
          "text": [
            "fold 2: mean position error 9.762298896585316\n"
          ],
          "name": "stdout"
        },
        {
          "output_type": "stream",
          "text": [
            "[4.6GB(+0.0GB): 8.357sec] fit X\n",
            "[4.6GB(+0.0GB): 7.257sec] fit Y\n",
            "[4.6GB(+0.0GB): 6.412sec] fit F\n"
          ],
          "name": "stderr"
        },
        {
          "output_type": "stream",
          "text": [
            "fold 3: mean position error 7.847689487667445\n"
          ],
          "name": "stdout"
        },
        {
          "output_type": "stream",
          "text": [
            "[4.6GB(+0.0GB): 5.624sec] fit X\n",
            "[4.6GB(+0.0GB): 11.644sec] fit Y\n",
            "[4.6GB(+0.0GB): 6.203sec] fit F\n"
          ],
          "name": "stderr"
        },
        {
          "output_type": "stream",
          "text": [
            "fold 4: mean position error 7.70776640561531\n"
          ],
          "name": "stdout"
        },
        {
          "output_type": "stream",
          "text": [
            "[4.6GB(+0.0GB): 4.971sec] fit X\n",
            "[4.6GB(+0.0GB): 5.408sec] fit Y\n",
            "[4.6GB(+0.0GB): 6.371sec] fit F\n"
          ],
          "name": "stderr"
        },
        {
          "output_type": "stream",
          "text": [
            "fold 5: mean position error 8.620747137923855\n"
          ],
          "name": "stdout"
        },
        {
          "output_type": "stream",
          "text": [
            "[4.6GB(+0.0GB): 7.980sec] fit X\n",
            "[4.6GB(+0.0GB): 4.425sec] fit Y\n",
            "[4.6GB(+0.0GB): 5.871sec] fit F\n"
          ],
          "name": "stderr"
        },
        {
          "output_type": "stream",
          "text": [
            "fold 6: mean position error 7.946738732896763\n"
          ],
          "name": "stdout"
        },
        {
          "output_type": "stream",
          "text": [
            "[4.6GB(+0.0GB): 6.837sec] fit X\n",
            "[4.6GB(+0.0GB): 8.406sec] fit Y\n",
            "[4.6GB(+0.0GB): 6.714sec] fit F\n"
          ],
          "name": "stderr"
        },
        {
          "output_type": "stream",
          "text": [
            "fold 7: mean position error 7.886593483779851\n"
          ],
          "name": "stdout"
        },
        {
          "output_type": "stream",
          "text": [
            "[4.6GB(+0.0GB): 3.293sec] fit X\n",
            "[4.6GB(+0.0GB): 4.397sec] fit Y\n",
            "[4.6GB(+0.0GB): 6.400sec] fit F\n"
          ],
          "name": "stderr"
        },
        {
          "output_type": "stream",
          "text": [
            "fold 8: mean position error 9.96085398067822\n"
          ],
          "name": "stdout"
        },
        {
          "output_type": "stream",
          "text": [
            "[4.6GB(+0.0GB): 5.706sec] fit X\n",
            "[4.6GB(+0.0GB): 5.751sec] fit Y\n",
            "[4.6GB(+0.0GB): 6.062sec] fit F\n"
          ],
          "name": "stderr"
        },
        {
          "output_type": "stream",
          "text": [
            "fold 9: mean position error 9.277454384912227\n",
            "*+*+*+*+*+*+*+*+*+*+*+*+*+*+*+*+*+*+*+*+*+*+*+*+*+*+*+*+*+*+*+*+*+*+*+*+*+*+*+*+\n",
            "file #4, shape=(10507, 806), name=5d27097f03f801723c320d97_500_train.csv\n",
            "mean position error 8.836799266772545\n",
            "*+*+*+*+*+*+*+*+*+*+*+*+*+*+*+*+*+*+*+*+*+*+*+*+*+*+*+*+*+*+*+*+*+*+*+*+*+*+*+*+\n"
          ],
          "name": "stdout"
        },
        {
          "output_type": "stream",
          "text": [
            "[4.6GB(+0.0GB): 1.593sec] fit X\n",
            "[4.6GB(+0.0GB): 1.757sec] fit Y\n",
            "[4.6GB(+0.0GB): 0.853sec] fit F\n"
          ],
          "name": "stderr"
        },
        {
          "output_type": "stream",
          "text": [
            "fold 0: mean position error 2.6021738154848912\n"
          ],
          "name": "stdout"
        },
        {
          "output_type": "stream",
          "text": [
            "[4.6GB(+0.0GB): 1.270sec] fit X\n",
            "[4.6GB(+0.0GB): 2.008sec] fit Y\n",
            "[4.6GB(+0.0GB): 0.861sec] fit F\n"
          ],
          "name": "stderr"
        },
        {
          "output_type": "stream",
          "text": [
            "fold 1: mean position error 2.855222966019818\n"
          ],
          "name": "stdout"
        },
        {
          "output_type": "stream",
          "text": [
            "[4.6GB(+0.0GB): 1.399sec] fit X\n",
            "[4.6GB(+0.0GB): 1.317sec] fit Y\n",
            "[4.6GB(+0.0GB): 1.069sec] fit F\n"
          ],
          "name": "stderr"
        },
        {
          "output_type": "stream",
          "text": [
            "fold 2: mean position error 2.7534017259862646\n"
          ],
          "name": "stdout"
        },
        {
          "output_type": "stream",
          "text": [
            "[4.6GB(+0.0GB): 1.391sec] fit X\n",
            "[4.6GB(+0.0GB): 1.595sec] fit Y\n",
            "[4.6GB(+0.0GB): 0.901sec] fit F\n"
          ],
          "name": "stderr"
        },
        {
          "output_type": "stream",
          "text": [
            "fold 3: mean position error 2.9095147800430428\n"
          ],
          "name": "stdout"
        },
        {
          "output_type": "stream",
          "text": [
            "[4.6GB(+0.0GB): 1.983sec] fit X\n",
            "[4.6GB(+0.0GB): 1.462sec] fit Y\n",
            "[4.6GB(+0.0GB): 0.890sec] fit F\n"
          ],
          "name": "stderr"
        },
        {
          "output_type": "stream",
          "text": [
            "fold 4: mean position error 2.6078462274551533\n"
          ],
          "name": "stdout"
        },
        {
          "output_type": "stream",
          "text": [
            "[4.6GB(+0.0GB): 0.988sec] fit X\n",
            "[4.6GB(+0.0GB): 1.678sec] fit Y\n",
            "[4.6GB(+0.0GB): 1.082sec] fit F\n"
          ],
          "name": "stderr"
        },
        {
          "output_type": "stream",
          "text": [
            "fold 5: mean position error 2.649678216112525\n"
          ],
          "name": "stdout"
        },
        {
          "output_type": "stream",
          "text": [
            "[4.6GB(+0.0GB): 1.640sec] fit X\n",
            "[4.6GB(+0.0GB): 1.089sec] fit Y\n",
            "[4.6GB(+0.0GB): 0.897sec] fit F\n"
          ],
          "name": "stderr"
        },
        {
          "output_type": "stream",
          "text": [
            "fold 6: mean position error 2.83078851561255\n"
          ],
          "name": "stdout"
        },
        {
          "output_type": "stream",
          "text": [
            "[4.6GB(+0.0GB): 1.962sec] fit X\n",
            "[4.6GB(+0.0GB): 1.278sec] fit Y\n",
            "[4.6GB(+0.0GB): 0.858sec] fit F\n"
          ],
          "name": "stderr"
        },
        {
          "output_type": "stream",
          "text": [
            "fold 7: mean position error 2.7376270695369476\n"
          ],
          "name": "stdout"
        },
        {
          "output_type": "stream",
          "text": [
            "[4.6GB(+0.0GB): 1.778sec] fit X\n",
            "[4.6GB(+0.0GB): 1.334sec] fit Y\n",
            "[4.6GB(+0.0GB): 0.869sec] fit F\n"
          ],
          "name": "stderr"
        },
        {
          "output_type": "stream",
          "text": [
            "fold 8: mean position error 2.6469931375438485\n"
          ],
          "name": "stdout"
        },
        {
          "output_type": "stream",
          "text": [
            "[4.6GB(+0.0GB): 1.743sec] fit X\n",
            "[4.6GB(+0.0GB): 2.216sec] fit Y\n",
            "[4.6GB(+0.0GB): 0.829sec] fit F\n"
          ],
          "name": "stderr"
        },
        {
          "output_type": "stream",
          "text": [
            "fold 9: mean position error 2.700825708325351\n",
            "*+*+*+*+*+*+*+*+*+*+*+*+*+*+*+*+*+*+*+*+*+*+*+*+*+*+*+*+*+*+*+*+*+*+*+*+*+*+*+*+\n",
            "file #5, shape=(4251, 404), name=5d27099f03f801723c32511d_500_train.csv\n",
            "mean position error 2.729377285983687\n",
            "*+*+*+*+*+*+*+*+*+*+*+*+*+*+*+*+*+*+*+*+*+*+*+*+*+*+*+*+*+*+*+*+*+*+*+*+*+*+*+*+\n"
          ],
          "name": "stdout"
        },
        {
          "output_type": "stream",
          "text": [
            "[4.6GB(+0.0GB): 1.174sec] fit X\n",
            "[4.6GB(+0.0GB): 1.490sec] fit Y\n",
            "[4.6GB(+0.0GB): 0.574sec] fit F\n"
          ],
          "name": "stderr"
        },
        {
          "output_type": "stream",
          "text": [
            "fold 0: mean position error 3.2921476471872255\n"
          ],
          "name": "stdout"
        },
        {
          "output_type": "stream",
          "text": [
            "[4.6GB(+0.0GB): 2.400sec] fit X\n",
            "[4.6GB(+0.0GB): 1.347sec] fit Y\n",
            "[4.6GB(+0.0GB): 0.755sec] fit F\n"
          ],
          "name": "stderr"
        },
        {
          "output_type": "stream",
          "text": [
            "fold 1: mean position error 3.3838689667559723\n"
          ],
          "name": "stdout"
        },
        {
          "output_type": "stream",
          "text": [
            "[4.6GB(+0.0GB): 1.586sec] fit X\n",
            "[4.6GB(+0.0GB): 1.138sec] fit Y\n",
            "[4.6GB(+0.0GB): 0.693sec] fit F\n"
          ],
          "name": "stderr"
        },
        {
          "output_type": "stream",
          "text": [
            "fold 2: mean position error 3.201480091891344\n"
          ],
          "name": "stdout"
        },
        {
          "output_type": "stream",
          "text": [
            "[4.6GB(+0.0GB): 0.973sec] fit X\n",
            "[4.6GB(+0.0GB): 1.613sec] fit Y\n",
            "[4.6GB(+0.0GB): 0.778sec] fit F\n"
          ],
          "name": "stderr"
        },
        {
          "output_type": "stream",
          "text": [
            "fold 3: mean position error 3.310301142539052\n"
          ],
          "name": "stdout"
        },
        {
          "output_type": "stream",
          "text": [
            "[4.6GB(+0.0GB): 1.005sec] fit X\n",
            "[4.6GB(+0.0GB): 1.566sec] fit Y\n",
            "[4.6GB(+0.0GB): 0.797sec] fit F\n"
          ],
          "name": "stderr"
        },
        {
          "output_type": "stream",
          "text": [
            "fold 4: mean position error 3.827759511107779\n"
          ],
          "name": "stdout"
        },
        {
          "output_type": "stream",
          "text": [
            "[4.6GB(+0.0GB): 0.686sec] fit X\n",
            "[4.6GB(+0.0GB): 1.188sec] fit Y\n",
            "[4.6GB(+0.0GB): 0.683sec] fit F\n"
          ],
          "name": "stderr"
        },
        {
          "output_type": "stream",
          "text": [
            "fold 5: mean position error 3.3929679392581242\n"
          ],
          "name": "stdout"
        },
        {
          "output_type": "stream",
          "text": [
            "[4.6GB(+0.0GB): 1.707sec] fit X\n",
            "[4.6GB(+0.0GB): 1.329sec] fit Y\n",
            "[4.6GB(+0.0GB): 0.702sec] fit F\n"
          ],
          "name": "stderr"
        },
        {
          "output_type": "stream",
          "text": [
            "fold 6: mean position error 3.2423948209902766\n"
          ],
          "name": "stdout"
        },
        {
          "output_type": "stream",
          "text": [
            "[4.6GB(+0.0GB): 0.973sec] fit X\n",
            "[4.6GB(+0.0GB): 1.109sec] fit Y\n",
            "[4.6GB(+0.0GB): 0.730sec] fit F\n"
          ],
          "name": "stderr"
        },
        {
          "output_type": "stream",
          "text": [
            "fold 7: mean position error 3.9171721921195397\n"
          ],
          "name": "stdout"
        },
        {
          "output_type": "stream",
          "text": [
            "[4.6GB(+0.0GB): 1.557sec] fit X\n",
            "[4.6GB(+0.0GB): 1.220sec] fit Y\n",
            "[4.6GB(+0.0GB): 0.691sec] fit F\n"
          ],
          "name": "stderr"
        },
        {
          "output_type": "stream",
          "text": [
            "fold 8: mean position error 3.2360291218177744\n"
          ],
          "name": "stdout"
        },
        {
          "output_type": "stream",
          "text": [
            "[4.6GB(+0.0GB): 1.225sec] fit X\n",
            "[4.6GB(+0.0GB): 1.549sec] fit Y\n",
            "[4.6GB(+0.0GB): 0.694sec] fit F\n"
          ],
          "name": "stderr"
        },
        {
          "output_type": "stream",
          "text": [
            "fold 9: mean position error 3.482021745076479\n",
            "*+*+*+*+*+*+*+*+*+*+*+*+*+*+*+*+*+*+*+*+*+*+*+*+*+*+*+*+*+*+*+*+*+*+*+*+*+*+*+*+\n",
            "file #6, shape=(3940, 361), name=5d2709a003f801723c3251bf_500_train.csv\n",
            "mean position error 3.428614317874356\n",
            "*+*+*+*+*+*+*+*+*+*+*+*+*+*+*+*+*+*+*+*+*+*+*+*+*+*+*+*+*+*+*+*+*+*+*+*+*+*+*+*+\n"
          ],
          "name": "stdout"
        },
        {
          "output_type": "stream",
          "text": [
            "[4.6GB(+0.0GB): 9.442sec] fit X\n",
            "[4.6GB(+0.0GB): 12.389sec] fit Y\n",
            "[4.6GB(+0.0GB): 8.459sec] fit F\n"
          ],
          "name": "stderr"
        },
        {
          "output_type": "stream",
          "text": [
            "fold 0: mean position error 3.46150268000896\n"
          ],
          "name": "stdout"
        },
        {
          "output_type": "stream",
          "text": [
            "[4.6GB(+0.0GB): 6.951sec] fit X\n",
            "[4.6GB(+0.0GB): 11.560sec] fit Y\n",
            "[4.6GB(+0.0GB): 9.728sec] fit F\n"
          ],
          "name": "stderr"
        },
        {
          "output_type": "stream",
          "text": [
            "fold 1: mean position error 3.4394918677840884\n"
          ],
          "name": "stdout"
        },
        {
          "output_type": "stream",
          "text": [
            "[4.6GB(+0.0GB): 8.555sec] fit X\n",
            "[4.6GB(+0.0GB): 10.729sec] fit Y\n",
            "[4.6GB(+0.0GB): 9.310sec] fit F\n"
          ],
          "name": "stderr"
        },
        {
          "output_type": "stream",
          "text": [
            "fold 2: mean position error 3.433846130123168\n"
          ],
          "name": "stdout"
        },
        {
          "output_type": "stream",
          "text": [
            "[4.6GB(+0.0GB): 5.565sec] fit X\n",
            "[4.6GB(+0.0GB): 12.040sec] fit Y\n",
            "[4.6GB(+0.0GB): 10.177sec] fit F\n"
          ],
          "name": "stderr"
        },
        {
          "output_type": "stream",
          "text": [
            "fold 3: mean position error 3.908381956491894\n"
          ],
          "name": "stdout"
        },
        {
          "output_type": "stream",
          "text": [
            "[4.6GB(+0.0GB): 9.263sec] fit X\n",
            "[4.6GB(+0.0GB): 13.916sec] fit Y\n",
            "[4.6GB(+0.0GB): 7.235sec] fit F\n"
          ],
          "name": "stderr"
        },
        {
          "output_type": "stream",
          "text": [
            "fold 4: mean position error 3.4048650640798344\n"
          ],
          "name": "stdout"
        },
        {
          "output_type": "stream",
          "text": [
            "[4.6GB(+0.0GB): 12.847sec] fit X\n",
            "[4.6GB(+0.0GB): 7.429sec] fit Y\n",
            "[4.6GB(+0.0GB): 8.263sec] fit F\n"
          ],
          "name": "stderr"
        },
        {
          "output_type": "stream",
          "text": [
            "fold 5: mean position error 3.4848351742936394\n"
          ],
          "name": "stdout"
        },
        {
          "output_type": "stream",
          "text": [
            "[4.6GB(+0.0GB): 10.396sec] fit X\n",
            "[4.6GB(+0.0GB): 11.651sec] fit Y\n",
            "[4.6GB(+0.0GB): 11.182sec] fit F\n"
          ],
          "name": "stderr"
        },
        {
          "output_type": "stream",
          "text": [
            "fold 6: mean position error 3.4757102220813763\n"
          ],
          "name": "stdout"
        },
        {
          "output_type": "stream",
          "text": [
            "[4.6GB(+0.0GB): 12.474sec] fit X\n",
            "[4.6GB(+0.0GB): 8.761sec] fit Y\n",
            "[4.6GB(+0.0GB): 8.005sec] fit F\n"
          ],
          "name": "stderr"
        },
        {
          "output_type": "stream",
          "text": [
            "fold 7: mean position error 3.3758957516508388\n"
          ],
          "name": "stdout"
        },
        {
          "output_type": "stream",
          "text": [
            "[4.6GB(+0.0GB): 11.582sec] fit X\n",
            "[4.6GB(+0.0GB): 8.741sec] fit Y\n",
            "[4.6GB(+0.0GB): 7.273sec] fit F\n"
          ],
          "name": "stderr"
        },
        {
          "output_type": "stream",
          "text": [
            "fold 8: mean position error 3.4637824665990733\n"
          ],
          "name": "stdout"
        },
        {
          "output_type": "stream",
          "text": [
            "[4.6GB(+0.0GB): 12.339sec] fit X\n",
            "[4.6GB(+0.0GB): 7.654sec] fit Y\n",
            "[4.6GB(+0.0GB): 9.639sec] fit F\n"
          ],
          "name": "stderr"
        },
        {
          "output_type": "stream",
          "text": [
            "fold 9: mean position error 3.1382989695991537\n",
            "*+*+*+*+*+*+*+*+*+*+*+*+*+*+*+*+*+*+*+*+*+*+*+*+*+*+*+*+*+*+*+*+*+*+*+*+*+*+*+*+\n",
            "file #7, shape=(15358, 758), name=5d2709b303f801723c327472_500_train.csv\n",
            "mean position error 3.4586815544217657\n",
            "*+*+*+*+*+*+*+*+*+*+*+*+*+*+*+*+*+*+*+*+*+*+*+*+*+*+*+*+*+*+*+*+*+*+*+*+*+*+*+*+\n"
          ],
          "name": "stdout"
        },
        {
          "output_type": "stream",
          "text": [
            "[4.6GB(+0.0GB): 15.761sec] fit X\n",
            "[4.6GB(+0.0GB): 17.998sec] fit Y\n",
            "[4.6GB(+0.0GB): 9.043sec] fit F\n"
          ],
          "name": "stderr"
        },
        {
          "output_type": "stream",
          "text": [
            "fold 0: mean position error 3.935737476603957\n"
          ],
          "name": "stdout"
        },
        {
          "output_type": "stream",
          "text": [
            "[4.6GB(+0.0GB): 24.709sec] fit X\n",
            "[4.6GB(+0.0GB): 27.182sec] fit Y\n",
            "[4.6GB(+0.0GB): 9.303sec] fit F\n"
          ],
          "name": "stderr"
        },
        {
          "output_type": "stream",
          "text": [
            "fold 1: mean position error 3.982693911003263\n"
          ],
          "name": "stdout"
        },
        {
          "output_type": "stream",
          "text": [
            "[4.6GB(+0.0GB): 13.827sec] fit X\n",
            "[4.6GB(+0.0GB): 13.648sec] fit Y\n",
            "[4.6GB(+0.0GB): 10.369sec] fit F\n"
          ],
          "name": "stderr"
        },
        {
          "output_type": "stream",
          "text": [
            "fold 2: mean position error 4.031976633489594\n"
          ],
          "name": "stdout"
        },
        {
          "output_type": "stream",
          "text": [
            "[4.6GB(+0.0GB): 18.488sec] fit X\n",
            "[4.6GB(+0.0GB): 13.590sec] fit Y\n",
            "[4.6GB(+0.0GB): 9.513sec] fit F\n"
          ],
          "name": "stderr"
        },
        {
          "output_type": "stream",
          "text": [
            "fold 3: mean position error 3.856193974774131\n"
          ],
          "name": "stdout"
        },
        {
          "output_type": "stream",
          "text": [
            "[4.6GB(+0.0GB): 16.364sec] fit X\n",
            "[4.6GB(+0.0GB): 19.981sec] fit Y\n",
            "[4.6GB(+0.0GB): 10.511sec] fit F\n"
          ],
          "name": "stderr"
        },
        {
          "output_type": "stream",
          "text": [
            "fold 4: mean position error 3.937589887011732\n"
          ],
          "name": "stdout"
        },
        {
          "output_type": "stream",
          "text": [
            "[4.6GB(+0.0GB): 25.158sec] fit X\n",
            "[4.6GB(+0.0GB): 17.901sec] fit Y\n",
            "[4.6GB(+0.0GB): 10.473sec] fit F\n"
          ],
          "name": "stderr"
        },
        {
          "output_type": "stream",
          "text": [
            "fold 5: mean position error 3.829415201885185\n"
          ],
          "name": "stdout"
        },
        {
          "output_type": "stream",
          "text": [
            "[4.6GB(+0.0GB): 24.296sec] fit X\n",
            "[4.6GB(+0.0GB): 18.842sec] fit Y\n",
            "[4.6GB(+0.0GB): 11.041sec] fit F\n"
          ],
          "name": "stderr"
        },
        {
          "output_type": "stream",
          "text": [
            "fold 6: mean position error 3.962204875677641\n"
          ],
          "name": "stdout"
        },
        {
          "output_type": "stream",
          "text": [
            "[4.6GB(+0.0GB): 20.286sec] fit X\n",
            "[4.6GB(+0.0GB): 20.030sec] fit Y\n",
            "[4.6GB(+0.0GB): 8.708sec] fit F\n"
          ],
          "name": "stderr"
        },
        {
          "output_type": "stream",
          "text": [
            "fold 7: mean position error 3.9924073064841754\n"
          ],
          "name": "stdout"
        },
        {
          "output_type": "stream",
          "text": [
            "[4.6GB(+0.0GB): 23.946sec] fit X\n",
            "[4.6GB(+0.0GB): 25.808sec] fit Y\n",
            "[4.6GB(+0.0GB): 9.055sec] fit F\n"
          ],
          "name": "stderr"
        },
        {
          "output_type": "stream",
          "text": [
            "fold 8: mean position error 4.027077173398024\n"
          ],
          "name": "stdout"
        },
        {
          "output_type": "stream",
          "text": [
            "[4.6GB(+0.0GB): 33.132sec] fit X\n",
            "[4.6GB(+0.0GB): 21.903sec] fit Y\n",
            "[4.6GB(+0.0GB): 10.863sec] fit F\n"
          ],
          "name": "stderr"
        },
        {
          "output_type": "stream",
          "text": [
            "fold 9: mean position error 3.8097039368916\n",
            "*+*+*+*+*+*+*+*+*+*+*+*+*+*+*+*+*+*+*+*+*+*+*+*+*+*+*+*+*+*+*+*+*+*+*+*+*+*+*+*+\n",
            "file #8, shape=(17203, 1229), name=5d2709bb03f801723c32852c_500_train.csv\n",
            "mean position error 3.936508228613515\n",
            "*+*+*+*+*+*+*+*+*+*+*+*+*+*+*+*+*+*+*+*+*+*+*+*+*+*+*+*+*+*+*+*+*+*+*+*+*+*+*+*+\n"
          ],
          "name": "stdout"
        },
        {
          "output_type": "stream",
          "text": [
            "[4.6GB(+0.0GB): 16.770sec] fit X\n",
            "[4.6GB(+0.0GB): 20.009sec] fit Y\n",
            "[4.6GB(+0.0GB): 18.815sec] fit F\n"
          ],
          "name": "stderr"
        },
        {
          "output_type": "stream",
          "text": [
            "fold 0: mean position error 3.5457415754572006\n"
          ],
          "name": "stdout"
        },
        {
          "output_type": "stream",
          "text": [
            "[4.6GB(+0.0GB): 16.864sec] fit X\n",
            "[4.6GB(+0.0GB): 16.826sec] fit Y\n",
            "[4.6GB(+0.0GB): 14.017sec] fit F\n"
          ],
          "name": "stderr"
        },
        {
          "output_type": "stream",
          "text": [
            "fold 1: mean position error 3.6416389572133996\n"
          ],
          "name": "stdout"
        },
        {
          "output_type": "stream",
          "text": [
            "[4.6GB(+0.0GB): 14.798sec] fit X\n",
            "[4.6GB(+0.0GB): 20.380sec] fit Y\n",
            "[4.6GB(+0.0GB): 16.037sec] fit F\n"
          ],
          "name": "stderr"
        },
        {
          "output_type": "stream",
          "text": [
            "fold 2: mean position error 3.4949770649160925\n"
          ],
          "name": "stdout"
        },
        {
          "output_type": "stream",
          "text": [
            "[4.6GB(+0.0GB): 22.649sec] fit X\n",
            "[4.6GB(+0.0GB): 22.506sec] fit Y\n",
            "[4.6GB(+0.0GB): 14.683sec] fit F\n"
          ],
          "name": "stderr"
        },
        {
          "output_type": "stream",
          "text": [
            "fold 3: mean position error 3.5094287251852263\n"
          ],
          "name": "stdout"
        },
        {
          "output_type": "stream",
          "text": [
            "[4.6GB(+0.0GB): 20.670sec] fit X\n",
            "[4.6GB(+0.0GB): 20.724sec] fit Y\n",
            "[4.6GB(+0.0GB): 15.553sec] fit F\n"
          ],
          "name": "stderr"
        },
        {
          "output_type": "stream",
          "text": [
            "fold 4: mean position error 3.487942281972221\n"
          ],
          "name": "stdout"
        },
        {
          "output_type": "stream",
          "text": [
            "[4.6GB(+0.0GB): 25.592sec] fit X\n",
            "[4.6GB(+0.0GB): 20.854sec] fit Y\n",
            "[4.6GB(+0.0GB): 15.174sec] fit F\n"
          ],
          "name": "stderr"
        },
        {
          "output_type": "stream",
          "text": [
            "fold 5: mean position error 3.5021262303891207\n"
          ],
          "name": "stdout"
        },
        {
          "output_type": "stream",
          "text": [
            "[4.6GB(+0.0GB): 18.882sec] fit X\n",
            "[4.6GB(+0.0GB): 20.416sec] fit Y\n",
            "[4.6GB(+0.0GB): 13.393sec] fit F\n"
          ],
          "name": "stderr"
        },
        {
          "output_type": "stream",
          "text": [
            "fold 6: mean position error 3.684444070511534\n"
          ],
          "name": "stdout"
        },
        {
          "output_type": "stream",
          "text": [
            "[4.6GB(-0.0GB): 20.697sec] fit X\n",
            "[4.6GB(+0.0GB): 22.948sec] fit Y\n",
            "[4.6GB(+0.0GB): 13.434sec] fit F\n"
          ],
          "name": "stderr"
        },
        {
          "output_type": "stream",
          "text": [
            "fold 7: mean position error 3.552579992007554\n"
          ],
          "name": "stdout"
        },
        {
          "output_type": "stream",
          "text": [
            "[4.6GB(+0.0GB): 17.635sec] fit X\n",
            "[4.6GB(+0.0GB): 23.905sec] fit Y\n",
            "[4.6GB(+0.0GB): 15.928sec] fit F\n"
          ],
          "name": "stderr"
        },
        {
          "output_type": "stream",
          "text": [
            "fold 8: mean position error 3.490124824094276\n"
          ],
          "name": "stdout"
        },
        {
          "output_type": "stream",
          "text": [
            "[4.6GB(+0.0GB): 20.395sec] fit X\n",
            "[4.6GB(+0.0GB): 16.695sec] fit Y\n",
            "[4.6GB(+0.0GB): 15.044sec] fit F\n"
          ],
          "name": "stderr"
        },
        {
          "output_type": "stream",
          "text": [
            "fold 9: mean position error 3.576655532223193\n",
            "*+*+*+*+*+*+*+*+*+*+*+*+*+*+*+*+*+*+*+*+*+*+*+*+*+*+*+*+*+*+*+*+*+*+*+*+*+*+*+*+\n",
            "file #9, shape=(10083, 2189), name=5d2709c303f801723c3299ee_500_train.csv\n",
            "mean position error 3.54856956120194\n",
            "*+*+*+*+*+*+*+*+*+*+*+*+*+*+*+*+*+*+*+*+*+*+*+*+*+*+*+*+*+*+*+*+*+*+*+*+*+*+*+*+\n"
          ],
          "name": "stdout"
        },
        {
          "output_type": "stream",
          "text": [
            "[4.6GB(+0.0GB): 5.739sec] fit X\n",
            "[4.6GB(+0.0GB): 5.596sec] fit Y\n",
            "[4.6GB(+0.0GB): 2.122sec] fit F\n"
          ],
          "name": "stderr"
        },
        {
          "output_type": "stream",
          "text": [
            "fold 0: mean position error 2.9321156859099915\n"
          ],
          "name": "stdout"
        },
        {
          "output_type": "stream",
          "text": [
            "[4.6GB(+0.0GB): 6.446sec] fit X\n",
            "[4.6GB(+0.0GB): 6.140sec] fit Y\n",
            "[4.6GB(+0.0GB): 2.405sec] fit F\n"
          ],
          "name": "stderr"
        },
        {
          "output_type": "stream",
          "text": [
            "fold 1: mean position error 2.864548887292095\n"
          ],
          "name": "stdout"
        },
        {
          "output_type": "stream",
          "text": [
            "[4.6GB(+0.0GB): 6.363sec] fit X\n",
            "[4.6GB(+0.0GB): 7.895sec] fit Y\n",
            "[4.6GB(+0.0GB): 2.075sec] fit F\n"
          ],
          "name": "stderr"
        },
        {
          "output_type": "stream",
          "text": [
            "fold 2: mean position error 2.8178335123179292\n"
          ],
          "name": "stdout"
        },
        {
          "output_type": "stream",
          "text": [
            "[4.6GB(+0.0GB): 5.347sec] fit X\n",
            "[4.6GB(+0.0GB): 6.156sec] fit Y\n",
            "[4.6GB(+0.0GB): 2.192sec] fit F\n"
          ],
          "name": "stderr"
        },
        {
          "output_type": "stream",
          "text": [
            "fold 3: mean position error 2.8776937674619694\n"
          ],
          "name": "stdout"
        },
        {
          "output_type": "stream",
          "text": [
            "[4.6GB(+0.0GB): 5.513sec] fit X\n",
            "[4.6GB(+0.0GB): 5.987sec] fit Y\n",
            "[4.6GB(+0.0GB): 2.279sec] fit F\n"
          ],
          "name": "stderr"
        },
        {
          "output_type": "stream",
          "text": [
            "fold 4: mean position error 2.863881724371686\n"
          ],
          "name": "stdout"
        },
        {
          "output_type": "stream",
          "text": [
            "[4.6GB(+0.0GB): 5.148sec] fit X\n",
            "[4.6GB(+0.0GB): 5.817sec] fit Y\n",
            "[4.6GB(+0.0GB): 2.323sec] fit F\n"
          ],
          "name": "stderr"
        },
        {
          "output_type": "stream",
          "text": [
            "fold 5: mean position error 2.8631782029493333\n"
          ],
          "name": "stdout"
        },
        {
          "output_type": "stream",
          "text": [
            "[4.6GB(+0.0GB): 6.092sec] fit X\n",
            "[4.6GB(+0.0GB): 4.777sec] fit Y\n",
            "[4.6GB(+0.0GB): 2.176sec] fit F\n"
          ],
          "name": "stderr"
        },
        {
          "output_type": "stream",
          "text": [
            "fold 6: mean position error 2.9630705989016226\n"
          ],
          "name": "stdout"
        },
        {
          "output_type": "stream",
          "text": [
            "[4.6GB(+0.0GB): 6.796sec] fit X\n",
            "[4.6GB(+0.0GB): 6.121sec] fit Y\n",
            "[4.6GB(+0.0GB): 2.160sec] fit F\n"
          ],
          "name": "stderr"
        },
        {
          "output_type": "stream",
          "text": [
            "fold 7: mean position error 2.798710914877008\n"
          ],
          "name": "stdout"
        },
        {
          "output_type": "stream",
          "text": [
            "[4.6GB(+0.0GB): 5.816sec] fit X\n",
            "[4.6GB(+0.0GB): 4.537sec] fit Y\n",
            "[4.6GB(+0.0GB): 2.358sec] fit F\n"
          ],
          "name": "stderr"
        },
        {
          "output_type": "stream",
          "text": [
            "fold 8: mean position error 2.883815150647858\n"
          ],
          "name": "stdout"
        },
        {
          "output_type": "stream",
          "text": [
            "[4.6GB(+0.0GB): 6.418sec] fit X\n",
            "[4.6GB(+0.0GB): 6.507sec] fit Y\n",
            "[4.6GB(+0.0GB): 2.168sec] fit F\n"
          ],
          "name": "stderr"
        },
        {
          "output_type": "stream",
          "text": [
            "fold 9: mean position error 2.677542507365663\n",
            "*+*+*+*+*+*+*+*+*+*+*+*+*+*+*+*+*+*+*+*+*+*+*+*+*+*+*+*+*+*+*+*+*+*+*+*+*+*+*+*+\n",
            "file #10, shape=(10027, 568), name=5d2709d403f801723c32bd39_500_train.csv\n",
            "mean position error 2.8542593055129704\n",
            "*+*+*+*+*+*+*+*+*+*+*+*+*+*+*+*+*+*+*+*+*+*+*+*+*+*+*+*+*+*+*+*+*+*+*+*+*+*+*+*+\n"
          ],
          "name": "stdout"
        },
        {
          "output_type": "stream",
          "text": [
            "[4.6GB(+0.0GB): 7.983sec] fit X\n",
            "[4.6GB(+0.0GB): 7.093sec] fit Y\n",
            "[4.6GB(+0.0GB): 4.400sec] fit F\n"
          ],
          "name": "stderr"
        },
        {
          "output_type": "stream",
          "text": [
            "fold 0: mean position error 3.0875996404128854\n"
          ],
          "name": "stdout"
        },
        {
          "output_type": "stream",
          "text": [
            "[4.6GB(+0.0GB): 5.612sec] fit X\n",
            "[4.6GB(+0.0GB): 6.803sec] fit Y\n",
            "[4.6GB(+0.0GB): 4.501sec] fit F\n"
          ],
          "name": "stderr"
        },
        {
          "output_type": "stream",
          "text": [
            "fold 1: mean position error 3.0646314406539505\n"
          ],
          "name": "stdout"
        },
        {
          "output_type": "stream",
          "text": [
            "[4.6GB(+0.0GB): 6.098sec] fit X\n",
            "[4.6GB(+0.0GB): 7.509sec] fit Y\n",
            "[4.6GB(+0.0GB): 4.354sec] fit F\n"
          ],
          "name": "stderr"
        },
        {
          "output_type": "stream",
          "text": [
            "fold 2: mean position error 3.0907755330988977\n"
          ],
          "name": "stdout"
        },
        {
          "output_type": "stream",
          "text": [
            "[4.6GB(+0.0GB): 7.252sec] fit X\n",
            "[4.6GB(+0.0GB): 5.261sec] fit Y\n",
            "[4.6GB(+0.0GB): 3.999sec] fit F\n"
          ],
          "name": "stderr"
        },
        {
          "output_type": "stream",
          "text": [
            "fold 3: mean position error 3.4221791794040457\n"
          ],
          "name": "stdout"
        },
        {
          "output_type": "stream",
          "text": [
            "[4.6GB(+0.0GB): 7.553sec] fit X\n",
            "[4.6GB(+0.0GB): 6.283sec] fit Y\n",
            "[4.6GB(+0.0GB): 3.971sec] fit F\n"
          ],
          "name": "stderr"
        },
        {
          "output_type": "stream",
          "text": [
            "fold 4: mean position error 2.977066016547591\n"
          ],
          "name": "stdout"
        },
        {
          "output_type": "stream",
          "text": [
            "[4.6GB(+0.0GB): 6.507sec] fit X\n",
            "[4.6GB(+0.0GB): 7.944sec] fit Y\n",
            "[4.6GB(+0.0GB): 3.568sec] fit F\n"
          ],
          "name": "stderr"
        },
        {
          "output_type": "stream",
          "text": [
            "fold 5: mean position error 3.115610150415199\n"
          ],
          "name": "stdout"
        },
        {
          "output_type": "stream",
          "text": [
            "[4.6GB(+0.0GB): 6.007sec] fit X\n",
            "[4.6GB(+0.0GB): 8.194sec] fit Y\n",
            "[4.6GB(+0.0GB): 5.030sec] fit F\n"
          ],
          "name": "stderr"
        },
        {
          "output_type": "stream",
          "text": [
            "fold 6: mean position error 3.1450970441411856\n"
          ],
          "name": "stdout"
        },
        {
          "output_type": "stream",
          "text": [
            "[4.6GB(+0.0GB): 6.071sec] fit X\n",
            "[4.6GB(+0.0GB): 5.431sec] fit Y\n",
            "[4.6GB(+0.0GB): 3.798sec] fit F\n"
          ],
          "name": "stderr"
        },
        {
          "output_type": "stream",
          "text": [
            "fold 7: mean position error 3.252651711864607\n"
          ],
          "name": "stdout"
        },
        {
          "output_type": "stream",
          "text": [
            "[4.6GB(+0.0GB): 4.218sec] fit X\n",
            "[4.6GB(+0.0GB): 6.381sec] fit Y\n",
            "[4.6GB(+0.0GB): 4.047sec] fit F\n"
          ],
          "name": "stderr"
        },
        {
          "output_type": "stream",
          "text": [
            "fold 8: mean position error 3.255785383067484\n"
          ],
          "name": "stdout"
        },
        {
          "output_type": "stream",
          "text": [
            "[4.6GB(+0.0GB): 7.693sec] fit X\n",
            "[4.6GB(+0.0GB): 6.428sec] fit Y\n",
            "[4.6GB(+0.0GB): 4.496sec] fit F\n"
          ],
          "name": "stderr"
        },
        {
          "output_type": "stream",
          "text": [
            "fold 9: mean position error 3.0573986606343304\n",
            "*+*+*+*+*+*+*+*+*+*+*+*+*+*+*+*+*+*+*+*+*+*+*+*+*+*+*+*+*+*+*+*+*+*+*+*+*+*+*+*+\n",
            "file #11, shape=(11042, 519), name=5d2709e003f801723c32d896_500_train.csv\n",
            "mean position error 3.146866658792449\n",
            "*+*+*+*+*+*+*+*+*+*+*+*+*+*+*+*+*+*+*+*+*+*+*+*+*+*+*+*+*+*+*+*+*+*+*+*+*+*+*+*+\n"
          ],
          "name": "stdout"
        },
        {
          "output_type": "stream",
          "text": [
            "[4.6GB(+0.0GB): 0.303sec] fit X\n",
            "[4.6GB(+0.0GB): 0.573sec] fit Y\n",
            "[4.6GB(+0.0GB): 0.190sec] fit F\n"
          ],
          "name": "stderr"
        },
        {
          "output_type": "stream",
          "text": [
            "fold 0: mean position error 3.4184295563637876\n"
          ],
          "name": "stdout"
        },
        {
          "output_type": "stream",
          "text": [
            "[4.6GB(+0.0GB): 0.597sec] fit X\n",
            "[4.6GB(+0.0GB): 0.595sec] fit Y\n",
            "[4.6GB(+0.0GB): 0.183sec] fit F\n"
          ],
          "name": "stderr"
        },
        {
          "output_type": "stream",
          "text": [
            "fold 1: mean position error 3.4378682779371257\n"
          ],
          "name": "stdout"
        },
        {
          "output_type": "stream",
          "text": [
            "[4.6GB(+0.0GB): 0.557sec] fit X\n",
            "[4.6GB(+0.0GB): 0.414sec] fit Y\n",
            "[4.6GB(+0.0GB): 0.192sec] fit F\n"
          ],
          "name": "stderr"
        },
        {
          "output_type": "stream",
          "text": [
            "fold 2: mean position error 3.746380159544597\n"
          ],
          "name": "stdout"
        },
        {
          "output_type": "stream",
          "text": [
            "[4.6GB(+0.0GB): 0.597sec] fit X\n",
            "[4.6GB(+0.0GB): 0.515sec] fit Y\n",
            "[4.6GB(+0.0GB): 0.229sec] fit F\n"
          ],
          "name": "stderr"
        },
        {
          "output_type": "stream",
          "text": [
            "fold 3: mean position error 3.8836760238825256\n"
          ],
          "name": "stdout"
        },
        {
          "output_type": "stream",
          "text": [
            "[4.6GB(+0.0GB): 0.536sec] fit X\n",
            "[4.6GB(+0.0GB): 0.599sec] fit Y\n",
            "[4.6GB(+0.0GB): 0.180sec] fit F\n"
          ],
          "name": "stderr"
        },
        {
          "output_type": "stream",
          "text": [
            "fold 4: mean position error 3.503042157960556\n"
          ],
          "name": "stdout"
        },
        {
          "output_type": "stream",
          "text": [
            "[4.6GB(+0.0GB): 0.522sec] fit X\n",
            "[4.6GB(+0.0GB): 0.470sec] fit Y\n",
            "[4.6GB(+0.0GB): 0.214sec] fit F\n"
          ],
          "name": "stderr"
        },
        {
          "output_type": "stream",
          "text": [
            "fold 5: mean position error 3.5475712893300457\n"
          ],
          "name": "stdout"
        },
        {
          "output_type": "stream",
          "text": [
            "[4.6GB(+0.0GB): 0.876sec] fit X\n",
            "[4.6GB(+0.0GB): 0.455sec] fit Y\n",
            "[4.6GB(+0.0GB): 0.245sec] fit F\n"
          ],
          "name": "stderr"
        },
        {
          "output_type": "stream",
          "text": [
            "fold 6: mean position error 3.7304105364990945\n"
          ],
          "name": "stdout"
        },
        {
          "output_type": "stream",
          "text": [
            "[4.6GB(+0.0GB): 0.520sec] fit X\n",
            "[4.6GB(+0.0GB): 0.524sec] fit Y\n",
            "[4.6GB(+0.0GB): 0.210sec] fit F\n"
          ],
          "name": "stderr"
        },
        {
          "output_type": "stream",
          "text": [
            "fold 7: mean position error 3.77546687347001\n"
          ],
          "name": "stdout"
        },
        {
          "output_type": "stream",
          "text": [
            "[4.6GB(+0.0GB): 0.628sec] fit X\n",
            "[4.6GB(+0.0GB): 0.767sec] fit Y\n",
            "[4.6GB(+0.0GB): 0.212sec] fit F\n"
          ],
          "name": "stderr"
        },
        {
          "output_type": "stream",
          "text": [
            "fold 8: mean position error 3.7104588838125525\n"
          ],
          "name": "stdout"
        },
        {
          "output_type": "stream",
          "text": [
            "[4.6GB(+0.0GB): 0.749sec] fit X\n",
            "[4.6GB(+0.0GB): 0.594sec] fit Y\n",
            "[4.6GB(+0.0GB): 0.206sec] fit F\n"
          ],
          "name": "stderr"
        },
        {
          "output_type": "stream",
          "text": [
            "fold 9: mean position error 3.4332601787250443\n",
            "*+*+*+*+*+*+*+*+*+*+*+*+*+*+*+*+*+*+*+*+*+*+*+*+*+*+*+*+*+*+*+*+*+*+*+*+*+*+*+*+\n",
            "file #12, shape=(2662, 108), name=5da138274db8ce0c98bbd3d2_500_train.csv\n",
            "mean position error 3.6185132626656804\n",
            "*+*+*+*+*+*+*+*+*+*+*+*+*+*+*+*+*+*+*+*+*+*+*+*+*+*+*+*+*+*+*+*+*+*+*+*+*+*+*+*+\n"
          ],
          "name": "stdout"
        },
        {
          "output_type": "stream",
          "text": [
            "[4.6GB(+0.0GB): 8.271sec] fit X\n",
            "[4.6GB(+0.0GB): 8.393sec] fit Y\n",
            "[4.6GB(+0.0GB): 8.279sec] fit F\n"
          ],
          "name": "stderr"
        },
        {
          "output_type": "stream",
          "text": [
            "fold 0: mean position error 3.9533312815997923\n"
          ],
          "name": "stdout"
        },
        {
          "output_type": "stream",
          "text": [
            "[4.6GB(+0.0GB): 11.012sec] fit X\n",
            "[4.6GB(+0.0GB): 15.849sec] fit Y\n",
            "[4.6GB(+0.0GB): 8.049sec] fit F\n"
          ],
          "name": "stderr"
        },
        {
          "output_type": "stream",
          "text": [
            "fold 1: mean position error 4.010108261611451\n"
          ],
          "name": "stdout"
        },
        {
          "output_type": "stream",
          "text": [
            "[4.6GB(+0.0GB): 9.748sec] fit X\n",
            "[4.6GB(+0.0GB): 15.227sec] fit Y\n",
            "[4.6GB(+0.0GB): 7.030sec] fit F\n"
          ],
          "name": "stderr"
        },
        {
          "output_type": "stream",
          "text": [
            "fold 2: mean position error 4.095375240916127\n"
          ],
          "name": "stdout"
        },
        {
          "output_type": "stream",
          "text": [
            "[4.6GB(+0.0GB): 11.188sec] fit X\n",
            "[4.6GB(+0.0GB): 7.607sec] fit Y\n",
            "[4.6GB(+0.0GB): 8.231sec] fit F\n"
          ],
          "name": "stderr"
        },
        {
          "output_type": "stream",
          "text": [
            "fold 3: mean position error 3.8434297046882016\n"
          ],
          "name": "stdout"
        },
        {
          "output_type": "stream",
          "text": [
            "[4.6GB(+0.0GB): 7.477sec] fit X\n",
            "[4.6GB(+0.0GB): 7.428sec] fit Y\n",
            "[4.6GB(+0.0GB): 8.123sec] fit F\n"
          ],
          "name": "stderr"
        },
        {
          "output_type": "stream",
          "text": [
            "fold 4: mean position error 3.8497988152723033\n"
          ],
          "name": "stdout"
        },
        {
          "output_type": "stream",
          "text": [
            "[4.6GB(+0.0GB): 9.782sec] fit X\n",
            "[4.6GB(+0.0GB): 7.801sec] fit Y\n",
            "[4.6GB(+0.0GB): 7.402sec] fit F\n"
          ],
          "name": "stderr"
        },
        {
          "output_type": "stream",
          "text": [
            "fold 5: mean position error 3.9790460618704837\n"
          ],
          "name": "stdout"
        },
        {
          "output_type": "stream",
          "text": [
            "[4.6GB(+0.0GB): 7.783sec] fit X\n",
            "[4.6GB(+0.0GB): 11.028sec] fit Y\n",
            "[4.6GB(+0.0GB): 7.522sec] fit F\n"
          ],
          "name": "stderr"
        },
        {
          "output_type": "stream",
          "text": [
            "fold 6: mean position error 3.8822309593136124\n"
          ],
          "name": "stdout"
        },
        {
          "output_type": "stream",
          "text": [
            "[4.6GB(+0.0GB): 10.860sec] fit X\n",
            "[4.6GB(+0.0GB): 11.319sec] fit Y\n",
            "[4.6GB(+0.0GB): 7.851sec] fit F\n"
          ],
          "name": "stderr"
        },
        {
          "output_type": "stream",
          "text": [
            "fold 7: mean position error 3.9433060301881353\n"
          ],
          "name": "stdout"
        },
        {
          "output_type": "stream",
          "text": [
            "[4.6GB(+0.0GB): 7.828sec] fit X\n",
            "[4.6GB(+0.0GB): 9.441sec] fit Y\n",
            "[4.6GB(+0.0GB): 7.287sec] fit F\n"
          ],
          "name": "stderr"
        },
        {
          "output_type": "stream",
          "text": [
            "fold 8: mean position error 3.909359163251443\n"
          ],
          "name": "stdout"
        },
        {
          "output_type": "stream",
          "text": [
            "[4.6GB(+0.0GB): 13.221sec] fit X\n",
            "[4.6GB(+0.0GB): 13.170sec] fit Y\n",
            "[4.6GB(+0.0GB): 8.050sec] fit F\n"
          ],
          "name": "stderr"
        },
        {
          "output_type": "stream",
          "text": [
            "fold 9: mean position error 3.931864445982533\n",
            "*+*+*+*+*+*+*+*+*+*+*+*+*+*+*+*+*+*+*+*+*+*+*+*+*+*+*+*+*+*+*+*+*+*+*+*+*+*+*+*+\n",
            "file #13, shape=(8999, 1357), name=5da1382d4db8ce0c98bbe92e_500_train.csv\n",
            "mean position error 3.9397858766283687\n",
            "*+*+*+*+*+*+*+*+*+*+*+*+*+*+*+*+*+*+*+*+*+*+*+*+*+*+*+*+*+*+*+*+*+*+*+*+*+*+*+*+\n"
          ],
          "name": "stdout"
        },
        {
          "output_type": "stream",
          "text": [
            "[4.6GB(+0.0GB): 8.837sec] fit X\n",
            "[4.6GB(+0.0GB): 4.055sec] fit Y\n",
            "[4.6GB(+0.0GB): 2.806sec] fit F\n"
          ],
          "name": "stderr"
        },
        {
          "output_type": "stream",
          "text": [
            "fold 0: mean position error 2.1147497002333857\n"
          ],
          "name": "stdout"
        },
        {
          "output_type": "stream",
          "text": [
            "[4.6GB(+0.0GB): 5.742sec] fit X\n",
            "[4.6GB(+0.0GB): 5.947sec] fit Y\n",
            "[4.6GB(+0.0GB): 2.840sec] fit F\n"
          ],
          "name": "stderr"
        },
        {
          "output_type": "stream",
          "text": [
            "fold 1: mean position error 2.1833434601609554\n"
          ],
          "name": "stdout"
        },
        {
          "output_type": "stream",
          "text": [
            "[4.6GB(+0.0GB): 6.668sec] fit X\n",
            "[4.6GB(+0.0GB): 7.424sec] fit Y\n",
            "[4.6GB(+0.0GB): 3.714sec] fit F\n"
          ],
          "name": "stderr"
        },
        {
          "output_type": "stream",
          "text": [
            "fold 2: mean position error 2.1882411904332844\n"
          ],
          "name": "stdout"
        },
        {
          "output_type": "stream",
          "text": [
            "[4.6GB(+0.0GB): 5.144sec] fit X\n",
            "[4.6GB(+0.0GB): 7.179sec] fit Y\n",
            "[4.6GB(+0.0GB): 3.099sec] fit F\n"
          ],
          "name": "stderr"
        },
        {
          "output_type": "stream",
          "text": [
            "fold 3: mean position error 2.2362997592304366\n"
          ],
          "name": "stdout"
        },
        {
          "output_type": "stream",
          "text": [
            "[4.6GB(+0.0GB): 7.296sec] fit X\n",
            "[4.6GB(+0.0GB): 7.965sec] fit Y\n",
            "[4.6GB(+0.0GB): 2.759sec] fit F\n"
          ],
          "name": "stderr"
        },
        {
          "output_type": "stream",
          "text": [
            "fold 4: mean position error 2.186638989116329\n"
          ],
          "name": "stdout"
        },
        {
          "output_type": "stream",
          "text": [
            "[4.6GB(+0.0GB): 7.916sec] fit X\n",
            "[4.6GB(+0.0GB): 6.863sec] fit Y\n",
            "[4.6GB(+0.0GB): 2.681sec] fit F\n"
          ],
          "name": "stderr"
        },
        {
          "output_type": "stream",
          "text": [
            "fold 5: mean position error 2.0472632759606895\n"
          ],
          "name": "stdout"
        },
        {
          "output_type": "stream",
          "text": [
            "[4.6GB(+0.0GB): 7.689sec] fit X\n",
            "[4.6GB(+0.0GB): 4.605sec] fit Y\n",
            "[4.6GB(+0.0GB): 2.973sec] fit F\n"
          ],
          "name": "stderr"
        },
        {
          "output_type": "stream",
          "text": [
            "fold 6: mean position error 2.168975239180541\n"
          ],
          "name": "stdout"
        },
        {
          "output_type": "stream",
          "text": [
            "[4.6GB(+0.0GB): 7.850sec] fit X\n",
            "[4.6GB(+0.0GB): 6.715sec] fit Y\n",
            "[4.6GB(+0.0GB): 2.924sec] fit F\n"
          ],
          "name": "stderr"
        },
        {
          "output_type": "stream",
          "text": [
            "fold 7: mean position error 2.0412820407817542\n"
          ],
          "name": "stdout"
        },
        {
          "output_type": "stream",
          "text": [
            "[4.6GB(+0.0GB): 7.995sec] fit X\n",
            "[4.6GB(+0.0GB): 8.084sec] fit Y\n",
            "[4.6GB(+0.0GB): 3.116sec] fit F\n"
          ],
          "name": "stderr"
        },
        {
          "output_type": "stream",
          "text": [
            "fold 8: mean position error 2.0685387646214517\n"
          ],
          "name": "stdout"
        },
        {
          "output_type": "stream",
          "text": [
            "[4.6GB(+0.0GB): 8.559sec] fit X\n",
            "[4.6GB(+0.0GB): 6.688sec] fit Y\n",
            "[4.6GB(+0.0GB): 2.834sec] fit F\n"
          ],
          "name": "stderr"
        },
        {
          "output_type": "stream",
          "text": [
            "fold 9: mean position error 2.1025049994918983\n",
            "*+*+*+*+*+*+*+*+*+*+*+*+*+*+*+*+*+*+*+*+*+*+*+*+*+*+*+*+*+*+*+*+*+*+*+*+*+*+*+*+\n",
            "file #14, shape=(9012, 779), name=5da138314db8ce0c98bbf3a0_500_train.csv\n",
            "mean position error 2.133787129146611\n",
            "*+*+*+*+*+*+*+*+*+*+*+*+*+*+*+*+*+*+*+*+*+*+*+*+*+*+*+*+*+*+*+*+*+*+*+*+*+*+*+*+\n"
          ],
          "name": "stdout"
        },
        {
          "output_type": "stream",
          "text": [
            "[4.6GB(+0.0GB): 0.531sec] fit X\n",
            "[4.6GB(+0.0GB): 0.678sec] fit Y\n",
            "[4.6GB(+0.0GB): 0.230sec] fit F\n"
          ],
          "name": "stderr"
        },
        {
          "output_type": "stream",
          "text": [
            "fold 0: mean position error 2.7021790497245766\n"
          ],
          "name": "stdout"
        },
        {
          "output_type": "stream",
          "text": [
            "[4.6GB(+0.0GB): 0.761sec] fit X\n",
            "[4.6GB(+0.0GB): 0.672sec] fit Y\n",
            "[4.6GB(+0.0GB): 0.236sec] fit F\n"
          ],
          "name": "stderr"
        },
        {
          "output_type": "stream",
          "text": [
            "fold 1: mean position error 2.722821391892391\n"
          ],
          "name": "stdout"
        },
        {
          "output_type": "stream",
          "text": [
            "[4.6GB(+0.0GB): 0.459sec] fit X\n",
            "[4.6GB(+0.0GB): 0.645sec] fit Y\n",
            "[4.6GB(+0.0GB): 0.251sec] fit F\n"
          ],
          "name": "stderr"
        },
        {
          "output_type": "stream",
          "text": [
            "fold 2: mean position error 2.6617655286852218\n"
          ],
          "name": "stdout"
        },
        {
          "output_type": "stream",
          "text": [
            "[4.6GB(+0.0GB): 0.718sec] fit X\n",
            "[4.6GB(+0.0GB): 0.641sec] fit Y\n",
            "[4.6GB(+0.0GB): 0.240sec] fit F\n"
          ],
          "name": "stderr"
        },
        {
          "output_type": "stream",
          "text": [
            "fold 3: mean position error 2.8093517153010654\n"
          ],
          "name": "stdout"
        },
        {
          "output_type": "stream",
          "text": [
            "[4.6GB(+0.0GB): 0.682sec] fit X\n",
            "[4.6GB(+0.0GB): 0.605sec] fit Y\n",
            "[4.6GB(+0.0GB): 0.236sec] fit F\n"
          ],
          "name": "stderr"
        },
        {
          "output_type": "stream",
          "text": [
            "fold 4: mean position error 2.916791835882954\n"
          ],
          "name": "stdout"
        },
        {
          "output_type": "stream",
          "text": [
            "[4.6GB(+0.0GB): 0.899sec] fit X\n",
            "[4.6GB(+0.0GB): 0.587sec] fit Y\n",
            "[4.6GB(+0.0GB): 0.222sec] fit F\n"
          ],
          "name": "stderr"
        },
        {
          "output_type": "stream",
          "text": [
            "fold 5: mean position error 2.8811764965730906\n"
          ],
          "name": "stdout"
        },
        {
          "output_type": "stream",
          "text": [
            "[4.6GB(+0.0GB): 0.487sec] fit X\n",
            "[4.6GB(+0.0GB): 0.754sec] fit Y\n",
            "[4.6GB(+0.0GB): 0.262sec] fit F\n"
          ],
          "name": "stderr"
        },
        {
          "output_type": "stream",
          "text": [
            "fold 6: mean position error 2.852684686502663\n"
          ],
          "name": "stdout"
        },
        {
          "output_type": "stream",
          "text": [
            "[4.6GB(+0.0GB): 0.626sec] fit X\n",
            "[4.6GB(+0.0GB): 0.786sec] fit Y\n",
            "[4.6GB(+0.0GB): 0.255sec] fit F\n"
          ],
          "name": "stderr"
        },
        {
          "output_type": "stream",
          "text": [
            "fold 7: mean position error 2.796012944655467\n"
          ],
          "name": "stdout"
        },
        {
          "output_type": "stream",
          "text": [
            "[4.6GB(+0.0GB): 0.966sec] fit X\n",
            "[4.6GB(+0.0GB): 0.987sec] fit Y\n",
            "[4.6GB(+0.0GB): 0.224sec] fit F\n"
          ],
          "name": "stderr"
        },
        {
          "output_type": "stream",
          "text": [
            "fold 8: mean position error 2.7705270279554597\n"
          ],
          "name": "stdout"
        },
        {
          "output_type": "stream",
          "text": [
            "[4.6GB(+0.0GB): 0.531sec] fit X\n",
            "[4.6GB(+0.0GB): 0.650sec] fit Y\n",
            "[4.6GB(+0.0GB): 0.242sec] fit F\n"
          ],
          "name": "stderr"
        },
        {
          "output_type": "stream",
          "text": [
            "fold 9: mean position error 2.816530623309018\n",
            "*+*+*+*+*+*+*+*+*+*+*+*+*+*+*+*+*+*+*+*+*+*+*+*+*+*+*+*+*+*+*+*+*+*+*+*+*+*+*+*+\n",
            "file #15, shape=(2767, 179), name=5da138364db8ce0c98bc00f1_500_train.csv\n",
            "mean position error 2.7929826417193957\n",
            "*+*+*+*+*+*+*+*+*+*+*+*+*+*+*+*+*+*+*+*+*+*+*+*+*+*+*+*+*+*+*+*+*+*+*+*+*+*+*+*+\n"
          ],
          "name": "stdout"
        },
        {
          "output_type": "stream",
          "text": [
            "[4.6GB(+0.0GB): 9.043sec] fit X\n",
            "[4.6GB(+0.0GB): 13.088sec] fit Y\n",
            "[4.6GB(+0.0GB): 3.773sec] fit F\n"
          ],
          "name": "stderr"
        },
        {
          "output_type": "stream",
          "text": [
            "fold 0: mean position error 3.1562314075570295\n"
          ],
          "name": "stdout"
        },
        {
          "output_type": "stream",
          "text": [
            "[4.6GB(+0.0GB): 11.717sec] fit X\n",
            "[4.6GB(+0.0GB): 11.315sec] fit Y\n",
            "[4.6GB(+0.0GB): 4.023sec] fit F\n"
          ],
          "name": "stderr"
        },
        {
          "output_type": "stream",
          "text": [
            "fold 1: mean position error 3.2287369038689584\n"
          ],
          "name": "stdout"
        },
        {
          "output_type": "stream",
          "text": [
            "[4.6GB(+0.0GB): 9.923sec] fit X\n",
            "[4.6GB(+0.0GB): 10.612sec] fit Y\n",
            "[4.6GB(+0.0GB): 4.298sec] fit F\n"
          ],
          "name": "stderr"
        },
        {
          "output_type": "stream",
          "text": [
            "fold 2: mean position error 3.134606687229758\n"
          ],
          "name": "stdout"
        },
        {
          "output_type": "stream",
          "text": [
            "[4.6GB(+0.0GB): 11.282sec] fit X\n",
            "[4.6GB(+0.0GB): 12.223sec] fit Y\n",
            "[4.6GB(+0.0GB): 4.532sec] fit F\n"
          ],
          "name": "stderr"
        },
        {
          "output_type": "stream",
          "text": [
            "fold 3: mean position error 3.351249026797076\n"
          ],
          "name": "stdout"
        },
        {
          "output_type": "stream",
          "text": [
            "[4.6GB(+0.0GB): 12.364sec] fit X\n",
            "[4.6GB(+0.0GB): 9.707sec] fit Y\n",
            "[4.6GB(+0.0GB): 3.948sec] fit F\n"
          ],
          "name": "stderr"
        },
        {
          "output_type": "stream",
          "text": [
            "fold 4: mean position error 3.2509669526464995\n"
          ],
          "name": "stdout"
        },
        {
          "output_type": "stream",
          "text": [
            "[4.6GB(+0.0GB): 11.771sec] fit X\n",
            "[4.6GB(+0.0GB): 10.245sec] fit Y\n",
            "[4.6GB(+0.0GB): 4.062sec] fit F\n"
          ],
          "name": "stderr"
        },
        {
          "output_type": "stream",
          "text": [
            "fold 5: mean position error 3.1785955810108546\n"
          ],
          "name": "stdout"
        },
        {
          "output_type": "stream",
          "text": [
            "[4.6GB(+0.0GB): 14.034sec] fit X\n",
            "[4.6GB(+0.0GB): 12.682sec] fit Y\n",
            "[4.6GB(+0.0GB): 3.794sec] fit F\n"
          ],
          "name": "stderr"
        },
        {
          "output_type": "stream",
          "text": [
            "fold 6: mean position error 3.201697243310263\n"
          ],
          "name": "stdout"
        },
        {
          "output_type": "stream",
          "text": [
            "[4.6GB(+0.0GB): 14.749sec] fit X\n",
            "[4.6GB(+0.0GB): 15.680sec] fit Y\n",
            "[4.6GB(+0.0GB): 4.043sec] fit F\n"
          ],
          "name": "stderr"
        },
        {
          "output_type": "stream",
          "text": [
            "fold 7: mean position error 3.1865470862630416\n"
          ],
          "name": "stdout"
        },
        {
          "output_type": "stream",
          "text": [
            "[4.6GB(+0.0GB): 10.631sec] fit X\n",
            "[4.6GB(+0.0GB): 9.213sec] fit Y\n",
            "[4.6GB(+0.0GB): 4.166sec] fit F\n"
          ],
          "name": "stderr"
        },
        {
          "output_type": "stream",
          "text": [
            "fold 8: mean position error 3.379934325871397\n"
          ],
          "name": "stdout"
        },
        {
          "output_type": "stream",
          "text": [
            "[4.6GB(+0.0GB): 9.925sec] fit X\n",
            "[4.6GB(+0.0GB): 8.841sec] fit Y\n",
            "[4.6GB(+0.0GB): 4.022sec] fit F\n"
          ],
          "name": "stderr"
        },
        {
          "output_type": "stream",
          "text": [
            "fold 9: mean position error 3.3045859650082168\n",
            "*+*+*+*+*+*+*+*+*+*+*+*+*+*+*+*+*+*+*+*+*+*+*+*+*+*+*+*+*+*+*+*+*+*+*+*+*+*+*+*+\n",
            "file #16, shape=(13196, 852), name=5da1383b4db8ce0c98bc11ab_500_train.csv\n",
            "mean position error 3.2373057587452894\n",
            "*+*+*+*+*+*+*+*+*+*+*+*+*+*+*+*+*+*+*+*+*+*+*+*+*+*+*+*+*+*+*+*+*+*+*+*+*+*+*+*+\n"
          ],
          "name": "stdout"
        },
        {
          "output_type": "stream",
          "text": [
            "[4.6GB(+0.0GB): 2.268sec] fit X\n",
            "[4.6GB(+0.0GB): 3.840sec] fit Y\n",
            "[4.6GB(+0.0GB): 1.236sec] fit F\n"
          ],
          "name": "stderr"
        },
        {
          "output_type": "stream",
          "text": [
            "fold 0: mean position error 3.1095906254393753\n"
          ],
          "name": "stdout"
        },
        {
          "output_type": "stream",
          "text": [
            "[4.6GB(+0.0GB): 2.170sec] fit X\n",
            "[4.6GB(+0.0GB): 2.658sec] fit Y\n",
            "[4.6GB(+0.0GB): 1.623sec] fit F\n"
          ],
          "name": "stderr"
        },
        {
          "output_type": "stream",
          "text": [
            "fold 1: mean position error 3.15276657596733\n"
          ],
          "name": "stdout"
        },
        {
          "output_type": "stream",
          "text": [
            "[4.6GB(+0.0GB): 1.914sec] fit X\n",
            "[4.6GB(+0.0GB): 3.115sec] fit Y\n",
            "[4.6GB(+0.0GB): 1.402sec] fit F\n"
          ],
          "name": "stderr"
        },
        {
          "output_type": "stream",
          "text": [
            "fold 2: mean position error 3.0559892219341642\n"
          ],
          "name": "stdout"
        },
        {
          "output_type": "stream",
          "text": [
            "[4.6GB(+0.0GB): 2.684sec] fit X\n",
            "[4.6GB(+0.0GB): 2.685sec] fit Y\n",
            "[4.6GB(+0.0GB): 1.240sec] fit F\n"
          ],
          "name": "stderr"
        },
        {
          "output_type": "stream",
          "text": [
            "fold 3: mean position error 3.3232008390251857\n"
          ],
          "name": "stdout"
        },
        {
          "output_type": "stream",
          "text": [
            "[4.6GB(+0.0GB): 2.485sec] fit X\n",
            "[4.6GB(+0.0GB): 3.104sec] fit Y\n",
            "[4.6GB(+0.0GB): 1.195sec] fit F\n"
          ],
          "name": "stderr"
        },
        {
          "output_type": "stream",
          "text": [
            "fold 4: mean position error 3.099957294561317\n"
          ],
          "name": "stdout"
        },
        {
          "output_type": "stream",
          "text": [
            "[4.6GB(+0.0GB): 2.031sec] fit X\n",
            "[4.6GB(+0.0GB): 2.831sec] fit Y\n",
            "[4.6GB(+0.0GB): 1.391sec] fit F\n"
          ],
          "name": "stderr"
        },
        {
          "output_type": "stream",
          "text": [
            "fold 5: mean position error 3.0163510194325647\n"
          ],
          "name": "stdout"
        },
        {
          "output_type": "stream",
          "text": [
            "[4.6GB(+0.0GB): 2.089sec] fit X\n",
            "[4.6GB(+0.0GB): 4.448sec] fit Y\n",
            "[4.6GB(+0.0GB): 1.224sec] fit F\n"
          ],
          "name": "stderr"
        },
        {
          "output_type": "stream",
          "text": [
            "fold 6: mean position error 3.289361610907361\n"
          ],
          "name": "stdout"
        },
        {
          "output_type": "stream",
          "text": [
            "[4.6GB(+0.0GB): 1.920sec] fit X\n",
            "[4.6GB(+0.0GB): 4.235sec] fit Y\n",
            "[4.6GB(+0.0GB): 1.287sec] fit F\n"
          ],
          "name": "stderr"
        },
        {
          "output_type": "stream",
          "text": [
            "fold 7: mean position error 2.8579067808580865\n"
          ],
          "name": "stdout"
        },
        {
          "output_type": "stream",
          "text": [
            "[4.6GB(+0.0GB): 3.183sec] fit X\n",
            "[4.6GB(+0.0GB): 2.198sec] fit Y\n",
            "[4.6GB(+0.0GB): 1.115sec] fit F\n"
          ],
          "name": "stderr"
        },
        {
          "output_type": "stream",
          "text": [
            "fold 8: mean position error 3.0969316401778935\n"
          ],
          "name": "stdout"
        },
        {
          "output_type": "stream",
          "text": [
            "[4.6GB(+0.0GB): 2.518sec] fit X\n",
            "[4.6GB(+0.0GB): 1.953sec] fit Y\n",
            "[4.6GB(+0.0GB): 1.412sec] fit F\n"
          ],
          "name": "stderr"
        },
        {
          "output_type": "stream",
          "text": [
            "fold 9: mean position error 3.0094933056770197\n",
            "*+*+*+*+*+*+*+*+*+*+*+*+*+*+*+*+*+*+*+*+*+*+*+*+*+*+*+*+*+*+*+*+*+*+*+*+*+*+*+*+\n",
            "file #17, shape=(7188, 444), name=5da138754db8ce0c98bca82f_500_train.csv\n",
            "mean position error 3.101168230969112\n",
            "*+*+*+*+*+*+*+*+*+*+*+*+*+*+*+*+*+*+*+*+*+*+*+*+*+*+*+*+*+*+*+*+*+*+*+*+*+*+*+*+\n"
          ],
          "name": "stdout"
        },
        {
          "output_type": "stream",
          "text": [
            "[4.6GB(+0.0GB): 10.104sec] fit X\n",
            "[4.6GB(+0.0GB): 5.557sec] fit Y\n",
            "[4.6GB(+0.0GB): 4.185sec] fit F\n"
          ],
          "name": "stderr"
        },
        {
          "output_type": "stream",
          "text": [
            "fold 0: mean position error 3.705545887340448\n"
          ],
          "name": "stdout"
        },
        {
          "output_type": "stream",
          "text": [
            "[4.6GB(+0.0GB): 7.360sec] fit X\n",
            "[4.6GB(+0.0GB): 6.490sec] fit Y\n",
            "[4.6GB(+0.0GB): 3.443sec] fit F\n"
          ],
          "name": "stderr"
        },
        {
          "output_type": "stream",
          "text": [
            "fold 1: mean position error 3.427989575350296\n"
          ],
          "name": "stdout"
        },
        {
          "output_type": "stream",
          "text": [
            "[4.6GB(+0.0GB): 5.560sec] fit X\n",
            "[4.6GB(+0.0GB): 6.049sec] fit Y\n",
            "[4.6GB(+0.0GB): 3.667sec] fit F\n"
          ],
          "name": "stderr"
        },
        {
          "output_type": "stream",
          "text": [
            "fold 2: mean position error 3.4394932875384083\n"
          ],
          "name": "stdout"
        },
        {
          "output_type": "stream",
          "text": [
            "[4.6GB(+0.0GB): 6.765sec] fit X\n",
            "[4.6GB(+0.0GB): 8.162sec] fit Y\n",
            "[4.6GB(+0.0GB): 3.547sec] fit F\n"
          ],
          "name": "stderr"
        },
        {
          "output_type": "stream",
          "text": [
            "fold 3: mean position error 3.469437049205755\n"
          ],
          "name": "stdout"
        },
        {
          "output_type": "stream",
          "text": [
            "[4.6GB(+0.0GB): 5.933sec] fit X\n",
            "[4.6GB(+0.0GB): 7.790sec] fit Y\n",
            "[4.6GB(+0.0GB): 4.715sec] fit F\n"
          ],
          "name": "stderr"
        },
        {
          "output_type": "stream",
          "text": [
            "fold 4: mean position error 3.4927846879380886\n"
          ],
          "name": "stdout"
        },
        {
          "output_type": "stream",
          "text": [
            "[4.6GB(+0.0GB): 5.816sec] fit X\n",
            "[4.6GB(+0.0GB): 7.188sec] fit Y\n",
            "[4.6GB(+0.0GB): 3.812sec] fit F\n"
          ],
          "name": "stderr"
        },
        {
          "output_type": "stream",
          "text": [
            "fold 5: mean position error 3.4668425964363383\n"
          ],
          "name": "stdout"
        },
        {
          "output_type": "stream",
          "text": [
            "[4.6GB(+0.0GB): 7.259sec] fit X\n",
            "[4.6GB(+0.0GB): 6.987sec] fit Y\n",
            "[4.6GB(+0.0GB): 3.688sec] fit F\n"
          ],
          "name": "stderr"
        },
        {
          "output_type": "stream",
          "text": [
            "fold 6: mean position error 3.6486959761170747\n"
          ],
          "name": "stdout"
        },
        {
          "output_type": "stream",
          "text": [
            "[4.6GB(+0.0GB): 6.032sec] fit X\n",
            "[4.6GB(+0.0GB): 8.674sec] fit Y\n",
            "[4.6GB(+0.0GB): 4.020sec] fit F\n"
          ],
          "name": "stderr"
        },
        {
          "output_type": "stream",
          "text": [
            "fold 7: mean position error 3.5185225508240534\n"
          ],
          "name": "stdout"
        },
        {
          "output_type": "stream",
          "text": [
            "[4.6GB(+0.0GB): 6.214sec] fit X\n",
            "[4.6GB(+0.0GB): 5.965sec] fit Y\n",
            "[4.6GB(+0.0GB): 3.687sec] fit F\n"
          ],
          "name": "stderr"
        },
        {
          "output_type": "stream",
          "text": [
            "fold 8: mean position error 3.630561640659463\n"
          ],
          "name": "stdout"
        },
        {
          "output_type": "stream",
          "text": [
            "[4.6GB(+0.0GB): 6.958sec] fit X\n",
            "[4.6GB(+0.0GB): 8.587sec] fit Y\n",
            "[4.6GB(+0.0GB): 4.217sec] fit F\n"
          ],
          "name": "stderr"
        },
        {
          "output_type": "stream",
          "text": [
            "fold 9: mean position error 3.5943357844132033\n",
            "*+*+*+*+*+*+*+*+*+*+*+*+*+*+*+*+*+*+*+*+*+*+*+*+*+*+*+*+*+*+*+*+*+*+*+*+*+*+*+*+\n",
            "file #18, shape=(9420, 680), name=5da138764db8ce0c98bcaa46_500_train.csv\n",
            "mean position error 3.5394209035823128\n",
            "*+*+*+*+*+*+*+*+*+*+*+*+*+*+*+*+*+*+*+*+*+*+*+*+*+*+*+*+*+*+*+*+*+*+*+*+*+*+*+*+\n"
          ],
          "name": "stdout"
        },
        {
          "output_type": "stream",
          "text": [
            "[4.6GB(+0.0GB): 1.354sec] fit X\n",
            "[4.6GB(+0.0GB): 1.320sec] fit Y\n",
            "[4.6GB(+0.0GB): 1.257sec] fit F\n"
          ],
          "name": "stderr"
        },
        {
          "output_type": "stream",
          "text": [
            "fold 0: mean position error 3.4292844320595233\n"
          ],
          "name": "stdout"
        },
        {
          "output_type": "stream",
          "text": [
            "[4.6GB(+0.0GB): 2.092sec] fit X\n",
            "[4.6GB(+0.0GB): 2.041sec] fit Y\n",
            "[4.6GB(+0.0GB): 1.125sec] fit F\n"
          ],
          "name": "stderr"
        },
        {
          "output_type": "stream",
          "text": [
            "fold 1: mean position error 3.580132746122148\n"
          ],
          "name": "stdout"
        },
        {
          "output_type": "stream",
          "text": [
            "[4.6GB(+0.0GB): 1.391sec] fit X\n",
            "[4.6GB(+0.0GB): 1.940sec] fit Y\n",
            "[4.6GB(+0.0GB): 1.235sec] fit F\n"
          ],
          "name": "stderr"
        },
        {
          "output_type": "stream",
          "text": [
            "fold 2: mean position error 3.8613338321506374\n"
          ],
          "name": "stdout"
        },
        {
          "output_type": "stream",
          "text": [
            "[4.6GB(+0.0GB): 1.782sec] fit X\n",
            "[4.6GB(+0.0GB): 3.120sec] fit Y\n",
            "[4.6GB(+0.0GB): 1.323sec] fit F\n"
          ],
          "name": "stderr"
        },
        {
          "output_type": "stream",
          "text": [
            "fold 3: mean position error 3.8063044982951726\n"
          ],
          "name": "stdout"
        },
        {
          "output_type": "stream",
          "text": [
            "[4.6GB(+0.0GB): 1.368sec] fit X\n",
            "[4.6GB(+0.0GB): 2.161sec] fit Y\n",
            "[4.6GB(+0.0GB): 1.146sec] fit F\n"
          ],
          "name": "stderr"
        },
        {
          "output_type": "stream",
          "text": [
            "fold 4: mean position error 3.60896610726429\n"
          ],
          "name": "stdout"
        },
        {
          "output_type": "stream",
          "text": [
            "[4.6GB(+0.0GB): 1.576sec] fit X\n",
            "[4.6GB(+0.0GB): 1.386sec] fit Y\n",
            "[4.6GB(+0.0GB): 1.203sec] fit F\n"
          ],
          "name": "stderr"
        },
        {
          "output_type": "stream",
          "text": [
            "fold 5: mean position error 3.454283032893234\n"
          ],
          "name": "stdout"
        },
        {
          "output_type": "stream",
          "text": [
            "[4.6GB(+0.0GB): 1.636sec] fit X\n",
            "[4.6GB(+0.0GB): 1.733sec] fit Y\n",
            "[4.6GB(+0.0GB): 1.206sec] fit F\n"
          ],
          "name": "stderr"
        },
        {
          "output_type": "stream",
          "text": [
            "fold 6: mean position error 3.7019796942905803\n"
          ],
          "name": "stdout"
        },
        {
          "output_type": "stream",
          "text": [
            "[4.6GB(+0.0GB): 1.127sec] fit X\n",
            "[4.6GB(+0.0GB): 1.860sec] fit Y\n",
            "[4.6GB(+0.0GB): 1.212sec] fit F\n"
          ],
          "name": "stderr"
        },
        {
          "output_type": "stream",
          "text": [
            "fold 7: mean position error 4.046242137282577\n"
          ],
          "name": "stdout"
        },
        {
          "output_type": "stream",
          "text": [
            "[4.6GB(+0.0GB): 1.551sec] fit X\n",
            "[4.6GB(+0.0GB): 1.727sec] fit Y\n",
            "[4.6GB(+0.0GB): 1.192sec] fit F\n"
          ],
          "name": "stderr"
        },
        {
          "output_type": "stream",
          "text": [
            "fold 8: mean position error 3.9821999825711694\n"
          ],
          "name": "stdout"
        },
        {
          "output_type": "stream",
          "text": [
            "[4.6GB(+0.0GB): 2.067sec] fit X\n",
            "[4.6GB(+0.0GB): 2.278sec] fit Y\n",
            "[4.6GB(+0.0GB): 1.263sec] fit F\n"
          ],
          "name": "stderr"
        },
        {
          "output_type": "stream",
          "text": [
            "fold 9: mean position error 3.682379373342538\n",
            "*+*+*+*+*+*+*+*+*+*+*+*+*+*+*+*+*+*+*+*+*+*+*+*+*+*+*+*+*+*+*+*+*+*+*+*+*+*+*+*+\n",
            "file #19, shape=(6312, 199), name=5da1389e4db8ce0c98bd0547_500_train.csv\n",
            "mean position error 3.715243852957182\n",
            "*+*+*+*+*+*+*+*+*+*+*+*+*+*+*+*+*+*+*+*+*+*+*+*+*+*+*+*+*+*+*+*+*+*+*+*+*+*+*+*+\n"
          ],
          "name": "stdout"
        },
        {
          "output_type": "stream",
          "text": [
            "[4.6GB(+0.0GB): 20.388sec] fit X\n",
            "[4.6GB(+0.0GB): 16.838sec] fit Y\n",
            "[4.6GB(+0.0GB): 21.272sec] fit F\n"
          ],
          "name": "stderr"
        },
        {
          "output_type": "stream",
          "text": [
            "fold 0: mean position error 5.213820981782172\n"
          ],
          "name": "stdout"
        },
        {
          "output_type": "stream",
          "text": [
            "[4.6GB(+0.0GB): 28.434sec] fit X\n",
            "[4.6GB(-0.0GB): 38.136sec] fit Y\n",
            "[4.6GB(+0.0GB): 19.576sec] fit F\n"
          ],
          "name": "stderr"
        },
        {
          "output_type": "stream",
          "text": [
            "fold 1: mean position error 4.7994315314981835\n"
          ],
          "name": "stdout"
        },
        {
          "output_type": "stream",
          "text": [
            "[4.6GB(+0.0GB): 37.479sec] fit X\n",
            "[4.6GB(+0.0GB): 35.734sec] fit Y\n",
            "[4.6GB(+0.0GB): 20.028sec] fit F\n"
          ],
          "name": "stderr"
        },
        {
          "output_type": "stream",
          "text": [
            "fold 2: mean position error 4.510467455785916\n"
          ],
          "name": "stdout"
        },
        {
          "output_type": "stream",
          "text": [
            "[4.6GB(+0.0GB): 33.587sec] fit X\n",
            "[4.6GB(+0.0GB): 23.714sec] fit Y\n",
            "[4.6GB(+0.0GB): 23.898sec] fit F\n"
          ],
          "name": "stderr"
        },
        {
          "output_type": "stream",
          "text": [
            "fold 3: mean position error 4.585105431953806\n"
          ],
          "name": "stdout"
        },
        {
          "output_type": "stream",
          "text": [
            "[4.6GB(+0.0GB): 42.840sec] fit X\n",
            "[4.6GB(+0.0GB): 35.354sec] fit Y\n",
            "[4.6GB(+0.0GB): 24.337sec] fit F\n"
          ],
          "name": "stderr"
        },
        {
          "output_type": "stream",
          "text": [
            "fold 4: mean position error 4.571725237171636\n"
          ],
          "name": "stdout"
        },
        {
          "output_type": "stream",
          "text": [
            "[4.6GB(+0.0GB): 45.238sec] fit X\n",
            "[4.6GB(+0.0GB): 24.459sec] fit Y\n",
            "[4.6GB(+0.0GB): 24.374sec] fit F\n"
          ],
          "name": "stderr"
        },
        {
          "output_type": "stream",
          "text": [
            "fold 5: mean position error 4.6109208995182\n"
          ],
          "name": "stdout"
        },
        {
          "output_type": "stream",
          "text": [
            "[4.6GB(+0.0GB): 37.346sec] fit X\n",
            "[4.6GB(+0.0GB): 37.598sec] fit Y\n",
            "[4.6GB(+0.0GB): 22.528sec] fit F\n"
          ],
          "name": "stderr"
        },
        {
          "output_type": "stream",
          "text": [
            "fold 6: mean position error 4.631731283565326\n"
          ],
          "name": "stdout"
        },
        {
          "output_type": "stream",
          "text": [
            "[4.6GB(+0.0GB): 36.351sec] fit X\n",
            "[4.6GB(+0.0GB): 38.406sec] fit Y\n",
            "[4.6GB(+0.0GB): 18.947sec] fit F\n"
          ],
          "name": "stderr"
        },
        {
          "output_type": "stream",
          "text": [
            "fold 7: mean position error 4.417702430237519\n"
          ],
          "name": "stdout"
        },
        {
          "output_type": "stream",
          "text": [
            "[4.6GB(+0.0GB): 11.988sec] fit X\n",
            "[4.6GB(+0.0GB): 22.799sec] fit Y\n",
            "[4.6GB(+0.0GB): 21.305sec] fit F\n"
          ],
          "name": "stderr"
        },
        {
          "output_type": "stream",
          "text": [
            "fold 8: mean position error 5.271310328038004\n"
          ],
          "name": "stdout"
        },
        {
          "output_type": "stream",
          "text": [
            "[4.6GB(+0.0GB): 21.469sec] fit X\n",
            "[4.6GB(+0.0GB): 20.402sec] fit Y\n",
            "[4.6GB(+0.0GB): 24.339sec] fit F\n"
          ],
          "name": "stderr"
        },
        {
          "output_type": "stream",
          "text": [
            "fold 9: mean position error 4.75225436298364\n",
            "*+*+*+*+*+*+*+*+*+*+*+*+*+*+*+*+*+*+*+*+*+*+*+*+*+*+*+*+*+*+*+*+*+*+*+*+*+*+*+*+\n",
            "file #20, shape=(17382, 1772), name=5da138b74db8ce0c98bd4774_500_train.csv\n",
            "mean position error 4.736478081500291\n",
            "*+*+*+*+*+*+*+*+*+*+*+*+*+*+*+*+*+*+*+*+*+*+*+*+*+*+*+*+*+*+*+*+*+*+*+*+*+*+*+*+\n"
          ],
          "name": "stdout"
        },
        {
          "output_type": "stream",
          "text": [
            "[4.6GB(+0.0GB): 21.771sec] fit X\n",
            "[4.6GB(+0.0GB): 24.387sec] fit Y\n",
            "[4.6GB(+0.0GB): 23.249sec] fit F\n"
          ],
          "name": "stderr"
        },
        {
          "output_type": "stream",
          "text": [
            "fold 0: mean position error 3.2863369202856374\n"
          ],
          "name": "stdout"
        },
        {
          "output_type": "stream",
          "text": [
            "[4.6GB(+0.0GB): 23.723sec] fit X\n",
            "[4.6GB(+0.0GB): 20.236sec] fit Y\n",
            "[4.6GB(+0.0GB): 20.966sec] fit F\n"
          ],
          "name": "stderr"
        },
        {
          "output_type": "stream",
          "text": [
            "fold 1: mean position error 3.3170034664798846\n"
          ],
          "name": "stdout"
        },
        {
          "output_type": "stream",
          "text": [
            "[4.6GB(+0.0GB): 23.516sec] fit X\n",
            "[4.6GB(+0.0GB): 17.742sec] fit Y\n",
            "[4.6GB(+0.0GB): 16.593sec] fit F\n"
          ],
          "name": "stderr"
        },
        {
          "output_type": "stream",
          "text": [
            "fold 2: mean position error 3.304397243789113\n"
          ],
          "name": "stdout"
        },
        {
          "output_type": "stream",
          "text": [
            "[4.6GB(+0.0GB): 29.492sec] fit X\n",
            "[4.6GB(+0.0GB): 27.914sec] fit Y\n",
            "[4.6GB(+0.0GB): 18.435sec] fit F\n"
          ],
          "name": "stderr"
        },
        {
          "output_type": "stream",
          "text": [
            "fold 3: mean position error 3.1693363183026917\n"
          ],
          "name": "stdout"
        },
        {
          "output_type": "stream",
          "text": [
            "[4.6GB(+0.0GB): 19.877sec] fit X\n",
            "[4.6GB(+0.0GB): 22.016sec] fit Y\n",
            "[4.6GB(+0.0GB): 22.154sec] fit F\n"
          ],
          "name": "stderr"
        },
        {
          "output_type": "stream",
          "text": [
            "fold 4: mean position error 3.219843404077229\n"
          ],
          "name": "stdout"
        },
        {
          "output_type": "stream",
          "text": [
            "[4.6GB(+0.0GB): 20.343sec] fit X\n",
            "[4.6GB(+0.0GB): 24.413sec] fit Y\n",
            "[4.6GB(+0.0GB): 22.810sec] fit F\n"
          ],
          "name": "stderr"
        },
        {
          "output_type": "stream",
          "text": [
            "fold 5: mean position error 3.3548841510789638\n"
          ],
          "name": "stdout"
        },
        {
          "output_type": "stream",
          "text": [
            "[4.6GB(+0.0GB): 28.316sec] fit X\n",
            "[4.6GB(+0.0GB): 32.266sec] fit Y\n",
            "[4.6GB(+0.0GB): 21.639sec] fit F\n"
          ],
          "name": "stderr"
        },
        {
          "output_type": "stream",
          "text": [
            "fold 6: mean position error 3.2325966626373095\n"
          ],
          "name": "stdout"
        },
        {
          "output_type": "stream",
          "text": [
            "[4.6GB(+0.0GB): 30.915sec] fit X\n",
            "[4.6GB(+0.0GB): 21.776sec] fit Y\n",
            "[4.6GB(+0.0GB): 15.239sec] fit F\n"
          ],
          "name": "stderr"
        },
        {
          "output_type": "stream",
          "text": [
            "fold 7: mean position error 3.225326149427882\n"
          ],
          "name": "stdout"
        },
        {
          "output_type": "stream",
          "text": [
            "[4.6GB(+0.0GB): 22.587sec] fit X\n",
            "[4.6GB(+0.0GB): 26.725sec] fit Y\n",
            "[4.6GB(+0.0GB): 21.056sec] fit F\n"
          ],
          "name": "stderr"
        },
        {
          "output_type": "stream",
          "text": [
            "fold 8: mean position error 3.268995012693954\n"
          ],
          "name": "stdout"
        },
        {
          "output_type": "stream",
          "text": [
            "[4.6GB(+0.0GB): 32.625sec] fit X\n",
            "[4.6GB(+0.0GB): 26.302sec] fit Y\n",
            "[4.6GB(+0.0GB): 23.690sec] fit F\n"
          ],
          "name": "stderr"
        },
        {
          "output_type": "stream",
          "text": [
            "fold 9: mean position error 3.205782209554636\n",
            "*+*+*+*+*+*+*+*+*+*+*+*+*+*+*+*+*+*+*+*+*+*+*+*+*+*+*+*+*+*+*+*+*+*+*+*+*+*+*+*+\n",
            "file #21, shape=(15148, 1584), name=5da958dd46f8266d0737457b_500_train.csv\n",
            "mean position error 3.258452934601506\n",
            "*+*+*+*+*+*+*+*+*+*+*+*+*+*+*+*+*+*+*+*+*+*+*+*+*+*+*+*+*+*+*+*+*+*+*+*+*+*+*+*+\n"
          ],
          "name": "stdout"
        },
        {
          "output_type": "stream",
          "text": [
            "[4.6GB(+0.0GB): 34.650sec] fit X\n",
            "[4.6GB(+0.0GB): 41.657sec] fit Y\n",
            "[4.6GB(+0.0GB): 35.645sec] fit F\n"
          ],
          "name": "stderr"
        },
        {
          "output_type": "stream",
          "text": [
            "fold 0: mean position error 4.468262877415246\n"
          ],
          "name": "stdout"
        },
        {
          "output_type": "stream",
          "text": [
            "[4.6GB(+0.0GB): 34.911sec] fit X\n",
            "[4.6GB(+0.0GB): 32.966sec] fit Y\n",
            "[4.6GB(+0.0GB): 29.483sec] fit F\n"
          ],
          "name": "stderr"
        },
        {
          "output_type": "stream",
          "text": [
            "fold 1: mean position error 4.44443476746021\n"
          ],
          "name": "stdout"
        },
        {
          "output_type": "stream",
          "text": [
            "[4.6GB(+0.0GB): 38.809sec] fit X\n",
            "[4.6GB(+0.0GB): 32.881sec] fit Y\n",
            "[4.6GB(+0.0GB): 26.306sec] fit F\n"
          ],
          "name": "stderr"
        },
        {
          "output_type": "stream",
          "text": [
            "fold 2: mean position error 4.346895838985879\n"
          ],
          "name": "stdout"
        },
        {
          "output_type": "stream",
          "text": [
            "[4.6GB(+0.0GB): 27.913sec] fit X\n",
            "[4.6GB(+0.0GB): 29.586sec] fit Y\n",
            "[4.6GB(+0.0GB): 29.517sec] fit F\n"
          ],
          "name": "stderr"
        },
        {
          "output_type": "stream",
          "text": [
            "fold 3: mean position error 4.480683433028384\n"
          ],
          "name": "stdout"
        },
        {
          "output_type": "stream",
          "text": [
            "[4.6GB(+0.0GB): 39.134sec] fit X\n",
            "[4.6GB(+0.0GB): 29.012sec] fit Y\n",
            "[4.6GB(+0.0GB): 30.402sec] fit F\n"
          ],
          "name": "stderr"
        },
        {
          "output_type": "stream",
          "text": [
            "fold 4: mean position error 4.325334768234288\n"
          ],
          "name": "stdout"
        },
        {
          "output_type": "stream",
          "text": [
            "[4.6GB(+0.0GB): 43.021sec] fit X\n",
            "[4.6GB(+0.0GB): 35.997sec] fit Y\n",
            "[4.6GB(+0.0GB): 26.628sec] fit F\n"
          ],
          "name": "stderr"
        },
        {
          "output_type": "stream",
          "text": [
            "fold 5: mean position error 4.318086457925579\n"
          ],
          "name": "stdout"
        },
        {
          "output_type": "stream",
          "text": [
            "[4.6GB(+0.0GB): 39.062sec] fit X\n",
            "[4.6GB(+0.0GB): 33.723sec] fit Y\n",
            "[4.6GB(+0.0GB): 24.552sec] fit F\n"
          ],
          "name": "stderr"
        },
        {
          "output_type": "stream",
          "text": [
            "fold 6: mean position error 4.2671283592260165\n"
          ],
          "name": "stdout"
        },
        {
          "output_type": "stream",
          "text": [
            "[4.6GB(+0.0GB): 34.821sec] fit X\n",
            "[4.6GB(+0.0GB): 40.082sec] fit Y\n",
            "[4.6GB(+0.0GB): 26.539sec] fit F\n"
          ],
          "name": "stderr"
        },
        {
          "output_type": "stream",
          "text": [
            "fold 7: mean position error 4.439488114798732\n"
          ],
          "name": "stdout"
        },
        {
          "output_type": "stream",
          "text": [
            "[4.6GB(+0.0GB): 31.193sec] fit X\n",
            "[4.6GB(+0.0GB): 28.540sec] fit Y\n",
            "[4.6GB(+0.0GB): 31.195sec] fit F\n"
          ],
          "name": "stderr"
        },
        {
          "output_type": "stream",
          "text": [
            "fold 8: mean position error 4.395093510860002\n"
          ],
          "name": "stdout"
        },
        {
          "output_type": "stream",
          "text": [
            "[4.6GB(+0.0GB): 36.210sec] fit X\n",
            "[4.6GB(+0.0GB): 28.191sec] fit Y\n",
            "[4.6GB(+0.0GB): 27.283sec] fit F\n"
          ],
          "name": "stderr"
        },
        {
          "output_type": "stream",
          "text": [
            "fold 9: mean position error 4.394896988102727\n",
            "*+*+*+*+*+*+*+*+*+*+*+*+*+*+*+*+*+*+*+*+*+*+*+*+*+*+*+*+*+*+*+*+*+*+*+*+*+*+*+*+\n",
            "file #22, shape=(16174, 2074), name=5dbc1d84c1eb61796cf7c010_500_train.csv\n",
            "mean position error 4.3880421447724025\n",
            "*+*+*+*+*+*+*+*+*+*+*+*+*+*+*+*+*+*+*+*+*+*+*+*+*+*+*+*+*+*+*+*+*+*+*+*+*+*+*+*+\n"
          ],
          "name": "stdout"
        },
        {
          "output_type": "stream",
          "text": [
            "[4.6GB(+0.0GB): 17.600sec] fit X\n",
            "[4.6GB(+0.0GB): 13.393sec] fit Y\n",
            "[4.6GB(+0.0GB): 18.459sec] fit F\n"
          ],
          "name": "stderr"
        },
        {
          "output_type": "stream",
          "text": [
            "fold 0: mean position error 4.637414417824364\n"
          ],
          "name": "stdout"
        },
        {
          "output_type": "stream",
          "text": [
            "[4.6GB(+0.0GB): 19.261sec] fit X\n",
            "[4.6GB(+0.0GB): 18.006sec] fit Y\n",
            "[4.6GB(+0.0GB): 17.266sec] fit F\n"
          ],
          "name": "stderr"
        },
        {
          "output_type": "stream",
          "text": [
            "fold 1: mean position error 4.579596805140092\n"
          ],
          "name": "stdout"
        },
        {
          "output_type": "stream",
          "text": [
            "[4.6GB(+0.0GB): 21.742sec] fit X\n",
            "[4.6GB(+0.0GB): 16.946sec] fit Y\n",
            "[4.6GB(+0.0GB): 17.579sec] fit F\n"
          ],
          "name": "stderr"
        },
        {
          "output_type": "stream",
          "text": [
            "fold 2: mean position error 4.668471214319636\n"
          ],
          "name": "stdout"
        },
        {
          "output_type": "stream",
          "text": [
            "[4.6GB(+0.0GB): 15.102sec] fit X\n",
            "[4.6GB(+0.0GB): 17.355sec] fit Y\n",
            "[4.6GB(+0.0GB): 18.567sec] fit F\n"
          ],
          "name": "stderr"
        },
        {
          "output_type": "stream",
          "text": [
            "fold 3: mean position error 4.492146082713237\n"
          ],
          "name": "stdout"
        },
        {
          "output_type": "stream",
          "text": [
            "[4.6GB(+0.0GB): 18.815sec] fit X\n",
            "[4.6GB(+0.0GB): 20.680sec] fit Y\n",
            "[4.6GB(+0.0GB): 19.313sec] fit F\n"
          ],
          "name": "stderr"
        },
        {
          "output_type": "stream",
          "text": [
            "fold 4: mean position error 4.673033740144165\n"
          ],
          "name": "stdout"
        },
        {
          "output_type": "stream",
          "text": [
            "[4.6GB(+0.0GB): 20.671sec] fit X\n",
            "[4.6GB(+0.0GB): 18.787sec] fit Y\n",
            "[4.6GB(+0.0GB): 17.923sec] fit F\n"
          ],
          "name": "stderr"
        },
        {
          "output_type": "stream",
          "text": [
            "fold 5: mean position error 4.561368342618141\n"
          ],
          "name": "stdout"
        },
        {
          "output_type": "stream",
          "text": [
            "[4.6GB(+0.0GB): 25.120sec] fit X\n",
            "[4.6GB(+0.0GB): 17.109sec] fit Y\n",
            "[4.6GB(+0.0GB): 16.916sec] fit F\n"
          ],
          "name": "stderr"
        },
        {
          "output_type": "stream",
          "text": [
            "fold 6: mean position error 4.613073427812122\n"
          ],
          "name": "stdout"
        },
        {
          "output_type": "stream",
          "text": [
            "[4.6GB(+0.0GB): 16.883sec] fit X\n",
            "[4.6GB(+0.0GB): 15.833sec] fit Y\n",
            "[4.6GB(+0.0GB): 21.535sec] fit F\n"
          ],
          "name": "stderr"
        },
        {
          "output_type": "stream",
          "text": [
            "fold 7: mean position error 4.553876083142536\n"
          ],
          "name": "stdout"
        },
        {
          "output_type": "stream",
          "text": [
            "[4.6GB(+0.0GB): 22.548sec] fit X\n",
            "[4.6GB(+0.0GB): 14.863sec] fit Y\n",
            "[4.6GB(+0.0GB): 16.051sec] fit F\n"
          ],
          "name": "stderr"
        },
        {
          "output_type": "stream",
          "text": [
            "fold 8: mean position error 4.687569186507215\n"
          ],
          "name": "stdout"
        },
        {
          "output_type": "stream",
          "text": [
            "[4.6GB(+0.0GB): 16.442sec] fit X\n",
            "[4.6GB(+0.0GB): 20.333sec] fit Y\n",
            "[4.6GB(+0.0GB): 17.903sec] fit F\n"
          ],
          "name": "stderr"
        },
        {
          "output_type": "stream",
          "text": [
            "fold 9: mean position error 4.424360524448752\n",
            "*+*+*+*+*+*+*+*+*+*+*+*+*+*+*+*+*+*+*+*+*+*+*+*+*+*+*+*+*+*+*+*+*+*+*+*+*+*+*+*+\n",
            "file #23, shape=(15655, 1061), name=5dc8cea7659e181adb076a3f_500_train.csv\n",
            "mean position error 4.589097702834179\n",
            "*+*+*+*+*+*+*+*+*+*+*+*+*+*+*+*+*+*+*+*+*+*+*+*+*+*+*+*+*+*+*+*+*+*+*+*+*+*+*+*+\n"
          ],
          "name": "stdout"
        }
      ]
    },
    {
      "cell_type": "code",
      "metadata": {
        "id": "DuIro-hLyGS9"
      },
      "source": [
        "all_preds = pd.concat(predictions)\n",
        "all_preds = all_preds.reindex(subm.index)\n",
        "all_preds.to_csv('submission_lgbm_03.csv')"
      ],
      "execution_count": 19,
      "outputs": []
    },
    {
      "cell_type": "code",
      "metadata": {
        "id": "OwcjO7RAyjlL"
      },
      "source": [
        "!mv /content/submission_lgbm_03.csv /content/drive/MyDrive"
      ],
      "execution_count": 20,
      "outputs": []
    },
    {
      "cell_type": "code",
      "metadata": {
        "id": "spMV_r8tym-p"
      },
      "source": [
        ""
      ],
      "execution_count": null,
      "outputs": []
    }
  ]
}