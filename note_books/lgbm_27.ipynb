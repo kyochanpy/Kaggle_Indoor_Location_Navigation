{
  "nbformat": 4,
  "nbformat_minor": 0,
  "metadata": {
    "colab": {
      "name": "Untitled16.ipynb",
      "provenance": [],
      "machine_shape": "hm",
      "mount_file_id": "https://github.com/kyochanpy/Kaggle_Indoor_Location_Navigation/blob/main/note_books/lgbm_03.ipynb",
      "authorship_tag": "ABX9TyMcnFjm3Ty76h/wHA6K6XS/",
      "include_colab_link": true
    },
    "kernelspec": {
      "name": "python3",
      "display_name": "Python 3"
    },
    "language_info": {
      "name": "python"
    },
    "accelerator": "GPU"
  },
  "cells": [
    {
      "cell_type": "markdown",
      "metadata": {
        "id": "view-in-github",
        "colab_type": "text"
      },
      "source": [
        "<a href=\"https://colab.research.google.com/github/kyochanpy/Kaggle_Indoor_Location_Navigation/blob/main/note_books/lgbm_27.ipynb\" target=\"_parent\"><img src=\"https://colab.research.google.com/assets/colab-badge.svg\" alt=\"Open In Colab\"/></a>"
      ]
    },
    {
      "cell_type": "code",
      "metadata": {
        "id": "6SU575qxxCew"
      },
      "source": [
        "import numpy as np\n",
        "import pandas as pd\n",
        "import shutil\n",
        "import scipy.stats as stats\n",
        "from pathlib import Path\n",
        "import glob\n",
        "from tqdm import tqdm\n",
        "\n",
        "\n",
        "from sklearn.model_selection import KFold\n",
        "import lightgbm as lgb\n",
        "\n",
        "import psutil\n",
        "import random\n",
        "import os\n",
        "import time\n",
        "import sys\n",
        "import math\n",
        "from contextlib import contextmanager\n",
        "\n",
        "from sklearn.preprocessing import LabelEncoder"
      ],
      "execution_count": 1,
      "outputs": []
    },
    {
      "cell_type": "code",
      "metadata": {
        "id": "sm4BoEzDxFPe"
      },
      "source": [
        "N_SPLITS = 10\n",
        "SEED = 42\n"
      ],
      "execution_count": 2,
      "outputs": []
    },
    {
      "cell_type": "code",
      "metadata": {
        "id": "TWuzNzX5xN-s"
      },
      "source": [
        "LOG_PATH = Path(\"./log/\")\n",
        "LOG_PATH.mkdir(parents=True, exist_ok=True)\n"
      ],
      "execution_count": 3,
      "outputs": []
    },
    {
      "cell_type": "code",
      "metadata": {
        "id": "KuXjg4fnxQsS"
      },
      "source": [
        "@contextmanager\n",
        "def timer(name: str):\n",
        "    t0 = time.time()\n",
        "    p = psutil.Process(os.getpid())\n",
        "    m0 = p.memory_info()[0] / 2. ** 30\n",
        "    try:\n",
        "        yield\n",
        "    finally:\n",
        "        m1 = p.memory_info()[0] / 2. ** 30\n",
        "        delta = m1 - m0\n",
        "        sign = '+' if delta >= 0 else '-'\n",
        "        delta = math.fabs(delta)\n",
        "        print(f\"[{m1:.1f}GB({sign}{delta:.1f}GB): {time.time() - t0:.3f}sec] {name}\", file=sys.stderr)\n"
      ],
      "execution_count": 4,
      "outputs": []
    },
    {
      "cell_type": "code",
      "metadata": {
        "id": "t-WJLWe9xUWC"
      },
      "source": [
        "def set_seed(seed=42):\n",
        "    random.seed(seed)\n",
        "    os.environ[\"PYTHONHASHSEED\"] = str(seed)\n",
        "    np.random.seed(seed)\n",
        "\n",
        "    \n",
        "def comp_metric(xhat, yhat, x, y):\n",
        "    intermediate = np.sqrt(np.power(xhat-x, 2) + np.power(yhat-y, 2))\n",
        "    return intermediate.sum()/xhat.shape[0]\n",
        "\n",
        "\n",
        "def score_log(df: pd.DataFrame, num_files: int, nam_file: str, data_shape: tuple, n_fold: int, seed: int, mpe: float):\n",
        "    score_dict = {'n_files': num_files, 'file_name': nam_file, 'shape': data_shape, 'fold': n_fold, 'seed': seed, 'score': mpe}\n",
        "    # noinspection PyTypeChecker\n",
        "    df = pd.concat([df, pd.DataFrame.from_dict([score_dict])])\n",
        "    df.to_csv(LOG_PATH / f\"log_score.csv\", index=False)\n",
        "    return df"
      ],
      "execution_count": 5,
      "outputs": []
    },
    {
      "cell_type": "code",
      "metadata": {
        "id": "-Y0snFNmxYSg"
      },
      "source": [
        "set_seed(SEED)\n"
      ],
      "execution_count": 6,
      "outputs": []
    },
    {
      "cell_type": "code",
      "metadata": {
        "id": "63hV5hB1xaad"
      },
      "source": [
        "feature_dir = \"/content/drive/MyDrive/all_data\"\n",
        "train_files = sorted(glob.glob(os.path.join(feature_dir, '*_train.csv')))\n",
        "test_files = sorted(glob.glob(os.path.join(feature_dir, '*_test.csv')))\n",
        "subm = pd.read_csv('/content/drive/MyDrive/sample_submission.csv', index_col=0)"
      ],
      "execution_count": 7,
      "outputs": []
    },
    {
      "cell_type": "code",
      "metadata": {
        "id": "VrCKhgNdxxc4"
      },
      "source": [
        "lgb_params = {'objective': 'root_mean_squared_error',\n",
        "              'boosting_type': 'gbdt',\n",
        "              'n_estimators': 50000,\n",
        "              'learning_rate': 0.1,\n",
        "              'num_leaves': 90,\n",
        "              'colsample_bytree': 0.4,\n",
        "              'subsample': 0.6,\n",
        "              'subsample_freq': 2,\n",
        "              'bagging_seed': SEED,\n",
        "              'reg_alpha': 8,\n",
        "              'reg_lambda': 2,\n",
        "              'random_state': SEED,\n",
        "              'n_jobs': -1\n",
        "              }"
      ],
      "execution_count": 8,
      "outputs": []
    },
    {
      "cell_type": "markdown",
      "metadata": {
        "id": "CKznA-EnAvv3"
      },
      "source": [
        "# 関数"
      ]
    },
    {
      "cell_type": "code",
      "metadata": {
        "id": "2OClZCWHA09X"
      },
      "source": [
        "def get_target_train(input_df):\n",
        "    output_df = input_df.loc[:, ['x', 'y', 'path', 'timestamp' ]]\n",
        "    return output_df\n",
        "\n",
        "\n",
        "def get_numerical_features_train(input_df):\n",
        "    output_df = input_df.drop(['beacon_uuid', 'beacon_major_id', 'beacon_minor_id', 'beacon_mac_addr',\n",
        "                               'timestamp' ,'x', 'y', 'path'], axis=1)\n",
        "    return output_df\n",
        "\n",
        "def get_le_features(input_df):\n",
        "    cat_cols = ['beacon_mac_addr']\n",
        "    output_df = pd.DataFrame()\n",
        "    for c in cat_cols:\n",
        "        le = LabelEncoder()\n",
        "        le.fit(input_df[c].astype(str))\n",
        "        output_df[\"LE_\"+c] = le.transform(input_df[c].astype(str))\n",
        "    return output_df\n",
        "\n",
        "def get_sum_sensor_features(input_df):\n",
        "    output_df = pd.DataFrame()\n",
        "    output_df['sum_sensor_x'] = input_df['acc_x'] + input_df['acc_unc_x'] + input_df['acc_unc_x2'] + input_df['gyro_x'] + input_df['gyro_unc_x'] + input_df['gyro_unc_x2'] + input_df['mag_x'] + input_df['mag_unc_x'] + input_df['mag_unc_x2'] + input_df['rotation_x']\n",
        "    output_df['sum_sensor_y'] = input_df['acc_y'] + input_df['acc_unc_y'] + input_df['acc_unc_y2'] + input_df['gyro_y'] + input_df['gyro_unc_y'] + input_df['gyro_unc_y2'] + input_df['mag_y'] + input_df['mag_unc_y'] + input_df['mag_unc_y2'] + input_df['rotation_y']\n",
        "    output_df['sum_sensor_xy'] = output_df['sum_sensor_x'] + output_df['sum_sensor_y']\n",
        "    return output_df"
      ],
      "execution_count": 37,
      "outputs": []
    },
    {
      "cell_type": "code",
      "metadata": {
        "id": "yoJ9DRYmDkpr"
      },
      "source": [
        "def get_target_test(input_df):\n",
        "    output_df = input_df.loc[:, ['site_path_timestamp', 'path', 'timestamp']]\n",
        "    return output_df\n",
        "\n",
        "\n",
        "def get_numerical_features_test(input_df):\n",
        "    output_df = input_df.drop(['beacon_uuid', 'beacon_major_id', 'beacon_minor_id', 'beacon_mac_addr',\n",
        "                               'site_path_timestamp', 'path', 'timestamp'], axis=1)\n",
        "    return output_df"
      ],
      "execution_count": 38,
      "outputs": []
    },
    {
      "cell_type": "code",
      "metadata": {
        "id": "7wyzRY0mEq5H"
      },
      "source": [
        "def get_process_funcs_train():\n",
        "    funcs = [get_sum_sensor_features,\n",
        "             get_numerical_features_train,\n",
        "             get_target_train]\n",
        "    return funcs\n",
        "\n",
        "def get_process_funcs_test():\n",
        "    funcs = [get_sum_sensor_features,\n",
        "             get_numerical_features_test,\n",
        "             get_target_test]\n",
        "    return funcs\n",
        "\n",
        "def to_feature(input_df, funcs):\n",
        "    output_df = pd.DataFrame()\n",
        "    for func in tqdm(funcs, total=len(funcs)):\n",
        "        _df = func(input_df)\n",
        "        assert len(_df) == len(input_df), func.__name__\n",
        "        output_df = pd.concat([output_df, _df], axis=1)\n",
        "\n",
        "    return output_df"
      ],
      "execution_count": 39,
      "outputs": []
    },
    {
      "cell_type": "code",
      "metadata": {
        "colab": {
          "base_uri": "https://localhost:8080/"
        },
        "id": "4ZOk9Sagx1Do",
        "outputId": "55842943-6cf9-48b7-923c-6b4ce10a939a"
      },
      "source": [
        "score_df = pd.DataFrame()\n",
        "oof = list()\n",
        "predictions = list()\n",
        "for n_files, file in enumerate(train_files):\n",
        "    data = pd.read_csv(file, index_col=0).rename({'f':'floor'}, axis=1).fillna(0)\n",
        "    test_data = pd.read_csv(test_files[n_files], index_col=0).fillna(0)\n",
        "\n",
        "    process_funcs_train = get_process_funcs_train()\n",
        "    process_funcs_test = get_process_funcs_test()\n",
        "    data = to_feature(data, process_funcs_train)\n",
        "    test_data = to_feature(test_data, process_funcs_test)\n",
        "\n",
        "    print(data.shape)\n",
        "    print(test_data.shape)\n",
        "\n",
        "    oof_x, oof_y = np.zeros(data.shape[0]), np.zeros(data.shape[0])\n",
        "    preds_x, preds_y = 0, 0\n",
        "\n",
        "    kf = KFold(n_splits=N_SPLITS, shuffle=True, random_state=SEED)\n",
        "    for fold, (trn_idx, val_idx) in enumerate(kf.split(data.iloc[:, :-4])):\n",
        "        X_train = data.iloc[trn_idx, :-4]\n",
        "        y_trainx = data.iloc[trn_idx, -4]\n",
        "        y_trainy = data.iloc[trn_idx, -3]\n",
        "\n",
        "        X_valid = data.iloc[val_idx, :-4]\n",
        "        y_validx = data.iloc[val_idx, -4]\n",
        "        y_validy = data.iloc[val_idx, -3]\n",
        "        \n",
        "        modelx = lgb.LGBMRegressor(**lgb_params)\n",
        "        with timer(\"fit X\"):\n",
        "            modelx.fit(X_train, y_trainx,\n",
        "                       eval_set=[(X_valid, y_validx)],\n",
        "                       eval_metric='rmse',\n",
        "                       verbose=False,\n",
        "                       early_stopping_rounds=20\n",
        "                       )\n",
        "\n",
        "        modely = lgb.LGBMRegressor(**lgb_params)\n",
        "        with timer(\"fit Y\"):\n",
        "            modely.fit(X_train, y_trainy,\n",
        "                       eval_set=[(X_valid, y_validy)],\n",
        "                       eval_metric='rmse',\n",
        "                       verbose=False,\n",
        "                       early_stopping_rounds=20\n",
        "                       )\n",
        "\n",
        "            \n",
        "        oof_x[val_idx] = modelx.predict(X_valid)\n",
        "        oof_y[val_idx] = modely.predict(X_valid)\n",
        "\n",
        "        preds_x += modelx.predict(test_data.iloc[:, :-3]) / N_SPLITS\n",
        "        preds_y += modely.predict(test_data.iloc[:, :-3]) / N_SPLITS\n",
        "        preds_f = test_data['floor'].values\n",
        "\n",
        "        score = comp_metric(oof_x[val_idx], oof_y[val_idx], y_validx.to_numpy(), y_validy.to_numpy())\n",
        "        print(f\"fold {fold}: mean position error {score}\")\n",
        "        score_df = score_log(score_df, n_files, os.path.basename(file), data.shape, fold, SEED, score)\n",
        "\n",
        "    print(\"*+\"*40)\n",
        "    print(f\"file #{n_files}, shape={data.shape}, name={os.path.basename(file)}\")\n",
        "    score = comp_metric(oof_x, oof_y,\n",
        "                        data.iloc[:, -4].to_numpy(), data.iloc[:, -3].to_numpy())\n",
        "    oof.append(score)\n",
        "    print(f\"mean position error {score}\")\n",
        "    print(\"*+\"*40)\n",
        "    score_df = score_log(score_df, n_files, os.path.basename(file), data.shape, 999, SEED, score)\n",
        "    \n",
        "    test_preds = pd.DataFrame(np.stack((preds_f, preds_x, preds_y))).T\n",
        "    test_preds.columns = subm.columns\n",
        "    test_preds.index = test_data[\"site_path_timestamp\"]\n",
        "    test_preds[\"floor\"] = test_preds[\"floor\"].astype(int)\n",
        "    predictions.append(test_preds)"
      ],
      "execution_count": 49,
      "outputs": [
        {
          "output_type": "stream",
          "text": [
            "100%|██████████| 3/3 [00:00<00:00,  8.19it/s]\n",
            "100%|██████████| 3/3 [00:00<00:00, 112.58it/s]\n"
          ],
          "name": "stderr"
        },
        {
          "output_type": "stream",
          "text": [
            "(9296, 3438)\n",
            "(299, 3437)\n"
          ],
          "name": "stdout"
        },
        {
          "output_type": "stream",
          "text": [
            "[13.9GB(+0.0GB): 17.532sec] fit X\n",
            "[13.9GB(+0.0GB): 15.061sec] fit Y\n"
          ],
          "name": "stderr"
        },
        {
          "output_type": "stream",
          "text": [
            "fold 0: mean position error 3.52492257299057\n"
          ],
          "name": "stdout"
        },
        {
          "output_type": "stream",
          "text": [
            "[13.9GB(+0.0GB): 18.735sec] fit X\n",
            "[13.9GB(+0.0GB): 17.341sec] fit Y\n"
          ],
          "name": "stderr"
        },
        {
          "output_type": "stream",
          "text": [
            "fold 1: mean position error 3.5479112525166783\n"
          ],
          "name": "stdout"
        },
        {
          "output_type": "stream",
          "text": [
            "[13.9GB(+0.0GB): 21.085sec] fit X\n",
            "[13.9GB(+0.0GB): 20.686sec] fit Y\n"
          ],
          "name": "stderr"
        },
        {
          "output_type": "stream",
          "text": [
            "fold 2: mean position error 3.6584631142762642\n"
          ],
          "name": "stdout"
        },
        {
          "output_type": "stream",
          "text": [
            "[13.9GB(+0.0GB): 15.109sec] fit X\n",
            "[13.9GB(+0.0GB): 14.512sec] fit Y\n"
          ],
          "name": "stderr"
        },
        {
          "output_type": "stream",
          "text": [
            "fold 3: mean position error 3.565473530327438\n"
          ],
          "name": "stdout"
        },
        {
          "output_type": "stream",
          "text": [
            "[13.9GB(+0.0GB): 20.730sec] fit X\n",
            "[13.9GB(+0.0GB): 16.219sec] fit Y\n"
          ],
          "name": "stderr"
        },
        {
          "output_type": "stream",
          "text": [
            "fold 4: mean position error 3.5852359138352945\n"
          ],
          "name": "stdout"
        },
        {
          "output_type": "stream",
          "text": [
            "[13.9GB(+0.0GB): 19.602sec] fit X\n",
            "[13.9GB(+0.0GB): 16.195sec] fit Y\n"
          ],
          "name": "stderr"
        },
        {
          "output_type": "stream",
          "text": [
            "fold 5: mean position error 3.7101761174722023\n"
          ],
          "name": "stdout"
        },
        {
          "output_type": "stream",
          "text": [
            "[13.9GB(+0.0GB): 16.535sec] fit X\n",
            "[13.9GB(+0.0GB): 15.408sec] fit Y\n"
          ],
          "name": "stderr"
        },
        {
          "output_type": "stream",
          "text": [
            "fold 6: mean position error 3.5313998218769513\n"
          ],
          "name": "stdout"
        },
        {
          "output_type": "stream",
          "text": [
            "[13.9GB(+0.0GB): 15.729sec] fit X\n",
            "[13.9GB(+0.0GB): 14.538sec] fit Y\n"
          ],
          "name": "stderr"
        },
        {
          "output_type": "stream",
          "text": [
            "fold 7: mean position error 3.4857255171902266\n"
          ],
          "name": "stdout"
        },
        {
          "output_type": "stream",
          "text": [
            "[13.9GB(+0.0GB): 12.577sec] fit X\n",
            "[13.9GB(+0.0GB): 13.297sec] fit Y\n"
          ],
          "name": "stderr"
        },
        {
          "output_type": "stream",
          "text": [
            "fold 8: mean position error 3.747712642234396\n"
          ],
          "name": "stdout"
        },
        {
          "output_type": "stream",
          "text": [
            "[13.9GB(+0.0GB): 16.710sec] fit X\n",
            "[13.9GB(+0.0GB): 18.762sec] fit Y\n"
          ],
          "name": "stderr"
        },
        {
          "output_type": "stream",
          "text": [
            "fold 9: mean position error 3.538539798780823\n",
            "*+*+*+*+*+*+*+*+*+*+*+*+*+*+*+*+*+*+*+*+*+*+*+*+*+*+*+*+*+*+*+*+*+*+*+*+*+*+*+*+\n",
            "file #0, shape=(9296, 3438), name=5a0546857ecc773753327266_train.csv\n",
            "mean position error 3.589561928142825\n",
            "*+*+*+*+*+*+*+*+*+*+*+*+*+*+*+*+*+*+*+*+*+*+*+*+*+*+*+*+*+*+*+*+*+*+*+*+*+*+*+*+\n"
          ],
          "name": "stdout"
        },
        {
          "output_type": "stream",
          "text": [
            "100%|██████████| 3/3 [00:00<00:00,  9.31it/s]\n",
            "100%|██████████| 3/3 [00:00<00:00, 225.36it/s]\n"
          ],
          "name": "stderr"
        },
        {
          "output_type": "stream",
          "text": [
            "(9737, 3104)\n",
            "(26, 3103)\n"
          ],
          "name": "stdout"
        },
        {
          "output_type": "stream",
          "text": [
            "[13.9GB(+0.0GB): 10.824sec] fit X\n",
            "[13.9GB(+0.0GB): 15.970sec] fit Y\n"
          ],
          "name": "stderr"
        },
        {
          "output_type": "stream",
          "text": [
            "fold 0: mean position error 5.246745283860767\n"
          ],
          "name": "stdout"
        },
        {
          "output_type": "stream",
          "text": [
            "[13.9GB(+0.0GB): 16.099sec] fit X\n",
            "[13.9GB(+0.0GB): 16.338sec] fit Y\n"
          ],
          "name": "stderr"
        },
        {
          "output_type": "stream",
          "text": [
            "fold 1: mean position error 4.525196588891777\n"
          ],
          "name": "stdout"
        },
        {
          "output_type": "stream",
          "text": [
            "[13.9GB(+0.0GB): 12.248sec] fit X\n",
            "[13.9GB(+0.0GB): 12.135sec] fit Y\n"
          ],
          "name": "stderr"
        },
        {
          "output_type": "stream",
          "text": [
            "fold 2: mean position error 4.7692721991163065\n"
          ],
          "name": "stdout"
        },
        {
          "output_type": "stream",
          "text": [
            "[13.9GB(+0.0GB): 16.342sec] fit X\n",
            "[13.9GB(+0.0GB): 17.475sec] fit Y\n"
          ],
          "name": "stderr"
        },
        {
          "output_type": "stream",
          "text": [
            "fold 3: mean position error 4.798861298025804\n"
          ],
          "name": "stdout"
        },
        {
          "output_type": "stream",
          "text": [
            "[13.9GB(+0.0GB): 11.738sec] fit X\n",
            "[13.9GB(+0.0GB): 9.483sec] fit Y\n"
          ],
          "name": "stderr"
        },
        {
          "output_type": "stream",
          "text": [
            "fold 4: mean position error 4.976503986555565\n"
          ],
          "name": "stdout"
        },
        {
          "output_type": "stream",
          "text": [
            "[13.9GB(+0.0GB): 13.549sec] fit X\n",
            "[13.9GB(+0.0GB): 16.535sec] fit Y\n"
          ],
          "name": "stderr"
        },
        {
          "output_type": "stream",
          "text": [
            "fold 5: mean position error 4.795059903671688\n"
          ],
          "name": "stdout"
        },
        {
          "output_type": "stream",
          "text": [
            "[13.9GB(+0.0GB): 14.517sec] fit X\n",
            "[13.9GB(+0.0GB): 11.965sec] fit Y\n"
          ],
          "name": "stderr"
        },
        {
          "output_type": "stream",
          "text": [
            "fold 6: mean position error 4.959967737576869\n"
          ],
          "name": "stdout"
        },
        {
          "output_type": "stream",
          "text": [
            "[13.9GB(+0.0GB): 15.277sec] fit X\n",
            "[13.9GB(+0.0GB): 16.057sec] fit Y\n"
          ],
          "name": "stderr"
        },
        {
          "output_type": "stream",
          "text": [
            "fold 7: mean position error 4.975237751026433\n"
          ],
          "name": "stdout"
        },
        {
          "output_type": "stream",
          "text": [
            "[13.9GB(+0.0GB): 11.983sec] fit X\n",
            "[13.9GB(+0.0GB): 17.292sec] fit Y\n"
          ],
          "name": "stderr"
        },
        {
          "output_type": "stream",
          "text": [
            "fold 8: mean position error 4.476819444517965\n"
          ],
          "name": "stdout"
        },
        {
          "output_type": "stream",
          "text": [
            "[13.9GB(+0.0GB): 13.653sec] fit X\n",
            "[13.9GB(+0.0GB): 12.610sec] fit Y\n"
          ],
          "name": "stderr"
        },
        {
          "output_type": "stream",
          "text": [
            "fold 9: mean position error 5.002324499403997\n",
            "*+*+*+*+*+*+*+*+*+*+*+*+*+*+*+*+*+*+*+*+*+*+*+*+*+*+*+*+*+*+*+*+*+*+*+*+*+*+*+*+\n",
            "file #1, shape=(9737, 3104), name=5c3c44b80379370013e0fd2b_train.csv\n",
            "mean position error 4.852609490083537\n",
            "*+*+*+*+*+*+*+*+*+*+*+*+*+*+*+*+*+*+*+*+*+*+*+*+*+*+*+*+*+*+*+*+*+*+*+*+*+*+*+*+\n"
          ],
          "name": "stdout"
        },
        {
          "output_type": "stream",
          "text": [
            "100%|██████████| 3/3 [00:01<00:00,  2.04it/s]\n",
            "100%|██████████| 3/3 [00:00<00:00, 167.15it/s]\n"
          ],
          "name": "stderr"
        },
        {
          "output_type": "stream",
          "text": [
            "(23666, 7070)\n",
            "(47, 7069)\n"
          ],
          "name": "stdout"
        },
        {
          "output_type": "stream",
          "text": [
            "[14.0GB(+0.0GB): 95.958sec] fit X\n",
            "[14.0GB(-0.0GB): 96.225sec] fit Y\n"
          ],
          "name": "stderr"
        },
        {
          "output_type": "stream",
          "text": [
            "fold 0: mean position error 4.204287813365462\n"
          ],
          "name": "stdout"
        },
        {
          "output_type": "stream",
          "text": [
            "[14.0GB(-0.0GB): 117.167sec] fit X\n",
            "[14.0GB(+0.0GB): 108.207sec] fit Y\n"
          ],
          "name": "stderr"
        },
        {
          "output_type": "stream",
          "text": [
            "fold 1: mean position error 4.085605400403797\n"
          ],
          "name": "stdout"
        },
        {
          "output_type": "stream",
          "text": [
            "[14.0GB(+0.0GB): 112.328sec] fit X\n",
            "[14.0GB(+0.0GB): 119.216sec] fit Y\n"
          ],
          "name": "stderr"
        },
        {
          "output_type": "stream",
          "text": [
            "fold 2: mean position error 4.13633327121619\n"
          ],
          "name": "stdout"
        },
        {
          "output_type": "stream",
          "text": [
            "[14.0GB(+0.0GB): 115.733sec] fit X\n",
            "[14.0GB(+0.0GB): 96.842sec] fit Y\n"
          ],
          "name": "stderr"
        },
        {
          "output_type": "stream",
          "text": [
            "fold 3: mean position error 4.128884283154798\n"
          ],
          "name": "stdout"
        },
        {
          "output_type": "stream",
          "text": [
            "[14.0GB(+0.0GB): 108.671sec] fit X\n",
            "[14.0GB(-0.0GB): 111.118sec] fit Y\n"
          ],
          "name": "stderr"
        },
        {
          "output_type": "stream",
          "text": [
            "fold 4: mean position error 4.201470159450723\n"
          ],
          "name": "stdout"
        },
        {
          "output_type": "stream",
          "text": [
            "[14.0GB(+0.0GB): 112.121sec] fit X\n",
            "[14.0GB(+0.0GB): 104.785sec] fit Y\n"
          ],
          "name": "stderr"
        },
        {
          "output_type": "stream",
          "text": [
            "fold 5: mean position error 4.097396472757992\n"
          ],
          "name": "stdout"
        },
        {
          "output_type": "stream",
          "text": [
            "[14.0GB(+0.0GB): 82.211sec] fit X\n",
            "[14.0GB(+0.0GB): 97.020sec] fit Y\n"
          ],
          "name": "stderr"
        },
        {
          "output_type": "stream",
          "text": [
            "fold 6: mean position error 4.209493402632545\n"
          ],
          "name": "stdout"
        },
        {
          "output_type": "stream",
          "text": [
            "[14.0GB(+0.0GB): 77.989sec] fit X\n",
            "[14.0GB(+0.0GB): 90.592sec] fit Y\n"
          ],
          "name": "stderr"
        },
        {
          "output_type": "stream",
          "text": [
            "fold 7: mean position error 4.055365106327568\n"
          ],
          "name": "stdout"
        },
        {
          "output_type": "stream",
          "text": [
            "[14.0GB(+0.0GB): 92.791sec] fit X\n",
            "[14.0GB(+0.0GB): 84.520sec] fit Y\n"
          ],
          "name": "stderr"
        },
        {
          "output_type": "stream",
          "text": [
            "fold 8: mean position error 4.268213541383215\n"
          ],
          "name": "stdout"
        },
        {
          "output_type": "stream",
          "text": [
            "[14.0GB(+0.0GB): 98.070sec] fit X\n",
            "[14.0GB(+0.0GB): 104.537sec] fit Y\n"
          ],
          "name": "stderr"
        },
        {
          "output_type": "stream",
          "text": [
            "fold 9: mean position error 4.099052292861515\n",
            "*+*+*+*+*+*+*+*+*+*+*+*+*+*+*+*+*+*+*+*+*+*+*+*+*+*+*+*+*+*+*+*+*+*+*+*+*+*+*+*+\n",
            "file #2, shape=(23666, 7070), name=5d27075f03f801723c2e360f_train.csv\n",
            "mean position error 4.148608582043804\n",
            "*+*+*+*+*+*+*+*+*+*+*+*+*+*+*+*+*+*+*+*+*+*+*+*+*+*+*+*+*+*+*+*+*+*+*+*+*+*+*+*+\n"
          ],
          "name": "stdout"
        },
        {
          "output_type": "stream",
          "text": [
            "100%|██████████| 3/3 [00:00<00:00,  7.59it/s]\n",
            "100%|██████████| 3/3 [00:00<00:00, 54.99it/s]\n"
          ],
          "name": "stderr"
        },
        {
          "output_type": "stream",
          "text": [
            "(9100, 5005)\n",
            "(654, 5004)\n"
          ],
          "name": "stdout"
        },
        {
          "output_type": "stream",
          "text": [
            "[14.0GB(+0.0GB): 9.590sec] fit X\n",
            "[14.0GB(+0.0GB): 8.138sec] fit Y\n"
          ],
          "name": "stderr"
        },
        {
          "output_type": "stream",
          "text": [
            "fold 0: mean position error 2.8881661049072607\n"
          ],
          "name": "stdout"
        },
        {
          "output_type": "stream",
          "text": [
            "[13.9GB(-0.0GB): 8.482sec] fit X\n",
            "[13.9GB(+0.0GB): 9.229sec] fit Y\n"
          ],
          "name": "stderr"
        },
        {
          "output_type": "stream",
          "text": [
            "fold 1: mean position error 2.935678507654468\n"
          ],
          "name": "stdout"
        },
        {
          "output_type": "stream",
          "text": [
            "[13.9GB(+0.0GB): 12.059sec] fit X\n",
            "[13.9GB(+0.0GB): 9.665sec] fit Y\n"
          ],
          "name": "stderr"
        },
        {
          "output_type": "stream",
          "text": [
            "fold 2: mean position error 2.859415122880052\n"
          ],
          "name": "stdout"
        },
        {
          "output_type": "stream",
          "text": [
            "[13.9GB(+0.0GB): 10.553sec] fit X\n",
            "[13.9GB(+0.0GB): 7.930sec] fit Y\n"
          ],
          "name": "stderr"
        },
        {
          "output_type": "stream",
          "text": [
            "fold 3: mean position error 2.779122619377593\n"
          ],
          "name": "stdout"
        },
        {
          "output_type": "stream",
          "text": [
            "[13.9GB(+0.0GB): 10.194sec] fit X\n",
            "[13.9GB(+0.0GB): 9.051sec] fit Y\n"
          ],
          "name": "stderr"
        },
        {
          "output_type": "stream",
          "text": [
            "fold 4: mean position error 3.0218016381088573\n"
          ],
          "name": "stdout"
        },
        {
          "output_type": "stream",
          "text": [
            "[13.9GB(+0.0GB): 7.621sec] fit X\n",
            "[13.9GB(+0.0GB): 7.572sec] fit Y\n"
          ],
          "name": "stderr"
        },
        {
          "output_type": "stream",
          "text": [
            "fold 5: mean position error 3.0475326335493813\n"
          ],
          "name": "stdout"
        },
        {
          "output_type": "stream",
          "text": [
            "[13.9GB(+0.0GB): 6.413sec] fit X\n",
            "[13.9GB(+0.0GB): 9.213sec] fit Y\n"
          ],
          "name": "stderr"
        },
        {
          "output_type": "stream",
          "text": [
            "fold 6: mean position error 2.8881319432306514\n"
          ],
          "name": "stdout"
        },
        {
          "output_type": "stream",
          "text": [
            "[13.9GB(+0.0GB): 7.840sec] fit X\n",
            "[13.9GB(+0.0GB): 7.642sec] fit Y\n"
          ],
          "name": "stderr"
        },
        {
          "output_type": "stream",
          "text": [
            "fold 7: mean position error 3.0351139900636563\n"
          ],
          "name": "stdout"
        },
        {
          "output_type": "stream",
          "text": [
            "[13.9GB(+0.0GB): 8.744sec] fit X\n",
            "[13.9GB(+0.0GB): 11.412sec] fit Y\n"
          ],
          "name": "stderr"
        },
        {
          "output_type": "stream",
          "text": [
            "fold 8: mean position error 2.9026478109840954\n"
          ],
          "name": "stdout"
        },
        {
          "output_type": "stream",
          "text": [
            "[13.9GB(+0.0GB): 7.898sec] fit X\n",
            "[13.9GB(+0.0GB): 8.776sec] fit Y\n"
          ],
          "name": "stderr"
        },
        {
          "output_type": "stream",
          "text": [
            "fold 9: mean position error 2.931415720822722\n",
            "*+*+*+*+*+*+*+*+*+*+*+*+*+*+*+*+*+*+*+*+*+*+*+*+*+*+*+*+*+*+*+*+*+*+*+*+*+*+*+*+\n",
            "file #3, shape=(9100, 5005), name=5d27096c03f801723c31e5e0_train.csv\n",
            "mean position error 2.928902609157874\n",
            "*+*+*+*+*+*+*+*+*+*+*+*+*+*+*+*+*+*+*+*+*+*+*+*+*+*+*+*+*+*+*+*+*+*+*+*+*+*+*+*+\n"
          ],
          "name": "stdout"
        },
        {
          "output_type": "stream",
          "text": [
            "/usr/local/lib/python3.7/dist-packages/IPython/core/interactiveshell.py:2718: DtypeWarning: Columns (2491,2492,2493,2497) have mixed types.Specify dtype option on import or set low_memory=False.\n",
            "  interactivity=interactivity, compiler=compiler, result=result)\n",
            "100%|██████████| 3/3 [00:00<00:00, 10.72it/s]\n",
            "100%|██████████| 3/3 [00:00<00:00, 160.69it/s]\n"
          ],
          "name": "stderr"
        },
        {
          "output_type": "stream",
          "text": [
            "(10507, 2531)\n",
            "(303, 2530)\n"
          ],
          "name": "stdout"
        },
        {
          "output_type": "stream",
          "text": [
            "[13.9GB(+0.0GB): 14.474sec] fit X\n",
            "[13.9GB(-0.0GB): 9.631sec] fit Y\n"
          ],
          "name": "stderr"
        },
        {
          "output_type": "stream",
          "text": [
            "fold 0: mean position error 5.474635183999677\n"
          ],
          "name": "stdout"
        },
        {
          "output_type": "stream",
          "text": [
            "[13.9GB(+0.0GB): 12.267sec] fit X\n",
            "[13.9GB(+0.0GB): 9.916sec] fit Y\n"
          ],
          "name": "stderr"
        },
        {
          "output_type": "stream",
          "text": [
            "fold 1: mean position error 5.452093622029086\n"
          ],
          "name": "stdout"
        },
        {
          "output_type": "stream",
          "text": [
            "[13.9GB(+0.0GB): 10.753sec] fit X\n",
            "[13.9GB(+0.0GB): 12.140sec] fit Y\n"
          ],
          "name": "stderr"
        },
        {
          "output_type": "stream",
          "text": [
            "fold 2: mean position error 5.445931443831882\n"
          ],
          "name": "stdout"
        },
        {
          "output_type": "stream",
          "text": [
            "[13.9GB(+0.0GB): 14.391sec] fit X\n",
            "[13.9GB(+0.0GB): 10.052sec] fit Y\n"
          ],
          "name": "stderr"
        },
        {
          "output_type": "stream",
          "text": [
            "fold 3: mean position error 5.51073891214089\n"
          ],
          "name": "stdout"
        },
        {
          "output_type": "stream",
          "text": [
            "[13.9GB(+0.0GB): 13.950sec] fit X\n",
            "[13.9GB(+0.0GB): 10.110sec] fit Y\n"
          ],
          "name": "stderr"
        },
        {
          "output_type": "stream",
          "text": [
            "fold 4: mean position error 5.474607424095047\n"
          ],
          "name": "stdout"
        },
        {
          "output_type": "stream",
          "text": [
            "[13.9GB(+0.0GB): 9.151sec] fit X\n",
            "[13.9GB(+0.0GB): 8.992sec] fit Y\n"
          ],
          "name": "stderr"
        },
        {
          "output_type": "stream",
          "text": [
            "fold 5: mean position error 5.358829364924918\n"
          ],
          "name": "stdout"
        },
        {
          "output_type": "stream",
          "text": [
            "[13.9GB(+0.0GB): 8.478sec] fit X\n",
            "[13.9GB(+0.0GB): 13.595sec] fit Y\n"
          ],
          "name": "stderr"
        },
        {
          "output_type": "stream",
          "text": [
            "fold 6: mean position error 5.235099746723466\n"
          ],
          "name": "stdout"
        },
        {
          "output_type": "stream",
          "text": [
            "[13.9GB(+0.0GB): 11.709sec] fit X\n",
            "[13.9GB(+0.0GB): 9.564sec] fit Y\n"
          ],
          "name": "stderr"
        },
        {
          "output_type": "stream",
          "text": [
            "fold 7: mean position error 5.399164016393205\n"
          ],
          "name": "stdout"
        },
        {
          "output_type": "stream",
          "text": [
            "[13.9GB(+0.0GB): 8.833sec] fit X\n",
            "[13.9GB(+0.0GB): 10.100sec] fit Y\n"
          ],
          "name": "stderr"
        },
        {
          "output_type": "stream",
          "text": [
            "fold 8: mean position error 5.635570434507416\n"
          ],
          "name": "stdout"
        },
        {
          "output_type": "stream",
          "text": [
            "[13.9GB(+0.0GB): 13.900sec] fit X\n",
            "[13.9GB(+0.0GB): 9.265sec] fit Y\n"
          ],
          "name": "stderr"
        },
        {
          "output_type": "stream",
          "text": [
            "fold 9: mean position error 5.399439700553842\n",
            "*+*+*+*+*+*+*+*+*+*+*+*+*+*+*+*+*+*+*+*+*+*+*+*+*+*+*+*+*+*+*+*+*+*+*+*+*+*+*+*+\n",
            "file #4, shape=(10507, 2531), name=5d27097f03f801723c320d97_train.csv\n",
            "mean position error 5.438599721838503\n",
            "*+*+*+*+*+*+*+*+*+*+*+*+*+*+*+*+*+*+*+*+*+*+*+*+*+*+*+*+*+*+*+*+*+*+*+*+*+*+*+*+\n"
          ],
          "name": "stdout"
        },
        {
          "output_type": "stream",
          "text": [
            "100%|██████████| 3/3 [00:00<00:00, 48.34it/s]\n",
            "100%|██████████| 3/3 [00:00<00:00, 231.67it/s]\n"
          ],
          "name": "stderr"
        },
        {
          "output_type": "stream",
          "text": [
            "(4251, 966)\n",
            "(49, 965)\n"
          ],
          "name": "stdout"
        },
        {
          "output_type": "stream",
          "text": [
            "[13.9GB(+0.0GB): 2.117sec] fit X\n",
            "[13.9GB(+0.0GB): 2.184sec] fit Y\n"
          ],
          "name": "stderr"
        },
        {
          "output_type": "stream",
          "text": [
            "fold 0: mean position error 2.9193450185204823\n"
          ],
          "name": "stdout"
        },
        {
          "output_type": "stream",
          "text": [
            "[13.9GB(+0.0GB): 2.032sec] fit X\n",
            "[13.9GB(+0.0GB): 2.788sec] fit Y\n"
          ],
          "name": "stderr"
        },
        {
          "output_type": "stream",
          "text": [
            "fold 1: mean position error 2.8827883453713397\n"
          ],
          "name": "stdout"
        },
        {
          "output_type": "stream",
          "text": [
            "[13.9GB(+0.0GB): 2.444sec] fit X\n",
            "[13.9GB(+0.0GB): 1.755sec] fit Y\n"
          ],
          "name": "stderr"
        },
        {
          "output_type": "stream",
          "text": [
            "fold 2: mean position error 2.7472977417562263\n"
          ],
          "name": "stdout"
        },
        {
          "output_type": "stream",
          "text": [
            "[13.9GB(+0.0GB): 1.705sec] fit X\n",
            "[13.9GB(+0.0GB): 1.780sec] fit Y\n"
          ],
          "name": "stderr"
        },
        {
          "output_type": "stream",
          "text": [
            "fold 3: mean position error 2.9912688939040373\n"
          ],
          "name": "stdout"
        },
        {
          "output_type": "stream",
          "text": [
            "[13.9GB(+0.0GB): 2.406sec] fit X\n",
            "[13.9GB(+0.0GB): 1.871sec] fit Y\n"
          ],
          "name": "stderr"
        },
        {
          "output_type": "stream",
          "text": [
            "fold 4: mean position error 2.8187983696332135\n"
          ],
          "name": "stdout"
        },
        {
          "output_type": "stream",
          "text": [
            "[13.9GB(+0.0GB): 1.683sec] fit X\n",
            "[13.9GB(+0.0GB): 2.842sec] fit Y\n"
          ],
          "name": "stderr"
        },
        {
          "output_type": "stream",
          "text": [
            "fold 5: mean position error 3.0612165894453787\n"
          ],
          "name": "stdout"
        },
        {
          "output_type": "stream",
          "text": [
            "[13.9GB(+0.0GB): 1.715sec] fit X\n",
            "[13.9GB(+0.0GB): 1.995sec] fit Y\n"
          ],
          "name": "stderr"
        },
        {
          "output_type": "stream",
          "text": [
            "fold 6: mean position error 2.909281874031471\n"
          ],
          "name": "stdout"
        },
        {
          "output_type": "stream",
          "text": [
            "[13.9GB(+0.0GB): 1.823sec] fit X\n",
            "[13.9GB(+0.0GB): 2.582sec] fit Y\n"
          ],
          "name": "stderr"
        },
        {
          "output_type": "stream",
          "text": [
            "fold 7: mean position error 3.014933131885275\n"
          ],
          "name": "stdout"
        },
        {
          "output_type": "stream",
          "text": [
            "[13.9GB(+0.0GB): 1.864sec] fit X\n",
            "[13.9GB(+0.0GB): 2.037sec] fit Y\n"
          ],
          "name": "stderr"
        },
        {
          "output_type": "stream",
          "text": [
            "fold 8: mean position error 2.856951046506334\n"
          ],
          "name": "stdout"
        },
        {
          "output_type": "stream",
          "text": [
            "[13.9GB(+0.0GB): 1.991sec] fit X\n",
            "[13.9GB(+0.0GB): 2.657sec] fit Y\n"
          ],
          "name": "stderr"
        },
        {
          "output_type": "stream",
          "text": [
            "fold 9: mean position error 2.9760377265622093\n",
            "*+*+*+*+*+*+*+*+*+*+*+*+*+*+*+*+*+*+*+*+*+*+*+*+*+*+*+*+*+*+*+*+*+*+*+*+*+*+*+*+\n",
            "file #5, shape=(4251, 966), name=5d27099f03f801723c32511d_train.csv\n",
            "mean position error 2.9177922391214555\n",
            "*+*+*+*+*+*+*+*+*+*+*+*+*+*+*+*+*+*+*+*+*+*+*+*+*+*+*+*+*+*+*+*+*+*+*+*+*+*+*+*+\n"
          ],
          "name": "stdout"
        },
        {
          "output_type": "stream",
          "text": [
            "100%|██████████| 3/3 [00:00<00:00, 39.16it/s]\n",
            "100%|██████████| 3/3 [00:00<00:00, 198.93it/s]\n"
          ],
          "name": "stderr"
        },
        {
          "output_type": "stream",
          "text": [
            "(3940, 1293)\n",
            "(218, 1292)\n"
          ],
          "name": "stdout"
        },
        {
          "output_type": "stream",
          "text": [
            "[13.9GB(+0.0GB): 3.015sec] fit X\n",
            "[13.9GB(+0.0GB): 1.653sec] fit Y\n"
          ],
          "name": "stderr"
        },
        {
          "output_type": "stream",
          "text": [
            "fold 0: mean position error 3.38982076334183\n"
          ],
          "name": "stdout"
        },
        {
          "output_type": "stream",
          "text": [
            "[13.9GB(+0.0GB): 3.196sec] fit X\n",
            "[13.9GB(+0.0GB): 3.751sec] fit Y\n"
          ],
          "name": "stderr"
        },
        {
          "output_type": "stream",
          "text": [
            "fold 1: mean position error 3.387635393440205\n"
          ],
          "name": "stdout"
        },
        {
          "output_type": "stream",
          "text": [
            "[13.9GB(+0.0GB): 2.519sec] fit X\n",
            "[13.9GB(+0.0GB): 2.438sec] fit Y\n"
          ],
          "name": "stderr"
        },
        {
          "output_type": "stream",
          "text": [
            "fold 2: mean position error 3.325448065216248\n"
          ],
          "name": "stdout"
        },
        {
          "output_type": "stream",
          "text": [
            "[13.9GB(+0.0GB): 2.669sec] fit X\n",
            "[13.9GB(+0.0GB): 1.461sec] fit Y\n"
          ],
          "name": "stderr"
        },
        {
          "output_type": "stream",
          "text": [
            "fold 3: mean position error 3.487560679612436\n"
          ],
          "name": "stdout"
        },
        {
          "output_type": "stream",
          "text": [
            "[13.9GB(+0.0GB): 2.364sec] fit X\n",
            "[13.9GB(+0.0GB): 2.411sec] fit Y\n"
          ],
          "name": "stderr"
        },
        {
          "output_type": "stream",
          "text": [
            "fold 4: mean position error 3.520855643391319\n"
          ],
          "name": "stdout"
        },
        {
          "output_type": "stream",
          "text": [
            "[13.9GB(+0.0GB): 2.582sec] fit X\n",
            "[13.9GB(+0.0GB): 1.791sec] fit Y\n"
          ],
          "name": "stderr"
        },
        {
          "output_type": "stream",
          "text": [
            "fold 5: mean position error 3.505743452475135\n"
          ],
          "name": "stdout"
        },
        {
          "output_type": "stream",
          "text": [
            "[13.9GB(+0.0GB): 2.021sec] fit X\n",
            "[13.9GB(+0.0GB): 2.318sec] fit Y\n"
          ],
          "name": "stderr"
        },
        {
          "output_type": "stream",
          "text": [
            "fold 6: mean position error 3.3631128851306706\n"
          ],
          "name": "stdout"
        },
        {
          "output_type": "stream",
          "text": [
            "[13.9GB(+0.0GB): 1.758sec] fit X\n",
            "[13.9GB(+0.0GB): 1.606sec] fit Y\n"
          ],
          "name": "stderr"
        },
        {
          "output_type": "stream",
          "text": [
            "fold 7: mean position error 3.3374520790991613\n"
          ],
          "name": "stdout"
        },
        {
          "output_type": "stream",
          "text": [
            "[13.9GB(+0.0GB): 2.424sec] fit X\n",
            "[13.9GB(+0.0GB): 1.976sec] fit Y\n"
          ],
          "name": "stderr"
        },
        {
          "output_type": "stream",
          "text": [
            "fold 8: mean position error 3.370120274643203\n"
          ],
          "name": "stdout"
        },
        {
          "output_type": "stream",
          "text": [
            "[13.9GB(+0.0GB): 1.705sec] fit X\n",
            "[13.9GB(+0.0GB): 1.673sec] fit Y\n"
          ],
          "name": "stderr"
        },
        {
          "output_type": "stream",
          "text": [
            "fold 9: mean position error 3.18802478611012\n",
            "*+*+*+*+*+*+*+*+*+*+*+*+*+*+*+*+*+*+*+*+*+*+*+*+*+*+*+*+*+*+*+*+*+*+*+*+*+*+*+*+\n",
            "file #6, shape=(3940, 1293), name=5d2709a003f801723c3251bf_train.csv\n",
            "mean position error 3.3875774022460328\n",
            "*+*+*+*+*+*+*+*+*+*+*+*+*+*+*+*+*+*+*+*+*+*+*+*+*+*+*+*+*+*+*+*+*+*+*+*+*+*+*+*+\n"
          ],
          "name": "stdout"
        },
        {
          "output_type": "stream",
          "text": [
            "100%|██████████| 3/3 [00:00<00:00,  8.07it/s]\n",
            "100%|██████████| 3/3 [00:00<00:00, 120.79it/s]\n"
          ],
          "name": "stderr"
        },
        {
          "output_type": "stream",
          "text": [
            "(15358, 1954)\n",
            "(527, 1953)\n"
          ],
          "name": "stdout"
        },
        {
          "output_type": "stream",
          "text": [
            "[13.9GB(+0.0GB): 11.523sec] fit X\n",
            "[13.9GB(+0.0GB): 14.440sec] fit Y\n"
          ],
          "name": "stderr"
        },
        {
          "output_type": "stream",
          "text": [
            "fold 0: mean position error 3.5089496786118013\n"
          ],
          "name": "stdout"
        },
        {
          "output_type": "stream",
          "text": [
            "[13.9GB(+0.0GB): 14.234sec] fit X\n",
            "[13.9GB(+0.0GB): 13.470sec] fit Y\n"
          ],
          "name": "stderr"
        },
        {
          "output_type": "stream",
          "text": [
            "fold 1: mean position error 3.4454644991463836\n"
          ],
          "name": "stdout"
        },
        {
          "output_type": "stream",
          "text": [
            "[13.9GB(+0.0GB): 16.092sec] fit X\n",
            "[13.9GB(+0.0GB): 15.323sec] fit Y\n"
          ],
          "name": "stderr"
        },
        {
          "output_type": "stream",
          "text": [
            "fold 2: mean position error 3.4473008326233887\n"
          ],
          "name": "stdout"
        },
        {
          "output_type": "stream",
          "text": [
            "[13.9GB(+0.0GB): 14.045sec] fit X\n",
            "[13.9GB(+0.0GB): 27.235sec] fit Y\n"
          ],
          "name": "stderr"
        },
        {
          "output_type": "stream",
          "text": [
            "fold 3: mean position error 3.4507453168070956\n"
          ],
          "name": "stdout"
        },
        {
          "output_type": "stream",
          "text": [
            "[13.9GB(+0.0GB): 15.453sec] fit X\n",
            "[13.9GB(+0.0GB): 16.685sec] fit Y\n"
          ],
          "name": "stderr"
        },
        {
          "output_type": "stream",
          "text": [
            "fold 4: mean position error 3.4998181554177576\n"
          ],
          "name": "stdout"
        },
        {
          "output_type": "stream",
          "text": [
            "[13.9GB(+0.0GB): 18.066sec] fit X\n",
            "[13.9GB(+0.0GB): 19.599sec] fit Y\n"
          ],
          "name": "stderr"
        },
        {
          "output_type": "stream",
          "text": [
            "fold 5: mean position error 3.4758620167326577\n"
          ],
          "name": "stdout"
        },
        {
          "output_type": "stream",
          "text": [
            "[13.9GB(+0.0GB): 16.072sec] fit X\n",
            "[13.9GB(+0.0GB): 16.703sec] fit Y\n"
          ],
          "name": "stderr"
        },
        {
          "output_type": "stream",
          "text": [
            "fold 6: mean position error 3.48575476719828\n"
          ],
          "name": "stdout"
        },
        {
          "output_type": "stream",
          "text": [
            "[13.9GB(+0.0GB): 21.993sec] fit X\n",
            "[13.9GB(+0.0GB): 15.953sec] fit Y\n"
          ],
          "name": "stderr"
        },
        {
          "output_type": "stream",
          "text": [
            "fold 7: mean position error 3.4222098869034876\n"
          ],
          "name": "stdout"
        },
        {
          "output_type": "stream",
          "text": [
            "[13.9GB(+0.0GB): 12.277sec] fit X\n",
            "[13.9GB(+0.0GB): 22.617sec] fit Y\n"
          ],
          "name": "stderr"
        },
        {
          "output_type": "stream",
          "text": [
            "fold 8: mean position error 3.390271329000263\n"
          ],
          "name": "stdout"
        },
        {
          "output_type": "stream",
          "text": [
            "[13.9GB(+0.0GB): 15.227sec] fit X\n",
            "[13.9GB(+0.0GB): 14.859sec] fit Y\n"
          ],
          "name": "stderr"
        },
        {
          "output_type": "stream",
          "text": [
            "fold 9: mean position error 3.304234159363918\n",
            "*+*+*+*+*+*+*+*+*+*+*+*+*+*+*+*+*+*+*+*+*+*+*+*+*+*+*+*+*+*+*+*+*+*+*+*+*+*+*+*+\n",
            "file #7, shape=(15358, 1954), name=5d2709b303f801723c327472_train.csv\n",
            "mean position error 3.443073540846736\n",
            "*+*+*+*+*+*+*+*+*+*+*+*+*+*+*+*+*+*+*+*+*+*+*+*+*+*+*+*+*+*+*+*+*+*+*+*+*+*+*+*+\n"
          ],
          "name": "stdout"
        },
        {
          "output_type": "stream",
          "text": [
            "/usr/local/lib/python3.7/dist-packages/IPython/core/interactiveshell.py:2718: DtypeWarning: Columns (2453,2454,2455,2459) have mixed types.Specify dtype option on import or set low_memory=False.\n",
            "  interactivity=interactivity, compiler=compiler, result=result)\n",
            "100%|██████████| 3/3 [00:00<00:00,  7.40it/s]\n",
            "100%|██████████| 3/3 [00:00<00:00, 86.35it/s]\n"
          ],
          "name": "stderr"
        },
        {
          "output_type": "stream",
          "text": [
            "(17203, 2493)\n",
            "(716, 2492)\n"
          ],
          "name": "stdout"
        },
        {
          "output_type": "stream",
          "text": [
            "[13.9GB(+0.0GB): 28.848sec] fit X\n",
            "[13.9GB(+0.0GB): 14.185sec] fit Y\n"
          ],
          "name": "stderr"
        },
        {
          "output_type": "stream",
          "text": [
            "fold 0: mean position error 3.8040183406975125\n"
          ],
          "name": "stdout"
        },
        {
          "output_type": "stream",
          "text": [
            "[13.9GB(+0.0GB): 27.676sec] fit X\n",
            "[13.9GB(+0.0GB): 24.805sec] fit Y\n"
          ],
          "name": "stderr"
        },
        {
          "output_type": "stream",
          "text": [
            "fold 1: mean position error 3.7418439963533237\n"
          ],
          "name": "stdout"
        },
        {
          "output_type": "stream",
          "text": [
            "[13.9GB(+0.0GB): 31.966sec] fit X\n",
            "[13.9GB(+0.0GB): 27.385sec] fit Y\n"
          ],
          "name": "stderr"
        },
        {
          "output_type": "stream",
          "text": [
            "fold 2: mean position error 3.782067558381652\n"
          ],
          "name": "stdout"
        },
        {
          "output_type": "stream",
          "text": [
            "[13.9GB(+0.0GB): 28.471sec] fit X\n",
            "[13.9GB(+0.0GB): 29.237sec] fit Y\n"
          ],
          "name": "stderr"
        },
        {
          "output_type": "stream",
          "text": [
            "fold 3: mean position error 3.8074204788071278\n"
          ],
          "name": "stdout"
        },
        {
          "output_type": "stream",
          "text": [
            "[13.9GB(+0.0GB): 21.571sec] fit X\n",
            "[13.9GB(+0.0GB): 24.629sec] fit Y\n"
          ],
          "name": "stderr"
        },
        {
          "output_type": "stream",
          "text": [
            "fold 4: mean position error 3.6768337542631673\n"
          ],
          "name": "stdout"
        },
        {
          "output_type": "stream",
          "text": [
            "[13.9GB(+0.0GB): 26.994sec] fit X\n",
            "[13.9GB(+0.0GB): 23.416sec] fit Y\n"
          ],
          "name": "stderr"
        },
        {
          "output_type": "stream",
          "text": [
            "fold 5: mean position error 3.646413060352698\n"
          ],
          "name": "stdout"
        },
        {
          "output_type": "stream",
          "text": [
            "[13.9GB(+0.0GB): 24.325sec] fit X\n",
            "[13.9GB(+0.0GB): 26.692sec] fit Y\n"
          ],
          "name": "stderr"
        },
        {
          "output_type": "stream",
          "text": [
            "fold 6: mean position error 3.8411876009798265\n"
          ],
          "name": "stdout"
        },
        {
          "output_type": "stream",
          "text": [
            "[13.9GB(+0.0GB): 23.803sec] fit X\n",
            "[13.9GB(+0.0GB): 21.024sec] fit Y\n"
          ],
          "name": "stderr"
        },
        {
          "output_type": "stream",
          "text": [
            "fold 7: mean position error 3.8153993297153943\n"
          ],
          "name": "stdout"
        },
        {
          "output_type": "stream",
          "text": [
            "[13.9GB(+0.0GB): 21.446sec] fit X\n",
            "[13.9GB(+0.0GB): 26.413sec] fit Y\n"
          ],
          "name": "stderr"
        },
        {
          "output_type": "stream",
          "text": [
            "fold 8: mean position error 3.689154527242112\n"
          ],
          "name": "stdout"
        },
        {
          "output_type": "stream",
          "text": [
            "[13.9GB(+0.0GB): 22.798sec] fit X\n",
            "[13.9GB(+0.0GB): 22.942sec] fit Y\n"
          ],
          "name": "stderr"
        },
        {
          "output_type": "stream",
          "text": [
            "fold 9: mean position error 3.8106423877596836\n",
            "*+*+*+*+*+*+*+*+*+*+*+*+*+*+*+*+*+*+*+*+*+*+*+*+*+*+*+*+*+*+*+*+*+*+*+*+*+*+*+*+\n",
            "file #8, shape=(17203, 2493), name=5d2709bb03f801723c32852c_train.csv\n",
            "mean position error 3.761500628339576\n",
            "*+*+*+*+*+*+*+*+*+*+*+*+*+*+*+*+*+*+*+*+*+*+*+*+*+*+*+*+*+*+*+*+*+*+*+*+*+*+*+*+\n"
          ],
          "name": "stdout"
        },
        {
          "output_type": "stream",
          "text": [
            "/usr/local/lib/python3.7/dist-packages/IPython/core/interactiveshell.py:2718: DtypeWarning: Columns (5832,5833,5834,5838) have mixed types.Specify dtype option on import or set low_memory=False.\n",
            "  interactivity=interactivity, compiler=compiler, result=result)\n",
            "100%|██████████| 3/3 [00:00<00:00,  5.31it/s]\n",
            "100%|██████████| 3/3 [00:00<00:00, 62.75it/s]\n"
          ],
          "name": "stderr"
        },
        {
          "output_type": "stream",
          "text": [
            "(10083, 5872)\n",
            "(509, 5871)\n"
          ],
          "name": "stdout"
        },
        {
          "output_type": "stream",
          "text": [
            "[13.9GB(+0.0GB): 24.977sec] fit X\n",
            "[13.9GB(+0.0GB): 28.995sec] fit Y\n"
          ],
          "name": "stderr"
        },
        {
          "output_type": "stream",
          "text": [
            "fold 0: mean position error 4.067357216341031\n"
          ],
          "name": "stdout"
        },
        {
          "output_type": "stream",
          "text": [
            "[13.9GB(+0.0GB): 25.716sec] fit X\n",
            "[13.9GB(+0.0GB): 29.949sec] fit Y\n"
          ],
          "name": "stderr"
        },
        {
          "output_type": "stream",
          "text": [
            "fold 1: mean position error 3.9862857298516583\n"
          ],
          "name": "stdout"
        },
        {
          "output_type": "stream",
          "text": [
            "[13.9GB(+0.0GB): 28.711sec] fit X\n",
            "[13.9GB(-0.0GB): 26.784sec] fit Y\n"
          ],
          "name": "stderr"
        },
        {
          "output_type": "stream",
          "text": [
            "fold 2: mean position error 4.0524449937579705\n"
          ],
          "name": "stdout"
        },
        {
          "output_type": "stream",
          "text": [
            "[13.9GB(+0.0GB): 25.143sec] fit X\n",
            "[13.9GB(+0.0GB): 24.212sec] fit Y\n"
          ],
          "name": "stderr"
        },
        {
          "output_type": "stream",
          "text": [
            "fold 3: mean position error 4.4105286506051\n"
          ],
          "name": "stdout"
        },
        {
          "output_type": "stream",
          "text": [
            "[13.9GB(+0.0GB): 25.074sec] fit X\n",
            "[13.9GB(+0.0GB): 42.871sec] fit Y\n"
          ],
          "name": "stderr"
        },
        {
          "output_type": "stream",
          "text": [
            "fold 4: mean position error 3.954768046398311\n"
          ],
          "name": "stdout"
        },
        {
          "output_type": "stream",
          "text": [
            "[13.9GB(+0.0GB): 27.387sec] fit X\n",
            "[13.9GB(+0.0GB): 39.811sec] fit Y\n"
          ],
          "name": "stderr"
        },
        {
          "output_type": "stream",
          "text": [
            "fold 5: mean position error 4.211734358236179\n"
          ],
          "name": "stdout"
        },
        {
          "output_type": "stream",
          "text": [
            "[13.9GB(+0.0GB): 40.154sec] fit X\n",
            "[13.9GB(+0.0GB): 23.735sec] fit Y\n"
          ],
          "name": "stderr"
        },
        {
          "output_type": "stream",
          "text": [
            "fold 6: mean position error 4.228157220623134\n"
          ],
          "name": "stdout"
        },
        {
          "output_type": "stream",
          "text": [
            "[13.9GB(+0.0GB): 27.585sec] fit X\n",
            "[13.9GB(+0.0GB): 43.080sec] fit Y\n"
          ],
          "name": "stderr"
        },
        {
          "output_type": "stream",
          "text": [
            "fold 7: mean position error 3.976407308730033\n"
          ],
          "name": "stdout"
        },
        {
          "output_type": "stream",
          "text": [
            "[13.9GB(+0.0GB): 27.430sec] fit X\n",
            "[13.9GB(+0.0GB): 31.001sec] fit Y\n"
          ],
          "name": "stderr"
        },
        {
          "output_type": "stream",
          "text": [
            "fold 8: mean position error 4.3769461368926255\n"
          ],
          "name": "stdout"
        },
        {
          "output_type": "stream",
          "text": [
            "[13.9GB(+0.0GB): 23.891sec] fit X\n",
            "[13.9GB(+0.0GB): 38.143sec] fit Y\n"
          ],
          "name": "stderr"
        },
        {
          "output_type": "stream",
          "text": [
            "fold 9: mean position error 3.971700182238827\n",
            "*+*+*+*+*+*+*+*+*+*+*+*+*+*+*+*+*+*+*+*+*+*+*+*+*+*+*+*+*+*+*+*+*+*+*+*+*+*+*+*+\n",
            "file #9, shape=(10083, 5872), name=5d2709c303f801723c3299ee_train.csv\n",
            "mean position error 4.123606721250047\n",
            "*+*+*+*+*+*+*+*+*+*+*+*+*+*+*+*+*+*+*+*+*+*+*+*+*+*+*+*+*+*+*+*+*+*+*+*+*+*+*+*+\n"
          ],
          "name": "stdout"
        },
        {
          "output_type": "stream",
          "text": [
            "/usr/local/lib/python3.7/dist-packages/IPython/core/interactiveshell.py:2718: DtypeWarning: Columns (2140,2141,2142,2146) have mixed types.Specify dtype option on import or set low_memory=False.\n",
            "  interactivity=interactivity, compiler=compiler, result=result)\n",
            "100%|██████████| 3/3 [00:00<00:00, 10.55it/s]\n",
            "100%|██████████| 3/3 [00:00<00:00, 65.48it/s]\n"
          ],
          "name": "stderr"
        },
        {
          "output_type": "stream",
          "text": [
            "(10027, 2180)\n",
            "(1223, 2179)\n"
          ],
          "name": "stdout"
        },
        {
          "output_type": "stream",
          "text": [
            "[13.9GB(+0.0GB): 11.214sec] fit X\n",
            "[13.9GB(+0.0GB): 8.743sec] fit Y\n"
          ],
          "name": "stderr"
        },
        {
          "output_type": "stream",
          "text": [
            "fold 0: mean position error 3.125288790561837\n"
          ],
          "name": "stdout"
        },
        {
          "output_type": "stream",
          "text": [
            "[13.9GB(+0.0GB): 8.557sec] fit X\n",
            "[13.9GB(+0.0GB): 10.652sec] fit Y\n"
          ],
          "name": "stderr"
        },
        {
          "output_type": "stream",
          "text": [
            "fold 1: mean position error 3.1207765168648\n"
          ],
          "name": "stdout"
        },
        {
          "output_type": "stream",
          "text": [
            "[13.9GB(+0.0GB): 15.214sec] fit X\n",
            "[13.9GB(+0.0GB): 13.903sec] fit Y\n"
          ],
          "name": "stderr"
        },
        {
          "output_type": "stream",
          "text": [
            "fold 2: mean position error 2.9832616221866797\n"
          ],
          "name": "stdout"
        },
        {
          "output_type": "stream",
          "text": [
            "[13.9GB(+0.0GB): 14.753sec] fit X\n",
            "[13.9GB(-0.0GB): 8.344sec] fit Y\n"
          ],
          "name": "stderr"
        },
        {
          "output_type": "stream",
          "text": [
            "fold 3: mean position error 2.9572322922715895\n"
          ],
          "name": "stdout"
        },
        {
          "output_type": "stream",
          "text": [
            "[13.9GB(+0.0GB): 10.302sec] fit X\n",
            "[13.9GB(+0.0GB): 7.763sec] fit Y\n"
          ],
          "name": "stderr"
        },
        {
          "output_type": "stream",
          "text": [
            "fold 4: mean position error 3.0942698019067985\n"
          ],
          "name": "stdout"
        },
        {
          "output_type": "stream",
          "text": [
            "[13.9GB(+0.0GB): 12.358sec] fit X\n",
            "[13.9GB(+0.0GB): 11.713sec] fit Y\n"
          ],
          "name": "stderr"
        },
        {
          "output_type": "stream",
          "text": [
            "fold 5: mean position error 2.903782879918287\n"
          ],
          "name": "stdout"
        },
        {
          "output_type": "stream",
          "text": [
            "[13.9GB(-0.0GB): 10.985sec] fit X\n",
            "[13.9GB(-0.0GB): 12.405sec] fit Y\n"
          ],
          "name": "stderr"
        },
        {
          "output_type": "stream",
          "text": [
            "fold 6: mean position error 2.9557242582865264\n"
          ],
          "name": "stdout"
        },
        {
          "output_type": "stream",
          "text": [
            "[13.9GB(+0.0GB): 9.196sec] fit X\n",
            "[13.9GB(+0.0GB): 10.446sec] fit Y\n"
          ],
          "name": "stderr"
        },
        {
          "output_type": "stream",
          "text": [
            "fold 7: mean position error 2.9698141727499467\n"
          ],
          "name": "stdout"
        },
        {
          "output_type": "stream",
          "text": [
            "[13.9GB(+0.0GB): 11.012sec] fit X\n",
            "[13.9GB(+0.0GB): 11.237sec] fit Y\n"
          ],
          "name": "stderr"
        },
        {
          "output_type": "stream",
          "text": [
            "fold 8: mean position error 2.896817590909154\n"
          ],
          "name": "stdout"
        },
        {
          "output_type": "stream",
          "text": [
            "[13.9GB(+0.0GB): 10.812sec] fit X\n",
            "[13.9GB(+0.0GB): 9.360sec] fit Y\n"
          ],
          "name": "stderr"
        },
        {
          "output_type": "stream",
          "text": [
            "fold 9: mean position error 2.9405263237162202\n",
            "*+*+*+*+*+*+*+*+*+*+*+*+*+*+*+*+*+*+*+*+*+*+*+*+*+*+*+*+*+*+*+*+*+*+*+*+*+*+*+*+\n",
            "file #10, shape=(10027, 2180), name=5d2709d403f801723c32bd39_train.csv\n",
            "mean position error 2.9947670862703277\n",
            "*+*+*+*+*+*+*+*+*+*+*+*+*+*+*+*+*+*+*+*+*+*+*+*+*+*+*+*+*+*+*+*+*+*+*+*+*+*+*+*+\n"
          ],
          "name": "stdout"
        },
        {
          "output_type": "stream",
          "text": [
            "100%|██████████| 3/3 [00:00<00:00, 15.21it/s]\n",
            "100%|██████████| 3/3 [00:00<00:00, 158.74it/s]\n"
          ],
          "name": "stderr"
        },
        {
          "output_type": "stream",
          "text": [
            "(11042, 1350)\n",
            "(531, 1349)\n"
          ],
          "name": "stdout"
        },
        {
          "output_type": "stream",
          "text": [
            "[13.9GB(+0.0GB): 7.305sec] fit X\n",
            "[13.9GB(+0.0GB): 8.080sec] fit Y\n"
          ],
          "name": "stderr"
        },
        {
          "output_type": "stream",
          "text": [
            "fold 0: mean position error 3.401923400478027\n"
          ],
          "name": "stdout"
        },
        {
          "output_type": "stream",
          "text": [
            "[13.9GB(+0.0GB): 6.376sec] fit X\n",
            "[13.9GB(+0.0GB): 8.456sec] fit Y\n"
          ],
          "name": "stderr"
        },
        {
          "output_type": "stream",
          "text": [
            "fold 1: mean position error 3.6228380932918087\n"
          ],
          "name": "stdout"
        },
        {
          "output_type": "stream",
          "text": [
            "[13.9GB(+0.0GB): 11.720sec] fit X\n",
            "[13.9GB(+0.0GB): 5.065sec] fit Y\n"
          ],
          "name": "stderr"
        },
        {
          "output_type": "stream",
          "text": [
            "fold 2: mean position error 3.606505602339239\n"
          ],
          "name": "stdout"
        },
        {
          "output_type": "stream",
          "text": [
            "[13.9GB(+0.0GB): 8.834sec] fit X\n",
            "[13.9GB(+0.0GB): 9.386sec] fit Y\n"
          ],
          "name": "stderr"
        },
        {
          "output_type": "stream",
          "text": [
            "fold 3: mean position error 3.5182347966306726\n"
          ],
          "name": "stdout"
        },
        {
          "output_type": "stream",
          "text": [
            "[13.9GB(+0.0GB): 9.972sec] fit X\n",
            "[13.9GB(+0.0GB): 5.423sec] fit Y\n"
          ],
          "name": "stderr"
        },
        {
          "output_type": "stream",
          "text": [
            "fold 4: mean position error 3.612036732725808\n"
          ],
          "name": "stdout"
        },
        {
          "output_type": "stream",
          "text": [
            "[13.9GB(+0.0GB): 7.540sec] fit X\n",
            "[13.9GB(+0.0GB): 9.225sec] fit Y\n"
          ],
          "name": "stderr"
        },
        {
          "output_type": "stream",
          "text": [
            "fold 5: mean position error 3.5135383949520813\n"
          ],
          "name": "stdout"
        },
        {
          "output_type": "stream",
          "text": [
            "[13.9GB(+0.0GB): 7.597sec] fit X\n",
            "[13.9GB(+0.0GB): 8.181sec] fit Y\n"
          ],
          "name": "stderr"
        },
        {
          "output_type": "stream",
          "text": [
            "fold 6: mean position error 3.5874544389383916\n"
          ],
          "name": "stdout"
        },
        {
          "output_type": "stream",
          "text": [
            "[13.9GB(+0.0GB): 10.097sec] fit X\n",
            "[13.9GB(+0.0GB): 7.927sec] fit Y\n"
          ],
          "name": "stderr"
        },
        {
          "output_type": "stream",
          "text": [
            "fold 7: mean position error 3.6152558957253667\n"
          ],
          "name": "stdout"
        },
        {
          "output_type": "stream",
          "text": [
            "[13.9GB(+0.0GB): 6.150sec] fit X\n",
            "[13.9GB(+0.0GB): 9.703sec] fit Y\n"
          ],
          "name": "stderr"
        },
        {
          "output_type": "stream",
          "text": [
            "fold 8: mean position error 3.633324521672083\n"
          ],
          "name": "stdout"
        },
        {
          "output_type": "stream",
          "text": [
            "[13.9GB(+0.0GB): 7.828sec] fit X\n",
            "[13.9GB(+0.0GB): 11.904sec] fit Y\n"
          ],
          "name": "stderr"
        },
        {
          "output_type": "stream",
          "text": [
            "fold 9: mean position error 3.569465156695861\n",
            "*+*+*+*+*+*+*+*+*+*+*+*+*+*+*+*+*+*+*+*+*+*+*+*+*+*+*+*+*+*+*+*+*+*+*+*+*+*+*+*+\n",
            "file #11, shape=(11042, 1350), name=5d2709e003f801723c32d896_train.csv\n",
            "mean position error 3.5680476187666947\n",
            "*+*+*+*+*+*+*+*+*+*+*+*+*+*+*+*+*+*+*+*+*+*+*+*+*+*+*+*+*+*+*+*+*+*+*+*+*+*+*+*+\n"
          ],
          "name": "stdout"
        },
        {
          "output_type": "stream",
          "text": [
            "100%|██████████| 3/3 [00:00<00:00, 106.27it/s]\n",
            "100%|██████████| 3/3 [00:00<00:00, 233.76it/s]\n"
          ],
          "name": "stderr"
        },
        {
          "output_type": "stream",
          "text": [
            "(2662, 531)\n",
            "(103, 530)\n"
          ],
          "name": "stdout"
        },
        {
          "output_type": "stream",
          "text": [
            "[13.9GB(+0.0GB): 0.949sec] fit X\n",
            "[13.9GB(+0.0GB): 0.888sec] fit Y\n"
          ],
          "name": "stderr"
        },
        {
          "output_type": "stream",
          "text": [
            "fold 0: mean position error 3.7491411078524948\n"
          ],
          "name": "stdout"
        },
        {
          "output_type": "stream",
          "text": [
            "[13.9GB(+0.0GB): 1.225sec] fit X\n",
            "[13.9GB(+0.0GB): 0.636sec] fit Y\n"
          ],
          "name": "stderr"
        },
        {
          "output_type": "stream",
          "text": [
            "fold 1: mean position error 3.4118404624006193\n"
          ],
          "name": "stdout"
        },
        {
          "output_type": "stream",
          "text": [
            "[13.9GB(+0.0GB): 0.769sec] fit X\n",
            "[13.9GB(+0.0GB): 0.725sec] fit Y\n"
          ],
          "name": "stderr"
        },
        {
          "output_type": "stream",
          "text": [
            "fold 2: mean position error 3.7054922952130105\n"
          ],
          "name": "stdout"
        },
        {
          "output_type": "stream",
          "text": [
            "[13.9GB(+0.0GB): 0.626sec] fit X\n",
            "[13.9GB(+0.0GB): 1.000sec] fit Y\n"
          ],
          "name": "stderr"
        },
        {
          "output_type": "stream",
          "text": [
            "fold 3: mean position error 3.818684340121744\n"
          ],
          "name": "stdout"
        },
        {
          "output_type": "stream",
          "text": [
            "[13.9GB(+0.0GB): 0.830sec] fit X\n",
            "[13.9GB(+0.0GB): 0.669sec] fit Y\n"
          ],
          "name": "stderr"
        },
        {
          "output_type": "stream",
          "text": [
            "fold 4: mean position error 3.650894135304714\n"
          ],
          "name": "stdout"
        },
        {
          "output_type": "stream",
          "text": [
            "[13.9GB(+0.0GB): 0.663sec] fit X\n",
            "[13.9GB(+0.0GB): 0.637sec] fit Y\n"
          ],
          "name": "stderr"
        },
        {
          "output_type": "stream",
          "text": [
            "fold 5: mean position error 3.671130371756279\n"
          ],
          "name": "stdout"
        },
        {
          "output_type": "stream",
          "text": [
            "[13.9GB(+0.0GB): 1.193sec] fit X\n",
            "[13.9GB(+0.0GB): 0.561sec] fit Y\n"
          ],
          "name": "stderr"
        },
        {
          "output_type": "stream",
          "text": [
            "fold 6: mean position error 3.6228576798139254\n"
          ],
          "name": "stdout"
        },
        {
          "output_type": "stream",
          "text": [
            "[13.9GB(+0.0GB): 1.107sec] fit X\n",
            "[13.9GB(+0.0GB): 0.822sec] fit Y\n"
          ],
          "name": "stderr"
        },
        {
          "output_type": "stream",
          "text": [
            "fold 7: mean position error 3.4234990912203815\n"
          ],
          "name": "stdout"
        },
        {
          "output_type": "stream",
          "text": [
            "[13.9GB(+0.0GB): 0.557sec] fit X\n",
            "[13.9GB(+0.0GB): 0.521sec] fit Y\n"
          ],
          "name": "stderr"
        },
        {
          "output_type": "stream",
          "text": [
            "fold 8: mean position error 3.4521404722847184\n"
          ],
          "name": "stdout"
        },
        {
          "output_type": "stream",
          "text": [
            "[13.9GB(+0.0GB): 0.982sec] fit X\n",
            "[13.9GB(+0.0GB): 0.985sec] fit Y\n"
          ],
          "name": "stderr"
        },
        {
          "output_type": "stream",
          "text": [
            "fold 9: mean position error 3.944170072906007\n",
            "*+*+*+*+*+*+*+*+*+*+*+*+*+*+*+*+*+*+*+*+*+*+*+*+*+*+*+*+*+*+*+*+*+*+*+*+*+*+*+*+\n",
            "file #12, shape=(2662, 531), name=5da138274db8ce0c98bbd3d2_train.csv\n",
            "mean position error 3.644936547427014\n",
            "*+*+*+*+*+*+*+*+*+*+*+*+*+*+*+*+*+*+*+*+*+*+*+*+*+*+*+*+*+*+*+*+*+*+*+*+*+*+*+*+\n"
          ],
          "name": "stdout"
        },
        {
          "output_type": "stream",
          "text": [
            "100%|██████████| 3/3 [00:00<00:00,  9.03it/s]\n",
            "100%|██████████| 3/3 [00:00<00:00, 125.47it/s]\n"
          ],
          "name": "stderr"
        },
        {
          "output_type": "stream",
          "text": [
            "(8999, 2903)\n",
            "(311, 2902)\n"
          ],
          "name": "stdout"
        },
        {
          "output_type": "stream",
          "text": [
            "[13.9GB(+0.0GB): 18.334sec] fit X\n",
            "[13.9GB(+0.0GB): 16.721sec] fit Y\n"
          ],
          "name": "stderr"
        },
        {
          "output_type": "stream",
          "text": [
            "fold 0: mean position error 4.073788026373659\n"
          ],
          "name": "stdout"
        },
        {
          "output_type": "stream",
          "text": [
            "[13.9GB(+0.0GB): 11.354sec] fit X\n",
            "[13.9GB(+0.0GB): 14.941sec] fit Y\n"
          ],
          "name": "stderr"
        },
        {
          "output_type": "stream",
          "text": [
            "fold 1: mean position error 4.00197632191462\n"
          ],
          "name": "stdout"
        },
        {
          "output_type": "stream",
          "text": [
            "[13.9GB(+0.0GB): 15.593sec] fit X\n",
            "[13.9GB(+0.0GB): 14.187sec] fit Y\n"
          ],
          "name": "stderr"
        },
        {
          "output_type": "stream",
          "text": [
            "fold 2: mean position error 4.015433886451505\n"
          ],
          "name": "stdout"
        },
        {
          "output_type": "stream",
          "text": [
            "[13.9GB(+0.0GB): 13.250sec] fit X\n",
            "[13.9GB(+0.0GB): 8.442sec] fit Y\n"
          ],
          "name": "stderr"
        },
        {
          "output_type": "stream",
          "text": [
            "fold 3: mean position error 4.045235619004594\n"
          ],
          "name": "stdout"
        },
        {
          "output_type": "stream",
          "text": [
            "[13.9GB(+0.0GB): 17.302sec] fit X\n",
            "[13.9GB(+0.0GB): 16.009sec] fit Y\n"
          ],
          "name": "stderr"
        },
        {
          "output_type": "stream",
          "text": [
            "fold 4: mean position error 3.9068215967850337\n"
          ],
          "name": "stdout"
        },
        {
          "output_type": "stream",
          "text": [
            "[13.9GB(+0.0GB): 11.225sec] fit X\n",
            "[13.9GB(+0.0GB): 11.729sec] fit Y\n"
          ],
          "name": "stderr"
        },
        {
          "output_type": "stream",
          "text": [
            "fold 5: mean position error 3.9937029207157724\n"
          ],
          "name": "stdout"
        },
        {
          "output_type": "stream",
          "text": [
            "[13.9GB(+0.0GB): 9.898sec] fit X\n",
            "[13.9GB(+0.0GB): 10.241sec] fit Y\n"
          ],
          "name": "stderr"
        },
        {
          "output_type": "stream",
          "text": [
            "fold 6: mean position error 3.950368649504815\n"
          ],
          "name": "stdout"
        },
        {
          "output_type": "stream",
          "text": [
            "[13.9GB(+0.0GB): 13.461sec] fit X\n",
            "[13.9GB(+0.0GB): 10.382sec] fit Y\n"
          ],
          "name": "stderr"
        },
        {
          "output_type": "stream",
          "text": [
            "fold 7: mean position error 4.084410637876168\n"
          ],
          "name": "stdout"
        },
        {
          "output_type": "stream",
          "text": [
            "[13.9GB(+0.0GB): 8.728sec] fit X\n",
            "[13.9GB(+0.0GB): 11.077sec] fit Y\n"
          ],
          "name": "stderr"
        },
        {
          "output_type": "stream",
          "text": [
            "fold 8: mean position error 3.9683642798122336\n"
          ],
          "name": "stdout"
        },
        {
          "output_type": "stream",
          "text": [
            "[13.9GB(+0.0GB): 11.463sec] fit X\n",
            "[13.9GB(+0.0GB): 11.171sec] fit Y\n"
          ],
          "name": "stderr"
        },
        {
          "output_type": "stream",
          "text": [
            "fold 9: mean position error 4.010893620539949\n",
            "*+*+*+*+*+*+*+*+*+*+*+*+*+*+*+*+*+*+*+*+*+*+*+*+*+*+*+*+*+*+*+*+*+*+*+*+*+*+*+*+\n",
            "file #13, shape=(8999, 2903), name=5da1382d4db8ce0c98bbe92e_train.csv\n",
            "mean position error 4.005098912041335\n",
            "*+*+*+*+*+*+*+*+*+*+*+*+*+*+*+*+*+*+*+*+*+*+*+*+*+*+*+*+*+*+*+*+*+*+*+*+*+*+*+*+\n"
          ],
          "name": "stdout"
        },
        {
          "output_type": "stream",
          "text": [
            "100%|██████████| 3/3 [00:00<00:00, 19.71it/s]\n",
            "100%|██████████| 3/3 [00:00<00:00, 212.91it/s]\n"
          ],
          "name": "stderr"
        },
        {
          "output_type": "stream",
          "text": [
            "(9012, 1253)\n",
            "(171, 1252)\n"
          ],
          "name": "stdout"
        },
        {
          "output_type": "stream",
          "text": [
            "[13.9GB(+0.0GB): 6.380sec] fit X\n",
            "[13.9GB(+0.0GB): 4.798sec] fit Y\n"
          ],
          "name": "stderr"
        },
        {
          "output_type": "stream",
          "text": [
            "fold 0: mean position error 2.3732693697663123\n"
          ],
          "name": "stdout"
        },
        {
          "output_type": "stream",
          "text": [
            "[13.9GB(+0.0GB): 6.017sec] fit X\n",
            "[13.9GB(+0.0GB): 6.027sec] fit Y\n"
          ],
          "name": "stderr"
        },
        {
          "output_type": "stream",
          "text": [
            "fold 1: mean position error 2.362162952651779\n"
          ],
          "name": "stdout"
        },
        {
          "output_type": "stream",
          "text": [
            "[13.9GB(+0.0GB): 5.774sec] fit X\n",
            "[13.9GB(+0.0GB): 7.365sec] fit Y\n"
          ],
          "name": "stderr"
        },
        {
          "output_type": "stream",
          "text": [
            "fold 2: mean position error 2.3737396605241767\n"
          ],
          "name": "stdout"
        },
        {
          "output_type": "stream",
          "text": [
            "[13.9GB(+0.0GB): 7.095sec] fit X\n",
            "[13.9GB(+0.0GB): 6.993sec] fit Y\n"
          ],
          "name": "stderr"
        },
        {
          "output_type": "stream",
          "text": [
            "fold 3: mean position error 2.38604880599595\n"
          ],
          "name": "stdout"
        },
        {
          "output_type": "stream",
          "text": [
            "[13.9GB(+0.0GB): 7.407sec] fit X\n",
            "[13.9GB(+0.0GB): 5.162sec] fit Y\n"
          ],
          "name": "stderr"
        },
        {
          "output_type": "stream",
          "text": [
            "fold 4: mean position error 2.3654275513473606\n"
          ],
          "name": "stdout"
        },
        {
          "output_type": "stream",
          "text": [
            "[13.9GB(+0.0GB): 8.943sec] fit X\n",
            "[13.9GB(+0.0GB): 8.641sec] fit Y\n"
          ],
          "name": "stderr"
        },
        {
          "output_type": "stream",
          "text": [
            "fold 5: mean position error 2.4137042640470896\n"
          ],
          "name": "stdout"
        },
        {
          "output_type": "stream",
          "text": [
            "[13.9GB(+0.0GB): 8.427sec] fit X\n",
            "[13.9GB(+0.0GB): 6.256sec] fit Y\n"
          ],
          "name": "stderr"
        },
        {
          "output_type": "stream",
          "text": [
            "fold 6: mean position error 2.556365748134392\n"
          ],
          "name": "stdout"
        },
        {
          "output_type": "stream",
          "text": [
            "[13.9GB(+0.0GB): 5.975sec] fit X\n",
            "[13.9GB(+0.0GB): 6.628sec] fit Y\n"
          ],
          "name": "stderr"
        },
        {
          "output_type": "stream",
          "text": [
            "fold 7: mean position error 2.3945357507341156\n"
          ],
          "name": "stdout"
        },
        {
          "output_type": "stream",
          "text": [
            "[13.9GB(+0.0GB): 6.415sec] fit X\n",
            "[13.9GB(+0.0GB): 7.088sec] fit Y\n"
          ],
          "name": "stderr"
        },
        {
          "output_type": "stream",
          "text": [
            "fold 8: mean position error 2.439356384369423\n"
          ],
          "name": "stdout"
        },
        {
          "output_type": "stream",
          "text": [
            "[13.9GB(+0.0GB): 6.317sec] fit X\n",
            "[13.9GB(+0.0GB): 6.944sec] fit Y\n"
          ],
          "name": "stderr"
        },
        {
          "output_type": "stream",
          "text": [
            "fold 9: mean position error 2.27234543318153\n",
            "*+*+*+*+*+*+*+*+*+*+*+*+*+*+*+*+*+*+*+*+*+*+*+*+*+*+*+*+*+*+*+*+*+*+*+*+*+*+*+*+\n",
            "file #14, shape=(9012, 1253), name=5da138314db8ce0c98bbf3a0_train.csv\n",
            "mean position error 2.393689826555713\n",
            "*+*+*+*+*+*+*+*+*+*+*+*+*+*+*+*+*+*+*+*+*+*+*+*+*+*+*+*+*+*+*+*+*+*+*+*+*+*+*+*+\n"
          ],
          "name": "stdout"
        },
        {
          "output_type": "stream",
          "text": [
            "100%|██████████| 3/3 [00:00<00:00, 68.33it/s]\n",
            "100%|██████████| 3/3 [00:00<00:00, 181.07it/s]\n"
          ],
          "name": "stderr"
        },
        {
          "output_type": "stream",
          "text": [
            "(2767, 863)\n",
            "(139, 862)\n"
          ],
          "name": "stdout"
        },
        {
          "output_type": "stream",
          "text": [
            "[13.9GB(+0.0GB): 1.239sec] fit X\n",
            "[13.9GB(+0.0GB): 1.347sec] fit Y\n"
          ],
          "name": "stderr"
        },
        {
          "output_type": "stream",
          "text": [
            "fold 0: mean position error 3.036601647095086\n"
          ],
          "name": "stdout"
        },
        {
          "output_type": "stream",
          "text": [
            "[13.9GB(+0.0GB): 1.006sec] fit X\n",
            "[13.9GB(+0.0GB): 1.511sec] fit Y\n"
          ],
          "name": "stderr"
        },
        {
          "output_type": "stream",
          "text": [
            "fold 1: mean position error 2.80019186824309\n"
          ],
          "name": "stdout"
        },
        {
          "output_type": "stream",
          "text": [
            "[13.9GB(+0.0GB): 0.888sec] fit X\n",
            "[13.9GB(+0.0GB): 0.658sec] fit Y\n"
          ],
          "name": "stderr"
        },
        {
          "output_type": "stream",
          "text": [
            "fold 2: mean position error 3.066860713246392\n"
          ],
          "name": "stdout"
        },
        {
          "output_type": "stream",
          "text": [
            "[13.9GB(+0.0GB): 0.840sec] fit X\n",
            "[13.9GB(+0.0GB): 0.692sec] fit Y\n"
          ],
          "name": "stderr"
        },
        {
          "output_type": "stream",
          "text": [
            "fold 3: mean position error 3.0013299496107035\n"
          ],
          "name": "stdout"
        },
        {
          "output_type": "stream",
          "text": [
            "[13.9GB(+0.0GB): 1.344sec] fit X\n",
            "[13.9GB(+0.0GB): 1.045sec] fit Y\n"
          ],
          "name": "stderr"
        },
        {
          "output_type": "stream",
          "text": [
            "fold 4: mean position error 2.783520500844785\n"
          ],
          "name": "stdout"
        },
        {
          "output_type": "stream",
          "text": [
            "[13.9GB(+0.0GB): 1.326sec] fit X\n",
            "[13.9GB(+0.0GB): 1.038sec] fit Y\n"
          ],
          "name": "stderr"
        },
        {
          "output_type": "stream",
          "text": [
            "fold 5: mean position error 2.710439841181988\n"
          ],
          "name": "stdout"
        },
        {
          "output_type": "stream",
          "text": [
            "[13.9GB(+0.0GB): 1.158sec] fit X\n",
            "[13.9GB(+0.0GB): 1.710sec] fit Y\n"
          ],
          "name": "stderr"
        },
        {
          "output_type": "stream",
          "text": [
            "fold 6: mean position error 2.922103985861539\n"
          ],
          "name": "stdout"
        },
        {
          "output_type": "stream",
          "text": [
            "[13.9GB(+0.0GB): 1.284sec] fit X\n",
            "[13.9GB(+0.0GB): 0.756sec] fit Y\n"
          ],
          "name": "stderr"
        },
        {
          "output_type": "stream",
          "text": [
            "fold 7: mean position error 2.6196178641898853\n"
          ],
          "name": "stdout"
        },
        {
          "output_type": "stream",
          "text": [
            "[13.9GB(+0.0GB): 0.659sec] fit X\n",
            "[13.9GB(+0.0GB): 1.134sec] fit Y\n"
          ],
          "name": "stderr"
        },
        {
          "output_type": "stream",
          "text": [
            "fold 8: mean position error 2.920392998937967\n"
          ],
          "name": "stdout"
        },
        {
          "output_type": "stream",
          "text": [
            "[13.9GB(+0.0GB): 0.989sec] fit X\n",
            "[13.9GB(+0.0GB): 1.071sec] fit Y\n"
          ],
          "name": "stderr"
        },
        {
          "output_type": "stream",
          "text": [
            "fold 9: mean position error 2.921186033460667\n",
            "*+*+*+*+*+*+*+*+*+*+*+*+*+*+*+*+*+*+*+*+*+*+*+*+*+*+*+*+*+*+*+*+*+*+*+*+*+*+*+*+\n",
            "file #15, shape=(2767, 863), name=5da138364db8ce0c98bc00f1_train.csv\n",
            "mean position error 2.8782872351440494\n",
            "*+*+*+*+*+*+*+*+*+*+*+*+*+*+*+*+*+*+*+*+*+*+*+*+*+*+*+*+*+*+*+*+*+*+*+*+*+*+*+*+\n"
          ],
          "name": "stdout"
        },
        {
          "output_type": "stream",
          "text": [
            "100%|██████████| 3/3 [00:00<00:00, 10.91it/s]\n",
            "100%|██████████| 3/3 [00:00<00:00, 151.11it/s]\n"
          ],
          "name": "stderr"
        },
        {
          "output_type": "stream",
          "text": [
            "(13196, 1566)\n",
            "(380, 1565)\n"
          ],
          "name": "stdout"
        },
        {
          "output_type": "stream",
          "text": [
            "[13.9GB(+0.0GB): 11.735sec] fit X\n",
            "[13.9GB(+0.0GB): 12.043sec] fit Y\n"
          ],
          "name": "stderr"
        },
        {
          "output_type": "stream",
          "text": [
            "fold 0: mean position error 3.671639923829985\n"
          ],
          "name": "stdout"
        },
        {
          "output_type": "stream",
          "text": [
            "[13.9GB(+0.0GB): 11.948sec] fit X\n",
            "[13.9GB(+0.0GB): 18.265sec] fit Y\n"
          ],
          "name": "stderr"
        },
        {
          "output_type": "stream",
          "text": [
            "fold 1: mean position error 3.7268101213811806\n"
          ],
          "name": "stdout"
        },
        {
          "output_type": "stream",
          "text": [
            "[13.9GB(+0.0GB): 8.712sec] fit X\n",
            "[13.9GB(+0.0GB): 13.783sec] fit Y\n"
          ],
          "name": "stderr"
        },
        {
          "output_type": "stream",
          "text": [
            "fold 2: mean position error 3.7544282357906797\n"
          ],
          "name": "stdout"
        },
        {
          "output_type": "stream",
          "text": [
            "[13.9GB(+0.0GB): 8.877sec] fit X\n",
            "[13.9GB(+0.0GB): 10.153sec] fit Y\n"
          ],
          "name": "stderr"
        },
        {
          "output_type": "stream",
          "text": [
            "fold 3: mean position error 3.6700505725530066\n"
          ],
          "name": "stdout"
        },
        {
          "output_type": "stream",
          "text": [
            "[13.9GB(+0.0GB): 9.572sec] fit X\n",
            "[13.9GB(+0.0GB): 7.053sec] fit Y\n"
          ],
          "name": "stderr"
        },
        {
          "output_type": "stream",
          "text": [
            "fold 4: mean position error 3.8359259066564197\n"
          ],
          "name": "stdout"
        },
        {
          "output_type": "stream",
          "text": [
            "[13.9GB(+0.0GB): 12.296sec] fit X\n",
            "[13.9GB(+0.0GB): 13.870sec] fit Y\n"
          ],
          "name": "stderr"
        },
        {
          "output_type": "stream",
          "text": [
            "fold 5: mean position error 3.661003820221514\n"
          ],
          "name": "stdout"
        },
        {
          "output_type": "stream",
          "text": [
            "[13.9GB(+0.0GB): 12.435sec] fit X\n",
            "[13.9GB(+0.0GB): 10.609sec] fit Y\n"
          ],
          "name": "stderr"
        },
        {
          "output_type": "stream",
          "text": [
            "fold 6: mean position error 3.6632414062690635\n"
          ],
          "name": "stdout"
        },
        {
          "output_type": "stream",
          "text": [
            "[13.9GB(+0.0GB): 10.722sec] fit X\n",
            "[13.9GB(+0.0GB): 8.726sec] fit Y\n"
          ],
          "name": "stderr"
        },
        {
          "output_type": "stream",
          "text": [
            "fold 7: mean position error 3.654132279573421\n"
          ],
          "name": "stdout"
        },
        {
          "output_type": "stream",
          "text": [
            "[13.9GB(+0.0GB): 11.792sec] fit X\n",
            "[13.9GB(+0.0GB): 10.418sec] fit Y\n"
          ],
          "name": "stderr"
        },
        {
          "output_type": "stream",
          "text": [
            "fold 8: mean position error 3.581645126567173\n"
          ],
          "name": "stdout"
        },
        {
          "output_type": "stream",
          "text": [
            "[13.9GB(+0.0GB): 8.900sec] fit X\n",
            "[13.9GB(+0.0GB): 13.440sec] fit Y\n"
          ],
          "name": "stderr"
        },
        {
          "output_type": "stream",
          "text": [
            "fold 9: mean position error 3.654886490401975\n",
            "*+*+*+*+*+*+*+*+*+*+*+*+*+*+*+*+*+*+*+*+*+*+*+*+*+*+*+*+*+*+*+*+*+*+*+*+*+*+*+*+\n",
            "file #16, shape=(13196, 1566), name=5da1383b4db8ce0c98bc11ab_train.csv\n",
            "mean position error 3.687391211016961\n",
            "*+*+*+*+*+*+*+*+*+*+*+*+*+*+*+*+*+*+*+*+*+*+*+*+*+*+*+*+*+*+*+*+*+*+*+*+*+*+*+*+\n"
          ],
          "name": "stdout"
        },
        {
          "output_type": "stream",
          "text": [
            "100%|██████████| 3/3 [00:00<00:00, 19.23it/s]\n",
            "100%|██████████| 3/3 [00:00<00:00, 138.01it/s]\n"
          ],
          "name": "stderr"
        },
        {
          "output_type": "stream",
          "text": [
            "(7188, 1668)\n",
            "(386, 1667)\n"
          ],
          "name": "stdout"
        },
        {
          "output_type": "stream",
          "text": [
            "[13.9GB(+0.0GB): 4.452sec] fit X\n",
            "[13.9GB(+0.0GB): 5.994sec] fit Y\n"
          ],
          "name": "stderr"
        },
        {
          "output_type": "stream",
          "text": [
            "fold 0: mean position error 3.2085625899781336\n"
          ],
          "name": "stdout"
        },
        {
          "output_type": "stream",
          "text": [
            "[13.9GB(+0.0GB): 4.724sec] fit X\n",
            "[13.9GB(+0.0GB): 3.886sec] fit Y\n"
          ],
          "name": "stderr"
        },
        {
          "output_type": "stream",
          "text": [
            "fold 1: mean position error 3.1141238016809454\n"
          ],
          "name": "stdout"
        },
        {
          "output_type": "stream",
          "text": [
            "[13.9GB(+0.0GB): 5.343sec] fit X\n",
            "[13.9GB(+0.0GB): 4.563sec] fit Y\n"
          ],
          "name": "stderr"
        },
        {
          "output_type": "stream",
          "text": [
            "fold 2: mean position error 3.4414861114076456\n"
          ],
          "name": "stdout"
        },
        {
          "output_type": "stream",
          "text": [
            "[13.9GB(+0.0GB): 6.888sec] fit X\n",
            "[13.9GB(+0.0GB): 4.783sec] fit Y\n"
          ],
          "name": "stderr"
        },
        {
          "output_type": "stream",
          "text": [
            "fold 3: mean position error 3.265211580275517\n"
          ],
          "name": "stdout"
        },
        {
          "output_type": "stream",
          "text": [
            "[13.9GB(+0.0GB): 3.490sec] fit X\n",
            "[13.9GB(+0.0GB): 4.837sec] fit Y\n"
          ],
          "name": "stderr"
        },
        {
          "output_type": "stream",
          "text": [
            "fold 4: mean position error 3.330316367645374\n"
          ],
          "name": "stdout"
        },
        {
          "output_type": "stream",
          "text": [
            "[13.9GB(+0.0GB): 5.001sec] fit X\n",
            "[13.9GB(+0.0GB): 6.111sec] fit Y\n"
          ],
          "name": "stderr"
        },
        {
          "output_type": "stream",
          "text": [
            "fold 5: mean position error 3.3052630916827037\n"
          ],
          "name": "stdout"
        },
        {
          "output_type": "stream",
          "text": [
            "[13.9GB(+0.0GB): 4.401sec] fit X\n",
            "[13.9GB(+0.0GB): 4.106sec] fit Y\n"
          ],
          "name": "stderr"
        },
        {
          "output_type": "stream",
          "text": [
            "fold 6: mean position error 3.360367499423771\n"
          ],
          "name": "stdout"
        },
        {
          "output_type": "stream",
          "text": [
            "[13.9GB(+0.0GB): 4.285sec] fit X\n",
            "[13.9GB(+0.0GB): 5.163sec] fit Y\n"
          ],
          "name": "stderr"
        },
        {
          "output_type": "stream",
          "text": [
            "fold 7: mean position error 3.1837549581326603\n"
          ],
          "name": "stdout"
        },
        {
          "output_type": "stream",
          "text": [
            "[13.9GB(+0.0GB): 4.292sec] fit X\n",
            "[13.9GB(+0.0GB): 4.189sec] fit Y\n"
          ],
          "name": "stderr"
        },
        {
          "output_type": "stream",
          "text": [
            "fold 8: mean position error 3.1334970999058154\n"
          ],
          "name": "stdout"
        },
        {
          "output_type": "stream",
          "text": [
            "[13.9GB(+0.0GB): 3.998sec] fit X\n",
            "[13.9GB(+0.0GB): 4.441sec] fit Y\n"
          ],
          "name": "stderr"
        },
        {
          "output_type": "stream",
          "text": [
            "fold 9: mean position error 3.404141586940177\n",
            "*+*+*+*+*+*+*+*+*+*+*+*+*+*+*+*+*+*+*+*+*+*+*+*+*+*+*+*+*+*+*+*+*+*+*+*+*+*+*+*+\n",
            "file #17, shape=(7188, 1668), name=5da138754db8ce0c98bca82f_train.csv\n",
            "mean position error 3.2746740972897133\n",
            "*+*+*+*+*+*+*+*+*+*+*+*+*+*+*+*+*+*+*+*+*+*+*+*+*+*+*+*+*+*+*+*+*+*+*+*+*+*+*+*+\n"
          ],
          "name": "stdout"
        },
        {
          "output_type": "stream",
          "text": [
            "100%|██████████| 3/3 [00:00<00:00, 13.00it/s]\n",
            "100%|██████████| 3/3 [00:00<00:00, 116.40it/s]\n"
          ],
          "name": "stderr"
        },
        {
          "output_type": "stream",
          "text": [
            "(9420, 1929)\n",
            "(573, 1928)\n"
          ],
          "name": "stdout"
        },
        {
          "output_type": "stream",
          "text": [
            "[13.9GB(+0.0GB): 9.734sec] fit X\n",
            "[13.9GB(+0.0GB): 9.927sec] fit Y\n"
          ],
          "name": "stderr"
        },
        {
          "output_type": "stream",
          "text": [
            "fold 0: mean position error 3.9795195560317147\n"
          ],
          "name": "stdout"
        },
        {
          "output_type": "stream",
          "text": [
            "[13.9GB(+0.0GB): 10.668sec] fit X\n",
            "[13.9GB(+0.0GB): 6.851sec] fit Y\n"
          ],
          "name": "stderr"
        },
        {
          "output_type": "stream",
          "text": [
            "fold 1: mean position error 4.019134363646863\n"
          ],
          "name": "stdout"
        },
        {
          "output_type": "stream",
          "text": [
            "[13.9GB(+0.0GB): 6.383sec] fit X\n",
            "[13.9GB(+0.0GB): 7.702sec] fit Y\n"
          ],
          "name": "stderr"
        },
        {
          "output_type": "stream",
          "text": [
            "fold 2: mean position error 3.9369245277429132\n"
          ],
          "name": "stdout"
        },
        {
          "output_type": "stream",
          "text": [
            "[13.9GB(+0.0GB): 8.050sec] fit X\n",
            "[13.9GB(+0.0GB): 8.682sec] fit Y\n"
          ],
          "name": "stderr"
        },
        {
          "output_type": "stream",
          "text": [
            "fold 3: mean position error 3.892480023410048\n"
          ],
          "name": "stdout"
        },
        {
          "output_type": "stream",
          "text": [
            "[13.9GB(+0.0GB): 7.334sec] fit X\n",
            "[13.9GB(+0.0GB): 7.078sec] fit Y\n"
          ],
          "name": "stderr"
        },
        {
          "output_type": "stream",
          "text": [
            "fold 4: mean position error 3.9879779164167592\n"
          ],
          "name": "stdout"
        },
        {
          "output_type": "stream",
          "text": [
            "[13.9GB(+0.0GB): 12.251sec] fit X\n",
            "[13.9GB(+0.0GB): 7.423sec] fit Y\n"
          ],
          "name": "stderr"
        },
        {
          "output_type": "stream",
          "text": [
            "fold 5: mean position error 4.036742539836568\n"
          ],
          "name": "stdout"
        },
        {
          "output_type": "stream",
          "text": [
            "[13.9GB(+0.0GB): 9.341sec] fit X\n",
            "[13.9GB(+0.0GB): 7.704sec] fit Y\n"
          ],
          "name": "stderr"
        },
        {
          "output_type": "stream",
          "text": [
            "fold 6: mean position error 3.9028489202275125\n"
          ],
          "name": "stdout"
        },
        {
          "output_type": "stream",
          "text": [
            "[13.9GB(+0.0GB): 7.704sec] fit X\n",
            "[13.9GB(+0.0GB): 6.396sec] fit Y\n"
          ],
          "name": "stderr"
        },
        {
          "output_type": "stream",
          "text": [
            "fold 7: mean position error 4.174901564205387\n"
          ],
          "name": "stdout"
        },
        {
          "output_type": "stream",
          "text": [
            "[13.9GB(+0.0GB): 7.577sec] fit X\n",
            "[13.9GB(+0.0GB): 8.220sec] fit Y\n"
          ],
          "name": "stderr"
        },
        {
          "output_type": "stream",
          "text": [
            "fold 8: mean position error 3.9017403052890622\n"
          ],
          "name": "stdout"
        },
        {
          "output_type": "stream",
          "text": [
            "[13.9GB(+0.0GB): 6.415sec] fit X\n",
            "[13.9GB(+0.0GB): 5.611sec] fit Y\n"
          ],
          "name": "stderr"
        },
        {
          "output_type": "stream",
          "text": [
            "fold 9: mean position error 3.8997913031027687\n",
            "*+*+*+*+*+*+*+*+*+*+*+*+*+*+*+*+*+*+*+*+*+*+*+*+*+*+*+*+*+*+*+*+*+*+*+*+*+*+*+*+\n",
            "file #18, shape=(9420, 1929), name=5da138764db8ce0c98bcaa46_train.csv\n",
            "mean position error 3.97320610199096\n",
            "*+*+*+*+*+*+*+*+*+*+*+*+*+*+*+*+*+*+*+*+*+*+*+*+*+*+*+*+*+*+*+*+*+*+*+*+*+*+*+*+\n"
          ],
          "name": "stdout"
        },
        {
          "output_type": "stream",
          "text": [
            "100%|██████████| 3/3 [00:00<00:00, 30.65it/s]\n",
            "100%|██████████| 3/3 [00:00<00:00, 170.72it/s]\n"
          ],
          "name": "stderr"
        },
        {
          "output_type": "stream",
          "text": [
            "(6312, 1062)\n",
            "(174, 1061)\n"
          ],
          "name": "stdout"
        },
        {
          "output_type": "stream",
          "text": [
            "[13.9GB(+0.0GB): 2.800sec] fit X\n",
            "[13.9GB(+0.0GB): 2.552sec] fit Y\n"
          ],
          "name": "stderr"
        },
        {
          "output_type": "stream",
          "text": [
            "fold 0: mean position error 3.745994474771014\n"
          ],
          "name": "stdout"
        },
        {
          "output_type": "stream",
          "text": [
            "[13.9GB(+0.0GB): 3.167sec] fit X\n",
            "[13.9GB(+0.0GB): 2.887sec] fit Y\n"
          ],
          "name": "stderr"
        },
        {
          "output_type": "stream",
          "text": [
            "fold 1: mean position error 4.03885158534065\n"
          ],
          "name": "stdout"
        },
        {
          "output_type": "stream",
          "text": [
            "[13.9GB(+0.0GB): 2.575sec] fit X\n",
            "[13.9GB(+0.0GB): 3.150sec] fit Y\n"
          ],
          "name": "stderr"
        },
        {
          "output_type": "stream",
          "text": [
            "fold 2: mean position error 4.140317174575209\n"
          ],
          "name": "stdout"
        },
        {
          "output_type": "stream",
          "text": [
            "[13.9GB(+0.0GB): 6.247sec] fit X\n",
            "[13.9GB(+0.0GB): 2.744sec] fit Y\n"
          ],
          "name": "stderr"
        },
        {
          "output_type": "stream",
          "text": [
            "fold 3: mean position error 4.368327383862973\n"
          ],
          "name": "stdout"
        },
        {
          "output_type": "stream",
          "text": [
            "[13.9GB(+0.0GB): 2.353sec] fit X\n",
            "[13.9GB(+0.0GB): 3.673sec] fit Y\n"
          ],
          "name": "stderr"
        },
        {
          "output_type": "stream",
          "text": [
            "fold 4: mean position error 3.854678117039574\n"
          ],
          "name": "stdout"
        },
        {
          "output_type": "stream",
          "text": [
            "[13.9GB(+0.0GB): 3.021sec] fit X\n",
            "[13.9GB(+0.0GB): 2.413sec] fit Y\n"
          ],
          "name": "stderr"
        },
        {
          "output_type": "stream",
          "text": [
            "fold 5: mean position error 3.9241893201239133\n"
          ],
          "name": "stdout"
        },
        {
          "output_type": "stream",
          "text": [
            "[13.9GB(+0.0GB): 3.277sec] fit X\n",
            "[13.9GB(+0.0GB): 3.002sec] fit Y\n"
          ],
          "name": "stderr"
        },
        {
          "output_type": "stream",
          "text": [
            "fold 6: mean position error 3.9879199735198716\n"
          ],
          "name": "stdout"
        },
        {
          "output_type": "stream",
          "text": [
            "[13.9GB(+0.0GB): 2.367sec] fit X\n",
            "[13.9GB(+0.0GB): 1.936sec] fit Y\n"
          ],
          "name": "stderr"
        },
        {
          "output_type": "stream",
          "text": [
            "fold 7: mean position error 3.8294722305686024\n"
          ],
          "name": "stdout"
        },
        {
          "output_type": "stream",
          "text": [
            "[13.9GB(+0.0GB): 2.413sec] fit X\n",
            "[13.9GB(+0.0GB): 2.786sec] fit Y\n"
          ],
          "name": "stderr"
        },
        {
          "output_type": "stream",
          "text": [
            "fold 8: mean position error 3.8417623011807875\n"
          ],
          "name": "stdout"
        },
        {
          "output_type": "stream",
          "text": [
            "[13.9GB(+0.0GB): 2.707sec] fit X\n",
            "[13.9GB(+0.0GB): 3.488sec] fit Y\n"
          ],
          "name": "stderr"
        },
        {
          "output_type": "stream",
          "text": [
            "fold 9: mean position error 4.124977996604588\n",
            "*+*+*+*+*+*+*+*+*+*+*+*+*+*+*+*+*+*+*+*+*+*+*+*+*+*+*+*+*+*+*+*+*+*+*+*+*+*+*+*+\n",
            "file #19, shape=(6312, 1062), name=5da1389e4db8ce0c98bd0547_train.csv\n",
            "mean position error 3.9856195164603334\n",
            "*+*+*+*+*+*+*+*+*+*+*+*+*+*+*+*+*+*+*+*+*+*+*+*+*+*+*+*+*+*+*+*+*+*+*+*+*+*+*+*+\n"
          ],
          "name": "stdout"
        },
        {
          "output_type": "stream",
          "text": [
            "100%|██████████| 3/3 [00:00<00:00,  5.56it/s]\n",
            "100%|██████████| 3/3 [00:00<00:00, 92.59it/s]\n"
          ],
          "name": "stderr"
        },
        {
          "output_type": "stream",
          "text": [
            "(17382, 3576)\n",
            "(445, 3575)\n"
          ],
          "name": "stdout"
        },
        {
          "output_type": "stream",
          "text": [
            "[13.9GB(+0.0GB): 35.877sec] fit X\n",
            "[13.9GB(+0.0GB): 34.047sec] fit Y\n"
          ],
          "name": "stderr"
        },
        {
          "output_type": "stream",
          "text": [
            "fold 0: mean position error 4.572043837724269\n"
          ],
          "name": "stdout"
        },
        {
          "output_type": "stream",
          "text": [
            "[13.9GB(+0.0GB): 33.577sec] fit X\n",
            "[13.9GB(+0.0GB): 44.933sec] fit Y\n"
          ],
          "name": "stderr"
        },
        {
          "output_type": "stream",
          "text": [
            "fold 1: mean position error 4.519083780392399\n"
          ],
          "name": "stdout"
        },
        {
          "output_type": "stream",
          "text": [
            "[13.9GB(+0.0GB): 39.167sec] fit X\n",
            "[13.9GB(+0.0GB): 33.855sec] fit Y\n"
          ],
          "name": "stderr"
        },
        {
          "output_type": "stream",
          "text": [
            "fold 2: mean position error 4.609537305779429\n"
          ],
          "name": "stdout"
        },
        {
          "output_type": "stream",
          "text": [
            "[13.9GB(+0.0GB): 36.311sec] fit X\n",
            "[13.9GB(+0.0GB): 27.581sec] fit Y\n"
          ],
          "name": "stderr"
        },
        {
          "output_type": "stream",
          "text": [
            "fold 3: mean position error 4.666301552217061\n"
          ],
          "name": "stdout"
        },
        {
          "output_type": "stream",
          "text": [
            "[13.9GB(+0.0GB): 39.348sec] fit X\n",
            "[13.9GB(+0.0GB): 33.431sec] fit Y\n"
          ],
          "name": "stderr"
        },
        {
          "output_type": "stream",
          "text": [
            "fold 4: mean position error 4.6315688749182975\n"
          ],
          "name": "stdout"
        },
        {
          "output_type": "stream",
          "text": [
            "[13.9GB(+0.0GB): 34.786sec] fit X\n",
            "[13.9GB(+0.0GB): 35.997sec] fit Y\n"
          ],
          "name": "stderr"
        },
        {
          "output_type": "stream",
          "text": [
            "fold 5: mean position error 4.642348020187308\n"
          ],
          "name": "stdout"
        },
        {
          "output_type": "stream",
          "text": [
            "[13.9GB(+0.0GB): 32.966sec] fit X\n",
            "[13.9GB(+0.0GB): 33.663sec] fit Y\n"
          ],
          "name": "stderr"
        },
        {
          "output_type": "stream",
          "text": [
            "fold 6: mean position error 4.65017529015109\n"
          ],
          "name": "stdout"
        },
        {
          "output_type": "stream",
          "text": [
            "[13.9GB(+0.0GB): 35.961sec] fit X\n",
            "[13.9GB(+0.0GB): 33.135sec] fit Y\n"
          ],
          "name": "stderr"
        },
        {
          "output_type": "stream",
          "text": [
            "fold 7: mean position error 4.625872019861081\n"
          ],
          "name": "stdout"
        },
        {
          "output_type": "stream",
          "text": [
            "[13.9GB(+0.0GB): 36.619sec] fit X\n",
            "[13.9GB(+0.0GB): 32.512sec] fit Y\n"
          ],
          "name": "stderr"
        },
        {
          "output_type": "stream",
          "text": [
            "fold 8: mean position error 4.815610405371209\n"
          ],
          "name": "stdout"
        },
        {
          "output_type": "stream",
          "text": [
            "[13.9GB(+0.0GB): 40.304sec] fit X\n",
            "[13.9GB(+0.0GB): 31.383sec] fit Y\n"
          ],
          "name": "stderr"
        },
        {
          "output_type": "stream",
          "text": [
            "fold 9: mean position error 4.628118602157951\n",
            "*+*+*+*+*+*+*+*+*+*+*+*+*+*+*+*+*+*+*+*+*+*+*+*+*+*+*+*+*+*+*+*+*+*+*+*+*+*+*+*+\n",
            "file #20, shape=(17382, 3576), name=5da138b74db8ce0c98bd4774_train.csv\n",
            "mean position error 4.636055555556505\n",
            "*+*+*+*+*+*+*+*+*+*+*+*+*+*+*+*+*+*+*+*+*+*+*+*+*+*+*+*+*+*+*+*+*+*+*+*+*+*+*+*+\n"
          ],
          "name": "stdout"
        },
        {
          "output_type": "stream",
          "text": [
            "100%|██████████| 3/3 [00:00<00:00,  5.25it/s]\n",
            "100%|██████████| 3/3 [00:00<00:00, 63.61it/s]\n"
          ],
          "name": "stderr"
        },
        {
          "output_type": "stream",
          "text": [
            "(15148, 3540)\n",
            "(778, 3539)\n"
          ],
          "name": "stdout"
        },
        {
          "output_type": "stream",
          "text": [
            "[13.9GB(+0.0GB): 26.762sec] fit X\n",
            "[13.8GB(-0.0GB): 34.828sec] fit Y\n"
          ],
          "name": "stderr"
        },
        {
          "output_type": "stream",
          "text": [
            "fold 0: mean position error 3.6427693824518217\n"
          ],
          "name": "stdout"
        },
        {
          "output_type": "stream",
          "text": [
            "[13.8GB(+0.0GB): 22.178sec] fit X\n",
            "[13.8GB(+0.0GB): 35.720sec] fit Y\n"
          ],
          "name": "stderr"
        },
        {
          "output_type": "stream",
          "text": [
            "fold 1: mean position error 3.6257193419356417\n"
          ],
          "name": "stdout"
        },
        {
          "output_type": "stream",
          "text": [
            "[13.8GB(+0.0GB): 28.931sec] fit X\n",
            "[13.8GB(+0.0GB): 27.925sec] fit Y\n"
          ],
          "name": "stderr"
        },
        {
          "output_type": "stream",
          "text": [
            "fold 2: mean position error 3.6998324007369914\n"
          ],
          "name": "stdout"
        },
        {
          "output_type": "stream",
          "text": [
            "[13.8GB(+0.0GB): 26.517sec] fit X\n",
            "[13.8GB(+0.0GB): 33.677sec] fit Y\n"
          ],
          "name": "stderr"
        },
        {
          "output_type": "stream",
          "text": [
            "fold 3: mean position error 3.6045892038944296\n"
          ],
          "name": "stdout"
        },
        {
          "output_type": "stream",
          "text": [
            "[13.8GB(+0.0GB): 40.509sec] fit X\n",
            "[13.8GB(+0.0GB): 28.149sec] fit Y\n"
          ],
          "name": "stderr"
        },
        {
          "output_type": "stream",
          "text": [
            "fold 4: mean position error 3.590644747164439\n"
          ],
          "name": "stdout"
        },
        {
          "output_type": "stream",
          "text": [
            "[13.8GB(+0.0GB): 35.614sec] fit X\n",
            "[13.8GB(+0.0GB): 35.497sec] fit Y\n"
          ],
          "name": "stderr"
        },
        {
          "output_type": "stream",
          "text": [
            "fold 5: mean position error 3.6395974830674915\n"
          ],
          "name": "stdout"
        },
        {
          "output_type": "stream",
          "text": [
            "[13.8GB(+0.0GB): 21.930sec] fit X\n",
            "[13.8GB(+0.0GB): 42.713sec] fit Y\n"
          ],
          "name": "stderr"
        },
        {
          "output_type": "stream",
          "text": [
            "fold 6: mean position error 3.589941182175604\n"
          ],
          "name": "stdout"
        },
        {
          "output_type": "stream",
          "text": [
            "[13.8GB(+0.0GB): 30.321sec] fit X\n",
            "[13.8GB(+0.0GB): 35.185sec] fit Y\n"
          ],
          "name": "stderr"
        },
        {
          "output_type": "stream",
          "text": [
            "fold 7: mean position error 3.7799470884061876\n"
          ],
          "name": "stdout"
        },
        {
          "output_type": "stream",
          "text": [
            "[13.8GB(+0.0GB): 27.191sec] fit X\n",
            "[13.8GB(+0.0GB): 27.668sec] fit Y\n"
          ],
          "name": "stderr"
        },
        {
          "output_type": "stream",
          "text": [
            "fold 8: mean position error 3.7097356198113127\n"
          ],
          "name": "stdout"
        },
        {
          "output_type": "stream",
          "text": [
            "[13.8GB(+0.0GB): 35.923sec] fit X\n",
            "[13.8GB(+0.0GB): 32.818sec] fit Y\n"
          ],
          "name": "stderr"
        },
        {
          "output_type": "stream",
          "text": [
            "fold 9: mean position error 3.5341029168355598\n",
            "*+*+*+*+*+*+*+*+*+*+*+*+*+*+*+*+*+*+*+*+*+*+*+*+*+*+*+*+*+*+*+*+*+*+*+*+*+*+*+*+\n",
            "file #21, shape=(15148, 3540), name=5da958dd46f8266d0737457b_train.csv\n",
            "mean position error 3.641690546717703\n",
            "*+*+*+*+*+*+*+*+*+*+*+*+*+*+*+*+*+*+*+*+*+*+*+*+*+*+*+*+*+*+*+*+*+*+*+*+*+*+*+*+\n"
          ],
          "name": "stdout"
        },
        {
          "output_type": "stream",
          "text": [
            "/usr/local/lib/python3.7/dist-packages/IPython/core/interactiveshell.py:2718: DtypeWarning: Columns (4520,4521,4522,4526) have mixed types.Specify dtype option on import or set low_memory=False.\n",
            "  interactivity=interactivity, compiler=compiler, result=result)\n",
            "100%|██████████| 3/3 [00:00<00:00,  4.74it/s]\n",
            "100%|██████████| 3/3 [00:00<00:00, 39.18it/s]\n"
          ],
          "name": "stderr"
        },
        {
          "output_type": "stream",
          "text": [
            "(16174, 4560)\n",
            "(923, 4559)\n"
          ],
          "name": "stdout"
        },
        {
          "output_type": "stream",
          "text": [
            "[13.0GB(+0.0GB): 42.678sec] fit X\n",
            "[13.0GB(+0.0GB): 44.684sec] fit Y\n"
          ],
          "name": "stderr"
        },
        {
          "output_type": "stream",
          "text": [
            "fold 0: mean position error 4.807948890539879\n"
          ],
          "name": "stdout"
        },
        {
          "output_type": "stream",
          "text": [
            "[13.0GB(+0.0GB): 52.768sec] fit X\n",
            "[13.0GB(+0.0GB): 39.176sec] fit Y\n"
          ],
          "name": "stderr"
        },
        {
          "output_type": "stream",
          "text": [
            "fold 1: mean position error 4.838369884081563\n"
          ],
          "name": "stdout"
        },
        {
          "output_type": "stream",
          "text": [
            "[13.0GB(+0.0GB): 53.141sec] fit X\n",
            "[13.0GB(+0.0GB): 46.242sec] fit Y\n"
          ],
          "name": "stderr"
        },
        {
          "output_type": "stream",
          "text": [
            "fold 2: mean position error 4.873512062442844\n"
          ],
          "name": "stdout"
        },
        {
          "output_type": "stream",
          "text": [
            "[13.0GB(+0.0GB): 31.581sec] fit X\n",
            "[13.0GB(+0.0GB): 45.458sec] fit Y\n"
          ],
          "name": "stderr"
        },
        {
          "output_type": "stream",
          "text": [
            "fold 3: mean position error 4.887864761621933\n"
          ],
          "name": "stdout"
        },
        {
          "output_type": "stream",
          "text": [
            "[13.0GB(+0.0GB): 45.995sec] fit X\n",
            "[13.0GB(+0.0GB): 34.735sec] fit Y\n"
          ],
          "name": "stderr"
        },
        {
          "output_type": "stream",
          "text": [
            "fold 4: mean position error 4.934651747179775\n"
          ],
          "name": "stdout"
        },
        {
          "output_type": "stream",
          "text": [
            "[13.0GB(+0.0GB): 35.613sec] fit X\n",
            "[13.0GB(+0.0GB): 38.350sec] fit Y\n"
          ],
          "name": "stderr"
        },
        {
          "output_type": "stream",
          "text": [
            "fold 5: mean position error 4.789282917378952\n"
          ],
          "name": "stdout"
        },
        {
          "output_type": "stream",
          "text": [
            "[13.0GB(+0.0GB): 56.721sec] fit X\n",
            "[13.0GB(+0.0GB): 49.090sec] fit Y\n"
          ],
          "name": "stderr"
        },
        {
          "output_type": "stream",
          "text": [
            "fold 6: mean position error 4.851220582827286\n"
          ],
          "name": "stdout"
        },
        {
          "output_type": "stream",
          "text": [
            "[13.0GB(+0.0GB): 46.167sec] fit X\n",
            "[13.0GB(+0.0GB): 36.436sec] fit Y\n"
          ],
          "name": "stderr"
        },
        {
          "output_type": "stream",
          "text": [
            "fold 7: mean position error 4.794070786838492\n"
          ],
          "name": "stdout"
        },
        {
          "output_type": "stream",
          "text": [
            "[13.0GB(+0.0GB): 42.560sec] fit X\n",
            "[13.0GB(+0.0GB): 49.349sec] fit Y\n"
          ],
          "name": "stderr"
        },
        {
          "output_type": "stream",
          "text": [
            "fold 8: mean position error 4.770829862319009\n"
          ],
          "name": "stdout"
        },
        {
          "output_type": "stream",
          "text": [
            "[13.0GB(+0.0GB): 40.611sec] fit X\n",
            "[13.0GB(+0.0GB): 53.998sec] fit Y\n"
          ],
          "name": "stderr"
        },
        {
          "output_type": "stream",
          "text": [
            "fold 9: mean position error 4.93784294419709\n",
            "*+*+*+*+*+*+*+*+*+*+*+*+*+*+*+*+*+*+*+*+*+*+*+*+*+*+*+*+*+*+*+*+*+*+*+*+*+*+*+*+\n",
            "file #22, shape=(16174, 4560), name=5dbc1d84c1eb61796cf7c010_train.csv\n",
            "mean position error 4.848560276007905\n",
            "*+*+*+*+*+*+*+*+*+*+*+*+*+*+*+*+*+*+*+*+*+*+*+*+*+*+*+*+*+*+*+*+*+*+*+*+*+*+*+*+\n"
          ],
          "name": "stdout"
        },
        {
          "output_type": "stream",
          "text": [
            "100%|██████████| 3/3 [00:00<00:00,  4.55it/s]\n",
            "100%|██████████| 3/3 [00:00<00:00, 47.08it/s]\n"
          ],
          "name": "stderr"
        },
        {
          "output_type": "stream",
          "text": [
            "(15655, 4905)\n",
            "(648, 4904)\n"
          ],
          "name": "stdout"
        },
        {
          "output_type": "stream",
          "text": [
            "[12.1GB(+0.1GB): 27.235sec] fit X\n",
            "[12.0GB(-0.1GB): 32.571sec] fit Y\n"
          ],
          "name": "stderr"
        },
        {
          "output_type": "stream",
          "text": [
            "fold 0: mean position error 4.9483546400034335\n"
          ],
          "name": "stdout"
        },
        {
          "output_type": "stream",
          "text": [
            "[12.0GB(+0.0GB): 29.692sec] fit X\n",
            "[12.0GB(+0.0GB): 25.607sec] fit Y\n"
          ],
          "name": "stderr"
        },
        {
          "output_type": "stream",
          "text": [
            "fold 1: mean position error 5.190516590130151\n"
          ],
          "name": "stdout"
        },
        {
          "output_type": "stream",
          "text": [
            "[12.0GB(+0.0GB): 36.331sec] fit X\n",
            "[12.0GB(+0.0GB): 34.042sec] fit Y\n"
          ],
          "name": "stderr"
        },
        {
          "output_type": "stream",
          "text": [
            "fold 2: mean position error 5.047336788166792\n"
          ],
          "name": "stdout"
        },
        {
          "output_type": "stream",
          "text": [
            "[12.0GB(+0.0GB): 43.312sec] fit X\n",
            "[12.0GB(+0.0GB): 32.697sec] fit Y\n"
          ],
          "name": "stderr"
        },
        {
          "output_type": "stream",
          "text": [
            "fold 3: mean position error 4.9798917921440475\n"
          ],
          "name": "stdout"
        },
        {
          "output_type": "stream",
          "text": [
            "[12.0GB(+0.0GB): 31.667sec] fit X\n",
            "[12.0GB(-0.0GB): 33.729sec] fit Y\n"
          ],
          "name": "stderr"
        },
        {
          "output_type": "stream",
          "text": [
            "fold 4: mean position error 5.064727360609037\n"
          ],
          "name": "stdout"
        },
        {
          "output_type": "stream",
          "text": [
            "[12.0GB(+0.0GB): 30.417sec] fit X\n",
            "[12.0GB(+0.0GB): 30.779sec] fit Y\n"
          ],
          "name": "stderr"
        },
        {
          "output_type": "stream",
          "text": [
            "fold 5: mean position error 5.120806023396157\n"
          ],
          "name": "stdout"
        },
        {
          "output_type": "stream",
          "text": [
            "[12.0GB(+0.0GB): 24.429sec] fit X\n",
            "[12.0GB(+0.0GB): 33.196sec] fit Y\n"
          ],
          "name": "stderr"
        },
        {
          "output_type": "stream",
          "text": [
            "fold 6: mean position error 4.940957374585731\n"
          ],
          "name": "stdout"
        },
        {
          "output_type": "stream",
          "text": [
            "[12.0GB(+0.0GB): 23.792sec] fit X\n",
            "[12.0GB(+0.0GB): 35.679sec] fit Y\n"
          ],
          "name": "stderr"
        },
        {
          "output_type": "stream",
          "text": [
            "fold 7: mean position error 4.953713056648643\n"
          ],
          "name": "stdout"
        },
        {
          "output_type": "stream",
          "text": [
            "[12.0GB(+0.0GB): 24.021sec] fit X\n",
            "[12.0GB(+0.0GB): 31.769sec] fit Y\n"
          ],
          "name": "stderr"
        },
        {
          "output_type": "stream",
          "text": [
            "fold 8: mean position error 5.203481128011933\n"
          ],
          "name": "stdout"
        },
        {
          "output_type": "stream",
          "text": [
            "[12.0GB(+0.0GB): 33.653sec] fit X\n",
            "[12.0GB(+0.0GB): 28.007sec] fit Y\n"
          ],
          "name": "stderr"
        },
        {
          "output_type": "stream",
          "text": [
            "fold 9: mean position error 5.036929946824247\n",
            "*+*+*+*+*+*+*+*+*+*+*+*+*+*+*+*+*+*+*+*+*+*+*+*+*+*+*+*+*+*+*+*+*+*+*+*+*+*+*+*+\n",
            "file #23, shape=(15655, 4905), name=5dc8cea7659e181adb076a3f_train.csv\n",
            "mean position error 5.048670669657306\n",
            "*+*+*+*+*+*+*+*+*+*+*+*+*+*+*+*+*+*+*+*+*+*+*+*+*+*+*+*+*+*+*+*+*+*+*+*+*+*+*+*+\n"
          ],
          "name": "stdout"
        }
      ]
    },
    {
      "cell_type": "code",
      "metadata": {
        "id": "EYcBPhblV8r-",
        "outputId": "65094c68-3e6c-41f7-ae67-8e88054fd29f",
        "colab": {
          "base_uri": "https://localhost:8080/",
          "height": 439
        }
      },
      "source": [
        "data"
      ],
      "execution_count": 46,
      "outputs": [
        {
          "output_type": "execute_result",
          "data": {
            "text/html": [
              "<div>\n",
              "<style scoped>\n",
              "    .dataframe tbody tr th:only-of-type {\n",
              "        vertical-align: middle;\n",
              "    }\n",
              "\n",
              "    .dataframe tbody tr th {\n",
              "        vertical-align: top;\n",
              "    }\n",
              "\n",
              "    .dataframe thead th {\n",
              "        text-align: right;\n",
              "    }\n",
              "</style>\n",
              "<table border=\"1\" class=\"dataframe\">\n",
              "  <thead>\n",
              "    <tr style=\"text-align: right;\">\n",
              "      <th></th>\n",
              "      <th>sum_sensor_x</th>\n",
              "      <th>sum_sensor_y</th>\n",
              "      <th>sum_sensor_xy</th>\n",
              "      <th>0006968a29229c78478c7f6c2d2d37ee6ba145ef</th>\n",
              "      <th>000adfcfbf793ddc4f9c6a1a7c3bc78cffd01819</th>\n",
              "      <th>0018258e7c0f5223eb1750ada8ae2a4c4c58d21c</th>\n",
              "      <th>002c92111c356bc9fc054042cd2f0a96d9e43b06</th>\n",
              "      <th>0040b8059620d2c17e22e24abb76a679200aba6a</th>\n",
              "      <th>0041e6526da83cbdd4b171648c7f172fc325be85</th>\n",
              "      <th>0094988edb57e8605962a80834f8d45cdb7b5664</th>\n",
              "      <th>00b110f7f41db9767115afc45013c37cfc6b7f98</th>\n",
              "      <th>00e6c8b25a32bf8ef89c491daae09ee845ac450c</th>\n",
              "      <th>00f583061184d29cfac0e03cf0982edd025e677a</th>\n",
              "      <th>010c689afe822af414b2b35793afc26f7601fbd6</th>\n",
              "      <th>01303b1e8f97b01bad8797e315ed0a901a329be4</th>\n",
              "      <th>0141e500290392d659a7626bab8583cf8dc38e29</th>\n",
              "      <th>014495aeff4f7fc100db0e678170a63572b4697e</th>\n",
              "      <th>015c7c64b6a54349e2397de357f568512772fb3e</th>\n",
              "      <th>016eded3ba71cdb8878fff411645997d03694957</th>\n",
              "      <th>018ce87fe87decc1e5774da5dc34635f1184511e</th>\n",
              "      <th>018e923b2cceeb208de55aafffd91952cad67095</th>\n",
              "      <th>01a1425d2c391b1ce611307c5d9e2f5aae9d05a9</th>\n",
              "      <th>01c0147829c7633d7d4a5ff0f0fb7b9dcae47ddb</th>\n",
              "      <th>01ee8bd0434333056d99c09516b87057dcde31af</th>\n",
              "      <th>01f8283d6a9c4569645891e427a13424a64dea19</th>\n",
              "      <th>01fc007de38446168c161ccc468b600c3ca264a5</th>\n",
              "      <th>021633338aefbc95c57277a06ac248446877d7dc</th>\n",
              "      <th>0217dcc23e4d2dc353049039969395a1ad8f37de</th>\n",
              "      <th>02245fd2e9a7c1ed386ec3d898e5f396e8f06b7d</th>\n",
              "      <th>0249b5890e0f0ddf780785a396beece6917181a3</th>\n",
              "      <th>027817c190697bc6fadec198a06b280359eb4fe8</th>\n",
              "      <th>0290599d79e3d93d92925711de912b784674843e</th>\n",
              "      <th>029ef8e3586e31fc20cf72262a4769d71ad26c2e</th>\n",
              "      <th>029f08c9ded6f97b2d9835fb82e70353e86d3030</th>\n",
              "      <th>02b3f57280dda5a50d93e8b0859602e47d9c9a71</th>\n",
              "      <th>02b474371945f487190faaf51a03428644540af8</th>\n",
              "      <th>02cd4f9d65034f697b3cab4e57b316348f86d915</th>\n",
              "      <th>030a4d88c65cc68d4df9ca64051fb9d76381f87e</th>\n",
              "      <th>03271f9864b63a30538e1b00fa711d2a3d1ac62b</th>\n",
              "      <th>0363d84f19fc2a4b9990694d94f56b4c99ef06db</th>\n",
              "      <th>...</th>\n",
              "      <th>ffbbc3e5b5569397a31ba6a6b40a282722f2d601</th>\n",
              "      <th>ffe57a1050c12fb060adae004f8b2a5ebe9ba9bd</th>\n",
              "      <th>beacon_tx_power</th>\n",
              "      <th>beacon_rssi</th>\n",
              "      <th>beacon_distance</th>\n",
              "      <th>acc_x</th>\n",
              "      <th>acc_y</th>\n",
              "      <th>acc_z</th>\n",
              "      <th>acc_unc_x</th>\n",
              "      <th>acc_unc_y</th>\n",
              "      <th>acc_unc_z</th>\n",
              "      <th>acc_unc_x2</th>\n",
              "      <th>acc_unc_y2</th>\n",
              "      <th>acc_unc_z2</th>\n",
              "      <th>gyro_x</th>\n",
              "      <th>gyro_y</th>\n",
              "      <th>gyro_z</th>\n",
              "      <th>gyro_unc_x</th>\n",
              "      <th>gyro_unc_y</th>\n",
              "      <th>gyro_unc_z</th>\n",
              "      <th>gyro_unc_x2</th>\n",
              "      <th>gyro_unc_y2</th>\n",
              "      <th>gyro_unc_z2</th>\n",
              "      <th>mag_x</th>\n",
              "      <th>mag_y</th>\n",
              "      <th>mag_z</th>\n",
              "      <th>mag_unc_x</th>\n",
              "      <th>mag_unc_y</th>\n",
              "      <th>mag_unc_z</th>\n",
              "      <th>mag_unc_x2</th>\n",
              "      <th>mag_unc_y2</th>\n",
              "      <th>mag_unc_z2</th>\n",
              "      <th>rotation_x</th>\n",
              "      <th>rotation_y</th>\n",
              "      <th>rotation_z</th>\n",
              "      <th>floor</th>\n",
              "      <th>x</th>\n",
              "      <th>y</th>\n",
              "      <th>path</th>\n",
              "      <th>timestamp</th>\n",
              "    </tr>\n",
              "  </thead>\n",
              "  <tbody>\n",
              "    <tr>\n",
              "      <th>0</th>\n",
              "      <td>-39.686871</td>\n",
              "      <td>-119.635101</td>\n",
              "      <td>-159.321971</td>\n",
              "      <td>-999</td>\n",
              "      <td>-999</td>\n",
              "      <td>-999</td>\n",
              "      <td>-999</td>\n",
              "      <td>-999</td>\n",
              "      <td>-999</td>\n",
              "      <td>-999</td>\n",
              "      <td>-999</td>\n",
              "      <td>-999</td>\n",
              "      <td>-999</td>\n",
              "      <td>-999</td>\n",
              "      <td>-999</td>\n",
              "      <td>-999</td>\n",
              "      <td>-999</td>\n",
              "      <td>-999</td>\n",
              "      <td>-999</td>\n",
              "      <td>-999</td>\n",
              "      <td>-999</td>\n",
              "      <td>-999</td>\n",
              "      <td>-999</td>\n",
              "      <td>-999</td>\n",
              "      <td>-999</td>\n",
              "      <td>-999</td>\n",
              "      <td>-999</td>\n",
              "      <td>-999</td>\n",
              "      <td>-999</td>\n",
              "      <td>-999</td>\n",
              "      <td>-999</td>\n",
              "      <td>-999</td>\n",
              "      <td>-999</td>\n",
              "      <td>-999</td>\n",
              "      <td>-999</td>\n",
              "      <td>-999</td>\n",
              "      <td>-999</td>\n",
              "      <td>-999</td>\n",
              "      <td>-999</td>\n",
              "      <td>-999</td>\n",
              "      <td>...</td>\n",
              "      <td>-999</td>\n",
              "      <td>-999</td>\n",
              "      <td>-56.0</td>\n",
              "      <td>-81.0</td>\n",
              "      <td>15.596896</td>\n",
              "      <td>-0.929840</td>\n",
              "      <td>2.043625</td>\n",
              "      <td>11.139282</td>\n",
              "      <td>-0.961563</td>\n",
              "      <td>2.230362</td>\n",
              "      <td>11.060867</td>\n",
              "      <td>0.0</td>\n",
              "      <td>0.0</td>\n",
              "      <td>0.0</td>\n",
              "      <td>0.439972</td>\n",
              "      <td>0.067459</td>\n",
              "      <td>-0.032745</td>\n",
              "      <td>-0.081650</td>\n",
              "      <td>-0.128754</td>\n",
              "      <td>-0.048187</td>\n",
              "      <td>0.000000</td>\n",
              "      <td>0.000000</td>\n",
              "      <td>0.000000</td>\n",
              "      <td>22.070312</td>\n",
              "      <td>-15.106201</td>\n",
              "      <td>-20.103455</td>\n",
              "      <td>-60.224915</td>\n",
              "      <td>-108.815000</td>\n",
              "      <td>-354.11224</td>\n",
              "      <td>0.00000</td>\n",
              "      <td>0.00000</td>\n",
              "      <td>0.0000</td>\n",
              "      <td>0.000813</td>\n",
              "      <td>0.073408</td>\n",
              "      <td>0.931313</td>\n",
              "      <td>2</td>\n",
              "      <td>198.05206</td>\n",
              "      <td>93.971240</td>\n",
              "      <td>5d073b814a19c000086c558b</td>\n",
              "      <td>1560500997770</td>\n",
              "    </tr>\n",
              "    <tr>\n",
              "      <th>1</th>\n",
              "      <td>-27.997266</td>\n",
              "      <td>-123.018481</td>\n",
              "      <td>-151.015747</td>\n",
              "      <td>-999</td>\n",
              "      <td>-999</td>\n",
              "      <td>-999</td>\n",
              "      <td>-999</td>\n",
              "      <td>-999</td>\n",
              "      <td>-999</td>\n",
              "      <td>-999</td>\n",
              "      <td>-999</td>\n",
              "      <td>-999</td>\n",
              "      <td>-999</td>\n",
              "      <td>-999</td>\n",
              "      <td>-999</td>\n",
              "      <td>-999</td>\n",
              "      <td>-999</td>\n",
              "      <td>-999</td>\n",
              "      <td>-999</td>\n",
              "      <td>-999</td>\n",
              "      <td>-999</td>\n",
              "      <td>-999</td>\n",
              "      <td>-999</td>\n",
              "      <td>-999</td>\n",
              "      <td>-999</td>\n",
              "      <td>-999</td>\n",
              "      <td>-999</td>\n",
              "      <td>-999</td>\n",
              "      <td>-999</td>\n",
              "      <td>-999</td>\n",
              "      <td>-999</td>\n",
              "      <td>-999</td>\n",
              "      <td>-999</td>\n",
              "      <td>-999</td>\n",
              "      <td>-999</td>\n",
              "      <td>-999</td>\n",
              "      <td>-999</td>\n",
              "      <td>-999</td>\n",
              "      <td>-999</td>\n",
              "      <td>-999</td>\n",
              "      <td>...</td>\n",
              "      <td>-999</td>\n",
              "      <td>-999</td>\n",
              "      <td>-75.0</td>\n",
              "      <td>-57.0</td>\n",
              "      <td>0.064289</td>\n",
              "      <td>-1.628937</td>\n",
              "      <td>-1.168808</td>\n",
              "      <td>9.484283</td>\n",
              "      <td>-1.481705</td>\n",
              "      <td>-1.769745</td>\n",
              "      <td>12.809250</td>\n",
              "      <td>0.0</td>\n",
              "      <td>0.0</td>\n",
              "      <td>0.0</td>\n",
              "      <td>0.714279</td>\n",
              "      <td>-0.148270</td>\n",
              "      <td>-0.069489</td>\n",
              "      <td>0.254990</td>\n",
              "      <td>-0.183609</td>\n",
              "      <td>0.033310</td>\n",
              "      <td>0.000000</td>\n",
              "      <td>0.000000</td>\n",
              "      <td>0.000000</td>\n",
              "      <td>28.230286</td>\n",
              "      <td>-13.053894</td>\n",
              "      <td>-11.450195</td>\n",
              "      <td>-54.064940</td>\n",
              "      <td>-106.762695</td>\n",
              "      <td>-345.45898</td>\n",
              "      <td>0.00000</td>\n",
              "      <td>0.00000</td>\n",
              "      <td>0.0000</td>\n",
              "      <td>-0.021240</td>\n",
              "      <td>0.068540</td>\n",
              "      <td>0.877885</td>\n",
              "      <td>2</td>\n",
              "      <td>198.05206</td>\n",
              "      <td>93.971240</td>\n",
              "      <td>5d073b814a19c000086c558b</td>\n",
              "      <td>1560500999681</td>\n",
              "    </tr>\n",
              "    <tr>\n",
              "      <th>2</th>\n",
              "      <td>-7.591187</td>\n",
              "      <td>-96.911012</td>\n",
              "      <td>-104.502199</td>\n",
              "      <td>-999</td>\n",
              "      <td>-999</td>\n",
              "      <td>-999</td>\n",
              "      <td>-999</td>\n",
              "      <td>-999</td>\n",
              "      <td>-999</td>\n",
              "      <td>-999</td>\n",
              "      <td>-999</td>\n",
              "      <td>-999</td>\n",
              "      <td>-999</td>\n",
              "      <td>-999</td>\n",
              "      <td>-999</td>\n",
              "      <td>-999</td>\n",
              "      <td>-999</td>\n",
              "      <td>-999</td>\n",
              "      <td>-999</td>\n",
              "      <td>-999</td>\n",
              "      <td>-999</td>\n",
              "      <td>-999</td>\n",
              "      <td>-999</td>\n",
              "      <td>-999</td>\n",
              "      <td>-999</td>\n",
              "      <td>-999</td>\n",
              "      <td>-999</td>\n",
              "      <td>-999</td>\n",
              "      <td>-999</td>\n",
              "      <td>-999</td>\n",
              "      <td>-999</td>\n",
              "      <td>-999</td>\n",
              "      <td>-999</td>\n",
              "      <td>-999</td>\n",
              "      <td>-999</td>\n",
              "      <td>-999</td>\n",
              "      <td>-999</td>\n",
              "      <td>-999</td>\n",
              "      <td>-999</td>\n",
              "      <td>-999</td>\n",
              "      <td>...</td>\n",
              "      <td>-999</td>\n",
              "      <td>-999</td>\n",
              "      <td>-59.0</td>\n",
              "      <td>-77.0</td>\n",
              "      <td>7.119795</td>\n",
              "      <td>-0.127777</td>\n",
              "      <td>1.844299</td>\n",
              "      <td>7.909500</td>\n",
              "      <td>-0.095444</td>\n",
              "      <td>1.719208</td>\n",
              "      <td>7.479141</td>\n",
              "      <td>0.0</td>\n",
              "      <td>0.0</td>\n",
              "      <td>0.0</td>\n",
              "      <td>-0.352585</td>\n",
              "      <td>0.046158</td>\n",
              "      <td>-0.105713</td>\n",
              "      <td>-0.351685</td>\n",
              "      <td>0.046494</td>\n",
              "      <td>-0.104645</td>\n",
              "      <td>0.000000</td>\n",
              "      <td>0.000000</td>\n",
              "      <td>0.000000</td>\n",
              "      <td>37.811280</td>\n",
              "      <td>-3.472900</td>\n",
              "      <td>-18.107605</td>\n",
              "      <td>-44.483948</td>\n",
              "      <td>-97.181700</td>\n",
              "      <td>-352.11640</td>\n",
              "      <td>0.00000</td>\n",
              "      <td>0.00000</td>\n",
              "      <td>0.0000</td>\n",
              "      <td>0.008971</td>\n",
              "      <td>0.087430</td>\n",
              "      <td>0.808718</td>\n",
              "      <td>2</td>\n",
              "      <td>198.05206</td>\n",
              "      <td>93.971240</td>\n",
              "      <td>5d073b814a19c000086c558b</td>\n",
              "      <td>1560501001590</td>\n",
              "    </tr>\n",
              "    <tr>\n",
              "      <th>3</th>\n",
              "      <td>-33.353259</td>\n",
              "      <td>-88.763467</td>\n",
              "      <td>-122.116726</td>\n",
              "      <td>-999</td>\n",
              "      <td>-999</td>\n",
              "      <td>-999</td>\n",
              "      <td>-999</td>\n",
              "      <td>-999</td>\n",
              "      <td>-999</td>\n",
              "      <td>-999</td>\n",
              "      <td>-999</td>\n",
              "      <td>-999</td>\n",
              "      <td>-999</td>\n",
              "      <td>-999</td>\n",
              "      <td>-999</td>\n",
              "      <td>-999</td>\n",
              "      <td>-999</td>\n",
              "      <td>-999</td>\n",
              "      <td>-999</td>\n",
              "      <td>-999</td>\n",
              "      <td>-999</td>\n",
              "      <td>-999</td>\n",
              "      <td>-999</td>\n",
              "      <td>-999</td>\n",
              "      <td>-999</td>\n",
              "      <td>-999</td>\n",
              "      <td>-999</td>\n",
              "      <td>-999</td>\n",
              "      <td>-999</td>\n",
              "      <td>-999</td>\n",
              "      <td>-999</td>\n",
              "      <td>-999</td>\n",
              "      <td>-999</td>\n",
              "      <td>-999</td>\n",
              "      <td>-999</td>\n",
              "      <td>-999</td>\n",
              "      <td>-999</td>\n",
              "      <td>-999</td>\n",
              "      <td>-999</td>\n",
              "      <td>-999</td>\n",
              "      <td>...</td>\n",
              "      <td>-999</td>\n",
              "      <td>-999</td>\n",
              "      <td>-59.0</td>\n",
              "      <td>-94.0</td>\n",
              "      <td>32.737635</td>\n",
              "      <td>-0.613205</td>\n",
              "      <td>1.233185</td>\n",
              "      <td>11.567246</td>\n",
              "      <td>-0.549149</td>\n",
              "      <td>1.367859</td>\n",
              "      <td>12.053879</td>\n",
              "      <td>0.0</td>\n",
              "      <td>0.0</td>\n",
              "      <td>0.0</td>\n",
              "      <td>0.241837</td>\n",
              "      <td>-0.183426</td>\n",
              "      <td>-0.027954</td>\n",
              "      <td>0.242737</td>\n",
              "      <td>-0.183090</td>\n",
              "      <td>-0.026886</td>\n",
              "      <td>0.000000</td>\n",
              "      <td>0.000000</td>\n",
              "      <td>0.000000</td>\n",
              "      <td>24.807740</td>\n",
              "      <td>1.318359</td>\n",
              "      <td>-24.763489</td>\n",
              "      <td>-57.487488</td>\n",
              "      <td>-92.390440</td>\n",
              "      <td>-358.77228</td>\n",
              "      <td>0.00000</td>\n",
              "      <td>0.00000</td>\n",
              "      <td>0.0000</td>\n",
              "      <td>0.004270</td>\n",
              "      <td>0.074086</td>\n",
              "      <td>0.776681</td>\n",
              "      <td>2</td>\n",
              "      <td>198.05206</td>\n",
              "      <td>93.971240</td>\n",
              "      <td>5d073b814a19c000086c558b</td>\n",
              "      <td>1560501003516</td>\n",
              "    </tr>\n",
              "    <tr>\n",
              "      <th>4</th>\n",
              "      <td>-16.822502</td>\n",
              "      <td>-106.414444</td>\n",
              "      <td>-123.236946</td>\n",
              "      <td>-999</td>\n",
              "      <td>-999</td>\n",
              "      <td>-999</td>\n",
              "      <td>-999</td>\n",
              "      <td>-999</td>\n",
              "      <td>-999</td>\n",
              "      <td>-999</td>\n",
              "      <td>-999</td>\n",
              "      <td>-999</td>\n",
              "      <td>-999</td>\n",
              "      <td>-999</td>\n",
              "      <td>-999</td>\n",
              "      <td>-999</td>\n",
              "      <td>-999</td>\n",
              "      <td>-999</td>\n",
              "      <td>-999</td>\n",
              "      <td>-999</td>\n",
              "      <td>-999</td>\n",
              "      <td>-999</td>\n",
              "      <td>-999</td>\n",
              "      <td>-999</td>\n",
              "      <td>-999</td>\n",
              "      <td>-999</td>\n",
              "      <td>-999</td>\n",
              "      <td>-999</td>\n",
              "      <td>-999</td>\n",
              "      <td>-999</td>\n",
              "      <td>-999</td>\n",
              "      <td>-999</td>\n",
              "      <td>-999</td>\n",
              "      <td>-999</td>\n",
              "      <td>-999</td>\n",
              "      <td>-999</td>\n",
              "      <td>-999</td>\n",
              "      <td>-999</td>\n",
              "      <td>-999</td>\n",
              "      <td>-999</td>\n",
              "      <td>...</td>\n",
              "      <td>-999</td>\n",
              "      <td>-999</td>\n",
              "      <td>-75.0</td>\n",
              "      <td>-64.0</td>\n",
              "      <td>0.204733</td>\n",
              "      <td>0.050598</td>\n",
              "      <td>0.701675</td>\n",
              "      <td>10.140305</td>\n",
              "      <td>-0.036789</td>\n",
              "      <td>0.762726</td>\n",
              "      <td>10.092422</td>\n",
              "      <td>0.0</td>\n",
              "      <td>0.0</td>\n",
              "      <td>0.0</td>\n",
              "      <td>-0.384018</td>\n",
              "      <td>-0.190872</td>\n",
              "      <td>0.376327</td>\n",
              "      <td>-0.207352</td>\n",
              "      <td>-0.251785</td>\n",
              "      <td>0.284180</td>\n",
              "      <td>0.000000</td>\n",
              "      <td>0.000000</td>\n",
              "      <td>0.000000</td>\n",
              "      <td>33.020020</td>\n",
              "      <td>-6.893921</td>\n",
              "      <td>-22.766113</td>\n",
              "      <td>-49.275208</td>\n",
              "      <td>-100.602720</td>\n",
              "      <td>-356.77490</td>\n",
              "      <td>0.00000</td>\n",
              "      <td>0.00000</td>\n",
              "      <td>0.0000</td>\n",
              "      <td>0.010247</td>\n",
              "      <td>0.060453</td>\n",
              "      <td>0.738799</td>\n",
              "      <td>2</td>\n",
              "      <td>180.07335</td>\n",
              "      <td>89.948960</td>\n",
              "      <td>5d073b814a19c000086c558b</td>\n",
              "      <td>1560501005442</td>\n",
              "    </tr>\n",
              "    <tr>\n",
              "      <th>...</th>\n",
              "      <td>...</td>\n",
              "      <td>...</td>\n",
              "      <td>...</td>\n",
              "      <td>...</td>\n",
              "      <td>...</td>\n",
              "      <td>...</td>\n",
              "      <td>...</td>\n",
              "      <td>...</td>\n",
              "      <td>...</td>\n",
              "      <td>...</td>\n",
              "      <td>...</td>\n",
              "      <td>...</td>\n",
              "      <td>...</td>\n",
              "      <td>...</td>\n",
              "      <td>...</td>\n",
              "      <td>...</td>\n",
              "      <td>...</td>\n",
              "      <td>...</td>\n",
              "      <td>...</td>\n",
              "      <td>...</td>\n",
              "      <td>...</td>\n",
              "      <td>...</td>\n",
              "      <td>...</td>\n",
              "      <td>...</td>\n",
              "      <td>...</td>\n",
              "      <td>...</td>\n",
              "      <td>...</td>\n",
              "      <td>...</td>\n",
              "      <td>...</td>\n",
              "      <td>...</td>\n",
              "      <td>...</td>\n",
              "      <td>...</td>\n",
              "      <td>...</td>\n",
              "      <td>...</td>\n",
              "      <td>...</td>\n",
              "      <td>...</td>\n",
              "      <td>...</td>\n",
              "      <td>...</td>\n",
              "      <td>...</td>\n",
              "      <td>...</td>\n",
              "      <td>...</td>\n",
              "      <td>...</td>\n",
              "      <td>...</td>\n",
              "      <td>...</td>\n",
              "      <td>...</td>\n",
              "      <td>...</td>\n",
              "      <td>...</td>\n",
              "      <td>...</td>\n",
              "      <td>...</td>\n",
              "      <td>...</td>\n",
              "      <td>...</td>\n",
              "      <td>...</td>\n",
              "      <td>...</td>\n",
              "      <td>...</td>\n",
              "      <td>...</td>\n",
              "      <td>...</td>\n",
              "      <td>...</td>\n",
              "      <td>...</td>\n",
              "      <td>...</td>\n",
              "      <td>...</td>\n",
              "      <td>...</td>\n",
              "      <td>...</td>\n",
              "      <td>...</td>\n",
              "      <td>...</td>\n",
              "      <td>...</td>\n",
              "      <td>...</td>\n",
              "      <td>...</td>\n",
              "      <td>...</td>\n",
              "      <td>...</td>\n",
              "      <td>...</td>\n",
              "      <td>...</td>\n",
              "      <td>...</td>\n",
              "      <td>...</td>\n",
              "      <td>...</td>\n",
              "      <td>...</td>\n",
              "      <td>...</td>\n",
              "      <td>...</td>\n",
              "      <td>...</td>\n",
              "      <td>...</td>\n",
              "      <td>...</td>\n",
              "      <td>...</td>\n",
              "    </tr>\n",
              "    <tr>\n",
              "      <th>2</th>\n",
              "      <td>-133.654370</td>\n",
              "      <td>-182.271202</td>\n",
              "      <td>-315.925572</td>\n",
              "      <td>-999</td>\n",
              "      <td>-999</td>\n",
              "      <td>-80</td>\n",
              "      <td>-999</td>\n",
              "      <td>-999</td>\n",
              "      <td>-999</td>\n",
              "      <td>-999</td>\n",
              "      <td>-999</td>\n",
              "      <td>-999</td>\n",
              "      <td>-999</td>\n",
              "      <td>-74</td>\n",
              "      <td>-999</td>\n",
              "      <td>-999</td>\n",
              "      <td>-999</td>\n",
              "      <td>-999</td>\n",
              "      <td>-999</td>\n",
              "      <td>-83</td>\n",
              "      <td>-78</td>\n",
              "      <td>-999</td>\n",
              "      <td>-999</td>\n",
              "      <td>-72</td>\n",
              "      <td>-999</td>\n",
              "      <td>-999</td>\n",
              "      <td>-999</td>\n",
              "      <td>-88</td>\n",
              "      <td>-999</td>\n",
              "      <td>-999</td>\n",
              "      <td>-999</td>\n",
              "      <td>-999</td>\n",
              "      <td>-999</td>\n",
              "      <td>-999</td>\n",
              "      <td>-999</td>\n",
              "      <td>-69</td>\n",
              "      <td>-999</td>\n",
              "      <td>-999</td>\n",
              "      <td>-999</td>\n",
              "      <td>-999</td>\n",
              "      <td>...</td>\n",
              "      <td>-999</td>\n",
              "      <td>-999</td>\n",
              "      <td>-59.0</td>\n",
              "      <td>-90.0</td>\n",
              "      <td>23.444276</td>\n",
              "      <td>1.490097</td>\n",
              "      <td>0.766129</td>\n",
              "      <td>11.890320</td>\n",
              "      <td>1.187225</td>\n",
              "      <td>0.839142</td>\n",
              "      <td>9.919891</td>\n",
              "      <td>0.0</td>\n",
              "      <td>0.0</td>\n",
              "      <td>0.0</td>\n",
              "      <td>-0.056656</td>\n",
              "      <td>-0.300369</td>\n",
              "      <td>-0.102646</td>\n",
              "      <td>-0.315216</td>\n",
              "      <td>-0.506393</td>\n",
              "      <td>-0.106171</td>\n",
              "      <td>-0.000763</td>\n",
              "      <td>0.000107</td>\n",
              "      <td>0.000198</td>\n",
              "      <td>3.010559</td>\n",
              "      <td>-38.087463</td>\n",
              "      <td>-27.540588</td>\n",
              "      <td>-67.987060</td>\n",
              "      <td>-91.575620</td>\n",
              "      <td>-349.23248</td>\n",
              "      <td>-70.99762</td>\n",
              "      <td>-53.48816</td>\n",
              "      <td>-321.6919</td>\n",
              "      <td>0.015063</td>\n",
              "      <td>0.081427</td>\n",
              "      <td>0.990017</td>\n",
              "      <td>4</td>\n",
              "      <td>190.18886</td>\n",
              "      <td>124.585180</td>\n",
              "      <td>5d8dbc14fc794e0006ec20a6</td>\n",
              "      <td>1569569795073</td>\n",
              "    </tr>\n",
              "    <tr>\n",
              "      <th>3</th>\n",
              "      <td>-108.093661</td>\n",
              "      <td>-177.797670</td>\n",
              "      <td>-285.891330</td>\n",
              "      <td>-999</td>\n",
              "      <td>-999</td>\n",
              "      <td>-80</td>\n",
              "      <td>-999</td>\n",
              "      <td>-999</td>\n",
              "      <td>-999</td>\n",
              "      <td>-999</td>\n",
              "      <td>-999</td>\n",
              "      <td>-999</td>\n",
              "      <td>-999</td>\n",
              "      <td>-74</td>\n",
              "      <td>-999</td>\n",
              "      <td>-999</td>\n",
              "      <td>-999</td>\n",
              "      <td>-999</td>\n",
              "      <td>-999</td>\n",
              "      <td>-84</td>\n",
              "      <td>-81</td>\n",
              "      <td>-999</td>\n",
              "      <td>-999</td>\n",
              "      <td>-71</td>\n",
              "      <td>-999</td>\n",
              "      <td>-999</td>\n",
              "      <td>-999</td>\n",
              "      <td>-88</td>\n",
              "      <td>-999</td>\n",
              "      <td>-999</td>\n",
              "      <td>-999</td>\n",
              "      <td>-999</td>\n",
              "      <td>-999</td>\n",
              "      <td>-999</td>\n",
              "      <td>-999</td>\n",
              "      <td>-74</td>\n",
              "      <td>-999</td>\n",
              "      <td>-999</td>\n",
              "      <td>-999</td>\n",
              "      <td>-999</td>\n",
              "      <td>...</td>\n",
              "      <td>-999</td>\n",
              "      <td>-999</td>\n",
              "      <td>-59.0</td>\n",
              "      <td>-78.0</td>\n",
              "      <td>7.852880</td>\n",
              "      <td>0.081116</td>\n",
              "      <td>0.993576</td>\n",
              "      <td>10.188034</td>\n",
              "      <td>-0.849045</td>\n",
              "      <td>0.933716</td>\n",
              "      <td>9.145966</td>\n",
              "      <td>0.0</td>\n",
              "      <td>0.0</td>\n",
              "      <td>0.0</td>\n",
              "      <td>-0.237747</td>\n",
              "      <td>-0.208221</td>\n",
              "      <td>-0.929276</td>\n",
              "      <td>-0.290710</td>\n",
              "      <td>0.064590</td>\n",
              "      <td>-0.316025</td>\n",
              "      <td>-0.000763</td>\n",
              "      <td>0.000107</td>\n",
              "      <td>0.000198</td>\n",
              "      <td>18.966675</td>\n",
              "      <td>-36.006165</td>\n",
              "      <td>-22.848510</td>\n",
              "      <td>-54.806520</td>\n",
              "      <td>-90.187070</td>\n",
              "      <td>-343.87054</td>\n",
              "      <td>-70.99762</td>\n",
              "      <td>-53.48816</td>\n",
              "      <td>-321.6919</td>\n",
              "      <td>0.040954</td>\n",
              "      <td>0.099958</td>\n",
              "      <td>0.932018</td>\n",
              "      <td>4</td>\n",
              "      <td>190.18886</td>\n",
              "      <td>124.585180</td>\n",
              "      <td>5d8dbc14fc794e0006ec20a6</td>\n",
              "      <td>1569569797185</td>\n",
              "    </tr>\n",
              "    <tr>\n",
              "      <th>4</th>\n",
              "      <td>-79.189229</td>\n",
              "      <td>-105.436889</td>\n",
              "      <td>-184.626119</td>\n",
              "      <td>-999</td>\n",
              "      <td>-999</td>\n",
              "      <td>-80</td>\n",
              "      <td>-999</td>\n",
              "      <td>-999</td>\n",
              "      <td>-999</td>\n",
              "      <td>-999</td>\n",
              "      <td>-999</td>\n",
              "      <td>-999</td>\n",
              "      <td>-999</td>\n",
              "      <td>-73</td>\n",
              "      <td>-999</td>\n",
              "      <td>-999</td>\n",
              "      <td>-999</td>\n",
              "      <td>-999</td>\n",
              "      <td>-999</td>\n",
              "      <td>-81</td>\n",
              "      <td>-83</td>\n",
              "      <td>-999</td>\n",
              "      <td>-999</td>\n",
              "      <td>-71</td>\n",
              "      <td>-999</td>\n",
              "      <td>-999</td>\n",
              "      <td>-999</td>\n",
              "      <td>-88</td>\n",
              "      <td>-999</td>\n",
              "      <td>-999</td>\n",
              "      <td>-999</td>\n",
              "      <td>-999</td>\n",
              "      <td>-999</td>\n",
              "      <td>-999</td>\n",
              "      <td>-999</td>\n",
              "      <td>-70</td>\n",
              "      <td>-999</td>\n",
              "      <td>-999</td>\n",
              "      <td>-999</td>\n",
              "      <td>-999</td>\n",
              "      <td>...</td>\n",
              "      <td>-999</td>\n",
              "      <td>-999</td>\n",
              "      <td>-56.0</td>\n",
              "      <td>-89.0</td>\n",
              "      <td>32.121565</td>\n",
              "      <td>0.331894</td>\n",
              "      <td>2.724579</td>\n",
              "      <td>7.938095</td>\n",
              "      <td>0.683243</td>\n",
              "      <td>2.866440</td>\n",
              "      <td>7.979385</td>\n",
              "      <td>0.0</td>\n",
              "      <td>0.0</td>\n",
              "      <td>0.0</td>\n",
              "      <td>-0.099258</td>\n",
              "      <td>-0.048965</td>\n",
              "      <td>-0.330612</td>\n",
              "      <td>0.230209</td>\n",
              "      <td>-0.079224</td>\n",
              "      <td>-0.392731</td>\n",
              "      <td>-0.000763</td>\n",
              "      <td>0.000107</td>\n",
              "      <td>0.000198</td>\n",
              "      <td>30.760193</td>\n",
              "      <td>-2.011108</td>\n",
              "      <td>-34.913635</td>\n",
              "      <td>-40.237427</td>\n",
              "      <td>-55.499268</td>\n",
              "      <td>-356.60553</td>\n",
              "      <td>-70.99762</td>\n",
              "      <td>-53.48816</td>\n",
              "      <td>-321.6919</td>\n",
              "      <td>0.140300</td>\n",
              "      <td>0.098711</td>\n",
              "      <td>0.631521</td>\n",
              "      <td>4</td>\n",
              "      <td>190.18886</td>\n",
              "      <td>124.585180</td>\n",
              "      <td>5d8dbc14fc794e0006ec20a6</td>\n",
              "      <td>1569569799274</td>\n",
              "    </tr>\n",
              "    <tr>\n",
              "      <th>5</th>\n",
              "      <td>-79.672729</td>\n",
              "      <td>-104.343824</td>\n",
              "      <td>-184.016553</td>\n",
              "      <td>-999</td>\n",
              "      <td>-999</td>\n",
              "      <td>-74</td>\n",
              "      <td>-999</td>\n",
              "      <td>-999</td>\n",
              "      <td>-999</td>\n",
              "      <td>-999</td>\n",
              "      <td>-999</td>\n",
              "      <td>-999</td>\n",
              "      <td>-999</td>\n",
              "      <td>-73</td>\n",
              "      <td>-999</td>\n",
              "      <td>-999</td>\n",
              "      <td>-999</td>\n",
              "      <td>-999</td>\n",
              "      <td>-999</td>\n",
              "      <td>-79</td>\n",
              "      <td>-80</td>\n",
              "      <td>-999</td>\n",
              "      <td>-999</td>\n",
              "      <td>-71</td>\n",
              "      <td>-999</td>\n",
              "      <td>-999</td>\n",
              "      <td>-999</td>\n",
              "      <td>-88</td>\n",
              "      <td>-999</td>\n",
              "      <td>-999</td>\n",
              "      <td>-999</td>\n",
              "      <td>-999</td>\n",
              "      <td>-999</td>\n",
              "      <td>-999</td>\n",
              "      <td>-999</td>\n",
              "      <td>-67</td>\n",
              "      <td>-999</td>\n",
              "      <td>-999</td>\n",
              "      <td>-999</td>\n",
              "      <td>-999</td>\n",
              "      <td>...</td>\n",
              "      <td>-999</td>\n",
              "      <td>-999</td>\n",
              "      <td>-56.0</td>\n",
              "      <td>-94.0</td>\n",
              "      <td>48.897569</td>\n",
              "      <td>0.124207</td>\n",
              "      <td>0.616486</td>\n",
              "      <td>10.820709</td>\n",
              "      <td>-0.035004</td>\n",
              "      <td>0.642822</td>\n",
              "      <td>9.384781</td>\n",
              "      <td>0.0</td>\n",
              "      <td>0.0</td>\n",
              "      <td>0.0</td>\n",
              "      <td>0.170792</td>\n",
              "      <td>-0.282791</td>\n",
              "      <td>-0.104767</td>\n",
              "      <td>0.483749</td>\n",
              "      <td>0.053940</td>\n",
              "      <td>0.045639</td>\n",
              "      <td>-0.000763</td>\n",
              "      <td>0.000107</td>\n",
              "      <td>0.000198</td>\n",
              "      <td>30.760193</td>\n",
              "      <td>0.762939</td>\n",
              "      <td>-32.232666</td>\n",
              "      <td>-40.237427</td>\n",
              "      <td>-52.725220</td>\n",
              "      <td>-353.92456</td>\n",
              "      <td>-70.99762</td>\n",
              "      <td>-53.48816</td>\n",
              "      <td>-321.6919</td>\n",
              "      <td>0.059144</td>\n",
              "      <td>0.076053</td>\n",
              "      <td>0.616441</td>\n",
              "      <td>4</td>\n",
              "      <td>182.95134</td>\n",
              "      <td>126.136665</td>\n",
              "      <td>5d8dbc14fc794e0006ec20a6</td>\n",
              "      <td>1569569801382</td>\n",
              "    </tr>\n",
              "    <tr>\n",
              "      <th>6</th>\n",
              "      <td>-88.548877</td>\n",
              "      <td>-95.752140</td>\n",
              "      <td>-184.301016</td>\n",
              "      <td>-999</td>\n",
              "      <td>-999</td>\n",
              "      <td>-74</td>\n",
              "      <td>-999</td>\n",
              "      <td>-999</td>\n",
              "      <td>-999</td>\n",
              "      <td>-999</td>\n",
              "      <td>-999</td>\n",
              "      <td>-999</td>\n",
              "      <td>-999</td>\n",
              "      <td>-73</td>\n",
              "      <td>-999</td>\n",
              "      <td>-999</td>\n",
              "      <td>-999</td>\n",
              "      <td>-999</td>\n",
              "      <td>-999</td>\n",
              "      <td>-79</td>\n",
              "      <td>-81</td>\n",
              "      <td>-999</td>\n",
              "      <td>-999</td>\n",
              "      <td>-71</td>\n",
              "      <td>-999</td>\n",
              "      <td>-999</td>\n",
              "      <td>-999</td>\n",
              "      <td>-88</td>\n",
              "      <td>-999</td>\n",
              "      <td>-999</td>\n",
              "      <td>-999</td>\n",
              "      <td>-999</td>\n",
              "      <td>-999</td>\n",
              "      <td>-999</td>\n",
              "      <td>-999</td>\n",
              "      <td>-63</td>\n",
              "      <td>-999</td>\n",
              "      <td>-999</td>\n",
              "      <td>-999</td>\n",
              "      <td>-999</td>\n",
              "      <td>...</td>\n",
              "      <td>-999</td>\n",
              "      <td>-999</td>\n",
              "      <td>-56.0</td>\n",
              "      <td>-85.0</td>\n",
              "      <td>22.566684</td>\n",
              "      <td>-1.174057</td>\n",
              "      <td>2.120041</td>\n",
              "      <td>10.061737</td>\n",
              "      <td>-1.305740</td>\n",
              "      <td>2.157150</td>\n",
              "      <td>10.274231</td>\n",
              "      <td>0.0</td>\n",
              "      <td>0.0</td>\n",
              "      <td>0.0</td>\n",
              "      <td>-0.306992</td>\n",
              "      <td>-0.151764</td>\n",
              "      <td>-0.073349</td>\n",
              "      <td>0.196121</td>\n",
              "      <td>-0.064316</td>\n",
              "      <td>0.192108</td>\n",
              "      <td>-0.000763</td>\n",
              "      <td>0.000107</td>\n",
              "      <td>0.000198</td>\n",
              "      <td>27.984620</td>\n",
              "      <td>3.538513</td>\n",
              "      <td>-31.562805</td>\n",
              "      <td>-43.013000</td>\n",
              "      <td>-49.949646</td>\n",
              "      <td>-353.25470</td>\n",
              "      <td>-70.99762</td>\n",
              "      <td>-53.48816</td>\n",
              "      <td>-321.6919</td>\n",
              "      <td>0.068554</td>\n",
              "      <td>0.085935</td>\n",
              "      <td>0.553741</td>\n",
              "      <td>4</td>\n",
              "      <td>182.95134</td>\n",
              "      <td>126.136665</td>\n",
              "      <td>5d8dbc14fc794e0006ec20a6</td>\n",
              "      <td>1569569803462</td>\n",
              "    </tr>\n",
              "  </tbody>\n",
              "</table>\n",
              "<p>9737 rows × 3104 columns</p>\n",
              "</div>"
            ],
            "text/plain": [
              "    sum_sensor_x  sum_sensor_y  ...                      path      timestamp\n",
              "0     -39.686871   -119.635101  ...  5d073b814a19c000086c558b  1560500997770\n",
              "1     -27.997266   -123.018481  ...  5d073b814a19c000086c558b  1560500999681\n",
              "2      -7.591187    -96.911012  ...  5d073b814a19c000086c558b  1560501001590\n",
              "3     -33.353259    -88.763467  ...  5d073b814a19c000086c558b  1560501003516\n",
              "4     -16.822502   -106.414444  ...  5d073b814a19c000086c558b  1560501005442\n",
              "..           ...           ...  ...                       ...            ...\n",
              "2    -133.654370   -182.271202  ...  5d8dbc14fc794e0006ec20a6  1569569795073\n",
              "3    -108.093661   -177.797670  ...  5d8dbc14fc794e0006ec20a6  1569569797185\n",
              "4     -79.189229   -105.436889  ...  5d8dbc14fc794e0006ec20a6  1569569799274\n",
              "5     -79.672729   -104.343824  ...  5d8dbc14fc794e0006ec20a6  1569569801382\n",
              "6     -88.548877    -95.752140  ...  5d8dbc14fc794e0006ec20a6  1569569803462\n",
              "\n",
              "[9737 rows x 3104 columns]"
            ]
          },
          "metadata": {
            "tags": []
          },
          "execution_count": 46
        }
      ]
    },
    {
      "cell_type": "code",
      "metadata": {
        "id": "fxdmRtRDdOid"
      },
      "source": [
        "all_preds = pd.concat(predictions)\n",
        "all_preds = all_preds.reindex(subm.index)"
      ],
      "execution_count": 47,
      "outputs": []
    },
    {
      "cell_type": "code",
      "metadata": {
        "id": "HYF3AwsoOUCy",
        "outputId": "3de4ad28-f673-4f07-cd74-dae022a5c258",
        "colab": {
          "base_uri": "https://localhost:8080/",
          "height": 450
        }
      },
      "source": [
        "all_preds"
      ],
      "execution_count": 48,
      "outputs": [
        {
          "output_type": "execute_result",
          "data": {
            "text/html": [
              "<div>\n",
              "<style scoped>\n",
              "    .dataframe tbody tr th:only-of-type {\n",
              "        vertical-align: middle;\n",
              "    }\n",
              "\n",
              "    .dataframe tbody tr th {\n",
              "        vertical-align: top;\n",
              "    }\n",
              "\n",
              "    .dataframe thead th {\n",
              "        text-align: right;\n",
              "    }\n",
              "</style>\n",
              "<table border=\"1\" class=\"dataframe\">\n",
              "  <thead>\n",
              "    <tr style=\"text-align: right;\">\n",
              "      <th></th>\n",
              "      <th>floor</th>\n",
              "      <th>x</th>\n",
              "      <th>y</th>\n",
              "    </tr>\n",
              "    <tr>\n",
              "      <th>site_path_timestamp</th>\n",
              "      <th></th>\n",
              "      <th></th>\n",
              "      <th></th>\n",
              "    </tr>\n",
              "  </thead>\n",
              "  <tbody>\n",
              "    <tr>\n",
              "      <th>5a0546857ecc773753327266_046cfa46be49fc10834815c6_0000000000009</th>\n",
              "      <td>0.0</td>\n",
              "      <td>93.958514</td>\n",
              "      <td>99.233139</td>\n",
              "    </tr>\n",
              "    <tr>\n",
              "      <th>5a0546857ecc773753327266_046cfa46be49fc10834815c6_0000000009017</th>\n",
              "      <td>0.0</td>\n",
              "      <td>91.940152</td>\n",
              "      <td>102.341637</td>\n",
              "    </tr>\n",
              "    <tr>\n",
              "      <th>5a0546857ecc773753327266_046cfa46be49fc10834815c6_0000000015326</th>\n",
              "      <td>0.0</td>\n",
              "      <td>89.112067</td>\n",
              "      <td>105.326688</td>\n",
              "    </tr>\n",
              "    <tr>\n",
              "      <th>5a0546857ecc773753327266_046cfa46be49fc10834815c6_0000000018763</th>\n",
              "      <td>0.0</td>\n",
              "      <td>89.678749</td>\n",
              "      <td>105.679917</td>\n",
              "    </tr>\n",
              "    <tr>\n",
              "      <th>5a0546857ecc773753327266_046cfa46be49fc10834815c6_0000000022328</th>\n",
              "      <td>0.0</td>\n",
              "      <td>90.620852</td>\n",
              "      <td>110.508695</td>\n",
              "    </tr>\n",
              "    <tr>\n",
              "      <th>...</th>\n",
              "      <td>...</td>\n",
              "      <td>...</td>\n",
              "      <td>...</td>\n",
              "    </tr>\n",
              "    <tr>\n",
              "      <th>5dc8cea7659e181adb076a3f_fd64de8c4a2fc5ebb0e9f412_0000000082589</th>\n",
              "      <td>NaN</td>\n",
              "      <td>NaN</td>\n",
              "      <td>NaN</td>\n",
              "    </tr>\n",
              "    <tr>\n",
              "      <th>5dc8cea7659e181adb076a3f_fd64de8c4a2fc5ebb0e9f412_0000000085758</th>\n",
              "      <td>NaN</td>\n",
              "      <td>NaN</td>\n",
              "      <td>NaN</td>\n",
              "    </tr>\n",
              "    <tr>\n",
              "      <th>5dc8cea7659e181adb076a3f_fd64de8c4a2fc5ebb0e9f412_0000000090895</th>\n",
              "      <td>NaN</td>\n",
              "      <td>NaN</td>\n",
              "      <td>NaN</td>\n",
              "    </tr>\n",
              "    <tr>\n",
              "      <th>5dc8cea7659e181adb076a3f_fd64de8c4a2fc5ebb0e9f412_0000000096899</th>\n",
              "      <td>NaN</td>\n",
              "      <td>NaN</td>\n",
              "      <td>NaN</td>\n",
              "    </tr>\n",
              "    <tr>\n",
              "      <th>5dc8cea7659e181adb076a3f_fd64de8c4a2fc5ebb0e9f412_0000000100447</th>\n",
              "      <td>NaN</td>\n",
              "      <td>NaN</td>\n",
              "      <td>NaN</td>\n",
              "    </tr>\n",
              "  </tbody>\n",
              "</table>\n",
              "<p>10133 rows × 3 columns</p>\n",
              "</div>"
            ],
            "text/plain": [
              "                                                    floor  ...           y\n",
              "site_path_timestamp                                        ...            \n",
              "5a0546857ecc773753327266_046cfa46be49fc10834815...    0.0  ...   99.233139\n",
              "5a0546857ecc773753327266_046cfa46be49fc10834815...    0.0  ...  102.341637\n",
              "5a0546857ecc773753327266_046cfa46be49fc10834815...    0.0  ...  105.326688\n",
              "5a0546857ecc773753327266_046cfa46be49fc10834815...    0.0  ...  105.679917\n",
              "5a0546857ecc773753327266_046cfa46be49fc10834815...    0.0  ...  110.508695\n",
              "...                                                   ...  ...         ...\n",
              "5dc8cea7659e181adb076a3f_fd64de8c4a2fc5ebb0e9f4...    NaN  ...         NaN\n",
              "5dc8cea7659e181adb076a3f_fd64de8c4a2fc5ebb0e9f4...    NaN  ...         NaN\n",
              "5dc8cea7659e181adb076a3f_fd64de8c4a2fc5ebb0e9f4...    NaN  ...         NaN\n",
              "5dc8cea7659e181adb076a3f_fd64de8c4a2fc5ebb0e9f4...    NaN  ...         NaN\n",
              "5dc8cea7659e181adb076a3f_fd64de8c4a2fc5ebb0e9f4...    NaN  ...         NaN\n",
              "\n",
              "[10133 rows x 3 columns]"
            ]
          },
          "metadata": {
            "tags": []
          },
          "execution_count": 48
        }
      ]
    },
    {
      "cell_type": "code",
      "metadata": {
        "id": "DuIro-hLyGS9"
      },
      "source": [
        "all_preds = pd.concat(predictions)\n",
        "all_preds = all_preds.reindex(subm.index)\n",
        "all_preds.to_csv('submission_lgbm_28.csv')"
      ],
      "execution_count": 50,
      "outputs": []
    },
    {
      "cell_type": "code",
      "metadata": {
        "id": "OwcjO7RAyjlL"
      },
      "source": [
        "!mv /content/submission_lgbm_28.csv /content/drive/MyDrive"
      ],
      "execution_count": 51,
      "outputs": []
    },
    {
      "cell_type": "code",
      "metadata": {
        "id": "WKx4AojKgO-a"
      },
      "source": [
        "floor = pd.read_csv('/content/drive/MyDrive/only_accurate_floor.csv')"
      ],
      "execution_count": 46,
      "outputs": []
    },
    {
      "cell_type": "code",
      "metadata": {
        "id": "NVYZsTrLgMPK"
      },
      "source": [
        "all_preds['floor'] = floor['floor'].values"
      ],
      "execution_count": 47,
      "outputs": []
    },
    {
      "cell_type": "code",
      "metadata": {
        "id": "8iObJE_ugabC"
      },
      "source": [
        "all_preds.to_csv('submission_lgbm_27.csv')"
      ],
      "execution_count": 48,
      "outputs": []
    },
    {
      "cell_type": "code",
      "metadata": {
        "id": "3bLtT9APgZsf"
      },
      "source": [
        "!mv /content/submission_lgbm_27.csv /content/drive/MyDrive"
      ],
      "execution_count": 49,
      "outputs": []
    },
    {
      "cell_type": "code",
      "metadata": {
        "id": "spMV_r8tym-p"
      },
      "source": [
        "pd."
      ],
      "execution_count": null,
      "outputs": []
    }
  ]
}