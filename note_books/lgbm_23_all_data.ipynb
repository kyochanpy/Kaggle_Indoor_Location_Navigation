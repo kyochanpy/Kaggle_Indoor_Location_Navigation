{
  "nbformat": 4,
  "nbformat_minor": 0,
  "metadata": {
    "colab": {
      "name": "Untitled16.ipynb のコピー",
      "provenance": [],
      "collapsed_sections": [],
      "toc_visible": true,
      "machine_shape": "hm",
      "mount_file_id": "https://github.com/kyochanpy/Kaggle_Indoor_Location_Navigation/blob/main/note_books/lgbm_04_all_data.ipynb",
      "authorship_tag": "ABX9TyP8vZ0+EETB2IsaeOLFmYm5",
      "include_colab_link": true
    },
    "kernelspec": {
      "name": "python3",
      "display_name": "Python 3"
    },
    "language_info": {
      "name": "python"
    }
  },
  "cells": [
    {
      "cell_type": "markdown",
      "metadata": {
        "id": "view-in-github",
        "colab_type": "text"
      },
      "source": [
        "<a href=\"https://colab.research.google.com/github/kyochanpy/Kaggle_Indoor_Location_Navigation/blob/main/note_books/lgbm_23_all_data.ipynb\" target=\"_parent\"><img src=\"https://colab.research.google.com/assets/colab-badge.svg\" alt=\"Open In Colab\"/></a>"
      ]
    },
    {
      "cell_type": "code",
      "metadata": {
        "id": "AqNhbLFvEUrS",
        "colab": {
          "base_uri": "https://localhost:8080/"
        },
        "outputId": "16dec6f0-7391-4c47-b01a-4cc4f02b70eb"
      },
      "source": [
        "from google.colab import drive\n",
        "drive.mount('/content/drive')"
      ],
      "execution_count": null,
      "outputs": [
        {
          "output_type": "stream",
          "text": [
            "Drive already mounted at /content/drive; to attempt to forcibly remount, call drive.mount(\"/content/drive\", force_remount=True).\n"
          ],
          "name": "stdout"
        }
      ]
    },
    {
      "cell_type": "code",
      "metadata": {
        "id": "6SU575qxxCew"
      },
      "source": [
        "import numpy as np\n",
        "import pandas as pd\n",
        "import shutil\n",
        "import scipy.stats as stats\n",
        "from pathlib import Path\n",
        "import glob\n",
        "from tqdm import tqdm\n",
        "\n",
        "\n",
        "from sklearn.model_selection import KFold\n",
        "import lightgbm as lgb\n",
        "\n",
        "import psutil\n",
        "import random\n",
        "import os\n",
        "import time\n",
        "import sys\n",
        "import math\n",
        "from contextlib import contextmanager\n",
        "\n",
        "from sklearn.preprocessing import LabelEncoder"
      ],
      "execution_count": 1,
      "outputs": []
    },
    {
      "cell_type": "code",
      "metadata": {
        "id": "sm4BoEzDxFPe"
      },
      "source": [
        "N_SPLITS = 10\n",
        "SEED = 618\n"
      ],
      "execution_count": 2,
      "outputs": []
    },
    {
      "cell_type": "code",
      "metadata": {
        "id": "TWuzNzX5xN-s"
      },
      "source": [
        "LOG_PATH = Path(\"./log/\")\n",
        "LOG_PATH.mkdir(parents=True, exist_ok=True)\n"
      ],
      "execution_count": 3,
      "outputs": []
    },
    {
      "cell_type": "code",
      "metadata": {
        "id": "KuXjg4fnxQsS"
      },
      "source": [
        "@contextmanager\n",
        "def timer(name: str):\n",
        "    t0 = time.time()\n",
        "    p = psutil.Process(os.getpid())\n",
        "    m0 = p.memory_info()[0] / 2. ** 30\n",
        "    try:\n",
        "        yield\n",
        "    finally:\n",
        "        m1 = p.memory_info()[0] / 2. ** 30\n",
        "        delta = m1 - m0\n",
        "        sign = '+' if delta >= 0 else '-'\n",
        "        delta = math.fabs(delta)\n",
        "        print(f\"[{m1:.1f}GB({sign}{delta:.1f}GB): {time.time() - t0:.3f}sec] {name}\", file=sys.stderr)\n"
      ],
      "execution_count": 4,
      "outputs": []
    },
    {
      "cell_type": "code",
      "metadata": {
        "id": "t-WJLWe9xUWC"
      },
      "source": [
        "def set_seed(seed=527):\n",
        "    random.seed(seed)\n",
        "    os.environ[\"PYTHONHASHSEED\"] = str(seed)\n",
        "    np.random.seed(seed)\n",
        "\n",
        "    \n",
        "def comp_metric(xhat, yhat, x, y):\n",
        "    intermediate = np.sqrt(np.power(xhat-x, 2) + np.power(yhat-y, 2))\n",
        "    return intermediate.sum()/xhat.shape[0]\n",
        "\n",
        "\n",
        "def score_log(df: pd.DataFrame, num_files: int, nam_file: str, data_shape: tuple, n_fold: int, seed: int, mpe: float):\n",
        "    score_dict = {'n_files': num_files, 'file_name': nam_file, 'shape': data_shape, 'fold': n_fold, 'seed': seed, 'score': mpe}\n",
        "    # noinspection PyTypeChecker\n",
        "    df = pd.concat([df, pd.DataFrame.from_dict([score_dict])])\n",
        "    df.to_csv(LOG_PATH / f\"log_score.csv\", index=False)\n",
        "    return df"
      ],
      "execution_count": 5,
      "outputs": []
    },
    {
      "cell_type": "markdown",
      "metadata": {
        "id": "ywyGCcv_XcN0"
      },
      "source": [
        "# **特徴量関数**"
      ]
    },
    {
      "cell_type": "code",
      "metadata": {
        "id": "fGmfctVTzJUi",
        "outputId": "0b668fb4-2b66-48ff-c70e-ddbbff88f156",
        "colab": {
          "base_uri": "https://localhost:8080/",
          "height": 135
        }
      },
      "source": [
        "'timestamp',\n",
        "       'path', 'beacon_timestamp', 'beacon_uuid', 'beacon_major_id',\n",
        "       'beacon_minor_id', 'beacon_tx_power', 'beacon_rssi', 'beacon_distance',\n",
        "       'beacon_mac_addr', 'beacon_timestamp2', 'accelerometer_timestamp',\n",
        "       'accelerometer_x', 'accelerometer_y', 'accelerometer_z',\n",
        "       'accelerometer_uncalibrated_timestamp', 'accelerometer_uncalibrated_x',\n",
        "       'accelerometer_uncalibrated_y', 'accelerometer_uncalibrated_z',\n",
        "       'accelerometer_uncalibrated_x2', 'accelerometer_uncalibrated_y2',\n",
        "       'accelerometer_uncalibrated_z2', 'gyroscope_timestamp', 'gyroscope_x',\n",
        "       'gyroscope_y', 'gyroscope_z', 'gyroscope_uncalibrated_timestamp',\n",
        "       'gyroscope_uncalibrated_x', 'gyroscope_uncalibrated_y',\n",
        "       'gyroscope_uncalibrated_z', 'gyroscope_uncalibrated_x2',\n",
        "       'gyroscope_uncalibrated_y2', 'gyroscope_uncalibrated_z2',\n",
        "       'magnetic_field_timestamp', 'magnetic_field_x', 'magnetic_field_y',\n",
        "       'magnetic_field_z', 'magnetic_field_uncalibrated_timestamp',\n",
        "       'magnetic_field_uncalibrated_x', 'magnetic_field_uncalibrated_y',\n",
        "       'magnetic_field_uncalibrated_z', 'magnetic_field_uncalibrated_x2',\n",
        "       'magnetic_field_uncalibrated_y2', 'magnetic_field_uncalibrated_z2',\n",
        "       'rotation_vector_timestamp', 'rotation_vector_x', 'rotation_vector_y',\n",
        "       'rotation_vector_z'"
      ],
      "execution_count": 6,
      "outputs": [
        {
          "output_type": "error",
          "ename": "IndentationError",
          "evalue": "ignored",
          "traceback": [
            "\u001b[0;36m  File \u001b[0;32m\"<ipython-input-6-b9486a4b85d0>\"\u001b[0;36m, line \u001b[0;32m2\u001b[0m\n\u001b[0;31m    'path', 'beacon_timestamp', 'beacon_uuid', 'beacon_major_id',\u001b[0m\n\u001b[0m    ^\u001b[0m\n\u001b[0;31mIndentationError\u001b[0m\u001b[0;31m:\u001b[0m unexpected indent\n"
          ]
        }
      ]
    },
    {
      "cell_type": "code",
      "metadata": {
        "id": "i7zRO5WwXbX7"
      },
      "source": [
        "#train用\n",
        "\n",
        "def get_numerical_features_train(input_df):\n",
        "    input_df_ = input_df['path']\n",
        "    output_df = input_df.drop(['Unnamed: 0.1', 'Unnamed: 0.1.1', 'timestamp',\n",
        "       'path', 'beacon_timestamp', 'beacon_uuid', 'beacon_major_id',\n",
        "       'beacon_minor_id', 'beacon_tx_power',\n",
        "       'beacon_mac_addr', 'beacon_timestamp2', 'accelerometer_timestamp',\n",
        "       'accelerometer_x', 'accelerometer_y', 'accelerometer_z',\n",
        "       'accelerometer_uncalibrated_timestamp', 'accelerometer_uncalibrated_x',\n",
        "       'accelerometer_uncalibrated_y', 'accelerometer_uncalibrated_z',\n",
        "       'accelerometer_uncalibrated_x2', 'accelerometer_uncalibrated_y2',\n",
        "       'accelerometer_uncalibrated_z2', 'gyroscope_timestamp','gyroscope_z', 'gyroscope_uncalibrated_timestamp',\n",
        "       'gyroscope_uncalibrated_z', 'gyroscope_uncalibrated_x2',\n",
        "       'gyroscope_uncalibrated_y2', 'gyroscope_uncalibrated_z2',\n",
        "       'magnetic_field_timestamp', 'magnetic_field_x', 'magnetic_field_y',\n",
        "       'magnetic_field_uncalibrated_timestamp',\n",
        "       'magnetic_field_uncalibrated_x', 'magnetic_field_uncalibrated_x2',\n",
        "       'magnetic_field_uncalibrated_y2', 'magnetic_field_uncalibrated_z2',\n",
        "       'rotation_vector_timestamp',\n",
        "       'rotation_vector_z'\n",
        "], axis=1)\n",
        "    output_df['path'] = input_df_\n",
        "    return output_df\n",
        "\n",
        "\n",
        "def get_sum_sensor_features(input_df):\n",
        "    output_df = pd.DataFrame()\n",
        "    output_df['sum_sensor_x'] = input_df['accelerometer_x'] + input_df['accelerometer_uncalibrated_x'] + input_df['accelerometer_uncalibrated_x2'] + input_df['gyroscope_x'] + input_df['gyroscope_uncalibrated_x'] + input_df['accelerometer_uncalibrated_x'] + input_df['gyroscope_uncalibrated_x2'] + input_df['magnetic_field_x'] + input_df['magnetic_field_uncalibrated_x'] + input_df['magnetic_field_uncalibrated_x2'] + input_df['rotation_vector_x']\n",
        "    output_df['sum_sensor_y'] = input_df['accelerometer_y'] + input_df['accelerometer_uncalibrated_y'] + input_df['accelerometer_uncalibrated_y2'] + input_df['gyroscope_y'] + input_df['gyroscope_uncalibrated_y'] + input_df['accelerometer_uncalibrated_y'] + input_df['gyroscope_uncalibrated_y2'] + input_df['magnetic_field_y'] + input_df['magnetic_field_uncalibrated_y'] + input_df['magnetic_field_uncalibrated_y2'] + input_df['rotation_vector_y']\n",
        "    output_df['sum_sensor_z'] = input_df['accelerometer_x'] + input_df['accelerometer_uncalibrated_x'] + input_df['accelerometer_uncalibrated_x2'] + input_df['gyroscope_z'] + input_df['gyroscope_uncalibrated_z'] + input_df['accelerometer_uncalibrated_z'] + input_df['gyroscope_uncalibrated_z2'] + input_df['magnetic_field_z'] + input_df['magnetic_field_uncalibrated_z'] + input_df['magnetic_field_uncalibrated_z2'] + input_df['rotation_vector_z']\n",
        "    output_df['sum_all_sensor'] = output_df['sum_sensor_x'] + output_df['sum_sensor_y'] + output_df['sum_sensor_z']\n",
        "    return output_df\n",
        "\n",
        "\n",
        "def get_le_features(input_df):\n",
        "    _input_df = input_df.astype(str)\n",
        "    cat_cols = ['beacon_mac_addr']\n",
        "    output_df = pd.DataFrame()\n",
        "    for c in cat_cols:\n",
        "        le = LabelEncoder()\n",
        "        le.fit(_input_df[c])\n",
        "        output_df[\"LE_\"+c] = le.transform(_input_df[c])\n",
        "    return output_df\n",
        "\n",
        "\n",
        "\n"
      ],
      "execution_count": 10,
      "outputs": []
    },
    {
      "cell_type": "code",
      "metadata": {
        "id": "b74mypZBvNt1"
      },
      "source": [
        "#test用\n",
        "def get_numerical_features_test(input_df):\n",
        "    input_df_ = input_df['site_path_timestamp']\n",
        "    output_df = input_df.drop(['Unnamed: 0.1', 'Unnamed: 0.1.1',\n",
        "                               'timestamp',\n",
        "       'beacon_timestamp', 'beacon_uuid', 'beacon_major_id',\n",
        "       'beacon_minor_id', 'beacon_tx_power',\n",
        "       'beacon_mac_addr', 'beacon_timestamp2', 'accelerometer_timestamp',\n",
        "       'accelerometer_x', 'accelerometer_y', 'accelerometer_z',\n",
        "       'accelerometer_uncalibrated_timestamp', 'accelerometer_uncalibrated_x',\n",
        "       'accelerometer_uncalibrated_y', 'accelerometer_uncalibrated_z',\n",
        "       'accelerometer_uncalibrated_x2', 'accelerometer_uncalibrated_y2',\n",
        "       'accelerometer_uncalibrated_z2', 'gyroscope_timestamp','gyroscope_z', 'gyroscope_uncalibrated_timestamp',\n",
        "       'gyroscope_uncalibrated_z', 'gyroscope_uncalibrated_x2',\n",
        "       'gyroscope_uncalibrated_y2', 'gyroscope_uncalibrated_z2',\n",
        "       'magnetic_field_timestamp', 'magnetic_field_x', 'magnetic_field_y',\n",
        "       'magnetic_field_uncalibrated_timestamp',\n",
        "       'magnetic_field_uncalibrated_x', 'magnetic_field_uncalibrated_x2',\n",
        "       'magnetic_field_uncalibrated_y2', 'magnetic_field_uncalibrated_z2',\n",
        "       'rotation_vector_timestamp',\n",
        "       'rotation_vector_z','site_path_timestamp'\n",
        "                               ], axis=1)\n",
        "    output_df['site_path_timestamp'] = input_df_\n",
        "    return output_df\n"
      ],
      "execution_count": 11,
      "outputs": []
    },
    {
      "cell_type": "code",
      "metadata": {
        "id": "8XjJJZc_spcL"
      },
      "source": [
        "def get_process_funcs_train():\n",
        "    funcs = [\n",
        "        get_sum_sensor_features,\n",
        "        get_le_features,\n",
        "        get_numerical_features_train\n",
        "    ]\n",
        "    return funcs\n",
        "\n",
        "def get_process_funcs_test():\n",
        "    funcs = [\n",
        "        get_sum_sensor_features,\n",
        "        get_le_features,\n",
        "        get_numerical_features_test\n",
        "    ]\n",
        "    return funcs\n",
        "\n",
        "def to_feature(input_df, funcs):\n",
        "    output_df = pd.DataFrame()\n",
        "    for func in tqdm(funcs, total=len(funcs)):\n",
        "        _df = func(input_df)\n",
        "        assert len(_df) == len(input_df), func.__name__\n",
        "        output_df = pd.concat([output_df, _df], axis=1)\n",
        "\n",
        "    return output_df"
      ],
      "execution_count": 12,
      "outputs": []
    },
    {
      "cell_type": "code",
      "metadata": {
        "id": "63hV5hB1xaad"
      },
      "source": [
        "feature_dir = \"/content/drive/MyDrive/all_data_floor\"\n",
        "train_files = sorted(glob.glob(os.path.join(f'{feature_dir}','*_train.csv')))\n",
        "test_files = sorted(glob.glob(os.path.join(f'{feature_dir}','*_test.csv')))\n",
        "subm = pd.read_csv('/content/drive/MyDrive/sample_submission.csv', index_col=0)\n",
        "floor_accurate = pd.read_csv('/content/drive/MyDrive/submission_floor_accurate.csv').drop(['x', 'y'], axis=1)"
      ],
      "execution_count": 13,
      "outputs": []
    },
    {
      "cell_type": "code",
      "metadata": {
        "id": "VrCKhgNdxxc4"
      },
      "source": [
        "lgb_params = {'objective': 'root_mean_squared_error',\n",
        "              'boosting_type': 'gbdt',\n",
        "              'n_estimators': 50000,\n",
        "              'learning_rate': 0.1,\n",
        "              'num_leaves': 90,\n",
        "              'colsample_bytree': 0.4,\n",
        "              'subsample': 0.6,\n",
        "              'subsample_freq': 2,\n",
        "              'bagging_seed': SEED,\n",
        "              'reg_alpha': 8,\n",
        "              'reg_lambda': 2,\n",
        "              'random_state': SEED,\n",
        "              'n_jobs': -1\n",
        "              }"
      ],
      "execution_count": 14,
      "outputs": []
    },
    {
      "cell_type": "code",
      "metadata": {
        "id": "4ZOk9Sagx1Do",
        "colab": {
          "base_uri": "https://localhost:8080/"
        },
        "outputId": "551059b6-688c-494e-8153-ff489e48f2bc"
      },
      "source": [
        "score_df = pd.DataFrame()\n",
        "oof = list()\n",
        "predictions = list()\n",
        "for n_files, file in enumerate(train_files):\n",
        "    data = pd.read_csv(file, index_col=0).fillna(0)\n",
        "    test_data = pd.read_csv(test_files[n_files], index_col=0).fillna(0)\n",
        "\n",
        "    # all featrues\n",
        "    process_funcs_train = get_process_funcs_train()\n",
        "    process_funcs_test = get_process_funcs_test()\n",
        "    data = to_feature(data, process_funcs_train).rename(columns={'f': 'floor'})\n",
        "    test_data = to_feature(test_data, process_funcs_test)\n",
        "\n",
        "    print(data.shape)\n",
        "    print(test_data.shape)\n",
        "\n",
        "    oof_x, oof_y = np.zeros(data.shape[0]), np.zeros(data.shape[0])\n",
        "    preds_x, preds_y = 0, 0\n",
        "\n",
        "    kf = KFold(n_splits=N_SPLITS, shuffle=True, random_state=SEED)\n",
        "    for fold, (trn_idx, val_idx) in enumerate(kf.split(data.iloc[:, :-3])):\n",
        "        X_train = data.iloc[trn_idx, :-3]\n",
        "        y_trainx = data.iloc[trn_idx, -3]\n",
        "        y_trainy = data.iloc[trn_idx, -2]\n",
        "\n",
        "        X_valid = data.iloc[val_idx, :-3]\n",
        "        y_validx = data.iloc[val_idx, -3]\n",
        "        y_validy = data.iloc[val_idx, -2]\n",
        "        \n",
        "        modelx = lgb.LGBMRegressor(**lgb_params)\n",
        "        with timer(\"fit X\"):\n",
        "            modelx.fit(X_train, y_trainx,\n",
        "                       eval_set=[(X_valid, y_validx)],\n",
        "                       eval_metric='rmse',\n",
        "                       verbose=False,\n",
        "                       early_stopping_rounds=20\n",
        "                       )\n",
        "\n",
        "        modely = lgb.LGBMRegressor(**lgb_params)\n",
        "        with timer(\"fit Y\"):\n",
        "            modely.fit(X_train, y_trainy,\n",
        "                       eval_set=[(X_valid, y_validy)],\n",
        "                       eval_metric='rmse',\n",
        "                       verbose=False,\n",
        "                       early_stopping_rounds=20\n",
        "                       )\n",
        "            \n",
        "        oof_x[val_idx] = modelx.predict(X_valid)\n",
        "        oof_y[val_idx] = modely.predict(X_valid)\n",
        "\n",
        "        preds_x += modelx.predict(test_data.iloc[:, :-1]) / N_SPLITS\n",
        "        preds_y += modely.predict(test_data.iloc[:, :-1]) / N_SPLITS\n",
        "\n",
        "        score = comp_metric(oof_x[val_idx], oof_y[val_idx], y_validx.to_numpy(), y_validy.to_numpy())\n",
        "        print(f\"fold {fold}: mean position error {score}\")\n",
        "        score_df = score_log(score_df, n_files, os.path.basename(file), data.shape, fold, SEED, score)\n",
        "\n",
        "    print(\"*+\"*40)\n",
        "    print(f\"file #{n_files}, shape={data.shape}, name={os.path.basename(file)}\")\n",
        "    score = comp_metric(oof_x, oof_y, data.iloc[:, -3].to_numpy(), data.iloc[:, -2].to_numpy())\n",
        "    oof.append(score)\n",
        "    print(f\"mean position error {score}\")\n",
        "    print(\"*+\"*40)\n",
        "    score_df = score_log(score_df, n_files, os.path.basename(file), data.shape, 999, SEED, score)\n",
        "\n",
        "    test_preds = pd.DataFrame(np.stack((preds_x, preds_y))).T\n",
        "    test_preds['floor'] = test_data['floor'].values\n",
        "    test_preds.columns = subm.columns\n",
        "    test_preds.index = test_data[\"site_path_timestamp\"]\n",
        "    predictions.append(test_preds)"
      ],
      "execution_count": null,
      "outputs": [
        {
          "output_type": "stream",
          "text": [
            "/usr/local/lib/python3.7/dist-packages/IPython/core/interactiveshell.py:2718: DtypeWarning: Columns (3402,3403,3404,3408) have mixed types.Specify dtype option on import or set low_memory=False.\n",
            "  interactivity=interactivity, compiler=compiler, result=result)\n",
            "100%|██████████| 3/3 [00:29<00:00,  9.92s/it]\n",
            "100%|██████████| 3/3 [00:00<00:00,  3.12it/s]\n"
          ],
          "name": "stderr"
        },
        {
          "output_type": "stream",
          "text": [
            "(9296, 3417)\n",
            "(299, 3415)\n"
          ],
          "name": "stdout"
        },
        {
          "output_type": "stream",
          "text": [
            "[2.9GB(+0.2GB): 25.118sec] fit X\n",
            "[3.1GB(+0.1GB): 19.952sec] fit Y\n"
          ],
          "name": "stderr"
        },
        {
          "output_type": "stream",
          "text": [
            "fold 0: mean position error 2.697205819380121\n"
          ],
          "name": "stdout"
        },
        {
          "output_type": "stream",
          "text": [
            "[3.1GB(+0.0GB): 20.302sec] fit X\n",
            "[3.1GB(+0.0GB): 36.688sec] fit Y\n"
          ],
          "name": "stderr"
        },
        {
          "output_type": "stream",
          "text": [
            "fold 1: mean position error 2.741916588185573\n"
          ],
          "name": "stdout"
        },
        {
          "output_type": "stream",
          "text": [
            "[3.1GB(+0.0GB): 28.038sec] fit X\n",
            "[3.1GB(+0.0GB): 24.762sec] fit Y\n"
          ],
          "name": "stderr"
        },
        {
          "output_type": "stream",
          "text": [
            "fold 2: mean position error 2.930265024970512\n"
          ],
          "name": "stdout"
        },
        {
          "output_type": "stream",
          "text": [
            "[3.1GB(+0.0GB): 28.363sec] fit X\n",
            "[3.1GB(+0.0GB): 24.347sec] fit Y\n"
          ],
          "name": "stderr"
        },
        {
          "output_type": "stream",
          "text": [
            "fold 3: mean position error 2.7826057039180614\n"
          ],
          "name": "stdout"
        },
        {
          "output_type": "stream",
          "text": [
            "[3.1GB(+0.0GB): 25.087sec] fit X\n",
            "[3.1GB(+0.0GB): 25.199sec] fit Y\n"
          ],
          "name": "stderr"
        },
        {
          "output_type": "stream",
          "text": [
            "fold 4: mean position error 2.8741907136040883\n"
          ],
          "name": "stdout"
        },
        {
          "output_type": "stream",
          "text": [
            "[3.1GB(+0.0GB): 29.938sec] fit X\n",
            "[3.1GB(-0.0GB): 21.729sec] fit Y\n"
          ],
          "name": "stderr"
        },
        {
          "output_type": "stream",
          "text": [
            "fold 5: mean position error 2.8128564932672457\n"
          ],
          "name": "stdout"
        },
        {
          "output_type": "stream",
          "text": [
            "[3.1GB(+0.0GB): 21.514sec] fit X\n",
            "[3.1GB(+0.0GB): 23.949sec] fit Y\n"
          ],
          "name": "stderr"
        },
        {
          "output_type": "stream",
          "text": [
            "fold 6: mean position error 2.913757989581229\n"
          ],
          "name": "stdout"
        },
        {
          "output_type": "stream",
          "text": [
            "[3.1GB(+0.0GB): 24.351sec] fit X\n",
            "[3.1GB(+0.0GB): 26.782sec] fit Y\n"
          ],
          "name": "stderr"
        },
        {
          "output_type": "stream",
          "text": [
            "fold 7: mean position error 2.8459695620236545\n"
          ],
          "name": "stdout"
        },
        {
          "output_type": "stream",
          "text": [
            "[3.1GB(+0.0GB): 26.937sec] fit X\n",
            "[3.1GB(+0.0GB): 30.907sec] fit Y\n"
          ],
          "name": "stderr"
        },
        {
          "output_type": "stream",
          "text": [
            "fold 8: mean position error 2.717013416734641\n"
          ],
          "name": "stdout"
        },
        {
          "output_type": "stream",
          "text": [
            "[3.1GB(+0.0GB): 24.010sec] fit X\n",
            "[3.1GB(+0.0GB): 25.693sec] fit Y\n"
          ],
          "name": "stderr"
        },
        {
          "output_type": "stream",
          "text": [
            "fold 9: mean position error 2.9271718399439837\n",
            "*+*+*+*+*+*+*+*+*+*+*+*+*+*+*+*+*+*+*+*+*+*+*+*+*+*+*+*+*+*+*+*+*+*+*+*+*+*+*+*+\n",
            "file #0, shape=(9296, 3417), name=5a0546857ecc773753327266_train.csv\n",
            "mean position error 2.8242838337121547\n",
            "*+*+*+*+*+*+*+*+*+*+*+*+*+*+*+*+*+*+*+*+*+*+*+*+*+*+*+*+*+*+*+*+*+*+*+*+*+*+*+*+\n"
          ],
          "name": "stdout"
        },
        {
          "output_type": "stream",
          "text": [
            "/usr/local/lib/python3.7/dist-packages/IPython/core/interactiveshell.py:2718: DtypeWarning: Columns (3068,3069,3070,3074) have mixed types.Specify dtype option on import or set low_memory=False.\n",
            "  interactivity=interactivity, compiler=compiler, result=result)\n",
            "100%|██████████| 3/3 [00:28<00:00,  9.41s/it]\n",
            "100%|██████████| 3/3 [00:00<00:00, 34.80it/s]\n"
          ],
          "name": "stderr"
        },
        {
          "output_type": "stream",
          "text": [
            "(9737, 3083)\n",
            "(26, 3081)\n"
          ],
          "name": "stdout"
        },
        {
          "output_type": "stream",
          "text": [
            "[3.2GB(+0.0GB): 23.658sec] fit X\n",
            "[3.2GB(+0.0GB): 19.930sec] fit Y\n"
          ],
          "name": "stderr"
        },
        {
          "output_type": "stream",
          "text": [
            "fold 0: mean position error 3.4266885644117986\n"
          ],
          "name": "stdout"
        },
        {
          "output_type": "stream",
          "text": [
            "[3.2GB(+0.0GB): 27.815sec] fit X\n",
            "[3.2GB(+0.0GB): 24.837sec] fit Y\n"
          ],
          "name": "stderr"
        },
        {
          "output_type": "stream",
          "text": [
            "fold 1: mean position error 3.3894008292406324\n"
          ],
          "name": "stdout"
        },
        {
          "output_type": "stream",
          "text": [
            "[3.2GB(+0.0GB): 24.013sec] fit X\n",
            "[3.2GB(+0.0GB): 38.081sec] fit Y\n"
          ],
          "name": "stderr"
        },
        {
          "output_type": "stream",
          "text": [
            "fold 2: mean position error 3.3460630365809956\n"
          ],
          "name": "stdout"
        },
        {
          "output_type": "stream",
          "text": [
            "[3.2GB(+0.0GB): 28.825sec] fit X\n",
            "[3.2GB(+0.0GB): 19.989sec] fit Y\n"
          ],
          "name": "stderr"
        },
        {
          "output_type": "stream",
          "text": [
            "fold 3: mean position error 3.4188461396190695\n"
          ],
          "name": "stdout"
        },
        {
          "output_type": "stream",
          "text": [
            "[3.2GB(+0.0GB): 30.553sec] fit X\n"
          ],
          "name": "stderr"
        }
      ]
    },
    {
      "cell_type": "code",
      "metadata": {
        "id": "DuIro-hLyGS9"
      },
      "source": [
        "all_preds = pd.concat(predictions)\n",
        "all_preds = all_preds.reindex(subm.index)\n",
        "floor_accurate = floor_accurate.reindex(subm.index)\n",
        "all_preds['floor'] = floor_accurate['floor'].values\n",
        "all_preds.to_csv('submission_lgbm_23.csv')"
      ],
      "execution_count": null,
      "outputs": []
    },
    {
      "cell_type": "code",
      "metadata": {
        "id": "OwcjO7RAyjlL"
      },
      "source": [
        "shutil.move('submission_lgbm_wifi_23.csv', '/content/drive/MyDrive')"
      ],
      "execution_count": null,
      "outputs": []
    },
    {
      "cell_type": "code",
      "metadata": {
        "id": "ybCc0sQAEnRn"
      },
      "source": [
        "all_preds['floor'] = floor_accurate['floor']\n"
      ],
      "execution_count": null,
      "outputs": []
    },
    {
      "cell_type": "code",
      "metadata": {
        "colab": {
          "base_uri": "https://localhost:8080/",
          "height": 450
        },
        "id": "W3fqlw7bEuDU",
        "outputId": "d8ffabd7-838d-4cac-9d1f-0ebb74b504e1"
      },
      "source": [
        "all_preds"
      ],
      "execution_count": null,
      "outputs": [
        {
          "output_type": "execute_result",
          "data": {
            "text/html": [
              "<div>\n",
              "<style scoped>\n",
              "    .dataframe tbody tr th:only-of-type {\n",
              "        vertical-align: middle;\n",
              "    }\n",
              "\n",
              "    .dataframe tbody tr th {\n",
              "        vertical-align: top;\n",
              "    }\n",
              "\n",
              "    .dataframe thead th {\n",
              "        text-align: right;\n",
              "    }\n",
              "</style>\n",
              "<table border=\"1\" class=\"dataframe\">\n",
              "  <thead>\n",
              "    <tr style=\"text-align: right;\">\n",
              "      <th></th>\n",
              "      <th>x</th>\n",
              "      <th>y</th>\n",
              "      <th>floor</th>\n",
              "    </tr>\n",
              "    <tr>\n",
              "      <th>site_path_timestamp</th>\n",
              "      <th></th>\n",
              "      <th></th>\n",
              "      <th></th>\n",
              "    </tr>\n",
              "  </thead>\n",
              "  <tbody>\n",
              "    <tr>\n",
              "      <th>5a0546857ecc773753327266_046cfa46be49fc10834815c6_0000000000009</th>\n",
              "      <td>88.812457</td>\n",
              "      <td>101.054509</td>\n",
              "      <td>0</td>\n",
              "    </tr>\n",
              "    <tr>\n",
              "      <th>5a0546857ecc773753327266_046cfa46be49fc10834815c6_0000000009017</th>\n",
              "      <td>88.334100</td>\n",
              "      <td>101.459640</td>\n",
              "      <td>0</td>\n",
              "    </tr>\n",
              "    <tr>\n",
              "      <th>5a0546857ecc773753327266_046cfa46be49fc10834815c6_0000000015326</th>\n",
              "      <td>86.407735</td>\n",
              "      <td>105.915363</td>\n",
              "      <td>0</td>\n",
              "    </tr>\n",
              "    <tr>\n",
              "      <th>5a0546857ecc773753327266_046cfa46be49fc10834815c6_0000000018763</th>\n",
              "      <td>86.373000</td>\n",
              "      <td>106.192623</td>\n",
              "      <td>0</td>\n",
              "    </tr>\n",
              "    <tr>\n",
              "      <th>5a0546857ecc773753327266_046cfa46be49fc10834815c6_0000000022328</th>\n",
              "      <td>88.410066</td>\n",
              "      <td>109.426687</td>\n",
              "      <td>0</td>\n",
              "    </tr>\n",
              "    <tr>\n",
              "      <th>...</th>\n",
              "      <td>...</td>\n",
              "      <td>...</td>\n",
              "      <td>...</td>\n",
              "    </tr>\n",
              "    <tr>\n",
              "      <th>5dc8cea7659e181adb076a3f_fd64de8c4a2fc5ebb0e9f412_0000000082589</th>\n",
              "      <td>213.660124</td>\n",
              "      <td>92.248068</td>\n",
              "      <td>5</td>\n",
              "    </tr>\n",
              "    <tr>\n",
              "      <th>5dc8cea7659e181adb076a3f_fd64de8c4a2fc5ebb0e9f412_0000000085758</th>\n",
              "      <td>215.185774</td>\n",
              "      <td>94.339885</td>\n",
              "      <td>5</td>\n",
              "    </tr>\n",
              "    <tr>\n",
              "      <th>5dc8cea7659e181adb076a3f_fd64de8c4a2fc5ebb0e9f412_0000000090895</th>\n",
              "      <td>202.804718</td>\n",
              "      <td>107.437614</td>\n",
              "      <td>5</td>\n",
              "    </tr>\n",
              "    <tr>\n",
              "      <th>5dc8cea7659e181adb076a3f_fd64de8c4a2fc5ebb0e9f412_0000000096899</th>\n",
              "      <td>203.883893</td>\n",
              "      <td>109.724543</td>\n",
              "      <td>5</td>\n",
              "    </tr>\n",
              "    <tr>\n",
              "      <th>5dc8cea7659e181adb076a3f_fd64de8c4a2fc5ebb0e9f412_0000000100447</th>\n",
              "      <td>204.402624</td>\n",
              "      <td>109.269734</td>\n",
              "      <td>5</td>\n",
              "    </tr>\n",
              "  </tbody>\n",
              "</table>\n",
              "<p>10133 rows × 3 columns</p>\n",
              "</div>"
            ],
            "text/plain": [
              "                                                             x  ...  floor\n",
              "site_path_timestamp                                             ...       \n",
              "5a0546857ecc773753327266_046cfa46be49fc10834815...   88.812457  ...      0\n",
              "5a0546857ecc773753327266_046cfa46be49fc10834815...   88.334100  ...      0\n",
              "5a0546857ecc773753327266_046cfa46be49fc10834815...   86.407735  ...      0\n",
              "5a0546857ecc773753327266_046cfa46be49fc10834815...   86.373000  ...      0\n",
              "5a0546857ecc773753327266_046cfa46be49fc10834815...   88.410066  ...      0\n",
              "...                                                        ...  ...    ...\n",
              "5dc8cea7659e181adb076a3f_fd64de8c4a2fc5ebb0e9f4...  213.660124  ...      5\n",
              "5dc8cea7659e181adb076a3f_fd64de8c4a2fc5ebb0e9f4...  215.185774  ...      5\n",
              "5dc8cea7659e181adb076a3f_fd64de8c4a2fc5ebb0e9f4...  202.804718  ...      5\n",
              "5dc8cea7659e181adb076a3f_fd64de8c4a2fc5ebb0e9f4...  203.883893  ...      5\n",
              "5dc8cea7659e181adb076a3f_fd64de8c4a2fc5ebb0e9f4...  204.402624  ...      5\n",
              "\n",
              "[10133 rows x 3 columns]"
            ]
          },
          "metadata": {
            "tags": []
          },
          "execution_count": 93
        }
      ]
    },
    {
      "cell_type": "code",
      "metadata": {
        "id": "spMV_r8tym-p",
        "colab": {
          "base_uri": "https://localhost:8080/",
          "height": 419
        },
        "outputId": "81d6c563-7769-4d2d-a6d0-97a2cdf911ac"
      },
      "source": [
        "floor_accurate"
      ],
      "execution_count": null,
      "outputs": [
        {
          "output_type": "execute_result",
          "data": {
            "text/html": [
              "<div>\n",
              "<style scoped>\n",
              "    .dataframe tbody tr th:only-of-type {\n",
              "        vertical-align: middle;\n",
              "    }\n",
              "\n",
              "    .dataframe tbody tr th {\n",
              "        vertical-align: top;\n",
              "    }\n",
              "\n",
              "    .dataframe thead th {\n",
              "        text-align: right;\n",
              "    }\n",
              "</style>\n",
              "<table border=\"1\" class=\"dataframe\">\n",
              "  <thead>\n",
              "    <tr style=\"text-align: right;\">\n",
              "      <th></th>\n",
              "      <th>site_path_timestamp</th>\n",
              "      <th>floor</th>\n",
              "    </tr>\n",
              "  </thead>\n",
              "  <tbody>\n",
              "    <tr>\n",
              "      <th>0</th>\n",
              "      <td>5a0546857ecc773753327266_046cfa46be49fc1083481...</td>\n",
              "      <td>0</td>\n",
              "    </tr>\n",
              "    <tr>\n",
              "      <th>1</th>\n",
              "      <td>5a0546857ecc773753327266_046cfa46be49fc1083481...</td>\n",
              "      <td>0</td>\n",
              "    </tr>\n",
              "    <tr>\n",
              "      <th>2</th>\n",
              "      <td>5a0546857ecc773753327266_046cfa46be49fc1083481...</td>\n",
              "      <td>0</td>\n",
              "    </tr>\n",
              "    <tr>\n",
              "      <th>3</th>\n",
              "      <td>5a0546857ecc773753327266_046cfa46be49fc1083481...</td>\n",
              "      <td>0</td>\n",
              "    </tr>\n",
              "    <tr>\n",
              "      <th>4</th>\n",
              "      <td>5a0546857ecc773753327266_046cfa46be49fc1083481...</td>\n",
              "      <td>0</td>\n",
              "    </tr>\n",
              "    <tr>\n",
              "      <th>...</th>\n",
              "      <td>...</td>\n",
              "      <td>...</td>\n",
              "    </tr>\n",
              "    <tr>\n",
              "      <th>10128</th>\n",
              "      <td>5dc8cea7659e181adb076a3f_fd64de8c4a2fc5ebb0e9f...</td>\n",
              "      <td>5</td>\n",
              "    </tr>\n",
              "    <tr>\n",
              "      <th>10129</th>\n",
              "      <td>5dc8cea7659e181adb076a3f_fd64de8c4a2fc5ebb0e9f...</td>\n",
              "      <td>5</td>\n",
              "    </tr>\n",
              "    <tr>\n",
              "      <th>10130</th>\n",
              "      <td>5dc8cea7659e181adb076a3f_fd64de8c4a2fc5ebb0e9f...</td>\n",
              "      <td>5</td>\n",
              "    </tr>\n",
              "    <tr>\n",
              "      <th>10131</th>\n",
              "      <td>5dc8cea7659e181adb076a3f_fd64de8c4a2fc5ebb0e9f...</td>\n",
              "      <td>5</td>\n",
              "    </tr>\n",
              "    <tr>\n",
              "      <th>10132</th>\n",
              "      <td>5dc8cea7659e181adb076a3f_fd64de8c4a2fc5ebb0e9f...</td>\n",
              "      <td>5</td>\n",
              "    </tr>\n",
              "  </tbody>\n",
              "</table>\n",
              "<p>10133 rows × 2 columns</p>\n",
              "</div>"
            ],
            "text/plain": [
              "                                     site_path_timestamp  floor\n",
              "0      5a0546857ecc773753327266_046cfa46be49fc1083481...      0\n",
              "1      5a0546857ecc773753327266_046cfa46be49fc1083481...      0\n",
              "2      5a0546857ecc773753327266_046cfa46be49fc1083481...      0\n",
              "3      5a0546857ecc773753327266_046cfa46be49fc1083481...      0\n",
              "4      5a0546857ecc773753327266_046cfa46be49fc1083481...      0\n",
              "...                                                  ...    ...\n",
              "10128  5dc8cea7659e181adb076a3f_fd64de8c4a2fc5ebb0e9f...      5\n",
              "10129  5dc8cea7659e181adb076a3f_fd64de8c4a2fc5ebb0e9f...      5\n",
              "10130  5dc8cea7659e181adb076a3f_fd64de8c4a2fc5ebb0e9f...      5\n",
              "10131  5dc8cea7659e181adb076a3f_fd64de8c4a2fc5ebb0e9f...      5\n",
              "10132  5dc8cea7659e181adb076a3f_fd64de8c4a2fc5ebb0e9f...      5\n",
              "\n",
              "[10133 rows x 2 columns]"
            ]
          },
          "metadata": {
            "tags": []
          },
          "execution_count": 89
        }
      ]
    },
    {
      "cell_type": "code",
      "metadata": {
        "colab": {
          "base_uri": "https://localhost:8080/",
          "height": 450
        },
        "id": "wjANL3c9grBC",
        "outputId": "53da7efb-a0fc-406e-9fc7-240e349ef72a"
      },
      "source": [
        "all_preds"
      ],
      "execution_count": null,
      "outputs": [
        {
          "output_type": "execute_result",
          "data": {
            "text/html": [
              "<div>\n",
              "<style scoped>\n",
              "    .dataframe tbody tr th:only-of-type {\n",
              "        vertical-align: middle;\n",
              "    }\n",
              "\n",
              "    .dataframe tbody tr th {\n",
              "        vertical-align: top;\n",
              "    }\n",
              "\n",
              "    .dataframe thead th {\n",
              "        text-align: right;\n",
              "    }\n",
              "</style>\n",
              "<table border=\"1\" class=\"dataframe\">\n",
              "  <thead>\n",
              "    <tr style=\"text-align: right;\">\n",
              "      <th></th>\n",
              "      <th>x</th>\n",
              "      <th>y</th>\n",
              "      <th>floor</th>\n",
              "    </tr>\n",
              "    <tr>\n",
              "      <th>site_path_timestamp</th>\n",
              "      <th></th>\n",
              "      <th></th>\n",
              "      <th></th>\n",
              "    </tr>\n",
              "  </thead>\n",
              "  <tbody>\n",
              "    <tr>\n",
              "      <th>5a0546857ecc773753327266_046cfa46be49fc10834815c6_0000000000009</th>\n",
              "      <td>88.812457</td>\n",
              "      <td>101.054509</td>\n",
              "      <td>NaN</td>\n",
              "    </tr>\n",
              "    <tr>\n",
              "      <th>5a0546857ecc773753327266_046cfa46be49fc10834815c6_0000000009017</th>\n",
              "      <td>88.334100</td>\n",
              "      <td>101.459640</td>\n",
              "      <td>NaN</td>\n",
              "    </tr>\n",
              "    <tr>\n",
              "      <th>5a0546857ecc773753327266_046cfa46be49fc10834815c6_0000000015326</th>\n",
              "      <td>86.407735</td>\n",
              "      <td>105.915363</td>\n",
              "      <td>NaN</td>\n",
              "    </tr>\n",
              "    <tr>\n",
              "      <th>5a0546857ecc773753327266_046cfa46be49fc10834815c6_0000000018763</th>\n",
              "      <td>86.373000</td>\n",
              "      <td>106.192623</td>\n",
              "      <td>NaN</td>\n",
              "    </tr>\n",
              "    <tr>\n",
              "      <th>5a0546857ecc773753327266_046cfa46be49fc10834815c6_0000000022328</th>\n",
              "      <td>88.410066</td>\n",
              "      <td>109.426687</td>\n",
              "      <td>NaN</td>\n",
              "    </tr>\n",
              "    <tr>\n",
              "      <th>...</th>\n",
              "      <td>...</td>\n",
              "      <td>...</td>\n",
              "      <td>...</td>\n",
              "    </tr>\n",
              "    <tr>\n",
              "      <th>5dc8cea7659e181adb076a3f_fd64de8c4a2fc5ebb0e9f412_0000000082589</th>\n",
              "      <td>213.660124</td>\n",
              "      <td>92.248068</td>\n",
              "      <td>NaN</td>\n",
              "    </tr>\n",
              "    <tr>\n",
              "      <th>5dc8cea7659e181adb076a3f_fd64de8c4a2fc5ebb0e9f412_0000000085758</th>\n",
              "      <td>215.185774</td>\n",
              "      <td>94.339885</td>\n",
              "      <td>NaN</td>\n",
              "    </tr>\n",
              "    <tr>\n",
              "      <th>5dc8cea7659e181adb076a3f_fd64de8c4a2fc5ebb0e9f412_0000000090895</th>\n",
              "      <td>202.804718</td>\n",
              "      <td>107.437614</td>\n",
              "      <td>NaN</td>\n",
              "    </tr>\n",
              "    <tr>\n",
              "      <th>5dc8cea7659e181adb076a3f_fd64de8c4a2fc5ebb0e9f412_0000000096899</th>\n",
              "      <td>203.883893</td>\n",
              "      <td>109.724543</td>\n",
              "      <td>NaN</td>\n",
              "    </tr>\n",
              "    <tr>\n",
              "      <th>5dc8cea7659e181adb076a3f_fd64de8c4a2fc5ebb0e9f412_0000000100447</th>\n",
              "      <td>204.402624</td>\n",
              "      <td>109.269734</td>\n",
              "      <td>NaN</td>\n",
              "    </tr>\n",
              "  </tbody>\n",
              "</table>\n",
              "<p>10133 rows × 3 columns</p>\n",
              "</div>"
            ],
            "text/plain": [
              "                                                             x  ...  floor\n",
              "site_path_timestamp                                             ...       \n",
              "5a0546857ecc773753327266_046cfa46be49fc10834815...   88.812457  ...    NaN\n",
              "5a0546857ecc773753327266_046cfa46be49fc10834815...   88.334100  ...    NaN\n",
              "5a0546857ecc773753327266_046cfa46be49fc10834815...   86.407735  ...    NaN\n",
              "5a0546857ecc773753327266_046cfa46be49fc10834815...   86.373000  ...    NaN\n",
              "5a0546857ecc773753327266_046cfa46be49fc10834815...   88.410066  ...    NaN\n",
              "...                                                        ...  ...    ...\n",
              "5dc8cea7659e181adb076a3f_fd64de8c4a2fc5ebb0e9f4...  213.660124  ...    NaN\n",
              "5dc8cea7659e181adb076a3f_fd64de8c4a2fc5ebb0e9f4...  215.185774  ...    NaN\n",
              "5dc8cea7659e181adb076a3f_fd64de8c4a2fc5ebb0e9f4...  202.804718  ...    NaN\n",
              "5dc8cea7659e181adb076a3f_fd64de8c4a2fc5ebb0e9f4...  203.883893  ...    NaN\n",
              "5dc8cea7659e181adb076a3f_fd64de8c4a2fc5ebb0e9f4...  204.402624  ...    NaN\n",
              "\n",
              "[10133 rows x 3 columns]"
            ]
          },
          "metadata": {
            "tags": []
          },
          "execution_count": 84
        }
      ]
    },
    {
      "cell_type": "code",
      "metadata": {
        "colab": {
          "base_uri": "https://localhost:8080/",
          "height": 419
        },
        "id": "MRDiG7eDgvH4",
        "outputId": "b91f10f9-0a76-4bb7-bca1-04058af87f44"
      },
      "source": [
        "a = pd.read_csv('/content/drive/MyDrive/submission_lstm_in_floor_08_before_post.csv')\n",
        "a"
      ],
      "execution_count": null,
      "outputs": [
        {
          "output_type": "execute_result",
          "data": {
            "text/html": [
              "<div>\n",
              "<style scoped>\n",
              "    .dataframe tbody tr th:only-of-type {\n",
              "        vertical-align: middle;\n",
              "    }\n",
              "\n",
              "    .dataframe tbody tr th {\n",
              "        vertical-align: top;\n",
              "    }\n",
              "\n",
              "    .dataframe thead th {\n",
              "        text-align: right;\n",
              "    }\n",
              "</style>\n",
              "<table border=\"1\" class=\"dataframe\">\n",
              "  <thead>\n",
              "    <tr style=\"text-align: right;\">\n",
              "      <th></th>\n",
              "      <th>site_path_timestamp</th>\n",
              "      <th>floor</th>\n",
              "      <th>x</th>\n",
              "      <th>y</th>\n",
              "    </tr>\n",
              "  </thead>\n",
              "  <tbody>\n",
              "    <tr>\n",
              "      <th>0</th>\n",
              "      <td>5a0546857ecc773753327266_046cfa46be49fc1083481...</td>\n",
              "      <td>0</td>\n",
              "      <td>NaN</td>\n",
              "      <td>NaN</td>\n",
              "    </tr>\n",
              "    <tr>\n",
              "      <th>1</th>\n",
              "      <td>5a0546857ecc773753327266_046cfa46be49fc1083481...</td>\n",
              "      <td>0</td>\n",
              "      <td>NaN</td>\n",
              "      <td>NaN</td>\n",
              "    </tr>\n",
              "    <tr>\n",
              "      <th>2</th>\n",
              "      <td>5a0546857ecc773753327266_046cfa46be49fc1083481...</td>\n",
              "      <td>0</td>\n",
              "      <td>NaN</td>\n",
              "      <td>NaN</td>\n",
              "    </tr>\n",
              "    <tr>\n",
              "      <th>3</th>\n",
              "      <td>5a0546857ecc773753327266_046cfa46be49fc1083481...</td>\n",
              "      <td>0</td>\n",
              "      <td>NaN</td>\n",
              "      <td>NaN</td>\n",
              "    </tr>\n",
              "    <tr>\n",
              "      <th>4</th>\n",
              "      <td>5a0546857ecc773753327266_046cfa46be49fc1083481...</td>\n",
              "      <td>0</td>\n",
              "      <td>NaN</td>\n",
              "      <td>NaN</td>\n",
              "    </tr>\n",
              "    <tr>\n",
              "      <th>...</th>\n",
              "      <td>...</td>\n",
              "      <td>...</td>\n",
              "      <td>...</td>\n",
              "      <td>...</td>\n",
              "    </tr>\n",
              "    <tr>\n",
              "      <th>10128</th>\n",
              "      <td>5dc8cea7659e181adb076a3f_fd64de8c4a2fc5ebb0e9f...</td>\n",
              "      <td>5</td>\n",
              "      <td>NaN</td>\n",
              "      <td>NaN</td>\n",
              "    </tr>\n",
              "    <tr>\n",
              "      <th>10129</th>\n",
              "      <td>5dc8cea7659e181adb076a3f_fd64de8c4a2fc5ebb0e9f...</td>\n",
              "      <td>5</td>\n",
              "      <td>NaN</td>\n",
              "      <td>NaN</td>\n",
              "    </tr>\n",
              "    <tr>\n",
              "      <th>10130</th>\n",
              "      <td>5dc8cea7659e181adb076a3f_fd64de8c4a2fc5ebb0e9f...</td>\n",
              "      <td>5</td>\n",
              "      <td>NaN</td>\n",
              "      <td>NaN</td>\n",
              "    </tr>\n",
              "    <tr>\n",
              "      <th>10131</th>\n",
              "      <td>5dc8cea7659e181adb076a3f_fd64de8c4a2fc5ebb0e9f...</td>\n",
              "      <td>5</td>\n",
              "      <td>NaN</td>\n",
              "      <td>NaN</td>\n",
              "    </tr>\n",
              "    <tr>\n",
              "      <th>10132</th>\n",
              "      <td>5dc8cea7659e181adb076a3f_fd64de8c4a2fc5ebb0e9f...</td>\n",
              "      <td>5</td>\n",
              "      <td>NaN</td>\n",
              "      <td>NaN</td>\n",
              "    </tr>\n",
              "  </tbody>\n",
              "</table>\n",
              "<p>10133 rows × 4 columns</p>\n",
              "</div>"
            ],
            "text/plain": [
              "                                     site_path_timestamp  floor   x   y\n",
              "0      5a0546857ecc773753327266_046cfa46be49fc1083481...      0 NaN NaN\n",
              "1      5a0546857ecc773753327266_046cfa46be49fc1083481...      0 NaN NaN\n",
              "2      5a0546857ecc773753327266_046cfa46be49fc1083481...      0 NaN NaN\n",
              "3      5a0546857ecc773753327266_046cfa46be49fc1083481...      0 NaN NaN\n",
              "4      5a0546857ecc773753327266_046cfa46be49fc1083481...      0 NaN NaN\n",
              "...                                                  ...    ...  ..  ..\n",
              "10128  5dc8cea7659e181adb076a3f_fd64de8c4a2fc5ebb0e9f...      5 NaN NaN\n",
              "10129  5dc8cea7659e181adb076a3f_fd64de8c4a2fc5ebb0e9f...      5 NaN NaN\n",
              "10130  5dc8cea7659e181adb076a3f_fd64de8c4a2fc5ebb0e9f...      5 NaN NaN\n",
              "10131  5dc8cea7659e181adb076a3f_fd64de8c4a2fc5ebb0e9f...      5 NaN NaN\n",
              "10132  5dc8cea7659e181adb076a3f_fd64de8c4a2fc5ebb0e9f...      5 NaN NaN\n",
              "\n",
              "[10133 rows x 4 columns]"
            ]
          },
          "metadata": {
            "tags": []
          },
          "execution_count": 30
        }
      ]
    },
    {
      "cell_type": "code",
      "metadata": {
        "id": "Xgr5J10whEhi"
      },
      "source": [
        ""
      ],
      "execution_count": null,
      "outputs": []
    }
  ]
}