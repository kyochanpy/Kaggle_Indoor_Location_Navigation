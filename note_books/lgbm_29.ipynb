{
  "nbformat": 4,
  "nbformat_minor": 0,
  "metadata": {
    "colab": {
      "name": "Untitled16.ipynb",
      "provenance": [],
      "toc_visible": true,
      "machine_shape": "hm",
      "include_colab_link": true
    },
    "kernelspec": {
      "name": "python3",
      "display_name": "Python 3"
    },
    "language_info": {
      "name": "python"
    },
    "accelerator": "GPU"
  },
  "cells": [
    {
      "cell_type": "markdown",
      "metadata": {
        "id": "view-in-github",
        "colab_type": "text"
      },
      "source": [
        "<a href=\"https://colab.research.google.com/github/kyochanpy/Kaggle_Indoor_Location_Navigation/blob/main/note_books/lgbm_29.ipynb\" target=\"_parent\"><img src=\"https://colab.research.google.com/assets/colab-badge.svg\" alt=\"Open In Colab\"/></a>"
      ]
    },
    {
      "cell_type": "code",
      "metadata": {
        "id": "6SU575qxxCew"
      },
      "source": [
        "import numpy as np\n",
        "import pandas as pd\n",
        "import shutil\n",
        "import scipy.stats as stats\n",
        "from pathlib import Path\n",
        "import glob\n",
        "from tqdm import tqdm\n",
        "\n",
        "\n",
        "from sklearn.model_selection import KFold\n",
        "import lightgbm as lgb\n",
        "\n",
        "import psutil\n",
        "import random\n",
        "import os\n",
        "import time\n",
        "import sys\n",
        "import math\n",
        "from contextlib import contextmanager\n",
        "\n",
        "from sklearn.preprocessing import LabelEncoder"
      ],
      "execution_count": 1,
      "outputs": []
    },
    {
      "cell_type": "code",
      "metadata": {
        "id": "sm4BoEzDxFPe"
      },
      "source": [
        "N_SPLITS = 10\n",
        "SEED = 42\n"
      ],
      "execution_count": 2,
      "outputs": []
    },
    {
      "cell_type": "code",
      "metadata": {
        "id": "TcuUeJ2YTYW6",
        "outputId": "a4abf740-dc0a-4638-828d-741f8fd4b57f",
        "colab": {
          "base_uri": "https://localhost:8080/"
        }
      },
      "source": [
        "from google.colab import drive\n",
        "drive.mount('/content/drive')"
      ],
      "execution_count": 3,
      "outputs": [
        {
          "output_type": "stream",
          "text": [
            "Drive already mounted at /content/drive; to attempt to forcibly remount, call drive.mount(\"/content/drive\", force_remount=True).\n"
          ],
          "name": "stdout"
        }
      ]
    },
    {
      "cell_type": "code",
      "metadata": {
        "id": "TWuzNzX5xN-s"
      },
      "source": [
        "LOG_PATH = Path(\"./log/\")\n",
        "LOG_PATH.mkdir(parents=True, exist_ok=True)\n"
      ],
      "execution_count": 4,
      "outputs": []
    },
    {
      "cell_type": "code",
      "metadata": {
        "id": "KuXjg4fnxQsS"
      },
      "source": [
        "@contextmanager\n",
        "def timer(name: str):\n",
        "    t0 = time.time()\n",
        "    p = psutil.Process(os.getpid())\n",
        "    m0 = p.memory_info()[0] / 2. ** 30\n",
        "    try:\n",
        "        yield\n",
        "    finally:\n",
        "        m1 = p.memory_info()[0] / 2. ** 30\n",
        "        delta = m1 - m0\n",
        "        sign = '+' if delta >= 0 else '-'\n",
        "        delta = math.fabs(delta)\n",
        "        print(f\"[{m1:.1f}GB({sign}{delta:.1f}GB): {time.time() - t0:.3f}sec] {name}\", file=sys.stderr)\n"
      ],
      "execution_count": 5,
      "outputs": []
    },
    {
      "cell_type": "code",
      "metadata": {
        "id": "t-WJLWe9xUWC"
      },
      "source": [
        "def set_seed(seed=42):\n",
        "    random.seed(seed)\n",
        "    os.environ[\"PYTHONHASHSEED\"] = str(seed)\n",
        "    np.random.seed(seed)\n",
        "\n",
        "    \n",
        "def comp_metric(xhat, yhat, x, y):\n",
        "    intermediate = np.sqrt(np.power(xhat-x, 2) + np.power(yhat-y, 2))\n",
        "    return intermediate.sum()/xhat.shape[0]\n",
        "\n",
        "\n",
        "def score_log(df: pd.DataFrame, num_files: int, nam_file: str, data_shape: tuple, n_fold: int, seed: int, mpe: float):\n",
        "    score_dict = {'n_files': num_files, 'file_name': nam_file, 'shape': data_shape, 'fold': n_fold, 'seed': seed, 'score': mpe}\n",
        "    # noinspection PyTypeChecker\n",
        "    df = pd.concat([df, pd.DataFrame.from_dict([score_dict])])\n",
        "    df.to_csv(LOG_PATH / f\"log_score.csv\", index=False)\n",
        "    return df"
      ],
      "execution_count": 6,
      "outputs": []
    },
    {
      "cell_type": "code",
      "metadata": {
        "id": "-Y0snFNmxYSg"
      },
      "source": [
        "set_seed(SEED)\n"
      ],
      "execution_count": 7,
      "outputs": []
    },
    {
      "cell_type": "code",
      "metadata": {
        "id": "63hV5hB1xaad"
      },
      "source": [
        "feature_dir = \"/content/drive/MyDrive/all_data\"\n",
        "train_files = sorted(glob.glob(os.path.join(feature_dir, '*_train.csv')))\n",
        "test_files = sorted(glob.glob(os.path.join(feature_dir, '*_test.csv')))\n",
        "subm = pd.read_csv('/content/drive/MyDrive/sample_submission.csv', index_col=0)"
      ],
      "execution_count": 8,
      "outputs": []
    },
    {
      "cell_type": "code",
      "metadata": {
        "id": "VrCKhgNdxxc4"
      },
      "source": [
        "lgb_params = {'objective': 'root_mean_squared_error',\n",
        "              'boosting_type': 'gbdt',\n",
        "              'n_estimators': 50000,\n",
        "              'learning_rate': 0.1,\n",
        "              'num_leaves': 90,\n",
        "              'colsample_bytree': 0.4,\n",
        "              'subsample': 0.6,\n",
        "              'subsample_freq': 2,\n",
        "              'bagging_seed': SEED,\n",
        "              'reg_alpha': 8,\n",
        "              'reg_lambda': 2,\n",
        "              'random_state': SEED,\n",
        "              'n_jobs': -1\n",
        "              }"
      ],
      "execution_count": 9,
      "outputs": []
    },
    {
      "cell_type": "markdown",
      "metadata": {
        "id": "CKznA-EnAvv3"
      },
      "source": [
        "# 共通関数"
      ]
    },
    {
      "cell_type": "code",
      "metadata": {
        "id": "MPLBtNI7x11v"
      },
      "source": [
        "def get_beacon_features(input_df):\n",
        "    output_df = input_df.loc[:, ['beacon_rssi', 'beacon_distance']]\n",
        "    return output_df\n",
        "\n",
        "def get_mag_features(input_df):\n",
        "    output_df = input_df.loc[:, ['mag_y', 'mag_z']]\n",
        "    return output_df\n",
        "\n",
        "def get_le_macaddr_features(input_df):\n",
        "    output_df = pd.DataFrame()\n",
        "    le = LabelEncoder()\n",
        "    le.fit(input_df['beacon_mac_addr'].astype(str))\n",
        "    output_df[\"LE_beacon_mac_addr\"] = le.transform(input_df['beacon_mac_addr'].astype(str))\n",
        "    return output_df\n"
      ],
      "execution_count": 10,
      "outputs": []
    },
    {
      "cell_type": "code",
      "metadata": {
        "id": "sLu9HDMctvgT"
      },
      "source": [
        "def get_fixed_rotation_vector(input_df):\n",
        "    input_df_ = input_df.loc[:, ['rotation_x', 'rotation_y', 'rotation_z']]\n",
        "    x_list = []\n",
        "    y_list = []\n",
        "    z_list = []\n",
        "    for x in input_df_['rotation_x'].values:\n",
        "        if x <= -0.5:\n",
        "            x = x + 0.5\n",
        "        elif x >= 0.5:\n",
        "            x = x - 0.5\n",
        "        x_list.append(x)\n",
        "    for y in input_df_['rotation_y'].values:\n",
        "        if y <= 0:\n",
        "            y = y + 1\n",
        "        y_list.append(y)\n",
        "    for z in input_df_['rotation_z'].values:\n",
        "        if z <= 0:\n",
        "            z = z + 1\n",
        "        z_list.append(z)\n",
        "    output_df = pd.DataFrame()\n",
        "    output_df['fixed_rotation_x'] = x_list\n",
        "    output_df['fixed_rotation_y'] = y_list\n",
        "    output_df['fixed_rotation_z'] = z_list\n",
        "    return output_df\n",
        "    \n",
        "def get_deg_rotation_vector(input_df):\n",
        "    input_df_ = input_df.loc[:, ['rotation_x', 'rotation_y', 'rotation_z']]\n",
        "    x_list = []\n",
        "    y_list = []\n",
        "    z_list = []\n",
        "    for x in input_df_['rotation_x'].values:\n",
        "        x_ = math.degrees(math.asin(x))\n",
        "        if x_ <= -45:\n",
        "            x_ = x_ + 45\n",
        "        elif x_ >= 45:\n",
        "            x_ = x_ -45\n",
        "        x_list.append(x_)\n",
        "    for y in input_df_['rotation_y'].values:\n",
        "        y_ = math.degrees(math.asin(y))\n",
        "        if y_ <= 0:\n",
        "            y_ = y_ + 90\n",
        "        y_list.append(y_)\n",
        "    for z in input_df_['rotation_z'].values:\n",
        "        z_ = math.degrees(math.asin(z))\n",
        "        if z_ <= 0:\n",
        "            z_ = z_ + 90\n",
        "        z_list.append(z_)\n",
        "    output_df = pd.DataFrame()\n",
        "    output_df['deg_rotation_x'] = x_list\n",
        "    output_df['deg_rotation_y'] = y_list\n",
        "    output_df['deg_rotation_z'] = z_list\n",
        "    return output_df\n",
        "\n",
        "def get_mag_rotation_features(input_df):\n",
        "    input_df_ = pd.concat([input_df, get_fixed_rotation_vector(input_df), get_deg_rotation_vector(input_df)], axis=1)\n",
        "    output_df = pd.DataFrame()\n",
        "    n_list = []\n",
        "    input_df_['fixed_deg_rotation_zz'] = input_df_['fixed_rotation_z'] * input_df_['deg_rotation_z']\n",
        "    input_df_['mag_rotation_zz'] = input_df_['mag_z'] * input_df_['fixed_deg_rotation_zz'] * 0.05\n",
        "    output_df['ud_mag_rotation_zz'] = abs(input_df_['mag_rotation_zz'].values - input_df_['mag_rotation_zz'].max())\n",
        "    return output_df\n",
        "\n",
        "def get_distance_features(input_df):\n",
        "    input_df_ = pd.concat([input_df, get_mag_rotation_features(input_df)], axis=1)\n",
        "    output_df = pd.DataFrame()\n",
        "    output_df['work_distance_y'] = abs(input_df_['acc_y'] * input_df_['ud_mag_rotation_zz'] * input_df_['mag_z'] * 0.01)\n",
        "    output_df['work_distance_z'] = abs(input_df_['acc_z'] * input_df_['ud_mag_rotation_zz'] * input_df_['mag_z'] * 0.01)\n",
        "    output_df['work_distance_yz'] = abs(output_df['work_distance_y'] + output_df['work_distance_z']) * 0.2\n",
        "    return output_df\n",
        "\n",
        "def get_sum_sensor_features(input_df):\n",
        "    output_df = pd.DataFrame()\n",
        "    output_df['sum_sensor_x'] = input_df['acc_x'] + input_df['acc_unc_x'] + input_df['acc_unc_x2'] + input_df['gyro_x'] + input_df['gyro_unc_x'] + input_df['gyro_unc_x2'] + input_df['mag_x'] + input_df['mag_unc_x'] + input_df['mag_unc_x2'] + input_df['rotation_x']\n",
        "    output_df['sum_sensor_y'] = input_df['acc_y'] + input_df['acc_unc_y'] + input_df['acc_unc_y2'] + input_df['gyro_y'] + input_df['gyro_unc_y'] + input_df['gyro_unc_y2'] + input_df['mag_y'] + input_df['mag_unc_y'] + input_df['mag_unc_y2'] + input_df['rotation_y']\n",
        "    output_df['sum_sensor_xy'] = output_df['sum_sensor_x'] + output_df['sum_sensor_y']\n",
        "    return output_df\n",
        "\n",
        "def get_fixed_sum_features(input_df):\n",
        "    input_df_ = pd.DataFrame()\n",
        "    output_df = pd.DataFrame()\n",
        "    input_df_['sum_sensor_y'] = input_df['acc_y'] + input_df['acc_unc_y'] + input_df['gyro_y'] + input_df['gyro_unc_y'] + input_df['mag_y'] + input_df['mag_unc_y'] + input_df['rotation_y']\n",
        "    input_df_['sum_sensor_x'] = input_df['acc_x'] + input_df['acc_unc_x'] + input_df['gyro_x'] + input_df['gyro_unc_x'] + input_df['mag_x'] + input_df['mag_unc_x'] + input_df['rotation_x']\n",
        "    input_df_['sum_sensor_xy'] = input_df_['sum_sensor_x'] + input_df_['sum_sensor_y']\n",
        "    x_list = []\n",
        "    x_25 = input_df_['sum_sensor_x'].quantile(q=0.25)\n",
        "    y_list = []\n",
        "    y_25 = input_df_['sum_sensor_y'].quantile(q=0.25)\n",
        "    xy_list = []\n",
        "    xy_25 = input_df_['sum_sensor_xy'].quantile(q=0.25)\n",
        "    for x in input_df_['sum_sensor_x'].values:\n",
        "        x_ = abs(x - x_25) + abs(x_25)\n",
        "        x_list.append(x_)\n",
        "    for y in input_df_['sum_sensor_y'].values:\n",
        "        y_ = abs(y - y_25) + abs(y_25)\n",
        "        y_list.append(y_)\n",
        "    for xy in input_df_['sum_sensor_xy'].values:\n",
        "        xy_ = abs(xy - xy_25) + abs(xy_25)\n",
        "        xy_list.append(xy_)\n",
        "    output_df['fixed_sum_sensor_x'] = x_list\n",
        "    output_df['fixed_sum_sensor_y'] = y_list\n",
        "    output_df['fixed_sum_sensor_xy'] = xy_list\n",
        "    return output_df"
      ],
      "execution_count": 11,
      "outputs": []
    },
    {
      "cell_type": "markdown",
      "metadata": {
        "id": "wSH6WdJtxny6"
      },
      "source": [
        "# train用関数"
      ]
    },
    {
      "cell_type": "code",
      "metadata": {
        "id": "2OClZCWHA09X"
      },
      "source": [
        "def get_target_train(input_df):\n",
        "    output_df = input_df.loc[:, ['f', 'x', 'y', 'path', 'timestamp' ]]\n",
        "    return output_df\n",
        "\n",
        "def get_wifi_train_festures(input_df):\n",
        "    output_df = input_df.iloc[:, 1:-42]\n",
        "    return output_df"
      ],
      "execution_count": 19,
      "outputs": []
    },
    {
      "cell_type": "markdown",
      "metadata": {
        "id": "_xFMVu-nxrFe"
      },
      "source": [
        "# test用関数"
      ]
    },
    {
      "cell_type": "code",
      "metadata": {
        "id": "yoJ9DRYmDkpr"
      },
      "source": [
        "def get_target_test(input_df):\n",
        "    output_df = input_df.loc[:, ['floor', 'site_path_timestamp', 'path', 'timestamp']]\n",
        "    return output_df\n",
        "\n",
        "def get_wifi_test_festures(input_df):\n",
        "    output_df = input_df.iloc[:, 1:-41]\n",
        "    return output_df\n"
      ],
      "execution_count": 20,
      "outputs": []
    },
    {
      "cell_type": "code",
      "metadata": {
        "id": "7wyzRY0mEq5H"
      },
      "source": [
        "def get_process_funcs_train():\n",
        "    funcs = [get_wifi_train_festures,\n",
        "             get_beacon_features,\n",
        "             get_le_macaddr_features,\n",
        "             get_mag_rotation_features,\n",
        "             get_mag_features,\n",
        "             get_fixed_rotation_vector,\n",
        "             get_deg_rotation_vector,\n",
        "             get_distance_features,\n",
        "             get_sum_sensor_features,\n",
        "             get_fixed_sum_features,\n",
        "             get_target_train]\n",
        "    return funcs\n",
        "\n",
        "def get_process_funcs_test():\n",
        "    funcs = [get_wifi_test_festures,\n",
        "             get_beacon_features,\n",
        "             get_le_macaddr_features,\n",
        "             get_mag_rotation_features,\n",
        "             get_mag_features,\n",
        "             get_fixed_rotation_vector,\n",
        "             get_deg_rotation_vector,\n",
        "             get_distance_features,\n",
        "             get_sum_sensor_features,\n",
        "             get_fixed_sum_features,\n",
        "             get_target_test]\n",
        "    return funcs\n",
        "\n",
        "def to_feature(input_df, funcs):\n",
        "    output_df = pd.DataFrame()\n",
        "    for func in tqdm(funcs, total=len(funcs)):\n",
        "        _df = func(input_df)\n",
        "        assert len(_df) == len(input_df), func.__name__\n",
        "        output_df = pd.concat([output_df, _df], axis=1)\n",
        "    return output_df"
      ],
      "execution_count": 21,
      "outputs": []
    },
    {
      "cell_type": "code",
      "metadata": {
        "colab": {
          "base_uri": "https://localhost:8080/"
        },
        "id": "4ZOk9Sagx1Do",
        "outputId": "5b53c5f6-b43e-45a1-dba6-a0ac5ec57528"
      },
      "source": [
        "score_df = pd.DataFrame()\n",
        "oof = list()\n",
        "predictions = list()\n",
        "for n_files, file in enumerate(train_files):\n",
        "    data = pd.read_csv(file)\n",
        "    test_data = pd.read_csv(test_files[n_files])\n",
        "\n",
        "    process_funcs_train = get_process_funcs_train()\n",
        "    process_funcs_test = get_process_funcs_test()\n",
        "    data = to_feature(data, process_funcs_train).rename({'f':'floor'}, axis=1).fillna(0)\n",
        "    test_data = to_feature(test_data, process_funcs_test).fillna(0)\n",
        "\n",
        "    print(data.shape)\n",
        "    print(test_data.shape)\n",
        "\n",
        "    oof_x, oof_y = np.zeros(data.shape[0]), np.zeros(data.shape[0])\n",
        "    preds_x, preds_y = 0, 0\n",
        "\n",
        "    kf = KFold(n_splits=N_SPLITS, shuffle=True, random_state=SEED)\n",
        "    for fold, (trn_idx, val_idx) in enumerate(kf.split(data.iloc[:, :-4])):\n",
        "        X_train = data.iloc[trn_idx, :-4]\n",
        "        y_trainx = data.iloc[trn_idx, -4]\n",
        "        y_trainy = data.iloc[trn_idx, -3]\n",
        "\n",
        "        X_valid = data.iloc[val_idx, :-4]\n",
        "        y_validx = data.iloc[val_idx, -4]\n",
        "        y_validy = data.iloc[val_idx, -3]\n",
        "        \n",
        "        modelx = lgb.LGBMRegressor(**lgb_params)\n",
        "        with timer(\"fit X\"):\n",
        "            modelx.fit(X_train, y_trainx,\n",
        "                       eval_set=[(X_valid, y_validx)],\n",
        "                       eval_metric='rmse',\n",
        "                       verbose=False,\n",
        "                       early_stopping_rounds=20\n",
        "                       )\n",
        "\n",
        "        modely = lgb.LGBMRegressor(**lgb_params)\n",
        "        with timer(\"fit Y\"):\n",
        "            modely.fit(X_train, y_trainy,\n",
        "                       eval_set=[(X_valid, y_validy)],\n",
        "                       eval_metric='rmse',\n",
        "                       verbose=False,\n",
        "                       early_stopping_rounds=20\n",
        "                       )\n",
        "\n",
        "            \n",
        "        oof_x[val_idx] = modelx.predict(X_valid)\n",
        "        oof_y[val_idx] = modely.predict(X_valid)\n",
        "\n",
        "        preds_x += modelx.predict(test_data.iloc[:, :-3]) / N_SPLITS\n",
        "        preds_y += modely.predict(test_data.iloc[:, :-3]) / N_SPLITS\n",
        "        preds_f = test_data['floor'].values\n",
        "\n",
        "        score = comp_metric(oof_x[val_idx], oof_y[val_idx], y_validx.to_numpy(), y_validy.to_numpy())\n",
        "        print(f\"fold {fold}: mean position error {score}\")\n",
        "        score_df = score_log(score_df, n_files, os.path.basename(file), data.shape, fold, SEED, score)\n",
        "\n",
        "    print(\"*+\"*40)\n",
        "    print(f\"file #{n_files}, shape={data.shape}, name={os.path.basename(file)}\")\n",
        "    score = comp_metric(oof_x, oof_y,\n",
        "                        data.iloc[:, -4].to_numpy(), data.iloc[:, -3].to_numpy())\n",
        "    oof.append(score)\n",
        "    print(f\"mean position error {score}\")\n",
        "    print(\"*+\"*40)\n",
        "    score_df = score_log(score_df, n_files, os.path.basename(file), data.shape, 999, SEED, score)\n",
        "    \n",
        "    test_preds = pd.DataFrame(np.stack((preds_f, preds_x, preds_y))).T\n",
        "    test_preds.columns = subm.columns\n",
        "    test_preds.index = test_data[\"site_path_timestamp\"]\n",
        "    test_preds[\"floor\"] = test_preds[\"floor\"].astype(int)\n",
        "    predictions.append(test_preds)"
      ],
      "execution_count": 25,
      "outputs": [
        {
          "output_type": "stream",
          "text": [
            "100%|██████████| 11/11 [00:01<00:00,  5.86it/s]\n",
            "100%|██████████| 11/11 [00:00<00:00, 97.76it/s]\n"
          ],
          "name": "stderr"
        },
        {
          "output_type": "stream",
          "text": [
            "(9296, 3423)\n",
            "(299, 3422)\n"
          ],
          "name": "stdout"
        },
        {
          "output_type": "stream",
          "text": [
            "[3.9GB(+0.0GB): 14.528sec] fit X\n",
            "[3.9GB(+0.0GB): 13.282sec] fit Y\n"
          ],
          "name": "stderr"
        },
        {
          "output_type": "stream",
          "text": [
            "fold 0: mean position error 3.4155518157149527\n"
          ],
          "name": "stdout"
        },
        {
          "output_type": "stream",
          "text": [
            "[4.1GB(+0.2GB): 15.978sec] fit X\n",
            "[4.1GB(+0.0GB): 13.239sec] fit Y\n"
          ],
          "name": "stderr"
        },
        {
          "output_type": "stream",
          "text": [
            "fold 1: mean position error 3.318281665592042\n"
          ],
          "name": "stdout"
        },
        {
          "output_type": "stream",
          "text": [
            "[4.1GB(+0.0GB): 13.789sec] fit X\n",
            "[4.1GB(+0.0GB): 16.489sec] fit Y\n"
          ],
          "name": "stderr"
        },
        {
          "output_type": "stream",
          "text": [
            "fold 2: mean position error 3.6395979081160514\n"
          ],
          "name": "stdout"
        },
        {
          "output_type": "stream",
          "text": [
            "[4.1GB(+0.0GB): 16.852sec] fit X\n",
            "[4.1GB(+0.0GB): 14.259sec] fit Y\n"
          ],
          "name": "stderr"
        },
        {
          "output_type": "stream",
          "text": [
            "fold 3: mean position error 3.4963959964123412\n"
          ],
          "name": "stdout"
        },
        {
          "output_type": "stream",
          "text": [
            "[4.1GB(+0.0GB): 16.689sec] fit X\n",
            "[4.1GB(+0.0GB): 17.402sec] fit Y\n"
          ],
          "name": "stderr"
        },
        {
          "output_type": "stream",
          "text": [
            "fold 4: mean position error 3.5261076329433623\n"
          ],
          "name": "stdout"
        },
        {
          "output_type": "stream",
          "text": [
            "[4.1GB(+0.0GB): 23.317sec] fit X\n",
            "[4.1GB(+0.0GB): 17.644sec] fit Y\n"
          ],
          "name": "stderr"
        },
        {
          "output_type": "stream",
          "text": [
            "fold 5: mean position error 3.6256560166243763\n"
          ],
          "name": "stdout"
        },
        {
          "output_type": "stream",
          "text": [
            "[4.1GB(+0.0GB): 14.071sec] fit X\n",
            "[4.1GB(+0.0GB): 17.316sec] fit Y\n"
          ],
          "name": "stderr"
        },
        {
          "output_type": "stream",
          "text": [
            "fold 6: mean position error 3.4458816260067864\n"
          ],
          "name": "stdout"
        },
        {
          "output_type": "stream",
          "text": [
            "[4.1GB(+0.0GB): 16.055sec] fit X\n",
            "[4.1GB(+0.0GB): 14.422sec] fit Y\n"
          ],
          "name": "stderr"
        },
        {
          "output_type": "stream",
          "text": [
            "fold 7: mean position error 3.497027581384414\n"
          ],
          "name": "stdout"
        },
        {
          "output_type": "stream",
          "text": [
            "[4.1GB(+0.0GB): 16.785sec] fit X\n",
            "[4.1GB(+0.0GB): 14.367sec] fit Y\n"
          ],
          "name": "stderr"
        },
        {
          "output_type": "stream",
          "text": [
            "fold 8: mean position error 3.527396620627253\n"
          ],
          "name": "stdout"
        },
        {
          "output_type": "stream",
          "text": [
            "[4.1GB(+0.0GB): 14.610sec] fit X\n",
            "[4.1GB(+0.0GB): 11.379sec] fit Y\n"
          ],
          "name": "stderr"
        },
        {
          "output_type": "stream",
          "text": [
            "fold 9: mean position error 3.488160826532982\n",
            "*+*+*+*+*+*+*+*+*+*+*+*+*+*+*+*+*+*+*+*+*+*+*+*+*+*+*+*+*+*+*+*+*+*+*+*+*+*+*+*+\n",
            "file #0, shape=(9296, 3423), name=5a0546857ecc773753327266_train.csv\n",
            "mean position error 3.4980093787654036\n",
            "*+*+*+*+*+*+*+*+*+*+*+*+*+*+*+*+*+*+*+*+*+*+*+*+*+*+*+*+*+*+*+*+*+*+*+*+*+*+*+*+\n"
          ],
          "name": "stdout"
        },
        {
          "output_type": "stream",
          "text": [
            "100%|██████████| 11/11 [00:01<00:00,  6.12it/s]\n",
            "100%|██████████| 11/11 [00:00<00:00, 194.36it/s]\n"
          ],
          "name": "stderr"
        },
        {
          "output_type": "stream",
          "text": [
            "(9737, 3089)\n",
            "(26, 3088)\n"
          ],
          "name": "stdout"
        },
        {
          "output_type": "stream",
          "text": [
            "[4.1GB(+0.0GB): 15.092sec] fit X\n",
            "[4.1GB(+0.0GB): 14.394sec] fit Y\n"
          ],
          "name": "stderr"
        },
        {
          "output_type": "stream",
          "text": [
            "fold 0: mean position error 4.8038536564454395\n"
          ],
          "name": "stdout"
        },
        {
          "output_type": "stream",
          "text": [
            "[4.1GB(+0.0GB): 17.526sec] fit X\n",
            "[4.1GB(+0.0GB): 14.030sec] fit Y\n"
          ],
          "name": "stderr"
        },
        {
          "output_type": "stream",
          "text": [
            "fold 1: mean position error 4.377292844350782\n"
          ],
          "name": "stdout"
        },
        {
          "output_type": "stream",
          "text": [
            "[4.1GB(+0.0GB): 17.021sec] fit X\n",
            "[4.1GB(+0.0GB): 15.616sec] fit Y\n"
          ],
          "name": "stderr"
        },
        {
          "output_type": "stream",
          "text": [
            "fold 2: mean position error 4.388453295178635\n"
          ],
          "name": "stdout"
        },
        {
          "output_type": "stream",
          "text": [
            "[4.1GB(+0.0GB): 14.682sec] fit X\n",
            "[4.1GB(+0.0GB): 15.737sec] fit Y\n"
          ],
          "name": "stderr"
        },
        {
          "output_type": "stream",
          "text": [
            "fold 3: mean position error 4.633501508416566\n"
          ],
          "name": "stdout"
        },
        {
          "output_type": "stream",
          "text": [
            "[4.1GB(+0.0GB): 11.519sec] fit X\n",
            "[4.1GB(+0.0GB): 16.677sec] fit Y\n"
          ],
          "name": "stderr"
        },
        {
          "output_type": "stream",
          "text": [
            "fold 4: mean position error 4.723498632956696\n"
          ],
          "name": "stdout"
        },
        {
          "output_type": "stream",
          "text": [
            "[4.1GB(+0.0GB): 22.074sec] fit X\n",
            "[4.1GB(+0.0GB): 11.077sec] fit Y\n"
          ],
          "name": "stderr"
        },
        {
          "output_type": "stream",
          "text": [
            "fold 5: mean position error 4.701359293600646\n"
          ],
          "name": "stdout"
        },
        {
          "output_type": "stream",
          "text": [
            "[4.1GB(+0.0GB): 10.679sec] fit X\n",
            "[4.1GB(+0.0GB): 22.319sec] fit Y\n"
          ],
          "name": "stderr"
        },
        {
          "output_type": "stream",
          "text": [
            "fold 6: mean position error 4.527467286535114\n"
          ],
          "name": "stdout"
        },
        {
          "output_type": "stream",
          "text": [
            "[4.1GB(+0.0GB): 20.086sec] fit X\n",
            "[4.1GB(+0.0GB): 19.724sec] fit Y\n"
          ],
          "name": "stderr"
        },
        {
          "output_type": "stream",
          "text": [
            "fold 7: mean position error 4.527556311129117\n"
          ],
          "name": "stdout"
        },
        {
          "output_type": "stream",
          "text": [
            "[4.1GB(+0.0GB): 13.529sec] fit X\n",
            "[4.1GB(+0.0GB): 18.103sec] fit Y\n"
          ],
          "name": "stderr"
        },
        {
          "output_type": "stream",
          "text": [
            "fold 8: mean position error 4.449293780971399\n"
          ],
          "name": "stdout"
        },
        {
          "output_type": "stream",
          "text": [
            "[4.1GB(+0.0GB): 14.736sec] fit X\n",
            "[4.1GB(+0.0GB): 14.580sec] fit Y\n"
          ],
          "name": "stderr"
        },
        {
          "output_type": "stream",
          "text": [
            "fold 9: mean position error 4.844722057505965\n",
            "*+*+*+*+*+*+*+*+*+*+*+*+*+*+*+*+*+*+*+*+*+*+*+*+*+*+*+*+*+*+*+*+*+*+*+*+*+*+*+*+\n",
            "file #1, shape=(9737, 3089), name=5c3c44b80379370013e0fd2b_train.csv\n",
            "mean position error 4.59769694254867\n",
            "*+*+*+*+*+*+*+*+*+*+*+*+*+*+*+*+*+*+*+*+*+*+*+*+*+*+*+*+*+*+*+*+*+*+*+*+*+*+*+*+\n"
          ],
          "name": "stdout"
        },
        {
          "output_type": "stream",
          "text": [
            "100%|██████████| 11/11 [00:09<00:00,  1.19it/s]\n",
            "100%|██████████| 11/11 [00:00<00:00, 143.05it/s]\n"
          ],
          "name": "stderr"
        },
        {
          "output_type": "stream",
          "text": [
            "(23666, 7055)\n",
            "(47, 7054)\n"
          ],
          "name": "stdout"
        },
        {
          "output_type": "stream",
          "text": [
            "[11.4GB(+1.0GB): 97.142sec] fit X\n",
            "[11.4GB(+0.0GB): 97.049sec] fit Y\n"
          ],
          "name": "stderr"
        },
        {
          "output_type": "stream",
          "text": [
            "fold 0: mean position error 4.131439726877727\n"
          ],
          "name": "stdout"
        },
        {
          "output_type": "stream",
          "text": [
            "[12.5GB(+1.1GB): 81.131sec] fit X\n",
            "[12.5GB(+0.0GB): 90.200sec] fit Y\n"
          ],
          "name": "stderr"
        },
        {
          "output_type": "stream",
          "text": [
            "fold 1: mean position error 4.088431560498397\n"
          ],
          "name": "stdout"
        },
        {
          "output_type": "stream",
          "text": [
            "[12.5GB(+0.0GB): 94.189sec] fit X\n",
            "[12.5GB(+0.0GB): 104.190sec] fit Y\n"
          ],
          "name": "stderr"
        },
        {
          "output_type": "stream",
          "text": [
            "fold 2: mean position error 4.0808965098690315\n"
          ],
          "name": "stdout"
        },
        {
          "output_type": "stream",
          "text": [
            "[12.5GB(+0.0GB): 97.406sec] fit X\n",
            "[12.5GB(+0.0GB): 70.438sec] fit Y\n"
          ],
          "name": "stderr"
        },
        {
          "output_type": "stream",
          "text": [
            "fold 3: mean position error 4.126174907092969\n"
          ],
          "name": "stdout"
        },
        {
          "output_type": "stream",
          "text": [
            "[12.5GB(+0.0GB): 134.620sec] fit X\n",
            "[12.5GB(+0.0GB): 85.886sec] fit Y\n"
          ],
          "name": "stderr"
        },
        {
          "output_type": "stream",
          "text": [
            "fold 4: mean position error 4.0596497223593095\n"
          ],
          "name": "stdout"
        },
        {
          "output_type": "stream",
          "text": [
            "[12.5GB(-0.0GB): 102.037sec] fit X\n",
            "[12.5GB(+0.0GB): 118.448sec] fit Y\n"
          ],
          "name": "stderr"
        },
        {
          "output_type": "stream",
          "text": [
            "fold 5: mean position error 3.9801783211172377\n"
          ],
          "name": "stdout"
        },
        {
          "output_type": "stream",
          "text": [
            "[12.5GB(+0.0GB): 86.398sec] fit X\n",
            "[12.5GB(+0.0GB): 85.165sec] fit Y\n"
          ],
          "name": "stderr"
        },
        {
          "output_type": "stream",
          "text": [
            "fold 6: mean position error 4.282180192708551\n"
          ],
          "name": "stdout"
        },
        {
          "output_type": "stream",
          "text": [
            "[12.5GB(+0.0GB): 87.141sec] fit X\n",
            "[12.5GB(+0.0GB): 107.090sec] fit Y\n"
          ],
          "name": "stderr"
        },
        {
          "output_type": "stream",
          "text": [
            "fold 7: mean position error 4.029897709075451\n"
          ],
          "name": "stdout"
        },
        {
          "output_type": "stream",
          "text": [
            "[12.6GB(+0.0GB): 109.343sec] fit X\n",
            "[12.6GB(+0.0GB): 118.349sec] fit Y\n"
          ],
          "name": "stderr"
        },
        {
          "output_type": "stream",
          "text": [
            "fold 8: mean position error 4.022701988111812\n"
          ],
          "name": "stdout"
        },
        {
          "output_type": "stream",
          "text": [
            "[12.6GB(+0.0GB): 87.467sec] fit X\n",
            "[12.6GB(+0.0GB): 88.092sec] fit Y\n"
          ],
          "name": "stderr"
        },
        {
          "output_type": "stream",
          "text": [
            "fold 9: mean position error 4.069497707561194\n",
            "*+*+*+*+*+*+*+*+*+*+*+*+*+*+*+*+*+*+*+*+*+*+*+*+*+*+*+*+*+*+*+*+*+*+*+*+*+*+*+*+\n",
            "file #2, shape=(23666, 7055), name=5d27075f03f801723c2e360f_train.csv\n",
            "mean position error 4.087102474252539\n",
            "*+*+*+*+*+*+*+*+*+*+*+*+*+*+*+*+*+*+*+*+*+*+*+*+*+*+*+*+*+*+*+*+*+*+*+*+*+*+*+*+\n"
          ],
          "name": "stdout"
        },
        {
          "output_type": "stream",
          "text": [
            "100%|██████████| 11/11 [00:02<00:00,  3.72it/s]\n",
            "100%|██████████| 11/11 [00:00<00:00, 34.42it/s]\n"
          ],
          "name": "stderr"
        },
        {
          "output_type": "stream",
          "text": [
            "(9100, 4990)\n",
            "(654, 4989)\n"
          ],
          "name": "stdout"
        },
        {
          "output_type": "stream",
          "text": [
            "[12.6GB(-0.0GB): 10.167sec] fit X\n",
            "[12.6GB(+0.0GB): 7.497sec] fit Y\n"
          ],
          "name": "stderr"
        },
        {
          "output_type": "stream",
          "text": [
            "fold 0: mean position error 2.802767473479078\n"
          ],
          "name": "stdout"
        },
        {
          "output_type": "stream",
          "text": [
            "[12.6GB(-0.0GB): 9.108sec] fit X\n",
            "[12.6GB(-0.0GB): 8.862sec] fit Y\n"
          ],
          "name": "stderr"
        },
        {
          "output_type": "stream",
          "text": [
            "fold 1: mean position error 2.8169976434021815\n"
          ],
          "name": "stdout"
        },
        {
          "output_type": "stream",
          "text": [
            "[12.6GB(+0.0GB): 9.751sec] fit X\n",
            "[12.6GB(+0.0GB): 11.253sec] fit Y\n"
          ],
          "name": "stderr"
        },
        {
          "output_type": "stream",
          "text": [
            "fold 2: mean position error 2.7855997302860778\n"
          ],
          "name": "stdout"
        },
        {
          "output_type": "stream",
          "text": [
            "[12.6GB(+0.0GB): 7.353sec] fit X\n",
            "[12.6GB(+0.0GB): 8.474sec] fit Y\n"
          ],
          "name": "stderr"
        },
        {
          "output_type": "stream",
          "text": [
            "fold 3: mean position error 2.7068797558017375\n"
          ],
          "name": "stdout"
        },
        {
          "output_type": "stream",
          "text": [
            "[12.6GB(-0.0GB): 7.694sec] fit X\n",
            "[12.6GB(+0.0GB): 9.043sec] fit Y\n"
          ],
          "name": "stderr"
        },
        {
          "output_type": "stream",
          "text": [
            "fold 4: mean position error 2.9026309613611176\n"
          ],
          "name": "stdout"
        },
        {
          "output_type": "stream",
          "text": [
            "[12.6GB(+0.0GB): 7.511sec] fit X\n",
            "[12.6GB(+0.0GB): 8.411sec] fit Y\n"
          ],
          "name": "stderr"
        },
        {
          "output_type": "stream",
          "text": [
            "fold 5: mean position error 2.9401921318757145\n"
          ],
          "name": "stdout"
        },
        {
          "output_type": "stream",
          "text": [
            "[12.6GB(+0.0GB): 7.525sec] fit X\n",
            "[12.6GB(+0.0GB): 12.109sec] fit Y\n"
          ],
          "name": "stderr"
        },
        {
          "output_type": "stream",
          "text": [
            "fold 6: mean position error 2.70097775560113\n"
          ],
          "name": "stdout"
        },
        {
          "output_type": "stream",
          "text": [
            "[12.6GB(+0.0GB): 8.372sec] fit X\n",
            "[12.6GB(+0.0GB): 7.539sec] fit Y\n"
          ],
          "name": "stderr"
        },
        {
          "output_type": "stream",
          "text": [
            "fold 7: mean position error 2.954322715936783\n"
          ],
          "name": "stdout"
        },
        {
          "output_type": "stream",
          "text": [
            "[12.6GB(+0.0GB): 9.524sec] fit X\n",
            "[12.6GB(+0.0GB): 8.962sec] fit Y\n"
          ],
          "name": "stderr"
        },
        {
          "output_type": "stream",
          "text": [
            "fold 8: mean position error 2.777657643382637\n"
          ],
          "name": "stdout"
        },
        {
          "output_type": "stream",
          "text": [
            "[12.6GB(+0.0GB): 7.764sec] fit X\n",
            "[12.6GB(+0.0GB): 9.296sec] fit Y\n"
          ],
          "name": "stderr"
        },
        {
          "output_type": "stream",
          "text": [
            "fold 9: mean position error 2.818649065196346\n",
            "*+*+*+*+*+*+*+*+*+*+*+*+*+*+*+*+*+*+*+*+*+*+*+*+*+*+*+*+*+*+*+*+*+*+*+*+*+*+*+*+\n",
            "file #3, shape=(9100, 4990), name=5d27096c03f801723c31e5e0_train.csv\n",
            "mean position error 2.82066748763228\n",
            "*+*+*+*+*+*+*+*+*+*+*+*+*+*+*+*+*+*+*+*+*+*+*+*+*+*+*+*+*+*+*+*+*+*+*+*+*+*+*+*+\n"
          ],
          "name": "stdout"
        },
        {
          "output_type": "stream",
          "text": [
            "/usr/local/lib/python3.7/dist-packages/IPython/core/interactiveshell.py:2718: DtypeWarning: Columns (2491,2492,2493,2497) have mixed types.Specify dtype option on import or set low_memory=False.\n",
            "  interactivity=interactivity, compiler=compiler, result=result)\n",
            "100%|██████████| 11/11 [00:02<00:00,  4.93it/s]\n",
            "100%|██████████| 11/11 [00:00<00:00, 106.53it/s]\n"
          ],
          "name": "stderr"
        },
        {
          "output_type": "stream",
          "text": [
            "(10507, 2516)\n",
            "(303, 2515)\n"
          ],
          "name": "stdout"
        },
        {
          "output_type": "stream",
          "text": [
            "[12.6GB(+0.0GB): 13.839sec] fit X\n",
            "[12.6GB(+0.0GB): 10.325sec] fit Y\n"
          ],
          "name": "stderr"
        },
        {
          "output_type": "stream",
          "text": [
            "fold 0: mean position error 5.502911068611007\n"
          ],
          "name": "stdout"
        },
        {
          "output_type": "stream",
          "text": [
            "[12.5GB(-0.0GB): 12.229sec] fit X\n",
            "[12.5GB(+0.0GB): 11.965sec] fit Y\n"
          ],
          "name": "stderr"
        },
        {
          "output_type": "stream",
          "text": [
            "fold 1: mean position error 5.498635137117469\n"
          ],
          "name": "stdout"
        },
        {
          "output_type": "stream",
          "text": [
            "[12.5GB(+0.0GB): 11.114sec] fit X\n",
            "[12.5GB(+0.0GB): 12.012sec] fit Y\n"
          ],
          "name": "stderr"
        },
        {
          "output_type": "stream",
          "text": [
            "fold 2: mean position error 5.4417483465175325\n"
          ],
          "name": "stdout"
        },
        {
          "output_type": "stream",
          "text": [
            "[12.5GB(+0.0GB): 12.359sec] fit X\n",
            "[12.5GB(+0.0GB): 16.993sec] fit Y\n"
          ],
          "name": "stderr"
        },
        {
          "output_type": "stream",
          "text": [
            "fold 3: mean position error 5.379570542703984\n"
          ],
          "name": "stdout"
        },
        {
          "output_type": "stream",
          "text": [
            "[12.5GB(+0.0GB): 14.001sec] fit X\n",
            "[12.5GB(+0.0GB): 9.311sec] fit Y\n"
          ],
          "name": "stderr"
        },
        {
          "output_type": "stream",
          "text": [
            "fold 4: mean position error 5.381983792086161\n"
          ],
          "name": "stdout"
        },
        {
          "output_type": "stream",
          "text": [
            "[12.5GB(+0.0GB): 12.713sec] fit X\n",
            "[12.5GB(+0.0GB): 11.631sec] fit Y\n"
          ],
          "name": "stderr"
        },
        {
          "output_type": "stream",
          "text": [
            "fold 5: mean position error 5.278160099308961\n"
          ],
          "name": "stdout"
        },
        {
          "output_type": "stream",
          "text": [
            "[12.5GB(+0.0GB): 14.987sec] fit X\n",
            "[12.5GB(+0.0GB): 8.862sec] fit Y\n"
          ],
          "name": "stderr"
        },
        {
          "output_type": "stream",
          "text": [
            "fold 6: mean position error 5.42819246848394\n"
          ],
          "name": "stdout"
        },
        {
          "output_type": "stream",
          "text": [
            "[12.5GB(+0.0GB): 8.882sec] fit X\n",
            "[12.5GB(+0.0GB): 10.985sec] fit Y\n"
          ],
          "name": "stderr"
        },
        {
          "output_type": "stream",
          "text": [
            "fold 7: mean position error 5.36151588758905\n"
          ],
          "name": "stdout"
        },
        {
          "output_type": "stream",
          "text": [
            "[12.5GB(+0.0GB): 11.551sec] fit X\n",
            "[12.5GB(+0.0GB): 12.394sec] fit Y\n"
          ],
          "name": "stderr"
        },
        {
          "output_type": "stream",
          "text": [
            "fold 8: mean position error 5.607170394729833\n"
          ],
          "name": "stdout"
        },
        {
          "output_type": "stream",
          "text": [
            "[12.5GB(+0.0GB): 10.569sec] fit X\n",
            "[12.5GB(+0.0GB): 10.080sec] fit Y\n"
          ],
          "name": "stderr"
        },
        {
          "output_type": "stream",
          "text": [
            "fold 9: mean position error 5.398590074901515\n",
            "*+*+*+*+*+*+*+*+*+*+*+*+*+*+*+*+*+*+*+*+*+*+*+*+*+*+*+*+*+*+*+*+*+*+*+*+*+*+*+*+\n",
            "file #4, shape=(10507, 2516), name=5d27097f03f801723c320d97_train.csv\n",
            "mean position error 5.42783981194506\n",
            "*+*+*+*+*+*+*+*+*+*+*+*+*+*+*+*+*+*+*+*+*+*+*+*+*+*+*+*+*+*+*+*+*+*+*+*+*+*+*+*+\n"
          ],
          "name": "stdout"
        },
        {
          "output_type": "stream",
          "text": [
            "100%|██████████| 11/11 [00:00<00:00, 25.48it/s]\n",
            "100%|██████████| 11/11 [00:00<00:00, 193.22it/s]\n"
          ],
          "name": "stderr"
        },
        {
          "output_type": "stream",
          "text": [
            "(4251, 951)\n",
            "(49, 950)\n"
          ],
          "name": "stdout"
        },
        {
          "output_type": "stream",
          "text": [
            "[12.5GB(+0.0GB): 2.178sec] fit X\n",
            "[12.5GB(+0.0GB): 2.803sec] fit Y\n"
          ],
          "name": "stderr"
        },
        {
          "output_type": "stream",
          "text": [
            "fold 0: mean position error 2.758055638129286\n"
          ],
          "name": "stdout"
        },
        {
          "output_type": "stream",
          "text": [
            "[12.5GB(+0.0GB): 1.929sec] fit X\n",
            "[12.5GB(+0.0GB): 2.222sec] fit Y\n"
          ],
          "name": "stderr"
        },
        {
          "output_type": "stream",
          "text": [
            "fold 1: mean position error 2.7511274058308315\n"
          ],
          "name": "stdout"
        },
        {
          "output_type": "stream",
          "text": [
            "[12.5GB(+0.0GB): 2.498sec] fit X\n",
            "[12.5GB(+0.0GB): 1.853sec] fit Y\n"
          ],
          "name": "stderr"
        },
        {
          "output_type": "stream",
          "text": [
            "fold 2: mean position error 2.7128050357444247\n"
          ],
          "name": "stdout"
        },
        {
          "output_type": "stream",
          "text": [
            "[12.5GB(+0.0GB): 1.481sec] fit X\n",
            "[12.5GB(+0.0GB): 2.323sec] fit Y\n"
          ],
          "name": "stderr"
        },
        {
          "output_type": "stream",
          "text": [
            "fold 3: mean position error 3.0547056495065195\n"
          ],
          "name": "stdout"
        },
        {
          "output_type": "stream",
          "text": [
            "[12.5GB(+0.0GB): 1.848sec] fit X\n",
            "[12.5GB(+0.0GB): 1.439sec] fit Y\n"
          ],
          "name": "stderr"
        },
        {
          "output_type": "stream",
          "text": [
            "fold 4: mean position error 2.861287996158351\n"
          ],
          "name": "stdout"
        },
        {
          "output_type": "stream",
          "text": [
            "[12.5GB(+0.0GB): 1.979sec] fit X\n",
            "[12.5GB(+0.0GB): 1.876sec] fit Y\n"
          ],
          "name": "stderr"
        },
        {
          "output_type": "stream",
          "text": [
            "fold 5: mean position error 2.9318784564548395\n"
          ],
          "name": "stdout"
        },
        {
          "output_type": "stream",
          "text": [
            "[12.5GB(+0.0GB): 1.516sec] fit X\n",
            "[12.5GB(+0.0GB): 2.356sec] fit Y\n"
          ],
          "name": "stderr"
        },
        {
          "output_type": "stream",
          "text": [
            "fold 6: mean position error 2.6744656944098826\n"
          ],
          "name": "stdout"
        },
        {
          "output_type": "stream",
          "text": [
            "[12.5GB(+0.0GB): 2.058sec] fit X\n",
            "[12.5GB(+0.0GB): 2.423sec] fit Y\n"
          ],
          "name": "stderr"
        },
        {
          "output_type": "stream",
          "text": [
            "fold 7: mean position error 2.901783703140838\n"
          ],
          "name": "stdout"
        },
        {
          "output_type": "stream",
          "text": [
            "[12.5GB(+0.0GB): 1.887sec] fit X\n",
            "[12.5GB(+0.0GB): 1.896sec] fit Y\n"
          ],
          "name": "stderr"
        },
        {
          "output_type": "stream",
          "text": [
            "fold 8: mean position error 2.748494012608884\n"
          ],
          "name": "stdout"
        },
        {
          "output_type": "stream",
          "text": [
            "[12.5GB(+0.0GB): 1.720sec] fit X\n",
            "[12.5GB(+0.0GB): 2.878sec] fit Y\n"
          ],
          "name": "stderr"
        },
        {
          "output_type": "stream",
          "text": [
            "fold 9: mean position error 2.9312952830159547\n",
            "*+*+*+*+*+*+*+*+*+*+*+*+*+*+*+*+*+*+*+*+*+*+*+*+*+*+*+*+*+*+*+*+*+*+*+*+*+*+*+*+\n",
            "file #5, shape=(4251, 951), name=5d27099f03f801723c32511d_train.csv\n",
            "mean position error 2.832572354155034\n",
            "*+*+*+*+*+*+*+*+*+*+*+*+*+*+*+*+*+*+*+*+*+*+*+*+*+*+*+*+*+*+*+*+*+*+*+*+*+*+*+*+\n"
          ],
          "name": "stdout"
        },
        {
          "output_type": "stream",
          "text": [
            "100%|██████████| 11/11 [00:00<00:00, 22.23it/s]\n",
            "100%|██████████| 11/11 [00:00<00:00, 162.30it/s]\n"
          ],
          "name": "stderr"
        },
        {
          "output_type": "stream",
          "text": [
            "(3940, 1278)\n",
            "(218, 1277)\n"
          ],
          "name": "stdout"
        },
        {
          "output_type": "stream",
          "text": [
            "[12.5GB(+0.0GB): 1.990sec] fit X\n",
            "[12.5GB(+0.0GB): 1.687sec] fit Y\n"
          ],
          "name": "stderr"
        },
        {
          "output_type": "stream",
          "text": [
            "fold 0: mean position error 3.130339337876352\n"
          ],
          "name": "stdout"
        },
        {
          "output_type": "stream",
          "text": [
            "[12.5GB(+0.0GB): 2.264sec] fit X\n",
            "[12.5GB(+0.0GB): 2.671sec] fit Y\n"
          ],
          "name": "stderr"
        },
        {
          "output_type": "stream",
          "text": [
            "fold 1: mean position error 3.236116710542633\n"
          ],
          "name": "stdout"
        },
        {
          "output_type": "stream",
          "text": [
            "[12.5GB(+0.0GB): 1.784sec] fit X\n",
            "[12.5GB(+0.0GB): 2.366sec] fit Y\n"
          ],
          "name": "stderr"
        },
        {
          "output_type": "stream",
          "text": [
            "fold 2: mean position error 3.2029751811936458\n"
          ],
          "name": "stdout"
        },
        {
          "output_type": "stream",
          "text": [
            "[12.5GB(+0.0GB): 2.293sec] fit X\n",
            "[12.5GB(+0.0GB): 3.494sec] fit Y\n"
          ],
          "name": "stderr"
        },
        {
          "output_type": "stream",
          "text": [
            "fold 3: mean position error 3.118852093477707\n"
          ],
          "name": "stdout"
        },
        {
          "output_type": "stream",
          "text": [
            "[12.5GB(+0.0GB): 1.763sec] fit X\n",
            "[12.5GB(+0.0GB): 2.494sec] fit Y\n"
          ],
          "name": "stderr"
        },
        {
          "output_type": "stream",
          "text": [
            "fold 4: mean position error 3.4038368030073936\n"
          ],
          "name": "stdout"
        },
        {
          "output_type": "stream",
          "text": [
            "[12.5GB(+0.0GB): 2.675sec] fit X\n",
            "[12.5GB(+0.0GB): 1.670sec] fit Y\n"
          ],
          "name": "stderr"
        },
        {
          "output_type": "stream",
          "text": [
            "fold 5: mean position error 3.3199010397301034\n"
          ],
          "name": "stdout"
        },
        {
          "output_type": "stream",
          "text": [
            "[12.5GB(+0.0GB): 2.866sec] fit X\n",
            "[12.5GB(+0.0GB): 2.025sec] fit Y\n"
          ],
          "name": "stderr"
        },
        {
          "output_type": "stream",
          "text": [
            "fold 6: mean position error 3.1828952341385683\n"
          ],
          "name": "stdout"
        },
        {
          "output_type": "stream",
          "text": [
            "[12.5GB(+0.0GB): 2.488sec] fit X\n",
            "[12.5GB(+0.0GB): 2.292sec] fit Y\n"
          ],
          "name": "stderr"
        },
        {
          "output_type": "stream",
          "text": [
            "fold 7: mean position error 3.1376024933970452\n"
          ],
          "name": "stdout"
        },
        {
          "output_type": "stream",
          "text": [
            "[12.5GB(+0.0GB): 2.154sec] fit X\n",
            "[12.5GB(+0.0GB): 1.813sec] fit Y\n"
          ],
          "name": "stderr"
        },
        {
          "output_type": "stream",
          "text": [
            "fold 8: mean position error 3.151338986346742\n"
          ],
          "name": "stdout"
        },
        {
          "output_type": "stream",
          "text": [
            "[12.5GB(+0.0GB): 2.045sec] fit X\n",
            "[12.5GB(+0.0GB): 2.124sec] fit Y\n"
          ],
          "name": "stderr"
        },
        {
          "output_type": "stream",
          "text": [
            "fold 9: mean position error 3.066460797980598\n",
            "*+*+*+*+*+*+*+*+*+*+*+*+*+*+*+*+*+*+*+*+*+*+*+*+*+*+*+*+*+*+*+*+*+*+*+*+*+*+*+*+\n",
            "file #6, shape=(3940, 1278), name=5d2709a003f801723c3251bf_train.csv\n",
            "mean position error 3.195031867769079\n",
            "*+*+*+*+*+*+*+*+*+*+*+*+*+*+*+*+*+*+*+*+*+*+*+*+*+*+*+*+*+*+*+*+*+*+*+*+*+*+*+*+\n"
          ],
          "name": "stdout"
        },
        {
          "output_type": "stream",
          "text": [
            "100%|██████████| 11/11 [00:02<00:00,  4.37it/s]\n",
            "100%|██████████| 11/11 [00:00<00:00, 80.83it/s]\n"
          ],
          "name": "stderr"
        },
        {
          "output_type": "stream",
          "text": [
            "(15358, 1939)\n",
            "(527, 1938)\n"
          ],
          "name": "stdout"
        },
        {
          "output_type": "stream",
          "text": [
            "[12.5GB(+0.0GB): 21.652sec] fit X\n",
            "[12.5GB(+0.0GB): 19.092sec] fit Y\n"
          ],
          "name": "stderr"
        },
        {
          "output_type": "stream",
          "text": [
            "fold 0: mean position error 3.3369497408966375\n"
          ],
          "name": "stdout"
        },
        {
          "output_type": "stream",
          "text": [
            "[12.5GB(+0.0GB): 20.648sec] fit X\n",
            "[12.5GB(+0.0GB): 20.723sec] fit Y\n"
          ],
          "name": "stderr"
        },
        {
          "output_type": "stream",
          "text": [
            "fold 1: mean position error 3.227467928104964\n"
          ],
          "name": "stdout"
        },
        {
          "output_type": "stream",
          "text": [
            "[12.5GB(+0.0GB): 14.247sec] fit X\n",
            "[12.5GB(+0.0GB): 18.419sec] fit Y\n"
          ],
          "name": "stderr"
        },
        {
          "output_type": "stream",
          "text": [
            "fold 2: mean position error 3.3143363614528343\n"
          ],
          "name": "stdout"
        },
        {
          "output_type": "stream",
          "text": [
            "[12.5GB(+0.0GB): 26.550sec] fit X\n",
            "[12.5GB(+0.0GB): 18.301sec] fit Y\n"
          ],
          "name": "stderr"
        },
        {
          "output_type": "stream",
          "text": [
            "fold 3: mean position error 3.298363270649041\n"
          ],
          "name": "stdout"
        },
        {
          "output_type": "stream",
          "text": [
            "[12.5GB(+0.0GB): 19.236sec] fit X\n",
            "[12.5GB(+0.0GB): 19.534sec] fit Y\n"
          ],
          "name": "stderr"
        },
        {
          "output_type": "stream",
          "text": [
            "fold 4: mean position error 3.318420609057011\n"
          ],
          "name": "stdout"
        },
        {
          "output_type": "stream",
          "text": [
            "[12.5GB(+0.0GB): 19.556sec] fit X\n",
            "[12.5GB(+0.0GB): 14.831sec] fit Y\n"
          ],
          "name": "stderr"
        },
        {
          "output_type": "stream",
          "text": [
            "fold 5: mean position error 3.360041597599738\n"
          ],
          "name": "stdout"
        },
        {
          "output_type": "stream",
          "text": [
            "[12.5GB(+0.0GB): 19.535sec] fit X\n",
            "[12.5GB(+0.0GB): 16.343sec] fit Y\n"
          ],
          "name": "stderr"
        },
        {
          "output_type": "stream",
          "text": [
            "fold 6: mean position error 3.3087061989726663\n"
          ],
          "name": "stdout"
        },
        {
          "output_type": "stream",
          "text": [
            "[12.5GB(+0.0GB): 17.888sec] fit X\n",
            "[12.5GB(+0.0GB): 18.166sec] fit Y\n"
          ],
          "name": "stderr"
        },
        {
          "output_type": "stream",
          "text": [
            "fold 7: mean position error 3.2800411092966364\n"
          ],
          "name": "stdout"
        },
        {
          "output_type": "stream",
          "text": [
            "[12.5GB(+0.0GB): 18.385sec] fit X\n",
            "[12.5GB(+0.0GB): 18.114sec] fit Y\n"
          ],
          "name": "stderr"
        },
        {
          "output_type": "stream",
          "text": [
            "fold 8: mean position error 3.2578826771612013\n"
          ],
          "name": "stdout"
        },
        {
          "output_type": "stream",
          "text": [
            "[12.5GB(+0.0GB): 17.618sec] fit X\n",
            "[12.5GB(+0.0GB): 15.190sec] fit Y\n"
          ],
          "name": "stderr"
        },
        {
          "output_type": "stream",
          "text": [
            "fold 9: mean position error 3.228925180263152\n",
            "*+*+*+*+*+*+*+*+*+*+*+*+*+*+*+*+*+*+*+*+*+*+*+*+*+*+*+*+*+*+*+*+*+*+*+*+*+*+*+*+\n",
            "file #7, shape=(15358, 1939), name=5d2709b303f801723c327472_train.csv\n",
            "mean position error 3.29311994078446\n",
            "*+*+*+*+*+*+*+*+*+*+*+*+*+*+*+*+*+*+*+*+*+*+*+*+*+*+*+*+*+*+*+*+*+*+*+*+*+*+*+*+\n"
          ],
          "name": "stdout"
        },
        {
          "output_type": "stream",
          "text": [
            "/usr/local/lib/python3.7/dist-packages/IPython/core/interactiveshell.py:2718: DtypeWarning: Columns (2453,2454,2455,2459) have mixed types.Specify dtype option on import or set low_memory=False.\n",
            "  interactivity=interactivity, compiler=compiler, result=result)\n",
            "100%|██████████| 11/11 [00:02<00:00,  4.43it/s]\n",
            "100%|██████████| 11/11 [00:00<00:00, 58.05it/s]\n"
          ],
          "name": "stderr"
        },
        {
          "output_type": "stream",
          "text": [
            "(17203, 2478)\n",
            "(716, 2477)\n"
          ],
          "name": "stdout"
        },
        {
          "output_type": "stream",
          "text": [
            "[12.5GB(+0.0GB): 23.237sec] fit X\n",
            "[12.5GB(+0.0GB): 16.989sec] fit Y\n"
          ],
          "name": "stderr"
        },
        {
          "output_type": "stream",
          "text": [
            "fold 0: mean position error 3.7861697366986466\n"
          ],
          "name": "stdout"
        },
        {
          "output_type": "stream",
          "text": [
            "[12.5GB(+0.0GB): 23.253sec] fit X\n",
            "[12.5GB(+0.0GB): 16.288sec] fit Y\n"
          ],
          "name": "stderr"
        },
        {
          "output_type": "stream",
          "text": [
            "fold 1: mean position error 3.8732051668109215\n"
          ],
          "name": "stdout"
        },
        {
          "output_type": "stream",
          "text": [
            "[12.5GB(+0.0GB): 29.040sec] fit X\n",
            "[12.5GB(+0.0GB): 19.273sec] fit Y\n"
          ],
          "name": "stderr"
        },
        {
          "output_type": "stream",
          "text": [
            "fold 2: mean position error 3.6225977622352565\n"
          ],
          "name": "stdout"
        },
        {
          "output_type": "stream",
          "text": [
            "[12.5GB(+0.0GB): 24.339sec] fit X\n",
            "[12.5GB(+0.0GB): 26.168sec] fit Y\n"
          ],
          "name": "stderr"
        },
        {
          "output_type": "stream",
          "text": [
            "fold 3: mean position error 3.791042125484023\n"
          ],
          "name": "stdout"
        },
        {
          "output_type": "stream",
          "text": [
            "[12.5GB(+0.0GB): 23.289sec] fit X\n",
            "[12.5GB(+0.0GB): 21.115sec] fit Y\n"
          ],
          "name": "stderr"
        },
        {
          "output_type": "stream",
          "text": [
            "fold 4: mean position error 3.5484545565628234\n"
          ],
          "name": "stdout"
        },
        {
          "output_type": "stream",
          "text": [
            "[12.5GB(+0.0GB): 23.422sec] fit X\n",
            "[12.5GB(+0.0GB): 22.211sec] fit Y\n"
          ],
          "name": "stderr"
        },
        {
          "output_type": "stream",
          "text": [
            "fold 5: mean position error 3.6737453177872648\n"
          ],
          "name": "stdout"
        },
        {
          "output_type": "stream",
          "text": [
            "[12.5GB(+0.0GB): 23.364sec] fit X\n",
            "[12.5GB(+0.0GB): 17.582sec] fit Y\n"
          ],
          "name": "stderr"
        },
        {
          "output_type": "stream",
          "text": [
            "fold 6: mean position error 3.6205919050141895\n"
          ],
          "name": "stdout"
        },
        {
          "output_type": "stream",
          "text": [
            "[12.5GB(+0.0GB): 17.047sec] fit X\n",
            "[12.5GB(+0.0GB): 26.887sec] fit Y\n"
          ],
          "name": "stderr"
        },
        {
          "output_type": "stream",
          "text": [
            "fold 7: mean position error 3.692782184358471\n"
          ],
          "name": "stdout"
        },
        {
          "output_type": "stream",
          "text": [
            "[12.5GB(+0.0GB): 23.516sec] fit X\n",
            "[12.5GB(+0.0GB): 19.703sec] fit Y\n"
          ],
          "name": "stderr"
        },
        {
          "output_type": "stream",
          "text": [
            "fold 8: mean position error 3.761580472705695\n"
          ],
          "name": "stdout"
        },
        {
          "output_type": "stream",
          "text": [
            "[12.5GB(+0.0GB): 19.633sec] fit X\n",
            "[12.5GB(+0.0GB): 27.786sec] fit Y\n"
          ],
          "name": "stderr"
        },
        {
          "output_type": "stream",
          "text": [
            "fold 9: mean position error 3.6464950503338103\n",
            "*+*+*+*+*+*+*+*+*+*+*+*+*+*+*+*+*+*+*+*+*+*+*+*+*+*+*+*+*+*+*+*+*+*+*+*+*+*+*+*+\n",
            "file #8, shape=(17203, 2478), name=5d2709bb03f801723c32852c_train.csv\n",
            "mean position error 3.7016767151549406\n",
            "*+*+*+*+*+*+*+*+*+*+*+*+*+*+*+*+*+*+*+*+*+*+*+*+*+*+*+*+*+*+*+*+*+*+*+*+*+*+*+*+\n"
          ],
          "name": "stdout"
        },
        {
          "output_type": "stream",
          "text": [
            "/usr/local/lib/python3.7/dist-packages/IPython/core/interactiveshell.py:2718: DtypeWarning: Columns (5832,5833,5834,5838) have mixed types.Specify dtype option on import or set low_memory=False.\n",
            "  interactivity=interactivity, compiler=compiler, result=result)\n",
            "100%|██████████| 11/11 [00:03<00:00,  3.45it/s]\n",
            "100%|██████████| 11/11 [00:00<00:00, 42.07it/s]\n"
          ],
          "name": "stderr"
        },
        {
          "output_type": "stream",
          "text": [
            "(10083, 5857)\n",
            "(509, 5856)\n"
          ],
          "name": "stdout"
        },
        {
          "output_type": "stream",
          "text": [
            "[12.6GB(-0.0GB): 29.951sec] fit X\n",
            "[12.6GB(+0.0GB): 27.083sec] fit Y\n"
          ],
          "name": "stderr"
        },
        {
          "output_type": "stream",
          "text": [
            "fold 0: mean position error 3.9394067007029427\n"
          ],
          "name": "stdout"
        },
        {
          "output_type": "stream",
          "text": [
            "[12.6GB(+0.0GB): 26.136sec] fit X\n",
            "[12.6GB(-0.0GB): 39.297sec] fit Y\n"
          ],
          "name": "stderr"
        },
        {
          "output_type": "stream",
          "text": [
            "fold 1: mean position error 3.823195835547679\n"
          ],
          "name": "stdout"
        },
        {
          "output_type": "stream",
          "text": [
            "[12.6GB(+0.0GB): 26.756sec] fit X\n",
            "[12.6GB(+0.0GB): 27.822sec] fit Y\n"
          ],
          "name": "stderr"
        },
        {
          "output_type": "stream",
          "text": [
            "fold 2: mean position error 3.847995327586952\n"
          ],
          "name": "stdout"
        },
        {
          "output_type": "stream",
          "text": [
            "[12.6GB(+0.0GB): 25.550sec] fit X\n",
            "[12.6GB(+0.0GB): 36.147sec] fit Y\n"
          ],
          "name": "stderr"
        },
        {
          "output_type": "stream",
          "text": [
            "fold 3: mean position error 3.9024377674073274\n"
          ],
          "name": "stdout"
        },
        {
          "output_type": "stream",
          "text": [
            "[12.6GB(+0.0GB): 26.205sec] fit X\n",
            "[12.6GB(+0.0GB): 37.212sec] fit Y\n"
          ],
          "name": "stderr"
        },
        {
          "output_type": "stream",
          "text": [
            "fold 4: mean position error 3.852412112472702\n"
          ],
          "name": "stdout"
        },
        {
          "output_type": "stream",
          "text": [
            "[12.6GB(+0.0GB): 27.749sec] fit X\n",
            "[12.6GB(+0.0GB): 30.387sec] fit Y\n"
          ],
          "name": "stderr"
        },
        {
          "output_type": "stream",
          "text": [
            "fold 5: mean position error 3.9484196430886493\n"
          ],
          "name": "stdout"
        },
        {
          "output_type": "stream",
          "text": [
            "[12.6GB(-0.0GB): 28.086sec] fit X\n",
            "[12.6GB(+0.0GB): 25.676sec] fit Y\n"
          ],
          "name": "stderr"
        },
        {
          "output_type": "stream",
          "text": [
            "fold 6: mean position error 4.150931497503846\n"
          ],
          "name": "stdout"
        },
        {
          "output_type": "stream",
          "text": [
            "[12.6GB(+0.0GB): 25.298sec] fit X\n",
            "[12.6GB(+0.0GB): 40.333sec] fit Y\n"
          ],
          "name": "stderr"
        },
        {
          "output_type": "stream",
          "text": [
            "fold 7: mean position error 3.883429820302203\n"
          ],
          "name": "stdout"
        },
        {
          "output_type": "stream",
          "text": [
            "[12.6GB(+0.0GB): 26.814sec] fit X\n",
            "[12.6GB(+0.0GB): 20.092sec] fit Y\n"
          ],
          "name": "stderr"
        },
        {
          "output_type": "stream",
          "text": [
            "fold 8: mean position error 4.348558842888245\n"
          ],
          "name": "stdout"
        },
        {
          "output_type": "stream",
          "text": [
            "[12.6GB(+0.0GB): 25.205sec] fit X\n",
            "[12.6GB(+0.0GB): 27.814sec] fit Y\n"
          ],
          "name": "stderr"
        },
        {
          "output_type": "stream",
          "text": [
            "fold 9: mean position error 3.8947153010431617\n",
            "*+*+*+*+*+*+*+*+*+*+*+*+*+*+*+*+*+*+*+*+*+*+*+*+*+*+*+*+*+*+*+*+*+*+*+*+*+*+*+*+\n",
            "file #9, shape=(10083, 5857), name=5d2709c303f801723c3299ee_train.csv\n",
            "mean position error 3.9591238192200633\n",
            "*+*+*+*+*+*+*+*+*+*+*+*+*+*+*+*+*+*+*+*+*+*+*+*+*+*+*+*+*+*+*+*+*+*+*+*+*+*+*+*+\n"
          ],
          "name": "stdout"
        },
        {
          "output_type": "stream",
          "text": [
            "/usr/local/lib/python3.7/dist-packages/IPython/core/interactiveshell.py:2718: DtypeWarning: Columns (2140,2141,2142,2146) have mixed types.Specify dtype option on import or set low_memory=False.\n",
            "  interactivity=interactivity, compiler=compiler, result=result)\n",
            "100%|██████████| 11/11 [00:01<00:00,  6.08it/s]\n",
            "100%|██████████| 11/11 [00:00<00:00, 45.25it/s]\n"
          ],
          "name": "stderr"
        },
        {
          "output_type": "stream",
          "text": [
            "(10027, 2165)\n",
            "(1223, 2164)\n"
          ],
          "name": "stdout"
        },
        {
          "output_type": "stream",
          "text": [
            "[12.6GB(+0.0GB): 9.955sec] fit X\n",
            "[12.6GB(+0.0GB): 12.278sec] fit Y\n"
          ],
          "name": "stderr"
        },
        {
          "output_type": "stream",
          "text": [
            "fold 0: mean position error 3.039583001739766\n"
          ],
          "name": "stdout"
        },
        {
          "output_type": "stream",
          "text": [
            "[12.6GB(+0.0GB): 8.273sec] fit X\n",
            "[12.6GB(+0.0GB): 9.966sec] fit Y\n"
          ],
          "name": "stderr"
        },
        {
          "output_type": "stream",
          "text": [
            "fold 1: mean position error 2.929874950685336\n"
          ],
          "name": "stdout"
        },
        {
          "output_type": "stream",
          "text": [
            "[12.6GB(+0.0GB): 8.358sec] fit X\n",
            "[12.6GB(+0.0GB): 8.237sec] fit Y\n"
          ],
          "name": "stderr"
        },
        {
          "output_type": "stream",
          "text": [
            "fold 2: mean position error 2.950898957767131\n"
          ],
          "name": "stdout"
        },
        {
          "output_type": "stream",
          "text": [
            "[12.6GB(+0.0GB): 10.487sec] fit X\n",
            "[12.6GB(+0.0GB): 10.498sec] fit Y\n"
          ],
          "name": "stderr"
        },
        {
          "output_type": "stream",
          "text": [
            "fold 3: mean position error 2.8659660128922844\n"
          ],
          "name": "stdout"
        },
        {
          "output_type": "stream",
          "text": [
            "[12.6GB(+0.0GB): 11.274sec] fit X\n",
            "[12.6GB(+0.0GB): 8.553sec] fit Y\n"
          ],
          "name": "stderr"
        },
        {
          "output_type": "stream",
          "text": [
            "fold 4: mean position error 2.969794305956894\n"
          ],
          "name": "stdout"
        },
        {
          "output_type": "stream",
          "text": [
            "[12.6GB(+0.0GB): 9.736sec] fit X\n",
            "[12.6GB(+0.0GB): 8.402sec] fit Y\n"
          ],
          "name": "stderr"
        },
        {
          "output_type": "stream",
          "text": [
            "fold 5: mean position error 2.891125212468979\n"
          ],
          "name": "stdout"
        },
        {
          "output_type": "stream",
          "text": [
            "[12.6GB(+0.0GB): 7.921sec] fit X\n",
            "[12.6GB(+0.0GB): 7.091sec] fit Y\n"
          ],
          "name": "stderr"
        },
        {
          "output_type": "stream",
          "text": [
            "fold 6: mean position error 2.876162382607033\n"
          ],
          "name": "stdout"
        },
        {
          "output_type": "stream",
          "text": [
            "[12.6GB(+0.0GB): 9.708sec] fit X\n",
            "[12.6GB(+0.0GB): 10.943sec] fit Y\n"
          ],
          "name": "stderr"
        },
        {
          "output_type": "stream",
          "text": [
            "fold 7: mean position error 2.908327707628007\n"
          ],
          "name": "stdout"
        },
        {
          "output_type": "stream",
          "text": [
            "[12.6GB(+0.0GB): 10.246sec] fit X\n",
            "[12.6GB(+0.0GB): 8.244sec] fit Y\n"
          ],
          "name": "stderr"
        },
        {
          "output_type": "stream",
          "text": [
            "fold 8: mean position error 2.7832335172144744\n"
          ],
          "name": "stdout"
        },
        {
          "output_type": "stream",
          "text": [
            "[12.6GB(+0.0GB): 10.783sec] fit X\n",
            "[12.6GB(+0.0GB): 11.743sec] fit Y\n"
          ],
          "name": "stderr"
        },
        {
          "output_type": "stream",
          "text": [
            "fold 9: mean position error 2.860663780809712\n",
            "*+*+*+*+*+*+*+*+*+*+*+*+*+*+*+*+*+*+*+*+*+*+*+*+*+*+*+*+*+*+*+*+*+*+*+*+*+*+*+*+\n",
            "file #10, shape=(10027, 2165), name=5d2709d403f801723c32bd39_train.csv\n",
            "mean position error 2.9075799834699585\n",
            "*+*+*+*+*+*+*+*+*+*+*+*+*+*+*+*+*+*+*+*+*+*+*+*+*+*+*+*+*+*+*+*+*+*+*+*+*+*+*+*+\n"
          ],
          "name": "stdout"
        },
        {
          "output_type": "stream",
          "text": [
            "100%|██████████| 11/11 [00:01<00:00,  8.39it/s]\n",
            "100%|██████████| 11/11 [00:00<00:00, 123.38it/s]\n"
          ],
          "name": "stderr"
        },
        {
          "output_type": "stream",
          "text": [
            "(11042, 1335)\n",
            "(531, 1334)\n"
          ],
          "name": "stdout"
        },
        {
          "output_type": "stream",
          "text": [
            "[12.6GB(+0.0GB): 6.466sec] fit X\n",
            "[12.6GB(+0.0GB): 6.317sec] fit Y\n"
          ],
          "name": "stderr"
        },
        {
          "output_type": "stream",
          "text": [
            "fold 0: mean position error 3.41321157510738\n"
          ],
          "name": "stdout"
        },
        {
          "output_type": "stream",
          "text": [
            "[12.6GB(+0.0GB): 8.456sec] fit X\n",
            "[12.6GB(+0.0GB): 7.128sec] fit Y\n"
          ],
          "name": "stderr"
        },
        {
          "output_type": "stream",
          "text": [
            "fold 1: mean position error 3.4549758995078554\n"
          ],
          "name": "stdout"
        },
        {
          "output_type": "stream",
          "text": [
            "[12.6GB(+0.0GB): 11.449sec] fit X\n",
            "[12.6GB(+0.0GB): 4.854sec] fit Y\n"
          ],
          "name": "stderr"
        },
        {
          "output_type": "stream",
          "text": [
            "fold 2: mean position error 3.419090896944596\n"
          ],
          "name": "stdout"
        },
        {
          "output_type": "stream",
          "text": [
            "[12.6GB(+0.0GB): 4.918sec] fit X\n",
            "[12.6GB(+0.0GB): 10.312sec] fit Y\n"
          ],
          "name": "stderr"
        },
        {
          "output_type": "stream",
          "text": [
            "fold 3: mean position error 3.484734682240222\n"
          ],
          "name": "stdout"
        },
        {
          "output_type": "stream",
          "text": [
            "[12.6GB(+0.0GB): 9.549sec] fit X\n",
            "[12.6GB(+0.0GB): 6.095sec] fit Y\n"
          ],
          "name": "stderr"
        },
        {
          "output_type": "stream",
          "text": [
            "fold 4: mean position error 3.5254174293843645\n"
          ],
          "name": "stdout"
        },
        {
          "output_type": "stream",
          "text": [
            "[12.6GB(+0.0GB): 7.964sec] fit X\n",
            "[12.6GB(+0.0GB): 7.967sec] fit Y\n"
          ],
          "name": "stderr"
        },
        {
          "output_type": "stream",
          "text": [
            "fold 5: mean position error 3.3885737595560896\n"
          ],
          "name": "stdout"
        },
        {
          "output_type": "stream",
          "text": [
            "[12.6GB(+0.0GB): 8.354sec] fit X\n",
            "[12.6GB(+0.0GB): 5.589sec] fit Y\n"
          ],
          "name": "stderr"
        },
        {
          "output_type": "stream",
          "text": [
            "fold 6: mean position error 3.52932330252589\n"
          ],
          "name": "stdout"
        },
        {
          "output_type": "stream",
          "text": [
            "[12.6GB(+0.0GB): 7.640sec] fit X\n",
            "[12.6GB(+0.0GB): 9.458sec] fit Y\n"
          ],
          "name": "stderr"
        },
        {
          "output_type": "stream",
          "text": [
            "fold 7: mean position error 3.438664678765167\n"
          ],
          "name": "stdout"
        },
        {
          "output_type": "stream",
          "text": [
            "[12.6GB(+0.0GB): 6.963sec] fit X\n",
            "[12.6GB(+0.0GB): 7.073sec] fit Y\n"
          ],
          "name": "stderr"
        },
        {
          "output_type": "stream",
          "text": [
            "fold 8: mean position error 3.4971525476052454\n"
          ],
          "name": "stdout"
        },
        {
          "output_type": "stream",
          "text": [
            "[12.6GB(+0.0GB): 7.456sec] fit X\n",
            "[12.6GB(+0.0GB): 8.495sec] fit Y\n"
          ],
          "name": "stderr"
        },
        {
          "output_type": "stream",
          "text": [
            "fold 9: mean position error 3.448555500128606\n",
            "*+*+*+*+*+*+*+*+*+*+*+*+*+*+*+*+*+*+*+*+*+*+*+*+*+*+*+*+*+*+*+*+*+*+*+*+*+*+*+*+\n",
            "file #11, shape=(11042, 1335), name=5d2709e003f801723c32d896_train.csv\n",
            "mean position error 3.459965340291943\n",
            "*+*+*+*+*+*+*+*+*+*+*+*+*+*+*+*+*+*+*+*+*+*+*+*+*+*+*+*+*+*+*+*+*+*+*+*+*+*+*+*+\n"
          ],
          "name": "stdout"
        },
        {
          "output_type": "stream",
          "text": [
            "100%|██████████| 11/11 [00:00<00:00, 70.11it/s]\n",
            "100%|██████████| 11/11 [00:00<00:00, 204.29it/s]\n"
          ],
          "name": "stderr"
        },
        {
          "output_type": "stream",
          "text": [
            "(2662, 516)\n",
            "(103, 515)\n"
          ],
          "name": "stdout"
        },
        {
          "output_type": "stream",
          "text": [
            "[12.6GB(+0.0GB): 0.524sec] fit X\n",
            "[12.6GB(+0.0GB): 0.683sec] fit Y\n"
          ],
          "name": "stderr"
        },
        {
          "output_type": "stream",
          "text": [
            "fold 0: mean position error 3.462720577169001\n"
          ],
          "name": "stdout"
        },
        {
          "output_type": "stream",
          "text": [
            "[12.6GB(+0.0GB): 0.660sec] fit X\n",
            "[12.6GB(+0.0GB): 0.641sec] fit Y\n"
          ],
          "name": "stderr"
        },
        {
          "output_type": "stream",
          "text": [
            "fold 1: mean position error 3.3265967245181405\n"
          ],
          "name": "stdout"
        },
        {
          "output_type": "stream",
          "text": [
            "[12.6GB(+0.0GB): 0.441sec] fit X\n",
            "[12.6GB(+0.0GB): 0.696sec] fit Y\n"
          ],
          "name": "stderr"
        },
        {
          "output_type": "stream",
          "text": [
            "fold 2: mean position error 3.5885414509983815\n"
          ],
          "name": "stdout"
        },
        {
          "output_type": "stream",
          "text": [
            "[12.6GB(+0.0GB): 0.583sec] fit X\n",
            "[12.6GB(+0.0GB): 0.796sec] fit Y\n"
          ],
          "name": "stderr"
        },
        {
          "output_type": "stream",
          "text": [
            "fold 3: mean position error 3.6504519818491574\n"
          ],
          "name": "stdout"
        },
        {
          "output_type": "stream",
          "text": [
            "[12.6GB(+0.0GB): 0.678sec] fit X\n",
            "[12.6GB(+0.0GB): 0.786sec] fit Y\n"
          ],
          "name": "stderr"
        },
        {
          "output_type": "stream",
          "text": [
            "fold 4: mean position error 3.5671552367191577\n"
          ],
          "name": "stdout"
        },
        {
          "output_type": "stream",
          "text": [
            "[12.6GB(+0.0GB): 0.798sec] fit X\n",
            "[12.6GB(+0.0GB): 0.749sec] fit Y\n"
          ],
          "name": "stderr"
        },
        {
          "output_type": "stream",
          "text": [
            "fold 5: mean position error 3.4614309299150903\n"
          ],
          "name": "stdout"
        },
        {
          "output_type": "stream",
          "text": [
            "[12.6GB(+0.0GB): 0.836sec] fit X\n",
            "[12.6GB(+0.0GB): 0.879sec] fit Y\n"
          ],
          "name": "stderr"
        },
        {
          "output_type": "stream",
          "text": [
            "fold 6: mean position error 3.4256035369208337\n"
          ],
          "name": "stdout"
        },
        {
          "output_type": "stream",
          "text": [
            "[12.6GB(+0.0GB): 0.501sec] fit X\n",
            "[12.6GB(+0.0GB): 0.651sec] fit Y\n"
          ],
          "name": "stderr"
        },
        {
          "output_type": "stream",
          "text": [
            "fold 7: mean position error 3.349590906475273\n"
          ],
          "name": "stdout"
        },
        {
          "output_type": "stream",
          "text": [
            "[12.6GB(+0.0GB): 0.598sec] fit X\n",
            "[12.6GB(+0.0GB): 0.598sec] fit Y\n"
          ],
          "name": "stderr"
        },
        {
          "output_type": "stream",
          "text": [
            "fold 8: mean position error 3.5260532091395973\n"
          ],
          "name": "stdout"
        },
        {
          "output_type": "stream",
          "text": [
            "[12.6GB(+0.0GB): 0.814sec] fit X\n",
            "[12.6GB(+0.0GB): 0.726sec] fit Y\n"
          ],
          "name": "stderr"
        },
        {
          "output_type": "stream",
          "text": [
            "fold 9: mean position error 3.8557664382671897\n",
            "*+*+*+*+*+*+*+*+*+*+*+*+*+*+*+*+*+*+*+*+*+*+*+*+*+*+*+*+*+*+*+*+*+*+*+*+*+*+*+*+\n",
            "file #12, shape=(2662, 516), name=5da138274db8ce0c98bbd3d2_train.csv\n",
            "mean position error 3.5212958832329795\n",
            "*+*+*+*+*+*+*+*+*+*+*+*+*+*+*+*+*+*+*+*+*+*+*+*+*+*+*+*+*+*+*+*+*+*+*+*+*+*+*+*+\n"
          ],
          "name": "stdout"
        },
        {
          "output_type": "stream",
          "text": [
            "100%|██████████| 11/11 [00:02<00:00,  5.23it/s]\n",
            "100%|██████████| 11/11 [00:00<00:00, 114.23it/s]\n"
          ],
          "name": "stderr"
        },
        {
          "output_type": "stream",
          "text": [
            "(8999, 2888)\n",
            "(311, 2887)\n"
          ],
          "name": "stdout"
        },
        {
          "output_type": "stream",
          "text": [
            "[12.6GB(+0.0GB): 13.313sec] fit X\n",
            "[12.6GB(+0.0GB): 11.276sec] fit Y\n"
          ],
          "name": "stderr"
        },
        {
          "output_type": "stream",
          "text": [
            "fold 0: mean position error 3.9116564949895656\n"
          ],
          "name": "stdout"
        },
        {
          "output_type": "stream",
          "text": [
            "[12.6GB(+0.0GB): 15.371sec] fit X\n",
            "[12.6GB(+0.0GB): 15.820sec] fit Y\n"
          ],
          "name": "stderr"
        },
        {
          "output_type": "stream",
          "text": [
            "fold 1: mean position error 3.894741293887356\n"
          ],
          "name": "stdout"
        },
        {
          "output_type": "stream",
          "text": [
            "[12.6GB(+0.0GB): 8.514sec] fit X\n",
            "[12.6GB(-0.0GB): 14.251sec] fit Y\n"
          ],
          "name": "stderr"
        },
        {
          "output_type": "stream",
          "text": [
            "fold 2: mean position error 4.029919167403132\n"
          ],
          "name": "stdout"
        },
        {
          "output_type": "stream",
          "text": [
            "[12.6GB(+0.0GB): 11.583sec] fit X\n",
            "[12.6GB(+0.0GB): 12.561sec] fit Y\n"
          ],
          "name": "stderr"
        },
        {
          "output_type": "stream",
          "text": [
            "fold 3: mean position error 3.903367676434345\n"
          ],
          "name": "stdout"
        },
        {
          "output_type": "stream",
          "text": [
            "[12.6GB(+0.0GB): 9.314sec] fit X\n",
            "[12.6GB(+0.0GB): 12.639sec] fit Y\n"
          ],
          "name": "stderr"
        },
        {
          "output_type": "stream",
          "text": [
            "fold 4: mean position error 3.987490325250512\n"
          ],
          "name": "stdout"
        },
        {
          "output_type": "stream",
          "text": [
            "[12.6GB(+0.0GB): 13.566sec] fit X\n",
            "[12.6GB(+0.0GB): 10.274sec] fit Y\n"
          ],
          "name": "stderr"
        },
        {
          "output_type": "stream",
          "text": [
            "fold 5: mean position error 3.890911947143079\n"
          ],
          "name": "stdout"
        },
        {
          "output_type": "stream",
          "text": [
            "[12.6GB(+0.0GB): 9.474sec] fit X\n",
            "[12.6GB(+0.0GB): 9.699sec] fit Y\n"
          ],
          "name": "stderr"
        },
        {
          "output_type": "stream",
          "text": [
            "fold 6: mean position error 3.8997408310995887\n"
          ],
          "name": "stdout"
        },
        {
          "output_type": "stream",
          "text": [
            "[12.6GB(+0.0GB): 10.180sec] fit X\n",
            "[12.6GB(+0.0GB): 16.167sec] fit Y\n"
          ],
          "name": "stderr"
        },
        {
          "output_type": "stream",
          "text": [
            "fold 7: mean position error 3.9012742761527526\n"
          ],
          "name": "stdout"
        },
        {
          "output_type": "stream",
          "text": [
            "[12.6GB(+0.0GB): 11.776sec] fit X\n",
            "[12.6GB(+0.0GB): 12.099sec] fit Y\n"
          ],
          "name": "stderr"
        },
        {
          "output_type": "stream",
          "text": [
            "fold 8: mean position error 3.8289245380298698\n"
          ],
          "name": "stdout"
        },
        {
          "output_type": "stream",
          "text": [
            "[12.6GB(+0.0GB): 14.594sec] fit X\n",
            "[12.6GB(+0.0GB): 12.444sec] fit Y\n"
          ],
          "name": "stderr"
        },
        {
          "output_type": "stream",
          "text": [
            "fold 9: mean position error 4.007227440198706\n",
            "*+*+*+*+*+*+*+*+*+*+*+*+*+*+*+*+*+*+*+*+*+*+*+*+*+*+*+*+*+*+*+*+*+*+*+*+*+*+*+*+\n",
            "file #13, shape=(8999, 2888), name=5da1382d4db8ce0c98bbe92e_train.csv\n",
            "mean position error 3.9255163200455403\n",
            "*+*+*+*+*+*+*+*+*+*+*+*+*+*+*+*+*+*+*+*+*+*+*+*+*+*+*+*+*+*+*+*+*+*+*+*+*+*+*+*+\n"
          ],
          "name": "stdout"
        },
        {
          "output_type": "stream",
          "text": [
            "100%|██████████| 11/11 [00:01<00:00, 10.56it/s]\n",
            "100%|██████████| 11/11 [00:00<00:00, 172.19it/s]\n"
          ],
          "name": "stderr"
        },
        {
          "output_type": "stream",
          "text": [
            "(9012, 1238)\n",
            "(171, 1237)\n"
          ],
          "name": "stdout"
        },
        {
          "output_type": "stream",
          "text": [
            "[12.6GB(+0.0GB): 7.064sec] fit X\n",
            "[12.6GB(+0.0GB): 5.799sec] fit Y\n"
          ],
          "name": "stderr"
        },
        {
          "output_type": "stream",
          "text": [
            "fold 0: mean position error 2.271218105074222\n"
          ],
          "name": "stdout"
        },
        {
          "output_type": "stream",
          "text": [
            "[12.6GB(+0.0GB): 7.101sec] fit X\n",
            "[12.6GB(+0.0GB): 4.013sec] fit Y\n"
          ],
          "name": "stderr"
        },
        {
          "output_type": "stream",
          "text": [
            "fold 1: mean position error 2.324772030146543\n"
          ],
          "name": "stdout"
        },
        {
          "output_type": "stream",
          "text": [
            "[12.6GB(+0.0GB): 7.084sec] fit X\n",
            "[12.6GB(+0.0GB): 5.487sec] fit Y\n"
          ],
          "name": "stderr"
        },
        {
          "output_type": "stream",
          "text": [
            "fold 2: mean position error 2.330279835261177\n"
          ],
          "name": "stdout"
        },
        {
          "output_type": "stream",
          "text": [
            "[12.6GB(+0.0GB): 7.090sec] fit X\n",
            "[12.6GB(+0.0GB): 8.104sec] fit Y\n"
          ],
          "name": "stderr"
        },
        {
          "output_type": "stream",
          "text": [
            "fold 3: mean position error 2.29166953789505\n"
          ],
          "name": "stdout"
        },
        {
          "output_type": "stream",
          "text": [
            "[12.6GB(+0.0GB): 5.160sec] fit X\n",
            "[12.6GB(+0.0GB): 4.631sec] fit Y\n"
          ],
          "name": "stderr"
        },
        {
          "output_type": "stream",
          "text": [
            "fold 4: mean position error 2.2597744156954156\n"
          ],
          "name": "stdout"
        },
        {
          "output_type": "stream",
          "text": [
            "[12.6GB(+0.0GB): 5.178sec] fit X\n",
            "[12.6GB(+0.0GB): 5.913sec] fit Y\n"
          ],
          "name": "stderr"
        },
        {
          "output_type": "stream",
          "text": [
            "fold 5: mean position error 2.343250971581626\n"
          ],
          "name": "stdout"
        },
        {
          "output_type": "stream",
          "text": [
            "[12.6GB(+0.0GB): 8.585sec] fit X\n",
            "[12.6GB(+0.0GB): 4.871sec] fit Y\n"
          ],
          "name": "stderr"
        },
        {
          "output_type": "stream",
          "text": [
            "fold 6: mean position error 2.41514170897926\n"
          ],
          "name": "stdout"
        },
        {
          "output_type": "stream",
          "text": [
            "[12.6GB(+0.0GB): 4.908sec] fit X\n",
            "[12.6GB(+0.0GB): 6.146sec] fit Y\n"
          ],
          "name": "stderr"
        },
        {
          "output_type": "stream",
          "text": [
            "fold 7: mean position error 2.3156489734023458\n"
          ],
          "name": "stdout"
        },
        {
          "output_type": "stream",
          "text": [
            "[12.6GB(+0.0GB): 5.606sec] fit X\n",
            "[12.6GB(+0.0GB): 5.584sec] fit Y\n"
          ],
          "name": "stderr"
        },
        {
          "output_type": "stream",
          "text": [
            "fold 8: mean position error 2.2578557356154336\n"
          ],
          "name": "stdout"
        },
        {
          "output_type": "stream",
          "text": [
            "[12.6GB(+0.0GB): 7.516sec] fit X\n",
            "[12.6GB(+0.0GB): 5.804sec] fit Y\n"
          ],
          "name": "stderr"
        },
        {
          "output_type": "stream",
          "text": [
            "fold 9: mean position error 2.2704962875174313\n",
            "*+*+*+*+*+*+*+*+*+*+*+*+*+*+*+*+*+*+*+*+*+*+*+*+*+*+*+*+*+*+*+*+*+*+*+*+*+*+*+*+\n",
            "file #14, shape=(9012, 1238), name=5da138314db8ce0c98bbf3a0_train.csv\n",
            "mean position error 2.308008537371066\n",
            "*+*+*+*+*+*+*+*+*+*+*+*+*+*+*+*+*+*+*+*+*+*+*+*+*+*+*+*+*+*+*+*+*+*+*+*+*+*+*+*+\n"
          ],
          "name": "stdout"
        },
        {
          "output_type": "stream",
          "text": [
            "100%|██████████| 11/11 [00:00<00:00, 44.84it/s]\n",
            "100%|██████████| 11/11 [00:00<00:00, 183.12it/s]\n"
          ],
          "name": "stderr"
        },
        {
          "output_type": "stream",
          "text": [
            "(2767, 848)\n",
            "(139, 847)\n"
          ],
          "name": "stdout"
        },
        {
          "output_type": "stream",
          "text": [
            "[12.6GB(+0.0GB): 1.032sec] fit X\n",
            "[12.6GB(+0.0GB): 1.211sec] fit Y\n"
          ],
          "name": "stderr"
        },
        {
          "output_type": "stream",
          "text": [
            "fold 0: mean position error 2.7224814518704545\n"
          ],
          "name": "stdout"
        },
        {
          "output_type": "stream",
          "text": [
            "[12.6GB(+0.0GB): 0.930sec] fit X\n",
            "[12.6GB(+0.0GB): 1.067sec] fit Y\n"
          ],
          "name": "stderr"
        },
        {
          "output_type": "stream",
          "text": [
            "fold 1: mean position error 2.6900581169775406\n"
          ],
          "name": "stdout"
        },
        {
          "output_type": "stream",
          "text": [
            "[12.6GB(+0.0GB): 0.785sec] fit X\n",
            "[12.6GB(+0.0GB): 1.419sec] fit Y\n"
          ],
          "name": "stderr"
        },
        {
          "output_type": "stream",
          "text": [
            "fold 2: mean position error 2.9527873548745767\n"
          ],
          "name": "stdout"
        },
        {
          "output_type": "stream",
          "text": [
            "[12.6GB(+0.0GB): 0.779sec] fit X\n",
            "[12.6GB(+0.0GB): 0.949sec] fit Y\n"
          ],
          "name": "stderr"
        },
        {
          "output_type": "stream",
          "text": [
            "fold 3: mean position error 2.8879300050539487\n"
          ],
          "name": "stdout"
        },
        {
          "output_type": "stream",
          "text": [
            "[12.6GB(+0.0GB): 0.838sec] fit X\n",
            "[12.6GB(+0.0GB): 1.159sec] fit Y\n"
          ],
          "name": "stderr"
        },
        {
          "output_type": "stream",
          "text": [
            "fold 4: mean position error 2.7243096165024046\n"
          ],
          "name": "stdout"
        },
        {
          "output_type": "stream",
          "text": [
            "[12.6GB(+0.0GB): 0.673sec] fit X\n",
            "[12.6GB(+0.0GB): 0.671sec] fit Y\n"
          ],
          "name": "stderr"
        },
        {
          "output_type": "stream",
          "text": [
            "fold 5: mean position error 2.7246148760819486\n"
          ],
          "name": "stdout"
        },
        {
          "output_type": "stream",
          "text": [
            "[12.6GB(+0.0GB): 0.735sec] fit X\n",
            "[12.6GB(+0.0GB): 1.333sec] fit Y\n"
          ],
          "name": "stderr"
        },
        {
          "output_type": "stream",
          "text": [
            "fold 6: mean position error 2.8236823031043405\n"
          ],
          "name": "stdout"
        },
        {
          "output_type": "stream",
          "text": [
            "[12.6GB(+0.0GB): 1.000sec] fit X\n",
            "[12.6GB(+0.0GB): 0.789sec] fit Y\n"
          ],
          "name": "stderr"
        },
        {
          "output_type": "stream",
          "text": [
            "fold 7: mean position error 2.562291375123687\n"
          ],
          "name": "stdout"
        },
        {
          "output_type": "stream",
          "text": [
            "[12.6GB(+0.0GB): 0.832sec] fit X\n",
            "[12.6GB(+0.0GB): 1.211sec] fit Y\n"
          ],
          "name": "stderr"
        },
        {
          "output_type": "stream",
          "text": [
            "fold 8: mean position error 2.81662318023982\n"
          ],
          "name": "stdout"
        },
        {
          "output_type": "stream",
          "text": [
            "[12.6GB(+0.0GB): 0.944sec] fit X\n",
            "[12.6GB(+0.0GB): 0.833sec] fit Y\n"
          ],
          "name": "stderr"
        },
        {
          "output_type": "stream",
          "text": [
            "fold 9: mean position error 2.76703217965231\n",
            "*+*+*+*+*+*+*+*+*+*+*+*+*+*+*+*+*+*+*+*+*+*+*+*+*+*+*+*+*+*+*+*+*+*+*+*+*+*+*+*+\n",
            "file #15, shape=(2767, 848), name=5da138364db8ce0c98bc00f1_train.csv\n",
            "mean position error 2.7672372788367294\n",
            "*+*+*+*+*+*+*+*+*+*+*+*+*+*+*+*+*+*+*+*+*+*+*+*+*+*+*+*+*+*+*+*+*+*+*+*+*+*+*+*+\n"
          ],
          "name": "stdout"
        },
        {
          "output_type": "stream",
          "text": [
            "100%|██████████| 11/11 [00:01<00:00,  6.20it/s]\n",
            "100%|██████████| 11/11 [00:00<00:00, 130.79it/s]\n"
          ],
          "name": "stderr"
        },
        {
          "output_type": "stream",
          "text": [
            "(13196, 1551)\n",
            "(380, 1550)\n"
          ],
          "name": "stdout"
        },
        {
          "output_type": "stream",
          "text": [
            "[12.6GB(+0.0GB): 10.307sec] fit X\n",
            "[12.6GB(+0.0GB): 12.352sec] fit Y\n"
          ],
          "name": "stderr"
        },
        {
          "output_type": "stream",
          "text": [
            "fold 0: mean position error 3.588123549423062\n"
          ],
          "name": "stdout"
        },
        {
          "output_type": "stream",
          "text": [
            "[12.6GB(+0.0GB): 9.924sec] fit X\n",
            "[12.6GB(+0.0GB): 14.301sec] fit Y\n"
          ],
          "name": "stderr"
        },
        {
          "output_type": "stream",
          "text": [
            "fold 1: mean position error 3.5795609256838237\n"
          ],
          "name": "stdout"
        },
        {
          "output_type": "stream",
          "text": [
            "[12.6GB(+0.0GB): 11.093sec] fit X\n",
            "[12.6GB(+0.0GB): 10.082sec] fit Y\n"
          ],
          "name": "stderr"
        },
        {
          "output_type": "stream",
          "text": [
            "fold 2: mean position error 3.5958030936594674\n"
          ],
          "name": "stdout"
        },
        {
          "output_type": "stream",
          "text": [
            "[12.6GB(+0.0GB): 13.470sec] fit X\n",
            "[12.6GB(+0.0GB): 10.713sec] fit Y\n"
          ],
          "name": "stderr"
        },
        {
          "output_type": "stream",
          "text": [
            "fold 3: mean position error 3.5334854501812645\n"
          ],
          "name": "stdout"
        },
        {
          "output_type": "stream",
          "text": [
            "[12.6GB(+0.0GB): 10.752sec] fit X\n",
            "[12.6GB(+0.0GB): 12.669sec] fit Y\n"
          ],
          "name": "stderr"
        },
        {
          "output_type": "stream",
          "text": [
            "fold 4: mean position error 3.5455577099881355\n"
          ],
          "name": "stdout"
        },
        {
          "output_type": "stream",
          "text": [
            "[12.6GB(+0.0GB): 11.190sec] fit X\n",
            "[12.6GB(+0.0GB): 9.923sec] fit Y\n"
          ],
          "name": "stderr"
        },
        {
          "output_type": "stream",
          "text": [
            "fold 5: mean position error 3.578410954160921\n"
          ],
          "name": "stdout"
        },
        {
          "output_type": "stream",
          "text": [
            "[12.6GB(+0.0GB): 14.942sec] fit X\n",
            "[12.6GB(+0.0GB): 10.005sec] fit Y\n"
          ],
          "name": "stderr"
        },
        {
          "output_type": "stream",
          "text": [
            "fold 6: mean position error 3.4930910018344283\n"
          ],
          "name": "stdout"
        },
        {
          "output_type": "stream",
          "text": [
            "[12.6GB(+0.0GB): 12.539sec] fit X\n",
            "[12.6GB(+0.0GB): 12.173sec] fit Y\n"
          ],
          "name": "stderr"
        },
        {
          "output_type": "stream",
          "text": [
            "fold 7: mean position error 3.5395010993013174\n"
          ],
          "name": "stdout"
        },
        {
          "output_type": "stream",
          "text": [
            "[12.6GB(+0.0GB): 12.040sec] fit X\n",
            "[12.6GB(+0.0GB): 10.284sec] fit Y\n"
          ],
          "name": "stderr"
        },
        {
          "output_type": "stream",
          "text": [
            "fold 8: mean position error 3.4211625231671596\n"
          ],
          "name": "stdout"
        },
        {
          "output_type": "stream",
          "text": [
            "[12.6GB(+0.0GB): 12.771sec] fit X\n",
            "[12.6GB(+0.0GB): 10.360sec] fit Y\n"
          ],
          "name": "stderr"
        },
        {
          "output_type": "stream",
          "text": [
            "fold 9: mean position error 3.514848098915955\n",
            "*+*+*+*+*+*+*+*+*+*+*+*+*+*+*+*+*+*+*+*+*+*+*+*+*+*+*+*+*+*+*+*+*+*+*+*+*+*+*+*+\n",
            "file #16, shape=(13196, 1551), name=5da1383b4db8ce0c98bc11ab_train.csv\n",
            "mean position error 3.538968627888245\n",
            "*+*+*+*+*+*+*+*+*+*+*+*+*+*+*+*+*+*+*+*+*+*+*+*+*+*+*+*+*+*+*+*+*+*+*+*+*+*+*+*+\n"
          ],
          "name": "stdout"
        },
        {
          "output_type": "stream",
          "text": [
            "100%|██████████| 11/11 [00:01<00:00, 10.35it/s]\n",
            "100%|██████████| 11/11 [00:00<00:00, 127.23it/s]\n"
          ],
          "name": "stderr"
        },
        {
          "output_type": "stream",
          "text": [
            "(7188, 1653)\n",
            "(386, 1652)\n"
          ],
          "name": "stdout"
        },
        {
          "output_type": "stream",
          "text": [
            "[12.6GB(+0.0GB): 5.923sec] fit X\n",
            "[12.6GB(+0.0GB): 5.519sec] fit Y\n"
          ],
          "name": "stderr"
        },
        {
          "output_type": "stream",
          "text": [
            "fold 0: mean position error 3.008936057671669\n"
          ],
          "name": "stdout"
        },
        {
          "output_type": "stream",
          "text": [
            "[12.6GB(+0.0GB): 5.904sec] fit X\n",
            "[12.6GB(+0.0GB): 4.499sec] fit Y\n"
          ],
          "name": "stderr"
        },
        {
          "output_type": "stream",
          "text": [
            "fold 1: mean position error 3.00892523626682\n"
          ],
          "name": "stdout"
        },
        {
          "output_type": "stream",
          "text": [
            "[12.6GB(+0.0GB): 3.969sec] fit X\n",
            "[12.6GB(+0.0GB): 4.523sec] fit Y\n"
          ],
          "name": "stderr"
        },
        {
          "output_type": "stream",
          "text": [
            "fold 2: mean position error 3.162477874266749\n"
          ],
          "name": "stdout"
        },
        {
          "output_type": "stream",
          "text": [
            "[12.6GB(+0.0GB): 6.298sec] fit X\n",
            "[12.6GB(+0.0GB): 5.451sec] fit Y\n"
          ],
          "name": "stderr"
        },
        {
          "output_type": "stream",
          "text": [
            "fold 3: mean position error 3.2447881617153773\n"
          ],
          "name": "stdout"
        },
        {
          "output_type": "stream",
          "text": [
            "[12.6GB(+0.0GB): 4.136sec] fit X\n",
            "[12.6GB(+0.0GB): 4.515sec] fit Y\n"
          ],
          "name": "stderr"
        },
        {
          "output_type": "stream",
          "text": [
            "fold 4: mean position error 3.112567075640133\n"
          ],
          "name": "stdout"
        },
        {
          "output_type": "stream",
          "text": [
            "[12.6GB(+0.0GB): 3.769sec] fit X\n",
            "[12.6GB(+0.0GB): 4.946sec] fit Y\n"
          ],
          "name": "stderr"
        },
        {
          "output_type": "stream",
          "text": [
            "fold 5: mean position error 3.1174748699264527\n"
          ],
          "name": "stdout"
        },
        {
          "output_type": "stream",
          "text": [
            "[12.6GB(+0.0GB): 4.389sec] fit X\n",
            "[12.6GB(+0.0GB): 5.288sec] fit Y\n"
          ],
          "name": "stderr"
        },
        {
          "output_type": "stream",
          "text": [
            "fold 6: mean position error 3.1931130923472306\n"
          ],
          "name": "stdout"
        },
        {
          "output_type": "stream",
          "text": [
            "[12.6GB(+0.0GB): 3.893sec] fit X\n",
            "[12.6GB(+0.0GB): 4.276sec] fit Y\n"
          ],
          "name": "stderr"
        },
        {
          "output_type": "stream",
          "text": [
            "fold 7: mean position error 3.1046066481694816\n"
          ],
          "name": "stdout"
        },
        {
          "output_type": "stream",
          "text": [
            "[12.6GB(+0.0GB): 3.313sec] fit X\n",
            "[12.6GB(+0.0GB): 4.066sec] fit Y\n"
          ],
          "name": "stderr"
        },
        {
          "output_type": "stream",
          "text": [
            "fold 8: mean position error 3.078251990390366\n"
          ],
          "name": "stdout"
        },
        {
          "output_type": "stream",
          "text": [
            "[12.6GB(+0.0GB): 3.090sec] fit X\n",
            "[12.6GB(+0.0GB): 4.805sec] fit Y\n"
          ],
          "name": "stderr"
        },
        {
          "output_type": "stream",
          "text": [
            "fold 9: mean position error 3.352466381632078\n",
            "*+*+*+*+*+*+*+*+*+*+*+*+*+*+*+*+*+*+*+*+*+*+*+*+*+*+*+*+*+*+*+*+*+*+*+*+*+*+*+*+\n",
            "file #17, shape=(7188, 1653), name=5da138754db8ce0c98bca82f_train.csv\n",
            "mean position error 3.138339314638137\n",
            "*+*+*+*+*+*+*+*+*+*+*+*+*+*+*+*+*+*+*+*+*+*+*+*+*+*+*+*+*+*+*+*+*+*+*+*+*+*+*+*+\n"
          ],
          "name": "stdout"
        },
        {
          "output_type": "stream",
          "text": [
            "100%|██████████| 11/11 [00:01<00:00,  7.33it/s]\n",
            "100%|██████████| 11/11 [00:00<00:00, 100.00it/s]\n"
          ],
          "name": "stderr"
        },
        {
          "output_type": "stream",
          "text": [
            "(9420, 1914)\n",
            "(573, 1913)\n"
          ],
          "name": "stdout"
        },
        {
          "output_type": "stream",
          "text": [
            "[12.6GB(+0.0GB): 7.025sec] fit X\n",
            "[12.6GB(+0.0GB): 8.176sec] fit Y\n"
          ],
          "name": "stderr"
        },
        {
          "output_type": "stream",
          "text": [
            "fold 0: mean position error 3.860449391992682\n"
          ],
          "name": "stdout"
        },
        {
          "output_type": "stream",
          "text": [
            "[12.6GB(+0.0GB): 9.999sec] fit X\n",
            "[12.6GB(+0.0GB): 11.632sec] fit Y\n"
          ],
          "name": "stderr"
        },
        {
          "output_type": "stream",
          "text": [
            "fold 1: mean position error 3.7993076948680145\n"
          ],
          "name": "stdout"
        },
        {
          "output_type": "stream",
          "text": [
            "[12.6GB(+0.0GB): 6.657sec] fit X\n",
            "[12.6GB(+0.0GB): 5.330sec] fit Y\n"
          ],
          "name": "stderr"
        },
        {
          "output_type": "stream",
          "text": [
            "fold 2: mean position error 3.9221479382593456\n"
          ],
          "name": "stdout"
        },
        {
          "output_type": "stream",
          "text": [
            "[12.6GB(+0.0GB): 7.887sec] fit X\n",
            "[12.6GB(+0.0GB): 6.886sec] fit Y\n"
          ],
          "name": "stderr"
        },
        {
          "output_type": "stream",
          "text": [
            "fold 3: mean position error 3.864116021044517\n"
          ],
          "name": "stdout"
        },
        {
          "output_type": "stream",
          "text": [
            "[12.6GB(+0.0GB): 8.136sec] fit X\n",
            "[12.6GB(+0.0GB): 6.411sec] fit Y\n"
          ],
          "name": "stderr"
        },
        {
          "output_type": "stream",
          "text": [
            "fold 4: mean position error 3.8439221373877546\n"
          ],
          "name": "stdout"
        },
        {
          "output_type": "stream",
          "text": [
            "[12.6GB(+0.0GB): 10.328sec] fit X\n",
            "[12.6GB(+0.0GB): 8.058sec] fit Y\n"
          ],
          "name": "stderr"
        },
        {
          "output_type": "stream",
          "text": [
            "fold 5: mean position error 3.954746108756474\n"
          ],
          "name": "stdout"
        },
        {
          "output_type": "stream",
          "text": [
            "[12.6GB(+0.0GB): 7.272sec] fit X\n",
            "[12.6GB(+0.0GB): 8.234sec] fit Y\n"
          ],
          "name": "stderr"
        },
        {
          "output_type": "stream",
          "text": [
            "fold 6: mean position error 3.7892959371411323\n"
          ],
          "name": "stdout"
        },
        {
          "output_type": "stream",
          "text": [
            "[12.6GB(+0.0GB): 6.184sec] fit X\n",
            "[12.6GB(+0.0GB): 9.281sec] fit Y\n"
          ],
          "name": "stderr"
        },
        {
          "output_type": "stream",
          "text": [
            "fold 7: mean position error 3.974887732411705\n"
          ],
          "name": "stdout"
        },
        {
          "output_type": "stream",
          "text": [
            "[12.6GB(+0.0GB): 9.105sec] fit X\n",
            "[12.6GB(+0.0GB): 8.005sec] fit Y\n"
          ],
          "name": "stderr"
        },
        {
          "output_type": "stream",
          "text": [
            "fold 8: mean position error 3.7667099098392463\n"
          ],
          "name": "stdout"
        },
        {
          "output_type": "stream",
          "text": [
            "[12.6GB(+0.0GB): 7.411sec] fit X\n",
            "[12.6GB(+0.0GB): 7.757sec] fit Y\n"
          ],
          "name": "stderr"
        },
        {
          "output_type": "stream",
          "text": [
            "fold 9: mean position error 3.7314053585439457\n",
            "*+*+*+*+*+*+*+*+*+*+*+*+*+*+*+*+*+*+*+*+*+*+*+*+*+*+*+*+*+*+*+*+*+*+*+*+*+*+*+*+\n",
            "file #18, shape=(9420, 1914), name=5da138764db8ce0c98bcaa46_train.csv\n",
            "mean position error 3.850698823024482\n",
            "*+*+*+*+*+*+*+*+*+*+*+*+*+*+*+*+*+*+*+*+*+*+*+*+*+*+*+*+*+*+*+*+*+*+*+*+*+*+*+*+\n"
          ],
          "name": "stdout"
        },
        {
          "output_type": "stream",
          "text": [
            "100%|██████████| 11/11 [00:00<00:00, 17.49it/s]\n",
            "100%|██████████| 11/11 [00:00<00:00, 175.35it/s]\n"
          ],
          "name": "stderr"
        },
        {
          "output_type": "stream",
          "text": [
            "(6312, 1047)\n",
            "(174, 1046)\n"
          ],
          "name": "stdout"
        },
        {
          "output_type": "stream",
          "text": [
            "[12.6GB(+0.0GB): 2.039sec] fit X\n",
            "[12.6GB(+0.0GB): 2.906sec] fit Y\n"
          ],
          "name": "stderr"
        },
        {
          "output_type": "stream",
          "text": [
            "fold 0: mean position error 3.532944138565925\n"
          ],
          "name": "stdout"
        },
        {
          "output_type": "stream",
          "text": [
            "[12.6GB(+0.0GB): 2.156sec] fit X\n",
            "[12.6GB(+0.0GB): 3.351sec] fit Y\n"
          ],
          "name": "stderr"
        },
        {
          "output_type": "stream",
          "text": [
            "fold 1: mean position error 3.8811474600003995\n"
          ],
          "name": "stdout"
        },
        {
          "output_type": "stream",
          "text": [
            "[12.6GB(+0.0GB): 2.967sec] fit X\n",
            "[12.6GB(+0.0GB): 2.284sec] fit Y\n"
          ],
          "name": "stderr"
        },
        {
          "output_type": "stream",
          "text": [
            "fold 2: mean position error 3.884069422770953\n"
          ],
          "name": "stdout"
        },
        {
          "output_type": "stream",
          "text": [
            "[12.6GB(+0.0GB): 3.673sec] fit X\n",
            "[12.6GB(+0.0GB): 2.364sec] fit Y\n"
          ],
          "name": "stderr"
        },
        {
          "output_type": "stream",
          "text": [
            "fold 3: mean position error 3.9909814448398206\n"
          ],
          "name": "stdout"
        },
        {
          "output_type": "stream",
          "text": [
            "[12.6GB(+0.0GB): 2.668sec] fit X\n",
            "[12.6GB(+0.0GB): 2.999sec] fit Y\n"
          ],
          "name": "stderr"
        },
        {
          "output_type": "stream",
          "text": [
            "fold 4: mean position error 3.6191458995942036\n"
          ],
          "name": "stdout"
        },
        {
          "output_type": "stream",
          "text": [
            "[12.6GB(+0.0GB): 2.090sec] fit X\n",
            "[12.6GB(+0.0GB): 3.332sec] fit Y\n"
          ],
          "name": "stderr"
        },
        {
          "output_type": "stream",
          "text": [
            "fold 5: mean position error 3.6878796984315043\n"
          ],
          "name": "stdout"
        },
        {
          "output_type": "stream",
          "text": [
            "[12.6GB(+0.0GB): 2.244sec] fit X\n",
            "[12.6GB(+0.0GB): 3.354sec] fit Y\n"
          ],
          "name": "stderr"
        },
        {
          "output_type": "stream",
          "text": [
            "fold 6: mean position error 3.67834165453918\n"
          ],
          "name": "stdout"
        },
        {
          "output_type": "stream",
          "text": [
            "[12.6GB(+0.0GB): 2.777sec] fit X\n",
            "[12.6GB(+0.0GB): 2.640sec] fit Y\n"
          ],
          "name": "stderr"
        },
        {
          "output_type": "stream",
          "text": [
            "fold 7: mean position error 3.801143507429665\n"
          ],
          "name": "stdout"
        },
        {
          "output_type": "stream",
          "text": [
            "[12.6GB(+0.0GB): 3.679sec] fit X\n",
            "[12.6GB(+0.0GB): 3.087sec] fit Y\n"
          ],
          "name": "stderr"
        },
        {
          "output_type": "stream",
          "text": [
            "fold 8: mean position error 3.8505238917718025\n"
          ],
          "name": "stdout"
        },
        {
          "output_type": "stream",
          "text": [
            "[12.6GB(+0.0GB): 3.694sec] fit X\n",
            "[12.6GB(+0.0GB): 3.546sec] fit Y\n"
          ],
          "name": "stderr"
        },
        {
          "output_type": "stream",
          "text": [
            "fold 9: mean position error 3.64829915833299\n",
            "*+*+*+*+*+*+*+*+*+*+*+*+*+*+*+*+*+*+*+*+*+*+*+*+*+*+*+*+*+*+*+*+*+*+*+*+*+*+*+*+\n",
            "file #19, shape=(6312, 1047), name=5da1389e4db8ce0c98bd0547_train.csv\n",
            "mean position error 3.7574316574665723\n",
            "*+*+*+*+*+*+*+*+*+*+*+*+*+*+*+*+*+*+*+*+*+*+*+*+*+*+*+*+*+*+*+*+*+*+*+*+*+*+*+*+\n"
          ],
          "name": "stdout"
        },
        {
          "output_type": "stream",
          "text": [
            "100%|██████████| 11/11 [00:03<00:00,  3.21it/s]\n",
            "100%|██████████| 11/11 [00:00<00:00, 74.07it/s]\n"
          ],
          "name": "stderr"
        },
        {
          "output_type": "stream",
          "text": [
            "(17382, 3561)\n",
            "(445, 3560)\n"
          ],
          "name": "stdout"
        },
        {
          "output_type": "stream",
          "text": [
            "[12.6GB(+0.0GB): 24.494sec] fit X\n",
            "[12.6GB(+0.0GB): 38.266sec] fit Y\n"
          ],
          "name": "stderr"
        },
        {
          "output_type": "stream",
          "text": [
            "fold 0: mean position error 4.530933687418321\n"
          ],
          "name": "stdout"
        },
        {
          "output_type": "stream",
          "text": [
            "[12.6GB(+0.0GB): 40.601sec] fit X\n",
            "[12.6GB(+0.0GB): 27.601sec] fit Y\n"
          ],
          "name": "stderr"
        },
        {
          "output_type": "stream",
          "text": [
            "fold 1: mean position error 4.360538373669838\n"
          ],
          "name": "stdout"
        },
        {
          "output_type": "stream",
          "text": [
            "[12.6GB(+0.0GB): 41.241sec] fit X\n",
            "[12.6GB(+0.0GB): 37.585sec] fit Y\n"
          ],
          "name": "stderr"
        },
        {
          "output_type": "stream",
          "text": [
            "fold 2: mean position error 4.436762053166546\n"
          ],
          "name": "stdout"
        },
        {
          "output_type": "stream",
          "text": [
            "[12.6GB(+0.0GB): 30.009sec] fit X\n",
            "[12.6GB(+0.0GB): 37.505sec] fit Y\n"
          ],
          "name": "stderr"
        },
        {
          "output_type": "stream",
          "text": [
            "fold 3: mean position error 4.597024966186004\n"
          ],
          "name": "stdout"
        },
        {
          "output_type": "stream",
          "text": [
            "[12.6GB(+0.0GB): 37.795sec] fit X\n",
            "[12.6GB(+0.0GB): 38.333sec] fit Y\n"
          ],
          "name": "stderr"
        },
        {
          "output_type": "stream",
          "text": [
            "fold 4: mean position error 4.467398287400058\n"
          ],
          "name": "stdout"
        },
        {
          "output_type": "stream",
          "text": [
            "[12.6GB(+0.0GB): 38.420sec] fit X\n",
            "[12.6GB(+0.0GB): 28.847sec] fit Y\n"
          ],
          "name": "stderr"
        },
        {
          "output_type": "stream",
          "text": [
            "fold 5: mean position error 4.487347512700501\n"
          ],
          "name": "stdout"
        },
        {
          "output_type": "stream",
          "text": [
            "[12.6GB(+0.0GB): 40.598sec] fit X\n",
            "[12.6GB(+0.0GB): 33.697sec] fit Y\n"
          ],
          "name": "stderr"
        },
        {
          "output_type": "stream",
          "text": [
            "fold 6: mean position error 4.494681621991245\n"
          ],
          "name": "stdout"
        },
        {
          "output_type": "stream",
          "text": [
            "[12.6GB(+0.0GB): 39.087sec] fit X\n",
            "[12.6GB(+0.0GB): 46.805sec] fit Y\n"
          ],
          "name": "stderr"
        },
        {
          "output_type": "stream",
          "text": [
            "fold 7: mean position error 4.452354671500483\n"
          ],
          "name": "stdout"
        },
        {
          "output_type": "stream",
          "text": [
            "[12.6GB(+0.0GB): 31.340sec] fit X\n",
            "[12.6GB(+0.0GB): 36.052sec] fit Y\n"
          ],
          "name": "stderr"
        },
        {
          "output_type": "stream",
          "text": [
            "fold 8: mean position error 4.634083443070478\n"
          ],
          "name": "stdout"
        },
        {
          "output_type": "stream",
          "text": [
            "[12.6GB(+0.0GB): 28.358sec] fit X\n",
            "[12.6GB(+0.0GB): 33.786sec] fit Y\n"
          ],
          "name": "stderr"
        },
        {
          "output_type": "stream",
          "text": [
            "fold 9: mean position error 4.50122465441584\n",
            "*+*+*+*+*+*+*+*+*+*+*+*+*+*+*+*+*+*+*+*+*+*+*+*+*+*+*+*+*+*+*+*+*+*+*+*+*+*+*+*+\n",
            "file #20, shape=(17382, 3561), name=5da138b74db8ce0c98bd4774_train.csv\n",
            "mean position error 4.4962291166702135\n",
            "*+*+*+*+*+*+*+*+*+*+*+*+*+*+*+*+*+*+*+*+*+*+*+*+*+*+*+*+*+*+*+*+*+*+*+*+*+*+*+*+\n"
          ],
          "name": "stdout"
        },
        {
          "output_type": "stream",
          "text": [
            "100%|██████████| 11/11 [00:03<00:00,  3.16it/s]\n",
            "100%|██████████| 11/11 [00:00<00:00, 44.51it/s]\n"
          ],
          "name": "stderr"
        },
        {
          "output_type": "stream",
          "text": [
            "(15148, 3525)\n",
            "(778, 3524)\n"
          ],
          "name": "stdout"
        },
        {
          "output_type": "stream",
          "text": [
            "[12.6GB(+0.0GB): 30.169sec] fit X\n",
            "[12.6GB(+0.0GB): 35.604sec] fit Y\n"
          ],
          "name": "stderr"
        },
        {
          "output_type": "stream",
          "text": [
            "fold 0: mean position error 3.5911112636238727\n"
          ],
          "name": "stdout"
        },
        {
          "output_type": "stream",
          "text": [
            "[12.6GB(+0.0GB): 26.490sec] fit X\n",
            "[12.6GB(+0.0GB): 22.290sec] fit Y\n"
          ],
          "name": "stderr"
        },
        {
          "output_type": "stream",
          "text": [
            "fold 1: mean position error 3.565891757219851\n"
          ],
          "name": "stdout"
        },
        {
          "output_type": "stream",
          "text": [
            "[12.6GB(+0.0GB): 33.279sec] fit X\n",
            "[12.6GB(+0.0GB): 27.055sec] fit Y\n"
          ],
          "name": "stderr"
        },
        {
          "output_type": "stream",
          "text": [
            "fold 2: mean position error 3.507148295314867\n"
          ],
          "name": "stdout"
        },
        {
          "output_type": "stream",
          "text": [
            "[12.6GB(+0.0GB): 24.482sec] fit X\n",
            "[12.6GB(+0.0GB): 24.567sec] fit Y\n"
          ],
          "name": "stderr"
        },
        {
          "output_type": "stream",
          "text": [
            "fold 3: mean position error 3.581694089536469\n"
          ],
          "name": "stdout"
        },
        {
          "output_type": "stream",
          "text": [
            "[12.6GB(+0.0GB): 27.886sec] fit X\n",
            "[12.6GB(+0.0GB): 24.054sec] fit Y\n"
          ],
          "name": "stderr"
        },
        {
          "output_type": "stream",
          "text": [
            "fold 4: mean position error 3.4980110323698645\n"
          ],
          "name": "stdout"
        },
        {
          "output_type": "stream",
          "text": [
            "[12.6GB(+0.0GB): 33.496sec] fit X\n",
            "[12.6GB(+0.0GB): 27.460sec] fit Y\n"
          ],
          "name": "stderr"
        },
        {
          "output_type": "stream",
          "text": [
            "fold 5: mean position error 3.565641686970686\n"
          ],
          "name": "stdout"
        },
        {
          "output_type": "stream",
          "text": [
            "[12.6GB(+0.0GB): 34.832sec] fit X\n",
            "[12.6GB(+0.0GB): 47.391sec] fit Y\n"
          ],
          "name": "stderr"
        },
        {
          "output_type": "stream",
          "text": [
            "fold 6: mean position error 3.4839977500332675\n"
          ],
          "name": "stdout"
        },
        {
          "output_type": "stream",
          "text": [
            "[12.6GB(+0.0GB): 25.951sec] fit X\n",
            "[12.6GB(+0.0GB): 45.672sec] fit Y\n"
          ],
          "name": "stderr"
        },
        {
          "output_type": "stream",
          "text": [
            "fold 7: mean position error 3.586020103661521\n"
          ],
          "name": "stdout"
        },
        {
          "output_type": "stream",
          "text": [
            "[12.6GB(+0.0GB): 36.788sec] fit X\n",
            "[12.6GB(+0.0GB): 34.425sec] fit Y\n"
          ],
          "name": "stderr"
        },
        {
          "output_type": "stream",
          "text": [
            "fold 8: mean position error 3.5291216771889062\n"
          ],
          "name": "stdout"
        },
        {
          "output_type": "stream",
          "text": [
            "[12.6GB(+0.0GB): 33.435sec] fit X\n",
            "[12.6GB(+0.0GB): 27.499sec] fit Y\n"
          ],
          "name": "stderr"
        },
        {
          "output_type": "stream",
          "text": [
            "fold 9: mean position error 3.511791146323237\n",
            "*+*+*+*+*+*+*+*+*+*+*+*+*+*+*+*+*+*+*+*+*+*+*+*+*+*+*+*+*+*+*+*+*+*+*+*+*+*+*+*+\n",
            "file #21, shape=(15148, 3525), name=5da958dd46f8266d0737457b_train.csv\n",
            "mean position error 3.5420457302993094\n",
            "*+*+*+*+*+*+*+*+*+*+*+*+*+*+*+*+*+*+*+*+*+*+*+*+*+*+*+*+*+*+*+*+*+*+*+*+*+*+*+*+\n"
          ],
          "name": "stdout"
        },
        {
          "output_type": "stream",
          "text": [
            "/usr/local/lib/python3.7/dist-packages/IPython/core/interactiveshell.py:2718: DtypeWarning: Columns (4520,4521,4522,4526) have mixed types.Specify dtype option on import or set low_memory=False.\n",
            "  interactivity=interactivity, compiler=compiler, result=result)\n",
            "100%|██████████| 11/11 [00:03<00:00,  2.76it/s]\n",
            "100%|██████████| 11/11 [00:00<00:00, 29.48it/s]\n"
          ],
          "name": "stderr"
        },
        {
          "output_type": "stream",
          "text": [
            "(16174, 4545)\n",
            "(923, 4544)\n"
          ],
          "name": "stdout"
        },
        {
          "output_type": "stream",
          "text": [
            "[12.6GB(-0.0GB): 42.156sec] fit X\n",
            "[12.6GB(+0.0GB): 42.773sec] fit Y\n"
          ],
          "name": "stderr"
        },
        {
          "output_type": "stream",
          "text": [
            "fold 0: mean position error 4.751872840984118\n"
          ],
          "name": "stdout"
        },
        {
          "output_type": "stream",
          "text": [
            "[12.6GB(-0.0GB): 45.461sec] fit X\n",
            "[12.6GB(+0.0GB): 40.114sec] fit Y\n"
          ],
          "name": "stderr"
        },
        {
          "output_type": "stream",
          "text": [
            "fold 1: mean position error 4.664912990264852\n"
          ],
          "name": "stdout"
        },
        {
          "output_type": "stream",
          "text": [
            "[12.6GB(+0.0GB): 43.286sec] fit X\n",
            "[12.6GB(+0.0GB): 35.447sec] fit Y\n"
          ],
          "name": "stderr"
        },
        {
          "output_type": "stream",
          "text": [
            "fold 2: mean position error 4.645839002063433\n"
          ],
          "name": "stdout"
        },
        {
          "output_type": "stream",
          "text": [
            "[12.6GB(+0.0GB): 35.618sec] fit X\n",
            "[12.6GB(+0.0GB): 51.401sec] fit Y\n"
          ],
          "name": "stderr"
        },
        {
          "output_type": "stream",
          "text": [
            "fold 3: mean position error 4.716196680142325\n"
          ],
          "name": "stdout"
        },
        {
          "output_type": "stream",
          "text": [
            "[12.6GB(+0.0GB): 40.596sec] fit X\n",
            "[12.6GB(+0.0GB): 41.860sec] fit Y\n"
          ],
          "name": "stderr"
        },
        {
          "output_type": "stream",
          "text": [
            "fold 4: mean position error 4.815935592294751\n"
          ],
          "name": "stdout"
        },
        {
          "output_type": "stream",
          "text": [
            "[12.6GB(+0.0GB): 37.821sec] fit X\n",
            "[12.6GB(+0.0GB): 52.134sec] fit Y\n"
          ],
          "name": "stderr"
        },
        {
          "output_type": "stream",
          "text": [
            "fold 5: mean position error 4.6249536061596626\n"
          ],
          "name": "stdout"
        },
        {
          "output_type": "stream",
          "text": [
            "[12.6GB(-0.0GB): 54.125sec] fit X\n",
            "[12.6GB(+0.0GB): 61.929sec] fit Y\n"
          ],
          "name": "stderr"
        },
        {
          "output_type": "stream",
          "text": [
            "fold 6: mean position error 4.679983184548396\n"
          ],
          "name": "stdout"
        },
        {
          "output_type": "stream",
          "text": [
            "[12.6GB(+0.0GB): 46.949sec] fit X\n",
            "[12.6GB(+0.0GB): 44.756sec] fit Y\n"
          ],
          "name": "stderr"
        },
        {
          "output_type": "stream",
          "text": [
            "fold 7: mean position error 4.692117873400462\n"
          ],
          "name": "stdout"
        },
        {
          "output_type": "stream",
          "text": [
            "[12.6GB(+0.0GB): 49.555sec] fit X\n",
            "[12.6GB(+0.0GB): 42.513sec] fit Y\n"
          ],
          "name": "stderr"
        },
        {
          "output_type": "stream",
          "text": [
            "fold 8: mean position error 4.662055258804452\n"
          ],
          "name": "stdout"
        },
        {
          "output_type": "stream",
          "text": [
            "[12.6GB(+0.0GB): 34.306sec] fit X\n",
            "[12.6GB(+0.0GB): 42.200sec] fit Y\n"
          ],
          "name": "stderr"
        },
        {
          "output_type": "stream",
          "text": [
            "fold 9: mean position error 4.6837618401378505\n",
            "*+*+*+*+*+*+*+*+*+*+*+*+*+*+*+*+*+*+*+*+*+*+*+*+*+*+*+*+*+*+*+*+*+*+*+*+*+*+*+*+\n",
            "file #22, shape=(16174, 4545), name=5dbc1d84c1eb61796cf7c010_train.csv\n",
            "mean position error 4.693763119968068\n",
            "*+*+*+*+*+*+*+*+*+*+*+*+*+*+*+*+*+*+*+*+*+*+*+*+*+*+*+*+*+*+*+*+*+*+*+*+*+*+*+*+\n"
          ],
          "name": "stdout"
        },
        {
          "output_type": "stream",
          "text": [
            "100%|██████████| 11/11 [00:04<00:00,  2.65it/s]\n",
            "100%|██████████| 11/11 [00:00<00:00, 39.21it/s]\n"
          ],
          "name": "stderr"
        },
        {
          "output_type": "stream",
          "text": [
            "(15655, 4890)\n",
            "(648, 4889)\n"
          ],
          "name": "stdout"
        },
        {
          "output_type": "stream",
          "text": [
            "[11.7GB(+0.0GB): 31.688sec] fit X\n",
            "[11.7GB(+0.0GB): 31.230sec] fit Y\n"
          ],
          "name": "stderr"
        },
        {
          "output_type": "stream",
          "text": [
            "fold 0: mean position error 4.91494858720797\n"
          ],
          "name": "stdout"
        },
        {
          "output_type": "stream",
          "text": [
            "[11.7GB(+0.0GB): 32.122sec] fit X\n",
            "[11.7GB(+0.0GB): 30.399sec] fit Y\n"
          ],
          "name": "stderr"
        },
        {
          "output_type": "stream",
          "text": [
            "fold 1: mean position error 4.987766383741101\n"
          ],
          "name": "stdout"
        },
        {
          "output_type": "stream",
          "text": [
            "[11.7GB(+0.0GB): 23.989sec] fit X\n",
            "[11.7GB(+0.0GB): 29.308sec] fit Y\n"
          ],
          "name": "stderr"
        },
        {
          "output_type": "stream",
          "text": [
            "fold 2: mean position error 5.08205784306699\n"
          ],
          "name": "stdout"
        },
        {
          "output_type": "stream",
          "text": [
            "[11.7GB(-0.0GB): 24.027sec] fit X\n",
            "[11.7GB(+0.0GB): 37.197sec] fit Y\n"
          ],
          "name": "stderr"
        },
        {
          "output_type": "stream",
          "text": [
            "fold 3: mean position error 5.093649735577852\n"
          ],
          "name": "stdout"
        },
        {
          "output_type": "stream",
          "text": [
            "[11.7GB(+0.0GB): 36.368sec] fit X\n",
            "[11.7GB(+0.0GB): 31.710sec] fit Y\n"
          ],
          "name": "stderr"
        },
        {
          "output_type": "stream",
          "text": [
            "fold 4: mean position error 4.906461289885892\n"
          ],
          "name": "stdout"
        },
        {
          "output_type": "stream",
          "text": [
            "[11.7GB(+0.0GB): 26.899sec] fit X\n",
            "[11.7GB(-0.0GB): 26.026sec] fit Y\n"
          ],
          "name": "stderr"
        },
        {
          "output_type": "stream",
          "text": [
            "fold 5: mean position error 5.0681991696947994\n"
          ],
          "name": "stdout"
        },
        {
          "output_type": "stream",
          "text": [
            "[11.7GB(+0.0GB): 27.536sec] fit X\n",
            "[11.7GB(+0.0GB): 35.292sec] fit Y\n"
          ],
          "name": "stderr"
        },
        {
          "output_type": "stream",
          "text": [
            "fold 6: mean position error 5.036901418666357\n"
          ],
          "name": "stdout"
        },
        {
          "output_type": "stream",
          "text": [
            "[11.7GB(+0.0GB): 33.118sec] fit X\n",
            "[11.7GB(+0.0GB): 28.939sec] fit Y\n"
          ],
          "name": "stderr"
        },
        {
          "output_type": "stream",
          "text": [
            "fold 7: mean position error 4.775771480028172\n"
          ],
          "name": "stdout"
        },
        {
          "output_type": "stream",
          "text": [
            "[11.7GB(+0.0GB): 27.549sec] fit X\n",
            "[11.7GB(+0.0GB): 30.315sec] fit Y\n"
          ],
          "name": "stderr"
        },
        {
          "output_type": "stream",
          "text": [
            "fold 8: mean position error 4.955335908105703\n"
          ],
          "name": "stdout"
        },
        {
          "output_type": "stream",
          "text": [
            "[11.7GB(+0.0GB): 27.885sec] fit X\n",
            "[11.7GB(+0.0GB): 37.417sec] fit Y\n"
          ],
          "name": "stderr"
        },
        {
          "output_type": "stream",
          "text": [
            "fold 9: mean position error 4.898296075498376\n",
            "*+*+*+*+*+*+*+*+*+*+*+*+*+*+*+*+*+*+*+*+*+*+*+*+*+*+*+*+*+*+*+*+*+*+*+*+*+*+*+*+\n",
            "file #23, shape=(15655, 4890), name=5dc8cea7659e181adb076a3f_train.csv\n",
            "mean position error 4.971946785946666\n",
            "*+*+*+*+*+*+*+*+*+*+*+*+*+*+*+*+*+*+*+*+*+*+*+*+*+*+*+*+*+*+*+*+*+*+*+*+*+*+*+*+\n"
          ],
          "name": "stdout"
        }
      ]
    },
    {
      "cell_type": "code",
      "metadata": {
        "id": "fxdmRtRDdOid"
      },
      "source": [
        "all_preds = pd.concat(predictions)\n",
        "all_preds = all_preds.reindex(subm.index)"
      ],
      "execution_count": null,
      "outputs": []
    },
    {
      "cell_type": "code",
      "metadata": {
        "id": "HYF3AwsoOUCy",
        "colab": {
          "base_uri": "https://localhost:8080/",
          "height": 450
        },
        "outputId": "3de4ad28-f673-4f07-cd74-dae022a5c258"
      },
      "source": [
        "all_preds"
      ],
      "execution_count": null,
      "outputs": [
        {
          "output_type": "execute_result",
          "data": {
            "text/html": [
              "<div>\n",
              "<style scoped>\n",
              "    .dataframe tbody tr th:only-of-type {\n",
              "        vertical-align: middle;\n",
              "    }\n",
              "\n",
              "    .dataframe tbody tr th {\n",
              "        vertical-align: top;\n",
              "    }\n",
              "\n",
              "    .dataframe thead th {\n",
              "        text-align: right;\n",
              "    }\n",
              "</style>\n",
              "<table border=\"1\" class=\"dataframe\">\n",
              "  <thead>\n",
              "    <tr style=\"text-align: right;\">\n",
              "      <th></th>\n",
              "      <th>floor</th>\n",
              "      <th>x</th>\n",
              "      <th>y</th>\n",
              "    </tr>\n",
              "    <tr>\n",
              "      <th>site_path_timestamp</th>\n",
              "      <th></th>\n",
              "      <th></th>\n",
              "      <th></th>\n",
              "    </tr>\n",
              "  </thead>\n",
              "  <tbody>\n",
              "    <tr>\n",
              "      <th>5a0546857ecc773753327266_046cfa46be49fc10834815c6_0000000000009</th>\n",
              "      <td>0.0</td>\n",
              "      <td>93.958514</td>\n",
              "      <td>99.233139</td>\n",
              "    </tr>\n",
              "    <tr>\n",
              "      <th>5a0546857ecc773753327266_046cfa46be49fc10834815c6_0000000009017</th>\n",
              "      <td>0.0</td>\n",
              "      <td>91.940152</td>\n",
              "      <td>102.341637</td>\n",
              "    </tr>\n",
              "    <tr>\n",
              "      <th>5a0546857ecc773753327266_046cfa46be49fc10834815c6_0000000015326</th>\n",
              "      <td>0.0</td>\n",
              "      <td>89.112067</td>\n",
              "      <td>105.326688</td>\n",
              "    </tr>\n",
              "    <tr>\n",
              "      <th>5a0546857ecc773753327266_046cfa46be49fc10834815c6_0000000018763</th>\n",
              "      <td>0.0</td>\n",
              "      <td>89.678749</td>\n",
              "      <td>105.679917</td>\n",
              "    </tr>\n",
              "    <tr>\n",
              "      <th>5a0546857ecc773753327266_046cfa46be49fc10834815c6_0000000022328</th>\n",
              "      <td>0.0</td>\n",
              "      <td>90.620852</td>\n",
              "      <td>110.508695</td>\n",
              "    </tr>\n",
              "    <tr>\n",
              "      <th>...</th>\n",
              "      <td>...</td>\n",
              "      <td>...</td>\n",
              "      <td>...</td>\n",
              "    </tr>\n",
              "    <tr>\n",
              "      <th>5dc8cea7659e181adb076a3f_fd64de8c4a2fc5ebb0e9f412_0000000082589</th>\n",
              "      <td>NaN</td>\n",
              "      <td>NaN</td>\n",
              "      <td>NaN</td>\n",
              "    </tr>\n",
              "    <tr>\n",
              "      <th>5dc8cea7659e181adb076a3f_fd64de8c4a2fc5ebb0e9f412_0000000085758</th>\n",
              "      <td>NaN</td>\n",
              "      <td>NaN</td>\n",
              "      <td>NaN</td>\n",
              "    </tr>\n",
              "    <tr>\n",
              "      <th>5dc8cea7659e181adb076a3f_fd64de8c4a2fc5ebb0e9f412_0000000090895</th>\n",
              "      <td>NaN</td>\n",
              "      <td>NaN</td>\n",
              "      <td>NaN</td>\n",
              "    </tr>\n",
              "    <tr>\n",
              "      <th>5dc8cea7659e181adb076a3f_fd64de8c4a2fc5ebb0e9f412_0000000096899</th>\n",
              "      <td>NaN</td>\n",
              "      <td>NaN</td>\n",
              "      <td>NaN</td>\n",
              "    </tr>\n",
              "    <tr>\n",
              "      <th>5dc8cea7659e181adb076a3f_fd64de8c4a2fc5ebb0e9f412_0000000100447</th>\n",
              "      <td>NaN</td>\n",
              "      <td>NaN</td>\n",
              "      <td>NaN</td>\n",
              "    </tr>\n",
              "  </tbody>\n",
              "</table>\n",
              "<p>10133 rows × 3 columns</p>\n",
              "</div>"
            ],
            "text/plain": [
              "                                                    floor  ...           y\n",
              "site_path_timestamp                                        ...            \n",
              "5a0546857ecc773753327266_046cfa46be49fc10834815...    0.0  ...   99.233139\n",
              "5a0546857ecc773753327266_046cfa46be49fc10834815...    0.0  ...  102.341637\n",
              "5a0546857ecc773753327266_046cfa46be49fc10834815...    0.0  ...  105.326688\n",
              "5a0546857ecc773753327266_046cfa46be49fc10834815...    0.0  ...  105.679917\n",
              "5a0546857ecc773753327266_046cfa46be49fc10834815...    0.0  ...  110.508695\n",
              "...                                                   ...  ...         ...\n",
              "5dc8cea7659e181adb076a3f_fd64de8c4a2fc5ebb0e9f4...    NaN  ...         NaN\n",
              "5dc8cea7659e181adb076a3f_fd64de8c4a2fc5ebb0e9f4...    NaN  ...         NaN\n",
              "5dc8cea7659e181adb076a3f_fd64de8c4a2fc5ebb0e9f4...    NaN  ...         NaN\n",
              "5dc8cea7659e181adb076a3f_fd64de8c4a2fc5ebb0e9f4...    NaN  ...         NaN\n",
              "5dc8cea7659e181adb076a3f_fd64de8c4a2fc5ebb0e9f4...    NaN  ...         NaN\n",
              "\n",
              "[10133 rows x 3 columns]"
            ]
          },
          "metadata": {
            "tags": []
          },
          "execution_count": 48
        }
      ]
    },
    {
      "cell_type": "code",
      "metadata": {
        "id": "DuIro-hLyGS9"
      },
      "source": [
        "all_preds = pd.concat(predictions)\n",
        "all_preds = all_preds.reindex(subm.index)\n",
        "all_preds.to_csv('submission_lgbm_29.csv')"
      ],
      "execution_count": 26,
      "outputs": []
    },
    {
      "cell_type": "code",
      "metadata": {
        "id": "OwcjO7RAyjlL"
      },
      "source": [
        "!mv /content/submission_lgbm_29.csv /content/drive/MyDrive"
      ],
      "execution_count": 27,
      "outputs": []
    },
    {
      "cell_type": "code",
      "metadata": {
        "id": "WKx4AojKgO-a"
      },
      "source": [
        "floor = pd.read_csv('/content/drive/MyDrive/only_accurate_floor.csv')"
      ],
      "execution_count": null,
      "outputs": []
    },
    {
      "cell_type": "code",
      "metadata": {
        "id": "NVYZsTrLgMPK"
      },
      "source": [
        "all_preds['floor'] = floor['floor'].values"
      ],
      "execution_count": null,
      "outputs": []
    },
    {
      "cell_type": "code",
      "metadata": {
        "id": "8iObJE_ugabC"
      },
      "source": [
        "all_preds.to_csv('submission_lgbm_27.csv')"
      ],
      "execution_count": null,
      "outputs": []
    },
    {
      "cell_type": "code",
      "metadata": {
        "id": "3bLtT9APgZsf"
      },
      "source": [
        "!mv /content/submission_lgbm_27.csv /content/drive/MyDrive"
      ],
      "execution_count": null,
      "outputs": []
    },
    {
      "cell_type": "code",
      "metadata": {
        "id": "spMV_r8tym-p"
      },
      "source": [
        "pd."
      ],
      "execution_count": null,
      "outputs": []
    }
  ]
}