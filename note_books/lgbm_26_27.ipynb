{
  "nbformat": 4,
  "nbformat_minor": 0,
  "metadata": {
    "colab": {
      "name": "Untitled16.ipynb",
      "provenance": [],
      "machine_shape": "hm",
      "mount_file_id": "https://github.com/kyochanpy/Kaggle_Indoor_Location_Navigation/blob/main/note_books/lgbm_03.ipynb",
      "authorship_tag": "ABX9TyPcUBp75ryGwx/DoqjoY3K8",
      "include_colab_link": true
    },
    "kernelspec": {
      "name": "python3",
      "display_name": "Python 3"
    },
    "language_info": {
      "name": "python"
    },
    "accelerator": "GPU"
  },
  "cells": [
    {
      "cell_type": "markdown",
      "metadata": {
        "id": "view-in-github",
        "colab_type": "text"
      },
      "source": [
        "<a href=\"https://colab.research.google.com/github/kyochanpy/Kaggle_Indoor_Location_Navigation/blob/main/note_books/lgbm_26_27.ipynb\" target=\"_parent\"><img src=\"https://colab.research.google.com/assets/colab-badge.svg\" alt=\"Open In Colab\"/></a>"
      ]
    },
    {
      "cell_type": "code",
      "metadata": {
        "id": "6SU575qxxCew"
      },
      "source": [
        "import numpy as np\n",
        "import pandas as pd\n",
        "import scipy.stats as stats\n",
        "from pathlib import Path\n",
        "import glob\n",
        "\n",
        "from sklearn.model_selection import KFold\n",
        "import lightgbm as lgb\n",
        "\n",
        "import psutil\n",
        "import random\n",
        "import os\n",
        "import shutil\n",
        "import time\n",
        "import sys\n",
        "import math\n",
        "from contextlib import contextmanager"
      ],
      "execution_count": 1,
      "outputs": []
    },
    {
      "cell_type": "code",
      "metadata": {
        "id": "sm4BoEzDxFPe"
      },
      "source": [
        "N_SPLITS = 10\n",
        "SEED = 42\n"
      ],
      "execution_count": 5,
      "outputs": []
    },
    {
      "cell_type": "code",
      "metadata": {
        "id": "TWuzNzX5xN-s"
      },
      "source": [
        "LOG_PATH = Path(\"./log/\")\n",
        "LOG_PATH.mkdir(parents=True, exist_ok=True)\n"
      ],
      "execution_count": 6,
      "outputs": []
    },
    {
      "cell_type": "code",
      "metadata": {
        "id": "KuXjg4fnxQsS"
      },
      "source": [
        "@contextmanager\n",
        "def timer(name: str):\n",
        "    t0 = time.time()\n",
        "    p = psutil.Process(os.getpid())\n",
        "    m0 = p.memory_info()[0] / 2. ** 30\n",
        "    try:\n",
        "        yield\n",
        "    finally:\n",
        "        m1 = p.memory_info()[0] / 2. ** 30\n",
        "        delta = m1 - m0\n",
        "        sign = '+' if delta >= 0 else '-'\n",
        "        delta = math.fabs(delta)\n",
        "        print(f\"[{m1:.1f}GB({sign}{delta:.1f}GB): {time.time() - t0:.3f}sec] {name}\", file=sys.stderr)\n"
      ],
      "execution_count": 4,
      "outputs": []
    },
    {
      "cell_type": "code",
      "metadata": {
        "id": "t-WJLWe9xUWC"
      },
      "source": [
        "def set_seed(seed=42):\n",
        "    random.seed(seed)\n",
        "    os.environ[\"PYTHONHASHSEED\"] = str(seed)\n",
        "    np.random.seed(seed)\n",
        "\n",
        "    \n",
        "def comp_metric(xhat, yhat, x, y):\n",
        "    intermediate = np.sqrt(np.power(xhat-x, 2) + np.power(yhat-y, 2))\n",
        "    return intermediate.sum()/xhat.shape[0]\n",
        "\n",
        "\n",
        "def score_log(df: pd.DataFrame, num_files: int, nam_file: str, data_shape: tuple, n_fold: int, seed: int, mpe: float):\n",
        "    score_dict = {'n_files': num_files, 'file_name': nam_file, 'shape': data_shape, 'fold': n_fold, 'seed': seed, 'score': mpe}\n",
        "    # noinspection PyTypeChecker\n",
        "    df = pd.concat([df, pd.DataFrame.from_dict([score_dict])])\n",
        "    df.to_csv(LOG_PATH / f\"log_score.csv\", index=False)\n",
        "    return df"
      ],
      "execution_count": 18,
      "outputs": []
    },
    {
      "cell_type": "code",
      "metadata": {
        "id": "-Y0snFNmxYSg"
      },
      "source": [
        "set_seed(SEED)\n"
      ],
      "execution_count": 8,
      "outputs": []
    },
    {
      "cell_type": "code",
      "metadata": {
        "id": "63hV5hB1xaad"
      },
      "source": [
        "feature_dir = \"/content/drive/MyDrive/wifi_with_floor\"\n",
        "train_files = sorted(glob.glob(os.path.join(feature_dir, '*_train_with_floor.csv')))\n",
        "test_files = sorted(glob.glob(os.path.join(feature_dir, '*_test_with_floor.csv')))\n",
        "subm = pd.read_csv('/content/drive/MyDrive/sample_submission.csv', index_col=0)"
      ],
      "execution_count": 32,
      "outputs": []
    },
    {
      "cell_type": "code",
      "metadata": {
        "colab": {
          "base_uri": "https://localhost:8080/",
          "height": 456
        },
        "id": "RIGxXapgb7az",
        "outputId": "6bb04e27-4a6e-4cce-c44c-9f8f4691b33b"
      },
      "source": [
        "a = pd.read_csv('/content/drive/MyDrive/wifi_with_floor/5a0546857ecc773753327266_test_with_floor.csv')\n",
        "a"
      ],
      "execution_count": 22,
      "outputs": [
        {
          "output_type": "execute_result",
          "data": {
            "text/html": [
              "<div>\n",
              "<style scoped>\n",
              "    .dataframe tbody tr th:only-of-type {\n",
              "        vertical-align: middle;\n",
              "    }\n",
              "\n",
              "    .dataframe tbody tr th {\n",
              "        vertical-align: top;\n",
              "    }\n",
              "\n",
              "    .dataframe thead th {\n",
              "        text-align: right;\n",
              "    }\n",
              "</style>\n",
              "<table border=\"1\" class=\"dataframe\">\n",
              "  <thead>\n",
              "    <tr style=\"text-align: right;\">\n",
              "      <th></th>\n",
              "      <th>Unnamed: 0</th>\n",
              "      <th>000840e5c600de293cea57f13326f273c86c3988</th>\n",
              "      <th>0023c80b0e4cb8338cf25de26143bb0570a16471</th>\n",
              "      <th>005246b6f51feb1a069e8f005d3e6aba2591b65b</th>\n",
              "      <th>0076ff7a084cb2ac8c146139965ab1be296e72c4</th>\n",
              "      <th>0089ad1dd75b13e2c3ceda344988c9f89a83a2f9</th>\n",
              "      <th>009a3ed672be7bd1b9c4437b43a53296771af098</th>\n",
              "      <th>00ad587dcb9c7ce3788b92e22777a22ee0efea31</th>\n",
              "      <th>00af060fc145ee6a6a50475efa57b91cbf54237f</th>\n",
              "      <th>00bcc61bdea4d52d050822d66952dd707c2fcdf3</th>\n",
              "      <th>00c8933965e23cd2bb890ca08ee7f8a22f933df8</th>\n",
              "      <th>00e2787f25a1d770f62ed57d08b9393c7105b00d</th>\n",
              "      <th>00ef32991244ca6ce16c9ee3b910886401766bf6</th>\n",
              "      <th>00f0904087c01d922d6ebf3005607dfdeaf6687b</th>\n",
              "      <th>00f09c4561768a871af2921cffa0a4fda515766b</th>\n",
              "      <th>00f36a2e037357f98009f8d084fa70eb5071aa42</th>\n",
              "      <th>0102fdd6f12bee16a21bb62cd67afa00d2272670</th>\n",
              "      <th>011aac59a4af0f887f3914bf0dca6263625e9c5b</th>\n",
              "      <th>011e20ebf721a1c6dfec42e8ed1e2ac566073a2a</th>\n",
              "      <th>01506a39edc2da8d9003f0f12ce5dcc2e8c2772e</th>\n",
              "      <th>015504eea807d723f1d1a1aca43544189830aed7</th>\n",
              "      <th>01846fc4449a414413024fbc6d2e9be1a2203f3c</th>\n",
              "      <th>0192ce7fc9f7e169d3edd58151d50555d70ebb27</th>\n",
              "      <th>019f793ca026ac0c1489ba3a199984aa7322ac55</th>\n",
              "      <th>01a39206e3987e6708631b62b70ecfd55ab05a7d</th>\n",
              "      <th>01c325eeb378ebe2ab3212fe86bf0060f71ced22</th>\n",
              "      <th>01d2f676abab6ec03ec5dc696bfd49d66e392ea1</th>\n",
              "      <th>01da12eb27c6e37d03d691c31b40591a724db4a2</th>\n",
              "      <th>01dd00cd784a639f7d6609ddc8bfc6c9af3b47d3</th>\n",
              "      <th>01e25e4a25acd32baf5137b3031151f751fadbb4</th>\n",
              "      <th>01ead5ee97d0329b2c228fece5a96b0358a3cab1</th>\n",
              "      <th>0231e64a6307175a78f12cfe001c579e580ed721</th>\n",
              "      <th>0235185b1ffbe48499aa88fad9f58aad7c31832f</th>\n",
              "      <th>026c2f057932da75680b21ecdbd23bf9cb9350f3</th>\n",
              "      <th>028a310e23177c3747d37971678dd964ee28ce17</th>\n",
              "      <th>02a1be3a5dab38320f879489d8a1e0f2a72768b3</th>\n",
              "      <th>02d90a0bc95e068a8f75e00b3bd78579cb996c89</th>\n",
              "      <th>02d93bd28ad16b985328fa798b164c54bd8dcc0c</th>\n",
              "      <th>02eb2d69ac77b3bf6790139cb1a3b3c4571ecad4</th>\n",
              "      <th>02f764b7b09485106263e56ed9573966b48c0ad7</th>\n",
              "      <th>...</th>\n",
              "      <th>fd5da29ea31fc8fa2315f92f0c067e4e24e42b05</th>\n",
              "      <th>fd76579680a8142a19e69dcd6c33db61dc0a2444</th>\n",
              "      <th>fd7e06b88954f0ca0a2987e1741453624462bcc6</th>\n",
              "      <th>fd83a61cb82476f0ad6af28c4cd5872f285fd104</th>\n",
              "      <th>fd963f68e158c7e77bdd1d0a867927a1d270e972</th>\n",
              "      <th>fd977a3af7be241a9ed0213acb3aa75e5dc00253</th>\n",
              "      <th>fdb1ad87bd6fb08014267f2586faeed0edc7412b</th>\n",
              "      <th>fdc09ce75c596224ceb7e160e17c76f88453c246</th>\n",
              "      <th>fdc189e5a19850397f37201f4acc378cfddcf0d6</th>\n",
              "      <th>fdc19f011587b75c11a6c30d8ca06d90107b6bde</th>\n",
              "      <th>fdcce999b70500e2117e22cb9e1e5977ee28fbb3</th>\n",
              "      <th>fdf37fa13679f581bdfaae3b99e368633e0a144b</th>\n",
              "      <th>fdfad99711e053cd7dca1057f8dfb80b2f275728</th>\n",
              "      <th>fdfe926caf5f49a88a9bcab8d025e887f422128b</th>\n",
              "      <th>fe308dfc915f33c4217763c942ece65760cdf259</th>\n",
              "      <th>fe3211f90e4ab1f500e10fe175ae6142f4b13130</th>\n",
              "      <th>fe3461438b7a21c85a42ffd76030ece52e11dd7d</th>\n",
              "      <th>fe3c891bfb4d92361744aa697be30809c182020a</th>\n",
              "      <th>fe45b1591886927c2e9165618b4850019fd2606f</th>\n",
              "      <th>fe755bd56d9ed25f77b0d180a02c14e901af6332</th>\n",
              "      <th>fe994d2d43075b58afeee240f59149d3bed4660f</th>\n",
              "      <th>fe99e94b9d7235df4c50ec1b0ea9365e3ccdd5d3</th>\n",
              "      <th>feb15bdc09e48920ebf0b57460d7e70fe45c0553</th>\n",
              "      <th>feb165b7efdf8fdccb09368c512418917122f485</th>\n",
              "      <th>feb21e7aa4d21fba283d038b5cbf2ca33d929986</th>\n",
              "      <th>fec3a97cf01c9dfb1178693cc2924aabfbd4e1ef</th>\n",
              "      <th>ff079ef1efd3ec97d9914bc40e45aece8f680704</th>\n",
              "      <th>ff102b88d3012a2c798adee007c4a20172b0ffae</th>\n",
              "      <th>ff115962b9756008e3bd8b6a969d53b1ac7a4616</th>\n",
              "      <th>ff5c19eefe8884f125c3a91736fc0fb32ecdd919</th>\n",
              "      <th>ff70d33df144bdc870f2fd804d713e3c430f1c9b</th>\n",
              "      <th>ffa034716a62f0313b4cc2a05576e594b5ae7bdc</th>\n",
              "      <th>ffa41c79865d7fb336f586e0dec8b080db1027fb</th>\n",
              "      <th>ffc7c34369257431c7de9129094deb923bb3e3af</th>\n",
              "      <th>ffe53bd4dcfaa42668baf5ea0d2ddc676538fce0</th>\n",
              "      <th>fffedf27bf3bf8fa64d01e6b0a6affc9170716f1</th>\n",
              "      <th>floor</th>\n",
              "      <th>site_path_timestamp</th>\n",
              "      <th>path</th>\n",
              "      <th>timestamp</th>\n",
              "    </tr>\n",
              "  </thead>\n",
              "  <tbody>\n",
              "    <tr>\n",
              "      <th>0</th>\n",
              "      <td>0</td>\n",
              "      <td>-51</td>\n",
              "      <td>-999</td>\n",
              "      <td>-999</td>\n",
              "      <td>-999</td>\n",
              "      <td>-999</td>\n",
              "      <td>-999</td>\n",
              "      <td>-999</td>\n",
              "      <td>-999</td>\n",
              "      <td>-999</td>\n",
              "      <td>-999</td>\n",
              "      <td>-999</td>\n",
              "      <td>-999</td>\n",
              "      <td>-999</td>\n",
              "      <td>-999</td>\n",
              "      <td>-999</td>\n",
              "      <td>-999</td>\n",
              "      <td>-999</td>\n",
              "      <td>-72</td>\n",
              "      <td>-999</td>\n",
              "      <td>-999</td>\n",
              "      <td>-999</td>\n",
              "      <td>-999</td>\n",
              "      <td>-999</td>\n",
              "      <td>-999</td>\n",
              "      <td>-999</td>\n",
              "      <td>-71</td>\n",
              "      <td>-55</td>\n",
              "      <td>-999</td>\n",
              "      <td>-75</td>\n",
              "      <td>-999</td>\n",
              "      <td>-999</td>\n",
              "      <td>-999</td>\n",
              "      <td>-999</td>\n",
              "      <td>-66</td>\n",
              "      <td>-47</td>\n",
              "      <td>-999</td>\n",
              "      <td>-999</td>\n",
              "      <td>-999</td>\n",
              "      <td>-999</td>\n",
              "      <td>...</td>\n",
              "      <td>-999</td>\n",
              "      <td>-999</td>\n",
              "      <td>-999</td>\n",
              "      <td>-999</td>\n",
              "      <td>-999</td>\n",
              "      <td>-999</td>\n",
              "      <td>-83</td>\n",
              "      <td>-999</td>\n",
              "      <td>-999</td>\n",
              "      <td>-83</td>\n",
              "      <td>-999</td>\n",
              "      <td>-78</td>\n",
              "      <td>-999</td>\n",
              "      <td>-63</td>\n",
              "      <td>-999</td>\n",
              "      <td>-999</td>\n",
              "      <td>-61</td>\n",
              "      <td>-999</td>\n",
              "      <td>-999</td>\n",
              "      <td>-999</td>\n",
              "      <td>-999</td>\n",
              "      <td>-999</td>\n",
              "      <td>-999</td>\n",
              "      <td>-999</td>\n",
              "      <td>-999</td>\n",
              "      <td>-999</td>\n",
              "      <td>-999</td>\n",
              "      <td>-999</td>\n",
              "      <td>-999</td>\n",
              "      <td>-999</td>\n",
              "      <td>-71</td>\n",
              "      <td>-999</td>\n",
              "      <td>-999</td>\n",
              "      <td>-999</td>\n",
              "      <td>-999</td>\n",
              "      <td>-999</td>\n",
              "      <td>0</td>\n",
              "      <td>5a0546857ecc773753327266_046cfa46be49fc1083481...</td>\n",
              "      <td>046cfa46be49fc10834815c6</td>\n",
              "      <td>9</td>\n",
              "    </tr>\n",
              "    <tr>\n",
              "      <th>1</th>\n",
              "      <td>1</td>\n",
              "      <td>-55</td>\n",
              "      <td>-999</td>\n",
              "      <td>-999</td>\n",
              "      <td>-999</td>\n",
              "      <td>-999</td>\n",
              "      <td>-999</td>\n",
              "      <td>-999</td>\n",
              "      <td>-999</td>\n",
              "      <td>-999</td>\n",
              "      <td>-999</td>\n",
              "      <td>-999</td>\n",
              "      <td>-999</td>\n",
              "      <td>-999</td>\n",
              "      <td>-999</td>\n",
              "      <td>-999</td>\n",
              "      <td>-999</td>\n",
              "      <td>-999</td>\n",
              "      <td>-999</td>\n",
              "      <td>-999</td>\n",
              "      <td>-999</td>\n",
              "      <td>-999</td>\n",
              "      <td>-999</td>\n",
              "      <td>-999</td>\n",
              "      <td>-999</td>\n",
              "      <td>-999</td>\n",
              "      <td>-74</td>\n",
              "      <td>-65</td>\n",
              "      <td>-999</td>\n",
              "      <td>-82</td>\n",
              "      <td>-999</td>\n",
              "      <td>-999</td>\n",
              "      <td>-999</td>\n",
              "      <td>-999</td>\n",
              "      <td>-66</td>\n",
              "      <td>-65</td>\n",
              "      <td>-999</td>\n",
              "      <td>-999</td>\n",
              "      <td>-999</td>\n",
              "      <td>-999</td>\n",
              "      <td>...</td>\n",
              "      <td>-999</td>\n",
              "      <td>-999</td>\n",
              "      <td>-999</td>\n",
              "      <td>-999</td>\n",
              "      <td>-999</td>\n",
              "      <td>-999</td>\n",
              "      <td>-77</td>\n",
              "      <td>-999</td>\n",
              "      <td>-999</td>\n",
              "      <td>-86</td>\n",
              "      <td>-999</td>\n",
              "      <td>-75</td>\n",
              "      <td>-999</td>\n",
              "      <td>-70</td>\n",
              "      <td>-999</td>\n",
              "      <td>-999</td>\n",
              "      <td>-57</td>\n",
              "      <td>-999</td>\n",
              "      <td>-999</td>\n",
              "      <td>-999</td>\n",
              "      <td>-999</td>\n",
              "      <td>-999</td>\n",
              "      <td>-999</td>\n",
              "      <td>-999</td>\n",
              "      <td>-999</td>\n",
              "      <td>-999</td>\n",
              "      <td>-999</td>\n",
              "      <td>-999</td>\n",
              "      <td>-999</td>\n",
              "      <td>-999</td>\n",
              "      <td>-71</td>\n",
              "      <td>-999</td>\n",
              "      <td>-89</td>\n",
              "      <td>-999</td>\n",
              "      <td>-999</td>\n",
              "      <td>-999</td>\n",
              "      <td>0</td>\n",
              "      <td>5a0546857ecc773753327266_046cfa46be49fc1083481...</td>\n",
              "      <td>046cfa46be49fc10834815c6</td>\n",
              "      <td>9017</td>\n",
              "    </tr>\n",
              "    <tr>\n",
              "      <th>2</th>\n",
              "      <td>2</td>\n",
              "      <td>-50</td>\n",
              "      <td>-999</td>\n",
              "      <td>-999</td>\n",
              "      <td>-999</td>\n",
              "      <td>-999</td>\n",
              "      <td>-999</td>\n",
              "      <td>-999</td>\n",
              "      <td>-999</td>\n",
              "      <td>-999</td>\n",
              "      <td>-999</td>\n",
              "      <td>-999</td>\n",
              "      <td>-999</td>\n",
              "      <td>-999</td>\n",
              "      <td>-999</td>\n",
              "      <td>-999</td>\n",
              "      <td>-999</td>\n",
              "      <td>-999</td>\n",
              "      <td>-999</td>\n",
              "      <td>-999</td>\n",
              "      <td>-999</td>\n",
              "      <td>-999</td>\n",
              "      <td>-999</td>\n",
              "      <td>-999</td>\n",
              "      <td>-999</td>\n",
              "      <td>-999</td>\n",
              "      <td>-78</td>\n",
              "      <td>-65</td>\n",
              "      <td>-999</td>\n",
              "      <td>-76</td>\n",
              "      <td>-999</td>\n",
              "      <td>-999</td>\n",
              "      <td>-999</td>\n",
              "      <td>-999</td>\n",
              "      <td>-999</td>\n",
              "      <td>-58</td>\n",
              "      <td>-999</td>\n",
              "      <td>-999</td>\n",
              "      <td>-999</td>\n",
              "      <td>-999</td>\n",
              "      <td>...</td>\n",
              "      <td>-999</td>\n",
              "      <td>-999</td>\n",
              "      <td>-999</td>\n",
              "      <td>-999</td>\n",
              "      <td>-999</td>\n",
              "      <td>-999</td>\n",
              "      <td>-78</td>\n",
              "      <td>-999</td>\n",
              "      <td>-999</td>\n",
              "      <td>-85</td>\n",
              "      <td>-999</td>\n",
              "      <td>-80</td>\n",
              "      <td>-68</td>\n",
              "      <td>-58</td>\n",
              "      <td>-999</td>\n",
              "      <td>-999</td>\n",
              "      <td>-57</td>\n",
              "      <td>-999</td>\n",
              "      <td>-999</td>\n",
              "      <td>-999</td>\n",
              "      <td>-999</td>\n",
              "      <td>-999</td>\n",
              "      <td>-999</td>\n",
              "      <td>-999</td>\n",
              "      <td>-999</td>\n",
              "      <td>-999</td>\n",
              "      <td>-999</td>\n",
              "      <td>-999</td>\n",
              "      <td>-999</td>\n",
              "      <td>-999</td>\n",
              "      <td>-71</td>\n",
              "      <td>-999</td>\n",
              "      <td>-89</td>\n",
              "      <td>-999</td>\n",
              "      <td>-999</td>\n",
              "      <td>-999</td>\n",
              "      <td>0</td>\n",
              "      <td>5a0546857ecc773753327266_046cfa46be49fc1083481...</td>\n",
              "      <td>046cfa46be49fc10834815c6</td>\n",
              "      <td>15326</td>\n",
              "    </tr>\n",
              "    <tr>\n",
              "      <th>3</th>\n",
              "      <td>3</td>\n",
              "      <td>-45</td>\n",
              "      <td>-999</td>\n",
              "      <td>-999</td>\n",
              "      <td>-999</td>\n",
              "      <td>-999</td>\n",
              "      <td>-999</td>\n",
              "      <td>-999</td>\n",
              "      <td>-999</td>\n",
              "      <td>-999</td>\n",
              "      <td>-999</td>\n",
              "      <td>-999</td>\n",
              "      <td>-999</td>\n",
              "      <td>-999</td>\n",
              "      <td>-999</td>\n",
              "      <td>-999</td>\n",
              "      <td>-999</td>\n",
              "      <td>-999</td>\n",
              "      <td>-999</td>\n",
              "      <td>-999</td>\n",
              "      <td>-999</td>\n",
              "      <td>-999</td>\n",
              "      <td>-999</td>\n",
              "      <td>-999</td>\n",
              "      <td>-999</td>\n",
              "      <td>-999</td>\n",
              "      <td>-77</td>\n",
              "      <td>-69</td>\n",
              "      <td>-999</td>\n",
              "      <td>-77</td>\n",
              "      <td>-999</td>\n",
              "      <td>-999</td>\n",
              "      <td>-999</td>\n",
              "      <td>-999</td>\n",
              "      <td>-71</td>\n",
              "      <td>-58</td>\n",
              "      <td>-999</td>\n",
              "      <td>-999</td>\n",
              "      <td>-999</td>\n",
              "      <td>-999</td>\n",
              "      <td>...</td>\n",
              "      <td>-999</td>\n",
              "      <td>-999</td>\n",
              "      <td>-999</td>\n",
              "      <td>-999</td>\n",
              "      <td>-999</td>\n",
              "      <td>-999</td>\n",
              "      <td>-86</td>\n",
              "      <td>-999</td>\n",
              "      <td>-999</td>\n",
              "      <td>-85</td>\n",
              "      <td>-999</td>\n",
              "      <td>-81</td>\n",
              "      <td>-68</td>\n",
              "      <td>-64</td>\n",
              "      <td>-999</td>\n",
              "      <td>-999</td>\n",
              "      <td>-57</td>\n",
              "      <td>-999</td>\n",
              "      <td>-999</td>\n",
              "      <td>-999</td>\n",
              "      <td>-999</td>\n",
              "      <td>-999</td>\n",
              "      <td>-999</td>\n",
              "      <td>-999</td>\n",
              "      <td>-999</td>\n",
              "      <td>-999</td>\n",
              "      <td>-999</td>\n",
              "      <td>-999</td>\n",
              "      <td>-999</td>\n",
              "      <td>-999</td>\n",
              "      <td>-71</td>\n",
              "      <td>-999</td>\n",
              "      <td>-89</td>\n",
              "      <td>-999</td>\n",
              "      <td>-999</td>\n",
              "      <td>-999</td>\n",
              "      <td>0</td>\n",
              "      <td>5a0546857ecc773753327266_046cfa46be49fc1083481...</td>\n",
              "      <td>046cfa46be49fc10834815c6</td>\n",
              "      <td>18763</td>\n",
              "    </tr>\n",
              "    <tr>\n",
              "      <th>4</th>\n",
              "      <td>4</td>\n",
              "      <td>-51</td>\n",
              "      <td>-999</td>\n",
              "      <td>-999</td>\n",
              "      <td>-999</td>\n",
              "      <td>-999</td>\n",
              "      <td>-999</td>\n",
              "      <td>-999</td>\n",
              "      <td>-999</td>\n",
              "      <td>-999</td>\n",
              "      <td>-999</td>\n",
              "      <td>-999</td>\n",
              "      <td>-999</td>\n",
              "      <td>-999</td>\n",
              "      <td>-999</td>\n",
              "      <td>-999</td>\n",
              "      <td>-999</td>\n",
              "      <td>-999</td>\n",
              "      <td>-999</td>\n",
              "      <td>-999</td>\n",
              "      <td>-999</td>\n",
              "      <td>-999</td>\n",
              "      <td>-999</td>\n",
              "      <td>-999</td>\n",
              "      <td>-999</td>\n",
              "      <td>-999</td>\n",
              "      <td>-80</td>\n",
              "      <td>-69</td>\n",
              "      <td>-999</td>\n",
              "      <td>-77</td>\n",
              "      <td>-999</td>\n",
              "      <td>-999</td>\n",
              "      <td>-999</td>\n",
              "      <td>-999</td>\n",
              "      <td>-71</td>\n",
              "      <td>-58</td>\n",
              "      <td>-999</td>\n",
              "      <td>-999</td>\n",
              "      <td>-999</td>\n",
              "      <td>-999</td>\n",
              "      <td>...</td>\n",
              "      <td>-999</td>\n",
              "      <td>-999</td>\n",
              "      <td>-999</td>\n",
              "      <td>-999</td>\n",
              "      <td>-999</td>\n",
              "      <td>-999</td>\n",
              "      <td>-86</td>\n",
              "      <td>-999</td>\n",
              "      <td>-999</td>\n",
              "      <td>-85</td>\n",
              "      <td>-999</td>\n",
              "      <td>-82</td>\n",
              "      <td>-75</td>\n",
              "      <td>-64</td>\n",
              "      <td>-999</td>\n",
              "      <td>-999</td>\n",
              "      <td>-57</td>\n",
              "      <td>-999</td>\n",
              "      <td>-999</td>\n",
              "      <td>-999</td>\n",
              "      <td>-999</td>\n",
              "      <td>-999</td>\n",
              "      <td>-999</td>\n",
              "      <td>-999</td>\n",
              "      <td>-999</td>\n",
              "      <td>-999</td>\n",
              "      <td>-999</td>\n",
              "      <td>-999</td>\n",
              "      <td>-999</td>\n",
              "      <td>-999</td>\n",
              "      <td>-71</td>\n",
              "      <td>-999</td>\n",
              "      <td>-89</td>\n",
              "      <td>-999</td>\n",
              "      <td>-999</td>\n",
              "      <td>-999</td>\n",
              "      <td>0</td>\n",
              "      <td>5a0546857ecc773753327266_046cfa46be49fc1083481...</td>\n",
              "      <td>046cfa46be49fc10834815c6</td>\n",
              "      <td>22328</td>\n",
              "    </tr>\n",
              "    <tr>\n",
              "      <th>...</th>\n",
              "      <td>...</td>\n",
              "      <td>...</td>\n",
              "      <td>...</td>\n",
              "      <td>...</td>\n",
              "      <td>...</td>\n",
              "      <td>...</td>\n",
              "      <td>...</td>\n",
              "      <td>...</td>\n",
              "      <td>...</td>\n",
              "      <td>...</td>\n",
              "      <td>...</td>\n",
              "      <td>...</td>\n",
              "      <td>...</td>\n",
              "      <td>...</td>\n",
              "      <td>...</td>\n",
              "      <td>...</td>\n",
              "      <td>...</td>\n",
              "      <td>...</td>\n",
              "      <td>...</td>\n",
              "      <td>...</td>\n",
              "      <td>...</td>\n",
              "      <td>...</td>\n",
              "      <td>...</td>\n",
              "      <td>...</td>\n",
              "      <td>...</td>\n",
              "      <td>...</td>\n",
              "      <td>...</td>\n",
              "      <td>...</td>\n",
              "      <td>...</td>\n",
              "      <td>...</td>\n",
              "      <td>...</td>\n",
              "      <td>...</td>\n",
              "      <td>...</td>\n",
              "      <td>...</td>\n",
              "      <td>...</td>\n",
              "      <td>...</td>\n",
              "      <td>...</td>\n",
              "      <td>...</td>\n",
              "      <td>...</td>\n",
              "      <td>...</td>\n",
              "      <td>...</td>\n",
              "      <td>...</td>\n",
              "      <td>...</td>\n",
              "      <td>...</td>\n",
              "      <td>...</td>\n",
              "      <td>...</td>\n",
              "      <td>...</td>\n",
              "      <td>...</td>\n",
              "      <td>...</td>\n",
              "      <td>...</td>\n",
              "      <td>...</td>\n",
              "      <td>...</td>\n",
              "      <td>...</td>\n",
              "      <td>...</td>\n",
              "      <td>...</td>\n",
              "      <td>...</td>\n",
              "      <td>...</td>\n",
              "      <td>...</td>\n",
              "      <td>...</td>\n",
              "      <td>...</td>\n",
              "      <td>...</td>\n",
              "      <td>...</td>\n",
              "      <td>...</td>\n",
              "      <td>...</td>\n",
              "      <td>...</td>\n",
              "      <td>...</td>\n",
              "      <td>...</td>\n",
              "      <td>...</td>\n",
              "      <td>...</td>\n",
              "      <td>...</td>\n",
              "      <td>...</td>\n",
              "      <td>...</td>\n",
              "      <td>...</td>\n",
              "      <td>...</td>\n",
              "      <td>...</td>\n",
              "      <td>...</td>\n",
              "      <td>...</td>\n",
              "      <td>...</td>\n",
              "      <td>...</td>\n",
              "      <td>...</td>\n",
              "      <td>...</td>\n",
              "    </tr>\n",
              "    <tr>\n",
              "      <th>294</th>\n",
              "      <td>294</td>\n",
              "      <td>-999</td>\n",
              "      <td>-999</td>\n",
              "      <td>-999</td>\n",
              "      <td>-999</td>\n",
              "      <td>-999</td>\n",
              "      <td>-999</td>\n",
              "      <td>-999</td>\n",
              "      <td>-999</td>\n",
              "      <td>-999</td>\n",
              "      <td>-999</td>\n",
              "      <td>-999</td>\n",
              "      <td>-999</td>\n",
              "      <td>-999</td>\n",
              "      <td>-87</td>\n",
              "      <td>-999</td>\n",
              "      <td>-999</td>\n",
              "      <td>-999</td>\n",
              "      <td>-999</td>\n",
              "      <td>-999</td>\n",
              "      <td>-86</td>\n",
              "      <td>-999</td>\n",
              "      <td>-999</td>\n",
              "      <td>-999</td>\n",
              "      <td>-999</td>\n",
              "      <td>-999</td>\n",
              "      <td>-999</td>\n",
              "      <td>-999</td>\n",
              "      <td>-999</td>\n",
              "      <td>-999</td>\n",
              "      <td>-999</td>\n",
              "      <td>-999</td>\n",
              "      <td>-999</td>\n",
              "      <td>-999</td>\n",
              "      <td>-999</td>\n",
              "      <td>-999</td>\n",
              "      <td>-999</td>\n",
              "      <td>-999</td>\n",
              "      <td>-999</td>\n",
              "      <td>-999</td>\n",
              "      <td>...</td>\n",
              "      <td>-999</td>\n",
              "      <td>-999</td>\n",
              "      <td>-999</td>\n",
              "      <td>-999</td>\n",
              "      <td>-999</td>\n",
              "      <td>-999</td>\n",
              "      <td>-999</td>\n",
              "      <td>-999</td>\n",
              "      <td>-999</td>\n",
              "      <td>-999</td>\n",
              "      <td>-84</td>\n",
              "      <td>-999</td>\n",
              "      <td>-999</td>\n",
              "      <td>-999</td>\n",
              "      <td>-999</td>\n",
              "      <td>-85</td>\n",
              "      <td>-999</td>\n",
              "      <td>-999</td>\n",
              "      <td>-999</td>\n",
              "      <td>-999</td>\n",
              "      <td>-999</td>\n",
              "      <td>-999</td>\n",
              "      <td>-999</td>\n",
              "      <td>-999</td>\n",
              "      <td>-999</td>\n",
              "      <td>-999</td>\n",
              "      <td>-999</td>\n",
              "      <td>-999</td>\n",
              "      <td>-999</td>\n",
              "      <td>-999</td>\n",
              "      <td>-999</td>\n",
              "      <td>-999</td>\n",
              "      <td>-999</td>\n",
              "      <td>-999</td>\n",
              "      <td>-999</td>\n",
              "      <td>-999</td>\n",
              "      <td>-1</td>\n",
              "      <td>5a0546857ecc773753327266_ffcd9524c80c0fa5bb859...</td>\n",
              "      <td>ffcd9524c80c0fa5bb859eaf</td>\n",
              "      <td>35117</td>\n",
              "    </tr>\n",
              "    <tr>\n",
              "      <th>295</th>\n",
              "      <td>295</td>\n",
              "      <td>-999</td>\n",
              "      <td>-999</td>\n",
              "      <td>-999</td>\n",
              "      <td>-999</td>\n",
              "      <td>-999</td>\n",
              "      <td>-999</td>\n",
              "      <td>-999</td>\n",
              "      <td>-999</td>\n",
              "      <td>-999</td>\n",
              "      <td>-999</td>\n",
              "      <td>-999</td>\n",
              "      <td>-999</td>\n",
              "      <td>-999</td>\n",
              "      <td>-87</td>\n",
              "      <td>-999</td>\n",
              "      <td>-999</td>\n",
              "      <td>-999</td>\n",
              "      <td>-999</td>\n",
              "      <td>-999</td>\n",
              "      <td>-86</td>\n",
              "      <td>-999</td>\n",
              "      <td>-999</td>\n",
              "      <td>-999</td>\n",
              "      <td>-999</td>\n",
              "      <td>-999</td>\n",
              "      <td>-999</td>\n",
              "      <td>-999</td>\n",
              "      <td>-999</td>\n",
              "      <td>-999</td>\n",
              "      <td>-999</td>\n",
              "      <td>-999</td>\n",
              "      <td>-999</td>\n",
              "      <td>-999</td>\n",
              "      <td>-999</td>\n",
              "      <td>-999</td>\n",
              "      <td>-999</td>\n",
              "      <td>-999</td>\n",
              "      <td>-999</td>\n",
              "      <td>-999</td>\n",
              "      <td>...</td>\n",
              "      <td>-999</td>\n",
              "      <td>-999</td>\n",
              "      <td>-999</td>\n",
              "      <td>-999</td>\n",
              "      <td>-999</td>\n",
              "      <td>-999</td>\n",
              "      <td>-999</td>\n",
              "      <td>-999</td>\n",
              "      <td>-999</td>\n",
              "      <td>-999</td>\n",
              "      <td>-999</td>\n",
              "      <td>-999</td>\n",
              "      <td>-999</td>\n",
              "      <td>-999</td>\n",
              "      <td>-999</td>\n",
              "      <td>-85</td>\n",
              "      <td>-999</td>\n",
              "      <td>-999</td>\n",
              "      <td>-999</td>\n",
              "      <td>-999</td>\n",
              "      <td>-999</td>\n",
              "      <td>-999</td>\n",
              "      <td>-999</td>\n",
              "      <td>-999</td>\n",
              "      <td>-999</td>\n",
              "      <td>-999</td>\n",
              "      <td>-999</td>\n",
              "      <td>-999</td>\n",
              "      <td>-999</td>\n",
              "      <td>-999</td>\n",
              "      <td>-999</td>\n",
              "      <td>-999</td>\n",
              "      <td>-999</td>\n",
              "      <td>-999</td>\n",
              "      <td>-999</td>\n",
              "      <td>-999</td>\n",
              "      <td>-1</td>\n",
              "      <td>5a0546857ecc773753327266_ffcd9524c80c0fa5bb859...</td>\n",
              "      <td>ffcd9524c80c0fa5bb859eaf</td>\n",
              "      <td>41230</td>\n",
              "    </tr>\n",
              "    <tr>\n",
              "      <th>296</th>\n",
              "      <td>296</td>\n",
              "      <td>-999</td>\n",
              "      <td>-999</td>\n",
              "      <td>-999</td>\n",
              "      <td>-999</td>\n",
              "      <td>-999</td>\n",
              "      <td>-999</td>\n",
              "      <td>-999</td>\n",
              "      <td>-999</td>\n",
              "      <td>-999</td>\n",
              "      <td>-999</td>\n",
              "      <td>-999</td>\n",
              "      <td>-999</td>\n",
              "      <td>-999</td>\n",
              "      <td>-999</td>\n",
              "      <td>-999</td>\n",
              "      <td>-999</td>\n",
              "      <td>-999</td>\n",
              "      <td>-999</td>\n",
              "      <td>-999</td>\n",
              "      <td>-999</td>\n",
              "      <td>-999</td>\n",
              "      <td>-999</td>\n",
              "      <td>-999</td>\n",
              "      <td>-999</td>\n",
              "      <td>-999</td>\n",
              "      <td>-999</td>\n",
              "      <td>-999</td>\n",
              "      <td>-999</td>\n",
              "      <td>-999</td>\n",
              "      <td>-999</td>\n",
              "      <td>-999</td>\n",
              "      <td>-999</td>\n",
              "      <td>-999</td>\n",
              "      <td>-999</td>\n",
              "      <td>-999</td>\n",
              "      <td>-999</td>\n",
              "      <td>-999</td>\n",
              "      <td>-999</td>\n",
              "      <td>-999</td>\n",
              "      <td>...</td>\n",
              "      <td>-999</td>\n",
              "      <td>-999</td>\n",
              "      <td>-999</td>\n",
              "      <td>-999</td>\n",
              "      <td>-999</td>\n",
              "      <td>-999</td>\n",
              "      <td>-999</td>\n",
              "      <td>-999</td>\n",
              "      <td>-999</td>\n",
              "      <td>-999</td>\n",
              "      <td>-999</td>\n",
              "      <td>-999</td>\n",
              "      <td>-999</td>\n",
              "      <td>-999</td>\n",
              "      <td>-999</td>\n",
              "      <td>-999</td>\n",
              "      <td>-999</td>\n",
              "      <td>-999</td>\n",
              "      <td>-999</td>\n",
              "      <td>-999</td>\n",
              "      <td>-999</td>\n",
              "      <td>-999</td>\n",
              "      <td>-999</td>\n",
              "      <td>-999</td>\n",
              "      <td>-999</td>\n",
              "      <td>-999</td>\n",
              "      <td>-999</td>\n",
              "      <td>-999</td>\n",
              "      <td>-999</td>\n",
              "      <td>-999</td>\n",
              "      <td>-999</td>\n",
              "      <td>-999</td>\n",
              "      <td>-999</td>\n",
              "      <td>-999</td>\n",
              "      <td>-999</td>\n",
              "      <td>-999</td>\n",
              "      <td>-1</td>\n",
              "      <td>5a0546857ecc773753327266_ffcd9524c80c0fa5bb859...</td>\n",
              "      <td>ffcd9524c80c0fa5bb859eaf</td>\n",
              "      <td>51634</td>\n",
              "    </tr>\n",
              "    <tr>\n",
              "      <th>297</th>\n",
              "      <td>297</td>\n",
              "      <td>-999</td>\n",
              "      <td>-999</td>\n",
              "      <td>-999</td>\n",
              "      <td>-999</td>\n",
              "      <td>-999</td>\n",
              "      <td>-999</td>\n",
              "      <td>-999</td>\n",
              "      <td>-999</td>\n",
              "      <td>-999</td>\n",
              "      <td>-999</td>\n",
              "      <td>-999</td>\n",
              "      <td>-999</td>\n",
              "      <td>-999</td>\n",
              "      <td>-999</td>\n",
              "      <td>-999</td>\n",
              "      <td>-999</td>\n",
              "      <td>-999</td>\n",
              "      <td>-999</td>\n",
              "      <td>-999</td>\n",
              "      <td>-999</td>\n",
              "      <td>-999</td>\n",
              "      <td>-999</td>\n",
              "      <td>-999</td>\n",
              "      <td>-999</td>\n",
              "      <td>-999</td>\n",
              "      <td>-999</td>\n",
              "      <td>-999</td>\n",
              "      <td>-999</td>\n",
              "      <td>-999</td>\n",
              "      <td>-999</td>\n",
              "      <td>-999</td>\n",
              "      <td>-999</td>\n",
              "      <td>-999</td>\n",
              "      <td>-999</td>\n",
              "      <td>-999</td>\n",
              "      <td>-999</td>\n",
              "      <td>-999</td>\n",
              "      <td>-999</td>\n",
              "      <td>-999</td>\n",
              "      <td>...</td>\n",
              "      <td>-999</td>\n",
              "      <td>-999</td>\n",
              "      <td>-999</td>\n",
              "      <td>-999</td>\n",
              "      <td>-999</td>\n",
              "      <td>-999</td>\n",
              "      <td>-999</td>\n",
              "      <td>-999</td>\n",
              "      <td>-999</td>\n",
              "      <td>-999</td>\n",
              "      <td>-999</td>\n",
              "      <td>-999</td>\n",
              "      <td>-999</td>\n",
              "      <td>-999</td>\n",
              "      <td>-999</td>\n",
              "      <td>-84</td>\n",
              "      <td>-999</td>\n",
              "      <td>-999</td>\n",
              "      <td>-999</td>\n",
              "      <td>-999</td>\n",
              "      <td>-999</td>\n",
              "      <td>-999</td>\n",
              "      <td>-999</td>\n",
              "      <td>-999</td>\n",
              "      <td>-999</td>\n",
              "      <td>-999</td>\n",
              "      <td>-999</td>\n",
              "      <td>-999</td>\n",
              "      <td>-999</td>\n",
              "      <td>-999</td>\n",
              "      <td>-999</td>\n",
              "      <td>-999</td>\n",
              "      <td>-999</td>\n",
              "      <td>-999</td>\n",
              "      <td>-999</td>\n",
              "      <td>-999</td>\n",
              "      <td>-1</td>\n",
              "      <td>5a0546857ecc773753327266_ffcd9524c80c0fa5bb859...</td>\n",
              "      <td>ffcd9524c80c0fa5bb859eaf</td>\n",
              "      <td>60483</td>\n",
              "    </tr>\n",
              "    <tr>\n",
              "      <th>298</th>\n",
              "      <td>298</td>\n",
              "      <td>-999</td>\n",
              "      <td>-999</td>\n",
              "      <td>-999</td>\n",
              "      <td>-999</td>\n",
              "      <td>-999</td>\n",
              "      <td>-999</td>\n",
              "      <td>-999</td>\n",
              "      <td>-999</td>\n",
              "      <td>-999</td>\n",
              "      <td>-999</td>\n",
              "      <td>-999</td>\n",
              "      <td>-999</td>\n",
              "      <td>-999</td>\n",
              "      <td>-82</td>\n",
              "      <td>-999</td>\n",
              "      <td>-999</td>\n",
              "      <td>-999</td>\n",
              "      <td>-999</td>\n",
              "      <td>-999</td>\n",
              "      <td>-83</td>\n",
              "      <td>-999</td>\n",
              "      <td>-999</td>\n",
              "      <td>-999</td>\n",
              "      <td>-999</td>\n",
              "      <td>-999</td>\n",
              "      <td>-999</td>\n",
              "      <td>-999</td>\n",
              "      <td>-999</td>\n",
              "      <td>-999</td>\n",
              "      <td>-999</td>\n",
              "      <td>-999</td>\n",
              "      <td>-999</td>\n",
              "      <td>-999</td>\n",
              "      <td>-999</td>\n",
              "      <td>-999</td>\n",
              "      <td>-999</td>\n",
              "      <td>-999</td>\n",
              "      <td>-999</td>\n",
              "      <td>-999</td>\n",
              "      <td>...</td>\n",
              "      <td>-999</td>\n",
              "      <td>-999</td>\n",
              "      <td>-999</td>\n",
              "      <td>-999</td>\n",
              "      <td>-999</td>\n",
              "      <td>-999</td>\n",
              "      <td>-999</td>\n",
              "      <td>-999</td>\n",
              "      <td>-999</td>\n",
              "      <td>-999</td>\n",
              "      <td>-84</td>\n",
              "      <td>-999</td>\n",
              "      <td>-999</td>\n",
              "      <td>-999</td>\n",
              "      <td>-999</td>\n",
              "      <td>-71</td>\n",
              "      <td>-999</td>\n",
              "      <td>-999</td>\n",
              "      <td>-999</td>\n",
              "      <td>-999</td>\n",
              "      <td>-999</td>\n",
              "      <td>-88</td>\n",
              "      <td>-999</td>\n",
              "      <td>-999</td>\n",
              "      <td>-999</td>\n",
              "      <td>-999</td>\n",
              "      <td>-999</td>\n",
              "      <td>-999</td>\n",
              "      <td>-999</td>\n",
              "      <td>-999</td>\n",
              "      <td>-999</td>\n",
              "      <td>-999</td>\n",
              "      <td>-999</td>\n",
              "      <td>-999</td>\n",
              "      <td>-999</td>\n",
              "      <td>-999</td>\n",
              "      <td>-1</td>\n",
              "      <td>5a0546857ecc773753327266_ffcd9524c80c0fa5bb859...</td>\n",
              "      <td>ffcd9524c80c0fa5bb859eaf</td>\n",
              "      <td>67146</td>\n",
              "    </tr>\n",
              "  </tbody>\n",
              "</table>\n",
              "<p>299 rows × 3402 columns</p>\n",
              "</div>"
            ],
            "text/plain": [
              "     Unnamed: 0  ...  timestamp\n",
              "0             0  ...          9\n",
              "1             1  ...       9017\n",
              "2             2  ...      15326\n",
              "3             3  ...      18763\n",
              "4             4  ...      22328\n",
              "..          ...  ...        ...\n",
              "294         294  ...      35117\n",
              "295         295  ...      41230\n",
              "296         296  ...      51634\n",
              "297         297  ...      60483\n",
              "298         298  ...      67146\n",
              "\n",
              "[299 rows x 3402 columns]"
            ]
          },
          "metadata": {
            "tags": []
          },
          "execution_count": 22
        }
      ]
    },
    {
      "cell_type": "code",
      "metadata": {
        "id": "VrCKhgNdxxc4"
      },
      "source": [
        "lgb_params = {'objective': 'root_mean_squared_error',\n",
        "              'boosting_type': 'gbdt',\n",
        "              'n_estimators': 50000,\n",
        "              'learning_rate': 0.1,\n",
        "              'num_leaves': 90,\n",
        "              'colsample_bytree': 0.4,\n",
        "              'subsample': 0.6,\n",
        "              'subsample_freq': 2,\n",
        "              'bagging_seed': SEED,\n",
        "              'reg_alpha': 8,\n",
        "              'reg_lambda': 2,\n",
        "              'random_state': SEED,\n",
        "              'n_jobs': -1\n",
        "              }"
      ],
      "execution_count": 19,
      "outputs": []
    },
    {
      "cell_type": "code",
      "metadata": {
        "colab": {
          "base_uri": "https://localhost:8080/"
        },
        "id": "4ZOk9Sagx1Do",
        "outputId": "4ac2f415-03c0-45f0-ca43-b3b0cb6ef5bc"
      },
      "source": [
        "score_df = pd.DataFrame()\n",
        "oof = list()\n",
        "predictions = list()\n",
        "for n_files, file in enumerate(train_files):\n",
        "    data = pd.read_csv(file, index_col=0)\n",
        "    test_data = pd.read_csv(test_files[n_files], index_col=0)\n",
        "\n",
        "    oof_x, oof_y = np.zeros(data.shape[0]), np.zeros(data.shape[0])\n",
        "    preds_x, preds_y = 0, 0\n",
        "\n",
        "    kf = KFold(n_splits=N_SPLITS, shuffle=True, random_state=SEED)\n",
        "    for fold, (trn_idx, val_idx) in enumerate(kf.split(data.iloc[:, :-4])):\n",
        "        X_train = data.iloc[trn_idx, :-4]\n",
        "        y_trainx = data.iloc[trn_idx, -4]\n",
        "        y_trainy = data.iloc[trn_idx, -3]\n",
        "\n",
        "        X_valid = data.iloc[val_idx, :-4]\n",
        "        y_validx = data.iloc[val_idx, -4]\n",
        "        y_validy = data.iloc[val_idx, -3]\n",
        "        \n",
        "        modelx = lgb.LGBMRegressor(**lgb_params)\n",
        "        with timer(\"fit X\"):\n",
        "            modelx.fit(X_train, y_trainx,\n",
        "                       eval_set=[(X_valid, y_validx)],\n",
        "                       eval_metric='rmse',\n",
        "                       verbose=False,\n",
        "                       early_stopping_rounds=20\n",
        "                       )\n",
        "\n",
        "        modely = lgb.LGBMRegressor(**lgb_params)\n",
        "        with timer(\"fit Y\"):\n",
        "            modely.fit(X_train, y_trainy,\n",
        "                       eval_set=[(X_valid, y_validy)],\n",
        "                       eval_metric='rmse',\n",
        "                       verbose=False,\n",
        "                       early_stopping_rounds=20\n",
        "                       )\n",
        "\n",
        "            \n",
        "        oof_x[val_idx] = modelx.predict(X_valid)\n",
        "        oof_y[val_idx] = modely.predict(X_valid)\n",
        "\n",
        "        preds_x += modelx.predict(test_data.iloc[:, :-3]) / N_SPLITS\n",
        "        preds_y += modely.predict(test_data.iloc[:, :-3]) / N_SPLITS\n",
        "        preds_f = test_data['floor'].values\n",
        "\n",
        "        score = comp_metric(oof_x[val_idx], oof_y[val_idx], y_validx.to_numpy(), y_validy.to_numpy())\n",
        "        print(f\"fold {fold}: mean position error {score}\")\n",
        "        score_df = score_log(score_df, n_files, os.path.basename(file), data.shape, fold, SEED, score)\n",
        "\n",
        "    print(\"*+\"*40)\n",
        "    print(f\"file #{n_files}, shape={data.shape}, name={os.path.basename(file)}\")\n",
        "    score = comp_metric(oof_x, oof_y,\n",
        "                        data.iloc[:, -4].to_numpy(), data.iloc[:, -3].to_numpy())\n",
        "    oof.append(score)\n",
        "    print(f\"mean position error {score}\")\n",
        "    print(\"*+\"*40)\n",
        "    score_df = score_log(score_df, n_files, os.path.basename(file), data.shape, 999, SEED, score)\n",
        "    \n",
        "    test_preds = pd.DataFrame(np.stack((preds_f, preds_x, preds_y))).T\n",
        "    test_preds.columns = subm.columns\n",
        "    test_preds.index = test_data[\"site_path_timestamp\"]\n",
        "    test_preds[\"floor\"] = test_preds[\"floor\"].astype(int)\n",
        "    predictions.append(test_preds)"
      ],
      "execution_count": 41,
      "outputs": [
        {
          "output_type": "stream",
          "text": [
            "[5.5GB(+0.0GB): 16.279sec] fit X\n",
            "[5.5GB(+0.0GB): 15.259sec] fit Y\n"
          ],
          "name": "stderr"
        },
        {
          "output_type": "stream",
          "text": [
            "fold 0: mean position error 3.2717038664893394\n"
          ],
          "name": "stdout"
        },
        {
          "output_type": "stream",
          "text": [
            "[5.5GB(+0.0GB): 16.845sec] fit X\n",
            "[5.5GB(+0.0GB): 11.680sec] fit Y\n"
          ],
          "name": "stderr"
        },
        {
          "output_type": "stream",
          "text": [
            "fold 1: mean position error 3.3365560433976653\n"
          ],
          "name": "stdout"
        },
        {
          "output_type": "stream",
          "text": [
            "[5.5GB(+0.0GB): 12.857sec] fit X\n",
            "[5.5GB(+0.0GB): 20.344sec] fit Y\n"
          ],
          "name": "stderr"
        },
        {
          "output_type": "stream",
          "text": [
            "fold 2: mean position error 3.131711093248723\n"
          ],
          "name": "stdout"
        },
        {
          "output_type": "stream",
          "text": [
            "[5.5GB(+0.0GB): 19.249sec] fit X\n",
            "[5.5GB(+0.0GB): 15.002sec] fit Y\n"
          ],
          "name": "stderr"
        },
        {
          "output_type": "stream",
          "text": [
            "fold 3: mean position error 3.244737019489558\n"
          ],
          "name": "stdout"
        },
        {
          "output_type": "stream",
          "text": [
            "[5.5GB(+0.0GB): 14.657sec] fit X\n",
            "[5.5GB(+0.0GB): 20.390sec] fit Y\n"
          ],
          "name": "stderr"
        },
        {
          "output_type": "stream",
          "text": [
            "fold 4: mean position error 3.5147248904014567\n"
          ],
          "name": "stdout"
        },
        {
          "output_type": "stream",
          "text": [
            "[5.5GB(-0.0GB): 21.539sec] fit X\n",
            "[5.5GB(+0.0GB): 18.007sec] fit Y\n"
          ],
          "name": "stderr"
        },
        {
          "output_type": "stream",
          "text": [
            "fold 5: mean position error 3.512908139638521\n"
          ],
          "name": "stdout"
        },
        {
          "output_type": "stream",
          "text": [
            "[5.5GB(+0.0GB): 20.908sec] fit X\n",
            "[5.5GB(+0.0GB): 17.568sec] fit Y\n"
          ],
          "name": "stderr"
        },
        {
          "output_type": "stream",
          "text": [
            "fold 6: mean position error 3.2663297885263622\n"
          ],
          "name": "stdout"
        },
        {
          "output_type": "stream",
          "text": [
            "[5.5GB(+0.0GB): 14.766sec] fit X\n",
            "[5.5GB(+0.0GB): 19.927sec] fit Y\n"
          ],
          "name": "stderr"
        },
        {
          "output_type": "stream",
          "text": [
            "fold 7: mean position error 3.3659675910463465\n"
          ],
          "name": "stdout"
        },
        {
          "output_type": "stream",
          "text": [
            "[5.5GB(+0.0GB): 20.566sec] fit X\n",
            "[5.5GB(+0.0GB): 19.465sec] fit Y\n"
          ],
          "name": "stderr"
        },
        {
          "output_type": "stream",
          "text": [
            "fold 8: mean position error 3.2623764354574156\n"
          ],
          "name": "stdout"
        },
        {
          "output_type": "stream",
          "text": [
            "[5.5GB(+0.0GB): 14.920sec] fit X\n",
            "[5.5GB(+0.0GB): 13.829sec] fit Y\n"
          ],
          "name": "stderr"
        },
        {
          "output_type": "stream",
          "text": [
            "fold 9: mean position error 3.2906503139451315\n",
            "*+*+*+*+*+*+*+*+*+*+*+*+*+*+*+*+*+*+*+*+*+*+*+*+*+*+*+*+*+*+*+*+*+*+*+*+*+*+*+*+\n",
            "file #0, shape=(9296, 3402), name=5a0546857ecc773753327266_train_with_floor.csv\n",
            "mean position error 3.319776602280197\n",
            "*+*+*+*+*+*+*+*+*+*+*+*+*+*+*+*+*+*+*+*+*+*+*+*+*+*+*+*+*+*+*+*+*+*+*+*+*+*+*+*+\n"
          ],
          "name": "stdout"
        },
        {
          "output_type": "stream",
          "text": [
            "[5.5GB(+0.0GB): 13.165sec] fit X\n",
            "[5.5GB(+0.0GB): 13.832sec] fit Y\n"
          ],
          "name": "stderr"
        },
        {
          "output_type": "stream",
          "text": [
            "fold 0: mean position error 4.22697194496127\n"
          ],
          "name": "stdout"
        },
        {
          "output_type": "stream",
          "text": [
            "[5.5GB(+0.0GB): 14.896sec] fit X\n",
            "[5.5GB(+0.0GB): 21.469sec] fit Y\n"
          ],
          "name": "stderr"
        },
        {
          "output_type": "stream",
          "text": [
            "fold 1: mean position error 4.256905387522328\n"
          ],
          "name": "stdout"
        },
        {
          "output_type": "stream",
          "text": [
            "[5.5GB(+0.0GB): 13.087sec] fit X\n",
            "[5.5GB(+0.0GB): 16.622sec] fit Y\n"
          ],
          "name": "stderr"
        },
        {
          "output_type": "stream",
          "text": [
            "fold 2: mean position error 4.325635907894557\n"
          ],
          "name": "stdout"
        },
        {
          "output_type": "stream",
          "text": [
            "[5.5GB(+0.0GB): 13.346sec] fit X\n",
            "[5.5GB(+0.0GB): 14.524sec] fit Y\n"
          ],
          "name": "stderr"
        },
        {
          "output_type": "stream",
          "text": [
            "fold 3: mean position error 4.143555861399377\n"
          ],
          "name": "stdout"
        },
        {
          "output_type": "stream",
          "text": [
            "[5.5GB(+0.0GB): 17.710sec] fit X\n",
            "[5.5GB(+0.0GB): 19.981sec] fit Y\n"
          ],
          "name": "stderr"
        },
        {
          "output_type": "stream",
          "text": [
            "fold 4: mean position error 4.096555987324887\n"
          ],
          "name": "stdout"
        },
        {
          "output_type": "stream",
          "text": [
            "[5.5GB(+0.0GB): 14.497sec] fit X\n",
            "[5.5GB(+0.0GB): 16.735sec] fit Y\n"
          ],
          "name": "stderr"
        },
        {
          "output_type": "stream",
          "text": [
            "fold 5: mean position error 4.088651032624395\n"
          ],
          "name": "stdout"
        },
        {
          "output_type": "stream",
          "text": [
            "[5.5GB(+0.0GB): 11.784sec] fit X\n",
            "[5.5GB(+0.0GB): 15.706sec] fit Y\n"
          ],
          "name": "stderr"
        },
        {
          "output_type": "stream",
          "text": [
            "fold 6: mean position error 4.392141822576406\n"
          ],
          "name": "stdout"
        },
        {
          "output_type": "stream",
          "text": [
            "[5.5GB(+0.0GB): 14.369sec] fit X\n",
            "[5.5GB(+0.0GB): 10.263sec] fit Y\n"
          ],
          "name": "stderr"
        },
        {
          "output_type": "stream",
          "text": [
            "fold 7: mean position error 4.305891339569031\n"
          ],
          "name": "stdout"
        },
        {
          "output_type": "stream",
          "text": [
            "[5.5GB(+0.0GB): 12.349sec] fit X\n",
            "[5.5GB(+0.0GB): 15.737sec] fit Y\n"
          ],
          "name": "stderr"
        },
        {
          "output_type": "stream",
          "text": [
            "fold 8: mean position error 4.4090499960946\n"
          ],
          "name": "stdout"
        },
        {
          "output_type": "stream",
          "text": [
            "[5.5GB(+0.0GB): 11.946sec] fit X\n",
            "[5.5GB(+0.0GB): 12.589sec] fit Y\n"
          ],
          "name": "stderr"
        },
        {
          "output_type": "stream",
          "text": [
            "fold 9: mean position error 4.228027874457273\n",
            "*+*+*+*+*+*+*+*+*+*+*+*+*+*+*+*+*+*+*+*+*+*+*+*+*+*+*+*+*+*+*+*+*+*+*+*+*+*+*+*+\n",
            "file #1, shape=(9737, 3068), name=5c3c44b80379370013e0fd2b_train_with_floor.csv\n",
            "mean position error 4.247318077354316\n",
            "*+*+*+*+*+*+*+*+*+*+*+*+*+*+*+*+*+*+*+*+*+*+*+*+*+*+*+*+*+*+*+*+*+*+*+*+*+*+*+*+\n"
          ],
          "name": "stdout"
        },
        {
          "output_type": "stream",
          "text": [
            "[10.9GB(+1.7GB): 92.359sec] fit X\n",
            "[10.9GB(+0.0GB): 99.518sec] fit Y\n"
          ],
          "name": "stderr"
        },
        {
          "output_type": "stream",
          "text": [
            "fold 0: mean position error 3.849286262304141\n"
          ],
          "name": "stdout"
        },
        {
          "output_type": "stream",
          "text": [
            "[10.9GB(+0.0GB): 117.549sec] fit X\n",
            "[10.9GB(+0.0GB): 121.198sec] fit Y\n"
          ],
          "name": "stderr"
        },
        {
          "output_type": "stream",
          "text": [
            "fold 1: mean position error 3.6138432806659644\n"
          ],
          "name": "stdout"
        },
        {
          "output_type": "stream",
          "text": [
            "[10.9GB(-0.0GB): 131.086sec] fit X\n",
            "[10.9GB(+0.0GB): 113.100sec] fit Y\n"
          ],
          "name": "stderr"
        },
        {
          "output_type": "stream",
          "text": [
            "fold 2: mean position error 3.5960825702965833\n"
          ],
          "name": "stdout"
        },
        {
          "output_type": "stream",
          "text": [
            "[10.9GB(+0.0GB): 111.318sec] fit X\n",
            "[10.9GB(+0.0GB): 121.684sec] fit Y\n"
          ],
          "name": "stderr"
        },
        {
          "output_type": "stream",
          "text": [
            "fold 3: mean position error 3.6534719158555817\n"
          ],
          "name": "stdout"
        },
        {
          "output_type": "stream",
          "text": [
            "[10.9GB(+0.0GB): 132.718sec] fit X\n",
            "[10.9GB(+0.0GB): 121.391sec] fit Y\n"
          ],
          "name": "stderr"
        },
        {
          "output_type": "stream",
          "text": [
            "fold 4: mean position error 3.703883429051061\n"
          ],
          "name": "stdout"
        },
        {
          "output_type": "stream",
          "text": [
            "[10.9GB(+0.0GB): 133.232sec] fit X\n",
            "[10.9GB(+0.0GB): 104.392sec] fit Y\n"
          ],
          "name": "stderr"
        },
        {
          "output_type": "stream",
          "text": [
            "fold 5: mean position error 3.5742309825934178\n"
          ],
          "name": "stdout"
        },
        {
          "output_type": "stream",
          "text": [
            "[12.0GB(+0.3GB): 123.586sec] fit X\n",
            "[12.1GB(+0.1GB): 90.088sec] fit Y\n"
          ],
          "name": "stderr"
        },
        {
          "output_type": "stream",
          "text": [
            "fold 6: mean position error 3.6345068219725833\n"
          ],
          "name": "stdout"
        },
        {
          "output_type": "stream",
          "text": [
            "[12.1GB(+0.0GB): 140.989sec] fit X\n",
            "[12.2GB(+0.1GB): 117.751sec] fit Y\n"
          ],
          "name": "stderr"
        },
        {
          "output_type": "stream",
          "text": [
            "fold 7: mean position error 3.527011838435692\n"
          ],
          "name": "stdout"
        },
        {
          "output_type": "stream",
          "text": [
            "[12.2GB(+0.0GB): 121.176sec] fit X\n",
            "[12.2GB(+0.0GB): 103.550sec] fit Y\n"
          ],
          "name": "stderr"
        },
        {
          "output_type": "stream",
          "text": [
            "fold 8: mean position error 3.6516658686763845\n"
          ],
          "name": "stdout"
        },
        {
          "output_type": "stream",
          "text": [
            "[12.2GB(+0.0GB): 106.137sec] fit X\n",
            "[12.2GB(+0.0GB): 122.256sec] fit Y\n"
          ],
          "name": "stderr"
        },
        {
          "output_type": "stream",
          "text": [
            "fold 9: mean position error 3.7117331419521733\n",
            "*+*+*+*+*+*+*+*+*+*+*+*+*+*+*+*+*+*+*+*+*+*+*+*+*+*+*+*+*+*+*+*+*+*+*+*+*+*+*+*+\n",
            "file #2, shape=(23666, 7034), name=5d27075f03f801723c2e360f_train_with_floor.csv\n",
            "mean position error 3.651575049394407\n",
            "*+*+*+*+*+*+*+*+*+*+*+*+*+*+*+*+*+*+*+*+*+*+*+*+*+*+*+*+*+*+*+*+*+*+*+*+*+*+*+*+\n"
          ],
          "name": "stdout"
        },
        {
          "output_type": "stream",
          "text": [
            "[12.2GB(+0.0GB): 7.455sec] fit X\n",
            "[12.2GB(+0.0GB): 9.448sec] fit Y\n"
          ],
          "name": "stderr"
        },
        {
          "output_type": "stream",
          "text": [
            "fold 0: mean position error 2.5471125256166496\n"
          ],
          "name": "stdout"
        },
        {
          "output_type": "stream",
          "text": [
            "[12.2GB(+0.0GB): 8.694sec] fit X\n",
            "[12.2GB(+0.0GB): 7.038sec] fit Y\n"
          ],
          "name": "stderr"
        },
        {
          "output_type": "stream",
          "text": [
            "fold 1: mean position error 2.555046473039414\n"
          ],
          "name": "stdout"
        },
        {
          "output_type": "stream",
          "text": [
            "[12.2GB(+0.0GB): 8.433sec] fit X\n",
            "[12.2GB(-0.0GB): 7.909sec] fit Y\n"
          ],
          "name": "stderr"
        },
        {
          "output_type": "stream",
          "text": [
            "fold 2: mean position error 2.5368151146996363\n"
          ],
          "name": "stdout"
        },
        {
          "output_type": "stream",
          "text": [
            "[12.2GB(+0.0GB): 8.686sec] fit X\n",
            "[12.2GB(+0.0GB): 9.323sec] fit Y\n"
          ],
          "name": "stderr"
        },
        {
          "output_type": "stream",
          "text": [
            "fold 3: mean position error 2.5597288989326006\n"
          ],
          "name": "stdout"
        },
        {
          "output_type": "stream",
          "text": [
            "[12.2GB(+0.0GB): 8.767sec] fit X\n",
            "[12.2GB(+0.0GB): 9.085sec] fit Y\n"
          ],
          "name": "stderr"
        },
        {
          "output_type": "stream",
          "text": [
            "fold 4: mean position error 2.4646829874613534\n"
          ],
          "name": "stdout"
        },
        {
          "output_type": "stream",
          "text": [
            "[12.2GB(+0.0GB): 8.498sec] fit X\n",
            "[12.2GB(+0.0GB): 8.673sec] fit Y\n"
          ],
          "name": "stderr"
        },
        {
          "output_type": "stream",
          "text": [
            "fold 5: mean position error 2.4529005928895504\n"
          ],
          "name": "stdout"
        },
        {
          "output_type": "stream",
          "text": [
            "[12.2GB(+0.0GB): 8.584sec] fit X\n",
            "[12.2GB(+0.0GB): 8.932sec] fit Y\n"
          ],
          "name": "stderr"
        },
        {
          "output_type": "stream",
          "text": [
            "fold 6: mean position error 2.436123148052051\n"
          ],
          "name": "stdout"
        },
        {
          "output_type": "stream",
          "text": [
            "[12.2GB(+0.0GB): 6.994sec] fit X\n",
            "[12.2GB(+0.0GB): 7.526sec] fit Y\n"
          ],
          "name": "stderr"
        },
        {
          "output_type": "stream",
          "text": [
            "fold 7: mean position error 2.5920219766126777\n"
          ],
          "name": "stdout"
        },
        {
          "output_type": "stream",
          "text": [
            "[12.2GB(+0.0GB): 8.746sec] fit X\n",
            "[12.2GB(+0.0GB): 7.942sec] fit Y\n"
          ],
          "name": "stderr"
        },
        {
          "output_type": "stream",
          "text": [
            "fold 8: mean position error 2.5666940954645354\n"
          ],
          "name": "stdout"
        },
        {
          "output_type": "stream",
          "text": [
            "[12.2GB(+0.0GB): 9.020sec] fit X\n",
            "[12.2GB(+0.0GB): 8.598sec] fit Y\n"
          ],
          "name": "stderr"
        },
        {
          "output_type": "stream",
          "text": [
            "fold 9: mean position error 2.4809490472635325\n",
            "*+*+*+*+*+*+*+*+*+*+*+*+*+*+*+*+*+*+*+*+*+*+*+*+*+*+*+*+*+*+*+*+*+*+*+*+*+*+*+*+\n",
            "file #3, shape=(9100, 4969), name=5d27096c03f801723c31e5e0_train_with_floor.csv\n",
            "mean position error 2.5192074860031997\n",
            "*+*+*+*+*+*+*+*+*+*+*+*+*+*+*+*+*+*+*+*+*+*+*+*+*+*+*+*+*+*+*+*+*+*+*+*+*+*+*+*+\n"
          ],
          "name": "stdout"
        },
        {
          "output_type": "stream",
          "text": [
            "[12.2GB(+0.0GB): 15.644sec] fit X\n",
            "[12.2GB(+0.0GB): 15.443sec] fit Y\n"
          ],
          "name": "stderr"
        },
        {
          "output_type": "stream",
          "text": [
            "fold 0: mean position error 4.137447561830572\n"
          ],
          "name": "stdout"
        },
        {
          "output_type": "stream",
          "text": [
            "[12.2GB(+0.0GB): 14.173sec] fit X\n",
            "[12.2GB(+0.0GB): 13.503sec] fit Y\n"
          ],
          "name": "stderr"
        },
        {
          "output_type": "stream",
          "text": [
            "fold 1: mean position error 4.254848856426117\n"
          ],
          "name": "stdout"
        },
        {
          "output_type": "stream",
          "text": [
            "[12.2GB(+0.0GB): 10.964sec] fit X\n",
            "[12.2GB(+0.0GB): 16.784sec] fit Y\n"
          ],
          "name": "stderr"
        },
        {
          "output_type": "stream",
          "text": [
            "fold 2: mean position error 4.383086988990686\n"
          ],
          "name": "stdout"
        },
        {
          "output_type": "stream",
          "text": [
            "[12.2GB(+0.0GB): 13.913sec] fit X\n",
            "[12.2GB(+0.0GB): 16.864sec] fit Y\n"
          ],
          "name": "stderr"
        },
        {
          "output_type": "stream",
          "text": [
            "fold 3: mean position error 4.497254546600163\n"
          ],
          "name": "stdout"
        },
        {
          "output_type": "stream",
          "text": [
            "[12.2GB(+0.0GB): 14.288sec] fit X\n",
            "[12.2GB(+0.0GB): 18.406sec] fit Y\n"
          ],
          "name": "stderr"
        },
        {
          "output_type": "stream",
          "text": [
            "fold 4: mean position error 4.451034797069512\n"
          ],
          "name": "stdout"
        },
        {
          "output_type": "stream",
          "text": [
            "[12.2GB(+0.0GB): 13.248sec] fit X\n",
            "[12.2GB(+0.0GB): 16.317sec] fit Y\n"
          ],
          "name": "stderr"
        },
        {
          "output_type": "stream",
          "text": [
            "fold 5: mean position error 4.21860376061907\n"
          ],
          "name": "stdout"
        },
        {
          "output_type": "stream",
          "text": [
            "[12.2GB(+0.0GB): 14.054sec] fit X\n",
            "[12.2GB(+0.0GB): 13.606sec] fit Y\n"
          ],
          "name": "stderr"
        },
        {
          "output_type": "stream",
          "text": [
            "fold 6: mean position error 4.285733606734018\n"
          ],
          "name": "stdout"
        },
        {
          "output_type": "stream",
          "text": [
            "[12.2GB(+0.0GB): 19.139sec] fit X\n",
            "[12.2GB(+0.0GB): 13.078sec] fit Y\n"
          ],
          "name": "stderr"
        },
        {
          "output_type": "stream",
          "text": [
            "fold 7: mean position error 4.353624615003724\n"
          ],
          "name": "stdout"
        },
        {
          "output_type": "stream",
          "text": [
            "[12.2GB(+0.0GB): 9.423sec] fit X\n",
            "[12.2GB(+0.0GB): 12.897sec] fit Y\n"
          ],
          "name": "stderr"
        },
        {
          "output_type": "stream",
          "text": [
            "fold 8: mean position error 4.504182369070633\n"
          ],
          "name": "stdout"
        },
        {
          "output_type": "stream",
          "text": [
            "[12.2GB(+0.0GB): 15.826sec] fit X\n",
            "[12.2GB(+0.0GB): 16.583sec] fit Y\n"
          ],
          "name": "stderr"
        },
        {
          "output_type": "stream",
          "text": [
            "fold 9: mean position error 4.2661191325849925\n",
            "*+*+*+*+*+*+*+*+*+*+*+*+*+*+*+*+*+*+*+*+*+*+*+*+*+*+*+*+*+*+*+*+*+*+*+*+*+*+*+*+\n",
            "file #4, shape=(10507, 2495), name=5d27097f03f801723c320d97_train_with_floor.csv\n",
            "mean position error 4.3351823600261\n",
            "*+*+*+*+*+*+*+*+*+*+*+*+*+*+*+*+*+*+*+*+*+*+*+*+*+*+*+*+*+*+*+*+*+*+*+*+*+*+*+*+\n"
          ],
          "name": "stdout"
        },
        {
          "output_type": "stream",
          "text": [
            "[12.2GB(+0.0GB): 1.725sec] fit X\n",
            "[12.2GB(+0.0GB): 1.702sec] fit Y\n"
          ],
          "name": "stderr"
        },
        {
          "output_type": "stream",
          "text": [
            "fold 0: mean position error 2.477118181189157\n"
          ],
          "name": "stdout"
        },
        {
          "output_type": "stream",
          "text": [
            "[12.2GB(+0.0GB): 1.590sec] fit X\n",
            "[12.2GB(+0.0GB): 1.977sec] fit Y\n"
          ],
          "name": "stderr"
        },
        {
          "output_type": "stream",
          "text": [
            "fold 1: mean position error 2.6692531081622226\n"
          ],
          "name": "stdout"
        },
        {
          "output_type": "stream",
          "text": [
            "[12.2GB(+0.0GB): 2.207sec] fit X\n",
            "[12.2GB(+0.0GB): 1.920sec] fit Y\n"
          ],
          "name": "stderr"
        },
        {
          "output_type": "stream",
          "text": [
            "fold 2: mean position error 2.8670651648558625\n"
          ],
          "name": "stdout"
        },
        {
          "output_type": "stream",
          "text": [
            "[12.2GB(+0.0GB): 2.145sec] fit X\n",
            "[12.2GB(+0.0GB): 2.160sec] fit Y\n"
          ],
          "name": "stderr"
        },
        {
          "output_type": "stream",
          "text": [
            "fold 3: mean position error 2.5885494400394555\n"
          ],
          "name": "stdout"
        },
        {
          "output_type": "stream",
          "text": [
            "[12.2GB(+0.0GB): 1.162sec] fit X\n",
            "[12.2GB(+0.0GB): 1.728sec] fit Y\n"
          ],
          "name": "stderr"
        },
        {
          "output_type": "stream",
          "text": [
            "fold 4: mean position error 2.613901101582263\n"
          ],
          "name": "stdout"
        },
        {
          "output_type": "stream",
          "text": [
            "[12.2GB(+0.0GB): 1.892sec] fit X\n",
            "[12.2GB(+0.0GB): 1.506sec] fit Y\n"
          ],
          "name": "stderr"
        },
        {
          "output_type": "stream",
          "text": [
            "fold 5: mean position error 2.6780541681626917\n"
          ],
          "name": "stdout"
        },
        {
          "output_type": "stream",
          "text": [
            "[12.2GB(+0.0GB): 1.786sec] fit X\n",
            "[12.2GB(+0.0GB): 1.501sec] fit Y\n"
          ],
          "name": "stderr"
        },
        {
          "output_type": "stream",
          "text": [
            "fold 6: mean position error 2.6814487072469584\n"
          ],
          "name": "stdout"
        },
        {
          "output_type": "stream",
          "text": [
            "[12.2GB(+0.0GB): 2.215sec] fit X\n",
            "[12.2GB(+0.0GB): 1.558sec] fit Y\n"
          ],
          "name": "stderr"
        },
        {
          "output_type": "stream",
          "text": [
            "fold 7: mean position error 2.716994484628073\n"
          ],
          "name": "stdout"
        },
        {
          "output_type": "stream",
          "text": [
            "[12.2GB(+0.0GB): 1.349sec] fit X\n",
            "[12.2GB(+0.0GB): 2.169sec] fit Y\n"
          ],
          "name": "stderr"
        },
        {
          "output_type": "stream",
          "text": [
            "fold 8: mean position error 2.460058463738046\n"
          ],
          "name": "stdout"
        },
        {
          "output_type": "stream",
          "text": [
            "[12.2GB(+0.0GB): 1.565sec] fit X\n",
            "[12.2GB(+0.0GB): 1.910sec] fit Y\n"
          ],
          "name": "stderr"
        },
        {
          "output_type": "stream",
          "text": [
            "fold 9: mean position error 2.598616716304207\n",
            "*+*+*+*+*+*+*+*+*+*+*+*+*+*+*+*+*+*+*+*+*+*+*+*+*+*+*+*+*+*+*+*+*+*+*+*+*+*+*+*+\n",
            "file #5, shape=(4251, 930), name=5d27099f03f801723c32511d_train_with_floor.csv\n",
            "mean position error 2.635068788742058\n",
            "*+*+*+*+*+*+*+*+*+*+*+*+*+*+*+*+*+*+*+*+*+*+*+*+*+*+*+*+*+*+*+*+*+*+*+*+*+*+*+*+\n"
          ],
          "name": "stdout"
        },
        {
          "output_type": "stream",
          "text": [
            "[12.2GB(+0.0GB): 1.682sec] fit X\n",
            "[12.2GB(+0.0GB): 2.057sec] fit Y\n"
          ],
          "name": "stderr"
        },
        {
          "output_type": "stream",
          "text": [
            "fold 0: mean position error 2.7616467166833814\n"
          ],
          "name": "stdout"
        },
        {
          "output_type": "stream",
          "text": [
            "[12.2GB(+0.0GB): 2.402sec] fit X\n",
            "[12.2GB(+0.0GB): 2.096sec] fit Y\n"
          ],
          "name": "stderr"
        },
        {
          "output_type": "stream",
          "text": [
            "fold 1: mean position error 2.6360979747011206\n"
          ],
          "name": "stdout"
        },
        {
          "output_type": "stream",
          "text": [
            "[12.2GB(+0.0GB): 2.030sec] fit X\n",
            "[12.2GB(+0.0GB): 1.827sec] fit Y\n"
          ],
          "name": "stderr"
        },
        {
          "output_type": "stream",
          "text": [
            "fold 2: mean position error 2.8247313859456797\n"
          ],
          "name": "stdout"
        },
        {
          "output_type": "stream",
          "text": [
            "[12.2GB(+0.0GB): 1.671sec] fit X\n",
            "[12.2GB(+0.0GB): 1.979sec] fit Y\n"
          ],
          "name": "stderr"
        },
        {
          "output_type": "stream",
          "text": [
            "fold 3: mean position error 2.9582135710662567\n"
          ],
          "name": "stdout"
        },
        {
          "output_type": "stream",
          "text": [
            "[12.2GB(+0.0GB): 2.599sec] fit X\n",
            "[12.2GB(+0.0GB): 2.180sec] fit Y\n"
          ],
          "name": "stderr"
        },
        {
          "output_type": "stream",
          "text": [
            "fold 4: mean position error 2.749987594108061\n"
          ],
          "name": "stdout"
        },
        {
          "output_type": "stream",
          "text": [
            "[12.2GB(+0.0GB): 2.084sec] fit X\n",
            "[12.2GB(+0.0GB): 2.128sec] fit Y\n"
          ],
          "name": "stderr"
        },
        {
          "output_type": "stream",
          "text": [
            "fold 5: mean position error 2.87402349977673\n"
          ],
          "name": "stdout"
        },
        {
          "output_type": "stream",
          "text": [
            "[12.2GB(+0.0GB): 2.703sec] fit X\n",
            "[12.2GB(+0.0GB): 2.257sec] fit Y\n"
          ],
          "name": "stderr"
        },
        {
          "output_type": "stream",
          "text": [
            "fold 6: mean position error 2.8433318767515963\n"
          ],
          "name": "stdout"
        },
        {
          "output_type": "stream",
          "text": [
            "[12.2GB(+0.0GB): 2.337sec] fit X\n",
            "[12.2GB(+0.0GB): 2.122sec] fit Y\n"
          ],
          "name": "stderr"
        },
        {
          "output_type": "stream",
          "text": [
            "fold 7: mean position error 2.7312934837004197\n"
          ],
          "name": "stdout"
        },
        {
          "output_type": "stream",
          "text": [
            "[12.2GB(+0.0GB): 2.383sec] fit X\n",
            "[12.2GB(+0.0GB): 1.888sec] fit Y\n"
          ],
          "name": "stderr"
        },
        {
          "output_type": "stream",
          "text": [
            "fold 8: mean position error 2.861418179669966\n"
          ],
          "name": "stdout"
        },
        {
          "output_type": "stream",
          "text": [
            "[12.2GB(+0.0GB): 2.248sec] fit X\n",
            "[12.2GB(+0.0GB): 1.991sec] fit Y\n"
          ],
          "name": "stderr"
        },
        {
          "output_type": "stream",
          "text": [
            "fold 9: mean position error 2.8407264549464437\n",
            "*+*+*+*+*+*+*+*+*+*+*+*+*+*+*+*+*+*+*+*+*+*+*+*+*+*+*+*+*+*+*+*+*+*+*+*+*+*+*+*+\n",
            "file #6, shape=(3940, 1257), name=5d2709a003f801723c3251bf_train_with_floor.csv\n",
            "mean position error 2.8081470737349656\n",
            "*+*+*+*+*+*+*+*+*+*+*+*+*+*+*+*+*+*+*+*+*+*+*+*+*+*+*+*+*+*+*+*+*+*+*+*+*+*+*+*+\n"
          ],
          "name": "stdout"
        },
        {
          "output_type": "stream",
          "text": [
            "[12.2GB(+0.0GB): 13.655sec] fit X\n",
            "[12.2GB(+0.0GB): 17.012sec] fit Y\n"
          ],
          "name": "stderr"
        },
        {
          "output_type": "stream",
          "text": [
            "fold 0: mean position error 2.9423193633194855\n"
          ],
          "name": "stdout"
        },
        {
          "output_type": "stream",
          "text": [
            "[12.2GB(+0.0GB): 17.071sec] fit X\n",
            "[12.2GB(+0.0GB): 22.094sec] fit Y\n"
          ],
          "name": "stderr"
        },
        {
          "output_type": "stream",
          "text": [
            "fold 1: mean position error 2.9596696419897035\n"
          ],
          "name": "stdout"
        },
        {
          "output_type": "stream",
          "text": [
            "[12.2GB(+0.0GB): 21.401sec] fit X\n",
            "[12.2GB(+0.0GB): 17.590sec] fit Y\n"
          ],
          "name": "stderr"
        },
        {
          "output_type": "stream",
          "text": [
            "fold 2: mean position error 2.9531241547731724\n"
          ],
          "name": "stdout"
        },
        {
          "output_type": "stream",
          "text": [
            "[12.2GB(-0.0GB): 22.382sec] fit X\n",
            "[12.2GB(+0.0GB): 14.849sec] fit Y\n"
          ],
          "name": "stderr"
        },
        {
          "output_type": "stream",
          "text": [
            "fold 3: mean position error 2.950830210089521\n"
          ],
          "name": "stdout"
        },
        {
          "output_type": "stream",
          "text": [
            "[12.2GB(+0.0GB): 24.163sec] fit X\n",
            "[12.2GB(+0.0GB): 15.992sec] fit Y\n"
          ],
          "name": "stderr"
        },
        {
          "output_type": "stream",
          "text": [
            "fold 4: mean position error 2.995092451140841\n"
          ],
          "name": "stdout"
        },
        {
          "output_type": "stream",
          "text": [
            "[12.2GB(+0.0GB): 16.975sec] fit X\n",
            "[12.2GB(+0.0GB): 16.954sec] fit Y\n"
          ],
          "name": "stderr"
        },
        {
          "output_type": "stream",
          "text": [
            "fold 5: mean position error 2.997507503727316\n"
          ],
          "name": "stdout"
        },
        {
          "output_type": "stream",
          "text": [
            "[12.2GB(+0.0GB): 19.719sec] fit X\n",
            "[12.2GB(+0.0GB): 17.201sec] fit Y\n"
          ],
          "name": "stderr"
        },
        {
          "output_type": "stream",
          "text": [
            "fold 6: mean position error 2.960769113684272\n"
          ],
          "name": "stdout"
        },
        {
          "output_type": "stream",
          "text": [
            "[12.2GB(+0.0GB): 22.303sec] fit X\n",
            "[12.2GB(+0.0GB): 18.443sec] fit Y\n"
          ],
          "name": "stderr"
        },
        {
          "output_type": "stream",
          "text": [
            "fold 7: mean position error 2.9853265505046296\n"
          ],
          "name": "stdout"
        },
        {
          "output_type": "stream",
          "text": [
            "[12.2GB(+0.0GB): 19.492sec] fit X\n",
            "[12.2GB(+0.0GB): 18.015sec] fit Y\n"
          ],
          "name": "stderr"
        },
        {
          "output_type": "stream",
          "text": [
            "fold 8: mean position error 2.957881460817309\n"
          ],
          "name": "stdout"
        },
        {
          "output_type": "stream",
          "text": [
            "[12.2GB(+0.0GB): 19.891sec] fit X\n",
            "[12.2GB(+0.0GB): 18.803sec] fit Y\n"
          ],
          "name": "stderr"
        },
        {
          "output_type": "stream",
          "text": [
            "fold 9: mean position error 2.9297065727926053\n",
            "*+*+*+*+*+*+*+*+*+*+*+*+*+*+*+*+*+*+*+*+*+*+*+*+*+*+*+*+*+*+*+*+*+*+*+*+*+*+*+*+\n",
            "file #7, shape=(15358, 1918), name=5d2709b303f801723c327472_train_with_floor.csv\n",
            "mean position error 2.963225232390081\n",
            "*+*+*+*+*+*+*+*+*+*+*+*+*+*+*+*+*+*+*+*+*+*+*+*+*+*+*+*+*+*+*+*+*+*+*+*+*+*+*+*+\n"
          ],
          "name": "stdout"
        },
        {
          "output_type": "stream",
          "text": [
            "[12.2GB(+0.0GB): 22.996sec] fit X\n",
            "[12.2GB(+0.0GB): 22.817sec] fit Y\n"
          ],
          "name": "stderr"
        },
        {
          "output_type": "stream",
          "text": [
            "fold 0: mean position error 3.3689728140802435\n"
          ],
          "name": "stdout"
        },
        {
          "output_type": "stream",
          "text": [
            "[12.2GB(+0.0GB): 31.676sec] fit X\n",
            "[12.2GB(+0.0GB): 23.294sec] fit Y\n"
          ],
          "name": "stderr"
        },
        {
          "output_type": "stream",
          "text": [
            "fold 1: mean position error 3.4286961264865305\n"
          ],
          "name": "stdout"
        },
        {
          "output_type": "stream",
          "text": [
            "[12.2GB(+0.0GB): 27.931sec] fit X\n",
            "[12.2GB(+0.0GB): 30.765sec] fit Y\n"
          ],
          "name": "stderr"
        },
        {
          "output_type": "stream",
          "text": [
            "fold 2: mean position error 3.4455116933461123\n"
          ],
          "name": "stdout"
        },
        {
          "output_type": "stream",
          "text": [
            "[12.2GB(+0.0GB): 17.132sec] fit X\n",
            "[12.2GB(+0.0GB): 26.336sec] fit Y\n"
          ],
          "name": "stderr"
        },
        {
          "output_type": "stream",
          "text": [
            "fold 3: mean position error 3.4916177395525896\n"
          ],
          "name": "stdout"
        },
        {
          "output_type": "stream",
          "text": [
            "[12.2GB(+0.0GB): 22.305sec] fit X\n",
            "[12.2GB(+0.0GB): 31.614sec] fit Y\n"
          ],
          "name": "stderr"
        },
        {
          "output_type": "stream",
          "text": [
            "fold 4: mean position error 3.527360887999174\n"
          ],
          "name": "stdout"
        },
        {
          "output_type": "stream",
          "text": [
            "[12.2GB(+0.0GB): 29.276sec] fit X\n",
            "[12.2GB(+0.0GB): 31.018sec] fit Y\n"
          ],
          "name": "stderr"
        },
        {
          "output_type": "stream",
          "text": [
            "fold 5: mean position error 3.3389117994838373\n"
          ],
          "name": "stdout"
        },
        {
          "output_type": "stream",
          "text": [
            "[12.2GB(+0.0GB): 30.331sec] fit X\n",
            "[12.2GB(+0.0GB): 24.599sec] fit Y\n"
          ],
          "name": "stderr"
        },
        {
          "output_type": "stream",
          "text": [
            "fold 6: mean position error 3.4587436003617174\n"
          ],
          "name": "stdout"
        },
        {
          "output_type": "stream",
          "text": [
            "[12.2GB(+0.0GB): 27.692sec] fit X\n",
            "[12.2GB(+0.0GB): 26.030sec] fit Y\n"
          ],
          "name": "stderr"
        },
        {
          "output_type": "stream",
          "text": [
            "fold 7: mean position error 3.264107854910867\n"
          ],
          "name": "stdout"
        },
        {
          "output_type": "stream",
          "text": [
            "[12.2GB(+0.0GB): 22.669sec] fit X\n",
            "[12.2GB(+0.0GB): 22.249sec] fit Y\n"
          ],
          "name": "stderr"
        },
        {
          "output_type": "stream",
          "text": [
            "fold 8: mean position error 3.2718622387601837\n"
          ],
          "name": "stdout"
        },
        {
          "output_type": "stream",
          "text": [
            "[12.2GB(+0.0GB): 21.860sec] fit X\n",
            "[12.2GB(+0.0GB): 30.951sec] fit Y\n"
          ],
          "name": "stderr"
        },
        {
          "output_type": "stream",
          "text": [
            "fold 9: mean position error 3.3941404906222803\n",
            "*+*+*+*+*+*+*+*+*+*+*+*+*+*+*+*+*+*+*+*+*+*+*+*+*+*+*+*+*+*+*+*+*+*+*+*+*+*+*+*+\n",
            "file #8, shape=(17203, 2457), name=5d2709bb03f801723c32852c_train_with_floor.csv\n",
            "mean position error 3.3989952103163397\n",
            "*+*+*+*+*+*+*+*+*+*+*+*+*+*+*+*+*+*+*+*+*+*+*+*+*+*+*+*+*+*+*+*+*+*+*+*+*+*+*+*+\n"
          ],
          "name": "stdout"
        },
        {
          "output_type": "stream",
          "text": [
            "[12.2GB(+0.0GB): 32.212sec] fit X\n",
            "[12.2GB(+0.0GB): 29.523sec] fit Y\n"
          ],
          "name": "stderr"
        },
        {
          "output_type": "stream",
          "text": [
            "fold 0: mean position error 3.3858405940538487\n"
          ],
          "name": "stdout"
        },
        {
          "output_type": "stream",
          "text": [
            "[12.2GB(+0.0GB): 31.455sec] fit X\n",
            "[12.2GB(+0.0GB): 32.789sec] fit Y\n"
          ],
          "name": "stderr"
        },
        {
          "output_type": "stream",
          "text": [
            "fold 1: mean position error 3.2834081786375524\n"
          ],
          "name": "stdout"
        },
        {
          "output_type": "stream",
          "text": [
            "[12.2GB(+0.0GB): 31.822sec] fit X\n",
            "[12.2GB(+0.0GB): 32.393sec] fit Y\n"
          ],
          "name": "stderr"
        },
        {
          "output_type": "stream",
          "text": [
            "fold 2: mean position error 3.3546406796607395\n"
          ],
          "name": "stdout"
        },
        {
          "output_type": "stream",
          "text": [
            "[12.2GB(+0.0GB): 38.863sec] fit X\n",
            "[12.2GB(-0.0GB): 36.003sec] fit Y\n"
          ],
          "name": "stderr"
        },
        {
          "output_type": "stream",
          "text": [
            "fold 3: mean position error 3.366409975956275\n"
          ],
          "name": "stdout"
        },
        {
          "output_type": "stream",
          "text": [
            "[12.2GB(+0.0GB): 41.321sec] fit X\n",
            "[12.2GB(+0.0GB): 29.105sec] fit Y\n"
          ],
          "name": "stderr"
        },
        {
          "output_type": "stream",
          "text": [
            "fold 4: mean position error 3.2909389101333755\n"
          ],
          "name": "stdout"
        },
        {
          "output_type": "stream",
          "text": [
            "[12.2GB(+0.0GB): 32.253sec] fit X\n",
            "[12.2GB(+0.0GB): 37.157sec] fit Y\n"
          ],
          "name": "stderr"
        },
        {
          "output_type": "stream",
          "text": [
            "fold 5: mean position error 3.352731022459005\n"
          ],
          "name": "stdout"
        },
        {
          "output_type": "stream",
          "text": [
            "[12.2GB(+0.0GB): 27.847sec] fit X\n",
            "[12.2GB(+0.0GB): 28.867sec] fit Y\n"
          ],
          "name": "stderr"
        },
        {
          "output_type": "stream",
          "text": [
            "fold 6: mean position error 3.372160893243994\n"
          ],
          "name": "stdout"
        },
        {
          "output_type": "stream",
          "text": [
            "[12.2GB(+0.0GB): 32.383sec] fit X\n",
            "[12.2GB(+0.0GB): 26.776sec] fit Y\n"
          ],
          "name": "stderr"
        },
        {
          "output_type": "stream",
          "text": [
            "fold 7: mean position error 3.3912563881449684\n"
          ],
          "name": "stdout"
        },
        {
          "output_type": "stream",
          "text": [
            "[12.2GB(-0.0GB): 35.563sec] fit X\n",
            "[12.2GB(+0.0GB): 32.047sec] fit Y\n"
          ],
          "name": "stderr"
        },
        {
          "output_type": "stream",
          "text": [
            "fold 8: mean position error 3.2460087843082737\n"
          ],
          "name": "stdout"
        },
        {
          "output_type": "stream",
          "text": [
            "[12.2GB(+0.0GB): 28.611sec] fit X\n",
            "[12.2GB(+0.0GB): 35.360sec] fit Y\n"
          ],
          "name": "stderr"
        },
        {
          "output_type": "stream",
          "text": [
            "fold 9: mean position error 3.405712174903368\n",
            "*+*+*+*+*+*+*+*+*+*+*+*+*+*+*+*+*+*+*+*+*+*+*+*+*+*+*+*+*+*+*+*+*+*+*+*+*+*+*+*+\n",
            "file #9, shape=(10083, 5836), name=5d2709c303f801723c3299ee_train_with_floor.csv\n",
            "mean position error 3.344909684792796\n",
            "*+*+*+*+*+*+*+*+*+*+*+*+*+*+*+*+*+*+*+*+*+*+*+*+*+*+*+*+*+*+*+*+*+*+*+*+*+*+*+*+\n"
          ],
          "name": "stdout"
        },
        {
          "output_type": "stream",
          "text": [
            "[12.2GB(+0.0GB): 11.139sec] fit X\n",
            "[12.2GB(+0.0GB): 10.134sec] fit Y\n"
          ],
          "name": "stderr"
        },
        {
          "output_type": "stream",
          "text": [
            "fold 0: mean position error 2.600987262886297\n"
          ],
          "name": "stdout"
        },
        {
          "output_type": "stream",
          "text": [
            "[12.2GB(+0.0GB): 8.939sec] fit X\n",
            "[12.2GB(+0.0GB): 12.302sec] fit Y\n"
          ],
          "name": "stderr"
        },
        {
          "output_type": "stream",
          "text": [
            "fold 1: mean position error 2.6554546270531496\n"
          ],
          "name": "stdout"
        },
        {
          "output_type": "stream",
          "text": [
            "[12.2GB(+0.0GB): 9.608sec] fit X\n",
            "[12.2GB(+0.0GB): 8.845sec] fit Y\n"
          ],
          "name": "stderr"
        },
        {
          "output_type": "stream",
          "text": [
            "fold 2: mean position error 2.7514472665679435\n"
          ],
          "name": "stdout"
        },
        {
          "output_type": "stream",
          "text": [
            "[12.2GB(+0.0GB): 8.468sec] fit X\n",
            "[12.2GB(+0.0GB): 9.945sec] fit Y\n"
          ],
          "name": "stderr"
        },
        {
          "output_type": "stream",
          "text": [
            "fold 3: mean position error 2.5461407758619177\n"
          ],
          "name": "stdout"
        },
        {
          "output_type": "stream",
          "text": [
            "[12.2GB(+0.0GB): 11.209sec] fit X\n",
            "[12.2GB(+0.0GB): 10.363sec] fit Y\n"
          ],
          "name": "stderr"
        },
        {
          "output_type": "stream",
          "text": [
            "fold 4: mean position error 2.6001539457081098\n"
          ],
          "name": "stdout"
        },
        {
          "output_type": "stream",
          "text": [
            "[12.2GB(+0.0GB): 10.361sec] fit X\n",
            "[12.2GB(+0.0GB): 8.340sec] fit Y\n"
          ],
          "name": "stderr"
        },
        {
          "output_type": "stream",
          "text": [
            "fold 5: mean position error 2.820881007242947\n"
          ],
          "name": "stdout"
        },
        {
          "output_type": "stream",
          "text": [
            "[12.2GB(+0.0GB): 10.611sec] fit X\n",
            "[12.2GB(+0.0GB): 10.739sec] fit Y\n"
          ],
          "name": "stderr"
        },
        {
          "output_type": "stream",
          "text": [
            "fold 6: mean position error 2.6622690624530834\n"
          ],
          "name": "stdout"
        },
        {
          "output_type": "stream",
          "text": [
            "[12.2GB(+0.0GB): 9.243sec] fit X\n",
            "[12.2GB(+0.0GB): 11.666sec] fit Y\n"
          ],
          "name": "stderr"
        },
        {
          "output_type": "stream",
          "text": [
            "fold 7: mean position error 2.6110234868952533\n"
          ],
          "name": "stdout"
        },
        {
          "output_type": "stream",
          "text": [
            "[12.2GB(+0.0GB): 10.262sec] fit X\n",
            "[12.2GB(+0.0GB): 9.863sec] fit Y\n"
          ],
          "name": "stderr"
        },
        {
          "output_type": "stream",
          "text": [
            "fold 8: mean position error 2.623946593828196\n"
          ],
          "name": "stdout"
        },
        {
          "output_type": "stream",
          "text": [
            "[12.2GB(+0.0GB): 10.512sec] fit X\n",
            "[12.2GB(+0.0GB): 9.389sec] fit Y\n"
          ],
          "name": "stderr"
        },
        {
          "output_type": "stream",
          "text": [
            "fold 9: mean position error 2.601722500599657\n",
            "*+*+*+*+*+*+*+*+*+*+*+*+*+*+*+*+*+*+*+*+*+*+*+*+*+*+*+*+*+*+*+*+*+*+*+*+*+*+*+*+\n",
            "file #10, shape=(10027, 2144), name=5d2709d403f801723c32bd39_train_with_floor.csv\n",
            "mean position error 2.6474131760349575\n",
            "*+*+*+*+*+*+*+*+*+*+*+*+*+*+*+*+*+*+*+*+*+*+*+*+*+*+*+*+*+*+*+*+*+*+*+*+*+*+*+*+\n"
          ],
          "name": "stdout"
        },
        {
          "output_type": "stream",
          "text": [
            "[12.2GB(+0.0GB): 9.120sec] fit X\n",
            "[12.2GB(+0.0GB): 6.571sec] fit Y\n"
          ],
          "name": "stderr"
        },
        {
          "output_type": "stream",
          "text": [
            "fold 0: mean position error 3.0271229197336442\n"
          ],
          "name": "stdout"
        },
        {
          "output_type": "stream",
          "text": [
            "[12.2GB(+0.0GB): 8.066sec] fit X\n",
            "[12.2GB(+0.0GB): 8.079sec] fit Y\n"
          ],
          "name": "stderr"
        },
        {
          "output_type": "stream",
          "text": [
            "fold 1: mean position error 3.0080969138890685\n"
          ],
          "name": "stdout"
        },
        {
          "output_type": "stream",
          "text": [
            "[12.2GB(+0.0GB): 8.125sec] fit X\n",
            "[12.2GB(+0.0GB): 6.233sec] fit Y\n"
          ],
          "name": "stderr"
        },
        {
          "output_type": "stream",
          "text": [
            "fold 2: mean position error 3.099231786596286\n"
          ],
          "name": "stdout"
        },
        {
          "output_type": "stream",
          "text": [
            "[12.2GB(+0.0GB): 8.703sec] fit X\n",
            "[12.2GB(+0.0GB): 7.995sec] fit Y\n"
          ],
          "name": "stderr"
        },
        {
          "output_type": "stream",
          "text": [
            "fold 3: mean position error 3.1818217816359238\n"
          ],
          "name": "stdout"
        },
        {
          "output_type": "stream",
          "text": [
            "[12.2GB(+0.0GB): 8.922sec] fit X\n",
            "[12.2GB(+0.0GB): 8.379sec] fit Y\n"
          ],
          "name": "stderr"
        },
        {
          "output_type": "stream",
          "text": [
            "fold 4: mean position error 3.001887306928601\n"
          ],
          "name": "stdout"
        },
        {
          "output_type": "stream",
          "text": [
            "[12.2GB(+0.0GB): 9.367sec] fit X\n",
            "[12.2GB(+0.0GB): 8.326sec] fit Y\n"
          ],
          "name": "stderr"
        },
        {
          "output_type": "stream",
          "text": [
            "fold 5: mean position error 3.084198935742724\n"
          ],
          "name": "stdout"
        },
        {
          "output_type": "stream",
          "text": [
            "[12.2GB(+0.0GB): 13.850sec] fit X\n",
            "[12.2GB(+0.0GB): 8.926sec] fit Y\n"
          ],
          "name": "stderr"
        },
        {
          "output_type": "stream",
          "text": [
            "fold 6: mean position error 3.0613419710757315\n"
          ],
          "name": "stdout"
        },
        {
          "output_type": "stream",
          "text": [
            "[12.2GB(+0.0GB): 8.144sec] fit X\n",
            "[12.2GB(+0.0GB): 8.016sec] fit Y\n"
          ],
          "name": "stderr"
        },
        {
          "output_type": "stream",
          "text": [
            "fold 7: mean position error 3.032716060552352\n"
          ],
          "name": "stdout"
        },
        {
          "output_type": "stream",
          "text": [
            "[12.2GB(+0.0GB): 8.059sec] fit X\n",
            "[12.2GB(+0.0GB): 8.991sec] fit Y\n"
          ],
          "name": "stderr"
        },
        {
          "output_type": "stream",
          "text": [
            "fold 8: mean position error 3.036776665998568\n"
          ],
          "name": "stdout"
        },
        {
          "output_type": "stream",
          "text": [
            "[12.2GB(+0.0GB): 6.536sec] fit X\n",
            "[12.2GB(+0.0GB): 8.273sec] fit Y\n"
          ],
          "name": "stderr"
        },
        {
          "output_type": "stream",
          "text": [
            "fold 9: mean position error 3.105473915312042\n",
            "*+*+*+*+*+*+*+*+*+*+*+*+*+*+*+*+*+*+*+*+*+*+*+*+*+*+*+*+*+*+*+*+*+*+*+*+*+*+*+*+\n",
            "file #11, shape=(11042, 1314), name=5d2709e003f801723c32d896_train_with_floor.csv\n",
            "mean position error 3.0638584473895056\n",
            "*+*+*+*+*+*+*+*+*+*+*+*+*+*+*+*+*+*+*+*+*+*+*+*+*+*+*+*+*+*+*+*+*+*+*+*+*+*+*+*+\n"
          ],
          "name": "stdout"
        },
        {
          "output_type": "stream",
          "text": [
            "[12.2GB(+0.0GB): 0.777sec] fit X\n",
            "[12.2GB(+0.0GB): 0.622sec] fit Y\n"
          ],
          "name": "stderr"
        },
        {
          "output_type": "stream",
          "text": [
            "fold 0: mean position error 3.2242334997509885\n"
          ],
          "name": "stdout"
        },
        {
          "output_type": "stream",
          "text": [
            "[12.2GB(+0.0GB): 0.730sec] fit X\n",
            "[12.2GB(+0.0GB): 0.536sec] fit Y\n"
          ],
          "name": "stderr"
        },
        {
          "output_type": "stream",
          "text": [
            "fold 1: mean position error 3.3112522902619514\n"
          ],
          "name": "stdout"
        },
        {
          "output_type": "stream",
          "text": [
            "[12.2GB(+0.0GB): 0.733sec] fit X\n",
            "[12.2GB(+0.0GB): 0.555sec] fit Y\n"
          ],
          "name": "stderr"
        },
        {
          "output_type": "stream",
          "text": [
            "fold 2: mean position error 2.9587875133890575\n"
          ],
          "name": "stdout"
        },
        {
          "output_type": "stream",
          "text": [
            "[12.2GB(+0.0GB): 0.528sec] fit X\n",
            "[12.2GB(+0.0GB): 0.603sec] fit Y\n"
          ],
          "name": "stderr"
        },
        {
          "output_type": "stream",
          "text": [
            "fold 3: mean position error 3.4087409056525306\n"
          ],
          "name": "stdout"
        },
        {
          "output_type": "stream",
          "text": [
            "[12.2GB(+0.0GB): 0.574sec] fit X\n",
            "[12.2GB(+0.0GB): 0.753sec] fit Y\n"
          ],
          "name": "stderr"
        },
        {
          "output_type": "stream",
          "text": [
            "fold 4: mean position error 3.1785943649065183\n"
          ],
          "name": "stdout"
        },
        {
          "output_type": "stream",
          "text": [
            "[12.2GB(+0.0GB): 0.568sec] fit X\n",
            "[12.2GB(+0.0GB): 0.523sec] fit Y\n"
          ],
          "name": "stderr"
        },
        {
          "output_type": "stream",
          "text": [
            "fold 5: mean position error 3.4767692343971204\n"
          ],
          "name": "stdout"
        },
        {
          "output_type": "stream",
          "text": [
            "[12.2GB(+0.0GB): 0.772sec] fit X\n",
            "[12.2GB(+0.0GB): 0.354sec] fit Y\n"
          ],
          "name": "stderr"
        },
        {
          "output_type": "stream",
          "text": [
            "fold 6: mean position error 3.2334143158901325\n"
          ],
          "name": "stdout"
        },
        {
          "output_type": "stream",
          "text": [
            "[12.2GB(+0.0GB): 1.341sec] fit X\n",
            "[12.2GB(+0.0GB): 0.718sec] fit Y\n"
          ],
          "name": "stderr"
        },
        {
          "output_type": "stream",
          "text": [
            "fold 7: mean position error 3.315552649515845\n"
          ],
          "name": "stdout"
        },
        {
          "output_type": "stream",
          "text": [
            "[12.2GB(+0.0GB): 1.084sec] fit X\n",
            "[12.2GB(+0.0GB): 0.721sec] fit Y\n"
          ],
          "name": "stderr"
        },
        {
          "output_type": "stream",
          "text": [
            "fold 8: mean position error 3.246391492649413\n"
          ],
          "name": "stdout"
        },
        {
          "output_type": "stream",
          "text": [
            "[12.2GB(+0.0GB): 0.570sec] fit X\n",
            "[12.2GB(+0.0GB): 0.737sec] fit Y\n"
          ],
          "name": "stderr"
        },
        {
          "output_type": "stream",
          "text": [
            "fold 9: mean position error 3.2115190263168985\n",
            "*+*+*+*+*+*+*+*+*+*+*+*+*+*+*+*+*+*+*+*+*+*+*+*+*+*+*+*+*+*+*+*+*+*+*+*+*+*+*+*+\n",
            "file #12, shape=(2662, 495), name=5da138274db8ce0c98bbd3d2_train_with_floor.csv\n",
            "mean position error 3.256533957045948\n",
            "*+*+*+*+*+*+*+*+*+*+*+*+*+*+*+*+*+*+*+*+*+*+*+*+*+*+*+*+*+*+*+*+*+*+*+*+*+*+*+*+\n"
          ],
          "name": "stdout"
        },
        {
          "output_type": "stream",
          "text": [
            "[12.2GB(+0.0GB): 15.668sec] fit X\n",
            "[12.2GB(+0.0GB): 13.229sec] fit Y\n"
          ],
          "name": "stderr"
        },
        {
          "output_type": "stream",
          "text": [
            "fold 0: mean position error 3.564518175621212\n"
          ],
          "name": "stdout"
        },
        {
          "output_type": "stream",
          "text": [
            "[12.2GB(+0.0GB): 9.664sec] fit X\n",
            "[12.2GB(+0.0GB): 11.022sec] fit Y\n"
          ],
          "name": "stderr"
        },
        {
          "output_type": "stream",
          "text": [
            "fold 1: mean position error 3.5541046537408185\n"
          ],
          "name": "stdout"
        },
        {
          "output_type": "stream",
          "text": [
            "[12.2GB(-0.0GB): 14.120sec] fit X\n",
            "[12.2GB(+0.0GB): 15.563sec] fit Y\n"
          ],
          "name": "stderr"
        },
        {
          "output_type": "stream",
          "text": [
            "fold 2: mean position error 3.822779281877303\n"
          ],
          "name": "stdout"
        },
        {
          "output_type": "stream",
          "text": [
            "[12.2GB(+0.0GB): 14.628sec] fit X\n",
            "[12.2GB(+0.0GB): 20.248sec] fit Y\n"
          ],
          "name": "stderr"
        },
        {
          "output_type": "stream",
          "text": [
            "fold 3: mean position error 3.710797334560568\n"
          ],
          "name": "stdout"
        },
        {
          "output_type": "stream",
          "text": [
            "[12.2GB(+0.0GB): 16.042sec] fit X\n",
            "[12.2GB(+0.0GB): 9.868sec] fit Y\n"
          ],
          "name": "stderr"
        },
        {
          "output_type": "stream",
          "text": [
            "fold 4: mean position error 3.5539804771954793\n"
          ],
          "name": "stdout"
        },
        {
          "output_type": "stream",
          "text": [
            "[12.2GB(+0.0GB): 13.122sec] fit X\n",
            "[12.2GB(+0.0GB): 12.317sec] fit Y\n"
          ],
          "name": "stderr"
        },
        {
          "output_type": "stream",
          "text": [
            "fold 5: mean position error 3.6321798032834596\n"
          ],
          "name": "stdout"
        },
        {
          "output_type": "stream",
          "text": [
            "[12.2GB(+0.0GB): 9.087sec] fit X\n",
            "[12.2GB(+0.0GB): 10.963sec] fit Y\n"
          ],
          "name": "stderr"
        },
        {
          "output_type": "stream",
          "text": [
            "fold 6: mean position error 3.74741196933451\n"
          ],
          "name": "stdout"
        },
        {
          "output_type": "stream",
          "text": [
            "[12.2GB(+0.0GB): 10.927sec] fit X\n",
            "[12.2GB(+0.0GB): 11.145sec] fit Y\n"
          ],
          "name": "stderr"
        },
        {
          "output_type": "stream",
          "text": [
            "fold 7: mean position error 3.6731291525274012\n"
          ],
          "name": "stdout"
        },
        {
          "output_type": "stream",
          "text": [
            "[12.2GB(+0.0GB): 14.985sec] fit X\n",
            "[12.2GB(+0.0GB): 14.183sec] fit Y\n"
          ],
          "name": "stderr"
        },
        {
          "output_type": "stream",
          "text": [
            "fold 8: mean position error 3.726177178326529\n"
          ],
          "name": "stdout"
        },
        {
          "output_type": "stream",
          "text": [
            "[12.2GB(+0.0GB): 14.256sec] fit X\n",
            "[12.2GB(+0.0GB): 14.563sec] fit Y\n"
          ],
          "name": "stderr"
        },
        {
          "output_type": "stream",
          "text": [
            "fold 9: mean position error 3.5369765115984966\n",
            "*+*+*+*+*+*+*+*+*+*+*+*+*+*+*+*+*+*+*+*+*+*+*+*+*+*+*+*+*+*+*+*+*+*+*+*+*+*+*+*+\n",
            "file #13, shape=(8999, 2867), name=5da1382d4db8ce0c98bbe92e_train_with_floor.csv\n",
            "mean position error 3.6522182584451164\n",
            "*+*+*+*+*+*+*+*+*+*+*+*+*+*+*+*+*+*+*+*+*+*+*+*+*+*+*+*+*+*+*+*+*+*+*+*+*+*+*+*+\n"
          ],
          "name": "stdout"
        },
        {
          "output_type": "stream",
          "text": [
            "[12.2GB(+0.0GB): 5.862sec] fit X\n",
            "[12.2GB(+0.0GB): 5.642sec] fit Y\n"
          ],
          "name": "stderr"
        },
        {
          "output_type": "stream",
          "text": [
            "fold 0: mean position error 2.0609017062995223\n"
          ],
          "name": "stdout"
        },
        {
          "output_type": "stream",
          "text": [
            "[12.2GB(+0.0GB): 5.808sec] fit X\n",
            "[12.2GB(+0.0GB): 6.152sec] fit Y\n"
          ],
          "name": "stderr"
        },
        {
          "output_type": "stream",
          "text": [
            "fold 1: mean position error 2.139828540305758\n"
          ],
          "name": "stdout"
        },
        {
          "output_type": "stream",
          "text": [
            "[12.2GB(+0.0GB): 7.454sec] fit X\n",
            "[12.2GB(+0.0GB): 6.573sec] fit Y\n"
          ],
          "name": "stderr"
        },
        {
          "output_type": "stream",
          "text": [
            "fold 2: mean position error 2.1019539041566007\n"
          ],
          "name": "stdout"
        },
        {
          "output_type": "stream",
          "text": [
            "[12.2GB(+0.0GB): 7.214sec] fit X\n",
            "[12.2GB(+0.0GB): 8.298sec] fit Y\n"
          ],
          "name": "stderr"
        },
        {
          "output_type": "stream",
          "text": [
            "fold 3: mean position error 2.132115457484572\n"
          ],
          "name": "stdout"
        },
        {
          "output_type": "stream",
          "text": [
            "[12.2GB(+0.0GB): 7.593sec] fit X\n",
            "[12.2GB(+0.0GB): 8.919sec] fit Y\n"
          ],
          "name": "stderr"
        },
        {
          "output_type": "stream",
          "text": [
            "fold 4: mean position error 2.1233830138450513\n"
          ],
          "name": "stdout"
        },
        {
          "output_type": "stream",
          "text": [
            "[12.2GB(+0.0GB): 6.720sec] fit X\n",
            "[12.2GB(+0.0GB): 6.710sec] fit Y\n"
          ],
          "name": "stderr"
        },
        {
          "output_type": "stream",
          "text": [
            "fold 5: mean position error 2.1319351576590284\n"
          ],
          "name": "stdout"
        },
        {
          "output_type": "stream",
          "text": [
            "[12.2GB(+0.0GB): 5.396sec] fit X\n",
            "[12.2GB(+0.0GB): 5.653sec] fit Y\n"
          ],
          "name": "stderr"
        },
        {
          "output_type": "stream",
          "text": [
            "fold 6: mean position error 2.1198388367908905\n"
          ],
          "name": "stdout"
        },
        {
          "output_type": "stream",
          "text": [
            "[12.2GB(+0.0GB): 7.028sec] fit X\n",
            "[12.2GB(+0.0GB): 6.148sec] fit Y\n"
          ],
          "name": "stderr"
        },
        {
          "output_type": "stream",
          "text": [
            "fold 7: mean position error 2.10548186169128\n"
          ],
          "name": "stdout"
        },
        {
          "output_type": "stream",
          "text": [
            "[12.2GB(+0.0GB): 7.106sec] fit X\n",
            "[12.2GB(+0.0GB): 6.161sec] fit Y\n"
          ],
          "name": "stderr"
        },
        {
          "output_type": "stream",
          "text": [
            "fold 8: mean position error 2.0653167811581388\n"
          ],
          "name": "stdout"
        },
        {
          "output_type": "stream",
          "text": [
            "[12.2GB(+0.0GB): 5.508sec] fit X\n",
            "[12.2GB(+0.0GB): 7.488sec] fit Y\n"
          ],
          "name": "stderr"
        },
        {
          "output_type": "stream",
          "text": [
            "fold 9: mean position error 2.0681254820917134\n",
            "*+*+*+*+*+*+*+*+*+*+*+*+*+*+*+*+*+*+*+*+*+*+*+*+*+*+*+*+*+*+*+*+*+*+*+*+*+*+*+*+\n",
            "file #14, shape=(9012, 1217), name=5da138314db8ce0c98bbf3a0_train_with_floor.csv\n",
            "mean position error 2.104887070386417\n",
            "*+*+*+*+*+*+*+*+*+*+*+*+*+*+*+*+*+*+*+*+*+*+*+*+*+*+*+*+*+*+*+*+*+*+*+*+*+*+*+*+\n"
          ],
          "name": "stdout"
        },
        {
          "output_type": "stream",
          "text": [
            "[12.2GB(+0.0GB): 0.901sec] fit X\n",
            "[12.2GB(+0.0GB): 0.821sec] fit Y\n"
          ],
          "name": "stderr"
        },
        {
          "output_type": "stream",
          "text": [
            "fold 0: mean position error 2.368465031763962\n"
          ],
          "name": "stdout"
        },
        {
          "output_type": "stream",
          "text": [
            "[12.2GB(+0.0GB): 0.858sec] fit X\n",
            "[12.2GB(+0.0GB): 0.980sec] fit Y\n"
          ],
          "name": "stderr"
        },
        {
          "output_type": "stream",
          "text": [
            "fold 1: mean position error 2.5988147786679456\n"
          ],
          "name": "stdout"
        },
        {
          "output_type": "stream",
          "text": [
            "[12.2GB(+0.0GB): 0.668sec] fit X\n",
            "[12.2GB(+0.0GB): 0.872sec] fit Y\n"
          ],
          "name": "stderr"
        },
        {
          "output_type": "stream",
          "text": [
            "fold 2: mean position error 2.5051686525751857\n"
          ],
          "name": "stdout"
        },
        {
          "output_type": "stream",
          "text": [
            "[12.2GB(+0.0GB): 0.733sec] fit X\n",
            "[12.2GB(+0.0GB): 0.752sec] fit Y\n"
          ],
          "name": "stderr"
        },
        {
          "output_type": "stream",
          "text": [
            "fold 3: mean position error 2.365844629764168\n"
          ],
          "name": "stdout"
        },
        {
          "output_type": "stream",
          "text": [
            "[12.2GB(+0.0GB): 0.649sec] fit X\n",
            "[12.2GB(+0.0GB): 0.936sec] fit Y\n"
          ],
          "name": "stderr"
        },
        {
          "output_type": "stream",
          "text": [
            "fold 4: mean position error 2.633363821009188\n"
          ],
          "name": "stdout"
        },
        {
          "output_type": "stream",
          "text": [
            "[12.2GB(+0.0GB): 1.162sec] fit X\n",
            "[12.2GB(+0.0GB): 0.877sec] fit Y\n"
          ],
          "name": "stderr"
        },
        {
          "output_type": "stream",
          "text": [
            "fold 5: mean position error 2.4059531678139225\n"
          ],
          "name": "stdout"
        },
        {
          "output_type": "stream",
          "text": [
            "[12.2GB(+0.0GB): 0.768sec] fit X\n",
            "[12.2GB(+0.0GB): 1.016sec] fit Y\n"
          ],
          "name": "stderr"
        },
        {
          "output_type": "stream",
          "text": [
            "fold 6: mean position error 2.3955932904220827\n"
          ],
          "name": "stdout"
        },
        {
          "output_type": "stream",
          "text": [
            "[12.2GB(+0.0GB): 0.722sec] fit X\n",
            "[12.2GB(+0.0GB): 1.066sec] fit Y\n"
          ],
          "name": "stderr"
        },
        {
          "output_type": "stream",
          "text": [
            "fold 7: mean position error 2.39601843013036\n"
          ],
          "name": "stdout"
        },
        {
          "output_type": "stream",
          "text": [
            "[12.2GB(+0.0GB): 1.138sec] fit X\n",
            "[12.2GB(+0.0GB): 0.999sec] fit Y\n"
          ],
          "name": "stderr"
        },
        {
          "output_type": "stream",
          "text": [
            "fold 8: mean position error 2.4925916704865285\n"
          ],
          "name": "stdout"
        },
        {
          "output_type": "stream",
          "text": [
            "[12.2GB(+0.0GB): 0.896sec] fit X\n",
            "[12.2GB(+0.0GB): 1.290sec] fit Y\n"
          ],
          "name": "stderr"
        },
        {
          "output_type": "stream",
          "text": [
            "fold 9: mean position error 2.604244756069505\n",
            "*+*+*+*+*+*+*+*+*+*+*+*+*+*+*+*+*+*+*+*+*+*+*+*+*+*+*+*+*+*+*+*+*+*+*+*+*+*+*+*+\n",
            "file #15, shape=(2767, 827), name=5da138364db8ce0c98bc00f1_train_with_floor.csv\n",
            "mean position error 2.4765830410169865\n",
            "*+*+*+*+*+*+*+*+*+*+*+*+*+*+*+*+*+*+*+*+*+*+*+*+*+*+*+*+*+*+*+*+*+*+*+*+*+*+*+*+\n"
          ],
          "name": "stdout"
        },
        {
          "output_type": "stream",
          "text": [
            "[12.2GB(+0.0GB): 16.486sec] fit X\n",
            "[12.2GB(+0.0GB): 9.829sec] fit Y\n"
          ],
          "name": "stderr"
        },
        {
          "output_type": "stream",
          "text": [
            "fold 0: mean position error 3.1659753690523\n"
          ],
          "name": "stdout"
        },
        {
          "output_type": "stream",
          "text": [
            "[12.2GB(+0.0GB): 14.689sec] fit X\n",
            "[12.2GB(+0.0GB): 12.510sec] fit Y\n"
          ],
          "name": "stderr"
        },
        {
          "output_type": "stream",
          "text": [
            "fold 1: mean position error 3.2327269963248884\n"
          ],
          "name": "stdout"
        },
        {
          "output_type": "stream",
          "text": [
            "[12.2GB(+0.0GB): 13.317sec] fit X\n",
            "[12.2GB(+0.0GB): 13.128sec] fit Y\n"
          ],
          "name": "stderr"
        },
        {
          "output_type": "stream",
          "text": [
            "fold 2: mean position error 3.1007178567153724\n"
          ],
          "name": "stdout"
        },
        {
          "output_type": "stream",
          "text": [
            "[12.2GB(+0.0GB): 14.203sec] fit X\n",
            "[12.2GB(+0.0GB): 12.072sec] fit Y\n"
          ],
          "name": "stderr"
        },
        {
          "output_type": "stream",
          "text": [
            "fold 3: mean position error 3.1521619414340987\n"
          ],
          "name": "stdout"
        },
        {
          "output_type": "stream",
          "text": [
            "[12.2GB(+0.0GB): 11.404sec] fit X\n",
            "[12.2GB(+0.0GB): 10.764sec] fit Y\n"
          ],
          "name": "stderr"
        },
        {
          "output_type": "stream",
          "text": [
            "fold 4: mean position error 3.2947970696714814\n"
          ],
          "name": "stdout"
        },
        {
          "output_type": "stream",
          "text": [
            "[12.2GB(+0.0GB): 10.552sec] fit X\n",
            "[12.2GB(+0.0GB): 11.720sec] fit Y\n"
          ],
          "name": "stderr"
        },
        {
          "output_type": "stream",
          "text": [
            "fold 5: mean position error 3.2329975970067943\n"
          ],
          "name": "stdout"
        },
        {
          "output_type": "stream",
          "text": [
            "[12.2GB(+0.0GB): 14.265sec] fit X\n",
            "[12.2GB(+0.0GB): 12.522sec] fit Y\n"
          ],
          "name": "stderr"
        },
        {
          "output_type": "stream",
          "text": [
            "fold 6: mean position error 3.115437984264337\n"
          ],
          "name": "stdout"
        },
        {
          "output_type": "stream",
          "text": [
            "[12.2GB(+0.0GB): 10.552sec] fit X\n",
            "[12.2GB(+0.0GB): 12.478sec] fit Y\n"
          ],
          "name": "stderr"
        },
        {
          "output_type": "stream",
          "text": [
            "fold 7: mean position error 3.242080083289149\n"
          ],
          "name": "stdout"
        },
        {
          "output_type": "stream",
          "text": [
            "[12.2GB(+0.0GB): 12.617sec] fit X\n",
            "[12.2GB(+0.0GB): 14.154sec] fit Y\n"
          ],
          "name": "stderr"
        },
        {
          "output_type": "stream",
          "text": [
            "fold 8: mean position error 3.178953177497204\n"
          ],
          "name": "stdout"
        },
        {
          "output_type": "stream",
          "text": [
            "[12.2GB(+0.0GB): 12.182sec] fit X\n",
            "[12.2GB(+0.0GB): 10.129sec] fit Y\n"
          ],
          "name": "stderr"
        },
        {
          "output_type": "stream",
          "text": [
            "fold 9: mean position error 3.2714744125707673\n",
            "*+*+*+*+*+*+*+*+*+*+*+*+*+*+*+*+*+*+*+*+*+*+*+*+*+*+*+*+*+*+*+*+*+*+*+*+*+*+*+*+\n",
            "file #16, shape=(13196, 1530), name=5da1383b4db8ce0c98bc11ab_train_with_floor.csv\n",
            "mean position error 3.1987312623729323\n",
            "*+*+*+*+*+*+*+*+*+*+*+*+*+*+*+*+*+*+*+*+*+*+*+*+*+*+*+*+*+*+*+*+*+*+*+*+*+*+*+*+\n"
          ],
          "name": "stdout"
        },
        {
          "output_type": "stream",
          "text": [
            "[12.2GB(+0.0GB): 4.344sec] fit X\n",
            "[12.2GB(+0.0GB): 4.533sec] fit Y\n"
          ],
          "name": "stderr"
        },
        {
          "output_type": "stream",
          "text": [
            "fold 0: mean position error 2.7482441607566397\n"
          ],
          "name": "stdout"
        },
        {
          "output_type": "stream",
          "text": [
            "[12.2GB(+0.0GB): 3.508sec] fit X\n",
            "[12.2GB(+0.0GB): 3.736sec] fit Y\n"
          ],
          "name": "stderr"
        },
        {
          "output_type": "stream",
          "text": [
            "fold 1: mean position error 3.1385609652117448\n"
          ],
          "name": "stdout"
        },
        {
          "output_type": "stream",
          "text": [
            "[12.2GB(+0.0GB): 5.065sec] fit X\n",
            "[12.2GB(+0.0GB): 3.945sec] fit Y\n"
          ],
          "name": "stderr"
        },
        {
          "output_type": "stream",
          "text": [
            "fold 2: mean position error 3.022740239972236\n"
          ],
          "name": "stdout"
        },
        {
          "output_type": "stream",
          "text": [
            "[12.2GB(+0.0GB): 3.487sec] fit X\n",
            "[12.2GB(+0.0GB): 4.155sec] fit Y\n"
          ],
          "name": "stderr"
        },
        {
          "output_type": "stream",
          "text": [
            "fold 3: mean position error 2.8503705786985702\n"
          ],
          "name": "stdout"
        },
        {
          "output_type": "stream",
          "text": [
            "[12.2GB(+0.0GB): 4.015sec] fit X\n",
            "[12.2GB(+0.0GB): 4.378sec] fit Y\n"
          ],
          "name": "stderr"
        },
        {
          "output_type": "stream",
          "text": [
            "fold 4: mean position error 2.842710229953793\n"
          ],
          "name": "stdout"
        },
        {
          "output_type": "stream",
          "text": [
            "[12.2GB(+0.0GB): 3.987sec] fit X\n",
            "[12.2GB(+0.0GB): 7.192sec] fit Y\n"
          ],
          "name": "stderr"
        },
        {
          "output_type": "stream",
          "text": [
            "fold 5: mean position error 2.8147676867054083\n"
          ],
          "name": "stdout"
        },
        {
          "output_type": "stream",
          "text": [
            "[12.2GB(+0.0GB): 4.033sec] fit X\n",
            "[12.2GB(+0.0GB): 4.898sec] fit Y\n"
          ],
          "name": "stderr"
        },
        {
          "output_type": "stream",
          "text": [
            "fold 6: mean position error 2.7534572424390893\n"
          ],
          "name": "stdout"
        },
        {
          "output_type": "stream",
          "text": [
            "[12.2GB(+0.0GB): 3.677sec] fit X\n",
            "[12.2GB(+0.0GB): 4.743sec] fit Y\n"
          ],
          "name": "stderr"
        },
        {
          "output_type": "stream",
          "text": [
            "fold 7: mean position error 2.8621968401513844\n"
          ],
          "name": "stdout"
        },
        {
          "output_type": "stream",
          "text": [
            "[12.2GB(+0.0GB): 4.309sec] fit X\n",
            "[12.2GB(+0.0GB): 5.247sec] fit Y\n"
          ],
          "name": "stderr"
        },
        {
          "output_type": "stream",
          "text": [
            "fold 8: mean position error 2.7073668854764756\n"
          ],
          "name": "stdout"
        },
        {
          "output_type": "stream",
          "text": [
            "[12.2GB(+0.0GB): 2.784sec] fit X\n",
            "[12.2GB(+0.0GB): 4.042sec] fit Y\n"
          ],
          "name": "stderr"
        },
        {
          "output_type": "stream",
          "text": [
            "fold 9: mean position error 2.929696940639069\n",
            "*+*+*+*+*+*+*+*+*+*+*+*+*+*+*+*+*+*+*+*+*+*+*+*+*+*+*+*+*+*+*+*+*+*+*+*+*+*+*+*+\n",
            "file #17, shape=(7188, 1632), name=5da138754db8ce0c98bca82f_train_with_floor.csv\n",
            "mean position error 2.86702466594422\n",
            "*+*+*+*+*+*+*+*+*+*+*+*+*+*+*+*+*+*+*+*+*+*+*+*+*+*+*+*+*+*+*+*+*+*+*+*+*+*+*+*+\n"
          ],
          "name": "stdout"
        },
        {
          "output_type": "stream",
          "text": [
            "[12.2GB(+0.0GB): 8.762sec] fit X\n",
            "[12.2GB(+0.0GB): 8.310sec] fit Y\n"
          ],
          "name": "stderr"
        },
        {
          "output_type": "stream",
          "text": [
            "fold 0: mean position error 3.3933300015862824\n"
          ],
          "name": "stdout"
        },
        {
          "output_type": "stream",
          "text": [
            "[12.2GB(+0.0GB): 10.215sec] fit X\n",
            "[12.2GB(+0.0GB): 7.737sec] fit Y\n"
          ],
          "name": "stderr"
        },
        {
          "output_type": "stream",
          "text": [
            "fold 1: mean position error 3.40356725821906\n"
          ],
          "name": "stdout"
        },
        {
          "output_type": "stream",
          "text": [
            "[12.2GB(+0.0GB): 7.569sec] fit X\n",
            "[12.2GB(+0.0GB): 7.947sec] fit Y\n"
          ],
          "name": "stderr"
        },
        {
          "output_type": "stream",
          "text": [
            "fold 2: mean position error 3.292153348065624\n"
          ],
          "name": "stdout"
        },
        {
          "output_type": "stream",
          "text": [
            "[12.2GB(+0.0GB): 7.726sec] fit X\n",
            "[12.2GB(+0.0GB): 9.688sec] fit Y\n"
          ],
          "name": "stderr"
        },
        {
          "output_type": "stream",
          "text": [
            "fold 3: mean position error 3.434008177555299\n"
          ],
          "name": "stdout"
        },
        {
          "output_type": "stream",
          "text": [
            "[12.2GB(+0.0GB): 8.236sec] fit X\n",
            "[12.2GB(+0.0GB): 11.117sec] fit Y\n"
          ],
          "name": "stderr"
        },
        {
          "output_type": "stream",
          "text": [
            "fold 4: mean position error 3.394819824147169\n"
          ],
          "name": "stdout"
        },
        {
          "output_type": "stream",
          "text": [
            "[12.2GB(+0.0GB): 8.476sec] fit X\n",
            "[12.2GB(+0.0GB): 6.034sec] fit Y\n"
          ],
          "name": "stderr"
        },
        {
          "output_type": "stream",
          "text": [
            "fold 5: mean position error 3.441676760672642\n"
          ],
          "name": "stdout"
        },
        {
          "output_type": "stream",
          "text": [
            "[12.2GB(+0.0GB): 9.314sec] fit X\n",
            "[12.2GB(+0.0GB): 7.461sec] fit Y\n"
          ],
          "name": "stderr"
        },
        {
          "output_type": "stream",
          "text": [
            "fold 6: mean position error 3.2591385746211485\n"
          ],
          "name": "stdout"
        },
        {
          "output_type": "stream",
          "text": [
            "[12.2GB(+0.0GB): 8.661sec] fit X\n",
            "[12.2GB(+0.0GB): 7.489sec] fit Y\n"
          ],
          "name": "stderr"
        },
        {
          "output_type": "stream",
          "text": [
            "fold 7: mean position error 3.3066362527875612\n"
          ],
          "name": "stdout"
        },
        {
          "output_type": "stream",
          "text": [
            "[12.2GB(+0.0GB): 10.366sec] fit X\n",
            "[12.2GB(+0.0GB): 8.052sec] fit Y\n"
          ],
          "name": "stderr"
        },
        {
          "output_type": "stream",
          "text": [
            "fold 8: mean position error 3.252973315860061\n"
          ],
          "name": "stdout"
        },
        {
          "output_type": "stream",
          "text": [
            "[12.2GB(+0.0GB): 9.529sec] fit X\n",
            "[12.2GB(+0.0GB): 8.717sec] fit Y\n"
          ],
          "name": "stderr"
        },
        {
          "output_type": "stream",
          "text": [
            "fold 9: mean position error 3.4689712657334333\n",
            "*+*+*+*+*+*+*+*+*+*+*+*+*+*+*+*+*+*+*+*+*+*+*+*+*+*+*+*+*+*+*+*+*+*+*+*+*+*+*+*+\n",
            "file #18, shape=(9420, 1893), name=5da138764db8ce0c98bcaa46_train_with_floor.csv\n",
            "mean position error 3.364727477924828\n",
            "*+*+*+*+*+*+*+*+*+*+*+*+*+*+*+*+*+*+*+*+*+*+*+*+*+*+*+*+*+*+*+*+*+*+*+*+*+*+*+*+\n"
          ],
          "name": "stdout"
        },
        {
          "output_type": "stream",
          "text": [
            "[12.2GB(+0.0GB): 3.108sec] fit X\n",
            "[12.2GB(+0.0GB): 3.197sec] fit Y\n"
          ],
          "name": "stderr"
        },
        {
          "output_type": "stream",
          "text": [
            "fold 0: mean position error 3.1072731463335552\n"
          ],
          "name": "stdout"
        },
        {
          "output_type": "stream",
          "text": [
            "[12.2GB(+0.0GB): 2.436sec] fit X\n",
            "[12.2GB(+0.0GB): 2.848sec] fit Y\n"
          ],
          "name": "stderr"
        },
        {
          "output_type": "stream",
          "text": [
            "fold 1: mean position error 3.426548321770894\n"
          ],
          "name": "stdout"
        },
        {
          "output_type": "stream",
          "text": [
            "[12.2GB(+0.0GB): 3.842sec] fit X\n",
            "[12.2GB(+0.0GB): 4.802sec] fit Y\n"
          ],
          "name": "stderr"
        },
        {
          "output_type": "stream",
          "text": [
            "fold 2: mean position error 3.199925253540453\n"
          ],
          "name": "stdout"
        },
        {
          "output_type": "stream",
          "text": [
            "[12.2GB(+0.0GB): 2.403sec] fit X\n",
            "[12.2GB(+0.0GB): 3.196sec] fit Y\n"
          ],
          "name": "stderr"
        },
        {
          "output_type": "stream",
          "text": [
            "fold 3: mean position error 3.196291855501096\n"
          ],
          "name": "stdout"
        },
        {
          "output_type": "stream",
          "text": [
            "[12.2GB(+0.0GB): 3.076sec] fit X\n",
            "[12.2GB(+0.0GB): 2.638sec] fit Y\n"
          ],
          "name": "stderr"
        },
        {
          "output_type": "stream",
          "text": [
            "fold 4: mean position error 3.379276530736088\n"
          ],
          "name": "stdout"
        },
        {
          "output_type": "stream",
          "text": [
            "[12.2GB(+0.0GB): 3.243sec] fit X\n",
            "[12.2GB(+0.0GB): 2.960sec] fit Y\n"
          ],
          "name": "stderr"
        },
        {
          "output_type": "stream",
          "text": [
            "fold 5: mean position error 3.256214229175174\n"
          ],
          "name": "stdout"
        },
        {
          "output_type": "stream",
          "text": [
            "[12.2GB(+0.0GB): 2.573sec] fit X\n",
            "[12.2GB(+0.0GB): 3.336sec] fit Y\n"
          ],
          "name": "stderr"
        },
        {
          "output_type": "stream",
          "text": [
            "fold 6: mean position error 3.2597268965022197\n"
          ],
          "name": "stdout"
        },
        {
          "output_type": "stream",
          "text": [
            "[12.2GB(+0.0GB): 3.254sec] fit X\n",
            "[12.2GB(+0.0GB): 3.265sec] fit Y\n"
          ],
          "name": "stderr"
        },
        {
          "output_type": "stream",
          "text": [
            "fold 7: mean position error 3.317517972935044\n"
          ],
          "name": "stdout"
        },
        {
          "output_type": "stream",
          "text": [
            "[12.2GB(+0.0GB): 2.876sec] fit X\n",
            "[12.2GB(+0.0GB): 2.668sec] fit Y\n"
          ],
          "name": "stderr"
        },
        {
          "output_type": "stream",
          "text": [
            "fold 8: mean position error 3.198534710294073\n"
          ],
          "name": "stdout"
        },
        {
          "output_type": "stream",
          "text": [
            "[12.2GB(+0.0GB): 2.114sec] fit X\n",
            "[12.2GB(+0.0GB): 2.819sec] fit Y\n"
          ],
          "name": "stderr"
        },
        {
          "output_type": "stream",
          "text": [
            "fold 9: mean position error 3.22927201502292\n",
            "*+*+*+*+*+*+*+*+*+*+*+*+*+*+*+*+*+*+*+*+*+*+*+*+*+*+*+*+*+*+*+*+*+*+*+*+*+*+*+*+\n",
            "file #19, shape=(6312, 1026), name=5da1389e4db8ce0c98bd0547_train_with_floor.csv\n",
            "mean position error 3.25706121505722\n",
            "*+*+*+*+*+*+*+*+*+*+*+*+*+*+*+*+*+*+*+*+*+*+*+*+*+*+*+*+*+*+*+*+*+*+*+*+*+*+*+*+\n"
          ],
          "name": "stdout"
        },
        {
          "output_type": "stream",
          "text": [
            "[12.2GB(-0.0GB): 39.634sec] fit X\n",
            "[12.2GB(+0.0GB): 43.688sec] fit Y\n"
          ],
          "name": "stderr"
        },
        {
          "output_type": "stream",
          "text": [
            "fold 0: mean position error 3.8498684713324876\n"
          ],
          "name": "stdout"
        },
        {
          "output_type": "stream",
          "text": [
            "[12.2GB(+0.0GB): 40.597sec] fit X\n",
            "[12.2GB(+0.0GB): 41.557sec] fit Y\n"
          ],
          "name": "stderr"
        },
        {
          "output_type": "stream",
          "text": [
            "fold 1: mean position error 3.949503928832314\n"
          ],
          "name": "stdout"
        },
        {
          "output_type": "stream",
          "text": [
            "[12.2GB(+0.0GB): 45.138sec] fit X\n",
            "[12.2GB(+0.0GB): 43.965sec] fit Y\n"
          ],
          "name": "stderr"
        },
        {
          "output_type": "stream",
          "text": [
            "fold 2: mean position error 3.8532191643047202\n"
          ],
          "name": "stdout"
        },
        {
          "output_type": "stream",
          "text": [
            "[12.2GB(+0.0GB): 38.321sec] fit X\n",
            "[12.2GB(+0.0GB): 54.507sec] fit Y\n"
          ],
          "name": "stderr"
        },
        {
          "output_type": "stream",
          "text": [
            "fold 3: mean position error 3.9806191903548425\n"
          ],
          "name": "stdout"
        },
        {
          "output_type": "stream",
          "text": [
            "[12.2GB(+0.0GB): 53.183sec] fit X\n",
            "[12.2GB(+0.0GB): 49.375sec] fit Y\n"
          ],
          "name": "stderr"
        },
        {
          "output_type": "stream",
          "text": [
            "fold 4: mean position error 3.90519568701372\n"
          ],
          "name": "stdout"
        },
        {
          "output_type": "stream",
          "text": [
            "[12.2GB(+0.0GB): 49.146sec] fit X\n",
            "[12.2GB(+0.0GB): 49.111sec] fit Y\n"
          ],
          "name": "stderr"
        },
        {
          "output_type": "stream",
          "text": [
            "fold 5: mean position error 3.962571757758331\n"
          ],
          "name": "stdout"
        },
        {
          "output_type": "stream",
          "text": [
            "[12.2GB(+0.0GB): 42.127sec] fit X\n",
            "[12.2GB(+0.0GB): 54.752sec] fit Y\n"
          ],
          "name": "stderr"
        },
        {
          "output_type": "stream",
          "text": [
            "fold 6: mean position error 3.8718138297484215\n"
          ],
          "name": "stdout"
        },
        {
          "output_type": "stream",
          "text": [
            "[12.2GB(+0.0GB): 39.692sec] fit X\n",
            "[12.2GB(+0.0GB): 47.530sec] fit Y\n"
          ],
          "name": "stderr"
        },
        {
          "output_type": "stream",
          "text": [
            "fold 7: mean position error 3.9421044550593782\n"
          ],
          "name": "stdout"
        },
        {
          "output_type": "stream",
          "text": [
            "[12.2GB(+0.0GB): 52.787sec] fit X\n",
            "[12.2GB(+0.0GB): 35.665sec] fit Y\n"
          ],
          "name": "stderr"
        },
        {
          "output_type": "stream",
          "text": [
            "fold 8: mean position error 3.893070467017517\n"
          ],
          "name": "stdout"
        },
        {
          "output_type": "stream",
          "text": [
            "[12.2GB(+0.0GB): 51.589sec] fit X\n",
            "[12.2GB(+0.0GB): 54.419sec] fit Y\n"
          ],
          "name": "stderr"
        },
        {
          "output_type": "stream",
          "text": [
            "fold 9: mean position error 3.8474911586083143\n",
            "*+*+*+*+*+*+*+*+*+*+*+*+*+*+*+*+*+*+*+*+*+*+*+*+*+*+*+*+*+*+*+*+*+*+*+*+*+*+*+*+\n",
            "file #20, shape=(17382, 3540), name=5da138b74db8ce0c98bd4774_train_with_floor.csv\n",
            "mean position error 3.9055451367870426\n",
            "*+*+*+*+*+*+*+*+*+*+*+*+*+*+*+*+*+*+*+*+*+*+*+*+*+*+*+*+*+*+*+*+*+*+*+*+*+*+*+*+\n"
          ],
          "name": "stdout"
        },
        {
          "output_type": "stream",
          "text": [
            "[11.8GB(+0.0GB): 27.734sec] fit X\n",
            "[11.8GB(+0.0GB): 30.351sec] fit Y\n"
          ],
          "name": "stderr"
        },
        {
          "output_type": "stream",
          "text": [
            "fold 0: mean position error 3.092880150632296\n"
          ],
          "name": "stdout"
        },
        {
          "output_type": "stream",
          "text": [
            "[11.9GB(+0.0GB): 26.535sec] fit X\n",
            "[11.9GB(-0.0GB): 33.388sec] fit Y\n"
          ],
          "name": "stderr"
        },
        {
          "output_type": "stream",
          "text": [
            "fold 1: mean position error 3.2110749806691485\n"
          ],
          "name": "stdout"
        },
        {
          "output_type": "stream",
          "text": [
            "[11.9GB(+0.0GB): 35.885sec] fit X\n",
            "[11.9GB(+0.0GB): 42.077sec] fit Y\n"
          ],
          "name": "stderr"
        },
        {
          "output_type": "stream",
          "text": [
            "fold 2: mean position error 3.1780748595150894\n"
          ],
          "name": "stdout"
        },
        {
          "output_type": "stream",
          "text": [
            "[11.9GB(+0.0GB): 36.096sec] fit X\n",
            "[11.9GB(+0.0GB): 39.386sec] fit Y\n"
          ],
          "name": "stderr"
        },
        {
          "output_type": "stream",
          "text": [
            "fold 3: mean position error 3.0761999062167638\n"
          ],
          "name": "stdout"
        },
        {
          "output_type": "stream",
          "text": [
            "[11.9GB(+0.0GB): 36.047sec] fit X\n",
            "[11.9GB(+0.0GB): 29.610sec] fit Y\n"
          ],
          "name": "stderr"
        },
        {
          "output_type": "stream",
          "text": [
            "fold 4: mean position error 3.140649234716832\n"
          ],
          "name": "stdout"
        },
        {
          "output_type": "stream",
          "text": [
            "[11.9GB(+0.0GB): 24.660sec] fit X\n",
            "[11.9GB(+0.0GB): 39.745sec] fit Y\n"
          ],
          "name": "stderr"
        },
        {
          "output_type": "stream",
          "text": [
            "fold 5: mean position error 3.215092840535349\n"
          ],
          "name": "stdout"
        },
        {
          "output_type": "stream",
          "text": [
            "[11.9GB(+0.0GB): 31.533sec] fit X\n",
            "[11.9GB(+0.0GB): 35.441sec] fit Y\n"
          ],
          "name": "stderr"
        },
        {
          "output_type": "stream",
          "text": [
            "fold 6: mean position error 3.2201887622725955\n"
          ],
          "name": "stdout"
        },
        {
          "output_type": "stream",
          "text": [
            "[11.9GB(+0.0GB): 24.728sec] fit X\n",
            "[11.9GB(+0.0GB): 29.511sec] fit Y\n"
          ],
          "name": "stderr"
        },
        {
          "output_type": "stream",
          "text": [
            "fold 7: mean position error 3.160533832308252\n"
          ],
          "name": "stdout"
        },
        {
          "output_type": "stream",
          "text": [
            "[11.9GB(+0.0GB): 28.624sec] fit X\n",
            "[11.9GB(+0.0GB): 32.761sec] fit Y\n"
          ],
          "name": "stderr"
        },
        {
          "output_type": "stream",
          "text": [
            "fold 8: mean position error 3.1692701409172446\n"
          ],
          "name": "stdout"
        },
        {
          "output_type": "stream",
          "text": [
            "[11.9GB(+0.0GB): 31.387sec] fit X\n",
            "[11.9GB(+0.0GB): 32.479sec] fit Y\n"
          ],
          "name": "stderr"
        },
        {
          "output_type": "stream",
          "text": [
            "fold 9: mean position error 3.226921683196106\n",
            "*+*+*+*+*+*+*+*+*+*+*+*+*+*+*+*+*+*+*+*+*+*+*+*+*+*+*+*+*+*+*+*+*+*+*+*+*+*+*+*+\n",
            "file #21, shape=(15148, 3504), name=5da958dd46f8266d0737457b_train_with_floor.csv\n",
            "mean position error 3.169084809249413\n",
            "*+*+*+*+*+*+*+*+*+*+*+*+*+*+*+*+*+*+*+*+*+*+*+*+*+*+*+*+*+*+*+*+*+*+*+*+*+*+*+*+\n"
          ],
          "name": "stdout"
        },
        {
          "output_type": "stream",
          "text": [
            "[11.3GB(+0.0GB): 74.556sec] fit X\n",
            "[11.3GB(+0.0GB): 45.186sec] fit Y\n"
          ],
          "name": "stderr"
        },
        {
          "output_type": "stream",
          "text": [
            "fold 0: mean position error 4.120014350251082\n"
          ],
          "name": "stdout"
        },
        {
          "output_type": "stream",
          "text": [
            "[11.3GB(-0.1GB): 63.965sec] fit X\n",
            "[11.3GB(+0.0GB): 55.033sec] fit Y\n"
          ],
          "name": "stderr"
        },
        {
          "output_type": "stream",
          "text": [
            "fold 1: mean position error 4.182394938217004\n"
          ],
          "name": "stdout"
        },
        {
          "output_type": "stream",
          "text": [
            "[11.3GB(+0.0GB): 41.237sec] fit X\n",
            "[11.3GB(+0.0GB): 54.377sec] fit Y\n"
          ],
          "name": "stderr"
        },
        {
          "output_type": "stream",
          "text": [
            "fold 2: mean position error 4.105559899755759\n"
          ],
          "name": "stdout"
        },
        {
          "output_type": "stream",
          "text": [
            "[11.3GB(+0.0GB): 43.158sec] fit X\n",
            "[11.3GB(+0.0GB): 58.364sec] fit Y\n"
          ],
          "name": "stderr"
        },
        {
          "output_type": "stream",
          "text": [
            "fold 3: mean position error 4.00667078844457\n"
          ],
          "name": "stdout"
        },
        {
          "output_type": "stream",
          "text": [
            "[11.3GB(+0.0GB): 47.938sec] fit X\n",
            "[11.3GB(+0.0GB): 58.107sec] fit Y\n"
          ],
          "name": "stderr"
        },
        {
          "output_type": "stream",
          "text": [
            "fold 4: mean position error 4.204414555457784\n"
          ],
          "name": "stdout"
        },
        {
          "output_type": "stream",
          "text": [
            "[11.3GB(-0.0GB): 50.346sec] fit X\n",
            "[11.3GB(+0.0GB): 55.789sec] fit Y\n"
          ],
          "name": "stderr"
        },
        {
          "output_type": "stream",
          "text": [
            "fold 5: mean position error 4.014302863040529\n"
          ],
          "name": "stdout"
        },
        {
          "output_type": "stream",
          "text": [
            "[11.3GB(+0.0GB): 53.481sec] fit X\n",
            "[11.3GB(+0.0GB): 45.049sec] fit Y\n"
          ],
          "name": "stderr"
        },
        {
          "output_type": "stream",
          "text": [
            "fold 6: mean position error 4.023514645299557\n"
          ],
          "name": "stdout"
        },
        {
          "output_type": "stream",
          "text": [
            "[11.3GB(+0.0GB): 47.068sec] fit X\n",
            "[11.3GB(+0.0GB): 59.110sec] fit Y\n"
          ],
          "name": "stderr"
        },
        {
          "output_type": "stream",
          "text": [
            "fold 7: mean position error 4.111439749652014\n"
          ],
          "name": "stdout"
        },
        {
          "output_type": "stream",
          "text": [
            "[11.3GB(+0.0GB): 47.303sec] fit X\n",
            "[11.3GB(+0.0GB): 55.626sec] fit Y\n"
          ],
          "name": "stderr"
        },
        {
          "output_type": "stream",
          "text": [
            "fold 8: mean position error 4.171081907849798\n"
          ],
          "name": "stdout"
        },
        {
          "output_type": "stream",
          "text": [
            "[11.3GB(+0.0GB): 55.852sec] fit X\n",
            "[11.3GB(+0.0GB): 63.002sec] fit Y\n"
          ],
          "name": "stderr"
        },
        {
          "output_type": "stream",
          "text": [
            "fold 9: mean position error 4.250502778731878\n",
            "*+*+*+*+*+*+*+*+*+*+*+*+*+*+*+*+*+*+*+*+*+*+*+*+*+*+*+*+*+*+*+*+*+*+*+*+*+*+*+*+\n",
            "file #22, shape=(16174, 4524), name=5dbc1d84c1eb61796cf7c010_train_with_floor.csv\n",
            "mean position error 4.11898585648575\n",
            "*+*+*+*+*+*+*+*+*+*+*+*+*+*+*+*+*+*+*+*+*+*+*+*+*+*+*+*+*+*+*+*+*+*+*+*+*+*+*+*+\n"
          ],
          "name": "stdout"
        },
        {
          "output_type": "stream",
          "text": [
            "[11.7GB(+0.1GB): 46.450sec] fit X\n",
            "[11.7GB(+0.0GB): 50.920sec] fit Y\n"
          ],
          "name": "stderr"
        },
        {
          "output_type": "stream",
          "text": [
            "fold 0: mean position error 4.021120969956801\n"
          ],
          "name": "stdout"
        },
        {
          "output_type": "stream",
          "text": [
            "[11.7GB(+0.0GB): 44.149sec] fit X\n",
            "[11.7GB(+0.0GB): 33.429sec] fit Y\n"
          ],
          "name": "stderr"
        },
        {
          "output_type": "stream",
          "text": [
            "fold 1: mean position error 4.019292642356104\n"
          ],
          "name": "stdout"
        },
        {
          "output_type": "stream",
          "text": [
            "[11.7GB(+0.0GB): 36.472sec] fit X\n",
            "[11.7GB(+0.0GB): 35.163sec] fit Y\n"
          ],
          "name": "stderr"
        },
        {
          "output_type": "stream",
          "text": [
            "fold 2: mean position error 4.103898743378775\n"
          ],
          "name": "stdout"
        },
        {
          "output_type": "stream",
          "text": [
            "[11.7GB(+0.0GB): 45.569sec] fit X\n",
            "[11.7GB(+0.0GB): 39.035sec] fit Y\n"
          ],
          "name": "stderr"
        },
        {
          "output_type": "stream",
          "text": [
            "fold 3: mean position error 4.336883491099731\n"
          ],
          "name": "stdout"
        },
        {
          "output_type": "stream",
          "text": [
            "[11.7GB(+0.0GB): 40.753sec] fit X\n",
            "[11.7GB(+0.0GB): 38.802sec] fit Y\n"
          ],
          "name": "stderr"
        },
        {
          "output_type": "stream",
          "text": [
            "fold 4: mean position error 4.196392991968798\n"
          ],
          "name": "stdout"
        },
        {
          "output_type": "stream",
          "text": [
            "[11.7GB(+0.0GB): 30.967sec] fit X\n",
            "[11.7GB(+0.0GB): 46.920sec] fit Y\n"
          ],
          "name": "stderr"
        },
        {
          "output_type": "stream",
          "text": [
            "fold 5: mean position error 4.098042422123413\n"
          ],
          "name": "stdout"
        },
        {
          "output_type": "stream",
          "text": [
            "[11.7GB(+0.0GB): 45.279sec] fit X\n",
            "[11.7GB(+0.0GB): 45.259sec] fit Y\n"
          ],
          "name": "stderr"
        },
        {
          "output_type": "stream",
          "text": [
            "fold 6: mean position error 4.121988920862022\n"
          ],
          "name": "stdout"
        },
        {
          "output_type": "stream",
          "text": [
            "[11.7GB(+0.0GB): 36.488sec] fit X\n",
            "[11.7GB(+0.0GB): 36.600sec] fit Y\n"
          ],
          "name": "stderr"
        },
        {
          "output_type": "stream",
          "text": [
            "fold 7: mean position error 4.144860688081646\n"
          ],
          "name": "stdout"
        },
        {
          "output_type": "stream",
          "text": [
            "[11.7GB(+0.0GB): 54.796sec] fit X\n",
            "[11.7GB(+0.0GB): 40.596sec] fit Y\n"
          ],
          "name": "stderr"
        },
        {
          "output_type": "stream",
          "text": [
            "fold 8: mean position error 4.05567004793882\n"
          ],
          "name": "stdout"
        },
        {
          "output_type": "stream",
          "text": [
            "[11.7GB(+0.0GB): 44.525sec] fit X\n",
            "[11.7GB(+0.0GB): 49.448sec] fit Y\n"
          ],
          "name": "stderr"
        },
        {
          "output_type": "stream",
          "text": [
            "fold 9: mean position error 4.231137843350287\n",
            "*+*+*+*+*+*+*+*+*+*+*+*+*+*+*+*+*+*+*+*+*+*+*+*+*+*+*+*+*+*+*+*+*+*+*+*+*+*+*+*+\n",
            "file #23, shape=(15655, 4869), name=5dc8cea7659e181adb076a3f_train_with_floor.csv\n",
            "mean position error 4.132929702969397\n",
            "*+*+*+*+*+*+*+*+*+*+*+*+*+*+*+*+*+*+*+*+*+*+*+*+*+*+*+*+*+*+*+*+*+*+*+*+*+*+*+*+\n"
          ],
          "name": "stdout"
        }
      ]
    },
    {
      "cell_type": "code",
      "metadata": {
        "id": "fxdmRtRDdOid"
      },
      "source": [
        "all_preds = pd.concat(predictions)\n",
        "all_preds = all_preds.reindex(subm.index)"
      ],
      "execution_count": 42,
      "outputs": []
    },
    {
      "cell_type": "code",
      "metadata": {
        "colab": {
          "base_uri": "https://localhost:8080/",
          "height": 450
        },
        "id": "oopchwp2dQd4",
        "outputId": "40388efb-6f1a-4299-f988-4982ee7e663a"
      },
      "source": [
        "all_preds"
      ],
      "execution_count": 43,
      "outputs": [
        {
          "output_type": "execute_result",
          "data": {
            "text/html": [
              "<div>\n",
              "<style scoped>\n",
              "    .dataframe tbody tr th:only-of-type {\n",
              "        vertical-align: middle;\n",
              "    }\n",
              "\n",
              "    .dataframe tbody tr th {\n",
              "        vertical-align: top;\n",
              "    }\n",
              "\n",
              "    .dataframe thead th {\n",
              "        text-align: right;\n",
              "    }\n",
              "</style>\n",
              "<table border=\"1\" class=\"dataframe\">\n",
              "  <thead>\n",
              "    <tr style=\"text-align: right;\">\n",
              "      <th></th>\n",
              "      <th>floor</th>\n",
              "      <th>x</th>\n",
              "      <th>y</th>\n",
              "    </tr>\n",
              "    <tr>\n",
              "      <th>site_path_timestamp</th>\n",
              "      <th></th>\n",
              "      <th></th>\n",
              "      <th></th>\n",
              "    </tr>\n",
              "  </thead>\n",
              "  <tbody>\n",
              "    <tr>\n",
              "      <th>5a0546857ecc773753327266_046cfa46be49fc10834815c6_0000000000009</th>\n",
              "      <td>0</td>\n",
              "      <td>92.715723</td>\n",
              "      <td>99.588380</td>\n",
              "    </tr>\n",
              "    <tr>\n",
              "      <th>5a0546857ecc773753327266_046cfa46be49fc10834815c6_0000000009017</th>\n",
              "      <td>0</td>\n",
              "      <td>91.450002</td>\n",
              "      <td>103.519300</td>\n",
              "    </tr>\n",
              "    <tr>\n",
              "      <th>5a0546857ecc773753327266_046cfa46be49fc10834815c6_0000000015326</th>\n",
              "      <td>0</td>\n",
              "      <td>88.727696</td>\n",
              "      <td>105.501512</td>\n",
              "    </tr>\n",
              "    <tr>\n",
              "      <th>5a0546857ecc773753327266_046cfa46be49fc10834815c6_0000000018763</th>\n",
              "      <td>0</td>\n",
              "      <td>89.482356</td>\n",
              "      <td>106.187738</td>\n",
              "    </tr>\n",
              "    <tr>\n",
              "      <th>5a0546857ecc773753327266_046cfa46be49fc10834815c6_0000000022328</th>\n",
              "      <td>0</td>\n",
              "      <td>91.422920</td>\n",
              "      <td>109.680115</td>\n",
              "    </tr>\n",
              "    <tr>\n",
              "      <th>...</th>\n",
              "      <td>...</td>\n",
              "      <td>...</td>\n",
              "      <td>...</td>\n",
              "    </tr>\n",
              "    <tr>\n",
              "      <th>5dc8cea7659e181adb076a3f_fd64de8c4a2fc5ebb0e9f412_0000000082589</th>\n",
              "      <td>5</td>\n",
              "      <td>213.447498</td>\n",
              "      <td>94.842348</td>\n",
              "    </tr>\n",
              "    <tr>\n",
              "      <th>5dc8cea7659e181adb076a3f_fd64de8c4a2fc5ebb0e9f412_0000000085758</th>\n",
              "      <td>5</td>\n",
              "      <td>215.058525</td>\n",
              "      <td>98.456227</td>\n",
              "    </tr>\n",
              "    <tr>\n",
              "      <th>5dc8cea7659e181adb076a3f_fd64de8c4a2fc5ebb0e9f412_0000000090895</th>\n",
              "      <td>5</td>\n",
              "      <td>206.135842</td>\n",
              "      <td>107.473748</td>\n",
              "    </tr>\n",
              "    <tr>\n",
              "      <th>5dc8cea7659e181adb076a3f_fd64de8c4a2fc5ebb0e9f412_0000000096899</th>\n",
              "      <td>5</td>\n",
              "      <td>205.331268</td>\n",
              "      <td>110.286914</td>\n",
              "    </tr>\n",
              "    <tr>\n",
              "      <th>5dc8cea7659e181adb076a3f_fd64de8c4a2fc5ebb0e9f412_0000000100447</th>\n",
              "      <td>5</td>\n",
              "      <td>205.834001</td>\n",
              "      <td>109.978329</td>\n",
              "    </tr>\n",
              "  </tbody>\n",
              "</table>\n",
              "<p>10133 rows × 3 columns</p>\n",
              "</div>"
            ],
            "text/plain": [
              "                                                    floor  ...           y\n",
              "site_path_timestamp                                        ...            \n",
              "5a0546857ecc773753327266_046cfa46be49fc10834815...      0  ...   99.588380\n",
              "5a0546857ecc773753327266_046cfa46be49fc10834815...      0  ...  103.519300\n",
              "5a0546857ecc773753327266_046cfa46be49fc10834815...      0  ...  105.501512\n",
              "5a0546857ecc773753327266_046cfa46be49fc10834815...      0  ...  106.187738\n",
              "5a0546857ecc773753327266_046cfa46be49fc10834815...      0  ...  109.680115\n",
              "...                                                   ...  ...         ...\n",
              "5dc8cea7659e181adb076a3f_fd64de8c4a2fc5ebb0e9f4...      5  ...   94.842348\n",
              "5dc8cea7659e181adb076a3f_fd64de8c4a2fc5ebb0e9f4...      5  ...   98.456227\n",
              "5dc8cea7659e181adb076a3f_fd64de8c4a2fc5ebb0e9f4...      5  ...  107.473748\n",
              "5dc8cea7659e181adb076a3f_fd64de8c4a2fc5ebb0e9f4...      5  ...  110.286914\n",
              "5dc8cea7659e181adb076a3f_fd64de8c4a2fc5ebb0e9f4...      5  ...  109.978329\n",
              "\n",
              "[10133 rows x 3 columns]"
            ]
          },
          "metadata": {
            "tags": []
          },
          "execution_count": 43
        }
      ]
    },
    {
      "cell_type": "code",
      "metadata": {
        "id": "DuIro-hLyGS9"
      },
      "source": [
        "all_preds = pd.concat(predictions)\n",
        "all_preds = all_preds.reindex(subm.index)\n",
        "all_preds.to_csv('submission_lgbm_26.csv')"
      ],
      "execution_count": 44,
      "outputs": []
    },
    {
      "cell_type": "code",
      "metadata": {
        "id": "OwcjO7RAyjlL"
      },
      "source": [
        "!mv /content/submission_lgbm_26.csv /content/drive/MyDrive"
      ],
      "execution_count": 45,
      "outputs": []
    },
    {
      "cell_type": "code",
      "metadata": {
        "id": "WKx4AojKgO-a"
      },
      "source": [
        "floor = pd.read_csv('/content/drive/MyDrive/only_accurate_floor.csv')"
      ],
      "execution_count": 46,
      "outputs": []
    },
    {
      "cell_type": "code",
      "metadata": {
        "id": "NVYZsTrLgMPK"
      },
      "source": [
        "all_preds['floor'] = floor['floor'].values"
      ],
      "execution_count": 47,
      "outputs": []
    },
    {
      "cell_type": "code",
      "metadata": {
        "id": "8iObJE_ugabC"
      },
      "source": [
        "all_preds.to_csv('submission_lgbm_27.csv')"
      ],
      "execution_count": 48,
      "outputs": []
    },
    {
      "cell_type": "code",
      "metadata": {
        "id": "3bLtT9APgZsf"
      },
      "source": [
        "!mv /content/submission_lgbm_27.csv /content/drive/MyDrive"
      ],
      "execution_count": 49,
      "outputs": []
    },
    {
      "cell_type": "code",
      "metadata": {
        "id": "spMV_r8tym-p"
      },
      "source": [
        "pd."
      ],
      "execution_count": null,
      "outputs": []
    }
  ]
}