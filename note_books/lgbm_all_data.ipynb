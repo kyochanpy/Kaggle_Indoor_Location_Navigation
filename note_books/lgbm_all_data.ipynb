{
  "nbformat": 4,
  "nbformat_minor": 0,
  "metadata": {
    "colab": {
      "name": "Untitled16.ipynb のコピー",
      "provenance": [],
      "collapsed_sections": [],
      "machine_shape": "hm",
      "mount_file_id": "12dJ8cX8OcHXs8feggZ0bejs9bIh2KiE-",
      "authorship_tag": "ABX9TyNOQxnUasGKnlkE73vszMQx",
      "include_colab_link": true
    },
    "kernelspec": {
      "name": "python3",
      "display_name": "Python 3"
    },
    "language_info": {
      "name": "python"
    },
    "accelerator": "GPU"
  },
  "cells": [
    {
      "cell_type": "markdown",
      "metadata": {
        "id": "view-in-github",
        "colab_type": "text"
      },
      "source": [
        "<a href=\"https://colab.research.google.com/github/kyochanpy/Kaggle_Indoor_Location_Navigation/blob/main/note_books/lgbm_all_data.ipynb\" target=\"_parent\"><img src=\"https://colab.research.google.com/assets/colab-badge.svg\" alt=\"Open In Colab\"/></a>"
      ]
    },
    {
      "cell_type": "code",
      "metadata": {
        "id": "AqNhbLFvEUrS",
        "colab": {
          "base_uri": "https://localhost:8080/"
        },
        "outputId": "16dec6f0-7391-4c47-b01a-4cc4f02b70eb"
      },
      "source": [
        "from google.colab import drive\n",
        "drive.mount('/content/drive')"
      ],
      "execution_count": 43,
      "outputs": [
        {
          "output_type": "stream",
          "text": [
            "Drive already mounted at /content/drive; to attempt to forcibly remount, call drive.mount(\"/content/drive\", force_remount=True).\n"
          ],
          "name": "stdout"
        }
      ]
    },
    {
      "cell_type": "code",
      "metadata": {
        "id": "6SU575qxxCew"
      },
      "source": [
        "import numpy as np\n",
        "import pandas as pd\n",
        "import shutil\n",
        "import scipy.stats as stats\n",
        "from pathlib import Path\n",
        "import glob\n",
        "from tqdm import tqdm\n",
        "\n",
        "\n",
        "from sklearn.model_selection import KFold\n",
        "import lightgbm as lgb\n",
        "\n",
        "import psutil\n",
        "import random\n",
        "import os\n",
        "import time\n",
        "import sys\n",
        "import math\n",
        "from contextlib import contextmanager\n",
        "\n",
        "from sklearn.preprocessing import LabelEncoder"
      ],
      "execution_count": 23,
      "outputs": []
    },
    {
      "cell_type": "code",
      "metadata": {
        "id": "sm4BoEzDxFPe"
      },
      "source": [
        "N_SPLITS = 10\n",
        "SEED = 618\n"
      ],
      "execution_count": 2,
      "outputs": []
    },
    {
      "cell_type": "code",
      "metadata": {
        "id": "TWuzNzX5xN-s"
      },
      "source": [
        "LOG_PATH = Path(\"./log/\")\n",
        "LOG_PATH.mkdir(parents=True, exist_ok=True)\n"
      ],
      "execution_count": 3,
      "outputs": []
    },
    {
      "cell_type": "code",
      "metadata": {
        "id": "KuXjg4fnxQsS"
      },
      "source": [
        "@contextmanager\n",
        "def timer(name: str):\n",
        "    t0 = time.time()\n",
        "    p = psutil.Process(os.getpid())\n",
        "    m0 = p.memory_info()[0] / 2. ** 30\n",
        "    try:\n",
        "        yield\n",
        "    finally:\n",
        "        m1 = p.memory_info()[0] / 2. ** 30\n",
        "        delta = m1 - m0\n",
        "        sign = '+' if delta >= 0 else '-'\n",
        "        delta = math.fabs(delta)\n",
        "        print(f\"[{m1:.1f}GB({sign}{delta:.1f}GB): {time.time() - t0:.3f}sec] {name}\", file=sys.stderr)\n"
      ],
      "execution_count": 4,
      "outputs": []
    },
    {
      "cell_type": "code",
      "metadata": {
        "id": "t-WJLWe9xUWC"
      },
      "source": [
        "def set_seed(seed=527):\n",
        "    random.seed(seed)\n",
        "    os.environ[\"PYTHONHASHSEED\"] = str(seed)\n",
        "    np.random.seed(seed)\n",
        "\n",
        "    \n",
        "def comp_metric(xhat, yhat, x, y):\n",
        "    intermediate = np.sqrt(np.power(xhat-x, 2) + np.power(yhat-y, 2))\n",
        "    return intermediate.sum()/xhat.shape[0]\n",
        "\n",
        "\n",
        "def score_log(df: pd.DataFrame, num_files: int, nam_file: str, data_shape: tuple, n_fold: int, seed: int, mpe: float):\n",
        "    score_dict = {'n_files': num_files, 'file_name': nam_file, 'shape': data_shape, 'fold': n_fold, 'seed': seed, 'score': mpe}\n",
        "    # noinspection PyTypeChecker\n",
        "    df = pd.concat([df, pd.DataFrame.from_dict([score_dict])])\n",
        "    df.to_csv(LOG_PATH / f\"log_score.csv\", index=False)\n",
        "    return df"
      ],
      "execution_count": 5,
      "outputs": []
    },
    {
      "cell_type": "markdown",
      "metadata": {
        "id": "ywyGCcv_XcN0"
      },
      "source": [
        "# **特徴量関数**"
      ]
    },
    {
      "cell_type": "code",
      "metadata": {
        "id": "i7zRO5WwXbX7"
      },
      "source": [
        "#train用\n",
        "\n",
        "def get_numerical_features_train(input_df):\n",
        "    input_df_ = input_df['path']\n",
        "    output_df = input_df.drop(['Unnamed: 0.1', 'Unnamed: 0.1.1',\n",
        "                               'beacon_timestamp', 'beacon_uuid', 'beacon_major_id', 'beacon_minor_id', 'beacon_mac_addr', 'beacon_timestamp2',\n",
        "                               'accelerometer_timestamp', 'accelerometer_uncalibrated_timestamp', 'gyroscope_timestamp', 'gyroscope_uncalibrated_timestamp',\n",
        "                               'magnetic_field_timestamp', 'magnetic_field_uncalibrated_timestamp', 'rotation_vector_timestamp', 'timestamp', 'path'], axis=1)\n",
        "    output_df['path'] = input_df_\n",
        "    return output_df\n",
        "\n",
        "\n",
        "def get_sum_sensor_features(input_df):\n",
        "    output_df = pd.DataFrame()\n",
        "    output_df['sum_sensor_x'] = input_df['accelerometer_x'] + input_df['accelerometer_uncalibrated_x'] + input_df['accelerometer_uncalibrated_x2'] + input_df['gyroscope_x'] + input_df['gyroscope_uncalibrated_x'] + input_df['accelerometer_uncalibrated_x'] + input_df['gyroscope_uncalibrated_x2'] + input_df['magnetic_field_x'] + input_df['magnetic_field_uncalibrated_x'] + input_df['magnetic_field_uncalibrated_x2'] + input_df['rotation_vector_x']\n",
        "    output_df['sum_sensor_y'] = input_df['accelerometer_y'] + input_df['accelerometer_uncalibrated_y'] + input_df['accelerometer_uncalibrated_y2'] + input_df['gyroscope_y'] + input_df['gyroscope_uncalibrated_y'] + input_df['accelerometer_uncalibrated_y'] + input_df['gyroscope_uncalibrated_y2'] + input_df['magnetic_field_y'] + input_df['magnetic_field_uncalibrated_y'] + input_df['magnetic_field_uncalibrated_y2'] + input_df['rotation_vector_y']\n",
        "    output_df['sum_sensor_z'] = input_df['accelerometer_x'] + input_df['accelerometer_uncalibrated_x'] + input_df['accelerometer_uncalibrated_x2'] + input_df['gyroscope_z'] + input_df['gyroscope_uncalibrated_z'] + input_df['accelerometer_uncalibrated_z'] + input_df['gyroscope_uncalibrated_z2'] + input_df['magnetic_field_z'] + input_df['magnetic_field_uncalibrated_z'] + input_df['magnetic_field_uncalibrated_z2'] + input_df['rotation_vector_z']\n",
        "    return output_df\n",
        "\n",
        "\n",
        "def get_le_features(input_df):\n",
        "    _input_df = input_df.astype(str)\n",
        "    cat_cols = ['beacon_uuid', 'beacon_major_id', 'beacon_minor_id', 'beacon_mac_addr']\n",
        "    output_df = pd.DataFrame()\n",
        "    for c in cat_cols:\n",
        "        le = LabelEncoder()\n",
        "        le.fit(_input_df[c])\n",
        "        output_df[\"LE_\"+c] = le.transform(_input_df[c])\n",
        "    return output_df\n",
        "\n",
        "\n",
        "\n"
      ],
      "execution_count": 64,
      "outputs": []
    },
    {
      "cell_type": "code",
      "metadata": {
        "id": "b74mypZBvNt1"
      },
      "source": [
        "#test用\n",
        "def get_numerical_features_test(input_df):\n",
        "    input_df_ = input_df['site_path_timestamp']\n",
        "    output_df = input_df.drop(['Unnamed: 0.1', 'Unnamed: 0.1.1',\n",
        "                               'beacon_timestamp', 'beacon_uuid', 'beacon_major_id', 'beacon_minor_id', 'beacon_mac_addr', 'beacon_timestamp2',\n",
        "                               'accelerometer_timestamp', 'accelerometer_uncalibrated_timestamp', 'gyroscope_timestamp', 'gyroscope_uncalibrated_timestamp',\n",
        "                               'magnetic_field_timestamp', 'magnetic_field_uncalibrated_timestamp', 'rotation_vector_timestamp', 'timestamp','site_path_timestamp'\n",
        "                               ], axis=1)\n",
        "    output_df['site_path_timestamp'] = input_df_\n",
        "    return output_df\n"
      ],
      "execution_count": 78,
      "outputs": []
    },
    {
      "cell_type": "code",
      "metadata": {
        "id": "8XjJJZc_spcL"
      },
      "source": [
        "def get_process_funcs_train():\n",
        "    funcs = [\n",
        "        get_sum_sensor_features,\n",
        "        get_le_features,\n",
        "        get_numerical_features_train\n",
        "    ]\n",
        "    return funcs\n",
        "\n",
        "def get_process_funcs_test():\n",
        "    funcs = [\n",
        "        get_sum_sensor_features,\n",
        "        get_le_features,\n",
        "        get_numerical_features_test\n",
        "    ]\n",
        "    return funcs\n",
        "\n",
        "def to_feature(input_df, funcs):\n",
        "    output_df = pd.DataFrame()\n",
        "    for func in tqdm(funcs, total=len(funcs)):\n",
        "        _df = func(input_df)\n",
        "        assert len(_df) == len(input_df), func.__name__\n",
        "        output_df = pd.concat([output_df, _df], axis=1)\n",
        "\n",
        "    return output_df"
      ],
      "execution_count": 79,
      "outputs": []
    },
    {
      "cell_type": "code",
      "metadata": {
        "id": "63hV5hB1xaad"
      },
      "source": [
        "feature_dir = \"/content/drive/MyDrive/all_data_floor\"\n",
        "train_files = sorted(glob.glob(os.path.join(f'{feature_dir}','*_train.csv')))\n",
        "test_files = sorted(glob.glob(os.path.join(f'{feature_dir}','*_test.csv')))\n",
        "subm = pd.read_csv('/content/drive/MyDrive/sample_submission.csv', index_col=0)\n",
        "floor_accurate = pd.read_csv('/content/drive/MyDrive/submission_floor_accurate.csv').drop(['x', 'y'], axis=1)"
      ],
      "execution_count": 80,
      "outputs": []
    },
    {
      "cell_type": "code",
      "metadata": {
        "id": "VrCKhgNdxxc4"
      },
      "source": [
        "lgb_params = {'objective': 'root_mean_squared_error',\n",
        "              'boosting_type': 'gbdt',\n",
        "              'n_estimators': 50000,\n",
        "              'learning_rate': 0.1,\n",
        "              'num_leaves': 90,\n",
        "              'colsample_bytree': 0.4,\n",
        "              'subsample': 0.6,\n",
        "              'subsample_freq': 2,\n",
        "              'bagging_seed': SEED,\n",
        "              'reg_alpha': 8,\n",
        "              'reg_lambda': 2,\n",
        "              'random_state': SEED,\n",
        "              'n_jobs': -1\n",
        "              }"
      ],
      "execution_count": 81,
      "outputs": []
    },
    {
      "cell_type": "code",
      "metadata": {
        "id": "4ZOk9Sagx1Do",
        "colab": {
          "base_uri": "https://localhost:8080/"
        },
        "outputId": "5df5aa55-86f2-4bf8-9e2f-a16104e17e5f"
      },
      "source": [
        "score_df = pd.DataFrame()\n",
        "oof = list()\n",
        "predictions = list()\n",
        "for n_files, file in enumerate(train_files):\n",
        "    data = pd.read_csv(file, index_col=0).fillna(0)\n",
        "    test_data = pd.read_csv(test_files[n_files], index_col=0).fillna(0)\n",
        "\n",
        "    # all featrues\n",
        "    process_funcs_train = get_process_funcs_train()\n",
        "    process_funcs_test = get_process_funcs_test()\n",
        "    data = to_feature(data, process_funcs_train).rename(columns={'f': 'floor'})\n",
        "    test_data = to_feature(test_data, process_funcs_test)\n",
        "\n",
        "    print(data.shape)\n",
        "    print(test_data.shape)\n",
        "\n",
        "    oof_x, oof_y = np.zeros(data.shape[0]), np.zeros(data.shape[0])\n",
        "    preds_x, preds_y = 0, 0\n",
        "\n",
        "    kf = KFold(n_splits=N_SPLITS, shuffle=True, random_state=SEED)\n",
        "    for fold, (trn_idx, val_idx) in enumerate(kf.split(data.iloc[:, :-3])):\n",
        "        X_train = data.iloc[trn_idx, :-3]\n",
        "        y_trainx = data.iloc[trn_idx, -3]\n",
        "        y_trainy = data.iloc[trn_idx, -2]\n",
        "\n",
        "        X_valid = data.iloc[val_idx, :-3]\n",
        "        y_validx = data.iloc[val_idx, -3]\n",
        "        y_validy = data.iloc[val_idx, -2]\n",
        "        \n",
        "        modelx = lgb.LGBMRegressor(**lgb_params)\n",
        "        with timer(\"fit X\"):\n",
        "            modelx.fit(X_train, y_trainx,\n",
        "                       eval_set=[(X_valid, y_validx)],\n",
        "                       eval_metric='rmse',\n",
        "                       verbose=False,\n",
        "                       early_stopping_rounds=20\n",
        "                       )\n",
        "\n",
        "        modely = lgb.LGBMRegressor(**lgb_params)\n",
        "        with timer(\"fit Y\"):\n",
        "            modely.fit(X_train, y_trainy,\n",
        "                       eval_set=[(X_valid, y_validy)],\n",
        "                       eval_metric='rmse',\n",
        "                       verbose=False,\n",
        "                       early_stopping_rounds=20\n",
        "                       )\n",
        "            \n",
        "        oof_x[val_idx] = modelx.predict(X_valid)\n",
        "        oof_y[val_idx] = modely.predict(X_valid)\n",
        "\n",
        "        preds_x += modelx.predict(test_data.iloc[:, :-1]) / N_SPLITS\n",
        "        preds_y += modely.predict(test_data.iloc[:, :-1]) / N_SPLITS\n",
        "\n",
        "        score = comp_metric(oof_x[val_idx], oof_y[val_idx], y_validx.to_numpy(), y_validy.to_numpy())\n",
        "        print(f\"fold {fold}: mean position error {score}\")\n",
        "        score_df = score_log(score_df, n_files, os.path.basename(file), data.shape, fold, SEED, score)\n",
        "\n",
        "    print(\"*+\"*40)\n",
        "    print(f\"file #{n_files}, shape={data.shape}, name={os.path.basename(file)}\")\n",
        "    score = comp_metric(oof_x, oof_y, data.iloc[:, -3].to_numpy(), data.iloc[:, -2].to_numpy())\n",
        "    oof.append(score)\n",
        "    print(f\"mean position error {score}\")\n",
        "    print(\"*+\"*40)\n",
        "    score_df = score_log(score_df, n_files, os.path.basename(file), data.shape, 999, SEED, score)\n",
        "\n",
        "\n",
        "    test_preds = pd.DataFrame()\n",
        "    test_preds['floor'] = test_data['floor'].values\n",
        "    test_preds['x'] = pd.DataFrame(preds_x).T\n",
        "    test_preds['y'] = pd.DataFrame(preds_y).T\n",
        "    test_preds.columns = subm.columns\n",
        "    test_preds.index = test_data[\"site_path_timestamp\"]\n",
        "    predictions.append(test_preds)"
      ],
      "execution_count": 84,
      "outputs": [
        {
          "output_type": "stream",
          "text": [
            "/usr/local/lib/python3.7/dist-packages/IPython/core/interactiveshell.py:2718: DtypeWarning: Columns (3402,3403,3404,3408) have mixed types.Specify dtype option on import or set low_memory=False.\n",
            "  interactivity=interactivity, compiler=compiler, result=result)\n",
            "\n",
            "\n",
            "\n",
            "\n",
            "  0%|          | 0/3 [00:00<?, ?it/s]\u001b[A\u001b[A\u001b[A\u001b[A\n",
            "\n",
            "\n",
            "\n",
            " 67%|██████▋   | 2/3 [00:20<00:10, 10.49s/it]\u001b[A\u001b[A\u001b[A\u001b[A\n",
            "\n",
            "\n",
            "\n",
            "100%|██████████| 3/3 [00:21<00:00,  7.04s/it]\n",
            "\n",
            "\n",
            "\n",
            "\n",
            "  0%|          | 0/3 [00:00<?, ?it/s]\u001b[A\u001b[A\u001b[A\u001b[A\n",
            "\n",
            "\n",
            "\n",
            "100%|██████████| 3/3 [00:00<00:00,  4.23it/s]\n"
          ],
          "name": "stderr"
        },
        {
          "output_type": "stream",
          "text": [
            "(9296, 3441)\n",
            "(299, 3439)\n"
          ],
          "name": "stdout"
        },
        {
          "output_type": "stream",
          "text": [
            "[5.3GB(-0.0GB): 24.034sec] fit X\n",
            "[5.3GB(+0.0GB): 21.220sec] fit Y\n"
          ],
          "name": "stderr"
        },
        {
          "output_type": "stream",
          "text": [
            "fold 0: mean position error 2.6808782826916806\n"
          ],
          "name": "stdout"
        },
        {
          "output_type": "stream",
          "text": [
            "[5.3GB(+0.0GB): 12.839sec] fit X\n",
            "[5.3GB(+0.0GB): 24.046sec] fit Y\n"
          ],
          "name": "stderr"
        },
        {
          "output_type": "stream",
          "text": [
            "fold 1: mean position error 2.8065982258268773\n"
          ],
          "name": "stdout"
        },
        {
          "output_type": "stream",
          "text": [
            "[5.3GB(+0.0GB): 22.645sec] fit X\n",
            "[5.3GB(+0.0GB): 14.467sec] fit Y\n"
          ],
          "name": "stderr"
        },
        {
          "output_type": "stream",
          "text": [
            "fold 2: mean position error 2.7273583189158246\n"
          ],
          "name": "stdout"
        },
        {
          "output_type": "stream",
          "text": [
            "[5.3GB(+0.0GB): 16.980sec] fit X\n",
            "[5.3GB(+0.0GB): 18.043sec] fit Y\n"
          ],
          "name": "stderr"
        },
        {
          "output_type": "stream",
          "text": [
            "fold 3: mean position error 2.717182021039158\n"
          ],
          "name": "stdout"
        },
        {
          "output_type": "stream",
          "text": [
            "[5.3GB(+0.0GB): 24.698sec] fit X\n",
            "[5.3GB(+0.0GB): 31.229sec] fit Y\n"
          ],
          "name": "stderr"
        },
        {
          "output_type": "stream",
          "text": [
            "fold 4: mean position error 2.7393012676629933\n"
          ],
          "name": "stdout"
        },
        {
          "output_type": "stream",
          "text": [
            "[5.3GB(+0.0GB): 21.225sec] fit X\n",
            "[5.3GB(+0.0GB): 19.003sec] fit Y\n"
          ],
          "name": "stderr"
        },
        {
          "output_type": "stream",
          "text": [
            "fold 5: mean position error 2.9347722049814404\n"
          ],
          "name": "stdout"
        },
        {
          "output_type": "stream",
          "text": [
            "[5.3GB(+0.0GB): 23.274sec] fit X\n",
            "[5.3GB(+0.0GB): 22.910sec] fit Y\n"
          ],
          "name": "stderr"
        },
        {
          "output_type": "stream",
          "text": [
            "fold 6: mean position error 2.896246080354922\n"
          ],
          "name": "stdout"
        },
        {
          "output_type": "stream",
          "text": [
            "[5.3GB(+0.0GB): 21.297sec] fit X\n",
            "[5.3GB(+0.0GB): 18.652sec] fit Y\n"
          ],
          "name": "stderr"
        },
        {
          "output_type": "stream",
          "text": [
            "fold 7: mean position error 2.719976248799876\n"
          ],
          "name": "stdout"
        },
        {
          "output_type": "stream",
          "text": [
            "[5.3GB(+0.0GB): 23.736sec] fit X\n",
            "[5.3GB(+0.0GB): 23.745sec] fit Y\n"
          ],
          "name": "stderr"
        },
        {
          "output_type": "stream",
          "text": [
            "fold 8: mean position error 2.683239208639185\n"
          ],
          "name": "stdout"
        },
        {
          "output_type": "stream",
          "text": [
            "[5.3GB(+0.0GB): 22.204sec] fit X\n",
            "[5.3GB(+0.0GB): 24.657sec] fit Y\n"
          ],
          "name": "stderr"
        },
        {
          "output_type": "stream",
          "text": [
            "fold 9: mean position error 2.9455126775908016\n",
            "*+*+*+*+*+*+*+*+*+*+*+*+*+*+*+*+*+*+*+*+*+*+*+*+*+*+*+*+*+*+*+*+*+*+*+*+*+*+*+*+\n",
            "file #0, shape=(9296, 3441), name=5a0546857ecc773753327266_train.csv\n",
            "mean position error 2.7850952070495034\n",
            "*+*+*+*+*+*+*+*+*+*+*+*+*+*+*+*+*+*+*+*+*+*+*+*+*+*+*+*+*+*+*+*+*+*+*+*+*+*+*+*+\n"
          ],
          "name": "stdout"
        },
        {
          "output_type": "stream",
          "text": [
            "/usr/local/lib/python3.7/dist-packages/IPython/core/interactiveshell.py:2718: DtypeWarning: Columns (3068,3069,3070,3074) have mixed types.Specify dtype option on import or set low_memory=False.\n",
            "  interactivity=interactivity, compiler=compiler, result=result)\n",
            "\n",
            "\n",
            "\n",
            "\n",
            "  0%|          | 0/3 [00:00<?, ?it/s]\u001b[A\u001b[A\u001b[A\u001b[A\n",
            "\n",
            "\n",
            "\n",
            " 67%|██████▋   | 2/3 [00:20<00:10, 10.17s/it]\u001b[A\u001b[A\u001b[A\u001b[A\n",
            "\n",
            "\n",
            "\n",
            "100%|██████████| 3/3 [00:20<00:00,  6.94s/it]\n",
            "\n",
            "\n",
            "\n",
            "\n",
            "100%|██████████| 3/3 [00:00<00:00, 44.25it/s]\n"
          ],
          "name": "stderr"
        },
        {
          "output_type": "stream",
          "text": [
            "(9737, 3107)\n",
            "(26, 3105)\n"
          ],
          "name": "stdout"
        },
        {
          "output_type": "stream",
          "text": [
            "[5.3GB(+0.0GB): 23.727sec] fit X\n",
            "[5.3GB(+0.0GB): 24.380sec] fit Y\n"
          ],
          "name": "stderr"
        },
        {
          "output_type": "stream",
          "text": [
            "fold 0: mean position error 3.16207937362946\n"
          ],
          "name": "stdout"
        },
        {
          "output_type": "stream",
          "text": [
            "[5.3GB(+0.0GB): 25.742sec] fit X\n",
            "[5.3GB(+0.0GB): 22.840sec] fit Y\n"
          ],
          "name": "stderr"
        },
        {
          "output_type": "stream",
          "text": [
            "fold 1: mean position error 3.192794040966972\n"
          ],
          "name": "stdout"
        },
        {
          "output_type": "stream",
          "text": [
            "[5.3GB(+0.0GB): 24.473sec] fit X\n",
            "[5.3GB(+0.0GB): 17.702sec] fit Y\n"
          ],
          "name": "stderr"
        },
        {
          "output_type": "stream",
          "text": [
            "fold 2: mean position error 3.2603756790691127\n"
          ],
          "name": "stdout"
        },
        {
          "output_type": "stream",
          "text": [
            "[5.3GB(+0.0GB): 24.328sec] fit X\n",
            "[5.3GB(+0.0GB): 27.179sec] fit Y\n"
          ],
          "name": "stderr"
        },
        {
          "output_type": "stream",
          "text": [
            "fold 3: mean position error 3.258787907284872\n"
          ],
          "name": "stdout"
        },
        {
          "output_type": "stream",
          "text": [
            "[5.3GB(+0.0GB): 27.779sec] fit X\n",
            "[5.3GB(+0.0GB): 25.326sec] fit Y\n"
          ],
          "name": "stderr"
        },
        {
          "output_type": "stream",
          "text": [
            "fold 4: mean position error 3.1164962516148162\n"
          ],
          "name": "stdout"
        },
        {
          "output_type": "stream",
          "text": [
            "[5.3GB(+0.0GB): 19.478sec] fit X\n",
            "[5.3GB(+0.0GB): 25.486sec] fit Y\n"
          ],
          "name": "stderr"
        },
        {
          "output_type": "stream",
          "text": [
            "fold 5: mean position error 3.180009139464983\n"
          ],
          "name": "stdout"
        },
        {
          "output_type": "stream",
          "text": [
            "[5.3GB(+0.0GB): 24.831sec] fit X\n",
            "[5.3GB(+0.0GB): 28.619sec] fit Y\n"
          ],
          "name": "stderr"
        },
        {
          "output_type": "stream",
          "text": [
            "fold 6: mean position error 3.0938027786284503\n"
          ],
          "name": "stdout"
        },
        {
          "output_type": "stream",
          "text": [
            "[5.3GB(+0.0GB): 20.183sec] fit X\n",
            "[5.3GB(+0.0GB): 17.801sec] fit Y\n"
          ],
          "name": "stderr"
        },
        {
          "output_type": "stream",
          "text": [
            "fold 7: mean position error 3.2832755013733714\n"
          ],
          "name": "stdout"
        },
        {
          "output_type": "stream",
          "text": [
            "[5.3GB(+0.0GB): 28.174sec] fit X\n",
            "[5.3GB(+0.0GB): 25.051sec] fit Y\n"
          ],
          "name": "stderr"
        },
        {
          "output_type": "stream",
          "text": [
            "fold 8: mean position error 3.273274199219236\n"
          ],
          "name": "stdout"
        },
        {
          "output_type": "stream",
          "text": [
            "[5.3GB(+0.0GB): 25.683sec] fit X\n",
            "[5.3GB(+0.0GB): 25.315sec] fit Y\n"
          ],
          "name": "stderr"
        },
        {
          "output_type": "stream",
          "text": [
            "fold 9: mean position error 3.1493415439590713\n",
            "*+*+*+*+*+*+*+*+*+*+*+*+*+*+*+*+*+*+*+*+*+*+*+*+*+*+*+*+*+*+*+*+*+*+*+*+*+*+*+*+\n",
            "file #1, shape=(9737, 3107), name=5c3c44b80379370013e0fd2b_train.csv\n",
            "mean position error 3.197011849355071\n",
            "*+*+*+*+*+*+*+*+*+*+*+*+*+*+*+*+*+*+*+*+*+*+*+*+*+*+*+*+*+*+*+*+*+*+*+*+*+*+*+*+\n"
          ],
          "name": "stdout"
        },
        {
          "output_type": "stream",
          "text": [
            "/usr/local/lib/python3.7/dist-packages/IPython/core/interactiveshell.py:2718: DtypeWarning: Columns (7034,7035,7036,7040) have mixed types.Specify dtype option on import or set low_memory=False.\n",
            "  interactivity=interactivity, compiler=compiler, result=result)\n",
            "\n",
            "\n",
            "\n",
            "\n",
            "  0%|          | 0/3 [00:00<?, ?it/s]\u001b[A\u001b[A\u001b[A\u001b[A\n",
            "\n",
            "\n",
            "\n",
            " 67%|██████▋   | 2/3 [01:51<00:55, 55.92s/it]\u001b[A\u001b[A\u001b[A\u001b[A\n",
            "\n",
            "\n",
            "\n",
            "100%|██████████| 3/3 [01:52<00:00, 37.51s/it]\n",
            "\n",
            "\n",
            "\n",
            "\n",
            "  0%|          | 0/3 [00:00<?, ?it/s]\u001b[A\u001b[A\u001b[A\u001b[A\n",
            "\n",
            "\n",
            "\n",
            "100%|██████████| 3/3 [00:00<00:00, 12.42it/s]\n"
          ],
          "name": "stderr"
        },
        {
          "output_type": "stream",
          "text": [
            "(23666, 7073)\n",
            "(47, 7071)\n"
          ],
          "name": "stdout"
        },
        {
          "output_type": "stream",
          "text": [
            "[12.5GB(+2.2GB): 130.267sec] fit X\n",
            "[12.5GB(+0.0GB): 169.421sec] fit Y\n"
          ],
          "name": "stderr"
        },
        {
          "output_type": "stream",
          "text": [
            "fold 0: mean position error 3.016928267569628\n"
          ],
          "name": "stdout"
        },
        {
          "output_type": "stream",
          "text": [
            "[13.7GB(+1.1GB): 144.129sec] fit X\n",
            "[13.7GB(+0.0GB): 183.197sec] fit Y\n"
          ],
          "name": "stderr"
        },
        {
          "output_type": "stream",
          "text": [
            "fold 1: mean position error 2.97165204683792\n"
          ],
          "name": "stdout"
        },
        {
          "output_type": "stream",
          "text": [
            "[13.6GB(-0.0GB): 143.029sec] fit X\n",
            "[13.6GB(+0.0GB): 156.764sec] fit Y\n"
          ],
          "name": "stderr"
        },
        {
          "output_type": "stream",
          "text": [
            "fold 2: mean position error 2.8166908850245576\n"
          ],
          "name": "stdout"
        },
        {
          "output_type": "stream",
          "text": [
            "[13.6GB(+0.0GB): 154.513sec] fit X\n",
            "[13.6GB(+0.0GB): 189.175sec] fit Y\n"
          ],
          "name": "stderr"
        },
        {
          "output_type": "stream",
          "text": [
            "fold 3: mean position error 2.837932879359006\n"
          ],
          "name": "stdout"
        },
        {
          "output_type": "stream",
          "text": [
            "[13.6GB(+0.0GB): 102.096sec] fit X\n",
            "[13.6GB(+0.0GB): 147.345sec] fit Y\n"
          ],
          "name": "stderr"
        },
        {
          "output_type": "stream",
          "text": [
            "fold 4: mean position error 2.8377682868504324\n"
          ],
          "name": "stdout"
        },
        {
          "output_type": "stream",
          "text": [
            "[13.6GB(-0.0GB): 158.324sec] fit X\n",
            "[13.6GB(+0.0GB): 151.911sec] fit Y\n"
          ],
          "name": "stderr"
        },
        {
          "output_type": "stream",
          "text": [
            "fold 5: mean position error 2.894270855257496\n"
          ],
          "name": "stdout"
        },
        {
          "output_type": "stream",
          "text": [
            "[13.6GB(+0.0GB): 100.894sec] fit X\n",
            "[13.6GB(+0.0GB): 152.161sec] fit Y\n"
          ],
          "name": "stderr"
        },
        {
          "output_type": "stream",
          "text": [
            "fold 6: mean position error 2.9476499497835356\n"
          ],
          "name": "stdout"
        },
        {
          "output_type": "stream",
          "text": [
            "[13.6GB(+0.0GB): 175.527sec] fit X\n",
            "[13.6GB(+0.0GB): 169.899sec] fit Y\n"
          ],
          "name": "stderr"
        },
        {
          "output_type": "stream",
          "text": [
            "fold 7: mean position error 2.827425365883114\n"
          ],
          "name": "stdout"
        },
        {
          "output_type": "stream",
          "text": [
            "[13.6GB(+0.0GB): 151.043sec] fit X\n",
            "[13.6GB(+0.0GB): 179.593sec] fit Y\n"
          ],
          "name": "stderr"
        },
        {
          "output_type": "stream",
          "text": [
            "fold 8: mean position error 2.9897887294962753\n"
          ],
          "name": "stdout"
        },
        {
          "output_type": "stream",
          "text": [
            "[13.6GB(+0.0GB): 157.548sec] fit X\n",
            "[13.6GB(+0.0GB): 148.088sec] fit Y\n"
          ],
          "name": "stderr"
        },
        {
          "output_type": "stream",
          "text": [
            "fold 9: mean position error 2.8627732894043927\n",
            "*+*+*+*+*+*+*+*+*+*+*+*+*+*+*+*+*+*+*+*+*+*+*+*+*+*+*+*+*+*+*+*+*+*+*+*+*+*+*+*+\n",
            "file #2, shape=(23666, 7073), name=5d27075f03f801723c2e360f_train.csv\n",
            "mean position error 2.900286936425856\n",
            "*+*+*+*+*+*+*+*+*+*+*+*+*+*+*+*+*+*+*+*+*+*+*+*+*+*+*+*+*+*+*+*+*+*+*+*+*+*+*+*+\n"
          ],
          "name": "stdout"
        },
        {
          "output_type": "stream",
          "text": [
            "/usr/local/lib/python3.7/dist-packages/IPython/core/interactiveshell.py:2718: DtypeWarning: Columns (4969,4970,4971,4975) have mixed types.Specify dtype option on import or set low_memory=False.\n",
            "  interactivity=interactivity, compiler=compiler, result=result)\n",
            "\n",
            "\n",
            "\n",
            "\n",
            "  0%|          | 0/3 [00:00<?, ?it/s]\u001b[A\u001b[A\u001b[A\u001b[A\n",
            "\n",
            "\n",
            "\n",
            " 67%|██████▋   | 2/3 [00:30<00:15, 15.03s/it]\u001b[A\u001b[A\u001b[A\u001b[A\n",
            "\n",
            "\n",
            "\n",
            "100%|██████████| 3/3 [00:30<00:00, 10.10s/it]\n",
            "\n",
            "\n",
            "\n",
            "\n",
            "  0%|          | 0/3 [00:00<?, ?it/s]\u001b[A\u001b[A\u001b[A\u001b[A\n",
            "\n",
            "\n",
            "\n",
            "100%|██████████| 3/3 [00:02<00:00,  1.36it/s]\n"
          ],
          "name": "stderr"
        },
        {
          "output_type": "stream",
          "text": [
            "(9100, 5008)\n",
            "(654, 5006)\n"
          ],
          "name": "stdout"
        },
        {
          "output_type": "stream",
          "text": [
            "[13.6GB(-0.0GB): 10.373sec] fit X\n",
            "[13.6GB(+0.0GB): 11.248sec] fit Y\n"
          ],
          "name": "stderr"
        },
        {
          "output_type": "stream",
          "text": [
            "fold 0: mean position error 1.758015565528414\n"
          ],
          "name": "stdout"
        },
        {
          "output_type": "stream",
          "text": [
            "[13.6GB(+0.0GB): 11.863sec] fit X\n",
            "[13.6GB(+0.0GB): 11.891sec] fit Y\n"
          ],
          "name": "stderr"
        },
        {
          "output_type": "stream",
          "text": [
            "fold 1: mean position error 1.7206427561196567\n"
          ],
          "name": "stdout"
        },
        {
          "output_type": "stream",
          "text": [
            "[13.6GB(-0.0GB): 14.239sec] fit X\n",
            "[13.6GB(+0.0GB): 13.513sec] fit Y\n"
          ],
          "name": "stderr"
        },
        {
          "output_type": "stream",
          "text": [
            "fold 2: mean position error 1.7422418580158379\n"
          ],
          "name": "stdout"
        },
        {
          "output_type": "stream",
          "text": [
            "[13.6GB(+0.0GB): 10.008sec] fit X\n",
            "[13.6GB(+0.0GB): 11.452sec] fit Y\n"
          ],
          "name": "stderr"
        },
        {
          "output_type": "stream",
          "text": [
            "fold 3: mean position error 1.8528215088560736\n"
          ],
          "name": "stdout"
        },
        {
          "output_type": "stream",
          "text": [
            "[13.6GB(-0.0GB): 12.163sec] fit X\n",
            "[13.6GB(+0.0GB): 12.900sec] fit Y\n"
          ],
          "name": "stderr"
        },
        {
          "output_type": "stream",
          "text": [
            "fold 4: mean position error 1.7223867668603665\n"
          ],
          "name": "stdout"
        },
        {
          "output_type": "stream",
          "text": [
            "[13.6GB(+0.0GB): 9.194sec] fit X\n",
            "[13.6GB(+0.0GB): 9.209sec] fit Y\n"
          ],
          "name": "stderr"
        },
        {
          "output_type": "stream",
          "text": [
            "fold 5: mean position error 1.8779100310997763\n"
          ],
          "name": "stdout"
        },
        {
          "output_type": "stream",
          "text": [
            "[13.6GB(+0.0GB): 12.609sec] fit X\n",
            "[13.6GB(+0.0GB): 15.489sec] fit Y\n"
          ],
          "name": "stderr"
        },
        {
          "output_type": "stream",
          "text": [
            "fold 6: mean position error 1.7073253359355491\n"
          ],
          "name": "stdout"
        },
        {
          "output_type": "stream",
          "text": [
            "[13.6GB(+0.0GB): 11.896sec] fit X\n",
            "[13.6GB(+0.0GB): 11.583sec] fit Y\n"
          ],
          "name": "stderr"
        },
        {
          "output_type": "stream",
          "text": [
            "fold 7: mean position error 1.7819976505095783\n"
          ],
          "name": "stdout"
        },
        {
          "output_type": "stream",
          "text": [
            "[13.6GB(+0.0GB): 10.832sec] fit X\n",
            "[13.6GB(+0.0GB): 9.734sec] fit Y\n"
          ],
          "name": "stderr"
        },
        {
          "output_type": "stream",
          "text": [
            "fold 8: mean position error 1.8164150568859516\n"
          ],
          "name": "stdout"
        },
        {
          "output_type": "stream",
          "text": [
            "[13.6GB(+0.0GB): 15.916sec] fit X\n",
            "[13.6GB(+0.0GB): 10.807sec] fit Y\n"
          ],
          "name": "stderr"
        },
        {
          "output_type": "stream",
          "text": [
            "fold 9: mean position error 1.7746949820212699\n",
            "*+*+*+*+*+*+*+*+*+*+*+*+*+*+*+*+*+*+*+*+*+*+*+*+*+*+*+*+*+*+*+*+*+*+*+*+*+*+*+*+\n",
            "file #3, shape=(9100, 5008), name=5d27096c03f801723c31e5e0_train.csv\n",
            "mean position error 1.7754451511832474\n",
            "*+*+*+*+*+*+*+*+*+*+*+*+*+*+*+*+*+*+*+*+*+*+*+*+*+*+*+*+*+*+*+*+*+*+*+*+*+*+*+*+\n"
          ],
          "name": "stdout"
        },
        {
          "output_type": "stream",
          "text": [
            "/usr/local/lib/python3.7/dist-packages/IPython/core/interactiveshell.py:2718: DtypeWarning: Columns (2495,2496,2497,2501) have mixed types.Specify dtype option on import or set low_memory=False.\n",
            "  interactivity=interactivity, compiler=compiler, result=result)\n",
            "\n",
            "\n",
            "\n",
            "\n",
            "  0%|          | 0/3 [00:00<?, ?it/s]\u001b[A\u001b[A\u001b[A\u001b[A\n",
            "\n",
            "\n",
            "\n",
            " 67%|██████▋   | 2/3 [00:17<00:08,  8.60s/it]\u001b[A\u001b[A\u001b[A\u001b[A\n",
            "\n",
            "\n",
            "\n",
            "100%|██████████| 3/3 [00:17<00:00,  5.78s/it]\n",
            "\n",
            "\n",
            "\n",
            "\n",
            "  0%|          | 0/3 [00:00<?, ?it/s]\u001b[A\u001b[A\u001b[A\u001b[A\n",
            "\n",
            "\n",
            "\n",
            "100%|██████████| 3/3 [00:00<00:00,  5.42it/s]\n"
          ],
          "name": "stderr"
        },
        {
          "output_type": "stream",
          "text": [
            "(10507, 2534)\n",
            "(303, 2532)\n"
          ],
          "name": "stdout"
        },
        {
          "output_type": "stream",
          "text": [
            "[13.6GB(-0.0GB): 16.341sec] fit X\n",
            "[13.6GB(+0.0GB): 17.217sec] fit Y\n"
          ],
          "name": "stderr"
        },
        {
          "output_type": "stream",
          "text": [
            "fold 0: mean position error 3.401053399448242\n"
          ],
          "name": "stdout"
        },
        {
          "output_type": "stream",
          "text": [
            "[13.6GB(+0.0GB): 19.266sec] fit X\n",
            "[13.6GB(+0.0GB): 12.309sec] fit Y\n"
          ],
          "name": "stderr"
        },
        {
          "output_type": "stream",
          "text": [
            "fold 1: mean position error 3.3448220072367834\n"
          ],
          "name": "stdout"
        },
        {
          "output_type": "stream",
          "text": [
            "[13.6GB(+0.0GB): 18.596sec] fit X\n",
            "[13.6GB(+0.0GB): 14.768sec] fit Y\n"
          ],
          "name": "stderr"
        },
        {
          "output_type": "stream",
          "text": [
            "fold 2: mean position error 3.3760241542512857\n"
          ],
          "name": "stdout"
        },
        {
          "output_type": "stream",
          "text": [
            "[13.6GB(-0.0GB): 21.735sec] fit X\n",
            "[13.6GB(+0.0GB): 17.577sec] fit Y\n"
          ],
          "name": "stderr"
        },
        {
          "output_type": "stream",
          "text": [
            "fold 3: mean position error 3.3389278832457263\n"
          ],
          "name": "stdout"
        },
        {
          "output_type": "stream",
          "text": [
            "[13.6GB(+0.0GB): 15.091sec] fit X\n",
            "[13.6GB(+0.0GB): 15.181sec] fit Y\n"
          ],
          "name": "stderr"
        },
        {
          "output_type": "stream",
          "text": [
            "fold 4: mean position error 3.6189745412333862\n"
          ],
          "name": "stdout"
        },
        {
          "output_type": "stream",
          "text": [
            "[13.6GB(-0.0GB): 18.108sec] fit X\n",
            "[13.6GB(+0.0GB): 17.941sec] fit Y\n"
          ],
          "name": "stderr"
        },
        {
          "output_type": "stream",
          "text": [
            "fold 5: mean position error 3.3075466330189167\n"
          ],
          "name": "stdout"
        },
        {
          "output_type": "stream",
          "text": [
            "[13.6GB(+0.0GB): 15.669sec] fit X\n",
            "[13.6GB(+0.0GB): 15.334sec] fit Y\n"
          ],
          "name": "stderr"
        },
        {
          "output_type": "stream",
          "text": [
            "fold 6: mean position error 3.52609170536158\n"
          ],
          "name": "stdout"
        },
        {
          "output_type": "stream",
          "text": [
            "[13.6GB(+0.0GB): 16.196sec] fit X\n",
            "[13.6GB(+0.0GB): 18.179sec] fit Y\n"
          ],
          "name": "stderr"
        },
        {
          "output_type": "stream",
          "text": [
            "fold 7: mean position error 3.3728745083169365\n"
          ],
          "name": "stdout"
        },
        {
          "output_type": "stream",
          "text": [
            "[13.6GB(+0.0GB): 22.511sec] fit X\n",
            "[13.6GB(+0.0GB): 13.106sec] fit Y\n"
          ],
          "name": "stderr"
        },
        {
          "output_type": "stream",
          "text": [
            "fold 8: mean position error 3.310533582070462\n"
          ],
          "name": "stdout"
        },
        {
          "output_type": "stream",
          "text": [
            "[13.6GB(+0.0GB): 15.540sec] fit X\n",
            "[13.6GB(+0.0GB): 12.023sec] fit Y\n"
          ],
          "name": "stderr"
        },
        {
          "output_type": "stream",
          "text": [
            "fold 9: mean position error 3.283925444519359\n",
            "*+*+*+*+*+*+*+*+*+*+*+*+*+*+*+*+*+*+*+*+*+*+*+*+*+*+*+*+*+*+*+*+*+*+*+*+*+*+*+*+\n",
            "file #4, shape=(10507, 2534), name=5d27097f03f801723c320d97_train.csv\n",
            "mean position error 3.3880961256268782\n",
            "*+*+*+*+*+*+*+*+*+*+*+*+*+*+*+*+*+*+*+*+*+*+*+*+*+*+*+*+*+*+*+*+*+*+*+*+*+*+*+*+\n"
          ],
          "name": "stdout"
        },
        {
          "output_type": "stream",
          "text": [
            "\n",
            "\n",
            "\n",
            "\n",
            "  0%|          | 0/3 [00:00<?, ?it/s]\u001b[A\u001b[A\u001b[A\u001b[A\n",
            "\n",
            "\n",
            "\n",
            "100%|██████████| 3/3 [00:02<00:00,  1.09it/s]\n",
            "\n",
            "\n",
            "\n",
            "\n",
            "100%|██████████| 3/3 [00:00<00:00, 62.53it/s]\n"
          ],
          "name": "stderr"
        },
        {
          "output_type": "stream",
          "text": [
            "(4251, 969)\n",
            "(49, 967)\n"
          ],
          "name": "stdout"
        },
        {
          "output_type": "stream",
          "text": [
            "[13.6GB(+0.0GB): 4.627sec] fit X\n",
            "[13.6GB(+0.0GB): 3.095sec] fit Y\n"
          ],
          "name": "stderr"
        },
        {
          "output_type": "stream",
          "text": [
            "fold 0: mean position error 1.8809452444505563\n"
          ],
          "name": "stdout"
        },
        {
          "output_type": "stream",
          "text": [
            "[13.6GB(+0.0GB): 3.748sec] fit X\n",
            "[13.6GB(+0.0GB): 3.621sec] fit Y\n"
          ],
          "name": "stderr"
        },
        {
          "output_type": "stream",
          "text": [
            "fold 1: mean position error 1.8780537943376283\n"
          ],
          "name": "stdout"
        },
        {
          "output_type": "stream",
          "text": [
            "[13.6GB(+0.0GB): 3.103sec] fit X\n",
            "[13.6GB(+0.0GB): 2.908sec] fit Y\n"
          ],
          "name": "stderr"
        },
        {
          "output_type": "stream",
          "text": [
            "fold 2: mean position error 1.9653528489476166\n"
          ],
          "name": "stdout"
        },
        {
          "output_type": "stream",
          "text": [
            "[13.6GB(+0.0GB): 3.168sec] fit X\n",
            "[13.6GB(+0.0GB): 2.235sec] fit Y\n"
          ],
          "name": "stderr"
        },
        {
          "output_type": "stream",
          "text": [
            "fold 3: mean position error 1.8761142718419812\n"
          ],
          "name": "stdout"
        },
        {
          "output_type": "stream",
          "text": [
            "[13.6GB(+0.0GB): 2.488sec] fit X\n",
            "[13.6GB(+0.0GB): 2.189sec] fit Y\n"
          ],
          "name": "stderr"
        },
        {
          "output_type": "stream",
          "text": [
            "fold 4: mean position error 2.1183608933172664\n"
          ],
          "name": "stdout"
        },
        {
          "output_type": "stream",
          "text": [
            "[13.6GB(+0.0GB): 3.453sec] fit X\n",
            "[13.6GB(+0.0GB): 4.296sec] fit Y\n"
          ],
          "name": "stderr"
        },
        {
          "output_type": "stream",
          "text": [
            "fold 5: mean position error 2.1117763487206673\n"
          ],
          "name": "stdout"
        },
        {
          "output_type": "stream",
          "text": [
            "[13.6GB(+0.0GB): 2.980sec] fit X\n",
            "[13.6GB(+0.0GB): 3.737sec] fit Y\n"
          ],
          "name": "stderr"
        },
        {
          "output_type": "stream",
          "text": [
            "fold 6: mean position error 2.036636597205389\n"
          ],
          "name": "stdout"
        },
        {
          "output_type": "stream",
          "text": [
            "[13.6GB(+0.0GB): 2.442sec] fit X\n",
            "[13.6GB(+0.0GB): 2.343sec] fit Y\n"
          ],
          "name": "stderr"
        },
        {
          "output_type": "stream",
          "text": [
            "fold 7: mean position error 2.0672936195938383\n"
          ],
          "name": "stdout"
        },
        {
          "output_type": "stream",
          "text": [
            "[13.6GB(+0.0GB): 3.244sec] fit X\n",
            "[13.6GB(+0.0GB): 2.162sec] fit Y\n"
          ],
          "name": "stderr"
        },
        {
          "output_type": "stream",
          "text": [
            "fold 8: mean position error 2.035588476808812\n"
          ],
          "name": "stdout"
        },
        {
          "output_type": "stream",
          "text": [
            "[13.6GB(+0.0GB): 3.152sec] fit X\n",
            "[13.6GB(+0.0GB): 3.291sec] fit Y\n"
          ],
          "name": "stderr"
        },
        {
          "output_type": "stream",
          "text": [
            "fold 9: mean position error 2.088655249170728\n",
            "*+*+*+*+*+*+*+*+*+*+*+*+*+*+*+*+*+*+*+*+*+*+*+*+*+*+*+*+*+*+*+*+*+*+*+*+*+*+*+*+\n",
            "file #5, shape=(4251, 969), name=5d27099f03f801723c32511d_train.csv\n",
            "mean position error 2.0058483454745017\n",
            "*+*+*+*+*+*+*+*+*+*+*+*+*+*+*+*+*+*+*+*+*+*+*+*+*+*+*+*+*+*+*+*+*+*+*+*+*+*+*+*+\n"
          ],
          "name": "stdout"
        },
        {
          "output_type": "stream",
          "text": [
            "/usr/local/lib/python3.7/dist-packages/IPython/core/interactiveshell.py:2718: DtypeWarning: Columns (1257,1258,1259,1263) have mixed types.Specify dtype option on import or set low_memory=False.\n",
            "  interactivity=interactivity, compiler=compiler, result=result)\n",
            "\n",
            "\n",
            "\n",
            "\n",
            "  0%|          | 0/3 [00:00<?, ?it/s]\u001b[A\u001b[A\u001b[A\u001b[A\n",
            "\n",
            "\n",
            "\n",
            "100%|██████████| 3/3 [00:03<00:00,  1.13s/it]\n",
            "\n",
            "\n",
            "\n",
            "\n",
            "  0%|          | 0/3 [00:00<?, ?it/s]\u001b[A\u001b[A\u001b[A\u001b[A\n",
            "\n",
            "\n",
            "\n",
            "100%|██████████| 3/3 [00:00<00:00, 14.97it/s]\n"
          ],
          "name": "stderr"
        },
        {
          "output_type": "stream",
          "text": [
            "(3940, 1296)\n",
            "(218, 1294)\n"
          ],
          "name": "stdout"
        },
        {
          "output_type": "stream",
          "text": [
            "[13.6GB(+0.0GB): 4.244sec] fit X\n",
            "[13.6GB(+0.0GB): 2.825sec] fit Y\n"
          ],
          "name": "stderr"
        },
        {
          "output_type": "stream",
          "text": [
            "fold 0: mean position error 2.100393900978788\n"
          ],
          "name": "stdout"
        },
        {
          "output_type": "stream",
          "text": [
            "[13.6GB(+0.0GB): 4.071sec] fit X\n",
            "[13.6GB(+0.0GB): 2.917sec] fit Y\n"
          ],
          "name": "stderr"
        },
        {
          "output_type": "stream",
          "text": [
            "fold 1: mean position error 1.9776734962112372\n"
          ],
          "name": "stdout"
        },
        {
          "output_type": "stream",
          "text": [
            "[13.6GB(+0.0GB): 4.355sec] fit X\n",
            "[13.6GB(+0.0GB): 3.896sec] fit Y\n"
          ],
          "name": "stderr"
        },
        {
          "output_type": "stream",
          "text": [
            "fold 2: mean position error 1.9106790677997376\n"
          ],
          "name": "stdout"
        },
        {
          "output_type": "stream",
          "text": [
            "[13.6GB(+0.0GB): 3.821sec] fit X\n",
            "[13.6GB(+0.0GB): 4.052sec] fit Y\n"
          ],
          "name": "stderr"
        },
        {
          "output_type": "stream",
          "text": [
            "fold 3: mean position error 1.966113817261304\n"
          ],
          "name": "stdout"
        },
        {
          "output_type": "stream",
          "text": [
            "[13.6GB(+0.0GB): 3.611sec] fit X\n",
            "[13.6GB(+0.0GB): 3.819sec] fit Y\n"
          ],
          "name": "stderr"
        },
        {
          "output_type": "stream",
          "text": [
            "fold 4: mean position error 2.0631077307622356\n"
          ],
          "name": "stdout"
        },
        {
          "output_type": "stream",
          "text": [
            "[13.6GB(+0.0GB): 3.411sec] fit X\n",
            "[13.6GB(+0.0GB): 4.950sec] fit Y\n"
          ],
          "name": "stderr"
        },
        {
          "output_type": "stream",
          "text": [
            "fold 5: mean position error 1.987809077027258\n"
          ],
          "name": "stdout"
        },
        {
          "output_type": "stream",
          "text": [
            "[13.6GB(+0.0GB): 3.138sec] fit X\n",
            "[13.6GB(+0.0GB): 3.175sec] fit Y\n"
          ],
          "name": "stderr"
        },
        {
          "output_type": "stream",
          "text": [
            "fold 6: mean position error 1.8055093969940512\n"
          ],
          "name": "stdout"
        },
        {
          "output_type": "stream",
          "text": [
            "[13.6GB(+0.0GB): 3.458sec] fit X\n",
            "[13.6GB(+0.0GB): 3.597sec] fit Y\n"
          ],
          "name": "stderr"
        },
        {
          "output_type": "stream",
          "text": [
            "fold 7: mean position error 2.043524440703888\n"
          ],
          "name": "stdout"
        },
        {
          "output_type": "stream",
          "text": [
            "[13.6GB(+0.0GB): 3.402sec] fit X\n",
            "[13.6GB(+0.0GB): 3.272sec] fit Y\n"
          ],
          "name": "stderr"
        },
        {
          "output_type": "stream",
          "text": [
            "fold 8: mean position error 1.9083851842867583\n"
          ],
          "name": "stdout"
        },
        {
          "output_type": "stream",
          "text": [
            "[13.6GB(+0.0GB): 3.276sec] fit X\n",
            "[13.6GB(+0.0GB): 4.427sec] fit Y\n"
          ],
          "name": "stderr"
        },
        {
          "output_type": "stream",
          "text": [
            "fold 9: mean position error 1.9936115310990916\n",
            "*+*+*+*+*+*+*+*+*+*+*+*+*+*+*+*+*+*+*+*+*+*+*+*+*+*+*+*+*+*+*+*+*+*+*+*+*+*+*+*+\n",
            "file #6, shape=(3940, 1296), name=5d2709a003f801723c3251bf_train.csv\n",
            "mean position error 1.9756807643124352\n",
            "*+*+*+*+*+*+*+*+*+*+*+*+*+*+*+*+*+*+*+*+*+*+*+*+*+*+*+*+*+*+*+*+*+*+*+*+*+*+*+*+\n"
          ],
          "name": "stdout"
        },
        {
          "output_type": "stream",
          "text": [
            "/usr/local/lib/python3.7/dist-packages/IPython/core/interactiveshell.py:2718: DtypeWarning: Columns (1918,1919,1920,1924) have mixed types.Specify dtype option on import or set low_memory=False.\n",
            "  interactivity=interactivity, compiler=compiler, result=result)\n",
            "\n",
            "\n",
            "\n",
            "\n",
            "  0%|          | 0/3 [00:00<?, ?it/s]\u001b[A\u001b[A\u001b[A\u001b[A\n",
            "\n",
            "\n",
            "\n",
            " 67%|██████▋   | 2/3 [00:19<00:09,  9.86s/it]\u001b[A\u001b[A\u001b[A\u001b[A\n",
            "\n",
            "\n",
            "\n",
            "100%|██████████| 3/3 [00:19<00:00,  6.63s/it]\n",
            "\n",
            "\n",
            "\n",
            "\n",
            "  0%|          | 0/3 [00:00<?, ?it/s]\u001b[A\u001b[A\u001b[A\u001b[A\n",
            "\n",
            "\n",
            "\n",
            "100%|██████████| 3/3 [00:00<00:00,  4.27it/s]\n"
          ],
          "name": "stderr"
        },
        {
          "output_type": "stream",
          "text": [
            "(15358, 1957)\n",
            "(527, 1955)\n"
          ],
          "name": "stdout"
        },
        {
          "output_type": "stream",
          "text": [
            "[13.6GB(-0.0GB): 23.129sec] fit X\n",
            "[13.6GB(+0.0GB): 26.726sec] fit Y\n"
          ],
          "name": "stderr"
        },
        {
          "output_type": "stream",
          "text": [
            "fold 0: mean position error 2.26084542973736\n"
          ],
          "name": "stdout"
        },
        {
          "output_type": "stream",
          "text": [
            "[13.6GB(+0.0GB): 27.851sec] fit X\n",
            "[13.6GB(+0.0GB): 26.672sec] fit Y\n"
          ],
          "name": "stderr"
        },
        {
          "output_type": "stream",
          "text": [
            "fold 1: mean position error 2.353327933340018\n"
          ],
          "name": "stdout"
        },
        {
          "output_type": "stream",
          "text": [
            "[13.6GB(+0.0GB): 19.013sec] fit X\n",
            "[13.6GB(+0.0GB): 23.402sec] fit Y\n"
          ],
          "name": "stderr"
        },
        {
          "output_type": "stream",
          "text": [
            "fold 2: mean position error 2.2384175730590843\n"
          ],
          "name": "stdout"
        },
        {
          "output_type": "stream",
          "text": [
            "[13.6GB(+0.0GB): 17.554sec] fit X\n",
            "[13.6GB(+0.0GB): 25.070sec] fit Y\n"
          ],
          "name": "stderr"
        },
        {
          "output_type": "stream",
          "text": [
            "fold 3: mean position error 2.3156095705517985\n"
          ],
          "name": "stdout"
        },
        {
          "output_type": "stream",
          "text": [
            "[13.6GB(+0.0GB): 18.885sec] fit X\n",
            "[13.6GB(+0.0GB): 30.627sec] fit Y\n"
          ],
          "name": "stderr"
        },
        {
          "output_type": "stream",
          "text": [
            "fold 4: mean position error 2.2231523164697915\n"
          ],
          "name": "stdout"
        },
        {
          "output_type": "stream",
          "text": [
            "[13.6GB(+0.0GB): 22.881sec] fit X\n",
            "[13.6GB(+0.0GB): 29.486sec] fit Y\n"
          ],
          "name": "stderr"
        },
        {
          "output_type": "stream",
          "text": [
            "fold 5: mean position error 2.2330691608720445\n"
          ],
          "name": "stdout"
        },
        {
          "output_type": "stream",
          "text": [
            "[13.6GB(+0.0GB): 24.584sec] fit X\n",
            "[13.6GB(+0.0GB): 31.824sec] fit Y\n"
          ],
          "name": "stderr"
        },
        {
          "output_type": "stream",
          "text": [
            "fold 6: mean position error 2.2707342469807084\n"
          ],
          "name": "stdout"
        },
        {
          "output_type": "stream",
          "text": [
            "[13.6GB(+0.0GB): 21.564sec] fit X\n",
            "[13.6GB(+0.0GB): 37.948sec] fit Y\n"
          ],
          "name": "stderr"
        },
        {
          "output_type": "stream",
          "text": [
            "fold 7: mean position error 2.2208204337100885\n"
          ],
          "name": "stdout"
        },
        {
          "output_type": "stream",
          "text": [
            "[13.6GB(+0.0GB): 23.192sec] fit X\n",
            "[13.6GB(+0.0GB): 27.856sec] fit Y\n"
          ],
          "name": "stderr"
        },
        {
          "output_type": "stream",
          "text": [
            "fold 8: mean position error 2.1318235521071864\n"
          ],
          "name": "stdout"
        },
        {
          "output_type": "stream",
          "text": [
            "[13.6GB(+0.0GB): 27.361sec] fit X\n",
            "[13.6GB(+0.0GB): 24.883sec] fit Y\n"
          ],
          "name": "stderr"
        },
        {
          "output_type": "stream",
          "text": [
            "fold 9: mean position error 2.199196648304754\n",
            "*+*+*+*+*+*+*+*+*+*+*+*+*+*+*+*+*+*+*+*+*+*+*+*+*+*+*+*+*+*+*+*+*+*+*+*+*+*+*+*+\n",
            "file #7, shape=(15358, 1957), name=5d2709b303f801723c327472_train.csv\n",
            "mean position error 2.2447099990001056\n",
            "*+*+*+*+*+*+*+*+*+*+*+*+*+*+*+*+*+*+*+*+*+*+*+*+*+*+*+*+*+*+*+*+*+*+*+*+*+*+*+*+\n"
          ],
          "name": "stdout"
        },
        {
          "output_type": "stream",
          "text": [
            "/usr/local/lib/python3.7/dist-packages/IPython/core/interactiveshell.py:2718: DtypeWarning: Columns (2457,2458,2459,2463) have mixed types.Specify dtype option on import or set low_memory=False.\n",
            "  interactivity=interactivity, compiler=compiler, result=result)\n",
            "\n",
            "\n",
            "\n",
            "\n",
            "  0%|          | 0/3 [00:00<?, ?it/s]\u001b[A\u001b[A\u001b[A\u001b[A\n",
            "\n",
            "\n",
            "\n",
            " 67%|██████▋   | 2/3 [00:29<00:14, 14.71s/it]\u001b[A\u001b[A\u001b[A\u001b[A\n",
            "\n",
            "\n",
            "\n",
            "100%|██████████| 3/3 [00:29<00:00,  9.88s/it]\n",
            "\n",
            "\n",
            "\n",
            "\n",
            "  0%|          | 0/3 [00:00<?, ?it/s]\u001b[A\u001b[A\u001b[A\u001b[A\n",
            "\n",
            "\n",
            "\n",
            "100%|██████████| 3/3 [00:01<00:00,  2.41it/s]\n"
          ],
          "name": "stderr"
        },
        {
          "output_type": "stream",
          "text": [
            "(17203, 2496)\n",
            "(716, 2494)\n"
          ],
          "name": "stdout"
        },
        {
          "output_type": "stream",
          "text": [
            "[13.6GB(-0.0GB): 15.923sec] fit X\n",
            "[13.6GB(+0.0GB): 41.036sec] fit Y\n"
          ],
          "name": "stderr"
        },
        {
          "output_type": "stream",
          "text": [
            "fold 0: mean position error 2.898140385951935\n"
          ],
          "name": "stdout"
        },
        {
          "output_type": "stream",
          "text": [
            "[13.6GB(+0.0GB): 34.299sec] fit X\n",
            "[13.6GB(+0.0GB): 39.620sec] fit Y\n"
          ],
          "name": "stderr"
        },
        {
          "output_type": "stream",
          "text": [
            "fold 1: mean position error 2.685554174591552\n"
          ],
          "name": "stdout"
        },
        {
          "output_type": "stream",
          "text": [
            "[13.6GB(+0.0GB): 29.626sec] fit X\n",
            "[13.6GB(+0.0GB): 29.957sec] fit Y\n"
          ],
          "name": "stderr"
        },
        {
          "output_type": "stream",
          "text": [
            "fold 2: mean position error 2.6169916818633907\n"
          ],
          "name": "stdout"
        },
        {
          "output_type": "stream",
          "text": [
            "[13.6GB(+0.0GB): 21.229sec] fit X\n",
            "[13.6GB(+0.0GB): 42.498sec] fit Y\n"
          ],
          "name": "stderr"
        },
        {
          "output_type": "stream",
          "text": [
            "fold 3: mean position error 2.7434145592582775\n"
          ],
          "name": "stdout"
        },
        {
          "output_type": "stream",
          "text": [
            "[13.6GB(+0.0GB): 27.800sec] fit X\n",
            "[13.6GB(+0.0GB): 35.048sec] fit Y\n"
          ],
          "name": "stderr"
        },
        {
          "output_type": "stream",
          "text": [
            "fold 4: mean position error 2.606143721434014\n"
          ],
          "name": "stdout"
        },
        {
          "output_type": "stream",
          "text": [
            "[13.6GB(+0.0GB): 29.242sec] fit X\n",
            "[13.6GB(-0.0GB): 35.367sec] fit Y\n"
          ],
          "name": "stderr"
        },
        {
          "output_type": "stream",
          "text": [
            "fold 5: mean position error 2.495328957342388\n"
          ],
          "name": "stdout"
        },
        {
          "output_type": "stream",
          "text": [
            "[13.6GB(+0.0GB): 46.018sec] fit X\n",
            "[13.6GB(+0.0GB): 39.246sec] fit Y\n"
          ],
          "name": "stderr"
        },
        {
          "output_type": "stream",
          "text": [
            "fold 6: mean position error 2.492084230518619\n"
          ],
          "name": "stdout"
        },
        {
          "output_type": "stream",
          "text": [
            "[13.6GB(+0.0GB): 20.860sec] fit X\n",
            "[13.6GB(+0.0GB): 32.296sec] fit Y\n"
          ],
          "name": "stderr"
        },
        {
          "output_type": "stream",
          "text": [
            "fold 7: mean position error 2.697957295172398\n"
          ],
          "name": "stdout"
        },
        {
          "output_type": "stream",
          "text": [
            "[13.6GB(+0.0GB): 34.077sec] fit X\n",
            "[13.6GB(+0.0GB): 29.962sec] fit Y\n"
          ],
          "name": "stderr"
        },
        {
          "output_type": "stream",
          "text": [
            "fold 8: mean position error 2.5789535819840173\n"
          ],
          "name": "stdout"
        },
        {
          "output_type": "stream",
          "text": [
            "[13.6GB(+0.0GB): 36.665sec] fit X\n",
            "[13.6GB(+0.0GB): 35.488sec] fit Y\n"
          ],
          "name": "stderr"
        },
        {
          "output_type": "stream",
          "text": [
            "fold 9: mean position error 2.5279758200675313\n",
            "*+*+*+*+*+*+*+*+*+*+*+*+*+*+*+*+*+*+*+*+*+*+*+*+*+*+*+*+*+*+*+*+*+*+*+*+*+*+*+*+\n",
            "file #8, shape=(17203, 2496), name=5d2709bb03f801723c32852c_train.csv\n",
            "mean position error 2.6342717588978135\n",
            "*+*+*+*+*+*+*+*+*+*+*+*+*+*+*+*+*+*+*+*+*+*+*+*+*+*+*+*+*+*+*+*+*+*+*+*+*+*+*+*+\n"
          ],
          "name": "stdout"
        },
        {
          "output_type": "stream",
          "text": [
            "/usr/local/lib/python3.7/dist-packages/IPython/core/interactiveshell.py:2718: DtypeWarning: Columns (5836,5837,5838,5842) have mixed types.Specify dtype option on import or set low_memory=False.\n",
            "  interactivity=interactivity, compiler=compiler, result=result)\n",
            "\n",
            "\n",
            "\n",
            "\n",
            "  0%|          | 0/3 [00:00<?, ?it/s]\u001b[A\u001b[A\u001b[A\u001b[A\n",
            "\n",
            "\n",
            "\n",
            " 67%|██████▋   | 2/3 [00:39<00:19, 19.67s/it]\u001b[A\u001b[A\u001b[A\u001b[A\n",
            "\n",
            "\n",
            "\n",
            "100%|██████████| 3/3 [00:39<00:00, 13.23s/it]\n",
            "\n",
            "\n",
            "\n",
            "\n",
            "  0%|          | 0/3 [00:00<?, ?it/s]\u001b[A\u001b[A\u001b[A\u001b[A\n",
            "\n",
            "\n",
            "\n",
            "100%|██████████| 3/3 [00:02<00:00,  1.49it/s]\n"
          ],
          "name": "stderr"
        },
        {
          "output_type": "stream",
          "text": [
            "(10083, 5875)\n",
            "(509, 5873)\n"
          ],
          "name": "stdout"
        },
        {
          "output_type": "stream",
          "text": [
            "[13.4GB(+0.5GB): 40.121sec] fit X\n",
            "[13.4GB(+0.0GB): 39.021sec] fit Y\n"
          ],
          "name": "stderr"
        },
        {
          "output_type": "stream",
          "text": [
            "fold 0: mean position error 2.4979711470688404\n"
          ],
          "name": "stdout"
        },
        {
          "output_type": "stream",
          "text": [
            "[13.4GB(+0.0GB): 41.794sec] fit X\n",
            "[13.4GB(+0.0GB): 42.485sec] fit Y\n"
          ],
          "name": "stderr"
        },
        {
          "output_type": "stream",
          "text": [
            "fold 1: mean position error 2.48766441188488\n"
          ],
          "name": "stdout"
        },
        {
          "output_type": "stream",
          "text": [
            "[13.4GB(+0.0GB): 48.398sec] fit X\n",
            "[13.4GB(+0.0GB): 44.652sec] fit Y\n"
          ],
          "name": "stderr"
        },
        {
          "output_type": "stream",
          "text": [
            "fold 2: mean position error 2.5600906081611208\n"
          ],
          "name": "stdout"
        },
        {
          "output_type": "stream",
          "text": [
            "[13.4GB(+0.0GB): 44.615sec] fit X\n",
            "[13.4GB(+0.0GB): 39.445sec] fit Y\n"
          ],
          "name": "stderr"
        },
        {
          "output_type": "stream",
          "text": [
            "fold 3: mean position error 2.567872013292865\n"
          ],
          "name": "stdout"
        },
        {
          "output_type": "stream",
          "text": [
            "[13.4GB(+0.0GB): 38.844sec] fit X\n",
            "[13.4GB(-0.0GB): 35.973sec] fit Y\n"
          ],
          "name": "stderr"
        },
        {
          "output_type": "stream",
          "text": [
            "fold 4: mean position error 2.6204489269858198\n"
          ],
          "name": "stdout"
        },
        {
          "output_type": "stream",
          "text": [
            "[13.4GB(+0.0GB): 40.286sec] fit X\n",
            "[13.4GB(+0.0GB): 28.284sec] fit Y\n"
          ],
          "name": "stderr"
        },
        {
          "output_type": "stream",
          "text": [
            "fold 5: mean position error 2.5192622495932393\n"
          ],
          "name": "stdout"
        },
        {
          "output_type": "stream",
          "text": [
            "[13.4GB(+0.0GB): 36.636sec] fit X\n",
            "[13.4GB(+0.0GB): 40.161sec] fit Y\n"
          ],
          "name": "stderr"
        },
        {
          "output_type": "stream",
          "text": [
            "fold 6: mean position error 2.5858047893162643\n"
          ],
          "name": "stdout"
        },
        {
          "output_type": "stream",
          "text": [
            "[13.4GB(+0.0GB): 43.062sec] fit X\n",
            "[13.4GB(+0.0GB): 44.251sec] fit Y\n"
          ],
          "name": "stderr"
        },
        {
          "output_type": "stream",
          "text": [
            "fold 7: mean position error 2.6065960064138585\n"
          ],
          "name": "stdout"
        },
        {
          "output_type": "stream",
          "text": [
            "[13.4GB(+0.0GB): 48.183sec] fit X\n",
            "[13.4GB(+0.0GB): 37.997sec] fit Y\n"
          ],
          "name": "stderr"
        },
        {
          "output_type": "stream",
          "text": [
            "fold 8: mean position error 2.6723110213104198\n"
          ],
          "name": "stdout"
        },
        {
          "output_type": "stream",
          "text": [
            "[13.4GB(+0.0GB): 39.089sec] fit X\n",
            "[13.4GB(+0.0GB): 48.504sec] fit Y\n"
          ],
          "name": "stderr"
        },
        {
          "output_type": "stream",
          "text": [
            "fold 9: mean position error 2.467089833853054\n",
            "*+*+*+*+*+*+*+*+*+*+*+*+*+*+*+*+*+*+*+*+*+*+*+*+*+*+*+*+*+*+*+*+*+*+*+*+*+*+*+*+\n",
            "file #9, shape=(10083, 5875), name=5d2709c303f801723c3299ee_train.csv\n",
            "mean position error 2.558498226927553\n",
            "*+*+*+*+*+*+*+*+*+*+*+*+*+*+*+*+*+*+*+*+*+*+*+*+*+*+*+*+*+*+*+*+*+*+*+*+*+*+*+*+\n"
          ],
          "name": "stdout"
        },
        {
          "output_type": "stream",
          "text": [
            "/usr/local/lib/python3.7/dist-packages/IPython/core/interactiveshell.py:2718: DtypeWarning: Columns (2144,2145,2146,2150) have mixed types.Specify dtype option on import or set low_memory=False.\n",
            "  interactivity=interactivity, compiler=compiler, result=result)\n",
            "\n",
            "\n",
            "\n",
            "\n",
            "  0%|          | 0/3 [00:00<?, ?it/s]\u001b[A\u001b[A\u001b[A\u001b[A\n",
            "\n",
            "\n",
            "\n",
            " 67%|██████▋   | 2/3 [00:14<00:07,  7.13s/it]\u001b[A\u001b[A\u001b[A\u001b[A\n",
            "\n",
            "\n",
            "\n",
            "100%|██████████| 3/3 [00:14<00:00,  4.79s/it]\n",
            "\n",
            "\n",
            "\n",
            "\n",
            "  0%|          | 0/3 [00:00<?, ?it/s]\u001b[A\u001b[A\u001b[A\u001b[A\n",
            "\n",
            "\n",
            "\n",
            "100%|██████████| 3/3 [00:01<00:00,  1.70it/s]\n"
          ],
          "name": "stderr"
        },
        {
          "output_type": "stream",
          "text": [
            "(10027, 2183)\n",
            "(1223, 2181)\n"
          ],
          "name": "stdout"
        },
        {
          "output_type": "stream",
          "text": [
            "[13.4GB(-0.0GB): 14.504sec] fit X\n",
            "[13.4GB(+0.0GB): 12.840sec] fit Y\n"
          ],
          "name": "stderr"
        },
        {
          "output_type": "stream",
          "text": [
            "fold 0: mean position error 2.096480672796287\n"
          ],
          "name": "stdout"
        },
        {
          "output_type": "stream",
          "text": [
            "[13.4GB(+0.0GB): 16.612sec] fit X\n",
            "[13.4GB(-0.0GB): 14.703sec] fit Y\n"
          ],
          "name": "stderr"
        },
        {
          "output_type": "stream",
          "text": [
            "fold 1: mean position error 2.156261746783237\n"
          ],
          "name": "stdout"
        },
        {
          "output_type": "stream",
          "text": [
            "[13.4GB(+0.0GB): 14.473sec] fit X\n",
            "[13.4GB(+0.0GB): 12.776sec] fit Y\n"
          ],
          "name": "stderr"
        },
        {
          "output_type": "stream",
          "text": [
            "fold 2: mean position error 2.171460365000411\n"
          ],
          "name": "stdout"
        },
        {
          "output_type": "stream",
          "text": [
            "[13.4GB(+0.0GB): 10.143sec] fit X\n",
            "[13.4GB(+0.0GB): 10.946sec] fit Y\n"
          ],
          "name": "stderr"
        },
        {
          "output_type": "stream",
          "text": [
            "fold 3: mean position error 2.2307982157238597\n"
          ],
          "name": "stdout"
        },
        {
          "output_type": "stream",
          "text": [
            "[13.4GB(+0.0GB): 12.788sec] fit X\n",
            "[13.4GB(+0.0GB): 15.145sec] fit Y\n"
          ],
          "name": "stderr"
        },
        {
          "output_type": "stream",
          "text": [
            "fold 4: mean position error 2.1844110606602345\n"
          ],
          "name": "stdout"
        },
        {
          "output_type": "stream",
          "text": [
            "[13.4GB(+0.0GB): 17.954sec] fit X\n",
            "[13.4GB(+0.0GB): 14.357sec] fit Y\n"
          ],
          "name": "stderr"
        },
        {
          "output_type": "stream",
          "text": [
            "fold 5: mean position error 2.1523085121912566\n"
          ],
          "name": "stdout"
        },
        {
          "output_type": "stream",
          "text": [
            "[13.4GB(+0.0GB): 13.667sec] fit X\n",
            "[13.4GB(+0.0GB): 15.522sec] fit Y\n"
          ],
          "name": "stderr"
        },
        {
          "output_type": "stream",
          "text": [
            "fold 6: mean position error 2.230620009434228\n"
          ],
          "name": "stdout"
        },
        {
          "output_type": "stream",
          "text": [
            "[13.4GB(+0.0GB): 8.630sec] fit X\n",
            "[13.4GB(+0.0GB): 16.565sec] fit Y\n"
          ],
          "name": "stderr"
        },
        {
          "output_type": "stream",
          "text": [
            "fold 7: mean position error 2.2231713955439707\n"
          ],
          "name": "stdout"
        },
        {
          "output_type": "stream",
          "text": [
            "[13.4GB(+0.0GB): 11.106sec] fit X\n",
            "[13.4GB(+0.0GB): 11.681sec] fit Y\n"
          ],
          "name": "stderr"
        },
        {
          "output_type": "stream",
          "text": [
            "fold 8: mean position error 2.1590333205886436\n"
          ],
          "name": "stdout"
        },
        {
          "output_type": "stream",
          "text": [
            "[13.4GB(+0.0GB): 12.522sec] fit X\n",
            "[13.4GB(+0.0GB): 18.422sec] fit Y\n"
          ],
          "name": "stderr"
        },
        {
          "output_type": "stream",
          "text": [
            "fold 9: mean position error 2.0467220534249613\n",
            "*+*+*+*+*+*+*+*+*+*+*+*+*+*+*+*+*+*+*+*+*+*+*+*+*+*+*+*+*+*+*+*+*+*+*+*+*+*+*+*+\n",
            "file #10, shape=(10027, 2183), name=5d2709d403f801723c32bd39_train.csv\n",
            "mean position error 2.165133362664204\n",
            "*+*+*+*+*+*+*+*+*+*+*+*+*+*+*+*+*+*+*+*+*+*+*+*+*+*+*+*+*+*+*+*+*+*+*+*+*+*+*+*+\n"
          ],
          "name": "stdout"
        },
        {
          "output_type": "stream",
          "text": [
            "/usr/local/lib/python3.7/dist-packages/IPython/core/interactiveshell.py:2718: DtypeWarning: Columns (1314,1315,1316,1320) have mixed types.Specify dtype option on import or set low_memory=False.\n",
            "  interactivity=interactivity, compiler=compiler, result=result)\n",
            "\n",
            "\n",
            "\n",
            "\n",
            "  0%|          | 0/3 [00:00<?, ?it/s]\u001b[A\u001b[A\u001b[A\u001b[A\n",
            "\n",
            "\n",
            "\n",
            "100%|██████████| 3/3 [00:09<00:00,  3.29s/it]\n",
            "\n",
            "\n",
            "\n",
            "\n",
            "  0%|          | 0/3 [00:00<?, ?it/s]\u001b[A\u001b[A\u001b[A\u001b[A\n",
            "\n",
            "\n",
            "\n",
            "100%|██████████| 3/3 [00:00<00:00,  6.07it/s]\n"
          ],
          "name": "stderr"
        },
        {
          "output_type": "stream",
          "text": [
            "(11042, 1353)\n",
            "(531, 1351)\n"
          ],
          "name": "stdout"
        },
        {
          "output_type": "stream",
          "text": [
            "[13.6GB(-0.0GB): 11.766sec] fit X\n",
            "[13.6GB(+0.0GB): 11.338sec] fit Y\n"
          ],
          "name": "stderr"
        },
        {
          "output_type": "stream",
          "text": [
            "fold 0: mean position error 2.238583474349137\n"
          ],
          "name": "stdout"
        },
        {
          "output_type": "stream",
          "text": [
            "[13.6GB(+0.0GB): 12.021sec] fit X\n",
            "[13.6GB(+0.0GB): 10.713sec] fit Y\n"
          ],
          "name": "stderr"
        },
        {
          "output_type": "stream",
          "text": [
            "fold 1: mean position error 2.280899314798537\n"
          ],
          "name": "stdout"
        },
        {
          "output_type": "stream",
          "text": [
            "[13.6GB(+0.0GB): 12.525sec] fit X\n",
            "[13.6GB(+0.0GB): 10.868sec] fit Y\n"
          ],
          "name": "stderr"
        },
        {
          "output_type": "stream",
          "text": [
            "fold 2: mean position error 2.1926757829424215\n"
          ],
          "name": "stdout"
        },
        {
          "output_type": "stream",
          "text": [
            "[13.6GB(+0.0GB): 9.819sec] fit X\n",
            "[13.6GB(+0.0GB): 12.673sec] fit Y\n"
          ],
          "name": "stderr"
        },
        {
          "output_type": "stream",
          "text": [
            "fold 3: mean position error 2.3148434561583855\n"
          ],
          "name": "stdout"
        },
        {
          "output_type": "stream",
          "text": [
            "[13.6GB(+0.0GB): 14.350sec] fit X\n",
            "[13.6GB(+0.0GB): 12.111sec] fit Y\n"
          ],
          "name": "stderr"
        },
        {
          "output_type": "stream",
          "text": [
            "fold 4: mean position error 2.1816393180883416\n"
          ],
          "name": "stdout"
        },
        {
          "output_type": "stream",
          "text": [
            "[13.6GB(+0.0GB): 9.446sec] fit X\n",
            "[13.6GB(+0.0GB): 9.745sec] fit Y\n"
          ],
          "name": "stderr"
        },
        {
          "output_type": "stream",
          "text": [
            "fold 5: mean position error 2.266359136535614\n"
          ],
          "name": "stdout"
        },
        {
          "output_type": "stream",
          "text": [
            "[13.6GB(+0.0GB): 9.862sec] fit X\n",
            "[13.6GB(+0.0GB): 11.618sec] fit Y\n"
          ],
          "name": "stderr"
        },
        {
          "output_type": "stream",
          "text": [
            "fold 6: mean position error 2.3390292510037507\n"
          ],
          "name": "stdout"
        },
        {
          "output_type": "stream",
          "text": [
            "[13.6GB(+0.0GB): 8.274sec] fit X\n",
            "[13.6GB(+0.0GB): 12.727sec] fit Y\n"
          ],
          "name": "stderr"
        },
        {
          "output_type": "stream",
          "text": [
            "fold 7: mean position error 2.3454699194939135\n"
          ],
          "name": "stdout"
        },
        {
          "output_type": "stream",
          "text": [
            "[13.6GB(+0.0GB): 17.789sec] fit X\n",
            "[13.6GB(+0.0GB): 13.979sec] fit Y\n"
          ],
          "name": "stderr"
        },
        {
          "output_type": "stream",
          "text": [
            "fold 8: mean position error 2.1777535803301387\n"
          ],
          "name": "stdout"
        },
        {
          "output_type": "stream",
          "text": [
            "[13.6GB(+0.0GB): 13.921sec] fit X\n",
            "[13.6GB(+0.0GB): 13.163sec] fit Y\n"
          ],
          "name": "stderr"
        },
        {
          "output_type": "stream",
          "text": [
            "fold 9: mean position error 2.2574674733021545\n",
            "*+*+*+*+*+*+*+*+*+*+*+*+*+*+*+*+*+*+*+*+*+*+*+*+*+*+*+*+*+*+*+*+*+*+*+*+*+*+*+*+\n",
            "file #11, shape=(11042, 1353), name=5d2709e003f801723c32d896_train.csv\n",
            "mean position error 2.259472119481959\n",
            "*+*+*+*+*+*+*+*+*+*+*+*+*+*+*+*+*+*+*+*+*+*+*+*+*+*+*+*+*+*+*+*+*+*+*+*+*+*+*+*+\n"
          ],
          "name": "stdout"
        },
        {
          "output_type": "stream",
          "text": [
            "\n",
            "\n",
            "\n",
            "\n",
            "  0%|          | 0/3 [00:00<?, ?it/s]\u001b[A\u001b[A\u001b[A\u001b[A\n",
            "\n",
            "\n",
            "\n",
            "100%|██████████| 3/3 [00:00<00:00,  3.13it/s]\n",
            "\n",
            "\n",
            "\n",
            "\n",
            "100%|██████████| 3/3 [00:00<00:00, 60.27it/s]\n"
          ],
          "name": "stderr"
        },
        {
          "output_type": "stream",
          "text": [
            "(2662, 534)\n",
            "(103, 532)\n"
          ],
          "name": "stdout"
        },
        {
          "output_type": "stream",
          "text": [
            "[13.6GB(-0.0GB): 0.596sec] fit X\n",
            "[13.6GB(+0.0GB): 0.813sec] fit Y\n"
          ],
          "name": "stderr"
        },
        {
          "output_type": "stream",
          "text": [
            "fold 0: mean position error 2.878967791889205\n"
          ],
          "name": "stdout"
        },
        {
          "output_type": "stream",
          "text": [
            "[13.6GB(+0.0GB): 0.652sec] fit X\n",
            "[13.6GB(+0.0GB): 1.330sec] fit Y\n"
          ],
          "name": "stderr"
        },
        {
          "output_type": "stream",
          "text": [
            "fold 1: mean position error 2.625314756750075\n"
          ],
          "name": "stdout"
        },
        {
          "output_type": "stream",
          "text": [
            "[13.6GB(+0.0GB): 0.767sec] fit X\n",
            "[13.6GB(+0.0GB): 1.099sec] fit Y\n"
          ],
          "name": "stderr"
        },
        {
          "output_type": "stream",
          "text": [
            "fold 2: mean position error 2.5221883710527986\n"
          ],
          "name": "stdout"
        },
        {
          "output_type": "stream",
          "text": [
            "[13.6GB(+0.0GB): 1.422sec] fit X\n",
            "[13.6GB(+0.0GB): 1.542sec] fit Y\n"
          ],
          "name": "stderr"
        },
        {
          "output_type": "stream",
          "text": [
            "fold 3: mean position error 2.532898771615684\n"
          ],
          "name": "stdout"
        },
        {
          "output_type": "stream",
          "text": [
            "[13.6GB(+0.0GB): 1.155sec] fit X\n",
            "[13.6GB(+0.0GB): 1.033sec] fit Y\n"
          ],
          "name": "stderr"
        },
        {
          "output_type": "stream",
          "text": [
            "fold 4: mean position error 2.433235773195366\n"
          ],
          "name": "stdout"
        },
        {
          "output_type": "stream",
          "text": [
            "[13.6GB(+0.0GB): 1.161sec] fit X\n",
            "[13.6GB(+0.0GB): 1.914sec] fit Y\n"
          ],
          "name": "stderr"
        },
        {
          "output_type": "stream",
          "text": [
            "fold 5: mean position error 2.5141557308699807\n"
          ],
          "name": "stdout"
        },
        {
          "output_type": "stream",
          "text": [
            "[13.6GB(+0.0GB): 1.769sec] fit X\n",
            "[13.6GB(+0.0GB): 1.365sec] fit Y\n"
          ],
          "name": "stderr"
        },
        {
          "output_type": "stream",
          "text": [
            "fold 6: mean position error 2.6054833128381665\n"
          ],
          "name": "stdout"
        },
        {
          "output_type": "stream",
          "text": [
            "[13.6GB(+0.0GB): 2.046sec] fit X\n",
            "[13.6GB(+0.0GB): 1.027sec] fit Y\n"
          ],
          "name": "stderr"
        },
        {
          "output_type": "stream",
          "text": [
            "fold 7: mean position error 2.731921124248358\n"
          ],
          "name": "stdout"
        },
        {
          "output_type": "stream",
          "text": [
            "[13.6GB(+0.0GB): 0.949sec] fit X\n",
            "[13.6GB(+0.0GB): 1.088sec] fit Y\n"
          ],
          "name": "stderr"
        },
        {
          "output_type": "stream",
          "text": [
            "fold 8: mean position error 2.456666522935215\n"
          ],
          "name": "stdout"
        },
        {
          "output_type": "stream",
          "text": [
            "[13.6GB(+0.0GB): 1.053sec] fit X\n",
            "[13.6GB(+0.0GB): 1.181sec] fit Y\n"
          ],
          "name": "stderr"
        },
        {
          "output_type": "stream",
          "text": [
            "fold 9: mean position error 2.6226320841277047\n",
            "*+*+*+*+*+*+*+*+*+*+*+*+*+*+*+*+*+*+*+*+*+*+*+*+*+*+*+*+*+*+*+*+*+*+*+*+*+*+*+*+\n",
            "file #12, shape=(2662, 534), name=5da138274db8ce0c98bbd3d2_train.csv\n",
            "mean position error 2.5924664801884445\n",
            "*+*+*+*+*+*+*+*+*+*+*+*+*+*+*+*+*+*+*+*+*+*+*+*+*+*+*+*+*+*+*+*+*+*+*+*+*+*+*+*+\n"
          ],
          "name": "stdout"
        },
        {
          "output_type": "stream",
          "text": [
            "/usr/local/lib/python3.7/dist-packages/IPython/core/interactiveshell.py:2718: DtypeWarning: Columns (2867,2868,2869,2873) have mixed types.Specify dtype option on import or set low_memory=False.\n",
            "  interactivity=interactivity, compiler=compiler, result=result)\n",
            "\n",
            "\n",
            "\n",
            "\n",
            "  0%|          | 0/3 [00:00<?, ?it/s]\u001b[A\u001b[A\u001b[A\u001b[A\n",
            "\n",
            "\n",
            "\n",
            " 67%|██████▋   | 2/3 [00:17<00:08,  8.68s/it]\u001b[A\u001b[A\u001b[A\u001b[A\n",
            "\n",
            "\n",
            "\n",
            "100%|██████████| 3/3 [00:17<00:00,  5.83s/it]\n",
            "\n",
            "\n",
            "\n",
            "\n",
            "  0%|          | 0/3 [00:00<?, ?it/s]\u001b[A\u001b[A\u001b[A\u001b[A\n",
            "\n",
            "\n",
            "\n",
            "100%|██████████| 3/3 [00:00<00:00,  4.86it/s]\n"
          ],
          "name": "stderr"
        },
        {
          "output_type": "stream",
          "text": [
            "(8999, 2906)\n",
            "(311, 2904)\n"
          ],
          "name": "stdout"
        },
        {
          "output_type": "stream",
          "text": [
            "[13.4GB(-0.0GB): 14.411sec] fit X\n",
            "[13.4GB(+0.0GB): 16.609sec] fit Y\n"
          ],
          "name": "stderr"
        },
        {
          "output_type": "stream",
          "text": [
            "fold 0: mean position error 3.1344529584110132\n"
          ],
          "name": "stdout"
        },
        {
          "output_type": "stream",
          "text": [
            "[13.4GB(+0.0GB): 18.478sec] fit X\n",
            "[13.4GB(+0.0GB): 17.786sec] fit Y\n"
          ],
          "name": "stderr"
        },
        {
          "output_type": "stream",
          "text": [
            "fold 1: mean position error 2.9381264528553706\n"
          ],
          "name": "stdout"
        },
        {
          "output_type": "stream",
          "text": [
            "[13.4GB(+0.0GB): 15.089sec] fit X\n",
            "[13.4GB(+0.0GB): 16.634sec] fit Y\n"
          ],
          "name": "stderr"
        },
        {
          "output_type": "stream",
          "text": [
            "fold 2: mean position error 2.973875393479005\n"
          ],
          "name": "stdout"
        },
        {
          "output_type": "stream",
          "text": [
            "[13.4GB(+0.0GB): 16.672sec] fit X\n",
            "[13.4GB(+0.0GB): 22.480sec] fit Y\n"
          ],
          "name": "stderr"
        },
        {
          "output_type": "stream",
          "text": [
            "fold 3: mean position error 2.9659319442696748\n"
          ],
          "name": "stdout"
        },
        {
          "output_type": "stream",
          "text": [
            "[13.4GB(+0.0GB): 15.293sec] fit X\n",
            "[13.4GB(+0.0GB): 21.215sec] fit Y\n"
          ],
          "name": "stderr"
        },
        {
          "output_type": "stream",
          "text": [
            "fold 4: mean position error 3.0542833531990086\n"
          ],
          "name": "stdout"
        },
        {
          "output_type": "stream",
          "text": [
            "[13.4GB(+0.0GB): 17.857sec] fit X\n",
            "[13.4GB(+0.0GB): 17.003sec] fit Y\n"
          ],
          "name": "stderr"
        },
        {
          "output_type": "stream",
          "text": [
            "fold 5: mean position error 3.0082351086528467\n"
          ],
          "name": "stdout"
        },
        {
          "output_type": "stream",
          "text": [
            "[13.4GB(+0.0GB): 18.354sec] fit X\n",
            "[13.4GB(+0.0GB): 19.939sec] fit Y\n"
          ],
          "name": "stderr"
        },
        {
          "output_type": "stream",
          "text": [
            "fold 6: mean position error 3.0126438063696868\n"
          ],
          "name": "stdout"
        },
        {
          "output_type": "stream",
          "text": [
            "[13.4GB(-0.0GB): 20.859sec] fit X\n",
            "[13.4GB(+0.0GB): 17.511sec] fit Y\n"
          ],
          "name": "stderr"
        },
        {
          "output_type": "stream",
          "text": [
            "fold 7: mean position error 3.046614068556107\n"
          ],
          "name": "stdout"
        },
        {
          "output_type": "stream",
          "text": [
            "[13.4GB(+0.0GB): 18.860sec] fit X\n",
            "[13.4GB(+0.0GB): 16.828sec] fit Y\n"
          ],
          "name": "stderr"
        },
        {
          "output_type": "stream",
          "text": [
            "fold 8: mean position error 2.9400219144550648\n"
          ],
          "name": "stdout"
        },
        {
          "output_type": "stream",
          "text": [
            "[13.4GB(+0.0GB): 14.501sec] fit X\n",
            "[13.4GB(+0.0GB): 16.730sec] fit Y\n"
          ],
          "name": "stderr"
        },
        {
          "output_type": "stream",
          "text": [
            "fold 9: mean position error 3.022099345234142\n",
            "*+*+*+*+*+*+*+*+*+*+*+*+*+*+*+*+*+*+*+*+*+*+*+*+*+*+*+*+*+*+*+*+*+*+*+*+*+*+*+*+\n",
            "file #13, shape=(8999, 2906), name=5da1382d4db8ce0c98bbe92e_train.csv\n",
            "mean position error 3.00962704873747\n",
            "*+*+*+*+*+*+*+*+*+*+*+*+*+*+*+*+*+*+*+*+*+*+*+*+*+*+*+*+*+*+*+*+*+*+*+*+*+*+*+*+\n"
          ],
          "name": "stdout"
        },
        {
          "output_type": "stream",
          "text": [
            "\n",
            "\n",
            "\n",
            "\n",
            "  0%|          | 0/3 [00:00<?, ?it/s]\u001b[A\u001b[A\u001b[A\u001b[A\n",
            "\n",
            "\n",
            "\n",
            "100%|██████████| 3/3 [00:07<00:00,  2.48s/it]\n",
            "\n",
            "\n",
            "\n",
            "\n",
            "  0%|          | 0/3 [00:00<?, ?it/s]\u001b[A\u001b[A\u001b[A\u001b[A\n",
            "\n",
            "\n",
            "\n",
            "100%|██████████| 3/3 [00:00<00:00, 18.01it/s]\n"
          ],
          "name": "stderr"
        },
        {
          "output_type": "stream",
          "text": [
            "(9012, 1256)\n",
            "(171, 1254)\n"
          ],
          "name": "stdout"
        },
        {
          "output_type": "stream",
          "text": [
            "[13.5GB(+0.0GB): 11.258sec] fit X\n",
            "[13.5GB(+0.0GB): 8.036sec] fit Y\n"
          ],
          "name": "stderr"
        },
        {
          "output_type": "stream",
          "text": [
            "fold 0: mean position error 1.5918530509988307\n"
          ],
          "name": "stdout"
        },
        {
          "output_type": "stream",
          "text": [
            "[13.5GB(+0.0GB): 8.875sec] fit X\n",
            "[13.5GB(+0.0GB): 7.262sec] fit Y\n"
          ],
          "name": "stderr"
        },
        {
          "output_type": "stream",
          "text": [
            "fold 1: mean position error 1.5656557143590364\n"
          ],
          "name": "stdout"
        },
        {
          "output_type": "stream",
          "text": [
            "[13.5GB(+0.0GB): 11.446sec] fit X\n",
            "[13.5GB(+0.0GB): 9.488sec] fit Y\n"
          ],
          "name": "stderr"
        },
        {
          "output_type": "stream",
          "text": [
            "fold 2: mean position error 1.6447015825353037\n"
          ],
          "name": "stdout"
        },
        {
          "output_type": "stream",
          "text": [
            "[13.5GB(+0.0GB): 15.362sec] fit X\n",
            "[13.5GB(+0.0GB): 9.761sec] fit Y\n"
          ],
          "name": "stderr"
        },
        {
          "output_type": "stream",
          "text": [
            "fold 3: mean position error 1.5965108678655222\n"
          ],
          "name": "stdout"
        },
        {
          "output_type": "stream",
          "text": [
            "[13.5GB(+0.0GB): 12.454sec] fit X\n",
            "[13.5GB(+0.0GB): 10.405sec] fit Y\n"
          ],
          "name": "stderr"
        },
        {
          "output_type": "stream",
          "text": [
            "fold 4: mean position error 1.572334427699168\n"
          ],
          "name": "stdout"
        },
        {
          "output_type": "stream",
          "text": [
            "[13.5GB(+0.0GB): 9.379sec] fit X\n",
            "[13.5GB(+0.0GB): 9.815sec] fit Y\n"
          ],
          "name": "stderr"
        },
        {
          "output_type": "stream",
          "text": [
            "fold 5: mean position error 1.5161695774838437\n"
          ],
          "name": "stdout"
        },
        {
          "output_type": "stream",
          "text": [
            "[13.5GB(+0.0GB): 11.338sec] fit X\n",
            "[13.5GB(+0.0GB): 8.335sec] fit Y\n"
          ],
          "name": "stderr"
        },
        {
          "output_type": "stream",
          "text": [
            "fold 6: mean position error 1.5265076474046007\n"
          ],
          "name": "stdout"
        },
        {
          "output_type": "stream",
          "text": [
            "[13.5GB(+0.0GB): 9.903sec] fit X\n",
            "[13.5GB(+0.0GB): 11.748sec] fit Y\n"
          ],
          "name": "stderr"
        },
        {
          "output_type": "stream",
          "text": [
            "fold 7: mean position error 1.5802159081236782\n"
          ],
          "name": "stdout"
        },
        {
          "output_type": "stream",
          "text": [
            "[13.5GB(+0.0GB): 7.886sec] fit X\n",
            "[13.5GB(+0.0GB): 10.923sec] fit Y\n"
          ],
          "name": "stderr"
        },
        {
          "output_type": "stream",
          "text": [
            "fold 8: mean position error 1.5878971955185306\n"
          ],
          "name": "stdout"
        },
        {
          "output_type": "stream",
          "text": [
            "[13.5GB(+0.0GB): 9.266sec] fit X\n",
            "[13.5GB(+0.0GB): 6.562sec] fit Y\n"
          ],
          "name": "stderr"
        },
        {
          "output_type": "stream",
          "text": [
            "fold 9: mean position error 1.6729896974338914\n",
            "*+*+*+*+*+*+*+*+*+*+*+*+*+*+*+*+*+*+*+*+*+*+*+*+*+*+*+*+*+*+*+*+*+*+*+*+*+*+*+*+\n",
            "file #14, shape=(9012, 1256), name=5da138314db8ce0c98bbf3a0_train.csv\n",
            "mean position error 1.585482073559137\n",
            "*+*+*+*+*+*+*+*+*+*+*+*+*+*+*+*+*+*+*+*+*+*+*+*+*+*+*+*+*+*+*+*+*+*+*+*+*+*+*+*+\n"
          ],
          "name": "stdout"
        },
        {
          "output_type": "stream",
          "text": [
            "\n",
            "\n",
            "\n",
            "\n",
            "  0%|          | 0/3 [00:00<?, ?it/s]\u001b[A\u001b[A\u001b[A\u001b[A\n",
            "\n",
            "\n",
            "\n",
            "100%|██████████| 3/3 [00:01<00:00,  1.87it/s]\n",
            "\n",
            "\n",
            "\n",
            "\n",
            "100%|██████████| 3/3 [00:00<00:00, 30.96it/s]\n"
          ],
          "name": "stderr"
        },
        {
          "output_type": "stream",
          "text": [
            "(2767, 866)\n",
            "(139, 864)\n"
          ],
          "name": "stdout"
        },
        {
          "output_type": "stream",
          "text": [
            "[13.5GB(+0.0GB): 1.462sec] fit X\n",
            "[13.5GB(+0.0GB): 1.602sec] fit Y\n"
          ],
          "name": "stderr"
        },
        {
          "output_type": "stream",
          "text": [
            "fold 0: mean position error 1.5100291182013394\n"
          ],
          "name": "stdout"
        },
        {
          "output_type": "stream",
          "text": [
            "[13.5GB(+0.0GB): 1.986sec] fit X\n",
            "[13.5GB(+0.0GB): 1.213sec] fit Y\n"
          ],
          "name": "stderr"
        },
        {
          "output_type": "stream",
          "text": [
            "fold 1: mean position error 1.6769951258093825\n"
          ],
          "name": "stdout"
        },
        {
          "output_type": "stream",
          "text": [
            "[13.5GB(+0.0GB): 2.150sec] fit X\n",
            "[13.5GB(+0.0GB): 1.725sec] fit Y\n"
          ],
          "name": "stderr"
        },
        {
          "output_type": "stream",
          "text": [
            "fold 2: mean position error 1.762001883975623\n"
          ],
          "name": "stdout"
        },
        {
          "output_type": "stream",
          "text": [
            "[13.5GB(+0.0GB): 0.937sec] fit X\n",
            "[13.5GB(+0.0GB): 1.322sec] fit Y\n"
          ],
          "name": "stderr"
        },
        {
          "output_type": "stream",
          "text": [
            "fold 3: mean position error 1.7481326276524427\n"
          ],
          "name": "stdout"
        },
        {
          "output_type": "stream",
          "text": [
            "[13.5GB(+0.0GB): 1.551sec] fit X\n",
            "[13.5GB(+0.0GB): 2.229sec] fit Y\n"
          ],
          "name": "stderr"
        },
        {
          "output_type": "stream",
          "text": [
            "fold 4: mean position error 1.5211220026725454\n"
          ],
          "name": "stdout"
        },
        {
          "output_type": "stream",
          "text": [
            "[13.5GB(+0.0GB): 1.500sec] fit X\n",
            "[13.5GB(+0.0GB): 1.880sec] fit Y\n"
          ],
          "name": "stderr"
        },
        {
          "output_type": "stream",
          "text": [
            "fold 5: mean position error 1.4773423614918328\n"
          ],
          "name": "stdout"
        },
        {
          "output_type": "stream",
          "text": [
            "[13.5GB(+0.0GB): 1.895sec] fit X\n",
            "[13.5GB(+0.0GB): 2.095sec] fit Y\n"
          ],
          "name": "stderr"
        },
        {
          "output_type": "stream",
          "text": [
            "fold 6: mean position error 1.6918984297288246\n"
          ],
          "name": "stdout"
        },
        {
          "output_type": "stream",
          "text": [
            "[13.5GB(+0.0GB): 2.081sec] fit X\n",
            "[13.5GB(+0.0GB): 1.459sec] fit Y\n"
          ],
          "name": "stderr"
        },
        {
          "output_type": "stream",
          "text": [
            "fold 7: mean position error 1.754233112986158\n"
          ],
          "name": "stdout"
        },
        {
          "output_type": "stream",
          "text": [
            "[13.5GB(+0.0GB): 1.186sec] fit X\n",
            "[13.5GB(+0.0GB): 1.409sec] fit Y\n"
          ],
          "name": "stderr"
        },
        {
          "output_type": "stream",
          "text": [
            "fold 8: mean position error 1.5563088723084986\n"
          ],
          "name": "stdout"
        },
        {
          "output_type": "stream",
          "text": [
            "[13.5GB(+0.0GB): 1.570sec] fit X\n",
            "[13.5GB(+0.0GB): 1.566sec] fit Y\n"
          ],
          "name": "stderr"
        },
        {
          "output_type": "stream",
          "text": [
            "fold 9: mean position error 1.755051519339281\n",
            "*+*+*+*+*+*+*+*+*+*+*+*+*+*+*+*+*+*+*+*+*+*+*+*+*+*+*+*+*+*+*+*+*+*+*+*+*+*+*+*+\n",
            "file #15, shape=(2767, 866), name=5da138364db8ce0c98bc00f1_train.csv\n",
            "mean position error 1.6452646463676646\n",
            "*+*+*+*+*+*+*+*+*+*+*+*+*+*+*+*+*+*+*+*+*+*+*+*+*+*+*+*+*+*+*+*+*+*+*+*+*+*+*+*+\n"
          ],
          "name": "stdout"
        },
        {
          "output_type": "stream",
          "text": [
            "/usr/local/lib/python3.7/dist-packages/IPython/core/interactiveshell.py:2718: DtypeWarning: Columns (1530,1531,1532,1536) have mixed types.Specify dtype option on import or set low_memory=False.\n",
            "  interactivity=interactivity, compiler=compiler, result=result)\n",
            "\n",
            "\n",
            "\n",
            "\n",
            "  0%|          | 0/3 [00:00<?, ?it/s]\u001b[A\u001b[A\u001b[A\u001b[A\n",
            "\n",
            "\n",
            "\n",
            " 67%|██████▋   | 2/3 [00:13<00:06,  6.78s/it]\u001b[A\u001b[A\u001b[A\u001b[A\n",
            "\n",
            "\n",
            "\n",
            "100%|██████████| 3/3 [00:13<00:00,  4.55s/it]\n",
            "\n",
            "\n",
            "\n",
            "\n",
            "  0%|          | 0/3 [00:00<?, ?it/s]\u001b[A\u001b[A\u001b[A\u001b[A\n",
            "\n",
            "\n",
            "\n",
            "100%|██████████| 3/3 [00:00<00:00,  6.90it/s]\n"
          ],
          "name": "stderr"
        },
        {
          "output_type": "stream",
          "text": [
            "(13196, 1569)\n",
            "(380, 1567)\n"
          ],
          "name": "stdout"
        },
        {
          "output_type": "stream",
          "text": [
            "[13.2GB(+0.0GB): 20.836sec] fit X\n",
            "[13.2GB(+0.0GB): 19.753sec] fit Y\n"
          ],
          "name": "stderr"
        },
        {
          "output_type": "stream",
          "text": [
            "fold 0: mean position error 2.517529832348023\n"
          ],
          "name": "stdout"
        },
        {
          "output_type": "stream",
          "text": [
            "[13.2GB(+0.0GB): 10.468sec] fit X\n",
            "[13.2GB(+0.0GB): 10.602sec] fit Y\n"
          ],
          "name": "stderr"
        },
        {
          "output_type": "stream",
          "text": [
            "fold 1: mean position error 2.5267235289026484\n"
          ],
          "name": "stdout"
        },
        {
          "output_type": "stream",
          "text": [
            "[13.2GB(+0.0GB): 12.984sec] fit X\n",
            "[13.2GB(+0.0GB): 19.310sec] fit Y\n"
          ],
          "name": "stderr"
        },
        {
          "output_type": "stream",
          "text": [
            "fold 2: mean position error 2.4489804756209126\n"
          ],
          "name": "stdout"
        },
        {
          "output_type": "stream",
          "text": [
            "[13.2GB(+0.0GB): 7.805sec] fit X\n",
            "[13.2GB(+0.0GB): 19.405sec] fit Y\n"
          ],
          "name": "stderr"
        },
        {
          "output_type": "stream",
          "text": [
            "fold 3: mean position error 2.4741364963760146\n"
          ],
          "name": "stdout"
        },
        {
          "output_type": "stream",
          "text": [
            "[13.2GB(+0.0GB): 17.310sec] fit X\n",
            "[13.2GB(+0.0GB): 18.696sec] fit Y\n"
          ],
          "name": "stderr"
        },
        {
          "output_type": "stream",
          "text": [
            "fold 4: mean position error 2.4472995340783945\n"
          ],
          "name": "stdout"
        },
        {
          "output_type": "stream",
          "text": [
            "[13.2GB(+0.0GB): 15.082sec] fit X\n",
            "[13.2GB(+0.0GB): 16.883sec] fit Y\n"
          ],
          "name": "stderr"
        },
        {
          "output_type": "stream",
          "text": [
            "fold 5: mean position error 2.3461199675860493\n"
          ],
          "name": "stdout"
        },
        {
          "output_type": "stream",
          "text": [
            "[13.2GB(+0.0GB): 19.589sec] fit X\n",
            "[13.2GB(+0.0GB): 23.354sec] fit Y\n"
          ],
          "name": "stderr"
        },
        {
          "output_type": "stream",
          "text": [
            "fold 6: mean position error 2.3339766217250957\n"
          ],
          "name": "stdout"
        },
        {
          "output_type": "stream",
          "text": [
            "[13.2GB(+0.0GB): 17.470sec] fit X\n",
            "[13.2GB(+0.0GB): 21.264sec] fit Y\n"
          ],
          "name": "stderr"
        },
        {
          "output_type": "stream",
          "text": [
            "fold 7: mean position error 2.340004287913779\n"
          ],
          "name": "stdout"
        },
        {
          "output_type": "stream",
          "text": [
            "[13.2GB(+0.0GB): 13.939sec] fit X\n",
            "[13.2GB(+0.0GB): 13.218sec] fit Y\n"
          ],
          "name": "stderr"
        },
        {
          "output_type": "stream",
          "text": [
            "fold 8: mean position error 2.3704828657952612\n"
          ],
          "name": "stdout"
        },
        {
          "output_type": "stream",
          "text": [
            "[13.2GB(+0.0GB): 15.228sec] fit X\n",
            "[13.2GB(+0.0GB): 15.164sec] fit Y\n"
          ],
          "name": "stderr"
        },
        {
          "output_type": "stream",
          "text": [
            "fold 9: mean position error 2.4897828385596723\n",
            "*+*+*+*+*+*+*+*+*+*+*+*+*+*+*+*+*+*+*+*+*+*+*+*+*+*+*+*+*+*+*+*+*+*+*+*+*+*+*+*+\n",
            "file #16, shape=(13196, 1569), name=5da1383b4db8ce0c98bc11ab_train.csv\n",
            "mean position error 2.429517570926169\n",
            "*+*+*+*+*+*+*+*+*+*+*+*+*+*+*+*+*+*+*+*+*+*+*+*+*+*+*+*+*+*+*+*+*+*+*+*+*+*+*+*+\n"
          ],
          "name": "stdout"
        },
        {
          "output_type": "stream",
          "text": [
            "/usr/local/lib/python3.7/dist-packages/IPython/core/interactiveshell.py:2718: DtypeWarning: Columns (1632,1633,1634,1638) have mixed types.Specify dtype option on import or set low_memory=False.\n",
            "  interactivity=interactivity, compiler=compiler, result=result)\n",
            "\n",
            "\n",
            "\n",
            "\n",
            "  0%|          | 0/3 [00:00<?, ?it/s]\u001b[A\u001b[A\u001b[A\u001b[A\n",
            "\n",
            "\n",
            "\n",
            "100%|██████████| 3/3 [00:08<00:00,  2.67s/it]\n",
            "\n",
            "\n",
            "\n",
            "\n",
            "  0%|          | 0/3 [00:00<?, ?it/s]\u001b[A\u001b[A\u001b[A\u001b[A\n",
            "\n",
            "\n",
            "\n",
            "100%|██████████| 3/3 [00:00<00:00,  6.93it/s]\n"
          ],
          "name": "stderr"
        },
        {
          "output_type": "stream",
          "text": [
            "(7188, 1671)\n",
            "(386, 1669)\n"
          ],
          "name": "stdout"
        },
        {
          "output_type": "stream",
          "text": [
            "[13.2GB(+0.0GB): 5.272sec] fit X\n",
            "[13.2GB(-0.0GB): 6.463sec] fit Y\n"
          ],
          "name": "stderr"
        },
        {
          "output_type": "stream",
          "text": [
            "fold 0: mean position error 2.0731435906048756\n"
          ],
          "name": "stdout"
        },
        {
          "output_type": "stream",
          "text": [
            "[13.2GB(+0.0GB): 5.694sec] fit X\n",
            "[13.2GB(+0.0GB): 6.721sec] fit Y\n"
          ],
          "name": "stderr"
        },
        {
          "output_type": "stream",
          "text": [
            "fold 1: mean position error 2.0756402933885703\n"
          ],
          "name": "stdout"
        },
        {
          "output_type": "stream",
          "text": [
            "[13.2GB(+0.0GB): 4.452sec] fit X\n",
            "[13.2GB(+0.0GB): 6.422sec] fit Y\n"
          ],
          "name": "stderr"
        },
        {
          "output_type": "stream",
          "text": [
            "fold 2: mean position error 2.1008281701217975\n"
          ],
          "name": "stdout"
        },
        {
          "output_type": "stream",
          "text": [
            "[13.2GB(+0.0GB): 4.888sec] fit X\n",
            "[13.2GB(+0.0GB): 6.802sec] fit Y\n"
          ],
          "name": "stderr"
        },
        {
          "output_type": "stream",
          "text": [
            "fold 3: mean position error 2.1569735599025814\n"
          ],
          "name": "stdout"
        },
        {
          "output_type": "stream",
          "text": [
            "[13.2GB(+0.0GB): 5.627sec] fit X\n",
            "[13.2GB(+0.0GB): 7.273sec] fit Y\n"
          ],
          "name": "stderr"
        },
        {
          "output_type": "stream",
          "text": [
            "fold 4: mean position error 1.9976422335005966\n"
          ],
          "name": "stdout"
        },
        {
          "output_type": "stream",
          "text": [
            "[13.2GB(+0.0GB): 6.364sec] fit X\n",
            "[13.2GB(+0.0GB): 5.074sec] fit Y\n"
          ],
          "name": "stderr"
        },
        {
          "output_type": "stream",
          "text": [
            "fold 5: mean position error 2.0083884548695585\n"
          ],
          "name": "stdout"
        },
        {
          "output_type": "stream",
          "text": [
            "[13.2GB(+0.0GB): 4.996sec] fit X\n",
            "[13.2GB(+0.0GB): 6.021sec] fit Y\n"
          ],
          "name": "stderr"
        },
        {
          "output_type": "stream",
          "text": [
            "fold 6: mean position error 2.108210775169095\n"
          ],
          "name": "stdout"
        },
        {
          "output_type": "stream",
          "text": [
            "[13.2GB(+0.0GB): 4.084sec] fit X\n",
            "[13.2GB(+0.0GB): 7.943sec] fit Y\n"
          ],
          "name": "stderr"
        },
        {
          "output_type": "stream",
          "text": [
            "fold 7: mean position error 2.1602741997726564\n"
          ],
          "name": "stdout"
        },
        {
          "output_type": "stream",
          "text": [
            "[13.2GB(+0.0GB): 4.355sec] fit X\n",
            "[13.2GB(+0.0GB): 10.136sec] fit Y\n"
          ],
          "name": "stderr"
        },
        {
          "output_type": "stream",
          "text": [
            "fold 8: mean position error 1.928472722493318\n"
          ],
          "name": "stdout"
        },
        {
          "output_type": "stream",
          "text": [
            "[13.2GB(+0.0GB): 10.417sec] fit X\n",
            "[13.2GB(+0.0GB): 6.500sec] fit Y\n"
          ],
          "name": "stderr"
        },
        {
          "output_type": "stream",
          "text": [
            "fold 9: mean position error 2.2265549558126536\n",
            "*+*+*+*+*+*+*+*+*+*+*+*+*+*+*+*+*+*+*+*+*+*+*+*+*+*+*+*+*+*+*+*+*+*+*+*+*+*+*+*+\n",
            "file #17, shape=(7188, 1671), name=5da138754db8ce0c98bca82f_train.csv\n",
            "mean position error 2.0836145925742575\n",
            "*+*+*+*+*+*+*+*+*+*+*+*+*+*+*+*+*+*+*+*+*+*+*+*+*+*+*+*+*+*+*+*+*+*+*+*+*+*+*+*+\n"
          ],
          "name": "stdout"
        },
        {
          "output_type": "stream",
          "text": [
            "\n",
            "\n",
            "\n",
            "\n",
            "  0%|          | 0/3 [00:00<?, ?it/s]\u001b[A\u001b[A\u001b[A\u001b[A\n",
            "\n",
            "\n",
            "\n",
            "100%|██████████| 3/3 [00:12<00:00,  4.01s/it]\n",
            "\n",
            "\n",
            "\n",
            "\n",
            "  0%|          | 0/3 [00:00<?, ?it/s]\u001b[A\u001b[A\u001b[A\u001b[A\n",
            "\n",
            "\n",
            "\n",
            "100%|██████████| 3/3 [00:00<00:00,  4.01it/s]\n"
          ],
          "name": "stderr"
        },
        {
          "output_type": "stream",
          "text": [
            "(9420, 1932)\n",
            "(573, 1930)\n"
          ],
          "name": "stdout"
        },
        {
          "output_type": "stream",
          "text": [
            "[13.1GB(+0.1GB): 11.363sec] fit X\n",
            "[13.1GB(+0.0GB): 13.449sec] fit Y\n"
          ],
          "name": "stderr"
        },
        {
          "output_type": "stream",
          "text": [
            "fold 0: mean position error 2.7287834883012194\n"
          ],
          "name": "stdout"
        },
        {
          "output_type": "stream",
          "text": [
            "[13.1GB(+0.0GB): 9.284sec] fit X\n",
            "[13.1GB(+0.0GB): 13.923sec] fit Y\n"
          ],
          "name": "stderr"
        },
        {
          "output_type": "stream",
          "text": [
            "fold 1: mean position error 2.469537222216376\n"
          ],
          "name": "stdout"
        },
        {
          "output_type": "stream",
          "text": [
            "[13.1GB(+0.0GB): 15.936sec] fit X\n",
            "[13.1GB(+0.0GB): 9.806sec] fit Y\n"
          ],
          "name": "stderr"
        },
        {
          "output_type": "stream",
          "text": [
            "fold 2: mean position error 2.4756980342959296\n"
          ],
          "name": "stdout"
        },
        {
          "output_type": "stream",
          "text": [
            "[13.1GB(+0.0GB): 9.407sec] fit X\n",
            "[13.1GB(+0.0GB): 14.625sec] fit Y\n"
          ],
          "name": "stderr"
        },
        {
          "output_type": "stream",
          "text": [
            "fold 3: mean position error 2.6970223324900418\n"
          ],
          "name": "stdout"
        },
        {
          "output_type": "stream",
          "text": [
            "[13.1GB(+0.0GB): 8.549sec] fit X\n",
            "[13.1GB(+0.0GB): 12.328sec] fit Y\n"
          ],
          "name": "stderr"
        },
        {
          "output_type": "stream",
          "text": [
            "fold 4: mean position error 2.687089571039523\n"
          ],
          "name": "stdout"
        },
        {
          "output_type": "stream",
          "text": [
            "[13.1GB(+0.0GB): 15.150sec] fit X\n",
            "[13.1GB(+0.0GB): 12.625sec] fit Y\n"
          ],
          "name": "stderr"
        },
        {
          "output_type": "stream",
          "text": [
            "fold 5: mean position error 2.6675853812991885\n"
          ],
          "name": "stdout"
        },
        {
          "output_type": "stream",
          "text": [
            "[13.1GB(+0.0GB): 11.064sec] fit X\n",
            "[13.1GB(+0.0GB): 13.263sec] fit Y\n"
          ],
          "name": "stderr"
        },
        {
          "output_type": "stream",
          "text": [
            "fold 6: mean position error 2.515539182056883\n"
          ],
          "name": "stdout"
        },
        {
          "output_type": "stream",
          "text": [
            "[13.1GB(+0.0GB): 12.463sec] fit X\n",
            "[13.1GB(+0.0GB): 10.820sec] fit Y\n"
          ],
          "name": "stderr"
        },
        {
          "output_type": "stream",
          "text": [
            "fold 7: mean position error 2.7627592811329498\n"
          ],
          "name": "stdout"
        },
        {
          "output_type": "stream",
          "text": [
            "[13.1GB(+0.0GB): 13.115sec] fit X\n",
            "[13.1GB(+0.0GB): 11.286sec] fit Y\n"
          ],
          "name": "stderr"
        },
        {
          "output_type": "stream",
          "text": [
            "fold 8: mean position error 2.5468520850079517\n"
          ],
          "name": "stdout"
        },
        {
          "output_type": "stream",
          "text": [
            "[13.1GB(+0.0GB): 11.239sec] fit X\n",
            "[13.1GB(+0.0GB): 10.280sec] fit Y\n"
          ],
          "name": "stderr"
        },
        {
          "output_type": "stream",
          "text": [
            "fold 9: mean position error 2.7176472182278872\n",
            "*+*+*+*+*+*+*+*+*+*+*+*+*+*+*+*+*+*+*+*+*+*+*+*+*+*+*+*+*+*+*+*+*+*+*+*+*+*+*+*+\n",
            "file #18, shape=(9420, 1932), name=5da138764db8ce0c98bcaa46_train.csv\n",
            "mean position error 2.626851379606795\n",
            "*+*+*+*+*+*+*+*+*+*+*+*+*+*+*+*+*+*+*+*+*+*+*+*+*+*+*+*+*+*+*+*+*+*+*+*+*+*+*+*+\n"
          ],
          "name": "stdout"
        },
        {
          "output_type": "stream",
          "text": [
            "/usr/local/lib/python3.7/dist-packages/IPython/core/interactiveshell.py:2718: DtypeWarning: Columns (1026,1027,1028,1032) have mixed types.Specify dtype option on import or set low_memory=False.\n",
            "  interactivity=interactivity, compiler=compiler, result=result)\n",
            "\n",
            "\n",
            "\n",
            "\n",
            "  0%|          | 0/3 [00:00<?, ?it/s]\u001b[A\u001b[A\u001b[A\u001b[A\n",
            "\n",
            "\n",
            "\n",
            "100%|██████████| 3/3 [00:04<00:00,  1.50s/it]\n",
            "\n",
            "\n",
            "\n",
            "\n",
            "  0%|          | 0/3 [00:00<?, ?it/s]\u001b[A\u001b[A\u001b[A\u001b[A\n",
            "\n",
            "\n",
            "\n",
            "100%|██████████| 3/3 [00:00<00:00, 21.43it/s]\n"
          ],
          "name": "stderr"
        },
        {
          "output_type": "stream",
          "text": [
            "(6312, 1065)\n",
            "(174, 1063)\n"
          ],
          "name": "stdout"
        },
        {
          "output_type": "stream",
          "text": [
            "[13.2GB(+0.0GB): 3.417sec] fit X\n",
            "[13.2GB(+0.0GB): 2.334sec] fit Y\n"
          ],
          "name": "stderr"
        },
        {
          "output_type": "stream",
          "text": [
            "fold 0: mean position error 3.0228172857788596\n"
          ],
          "name": "stdout"
        },
        {
          "output_type": "stream",
          "text": [
            "[13.2GB(+0.0GB): 3.119sec] fit X\n",
            "[13.2GB(+0.0GB): 3.123sec] fit Y\n"
          ],
          "name": "stderr"
        },
        {
          "output_type": "stream",
          "text": [
            "fold 1: mean position error 3.176588500612211\n"
          ],
          "name": "stdout"
        },
        {
          "output_type": "stream",
          "text": [
            "[13.2GB(+0.0GB): 2.902sec] fit X\n",
            "[13.2GB(+0.0GB): 3.295sec] fit Y\n"
          ],
          "name": "stderr"
        },
        {
          "output_type": "stream",
          "text": [
            "fold 2: mean position error 3.015207350705427\n"
          ],
          "name": "stdout"
        },
        {
          "output_type": "stream",
          "text": [
            "[13.2GB(+0.0GB): 3.847sec] fit X\n",
            "[13.2GB(+0.0GB): 3.064sec] fit Y\n"
          ],
          "name": "stderr"
        },
        {
          "output_type": "stream",
          "text": [
            "fold 3: mean position error 3.050575009892287\n"
          ],
          "name": "stdout"
        },
        {
          "output_type": "stream",
          "text": [
            "[13.2GB(+0.0GB): 3.991sec] fit X\n",
            "[13.2GB(+0.0GB): 2.424sec] fit Y\n"
          ],
          "name": "stderr"
        },
        {
          "output_type": "stream",
          "text": [
            "fold 4: mean position error 2.9778090974879547\n"
          ],
          "name": "stdout"
        },
        {
          "output_type": "stream",
          "text": [
            "[13.2GB(+0.0GB): 3.670sec] fit X\n",
            "[13.2GB(+0.0GB): 3.983sec] fit Y\n"
          ],
          "name": "stderr"
        },
        {
          "output_type": "stream",
          "text": [
            "fold 5: mean position error 2.932756209417162\n"
          ],
          "name": "stdout"
        },
        {
          "output_type": "stream",
          "text": [
            "[13.2GB(+0.0GB): 3.814sec] fit X\n",
            "[13.2GB(+0.0GB): 4.097sec] fit Y\n"
          ],
          "name": "stderr"
        },
        {
          "output_type": "stream",
          "text": [
            "fold 6: mean position error 2.9630549710892056\n"
          ],
          "name": "stdout"
        },
        {
          "output_type": "stream",
          "text": [
            "[13.2GB(+0.0GB): 2.906sec] fit X\n",
            "[13.2GB(+0.0GB): 2.692sec] fit Y\n"
          ],
          "name": "stderr"
        },
        {
          "output_type": "stream",
          "text": [
            "fold 7: mean position error 3.2648136496033073\n"
          ],
          "name": "stdout"
        },
        {
          "output_type": "stream",
          "text": [
            "[13.2GB(+0.0GB): 4.402sec] fit X\n",
            "[13.2GB(+0.0GB): 2.910sec] fit Y\n"
          ],
          "name": "stderr"
        },
        {
          "output_type": "stream",
          "text": [
            "fold 8: mean position error 3.152568920244371\n"
          ],
          "name": "stdout"
        },
        {
          "output_type": "stream",
          "text": [
            "[13.2GB(+0.0GB): 4.443sec] fit X\n",
            "[13.2GB(+0.0GB): 4.202sec] fit Y\n"
          ],
          "name": "stderr"
        },
        {
          "output_type": "stream",
          "text": [
            "fold 9: mean position error 2.8998529322488613\n",
            "*+*+*+*+*+*+*+*+*+*+*+*+*+*+*+*+*+*+*+*+*+*+*+*+*+*+*+*+*+*+*+*+*+*+*+*+*+*+*+*+\n",
            "file #19, shape=(6312, 1065), name=5da1389e4db8ce0c98bd0547_train.csv\n",
            "mean position error 3.045621534184672\n",
            "*+*+*+*+*+*+*+*+*+*+*+*+*+*+*+*+*+*+*+*+*+*+*+*+*+*+*+*+*+*+*+*+*+*+*+*+*+*+*+*+\n"
          ],
          "name": "stdout"
        },
        {
          "output_type": "stream",
          "text": [
            "/usr/local/lib/python3.7/dist-packages/IPython/core/interactiveshell.py:2718: DtypeWarning: Columns (3540,3541,3542,3546) have mixed types.Specify dtype option on import or set low_memory=False.\n",
            "  interactivity=interactivity, compiler=compiler, result=result)\n",
            "\n",
            "\n",
            "\n",
            "\n",
            "  0%|          | 0/3 [00:00<?, ?it/s]\u001b[A\u001b[A\u001b[A\u001b[A\n",
            "\n",
            "\n",
            "\n",
            " 67%|██████▋   | 2/3 [00:41<00:20, 20.55s/it]\u001b[A\u001b[A\u001b[A\u001b[A\n",
            "\n",
            "\n",
            "\n",
            "100%|██████████| 3/3 [00:41<00:00, 13.79s/it]\n",
            "\n",
            "\n",
            "\n",
            "\n",
            "  0%|          | 0/3 [00:00<?, ?it/s]\u001b[A\u001b[A\u001b[A\u001b[A\n",
            "\n",
            "\n",
            "\n",
            "100%|██████████| 3/3 [00:01<00:00,  2.76it/s]\n"
          ],
          "name": "stderr"
        },
        {
          "output_type": "stream",
          "text": [
            "(17382, 3579)\n",
            "(445, 3577)\n"
          ],
          "name": "stdout"
        },
        {
          "output_type": "stream",
          "text": [
            "[11.9GB(+0.0GB): 59.308sec] fit X\n",
            "[11.9GB(+0.0GB): 51.253sec] fit Y\n"
          ],
          "name": "stderr"
        },
        {
          "output_type": "stream",
          "text": [
            "fold 0: mean position error 3.125803908430072\n"
          ],
          "name": "stdout"
        },
        {
          "output_type": "stream",
          "text": [
            "[11.9GB(+0.0GB): 44.071sec] fit X\n",
            "[11.9GB(+0.0GB): 56.977sec] fit Y\n"
          ],
          "name": "stderr"
        },
        {
          "output_type": "stream",
          "text": [
            "fold 1: mean position error 3.0705993080415532\n"
          ],
          "name": "stdout"
        },
        {
          "output_type": "stream",
          "text": [
            "[11.9GB(+0.0GB): 51.898sec] fit X\n",
            "[11.9GB(+0.0GB): 65.497sec] fit Y\n"
          ],
          "name": "stderr"
        },
        {
          "output_type": "stream",
          "text": [
            "fold 2: mean position error 2.9916328242301904\n"
          ],
          "name": "stdout"
        },
        {
          "output_type": "stream",
          "text": [
            "[11.9GB(+0.0GB): 56.726sec] fit X\n",
            "[11.9GB(+0.0GB): 45.548sec] fit Y\n"
          ],
          "name": "stderr"
        },
        {
          "output_type": "stream",
          "text": [
            "fold 3: mean position error 3.047910018934293\n"
          ],
          "name": "stdout"
        },
        {
          "output_type": "stream",
          "text": [
            "[11.9GB(+0.0GB): 44.356sec] fit X\n",
            "[11.9GB(+0.0GB): 51.467sec] fit Y\n"
          ],
          "name": "stderr"
        },
        {
          "output_type": "stream",
          "text": [
            "fold 4: mean position error 2.98018453553825\n"
          ],
          "name": "stdout"
        },
        {
          "output_type": "stream",
          "text": [
            "[11.9GB(+0.0GB): 47.286sec] fit X\n",
            "[11.9GB(-0.0GB): 37.422sec] fit Y\n"
          ],
          "name": "stderr"
        },
        {
          "output_type": "stream",
          "text": [
            "fold 5: mean position error 3.116663985274545\n"
          ],
          "name": "stdout"
        },
        {
          "output_type": "stream",
          "text": [
            "[11.9GB(+0.0GB): 53.845sec] fit X\n",
            "[11.9GB(+0.0GB): 57.068sec] fit Y\n"
          ],
          "name": "stderr"
        },
        {
          "output_type": "stream",
          "text": [
            "fold 6: mean position error 3.1240992449871383\n"
          ],
          "name": "stdout"
        },
        {
          "output_type": "stream",
          "text": [
            "[11.9GB(+0.0GB): 49.220sec] fit X\n",
            "[11.9GB(+0.0GB): 57.642sec] fit Y\n"
          ],
          "name": "stderr"
        },
        {
          "output_type": "stream",
          "text": [
            "fold 7: mean position error 3.0691484832574956\n"
          ],
          "name": "stdout"
        },
        {
          "output_type": "stream",
          "text": [
            "[11.9GB(+0.0GB): 54.267sec] fit X\n",
            "[11.9GB(+0.0GB): 52.307sec] fit Y\n"
          ],
          "name": "stderr"
        },
        {
          "output_type": "stream",
          "text": [
            "fold 8: mean position error 3.202770827806324\n"
          ],
          "name": "stdout"
        },
        {
          "output_type": "stream",
          "text": [
            "[11.9GB(+0.0GB): 59.447sec] fit X\n",
            "[11.9GB(+0.0GB): 41.325sec] fit Y\n"
          ],
          "name": "stderr"
        },
        {
          "output_type": "stream",
          "text": [
            "fold 9: mean position error 3.110866625999241\n",
            "*+*+*+*+*+*+*+*+*+*+*+*+*+*+*+*+*+*+*+*+*+*+*+*+*+*+*+*+*+*+*+*+*+*+*+*+*+*+*+*+\n",
            "file #20, shape=(17382, 3579), name=5da138b74db8ce0c98bd4774_train.csv\n",
            "mean position error 3.0839696139937818\n",
            "*+*+*+*+*+*+*+*+*+*+*+*+*+*+*+*+*+*+*+*+*+*+*+*+*+*+*+*+*+*+*+*+*+*+*+*+*+*+*+*+\n"
          ],
          "name": "stdout"
        },
        {
          "output_type": "stream",
          "text": [
            "/usr/local/lib/python3.7/dist-packages/IPython/core/interactiveshell.py:2718: DtypeWarning: Columns (3504,3505,3506,3510) have mixed types.Specify dtype option on import or set low_memory=False.\n",
            "  interactivity=interactivity, compiler=compiler, result=result)\n",
            "\n",
            "\n",
            "\n",
            "\n",
            "  0%|          | 0/3 [00:00<?, ?it/s]\u001b[A\u001b[A\u001b[A\u001b[A\n",
            "\n",
            "\n",
            "\n",
            " 67%|██████▋   | 2/3 [00:35<00:17, 17.62s/it]\u001b[A\u001b[A\u001b[A\u001b[A\n",
            "\n",
            "\n",
            "\n",
            "100%|██████████| 3/3 [00:35<00:00, 11.84s/it]\n",
            "\n",
            "\n",
            "\n",
            "\n",
            "  0%|          | 0/3 [00:00<?, ?it/s]\u001b[A\u001b[A\u001b[A\u001b[A\n",
            "\n",
            "\n",
            "\n",
            "100%|██████████| 3/3 [00:01<00:00,  1.64it/s]\n"
          ],
          "name": "stderr"
        },
        {
          "output_type": "stream",
          "text": [
            "(15148, 3543)\n",
            "(778, 3541)\n"
          ],
          "name": "stdout"
        },
        {
          "output_type": "stream",
          "text": [
            "[11.5GB(+0.0GB): 33.282sec] fit X\n",
            "[11.5GB(+0.0GB): 50.942sec] fit Y\n"
          ],
          "name": "stderr"
        },
        {
          "output_type": "stream",
          "text": [
            "fold 0: mean position error 2.4311213757927574\n"
          ],
          "name": "stdout"
        },
        {
          "output_type": "stream",
          "text": [
            "[11.5GB(+0.0GB): 44.823sec] fit X\n",
            "[11.5GB(+0.0GB): 46.937sec] fit Y\n"
          ],
          "name": "stderr"
        },
        {
          "output_type": "stream",
          "text": [
            "fold 1: mean position error 2.528131053239326\n"
          ],
          "name": "stdout"
        },
        {
          "output_type": "stream",
          "text": [
            "[11.5GB(+0.0GB): 38.077sec] fit X\n",
            "[11.5GB(+0.0GB): 42.257sec] fit Y\n"
          ],
          "name": "stderr"
        },
        {
          "output_type": "stream",
          "text": [
            "fold 2: mean position error 2.5062277446514356\n"
          ],
          "name": "stdout"
        },
        {
          "output_type": "stream",
          "text": [
            "[11.5GB(+0.0GB): 59.805sec] fit X\n",
            "[11.5GB(+0.0GB): 46.184sec] fit Y\n"
          ],
          "name": "stderr"
        },
        {
          "output_type": "stream",
          "text": [
            "fold 3: mean position error 2.417936033693156\n"
          ],
          "name": "stdout"
        },
        {
          "output_type": "stream",
          "text": [
            "[11.5GB(+0.0GB): 38.139sec] fit X\n",
            "[11.5GB(+0.0GB): 53.114sec] fit Y\n"
          ],
          "name": "stderr"
        },
        {
          "output_type": "stream",
          "text": [
            "fold 4: mean position error 2.532520009736255\n"
          ],
          "name": "stdout"
        },
        {
          "output_type": "stream",
          "text": [
            "[11.5GB(+0.0GB): 32.171sec] fit X\n",
            "[11.5GB(+0.0GB): 39.345sec] fit Y\n"
          ],
          "name": "stderr"
        },
        {
          "output_type": "stream",
          "text": [
            "fold 5: mean position error 2.634204133024128\n"
          ],
          "name": "stdout"
        },
        {
          "output_type": "stream",
          "text": [
            "[11.5GB(+0.0GB): 48.134sec] fit X\n",
            "[11.5GB(+0.0GB): 40.982sec] fit Y\n"
          ],
          "name": "stderr"
        },
        {
          "output_type": "stream",
          "text": [
            "fold 6: mean position error 2.5217117537691722\n"
          ],
          "name": "stdout"
        },
        {
          "output_type": "stream",
          "text": [
            "[11.5GB(+0.0GB): 38.475sec] fit X\n",
            "[11.5GB(+0.0GB): 44.685sec] fit Y\n"
          ],
          "name": "stderr"
        },
        {
          "output_type": "stream",
          "text": [
            "fold 7: mean position error 2.4358635423854493\n"
          ],
          "name": "stdout"
        },
        {
          "output_type": "stream",
          "text": [
            "[11.5GB(+0.0GB): 47.323sec] fit X\n",
            "[11.5GB(+0.0GB): 40.326sec] fit Y\n"
          ],
          "name": "stderr"
        },
        {
          "output_type": "stream",
          "text": [
            "fold 8: mean position error 2.4450973393236337\n"
          ],
          "name": "stdout"
        },
        {
          "output_type": "stream",
          "text": [
            "[11.5GB(+0.0GB): 47.784sec] fit X\n",
            "[11.5GB(+0.0GB): 46.661sec] fit Y\n"
          ],
          "name": "stderr"
        },
        {
          "output_type": "stream",
          "text": [
            "fold 9: mean position error 2.4922133202305323\n",
            "*+*+*+*+*+*+*+*+*+*+*+*+*+*+*+*+*+*+*+*+*+*+*+*+*+*+*+*+*+*+*+*+*+*+*+*+*+*+*+*+\n",
            "file #21, shape=(15148, 3543), name=5da958dd46f8266d0737457b_train.csv\n",
            "mean position error 2.4945060432200226\n",
            "*+*+*+*+*+*+*+*+*+*+*+*+*+*+*+*+*+*+*+*+*+*+*+*+*+*+*+*+*+*+*+*+*+*+*+*+*+*+*+*+\n"
          ],
          "name": "stdout"
        },
        {
          "output_type": "stream",
          "text": [
            "/usr/local/lib/python3.7/dist-packages/IPython/core/interactiveshell.py:2718: DtypeWarning: Columns (4524,4525,4526,4530) have mixed types.Specify dtype option on import or set low_memory=False.\n",
            "  interactivity=interactivity, compiler=compiler, result=result)\n",
            "\n",
            "\n",
            "\n",
            "\n",
            "  0%|          | 0/3 [00:00<?, ?it/s]\u001b[A\u001b[A\u001b[A\u001b[A\n",
            "\n",
            "\n",
            "\n",
            " 67%|██████▋   | 2/3 [00:48<00:24, 24.43s/it]\u001b[A\u001b[A\u001b[A\u001b[A\n",
            "\n",
            "\n",
            "\n",
            "100%|██████████| 3/3 [00:49<00:00, 16.38s/it]\n",
            "\n",
            "\n",
            "\n",
            "\n",
            "  0%|          | 0/3 [00:00<?, ?it/s]\u001b[A\u001b[A\u001b[A\u001b[A\n",
            "\n",
            "\n",
            "\n",
            "100%|██████████| 3/3 [00:02<00:00,  1.07it/s]\n"
          ],
          "name": "stderr"
        },
        {
          "output_type": "stream",
          "text": [
            "(16174, 4563)\n",
            "(923, 4561)\n"
          ],
          "name": "stdout"
        },
        {
          "output_type": "stream",
          "text": [
            "[9.3GB(+0.0GB): 72.286sec] fit X\n",
            "[9.3GB(+0.0GB): 57.116sec] fit Y\n"
          ],
          "name": "stderr"
        },
        {
          "output_type": "stream",
          "text": [
            "fold 0: mean position error 3.5536059359354617\n"
          ],
          "name": "stdout"
        },
        {
          "output_type": "stream",
          "text": [
            "[9.4GB(+0.0GB): 49.166sec] fit X\n",
            "[9.4GB(+0.0GB): 57.857sec] fit Y\n"
          ],
          "name": "stderr"
        },
        {
          "output_type": "stream",
          "text": [
            "fold 1: mean position error 3.504851594565061\n"
          ],
          "name": "stdout"
        },
        {
          "output_type": "stream",
          "text": [
            "[9.4GB(+0.0GB): 54.206sec] fit X\n",
            "[9.4GB(-0.0GB): 53.644sec] fit Y\n"
          ],
          "name": "stderr"
        },
        {
          "output_type": "stream",
          "text": [
            "fold 2: mean position error 3.5639482322345226\n"
          ],
          "name": "stdout"
        },
        {
          "output_type": "stream",
          "text": [
            "[9.4GB(+0.0GB): 50.391sec] fit X\n",
            "[9.4GB(+0.0GB): 58.111sec] fit Y\n"
          ],
          "name": "stderr"
        },
        {
          "output_type": "stream",
          "text": [
            "fold 3: mean position error 3.517930198131489\n"
          ],
          "name": "stdout"
        },
        {
          "output_type": "stream",
          "text": [
            "[9.4GB(+0.0GB): 55.417sec] fit X\n",
            "[9.4GB(+0.0GB): 56.038sec] fit Y\n"
          ],
          "name": "stderr"
        },
        {
          "output_type": "stream",
          "text": [
            "fold 4: mean position error 3.4136038263651405\n"
          ],
          "name": "stdout"
        },
        {
          "output_type": "stream",
          "text": [
            "[9.4GB(+0.0GB): 59.339sec] fit X\n",
            "[9.4GB(+0.0GB): 52.266sec] fit Y\n"
          ],
          "name": "stderr"
        },
        {
          "output_type": "stream",
          "text": [
            "fold 5: mean position error 3.5955756294037875\n"
          ],
          "name": "stdout"
        },
        {
          "output_type": "stream",
          "text": [
            "[9.4GB(+0.0GB): 67.117sec] fit X\n",
            "[9.4GB(+0.0GB): 46.324sec] fit Y\n"
          ],
          "name": "stderr"
        },
        {
          "output_type": "stream",
          "text": [
            "fold 6: mean position error 3.4952938338205937\n"
          ],
          "name": "stdout"
        },
        {
          "output_type": "stream",
          "text": [
            "[9.4GB(+0.0GB): 44.541sec] fit X\n",
            "[9.4GB(+0.0GB): 51.115sec] fit Y\n"
          ],
          "name": "stderr"
        },
        {
          "output_type": "stream",
          "text": [
            "fold 7: mean position error 3.7839223224951146\n"
          ],
          "name": "stdout"
        },
        {
          "output_type": "stream",
          "text": [
            "[9.4GB(+0.0GB): 63.442sec] fit X\n",
            "[9.4GB(+0.0GB): 63.117sec] fit Y\n"
          ],
          "name": "stderr"
        },
        {
          "output_type": "stream",
          "text": [
            "fold 8: mean position error 3.572860368605922\n"
          ],
          "name": "stdout"
        },
        {
          "output_type": "stream",
          "text": [
            "[9.4GB(+0.0GB): 65.248sec] fit X\n",
            "[9.4GB(+0.0GB): 46.324sec] fit Y\n"
          ],
          "name": "stderr"
        },
        {
          "output_type": "stream",
          "text": [
            "fold 9: mean position error 3.6854865834305808\n",
            "*+*+*+*+*+*+*+*+*+*+*+*+*+*+*+*+*+*+*+*+*+*+*+*+*+*+*+*+*+*+*+*+*+*+*+*+*+*+*+*+\n",
            "file #22, shape=(16174, 4563), name=5dbc1d84c1eb61796cf7c010_train.csv\n",
            "mean position error 3.5686995369646306\n",
            "*+*+*+*+*+*+*+*+*+*+*+*+*+*+*+*+*+*+*+*+*+*+*+*+*+*+*+*+*+*+*+*+*+*+*+*+*+*+*+*+\n"
          ],
          "name": "stdout"
        },
        {
          "output_type": "stream",
          "text": [
            "/usr/local/lib/python3.7/dist-packages/IPython/core/interactiveshell.py:2718: DtypeWarning: Columns (4869,4870,4871,4875) have mixed types.Specify dtype option on import or set low_memory=False.\n",
            "  interactivity=interactivity, compiler=compiler, result=result)\n",
            "\n",
            "\n",
            "\n",
            "\n",
            "  0%|          | 0/3 [00:00<?, ?it/s]\u001b[A\u001b[A\u001b[A\u001b[A\n",
            "\n",
            "\n",
            "\n",
            " 67%|██████▋   | 2/3 [00:50<00:25, 25.00s/it]\u001b[A\u001b[A\u001b[A\u001b[A\n",
            "\n",
            "\n",
            "\n",
            "100%|██████████| 3/3 [00:50<00:00, 16.83s/it]\n",
            "\n",
            "\n",
            "\n",
            "\n",
            "  0%|          | 0/3 [00:00<?, ?it/s]\u001b[A\u001b[A\u001b[A\u001b[A\n",
            "\n",
            "\n",
            "\n",
            "100%|██████████| 3/3 [00:02<00:00,  1.43it/s]\n"
          ],
          "name": "stderr"
        },
        {
          "output_type": "stream",
          "text": [
            "(15655, 4908)\n",
            "(648, 4906)\n"
          ],
          "name": "stdout"
        },
        {
          "output_type": "stream",
          "text": [
            "[9.3GB(+0.0GB): 50.869sec] fit X\n",
            "[9.3GB(+0.0GB): 32.945sec] fit Y\n"
          ],
          "name": "stderr"
        },
        {
          "output_type": "stream",
          "text": [
            "fold 0: mean position error 3.443204995053388\n"
          ],
          "name": "stdout"
        },
        {
          "output_type": "stream",
          "text": [
            "[9.3GB(+0.0GB): 44.016sec] fit X\n",
            "[9.3GB(+0.0GB): 44.743sec] fit Y\n"
          ],
          "name": "stderr"
        },
        {
          "output_type": "stream",
          "text": [
            "fold 1: mean position error 3.1737843931176686\n"
          ],
          "name": "stdout"
        },
        {
          "output_type": "stream",
          "text": [
            "[9.3GB(-0.0GB): 49.816sec] fit X\n",
            "[9.3GB(+0.0GB): 46.960sec] fit Y\n"
          ],
          "name": "stderr"
        },
        {
          "output_type": "stream",
          "text": [
            "fold 2: mean position error 3.1850357438721173\n"
          ],
          "name": "stdout"
        },
        {
          "output_type": "stream",
          "text": [
            "[9.3GB(+0.0GB): 32.288sec] fit X\n",
            "[9.3GB(+0.0GB): 49.747sec] fit Y\n"
          ],
          "name": "stderr"
        },
        {
          "output_type": "stream",
          "text": [
            "fold 3: mean position error 3.2615728432318134\n"
          ],
          "name": "stdout"
        },
        {
          "output_type": "stream",
          "text": [
            "[9.3GB(+0.0GB): 62.489sec] fit X\n",
            "[9.3GB(-0.0GB): 45.230sec] fit Y\n"
          ],
          "name": "stderr"
        },
        {
          "output_type": "stream",
          "text": [
            "fold 4: mean position error 3.2046910090747174\n"
          ],
          "name": "stdout"
        },
        {
          "output_type": "stream",
          "text": [
            "[9.8GB(+0.5GB): 42.058sec] fit X\n",
            "[9.8GB(+0.0GB): 55.536sec] fit Y\n"
          ],
          "name": "stderr"
        },
        {
          "output_type": "stream",
          "text": [
            "fold 5: mean position error 3.3949610092636195\n"
          ],
          "name": "stdout"
        },
        {
          "output_type": "stream",
          "text": [
            "[9.8GB(+0.0GB): 50.692sec] fit X\n",
            "[9.8GB(+0.0GB): 46.756sec] fit Y\n"
          ],
          "name": "stderr"
        },
        {
          "output_type": "stream",
          "text": [
            "fold 6: mean position error 3.332026360110991\n"
          ],
          "name": "stdout"
        },
        {
          "output_type": "stream",
          "text": [
            "[9.8GB(+0.0GB): 35.241sec] fit X\n",
            "[9.8GB(+0.0GB): 32.233sec] fit Y\n"
          ],
          "name": "stderr"
        },
        {
          "output_type": "stream",
          "text": [
            "fold 7: mean position error 3.2731159761358497\n"
          ],
          "name": "stdout"
        },
        {
          "output_type": "stream",
          "text": [
            "[9.8GB(+0.0GB): 42.283sec] fit X\n",
            "[9.8GB(+0.0GB): 51.530sec] fit Y\n"
          ],
          "name": "stderr"
        },
        {
          "output_type": "stream",
          "text": [
            "fold 8: mean position error 3.422965910474774\n"
          ],
          "name": "stdout"
        },
        {
          "output_type": "stream",
          "text": [
            "[9.8GB(+0.0GB): 40.205sec] fit X\n",
            "[9.8GB(+0.0GB): 54.662sec] fit Y\n"
          ],
          "name": "stderr"
        },
        {
          "output_type": "stream",
          "text": [
            "fold 9: mean position error 3.1664771687548265\n",
            "*+*+*+*+*+*+*+*+*+*+*+*+*+*+*+*+*+*+*+*+*+*+*+*+*+*+*+*+*+*+*+*+*+*+*+*+*+*+*+*+\n",
            "file #23, shape=(15655, 4908), name=5dc8cea7659e181adb076a3f_train.csv\n",
            "mean position error 3.285773280371117\n",
            "*+*+*+*+*+*+*+*+*+*+*+*+*+*+*+*+*+*+*+*+*+*+*+*+*+*+*+*+*+*+*+*+*+*+*+*+*+*+*+*+\n"
          ],
          "name": "stdout"
        }
      ]
    },
    {
      "cell_type": "code",
      "metadata": {
        "id": "DuIro-hLyGS9"
      },
      "source": [
        "all_preds = pd.concat(predictions)\n",
        "\n",
        "all_preds = all_preds.reindex(subm.index)\n",
        "all_preds['floor'] = floor_accurate['floor'].values\n",
        "all_preds.to_csv('submission_lgbm_wifi_0_016.csv')"
      ],
      "execution_count": 85,
      "outputs": []
    },
    {
      "cell_type": "code",
      "metadata": {
        "id": "OwcjO7RAyjlL",
        "colab": {
          "base_uri": "https://localhost:8080/",
          "height": 35
        },
        "outputId": "00165897-49a9-4738-846f-df69f8a34abe"
      },
      "source": [
        "shutil.move('submission_lgbm_wifi_0_016.csv', '/content/drive/MyDrive')"
      ],
      "execution_count": 86,
      "outputs": [
        {
          "output_type": "execute_result",
          "data": {
            "application/vnd.google.colaboratory.intrinsic+json": {
              "type": "string"
            },
            "text/plain": [
              "'/content/drive/MyDrive/submission_lgbm_wifi_0_016.csv'"
            ]
          },
          "metadata": {
            "tags": []
          },
          "execution_count": 86
        }
      ]
    },
    {
      "cell_type": "code",
      "metadata": {
        "colab": {
          "base_uri": "https://localhost:8080/",
          "height": 450
        },
        "id": "Xgr5J10whEhi",
        "outputId": "4820b095-82d5-40a3-d99f-a547ce0c6ed4"
      },
      "source": [
        "all_preds"
      ],
      "execution_count": 97,
      "outputs": [
        {
          "output_type": "execute_result",
          "data": {
            "text/html": [
              "<div>\n",
              "<style scoped>\n",
              "    .dataframe tbody tr th:only-of-type {\n",
              "        vertical-align: middle;\n",
              "    }\n",
              "\n",
              "    .dataframe tbody tr th {\n",
              "        vertical-align: top;\n",
              "    }\n",
              "\n",
              "    .dataframe thead th {\n",
              "        text-align: right;\n",
              "    }\n",
              "</style>\n",
              "<table border=\"1\" class=\"dataframe\">\n",
              "  <thead>\n",
              "    <tr style=\"text-align: right;\">\n",
              "      <th></th>\n",
              "      <th>floor</th>\n",
              "      <th>x</th>\n",
              "      <th>y</th>\n",
              "    </tr>\n",
              "    <tr>\n",
              "      <th>site_path_timestamp</th>\n",
              "      <th></th>\n",
              "      <th></th>\n",
              "      <th></th>\n",
              "    </tr>\n",
              "  </thead>\n",
              "  <tbody>\n",
              "    <tr>\n",
              "      <th>5a0546857ecc773753327266_046cfa46be49fc10834815c6_0000000000009</th>\n",
              "      <td>0</td>\n",
              "      <td>99.723513</td>\n",
              "      <td>0</td>\n",
              "    </tr>\n",
              "    <tr>\n",
              "      <th>5a0546857ecc773753327266_046cfa46be49fc10834815c6_0000000009017</th>\n",
              "      <td>0</td>\n",
              "      <td>102.805032</td>\n",
              "      <td>0</td>\n",
              "    </tr>\n",
              "    <tr>\n",
              "      <th>5a0546857ecc773753327266_046cfa46be49fc10834815c6_0000000015326</th>\n",
              "      <td>0</td>\n",
              "      <td>106.057743</td>\n",
              "      <td>0</td>\n",
              "    </tr>\n",
              "    <tr>\n",
              "      <th>5a0546857ecc773753327266_046cfa46be49fc10834815c6_0000000018763</th>\n",
              "      <td>0</td>\n",
              "      <td>105.801775</td>\n",
              "      <td>0</td>\n",
              "    </tr>\n",
              "    <tr>\n",
              "      <th>5a0546857ecc773753327266_046cfa46be49fc10834815c6_0000000022328</th>\n",
              "      <td>0</td>\n",
              "      <td>112.147585</td>\n",
              "      <td>0</td>\n",
              "    </tr>\n",
              "    <tr>\n",
              "      <th>...</th>\n",
              "      <td>...</td>\n",
              "      <td>...</td>\n",
              "      <td>...</td>\n",
              "    </tr>\n",
              "    <tr>\n",
              "      <th>5dc8cea7659e181adb076a3f_fd64de8c4a2fc5ebb0e9f412_0000000082589</th>\n",
              "      <td>5</td>\n",
              "      <td>88.326606</td>\n",
              "      <td>5</td>\n",
              "    </tr>\n",
              "    <tr>\n",
              "      <th>5dc8cea7659e181adb076a3f_fd64de8c4a2fc5ebb0e9f412_0000000085758</th>\n",
              "      <td>5</td>\n",
              "      <td>90.664590</td>\n",
              "      <td>5</td>\n",
              "    </tr>\n",
              "    <tr>\n",
              "      <th>5dc8cea7659e181adb076a3f_fd64de8c4a2fc5ebb0e9f412_0000000090895</th>\n",
              "      <td>5</td>\n",
              "      <td>103.712496</td>\n",
              "      <td>5</td>\n",
              "    </tr>\n",
              "    <tr>\n",
              "      <th>5dc8cea7659e181adb076a3f_fd64de8c4a2fc5ebb0e9f412_0000000096899</th>\n",
              "      <td>5</td>\n",
              "      <td>109.580140</td>\n",
              "      <td>5</td>\n",
              "    </tr>\n",
              "    <tr>\n",
              "      <th>5dc8cea7659e181adb076a3f_fd64de8c4a2fc5ebb0e9f412_0000000100447</th>\n",
              "      <td>5</td>\n",
              "      <td>112.472549</td>\n",
              "      <td>5</td>\n",
              "    </tr>\n",
              "  </tbody>\n",
              "</table>\n",
              "<p>10133 rows × 3 columns</p>\n",
              "</div>"
            ],
            "text/plain": [
              "                                                    floor           x  y\n",
              "site_path_timestamp                                                     \n",
              "5a0546857ecc773753327266_046cfa46be49fc10834815...      0   99.723513  0\n",
              "5a0546857ecc773753327266_046cfa46be49fc10834815...      0  102.805032  0\n",
              "5a0546857ecc773753327266_046cfa46be49fc10834815...      0  106.057743  0\n",
              "5a0546857ecc773753327266_046cfa46be49fc10834815...      0  105.801775  0\n",
              "5a0546857ecc773753327266_046cfa46be49fc10834815...      0  112.147585  0\n",
              "...                                                   ...         ... ..\n",
              "5dc8cea7659e181adb076a3f_fd64de8c4a2fc5ebb0e9f4...      5   88.326606  5\n",
              "5dc8cea7659e181adb076a3f_fd64de8c4a2fc5ebb0e9f4...      5   90.664590  5\n",
              "5dc8cea7659e181adb076a3f_fd64de8c4a2fc5ebb0e9f4...      5  103.712496  5\n",
              "5dc8cea7659e181adb076a3f_fd64de8c4a2fc5ebb0e9f4...      5  109.580140  5\n",
              "5dc8cea7659e181adb076a3f_fd64de8c4a2fc5ebb0e9f4...      5  112.472549  5\n",
              "\n",
              "[10133 rows x 3 columns]"
            ]
          },
          "metadata": {
            "tags": []
          },
          "execution_count": 97
        }
      ]
    },
    {
      "cell_type": "code",
      "metadata": {
        "colab": {
          "base_uri": "https://localhost:8080/",
          "height": 450
        },
        "id": "U_8wrsO7Afz-",
        "outputId": "62313367-3aa4-4f35-bb79-c186b4b17efe"
      },
      "source": [
        "test_preds"
      ],
      "execution_count": 96,
      "outputs": [
        {
          "output_type": "execute_result",
          "data": {
            "text/html": [
              "<div>\n",
              "<style scoped>\n",
              "    .dataframe tbody tr th:only-of-type {\n",
              "        vertical-align: middle;\n",
              "    }\n",
              "\n",
              "    .dataframe tbody tr th {\n",
              "        vertical-align: top;\n",
              "    }\n",
              "\n",
              "    .dataframe thead th {\n",
              "        text-align: right;\n",
              "    }\n",
              "</style>\n",
              "<table border=\"1\" class=\"dataframe\">\n",
              "  <thead>\n",
              "    <tr style=\"text-align: right;\">\n",
              "      <th></th>\n",
              "      <th>floor</th>\n",
              "      <th>x</th>\n",
              "      <th>y</th>\n",
              "    </tr>\n",
              "    <tr>\n",
              "      <th>site_path_timestamp</th>\n",
              "      <th></th>\n",
              "      <th></th>\n",
              "      <th></th>\n",
              "    </tr>\n",
              "  </thead>\n",
              "  <tbody>\n",
              "    <tr>\n",
              "      <th>5dc8cea7659e181adb076a3f_b3ddea2aa88e2015223b75a8_0000000000006</th>\n",
              "      <td>118.185898</td>\n",
              "      <td>99.382318</td>\n",
              "      <td>6</td>\n",
              "    </tr>\n",
              "    <tr>\n",
              "      <th>5dc8cea7659e181adb076a3f_a850f1538a738b74d58cb9bf_0000000000006</th>\n",
              "      <td>112.301320</td>\n",
              "      <td>108.798547</td>\n",
              "      <td>6</td>\n",
              "    </tr>\n",
              "    <tr>\n",
              "      <th>5dc8cea7659e181adb076a3f_c2ae6f835a79f6fd53600449_0000000000006</th>\n",
              "      <td>50.708239</td>\n",
              "      <td>72.925214</td>\n",
              "      <td>5</td>\n",
              "    </tr>\n",
              "    <tr>\n",
              "      <th>5dc8cea7659e181adb076a3f_8ccd3fc53ad2e63651de4376_0000000000007</th>\n",
              "      <td>47.056859</td>\n",
              "      <td>66.772858</td>\n",
              "      <td>2</td>\n",
              "    </tr>\n",
              "    <tr>\n",
              "      <th>5dc8cea7659e181adb076a3f_6e1c6452fd95c2d3e6785f36_0000000000007</th>\n",
              "      <td>176.604809</td>\n",
              "      <td>111.277064</td>\n",
              "      <td>3</td>\n",
              "    </tr>\n",
              "    <tr>\n",
              "      <th>...</th>\n",
              "      <td>...</td>\n",
              "      <td>...</td>\n",
              "      <td>...</td>\n",
              "    </tr>\n",
              "    <tr>\n",
              "      <th>5dc8cea7659e181adb076a3f_e83a1c294b5d138339149fcb_0000000181673</th>\n",
              "      <td>182.195726</td>\n",
              "      <td>80.078049</td>\n",
              "      <td>-1</td>\n",
              "    </tr>\n",
              "    <tr>\n",
              "      <th>5dc8cea7659e181adb076a3f_e83a1c294b5d138339149fcb_0000000184177</th>\n",
              "      <td>183.757525</td>\n",
              "      <td>81.780066</td>\n",
              "      <td>-1</td>\n",
              "    </tr>\n",
              "    <tr>\n",
              "      <th>5dc8cea7659e181adb076a3f_e83a1c294b5d138339149fcb_0000000195142</th>\n",
              "      <td>185.511752</td>\n",
              "      <td>80.449858</td>\n",
              "      <td>-1</td>\n",
              "    </tr>\n",
              "    <tr>\n",
              "      <th>5dc8cea7659e181adb076a3f_e83a1c294b5d138339149fcb_0000000204367</th>\n",
              "      <td>188.265107</td>\n",
              "      <td>77.801498</td>\n",
              "      <td>-1</td>\n",
              "    </tr>\n",
              "    <tr>\n",
              "      <th>5dc8cea7659e181adb076a3f_e83a1c294b5d138339149fcb_0000000207372</th>\n",
              "      <td>187.425407</td>\n",
              "      <td>77.924586</td>\n",
              "      <td>-1</td>\n",
              "    </tr>\n",
              "  </tbody>\n",
              "</table>\n",
              "<p>648 rows × 3 columns</p>\n",
              "</div>"
            ],
            "text/plain": [
              "                                                         floor           x  y\n",
              "site_path_timestamp                                                          \n",
              "5dc8cea7659e181adb076a3f_b3ddea2aa88e2015223b75...  118.185898   99.382318  6\n",
              "5dc8cea7659e181adb076a3f_a850f1538a738b74d58cb9...  112.301320  108.798547  6\n",
              "5dc8cea7659e181adb076a3f_c2ae6f835a79f6fd536004...   50.708239   72.925214  5\n",
              "5dc8cea7659e181adb076a3f_8ccd3fc53ad2e63651de43...   47.056859   66.772858  2\n",
              "5dc8cea7659e181adb076a3f_6e1c6452fd95c2d3e6785f...  176.604809  111.277064  3\n",
              "...                                                        ...         ... ..\n",
              "5dc8cea7659e181adb076a3f_e83a1c294b5d138339149f...  182.195726   80.078049 -1\n",
              "5dc8cea7659e181adb076a3f_e83a1c294b5d138339149f...  183.757525   81.780066 -1\n",
              "5dc8cea7659e181adb076a3f_e83a1c294b5d138339149f...  185.511752   80.449858 -1\n",
              "5dc8cea7659e181adb076a3f_e83a1c294b5d138339149f...  188.265107   77.801498 -1\n",
              "5dc8cea7659e181adb076a3f_e83a1c294b5d138339149f...  187.425407   77.924586 -1\n",
              "\n",
              "[648 rows x 3 columns]"
            ]
          },
          "metadata": {
            "tags": []
          },
          "execution_count": 96
        }
      ]
    },
    {
      "cell_type": "code",
      "metadata": {
        "id": "en0CMV0HA3mq"
      },
      "source": [
        "all_preds = pd.concat(predictions)"
      ],
      "execution_count": 99,
      "outputs": []
    },
    {
      "cell_type": "code",
      "metadata": {
        "id": "4EnwU6j6Cm9-"
      },
      "source": [
        "all_preds = all_preds.rename(columns={'floor':'x', 'x':'y', 'y':'floor'})"
      ],
      "execution_count": 112,
      "outputs": []
    },
    {
      "cell_type": "code",
      "metadata": {
        "id": "4gY8kP1TCuqy"
      },
      "source": [
        "preds_xy = all_preds.loc[:, ['x', 'y']]\n"
      ],
      "execution_count": 113,
      "outputs": []
    },
    {
      "cell_type": "code",
      "metadata": {
        "colab": {
          "base_uri": "https://localhost:8080/",
          "height": 419
        },
        "id": "E26yPJCRGdi1",
        "outputId": "77b91185-fcdb-429e-a0e1-37666b74e355"
      },
      "source": [
        "a = pd.read_csv('/content/drive/MyDrive/submission_lstm_in_floor_07_before_post.csv')\n",
        "a"
      ],
      "execution_count": 122,
      "outputs": [
        {
          "output_type": "execute_result",
          "data": {
            "text/html": [
              "<div>\n",
              "<style scoped>\n",
              "    .dataframe tbody tr th:only-of-type {\n",
              "        vertical-align: middle;\n",
              "    }\n",
              "\n",
              "    .dataframe tbody tr th {\n",
              "        vertical-align: top;\n",
              "    }\n",
              "\n",
              "    .dataframe thead th {\n",
              "        text-align: right;\n",
              "    }\n",
              "</style>\n",
              "<table border=\"1\" class=\"dataframe\">\n",
              "  <thead>\n",
              "    <tr style=\"text-align: right;\">\n",
              "      <th></th>\n",
              "      <th>site_path_timestamp</th>\n",
              "      <th>floor</th>\n",
              "      <th>x</th>\n",
              "      <th>y</th>\n",
              "    </tr>\n",
              "  </thead>\n",
              "  <tbody>\n",
              "    <tr>\n",
              "      <th>0</th>\n",
              "      <td>5a0546857ecc773753327266_046cfa46be49fc1083481...</td>\n",
              "      <td>0</td>\n",
              "      <td>88.987900</td>\n",
              "      <td>105.374695</td>\n",
              "    </tr>\n",
              "    <tr>\n",
              "      <th>1</th>\n",
              "      <td>5a0546857ecc773753327266_046cfa46be49fc1083481...</td>\n",
              "      <td>0</td>\n",
              "      <td>86.266991</td>\n",
              "      <td>107.974129</td>\n",
              "    </tr>\n",
              "    <tr>\n",
              "      <th>2</th>\n",
              "      <td>5a0546857ecc773753327266_046cfa46be49fc1083481...</td>\n",
              "      <td>0</td>\n",
              "      <td>84.922188</td>\n",
              "      <td>107.128471</td>\n",
              "    </tr>\n",
              "    <tr>\n",
              "      <th>3</th>\n",
              "      <td>5a0546857ecc773753327266_046cfa46be49fc1083481...</td>\n",
              "      <td>0</td>\n",
              "      <td>90.189232</td>\n",
              "      <td>112.489365</td>\n",
              "    </tr>\n",
              "    <tr>\n",
              "      <th>4</th>\n",
              "      <td>5a0546857ecc773753327266_046cfa46be49fc1083481...</td>\n",
              "      <td>0</td>\n",
              "      <td>91.785637</td>\n",
              "      <td>112.877716</td>\n",
              "    </tr>\n",
              "    <tr>\n",
              "      <th>...</th>\n",
              "      <td>...</td>\n",
              "      <td>...</td>\n",
              "      <td>...</td>\n",
              "      <td>...</td>\n",
              "    </tr>\n",
              "    <tr>\n",
              "      <th>10128</th>\n",
              "      <td>5dc8cea7659e181adb076a3f_fd64de8c4a2fc5ebb0e9f...</td>\n",
              "      <td>5</td>\n",
              "      <td>210.201599</td>\n",
              "      <td>94.858597</td>\n",
              "    </tr>\n",
              "    <tr>\n",
              "      <th>10129</th>\n",
              "      <td>5dc8cea7659e181adb076a3f_fd64de8c4a2fc5ebb0e9f...</td>\n",
              "      <td>5</td>\n",
              "      <td>208.465881</td>\n",
              "      <td>95.657104</td>\n",
              "    </tr>\n",
              "    <tr>\n",
              "      <th>10130</th>\n",
              "      <td>5dc8cea7659e181adb076a3f_fd64de8c4a2fc5ebb0e9f...</td>\n",
              "      <td>5</td>\n",
              "      <td>203.611420</td>\n",
              "      <td>103.190163</td>\n",
              "    </tr>\n",
              "    <tr>\n",
              "      <th>10131</th>\n",
              "      <td>5dc8cea7659e181adb076a3f_fd64de8c4a2fc5ebb0e9f...</td>\n",
              "      <td>5</td>\n",
              "      <td>200.114624</td>\n",
              "      <td>113.268608</td>\n",
              "    </tr>\n",
              "    <tr>\n",
              "      <th>10132</th>\n",
              "      <td>5dc8cea7659e181adb076a3f_fd64de8c4a2fc5ebb0e9f...</td>\n",
              "      <td>5</td>\n",
              "      <td>200.393982</td>\n",
              "      <td>111.660233</td>\n",
              "    </tr>\n",
              "  </tbody>\n",
              "</table>\n",
              "<p>10133 rows × 4 columns</p>\n",
              "</div>"
            ],
            "text/plain": [
              "                                     site_path_timestamp  ...           y\n",
              "0      5a0546857ecc773753327266_046cfa46be49fc1083481...  ...  105.374695\n",
              "1      5a0546857ecc773753327266_046cfa46be49fc1083481...  ...  107.974129\n",
              "2      5a0546857ecc773753327266_046cfa46be49fc1083481...  ...  107.128471\n",
              "3      5a0546857ecc773753327266_046cfa46be49fc1083481...  ...  112.489365\n",
              "4      5a0546857ecc773753327266_046cfa46be49fc1083481...  ...  112.877716\n",
              "...                                                  ...  ...         ...\n",
              "10128  5dc8cea7659e181adb076a3f_fd64de8c4a2fc5ebb0e9f...  ...   94.858597\n",
              "10129  5dc8cea7659e181adb076a3f_fd64de8c4a2fc5ebb0e9f...  ...   95.657104\n",
              "10130  5dc8cea7659e181adb076a3f_fd64de8c4a2fc5ebb0e9f...  ...  103.190163\n",
              "10131  5dc8cea7659e181adb076a3f_fd64de8c4a2fc5ebb0e9f...  ...  113.268608\n",
              "10132  5dc8cea7659e181adb076a3f_fd64de8c4a2fc5ebb0e9f...  ...  111.660233\n",
              "\n",
              "[10133 rows x 4 columns]"
            ]
          },
          "metadata": {
            "tags": []
          },
          "execution_count": 122
        }
      ]
    },
    {
      "cell_type": "code",
      "metadata": {
        "colab": {
          "base_uri": "https://localhost:8080/",
          "height": 450
        },
        "id": "mUZ7LPvMD397",
        "outputId": "361984f2-d26d-4c8c-8f3f-e1df4a724b63"
      },
      "source": [
        "all_preds.drop('floor', axis=1)"
      ],
      "execution_count": 115,
      "outputs": [
        {
          "output_type": "execute_result",
          "data": {
            "text/html": [
              "<div>\n",
              "<style scoped>\n",
              "    .dataframe tbody tr th:only-of-type {\n",
              "        vertical-align: middle;\n",
              "    }\n",
              "\n",
              "    .dataframe tbody tr th {\n",
              "        vertical-align: top;\n",
              "    }\n",
              "\n",
              "    .dataframe thead th {\n",
              "        text-align: right;\n",
              "    }\n",
              "</style>\n",
              "<table border=\"1\" class=\"dataframe\">\n",
              "  <thead>\n",
              "    <tr style=\"text-align: right;\">\n",
              "      <th></th>\n",
              "      <th>x</th>\n",
              "      <th>y</th>\n",
              "    </tr>\n",
              "    <tr>\n",
              "      <th>site_path_timestamp</th>\n",
              "      <th></th>\n",
              "      <th></th>\n",
              "    </tr>\n",
              "  </thead>\n",
              "  <tbody>\n",
              "    <tr>\n",
              "      <th>5a0546857ecc773753327266_ed77f28aeaf89b317bc380fa_0000000000001</th>\n",
              "      <td>92.259521</td>\n",
              "      <td>108.540651</td>\n",
              "    </tr>\n",
              "    <tr>\n",
              "      <th>5a0546857ecc773753327266_dd4cbd69218f610f27cf33c8_0000000000007</th>\n",
              "      <td>98.761775</td>\n",
              "      <td>85.706924</td>\n",
              "    </tr>\n",
              "    <tr>\n",
              "      <th>5a0546857ecc773753327266_bd0f2c8626679895f3338ca5_0000000000007</th>\n",
              "      <td>117.330338</td>\n",
              "      <td>169.415457</td>\n",
              "    </tr>\n",
              "    <tr>\n",
              "      <th>5a0546857ecc773753327266_ffcd9524c80c0fa5bb859eaf_0000000000007</th>\n",
              "      <td>129.568878</td>\n",
              "      <td>173.558543</td>\n",
              "    </tr>\n",
              "    <tr>\n",
              "      <th>5a0546857ecc773753327266_bd5921cd1008382e2f537b53_0000000000007</th>\n",
              "      <td>219.973290</td>\n",
              "      <td>161.484395</td>\n",
              "    </tr>\n",
              "    <tr>\n",
              "      <th>...</th>\n",
              "      <td>...</td>\n",
              "      <td>...</td>\n",
              "    </tr>\n",
              "    <tr>\n",
              "      <th>5dc8cea7659e181adb076a3f_e83a1c294b5d138339149fcb_0000000181673</th>\n",
              "      <td>182.195726</td>\n",
              "      <td>80.078049</td>\n",
              "    </tr>\n",
              "    <tr>\n",
              "      <th>5dc8cea7659e181adb076a3f_e83a1c294b5d138339149fcb_0000000184177</th>\n",
              "      <td>183.757525</td>\n",
              "      <td>81.780066</td>\n",
              "    </tr>\n",
              "    <tr>\n",
              "      <th>5dc8cea7659e181adb076a3f_e83a1c294b5d138339149fcb_0000000195142</th>\n",
              "      <td>185.511752</td>\n",
              "      <td>80.449858</td>\n",
              "    </tr>\n",
              "    <tr>\n",
              "      <th>5dc8cea7659e181adb076a3f_e83a1c294b5d138339149fcb_0000000204367</th>\n",
              "      <td>188.265107</td>\n",
              "      <td>77.801498</td>\n",
              "    </tr>\n",
              "    <tr>\n",
              "      <th>5dc8cea7659e181adb076a3f_e83a1c294b5d138339149fcb_0000000207372</th>\n",
              "      <td>187.425407</td>\n",
              "      <td>77.924586</td>\n",
              "    </tr>\n",
              "  </tbody>\n",
              "</table>\n",
              "<p>10133 rows × 2 columns</p>\n",
              "</div>"
            ],
            "text/plain": [
              "                                                             x           y\n",
              "site_path_timestamp                                                       \n",
              "5a0546857ecc773753327266_ed77f28aeaf89b317bc380...   92.259521  108.540651\n",
              "5a0546857ecc773753327266_dd4cbd69218f610f27cf33...   98.761775   85.706924\n",
              "5a0546857ecc773753327266_bd0f2c8626679895f3338c...  117.330338  169.415457\n",
              "5a0546857ecc773753327266_ffcd9524c80c0fa5bb859e...  129.568878  173.558543\n",
              "5a0546857ecc773753327266_bd5921cd1008382e2f537b...  219.973290  161.484395\n",
              "...                                                        ...         ...\n",
              "5dc8cea7659e181adb076a3f_e83a1c294b5d138339149f...  182.195726   80.078049\n",
              "5dc8cea7659e181adb076a3f_e83a1c294b5d138339149f...  183.757525   81.780066\n",
              "5dc8cea7659e181adb076a3f_e83a1c294b5d138339149f...  185.511752   80.449858\n",
              "5dc8cea7659e181adb076a3f_e83a1c294b5d138339149f...  188.265107   77.801498\n",
              "5dc8cea7659e181adb076a3f_e83a1c294b5d138339149f...  187.425407   77.924586\n",
              "\n",
              "[10133 rows x 2 columns]"
            ]
          },
          "metadata": {
            "tags": []
          },
          "execution_count": 115
        }
      ]
    },
    {
      "cell_type": "code",
      "metadata": {
        "id": "F0jterYaEV7-"
      },
      "source": [
        "all_preds['floor'] = floor_accurate['floor'].values"
      ],
      "execution_count": 116,
      "outputs": []
    },
    {
      "cell_type": "code",
      "metadata": {
        "id": "xrWEezaxElh7"
      },
      "source": [
        "all_preds.to_csv('submission_lgbm_wifi_0_017.csv')\n",
        "shutil.move('submission_lgbm_wifi_0_017.csv', '/content/drive/MyDrive')"
      ],
      "execution_count": 117,
      "outputs": []
    },
    {
      "cell_type": "code",
      "metadata": {
        "colab": {
          "base_uri": "https://localhost:8080/",
          "height": 35
        },
        "id": "Kq6e1eSvEpjU",
        "outputId": "849f82ed-2924-40b3-f6c2-5860d595085e"
      },
      "source": [
        "shutil.move('submission_lgbm_wifi_0_017.csv', '/content/drive/MyDrive')"
      ],
      "execution_count": 119,
      "outputs": [
        {
          "output_type": "execute_result",
          "data": {
            "application/vnd.google.colaboratory.intrinsic+json": {
              "type": "string"
            },
            "text/plain": [
              "'/content/drive/MyDrive/submission_lgbm_wifi_0_017.csv'"
            ]
          },
          "metadata": {
            "tags": []
          },
          "execution_count": 119
        }
      ]
    },
    {
      "cell_type": "code",
      "metadata": {
        "id": "3m4xbyWSHSDn"
      },
      "source": [
        "all_preds = all_preds.reindex(subm.index)"
      ],
      "execution_count": 127,
      "outputs": []
    },
    {
      "cell_type": "code",
      "metadata": {
        "colab": {
          "base_uri": "https://localhost:8080/",
          "height": 450
        },
        "id": "zI2wmdPDIulk",
        "outputId": "68a5555d-7767-4448-cea7-6f3a471483d8"
      },
      "source": [
        "all_preds"
      ],
      "execution_count": 128,
      "outputs": [
        {
          "output_type": "execute_result",
          "data": {
            "text/html": [
              "<div>\n",
              "<style scoped>\n",
              "    .dataframe tbody tr th:only-of-type {\n",
              "        vertical-align: middle;\n",
              "    }\n",
              "\n",
              "    .dataframe tbody tr th {\n",
              "        vertical-align: top;\n",
              "    }\n",
              "\n",
              "    .dataframe thead th {\n",
              "        text-align: right;\n",
              "    }\n",
              "</style>\n",
              "<table border=\"1\" class=\"dataframe\">\n",
              "  <thead>\n",
              "    <tr style=\"text-align: right;\">\n",
              "      <th></th>\n",
              "      <th>x</th>\n",
              "      <th>y</th>\n",
              "      <th>floor</th>\n",
              "    </tr>\n",
              "    <tr>\n",
              "      <th>site_path_timestamp</th>\n",
              "      <th></th>\n",
              "      <th></th>\n",
              "      <th></th>\n",
              "    </tr>\n",
              "  </thead>\n",
              "  <tbody>\n",
              "    <tr>\n",
              "      <th>5a0546857ecc773753327266_046cfa46be49fc10834815c6_0000000000009</th>\n",
              "      <td>93.842121</td>\n",
              "      <td>99.723513</td>\n",
              "      <td>0</td>\n",
              "    </tr>\n",
              "    <tr>\n",
              "      <th>5a0546857ecc773753327266_046cfa46be49fc10834815c6_0000000009017</th>\n",
              "      <td>93.686649</td>\n",
              "      <td>102.805032</td>\n",
              "      <td>0</td>\n",
              "    </tr>\n",
              "    <tr>\n",
              "      <th>5a0546857ecc773753327266_046cfa46be49fc10834815c6_0000000015326</th>\n",
              "      <td>87.901474</td>\n",
              "      <td>106.057743</td>\n",
              "      <td>0</td>\n",
              "    </tr>\n",
              "    <tr>\n",
              "      <th>5a0546857ecc773753327266_046cfa46be49fc10834815c6_0000000018763</th>\n",
              "      <td>91.425563</td>\n",
              "      <td>105.801775</td>\n",
              "      <td>0</td>\n",
              "    </tr>\n",
              "    <tr>\n",
              "      <th>5a0546857ecc773753327266_046cfa46be49fc10834815c6_0000000022328</th>\n",
              "      <td>93.569127</td>\n",
              "      <td>112.147585</td>\n",
              "      <td>-1</td>\n",
              "    </tr>\n",
              "    <tr>\n",
              "      <th>...</th>\n",
              "      <td>...</td>\n",
              "      <td>...</td>\n",
              "      <td>...</td>\n",
              "    </tr>\n",
              "    <tr>\n",
              "      <th>5dc8cea7659e181adb076a3f_fd64de8c4a2fc5ebb0e9f412_0000000082589</th>\n",
              "      <td>216.540067</td>\n",
              "      <td>88.326606</td>\n",
              "      <td>-1</td>\n",
              "    </tr>\n",
              "    <tr>\n",
              "      <th>5dc8cea7659e181adb076a3f_fd64de8c4a2fc5ebb0e9f412_0000000085758</th>\n",
              "      <td>214.640180</td>\n",
              "      <td>90.664590</td>\n",
              "      <td>-1</td>\n",
              "    </tr>\n",
              "    <tr>\n",
              "      <th>5dc8cea7659e181adb076a3f_fd64de8c4a2fc5ebb0e9f412_0000000090895</th>\n",
              "      <td>203.259193</td>\n",
              "      <td>103.712496</td>\n",
              "      <td>-1</td>\n",
              "    </tr>\n",
              "    <tr>\n",
              "      <th>5dc8cea7659e181adb076a3f_fd64de8c4a2fc5ebb0e9f412_0000000096899</th>\n",
              "      <td>202.386450</td>\n",
              "      <td>109.580140</td>\n",
              "      <td>6</td>\n",
              "    </tr>\n",
              "    <tr>\n",
              "      <th>5dc8cea7659e181adb076a3f_fd64de8c4a2fc5ebb0e9f412_0000000100447</th>\n",
              "      <td>206.391755</td>\n",
              "      <td>112.472549</td>\n",
              "      <td>6</td>\n",
              "    </tr>\n",
              "  </tbody>\n",
              "</table>\n",
              "<p>10133 rows × 3 columns</p>\n",
              "</div>"
            ],
            "text/plain": [
              "                                                             x  ...  floor\n",
              "site_path_timestamp                                             ...       \n",
              "5a0546857ecc773753327266_046cfa46be49fc10834815...   93.842121  ...      0\n",
              "5a0546857ecc773753327266_046cfa46be49fc10834815...   93.686649  ...      0\n",
              "5a0546857ecc773753327266_046cfa46be49fc10834815...   87.901474  ...      0\n",
              "5a0546857ecc773753327266_046cfa46be49fc10834815...   91.425563  ...      0\n",
              "5a0546857ecc773753327266_046cfa46be49fc10834815...   93.569127  ...     -1\n",
              "...                                                        ...  ...    ...\n",
              "5dc8cea7659e181adb076a3f_fd64de8c4a2fc5ebb0e9f4...  216.540067  ...     -1\n",
              "5dc8cea7659e181adb076a3f_fd64de8c4a2fc5ebb0e9f4...  214.640180  ...     -1\n",
              "5dc8cea7659e181adb076a3f_fd64de8c4a2fc5ebb0e9f4...  203.259193  ...     -1\n",
              "5dc8cea7659e181adb076a3f_fd64de8c4a2fc5ebb0e9f4...  202.386450  ...      6\n",
              "5dc8cea7659e181adb076a3f_fd64de8c4a2fc5ebb0e9f4...  206.391755  ...      6\n",
              "\n",
              "[10133 rows x 3 columns]"
            ]
          },
          "metadata": {
            "tags": []
          },
          "execution_count": 128
        }
      ]
    },
    {
      "cell_type": "code",
      "metadata": {
        "id": "IxAt9-Q6I2dk"
      },
      "source": [
        "all_preds['floor'] = floor_accurate['floor'].values"
      ],
      "execution_count": 129,
      "outputs": []
    },
    {
      "cell_type": "code",
      "metadata": {
        "colab": {
          "base_uri": "https://localhost:8080/",
          "height": 450
        },
        "id": "o6_UMTJPI31U",
        "outputId": "93f1d95c-b0be-4fc3-c6f2-b8488282d4da"
      },
      "source": [
        "all_preds"
      ],
      "execution_count": 130,
      "outputs": [
        {
          "output_type": "execute_result",
          "data": {
            "text/html": [
              "<div>\n",
              "<style scoped>\n",
              "    .dataframe tbody tr th:only-of-type {\n",
              "        vertical-align: middle;\n",
              "    }\n",
              "\n",
              "    .dataframe tbody tr th {\n",
              "        vertical-align: top;\n",
              "    }\n",
              "\n",
              "    .dataframe thead th {\n",
              "        text-align: right;\n",
              "    }\n",
              "</style>\n",
              "<table border=\"1\" class=\"dataframe\">\n",
              "  <thead>\n",
              "    <tr style=\"text-align: right;\">\n",
              "      <th></th>\n",
              "      <th>x</th>\n",
              "      <th>y</th>\n",
              "      <th>floor</th>\n",
              "    </tr>\n",
              "    <tr>\n",
              "      <th>site_path_timestamp</th>\n",
              "      <th></th>\n",
              "      <th></th>\n",
              "      <th></th>\n",
              "    </tr>\n",
              "  </thead>\n",
              "  <tbody>\n",
              "    <tr>\n",
              "      <th>5a0546857ecc773753327266_046cfa46be49fc10834815c6_0000000000009</th>\n",
              "      <td>93.842121</td>\n",
              "      <td>99.723513</td>\n",
              "      <td>0</td>\n",
              "    </tr>\n",
              "    <tr>\n",
              "      <th>5a0546857ecc773753327266_046cfa46be49fc10834815c6_0000000009017</th>\n",
              "      <td>93.686649</td>\n",
              "      <td>102.805032</td>\n",
              "      <td>0</td>\n",
              "    </tr>\n",
              "    <tr>\n",
              "      <th>5a0546857ecc773753327266_046cfa46be49fc10834815c6_0000000015326</th>\n",
              "      <td>87.901474</td>\n",
              "      <td>106.057743</td>\n",
              "      <td>0</td>\n",
              "    </tr>\n",
              "    <tr>\n",
              "      <th>5a0546857ecc773753327266_046cfa46be49fc10834815c6_0000000018763</th>\n",
              "      <td>91.425563</td>\n",
              "      <td>105.801775</td>\n",
              "      <td>0</td>\n",
              "    </tr>\n",
              "    <tr>\n",
              "      <th>5a0546857ecc773753327266_046cfa46be49fc10834815c6_0000000022328</th>\n",
              "      <td>93.569127</td>\n",
              "      <td>112.147585</td>\n",
              "      <td>0</td>\n",
              "    </tr>\n",
              "    <tr>\n",
              "      <th>...</th>\n",
              "      <td>...</td>\n",
              "      <td>...</td>\n",
              "      <td>...</td>\n",
              "    </tr>\n",
              "    <tr>\n",
              "      <th>5dc8cea7659e181adb076a3f_fd64de8c4a2fc5ebb0e9f412_0000000082589</th>\n",
              "      <td>216.540067</td>\n",
              "      <td>88.326606</td>\n",
              "      <td>5</td>\n",
              "    </tr>\n",
              "    <tr>\n",
              "      <th>5dc8cea7659e181adb076a3f_fd64de8c4a2fc5ebb0e9f412_0000000085758</th>\n",
              "      <td>214.640180</td>\n",
              "      <td>90.664590</td>\n",
              "      <td>5</td>\n",
              "    </tr>\n",
              "    <tr>\n",
              "      <th>5dc8cea7659e181adb076a3f_fd64de8c4a2fc5ebb0e9f412_0000000090895</th>\n",
              "      <td>203.259193</td>\n",
              "      <td>103.712496</td>\n",
              "      <td>5</td>\n",
              "    </tr>\n",
              "    <tr>\n",
              "      <th>5dc8cea7659e181adb076a3f_fd64de8c4a2fc5ebb0e9f412_0000000096899</th>\n",
              "      <td>202.386450</td>\n",
              "      <td>109.580140</td>\n",
              "      <td>5</td>\n",
              "    </tr>\n",
              "    <tr>\n",
              "      <th>5dc8cea7659e181adb076a3f_fd64de8c4a2fc5ebb0e9f412_0000000100447</th>\n",
              "      <td>206.391755</td>\n",
              "      <td>112.472549</td>\n",
              "      <td>5</td>\n",
              "    </tr>\n",
              "  </tbody>\n",
              "</table>\n",
              "<p>10133 rows × 3 columns</p>\n",
              "</div>"
            ],
            "text/plain": [
              "                                                             x  ...  floor\n",
              "site_path_timestamp                                             ...       \n",
              "5a0546857ecc773753327266_046cfa46be49fc10834815...   93.842121  ...      0\n",
              "5a0546857ecc773753327266_046cfa46be49fc10834815...   93.686649  ...      0\n",
              "5a0546857ecc773753327266_046cfa46be49fc10834815...   87.901474  ...      0\n",
              "5a0546857ecc773753327266_046cfa46be49fc10834815...   91.425563  ...      0\n",
              "5a0546857ecc773753327266_046cfa46be49fc10834815...   93.569127  ...      0\n",
              "...                                                        ...  ...    ...\n",
              "5dc8cea7659e181adb076a3f_fd64de8c4a2fc5ebb0e9f4...  216.540067  ...      5\n",
              "5dc8cea7659e181adb076a3f_fd64de8c4a2fc5ebb0e9f4...  214.640180  ...      5\n",
              "5dc8cea7659e181adb076a3f_fd64de8c4a2fc5ebb0e9f4...  203.259193  ...      5\n",
              "5dc8cea7659e181adb076a3f_fd64de8c4a2fc5ebb0e9f4...  202.386450  ...      5\n",
              "5dc8cea7659e181adb076a3f_fd64de8c4a2fc5ebb0e9f4...  206.391755  ...      5\n",
              "\n",
              "[10133 rows x 3 columns]"
            ]
          },
          "metadata": {
            "tags": []
          },
          "execution_count": 130
        }
      ]
    },
    {
      "cell_type": "code",
      "metadata": {
        "colab": {
          "base_uri": "https://localhost:8080/",
          "height": 450
        },
        "id": "o4iwOxO3HkOc",
        "outputId": "e2cbf8c1-fceb-41df-edb2-49f2d9a29628"
      },
      "source": [
        "subm"
      ],
      "execution_count": 125,
      "outputs": [
        {
          "output_type": "execute_result",
          "data": {
            "text/html": [
              "<div>\n",
              "<style scoped>\n",
              "    .dataframe tbody tr th:only-of-type {\n",
              "        vertical-align: middle;\n",
              "    }\n",
              "\n",
              "    .dataframe tbody tr th {\n",
              "        vertical-align: top;\n",
              "    }\n",
              "\n",
              "    .dataframe thead th {\n",
              "        text-align: right;\n",
              "    }\n",
              "</style>\n",
              "<table border=\"1\" class=\"dataframe\">\n",
              "  <thead>\n",
              "    <tr style=\"text-align: right;\">\n",
              "      <th></th>\n",
              "      <th>floor</th>\n",
              "      <th>x</th>\n",
              "      <th>y</th>\n",
              "    </tr>\n",
              "    <tr>\n",
              "      <th>site_path_timestamp</th>\n",
              "      <th></th>\n",
              "      <th></th>\n",
              "      <th></th>\n",
              "    </tr>\n",
              "  </thead>\n",
              "  <tbody>\n",
              "    <tr>\n",
              "      <th>5a0546857ecc773753327266_046cfa46be49fc10834815c6_0000000000009</th>\n",
              "      <td>0</td>\n",
              "      <td>75.0</td>\n",
              "      <td>75.0</td>\n",
              "    </tr>\n",
              "    <tr>\n",
              "      <th>5a0546857ecc773753327266_046cfa46be49fc10834815c6_0000000009017</th>\n",
              "      <td>0</td>\n",
              "      <td>75.0</td>\n",
              "      <td>75.0</td>\n",
              "    </tr>\n",
              "    <tr>\n",
              "      <th>5a0546857ecc773753327266_046cfa46be49fc10834815c6_0000000015326</th>\n",
              "      <td>0</td>\n",
              "      <td>75.0</td>\n",
              "      <td>75.0</td>\n",
              "    </tr>\n",
              "    <tr>\n",
              "      <th>5a0546857ecc773753327266_046cfa46be49fc10834815c6_0000000018763</th>\n",
              "      <td>0</td>\n",
              "      <td>75.0</td>\n",
              "      <td>75.0</td>\n",
              "    </tr>\n",
              "    <tr>\n",
              "      <th>5a0546857ecc773753327266_046cfa46be49fc10834815c6_0000000022328</th>\n",
              "      <td>0</td>\n",
              "      <td>75.0</td>\n",
              "      <td>75.0</td>\n",
              "    </tr>\n",
              "    <tr>\n",
              "      <th>...</th>\n",
              "      <td>...</td>\n",
              "      <td>...</td>\n",
              "      <td>...</td>\n",
              "    </tr>\n",
              "    <tr>\n",
              "      <th>5dc8cea7659e181adb076a3f_fd64de8c4a2fc5ebb0e9f412_0000000082589</th>\n",
              "      <td>0</td>\n",
              "      <td>75.0</td>\n",
              "      <td>75.0</td>\n",
              "    </tr>\n",
              "    <tr>\n",
              "      <th>5dc8cea7659e181adb076a3f_fd64de8c4a2fc5ebb0e9f412_0000000085758</th>\n",
              "      <td>0</td>\n",
              "      <td>75.0</td>\n",
              "      <td>75.0</td>\n",
              "    </tr>\n",
              "    <tr>\n",
              "      <th>5dc8cea7659e181adb076a3f_fd64de8c4a2fc5ebb0e9f412_0000000090895</th>\n",
              "      <td>0</td>\n",
              "      <td>75.0</td>\n",
              "      <td>75.0</td>\n",
              "    </tr>\n",
              "    <tr>\n",
              "      <th>5dc8cea7659e181adb076a3f_fd64de8c4a2fc5ebb0e9f412_0000000096899</th>\n",
              "      <td>0</td>\n",
              "      <td>75.0</td>\n",
              "      <td>75.0</td>\n",
              "    </tr>\n",
              "    <tr>\n",
              "      <th>5dc8cea7659e181adb076a3f_fd64de8c4a2fc5ebb0e9f412_0000000100447</th>\n",
              "      <td>0</td>\n",
              "      <td>75.0</td>\n",
              "      <td>75.0</td>\n",
              "    </tr>\n",
              "  </tbody>\n",
              "</table>\n",
              "<p>10133 rows × 3 columns</p>\n",
              "</div>"
            ],
            "text/plain": [
              "                                                    floor     x     y\n",
              "site_path_timestamp                                                  \n",
              "5a0546857ecc773753327266_046cfa46be49fc10834815...      0  75.0  75.0\n",
              "5a0546857ecc773753327266_046cfa46be49fc10834815...      0  75.0  75.0\n",
              "5a0546857ecc773753327266_046cfa46be49fc10834815...      0  75.0  75.0\n",
              "5a0546857ecc773753327266_046cfa46be49fc10834815...      0  75.0  75.0\n",
              "5a0546857ecc773753327266_046cfa46be49fc10834815...      0  75.0  75.0\n",
              "...                                                   ...   ...   ...\n",
              "5dc8cea7659e181adb076a3f_fd64de8c4a2fc5ebb0e9f4...      0  75.0  75.0\n",
              "5dc8cea7659e181adb076a3f_fd64de8c4a2fc5ebb0e9f4...      0  75.0  75.0\n",
              "5dc8cea7659e181adb076a3f_fd64de8c4a2fc5ebb0e9f4...      0  75.0  75.0\n",
              "5dc8cea7659e181adb076a3f_fd64de8c4a2fc5ebb0e9f4...      0  75.0  75.0\n",
              "5dc8cea7659e181adb076a3f_fd64de8c4a2fc5ebb0e9f4...      0  75.0  75.0\n",
              "\n",
              "[10133 rows x 3 columns]"
            ]
          },
          "metadata": {
            "tags": []
          },
          "execution_count": 125
        }
      ]
    },
    {
      "cell_type": "code",
      "metadata": {
        "colab": {
          "base_uri": "https://localhost:8080/",
          "height": 35
        },
        "id": "H3Lb6H_THqIl",
        "outputId": "efaea047-8288-4343-9a50-7ec6fc6e6ae1"
      },
      "source": [
        "all_preds.to_csv('submission_lgbm_wifi_0_018.csv')\n",
        "shutil.move('submission_lgbm_wifi_0_018.csv', '/content/drive/MyDrive')"
      ],
      "execution_count": 131,
      "outputs": [
        {
          "output_type": "execute_result",
          "data": {
            "application/vnd.google.colaboratory.intrinsic+json": {
              "type": "string"
            },
            "text/plain": [
              "'/content/drive/MyDrive/submission_lgbm_wifi_0_018.csv'"
            ]
          },
          "metadata": {
            "tags": []
          },
          "execution_count": 131
        }
      ]
    },
    {
      "cell_type": "code",
      "metadata": {
        "id": "v-BTPYqaJF7a"
      },
      "source": [
        ""
      ],
      "execution_count": null,
      "outputs": []
    }
  ]
}