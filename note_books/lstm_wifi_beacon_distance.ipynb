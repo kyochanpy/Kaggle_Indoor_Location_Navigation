{
  "nbformat": 4,
  "nbformat_minor": 0,
  "metadata": {
    "colab": {
      "name": "lstm-unified-wi-fi-training-x-and-y-with-floor.ipynb",
      "provenance": [],
      "collapsed_sections": [],
      "toc_visible": true,
      "include_colab_link": true
    },
    "kernelspec": {
      "display_name": "Python 3",
      "language": "python",
      "name": "python3"
    },
    "language_info": {
      "codemirror_mode": {
        "name": "ipython",
        "version": 3
      },
      "file_extension": ".py",
      "mimetype": "text/x-python",
      "name": "python",
      "nbconvert_exporter": "python",
      "pygments_lexer": "ipython3",
      "version": "3.7.9"
    },
    "papermill": {
      "default_parameters": {},
      "duration": 8233.224271,
      "end_time": "2021-03-08T21:05:19.991855",
      "environment_variables": {},
      "exception": null,
      "input_path": "__notebook__.ipynb",
      "output_path": "__notebook__.ipynb",
      "parameters": {},
      "start_time": "2021-03-08T18:48:06.767584",
      "version": "2.2.2"
    }
  },
  "cells": [
    {
      "cell_type": "markdown",
      "metadata": {
        "id": "view-in-github",
        "colab_type": "text"
      },
      "source": [
        "<a href=\"https://colab.research.google.com/github/kyochanpy/Kaggle_Indoor_Location_Navigation/blob/main/note_books/lstm_wifi_beacon_distance.ipynb\" target=\"_parent\"><img src=\"https://colab.research.google.com/assets/colab-badge.svg\" alt=\"Open In Colab\"/></a>"
      ]
    },
    {
      "cell_type": "code",
      "metadata": {
        "colab": {
          "base_uri": "https://localhost:8080/"
        },
        "id": "bXHljy7Uv5Dq",
        "outputId": "04dc52d9-d0db-4efd-ff29-31fffd63b8ac"
      },
      "source": [
        "!pip install tensorflow_addons"
      ],
      "execution_count": 2,
      "outputs": [
        {
          "output_type": "stream",
          "text": [
            "Collecting tensorflow_addons\n",
            "\u001b[?25l  Downloading https://files.pythonhosted.org/packages/74/e3/56d2fe76f0bb7c88ed9b2a6a557e25e83e252aec08f13de34369cd850a0b/tensorflow_addons-0.12.1-cp37-cp37m-manylinux2010_x86_64.whl (703kB)\n",
            "\r\u001b[K     |▌                               | 10kB 15.1MB/s eta 0:00:01\r\u001b[K     |█                               | 20kB 19.9MB/s eta 0:00:01\r\u001b[K     |█▍                              | 30kB 15.7MB/s eta 0:00:01\r\u001b[K     |█▉                              | 40kB 13.0MB/s eta 0:00:01\r\u001b[K     |██▎                             | 51kB 8.2MB/s eta 0:00:01\r\u001b[K     |██▉                             | 61kB 9.1MB/s eta 0:00:01\r\u001b[K     |███▎                            | 71kB 9.1MB/s eta 0:00:01\r\u001b[K     |███▊                            | 81kB 10.0MB/s eta 0:00:01\r\u001b[K     |████▏                           | 92kB 9.0MB/s eta 0:00:01\r\u001b[K     |████▋                           | 102kB 8.2MB/s eta 0:00:01\r\u001b[K     |█████▏                          | 112kB 8.2MB/s eta 0:00:01\r\u001b[K     |█████▋                          | 122kB 8.2MB/s eta 0:00:01\r\u001b[K     |██████                          | 133kB 8.2MB/s eta 0:00:01\r\u001b[K     |██████▌                         | 143kB 8.2MB/s eta 0:00:01\r\u001b[K     |███████                         | 153kB 8.2MB/s eta 0:00:01\r\u001b[K     |███████▌                        | 163kB 8.2MB/s eta 0:00:01\r\u001b[K     |████████                        | 174kB 8.2MB/s eta 0:00:01\r\u001b[K     |████████▍                       | 184kB 8.2MB/s eta 0:00:01\r\u001b[K     |████████▉                       | 194kB 8.2MB/s eta 0:00:01\r\u001b[K     |█████████▎                      | 204kB 8.2MB/s eta 0:00:01\r\u001b[K     |█████████▉                      | 215kB 8.2MB/s eta 0:00:01\r\u001b[K     |██████████▎                     | 225kB 8.2MB/s eta 0:00:01\r\u001b[K     |██████████▊                     | 235kB 8.2MB/s eta 0:00:01\r\u001b[K     |███████████▏                    | 245kB 8.2MB/s eta 0:00:01\r\u001b[K     |███████████▋                    | 256kB 8.2MB/s eta 0:00:01\r\u001b[K     |████████████▏                   | 266kB 8.2MB/s eta 0:00:01\r\u001b[K     |████████████▋                   | 276kB 8.2MB/s eta 0:00:01\r\u001b[K     |█████████████                   | 286kB 8.2MB/s eta 0:00:01\r\u001b[K     |█████████████▌                  | 296kB 8.2MB/s eta 0:00:01\r\u001b[K     |██████████████                  | 307kB 8.2MB/s eta 0:00:01\r\u001b[K     |██████████████▍                 | 317kB 8.2MB/s eta 0:00:01\r\u001b[K     |███████████████                 | 327kB 8.2MB/s eta 0:00:01\r\u001b[K     |███████████████▍                | 337kB 8.2MB/s eta 0:00:01\r\u001b[K     |███████████████▉                | 348kB 8.2MB/s eta 0:00:01\r\u001b[K     |████████████████▎               | 358kB 8.2MB/s eta 0:00:01\r\u001b[K     |████████████████▊               | 368kB 8.2MB/s eta 0:00:01\r\u001b[K     |█████████████████▎              | 378kB 8.2MB/s eta 0:00:01\r\u001b[K     |█████████████████▊              | 389kB 8.2MB/s eta 0:00:01\r\u001b[K     |██████████████████▏             | 399kB 8.2MB/s eta 0:00:01\r\u001b[K     |██████████████████▋             | 409kB 8.2MB/s eta 0:00:01\r\u001b[K     |███████████████████             | 419kB 8.2MB/s eta 0:00:01\r\u001b[K     |███████████████████▋            | 430kB 8.2MB/s eta 0:00:01\r\u001b[K     |████████████████████            | 440kB 8.2MB/s eta 0:00:01\r\u001b[K     |████████████████████▌           | 450kB 8.2MB/s eta 0:00:01\r\u001b[K     |█████████████████████           | 460kB 8.2MB/s eta 0:00:01\r\u001b[K     |█████████████████████▍          | 471kB 8.2MB/s eta 0:00:01\r\u001b[K     |██████████████████████          | 481kB 8.2MB/s eta 0:00:01\r\u001b[K     |██████████████████████▍         | 491kB 8.2MB/s eta 0:00:01\r\u001b[K     |██████████████████████▉         | 501kB 8.2MB/s eta 0:00:01\r\u001b[K     |███████████████████████▎        | 512kB 8.2MB/s eta 0:00:01\r\u001b[K     |███████████████████████▊        | 522kB 8.2MB/s eta 0:00:01\r\u001b[K     |████████████████████████▎       | 532kB 8.2MB/s eta 0:00:01\r\u001b[K     |████████████████████████▊       | 542kB 8.2MB/s eta 0:00:01\r\u001b[K     |█████████████████████████▏      | 552kB 8.2MB/s eta 0:00:01\r\u001b[K     |█████████████████████████▋      | 563kB 8.2MB/s eta 0:00:01\r\u001b[K     |██████████████████████████      | 573kB 8.2MB/s eta 0:00:01\r\u001b[K     |██████████████████████████▋     | 583kB 8.2MB/s eta 0:00:01\r\u001b[K     |███████████████████████████     | 593kB 8.2MB/s eta 0:00:01\r\u001b[K     |███████████████████████████▌    | 604kB 8.2MB/s eta 0:00:01\r\u001b[K     |████████████████████████████    | 614kB 8.2MB/s eta 0:00:01\r\u001b[K     |████████████████████████████▍   | 624kB 8.2MB/s eta 0:00:01\r\u001b[K     |████████████████████████████▉   | 634kB 8.2MB/s eta 0:00:01\r\u001b[K     |█████████████████████████████▍  | 645kB 8.2MB/s eta 0:00:01\r\u001b[K     |█████████████████████████████▉  | 655kB 8.2MB/s eta 0:00:01\r\u001b[K     |██████████████████████████████▎ | 665kB 8.2MB/s eta 0:00:01\r\u001b[K     |██████████████████████████████▊ | 675kB 8.2MB/s eta 0:00:01\r\u001b[K     |███████████████████████████████▏| 686kB 8.2MB/s eta 0:00:01\r\u001b[K     |███████████████████████████████▊| 696kB 8.2MB/s eta 0:00:01\r\u001b[K     |████████████████████████████████| 706kB 8.2MB/s \n",
            "\u001b[?25hRequirement already satisfied: typeguard>=2.7 in /usr/local/lib/python3.7/dist-packages (from tensorflow_addons) (2.7.1)\n",
            "Installing collected packages: tensorflow-addons\n",
            "Successfully installed tensorflow-addons-0.12.1\n"
          ],
          "name": "stdout"
        }
      ]
    },
    {
      "cell_type": "code",
      "metadata": {
        "id": "2Ndf3qFCQLeD"
      },
      "source": [
        "import numpy as np\n",
        "import pandas as pd\n",
        "import scipy.stats as stats\n",
        "from pathlib import Path\n",
        "import glob\n",
        "import pickle\n",
        "\n",
        "import matplotlib.pyplot as plt\n",
        "\n",
        "import random\n",
        "import os\n",
        "\n",
        "from sklearn.model_selection import StratifiedKFold\n",
        "from sklearn.preprocessing import StandardScaler, LabelEncoder\n",
        "\n",
        "import tensorflow as tf\n",
        "import tensorflow.keras.layers as L\n",
        "import tensorflow.keras.models as M\n",
        "import tensorflow.keras.backend as K\n",
        "import tensorflow_addons as tfa\n",
        "from tensorflow_addons.layers import WeightNormalization\n",
        "from tensorflow.keras.callbacks import ReduceLROnPlateau, ModelCheckpoint, EarlyStopping"
      ],
      "execution_count": 3,
      "outputs": []
    },
    {
      "cell_type": "code",
      "metadata": {
        "colab": {
          "base_uri": "https://localhost:8080/"
        },
        "id": "OXH-uDnRvyte",
        "outputId": "6295e787-e8b4-4a63-946b-da9bf465a707"
      },
      "source": [
        "from google.colab import drive\n",
        "drive.mount('/content/drive')"
      ],
      "execution_count": 4,
      "outputs": [
        {
          "output_type": "stream",
          "text": [
            "Mounted at /content/drive\n"
          ],
          "name": "stdout"
        }
      ]
    },
    {
      "cell_type": "code",
      "metadata": {
        "id": "vC-m_MfJQLeG"
      },
      "source": [
        "# options\n",
        "\n",
        "N_SPLITS = 10\n",
        "\n",
        "SEED = 2021\n",
        "\n",
        "NUM_WIFI_FEATS = 45 # number of features that we use. there are 100 feats but we don't need to use all of them\n",
        "NUM_BEACON_FEATS = 10\n",
        "\n",
        "base_path = '/content/drive/MyDrive'"
      ],
      "execution_count": 5,
      "outputs": []
    },
    {
      "cell_type": "code",
      "metadata": {
        "id": "ZFWTzM1nQLeG"
      },
      "source": [
        "def set_seed(seed=42):\n",
        "    random.seed(seed)\n",
        "    os.environ['PYTHONHASHSEED'] = str(seed)\n",
        "    np.random.seed(seed)\n",
        "    tf.random.set_seed(seed)\n",
        "    session_conf = tf.compat.v1.ConfigProto(\n",
        "        intra_op_parallelism_threads=1,\n",
        "        inter_op_parallelism_threads=1\n",
        "    )\n",
        "    sess = tf.compat.v1.Session(graph=tf.compat.v1.get_default_graph(), config=session_conf)\n",
        "    tf.compat.v1.keras.backend.set_session(sess)\n",
        "    \n",
        "def comp_metric(xhat, yhat, fhat, x, y, f):\n",
        "    intermediate = np.sqrt(np.power(xhat-x, 2) + np.power(yhat-y, 2)) + 15 * np.abs(fhat-f)\n",
        "    return intermediate.sum()/xhat.shape[0]"
      ],
      "execution_count": 6,
      "outputs": []
    },
    {
      "cell_type": "code",
      "metadata": {
        "id": "t3hSLCIjQLeH"
      },
      "source": [
        "feature_dir = f\"{base_path}/wifi_100_beacon_10\"\n",
        "train_files = sorted(glob.glob(os.path.join(feature_dir, '*_train.csv')))\n",
        "test_files = sorted(glob.glob(os.path.join(feature_dir, '*_test.csv')))\n",
        "subm = pd.read_csv(f'{base_path}/sample_submission.csv', index_col=0)"
      ],
      "execution_count": 7,
      "outputs": []
    },
    {
      "cell_type": "code",
      "metadata": {
        "id": "alxq56OoQLeH"
      },
      "source": [
        "with open(f'{feature_dir}/train_all.pkl', 'rb') as f:\n",
        "  data = pickle.load( f)\n",
        "\n",
        "with open(f'{feature_dir}/test_all.pkl', 'rb') as f:\n",
        "  test_data = pickle.load(f)"
      ],
      "execution_count": 8,
      "outputs": []
    },
    {
      "cell_type": "code",
      "metadata": {
        "id": "ZPe8k_4RQLeI"
      },
      "source": [
        "# training target features\n",
        "\n",
        "WIFI_BSSID_FEATS = [f'wifi_bssid_{i}' for i in range(NUM_WIFI_FEATS)]\n",
        "WIFI_RSSI_FEATS  = [f'wifi_rssi_{i}' for i in range(NUM_WIFI_FEATS)]\n",
        "WIFI_TIMEGAP_FEATS = [f'wifi_timegap_{i}' for i in range(NUM_WIFI_FEATS)]\n",
        "\n",
        "BEACON_MACADDRESS_FEATS = [f'beacon_macaddress_{i}' for i in range(NUM_BEACON_FEATS)]\n",
        "BEACON_DISTANCE_FEATS  = [f'beacon_distance_{i}' for i in range(NUM_BEACON_FEATS)]\n",
        "BEACON_TIMEGAP_FEATS = [f'beacon_timegap_{i}' for i in range(NUM_BEACON_FEATS)]\n"
      ],
      "execution_count": 9,
      "outputs": []
    },
    {
      "cell_type": "code",
      "metadata": {
        "id": "eQm0rbxkCeeO"
      },
      "source": [
        "wifi_bssids_column = [i+3 for i in range(1, 306) if i % 3 == 0]\n",
        "wifi_bssids_column_test = [i+4 for i in range(1, 307) if i % 3 == 0]"
      ],
      "execution_count": 10,
      "outputs": []
    },
    {
      "cell_type": "code",
      "metadata": {
        "colab": {
          "base_uri": "https://localhost:8080/"
        },
        "id": "KKtQot9MQLeI",
        "outputId": "6845999c-8d20-4cb3-c250-e03ab801e481"
      },
      "source": [
        "# get numbers of bssids to embed them in a layer\n",
        "\n",
        "wifi_bssids = []\n",
        "for i in wifi_bssids_column:\n",
        "    wifi_bssids.extend(data.iloc[:,i].values.tolist())\n",
        "wifi_bssids = list(set(wifi_bssids))\n",
        "\n",
        "wifi_bssids_size = len(wifi_bssids)\n",
        "print(f'BSSID TYPES: {wifi_bssids_size}')\n",
        "\n",
        "wifi_bssids_test = []\n",
        "for i in wifi_bssids_column_test:\n",
        "    wifi_bssids_test.extend(test_data.iloc[:,i].values.tolist())\n",
        "wifi_bssids_test = list(set(wifi_bssids_test))\n",
        "\n",
        "wifi_bssids_size = len(wifi_bssids_test)\n",
        "print(f'BSSID TYPES: {wifi_bssids_size}')\n",
        "\n",
        "wifi_bssids.extend(wifi_bssids_test)\n",
        "wifi_bssids_size = len(wifi_bssids)"
      ],
      "execution_count": 11,
      "outputs": [
        {
          "output_type": "stream",
          "text": [
            "BSSID TYPES: 61894\n",
            "BSSID TYPES: 30479\n"
          ],
          "name": "stdout"
        }
      ]
    },
    {
      "cell_type": "code",
      "metadata": {
        "id": "FX1msPhVEeLp"
      },
      "source": [
        "beacon_macaddress_column = [i+303 for i in range(1, 33) if i % 3 == 0]\n",
        "beacon_macaddress_column_test = [i+304 for i in range(1, 33) if i % 3 == 0]"
      ],
      "execution_count": 12,
      "outputs": []
    },
    {
      "cell_type": "code",
      "metadata": {
        "colab": {
          "base_uri": "https://localhost:8080/"
        },
        "id": "sB41GTzix0iR",
        "outputId": "a9b1b12a-cec0-43ad-d045-7daa91c8f458"
      },
      "source": [
        "beacon_macaddress = []\n",
        "for i in beacon_macaddress_column:\n",
        "    beacon_macaddress.extend(data.iloc[:,i].values.tolist())\n",
        "beacon_macaddress = list(set(beacon_macaddress))\n",
        "\n",
        "beacon_macaddress_size = len(beacon_macaddress)\n",
        "print(f'MACADRESS TYPES: {beacon_macaddress_size}')\n",
        "\n",
        "beacon_macaddress_test = []\n",
        "for i in beacon_macaddress_column_test:\n",
        "    beacon_macaddress_test.extend(test_data.iloc[:,i].values.tolist())\n",
        "beacon_macaddress_test = list(set(beacon_macaddress_test))\n",
        "\n",
        "beacon_macaddress_size = len(beacon_macaddress_test)\n",
        "print(f'MACADRESS TYPES: {beacon_macaddress_size}')\n",
        "\n",
        "beacon_macaddress.extend(beacon_macaddress_test)\n",
        "beacon_macaddress_size = len(beacon_macaddress)\n"
      ],
      "execution_count": 13,
      "outputs": [
        {
          "output_type": "stream",
          "text": [
            "MACADRESS TYPES: 12218\n",
            "MACADRESS TYPES: 4413\n"
          ],
          "name": "stdout"
        }
      ]
    },
    {
      "cell_type": "code",
      "metadata": {
        "id": "c6XyDfCJV5vL"
      },
      "source": [
        "data[BEACON_DISTANCE_FEATS] = data[BEACON_DISTANCE_FEATS].replace([np.inf, -np.inf], np.nan)\n",
        "data[BEACON_DISTANCE_FEATS] = data[BEACON_DISTANCE_FEATS].fillna(-99).astype(float)\n",
        "\n",
        "test_data[BEACON_DISTANCE_FEATS] = test_data[BEACON_DISTANCE_FEATS].replace([np.inf, -np.inf], np.nan)\n",
        "test_data[BEACON_DISTANCE_FEATS] = test_data[BEACON_DISTANCE_FEATS].fillna(-99).astype(float)"
      ],
      "execution_count": 14,
      "outputs": []
    },
    {
      "cell_type": "code",
      "metadata": {
        "colab": {
          "base_uri": "https://localhost:8080/"
        },
        "id": "TtJP4v6DQLeJ",
        "outputId": "f17f0c73-5443-42b7-bc5d-fb916089db96"
      },
      "source": [
        "# preprocess\n",
        "\n",
        "le_wifi = LabelEncoder()\n",
        "le_wifi.fit(wifi_bssids)\n",
        "\n",
        "le_beacon = LabelEncoder()\n",
        "le_beacon.fit(beacon_macaddress)\n",
        "\n",
        "le_site = LabelEncoder()\n",
        "le_site.fit(data['site'])\n",
        "\n",
        "ss = StandardScaler()\n",
        "ss.fit(data.loc[:,WIFI_RSSI_FEATS+WIFI_TIMEGAP_FEATS+BEACON_DISTANCE_FEATS+BEACON_TIMEGAP_FEATS+['floor']])"
      ],
      "execution_count": 15,
      "outputs": [
        {
          "output_type": "execute_result",
          "data": {
            "text/plain": [
              "StandardScaler(copy=True, with_mean=True, with_std=True)"
            ]
          },
          "metadata": {
            "tags": []
          },
          "execution_count": 15
        }
      ]
    },
    {
      "cell_type": "code",
      "metadata": {
        "id": "mJvMKEmkQLeK"
      },
      "source": [
        "data.loc[:,WIFI_RSSI_FEATS+WIFI_TIMEGAP_FEATS+BEACON_DISTANCE_FEATS+BEACON_TIMEGAP_FEATS+['floor']] = ss.transform(data.loc[:,WIFI_RSSI_FEATS+WIFI_TIMEGAP_FEATS+BEACON_DISTANCE_FEATS+BEACON_TIMEGAP_FEATS+['floor']])\n",
        "\n",
        "for i in WIFI_BSSID_FEATS:\n",
        "    data.loc[:,i] = le_wifi.transform(data.loc[:,i])\n",
        "    data.loc[:,i] = data.loc[:,i] + 1\n",
        "for i in BEACON_MACADDRESS_FEATS:\n",
        "    data.loc[:,i] = le_beacon.transform(data.loc[:,i])\n",
        "    data.loc[:,i] = data.loc[:,i] + 1\n",
        "    \n",
        "data.loc[:, 'site'] = le_site.transform(data.loc[:, 'site'])\n",
        "\n",
        "data.loc[:,WIFI_RSSI_FEATS+WIFI_TIMEGAP_FEATS+BEACON_DISTANCE_FEATS+BEACON_TIMEGAP_FEATS+['floor']] = ss.transform(data.loc[:,WIFI_RSSI_FEATS+WIFI_TIMEGAP_FEATS+BEACON_DISTANCE_FEATS+BEACON_TIMEGAP_FEATS+['floor']])"
      ],
      "execution_count": 16,
      "outputs": []
    },
    {
      "cell_type": "markdown",
      "metadata": {
        "id": "UlBFEQ5wQLeL"
      },
      "source": [
        "Add floor predictions."
      ]
    },
    {
      "cell_type": "code",
      "metadata": {
        "id": "o1UcsQjrQLeL"
      },
      "source": [
        "simple_accurate_99 = pd.read_csv('/content/drive/MyDrive/submission_floor_accurate (1).csv') "
      ],
      "execution_count": 17,
      "outputs": []
    },
    {
      "cell_type": "code",
      "metadata": {
        "id": "bOgd5-urQLeL"
      },
      "source": [
        "test_data['floor'] = simple_accurate_99['floor'].values"
      ],
      "execution_count": 18,
      "outputs": []
    },
    {
      "cell_type": "code",
      "metadata": {
        "id": "CE6YywhiQLeL"
      },
      "source": [
        "test_data.loc[:,WIFI_RSSI_FEATS+WIFI_TIMEGAP_FEATS+BEACON_DISTANCE_FEATS+BEACON_TIMEGAP_FEATS+['floor']] = ss.transform(test_data.loc[:,WIFI_RSSI_FEATS+WIFI_TIMEGAP_FEATS+BEACON_DISTANCE_FEATS+BEACON_TIMEGAP_FEATS+['floor']])\n",
        "\n",
        "for i in WIFI_BSSID_FEATS:\n",
        "    test_data.loc[:,i] = le_wifi.transform(test_data.loc[:,i])\n",
        "    test_data.loc[:,i] = test_data.loc[:,i] + 1\n",
        "for i in BEACON_MACADDRESS_FEATS:\n",
        "    test_data.loc[:,i] = le_beacon.transform(test_data.loc[:,i])\n",
        "    test_data.loc[:,i] = test_data.loc[:,i] + 1\n",
        "    \n",
        "test_data.loc[:, 'site'] = le_site.transform(test_data.loc[:, 'site'])\n",
        "\n",
        "test_data.loc[:,WIFI_RSSI_FEATS+WIFI_TIMEGAP_FEATS+BEACON_DISTANCE_FEATS+BEACON_TIMEGAP_FEATS+['floor']] = ss.transform(test_data.loc[:,WIFI_RSSI_FEATS+WIFI_TIMEGAP_FEATS+BEACON_DISTANCE_FEATS+BEACON_TIMEGAP_FEATS+['floor']])"
      ],
      "execution_count": 19,
      "outputs": []
    },
    {
      "cell_type": "code",
      "metadata": {
        "id": "DXltaFBCQLeM"
      },
      "source": [
        "site_count = len(data['site'].unique())\n",
        "data.reset_index(drop=True, inplace=True)"
      ],
      "execution_count": 20,
      "outputs": []
    },
    {
      "cell_type": "code",
      "metadata": {
        "id": "9B0_V7GXQLeM"
      },
      "source": [
        "set_seed(SEED)"
      ],
      "execution_count": 21,
      "outputs": []
    },
    {
      "cell_type": "markdown",
      "metadata": {
        "id": "0JdoEfV0QLeM"
      },
      "source": [
        "## The model\n",
        "The first Embedding layer is very important. <br>\n",
        "Thanks to the layer, we can make sense of these BSSID features. <br>\n",
        "<br>\n",
        "We concatenate all the features and put them into LSTM. <br>\n",
        "<br>\n",
        "If something is theoritically wrong, please correct me. Thank you in advance. "
      ]
    },
    {
      "cell_type": "code",
      "metadata": {
        "id": "-GhZcJnxQLeM"
      },
      "source": [
        "def create_model(input_data):\n",
        "\n",
        "    # bssid feats\n",
        "    input_dim = input_data[0].shape[1]\n",
        "\n",
        "    input_embd_bssid_layer = L.Input(shape=(input_dim,))\n",
        "    x1 = L.Embedding(wifi_bssids_size, 64)(input_embd_bssid_layer)\n",
        "    x1 = L.Flatten()(x1)\n",
        "\n",
        "    # wifi_rssi feats\n",
        "    input_dim = input_data[1].shape[1]\n",
        "\n",
        "    input_wifi_rssi_layer = L.Input(input_dim, )\n",
        "    x2 = L.BatchNormalization()(input_wifi_rssi_layer)\n",
        "    x2 = L.Dense(NUM_WIFI_FEATS * 64, activation='relu')(x2)\n",
        "\n",
        "    # wifi_timegap feats\n",
        "    input_dim = input_data[2].shape[1]\n",
        "\n",
        "    input_wifi_timegap_layer = L.Input(input_dim, )\n",
        "    x3 = L.BatchNormalization()(input_wifi_timegap_layer)\n",
        "    x3 = L.Dense(NUM_WIFI_FEATS * 64, activation='relu')(x3)\n",
        "\n",
        "    # macaddress feats\n",
        "    input_dim = input_data[3].shape[1]\n",
        "\n",
        "    input_embd_macaddress_layer = L.Input(shape=(input_dim,))\n",
        "    x4 = L.Embedding(beacon_macaddress_size, 64)(input_embd_macaddress_layer)\n",
        "    x4 = L.Flatten()(x4)\n",
        "\n",
        "\n",
        "    # beacon_distance feats\n",
        "    input_dim = input_data[4].shape[1]\n",
        "\n",
        "    input_beacon_distance_layer = L.Input(input_dim, )\n",
        "    x5 = L.BatchNormalization()(input_beacon_distance_layer)\n",
        "    x5 = L.Dense(NUM_BEACON_FEATS * 64, activation='relu')(x5)\n",
        "\n",
        "    # beacon_timegap feats\n",
        "    input_dim = input_data[5].shape[1]\n",
        "\n",
        "    input_beacon_timegap_layer = L.Input(input_dim, )\n",
        "    x6 = L.BatchNormalization()(input_beacon_timegap_layer)\n",
        "    x6 = L.Dense(NUM_BEACON_FEATS * 64, activation='relu')(x6)\n",
        "\n",
        "    # site\n",
        "    input_site_layer = L.Input(shape=(1,))\n",
        "    x7 = L.Embedding(site_count, 1)(input_site_layer)\n",
        "    x7 = L.Flatten()(x7)\n",
        "\n",
        "    # main stream\n",
        "    x = L.Concatenate(axis=1)([x1, x2, x3, x4, x5, x6, x7])\n",
        "\n",
        "    x = L.BatchNormalization()(x)\n",
        "    x = L.Dropout(0.3)(x)\n",
        "    x = L.Dense(1280, activation='relu')(x)\n",
        "\n",
        "    x = L.Reshape((1, -1))(x)\n",
        "    x = L.BatchNormalization()(x)\n",
        "    #x = L.LSTM(128, dropout=0.3, recurrent_dropout=0.3, return_sequences=True, activation='relu')(x)\n",
        "    x = L.LSTM(1280, dropout=0.3, recurrent_dropout=0.3, return_sequences=True, activation='relu')(x)\n",
        "    x = L.LSTM(16, dropout=0.1, return_sequences=False, activation='relu')(x)\n",
        "\n",
        "    \n",
        "    output_layer_1 = L.Dense(2, name='xy')(x)\n",
        "    #output_layer_2 = L.Dense(1, activation='softmax', name='floor')(x)\n",
        "\n",
        "    model = M.Model([input_embd_bssid_layer, \n",
        "                     input_wifi_rssi_layer,\n",
        "                     input_wifi_timegap_layer,\n",
        "                     input_embd_macaddress_layer,\n",
        "                     input_beacon_distance_layer,\n",
        "                     input_beacon_timegap_layer, \n",
        "                     input_site_layer], \n",
        "                     [output_layer_1])\n",
        "\n",
        "    model.compile(optimizer=tf.optimizers.Adam(lr=0.001),\n",
        "                  loss='mse', metrics=['mse'])\n",
        "\n",
        "    return model"
      ],
      "execution_count": 22,
      "outputs": []
    },
    {
      "cell_type": "code",
      "metadata": {
        "colab": {
          "background_save": true,
          "base_uri": "https://localhost:8080/"
        },
        "id": "5M_B7utnQLeN",
        "outputId": "a29914a9-2019-4e14-8c74-71492e915a8d"
      },
      "source": [
        "score_df = pd.DataFrame()\n",
        "predictions = list()\n",
        "\n",
        "preds_x, preds_y = 0, 0\n",
        "preds_f_arr = np.zeros((test_data.shape[0], N_SPLITS))\n",
        "\n",
        "for fold, (trn_idx, val_idx) in enumerate(StratifiedKFold(n_splits=N_SPLITS, shuffle=True, random_state=SEED).split(data.loc[:, 'path'], data.loc[:, 'path'])):\n",
        "    X_train = data.loc[trn_idx, WIFI_BSSID_FEATS + WIFI_RSSI_FEATS + WIFI_TIMEGAP_FEATS + BEACON_MACADDRESS_FEATS + BEACON_DISTANCE_FEATS + BEACON_TIMEGAP_FEATS + ['floor','site']]\n",
        "    y_trainx = data.loc[trn_idx, 'x']\n",
        "    y_trainy = data.loc[trn_idx, 'y']\n",
        "    y_trainf = data.loc[trn_idx, 'floor']\n",
        "\n",
        "    tmp = pd.concat([y_trainx, y_trainy], axis=1)\n",
        "    #y_train = [tmp, y_trainf]\n",
        "    y_train = tmp\n",
        "\n",
        "    X_valid = data.loc[val_idx, WIFI_BSSID_FEATS + WIFI_RSSI_FEATS + WIFI_TIMEGAP_FEATS + BEACON_MACADDRESS_FEATS + BEACON_DISTANCE_FEATS + BEACON_TIMEGAP_FEATS + ['floor','site']]\n",
        "    y_validx = data.loc[val_idx, 'x']\n",
        "    y_validy = data.loc[val_idx, 'y']\n",
        "    y_validf = data.loc[val_idx, 'floor']\n",
        "\n",
        "    tmp = pd.concat([y_validx, y_validy], axis=1)\n",
        "    #y_valid = [tmp, y_validf]\n",
        "    y_valid = tmp\n",
        "\n",
        "    model = create_model([X_train.loc[:,WIFI_BSSID_FEATS], \n",
        "                          X_train.loc[:,WIFI_RSSI_FEATS],\n",
        "                          X_train.loc[:,WIFI_TIMEGAP_FEATS],\n",
        "                          X_train.loc[:,BEACON_MACADDRESS_FEATS],\n",
        "                          X_train.loc[:,BEACON_DISTANCE_FEATS],\n",
        "                          X_train.loc[:,BEACON_TIMEGAP_FEATS+['floor']], \n",
        "                          X_train.loc[:,'site']])\n",
        "    model.fit([X_train.loc[:,WIFI_BSSID_FEATS], \n",
        "               X_train.loc[:,WIFI_RSSI_FEATS],\n",
        "               X_train.loc[:,WIFI_TIMEGAP_FEATS],\n",
        "               X_train.loc[:,BEACON_MACADDRESS_FEATS],\n",
        "               X_train.loc[:,BEACON_DISTANCE_FEATS],\n",
        "               X_train.loc[:,BEACON_TIMEGAP_FEATS+['floor']], \n",
        "               X_train.loc[:,'site']], y_train, \n",
        "                validation_data=([X_valid.loc[:,WIFI_BSSID_FEATS], \n",
        "                          X_valid.loc[:,WIFI_RSSI_FEATS],\n",
        "                          X_valid.loc[:,WIFI_TIMEGAP_FEATS],\n",
        "                          X_valid.loc[:,BEACON_MACADDRESS_FEATS],\n",
        "                          X_valid.loc[:,BEACON_DISTANCE_FEATS],\n",
        "                          X_valid.loc[:,BEACON_TIMEGAP_FEATS+['floor']], \n",
        "                          X_valid.loc[:,'site']], y_valid), \n",
        "                batch_size=128, epochs=1000,\n",
        "                callbacks=[\n",
        "                ReduceLROnPlateau(monitor='val_loss', factor=0.1, patience=3, verbose=1, min_delta=1e-4, mode='min')\n",
        "                , ModelCheckpoint(f'{base_path}/RNN_{SEED}_{fold}.hdf5', monitor='val_loss', verbose=0, save_best_only=True, save_weights_only=True, mode='min')\n",
        "                , EarlyStopping(monitor='val_loss', min_delta=1e-4, patience=5, mode='min', baseline=None, restore_best_weights=True)\n",
        "            ])\n",
        "\n",
        "    #val_pred = model.predict([X_valid.loc[:,BSSID_FEATS], X_valid.loc[:,RSSI_FEATS], X_valid.loc[:,'site_id'], X_valid.loc[:,'floor']])\n",
        "\n",
        "    pred = model.predict([test_data.loc[:,WIFI_BSSID_FEATS], \n",
        "                          test_data.loc[:,WIFI_RSSI_FEATS],\n",
        "                          test_data.loc[:,WIFI_TIMEGAP_FEATS],\n",
        "                          test_data.loc[:,BEACON_MACADDRESS_FEATS],\n",
        "                          test_data.loc[:,BEACON_DISTANCE_FEATS],\n",
        "                          test_data.loc[:,BEACON_TIMEGAP_FEATS+['floor']], \n",
        "                          test_data.loc[:,'site']]) # test_data.iloc[:, :-1])\n",
        "    preds_x += pred[:,0]\n",
        "    preds_y += pred[:,1]\n",
        "    #preds_f_arr[:, fold] = pred[1][:,0].astype(int)\n",
        "\n",
        "    \n",
        "\n",
        "    break # for demonstration, run just one fold as it takes much time.\n",
        "\n",
        "preds_x /= (fold + 1)\n",
        "preds_y /= (fold + 1)\n",
        "    \n",
        "print(\"*+\"*40)\n",
        "print(\"*+\"*40)\n",
        "\n",
        "#preds_f_mode = stats.mode(preds_f_arr, axis=1)\n",
        "#preds_f = preds_f_mode[0].astype(int).reshape(-1)\n",
        "preds_f = test_data['floor']\n",
        "test_preds = pd.DataFrame(np.stack((preds_f, preds_x, preds_y))).T\n",
        "test_preds.columns = subm.columns\n",
        "test_preds[\"floor\"] = test_preds[\"floor\"].astype(int)\n",
        "predictions.append(test_preds)"
      ],
      "execution_count": null,
      "outputs": [
        {
          "output_type": "stream",
          "text": [
            "/usr/local/lib/python3.7/dist-packages/sklearn/model_selection/_split.py:667: UserWarning: The least populated class in y has only 2 members, which is less than n_splits=10.\n",
            "  % (min_groups, self.n_splits)), UserWarning)\n"
          ],
          "name": "stderr"
        },
        {
          "output_type": "stream",
          "text": [
            "Epoch 1/1000\n",
            "530/530 [==============================] - 433s 807ms/step - loss: 2783.7999 - mse: 2783.7999 - val_loss: 892.9825 - val_mse: 892.9825\n",
            "Epoch 2/1000\n",
            "530/530 [==============================] - 427s 806ms/step - loss: 235.3855 - mse: 235.3855 - val_loss: 143.1333 - val_mse: 143.1333\n",
            "Epoch 3/1000\n",
            "530/530 [==============================] - 415s 784ms/step - loss: 167.8612 - mse: 167.8612 - val_loss: 121.1773 - val_mse: 121.1773\n",
            "Epoch 4/1000\n",
            "530/530 [==============================] - 414s 781ms/step - loss: 137.3720 - mse: 137.3720 - val_loss: 120.2186 - val_mse: 120.2186\n",
            "Epoch 5/1000\n",
            "530/530 [==============================] - 417s 787ms/step - loss: 124.1391 - mse: 124.1391 - val_loss: 96.2713 - val_mse: 96.2713\n",
            "Epoch 6/1000\n",
            "530/530 [==============================] - 412s 778ms/step - loss: 114.8790 - mse: 114.8790 - val_loss: 93.1667 - val_mse: 93.1667\n",
            "Epoch 7/1000\n",
            "530/530 [==============================] - 415s 782ms/step - loss: 107.9945 - mse: 107.9945 - val_loss: 87.8844 - val_mse: 87.8844\n",
            "Epoch 8/1000\n",
            "530/530 [==============================] - 413s 779ms/step - loss: 100.3493 - mse: 100.3493 - val_loss: 81.3074 - val_mse: 81.3074\n",
            "Epoch 9/1000\n",
            "530/530 [==============================] - 412s 778ms/step - loss: 95.0976 - mse: 95.0976 - val_loss: 80.7415 - val_mse: 80.7415\n",
            "Epoch 10/1000\n",
            "530/530 [==============================] - 414s 780ms/step - loss: 84.4270 - mse: 84.4270 - val_loss: 93.3827 - val_mse: 93.3827\n",
            "Epoch 11/1000\n",
            "530/530 [==============================] - 412s 778ms/step - loss: 84.2626 - mse: 84.2626 - val_loss: 70.2075 - val_mse: 70.2075\n",
            "Epoch 12/1000\n",
            "530/530 [==============================] - 405s 763ms/step - loss: 77.4705 - mse: 77.4705 - val_loss: 71.3376 - val_mse: 71.3376\n",
            "Epoch 13/1000\n",
            "530/530 [==============================] - 404s 762ms/step - loss: 78.3301 - mse: 78.3301 - val_loss: 74.5190 - val_mse: 74.5190\n",
            "Epoch 14/1000\n",
            "188/530 [=========>....................] - ETA: 4:16 - loss: 74.0348 - mse: 74.0348"
          ],
          "name": "stdout"
        }
      ]
    },
    {
      "cell_type": "code",
      "metadata": {
        "id": "Tf1pb7fnhsL4"
      },
      "source": [
        "model.load_weights(f'{base_path}/RNN_{SEED}_{fold}.hdf5')\n",
        "\n",
        "\n",
        "test_preds.index = test_data[\"site_path_timestamp\"]"
      ],
      "execution_count": null,
      "outputs": []
    },
    {
      "cell_type": "code",
      "metadata": {
        "id": "noufMNzhQLeS"
      },
      "source": [
        "all_preds = pd.concat(predictions)\n",
        "all_preds = all_preds.reindex(subm.index)"
      ],
      "execution_count": null,
      "outputs": []
    },
    {
      "cell_type": "markdown",
      "metadata": {
        "id": "Xu6tXYj4QLeT"
      },
      "source": [
        "## Fix the floor prediction\n",
        "So far, it is not successfully make the \"floor\" prediction part with this dataset. <br>\n",
        "To make it right, we can incorporate [@nigelhenry](https://www.kaggle.com/nigelhenry/)'s [excellent work](https://www.kaggle.com/nigelhenry/simple-99-accurate-floor-model). <br>"
      ]
    },
    {
      "cell_type": "code",
      "metadata": {
        "colab": {
          "base_uri": "https://localhost:8080/",
          "height": 223
        },
        "id": "vo_2C9E0QLeT",
        "outputId": "138a7168-ff25-462d-d93a-a2f750547c03"
      },
      "source": [
        "simple_accurate_99 = pd.read_csv('/content/drive/MyDrive/submission_floor_accurate (1).csv')\n",
        "\n",
        "all_preds['floor'] = simple_accurate_99['floor'].values"
      ],
      "execution_count": null,
      "outputs": [
        {
          "output_type": "error",
          "ename": "NameError",
          "evalue": "ignored",
          "traceback": [
            "\u001b[0;31m---------------------------------------------------------------------------\u001b[0m",
            "\u001b[0;31mNameError\u001b[0m                                 Traceback (most recent call last)",
            "\u001b[0;32m<ipython-input-81-7b0983e9d04b>\u001b[0m in \u001b[0;36m<module>\u001b[0;34m()\u001b[0m\n\u001b[1;32m      1\u001b[0m \u001b[0msimple_accurate_99\u001b[0m \u001b[0;34m=\u001b[0m \u001b[0mpd\u001b[0m\u001b[0;34m.\u001b[0m\u001b[0mread_csv\u001b[0m\u001b[0;34m(\u001b[0m\u001b[0;34m'/content/drive/MyDrive/submission_floor_accurate (1).csv'\u001b[0m\u001b[0;34m)\u001b[0m\u001b[0;34m\u001b[0m\u001b[0;34m\u001b[0m\u001b[0m\n\u001b[1;32m      2\u001b[0m \u001b[0;34m\u001b[0m\u001b[0m\n\u001b[0;32m----> 3\u001b[0;31m \u001b[0mall_preds\u001b[0m\u001b[0;34m[\u001b[0m\u001b[0;34m'floor'\u001b[0m\u001b[0;34m]\u001b[0m \u001b[0;34m=\u001b[0m \u001b[0msimple_accurate_99\u001b[0m\u001b[0;34m[\u001b[0m\u001b[0;34m'floor'\u001b[0m\u001b[0;34m]\u001b[0m\u001b[0;34m.\u001b[0m\u001b[0mvalues\u001b[0m\u001b[0;34m\u001b[0m\u001b[0;34m\u001b[0m\u001b[0m\n\u001b[0m",
            "\u001b[0;31mNameError\u001b[0m: name 'all_preds' is not defined"
          ]
        }
      ]
    },
    {
      "cell_type": "code",
      "metadata": {
        "colab": {
          "base_uri": "https://localhost:8080/",
          "height": 439
        },
        "id": "JqTZAm-XhInp",
        "outputId": "4794bfe3-5249-42f2-f7c1-e03a61511ea7"
      },
      "source": [
        "simple_accurate_99"
      ],
      "execution_count": null,
      "outputs": [
        {
          "output_type": "execute_result",
          "data": {
            "text/html": [
              "<div>\n",
              "<style scoped>\n",
              "    .dataframe tbody tr th:only-of-type {\n",
              "        vertical-align: middle;\n",
              "    }\n",
              "\n",
              "    .dataframe tbody tr th {\n",
              "        vertical-align: top;\n",
              "    }\n",
              "\n",
              "    .dataframe thead th {\n",
              "        text-align: right;\n",
              "    }\n",
              "</style>\n",
              "<table border=\"1\" class=\"dataframe\">\n",
              "  <thead>\n",
              "    <tr style=\"text-align: right;\">\n",
              "      <th></th>\n",
              "      <th>site_path_timestamp</th>\n",
              "      <th>floor</th>\n",
              "      <th>x</th>\n",
              "      <th>y</th>\n",
              "    </tr>\n",
              "  </thead>\n",
              "  <tbody>\n",
              "    <tr>\n",
              "      <th>0</th>\n",
              "      <td>5a0546857ecc773753327266_046cfa46be49fc1083481...</td>\n",
              "      <td>0</td>\n",
              "      <td>89.122566</td>\n",
              "      <td>103.309456</td>\n",
              "    </tr>\n",
              "    <tr>\n",
              "      <th>1</th>\n",
              "      <td>5a0546857ecc773753327266_046cfa46be49fc1083481...</td>\n",
              "      <td>0</td>\n",
              "      <td>81.111786</td>\n",
              "      <td>101.169914</td>\n",
              "    </tr>\n",
              "    <tr>\n",
              "      <th>2</th>\n",
              "      <td>5a0546857ecc773753327266_046cfa46be49fc1083481...</td>\n",
              "      <td>0</td>\n",
              "      <td>86.277580</td>\n",
              "      <td>104.897163</td>\n",
              "    </tr>\n",
              "    <tr>\n",
              "      <th>3</th>\n",
              "      <td>5a0546857ecc773753327266_046cfa46be49fc1083481...</td>\n",
              "      <td>0</td>\n",
              "      <td>87.436592</td>\n",
              "      <td>113.423668</td>\n",
              "    </tr>\n",
              "    <tr>\n",
              "      <th>4</th>\n",
              "      <td>5a0546857ecc773753327266_046cfa46be49fc1083481...</td>\n",
              "      <td>0</td>\n",
              "      <td>86.077820</td>\n",
              "      <td>106.833618</td>\n",
              "    </tr>\n",
              "    <tr>\n",
              "      <th>...</th>\n",
              "      <td>...</td>\n",
              "      <td>...</td>\n",
              "      <td>...</td>\n",
              "      <td>...</td>\n",
              "    </tr>\n",
              "    <tr>\n",
              "      <th>10128</th>\n",
              "      <td>5dc8cea7659e181adb076a3f_fd64de8c4a2fc5ebb0e9f...</td>\n",
              "      <td>5</td>\n",
              "      <td>212.841385</td>\n",
              "      <td>96.926880</td>\n",
              "    </tr>\n",
              "    <tr>\n",
              "      <th>10129</th>\n",
              "      <td>5dc8cea7659e181adb076a3f_fd64de8c4a2fc5ebb0e9f...</td>\n",
              "      <td>5</td>\n",
              "      <td>207.187180</td>\n",
              "      <td>97.085358</td>\n",
              "    </tr>\n",
              "    <tr>\n",
              "      <th>10130</th>\n",
              "      <td>5dc8cea7659e181adb076a3f_fd64de8c4a2fc5ebb0e9f...</td>\n",
              "      <td>5</td>\n",
              "      <td>204.206039</td>\n",
              "      <td>109.200897</td>\n",
              "    </tr>\n",
              "    <tr>\n",
              "      <th>10131</th>\n",
              "      <td>5dc8cea7659e181adb076a3f_fd64de8c4a2fc5ebb0e9f...</td>\n",
              "      <td>5</td>\n",
              "      <td>201.037766</td>\n",
              "      <td>112.418053</td>\n",
              "    </tr>\n",
              "    <tr>\n",
              "      <th>10132</th>\n",
              "      <td>5dc8cea7659e181adb076a3f_fd64de8c4a2fc5ebb0e9f...</td>\n",
              "      <td>5</td>\n",
              "      <td>199.500351</td>\n",
              "      <td>113.847809</td>\n",
              "    </tr>\n",
              "  </tbody>\n",
              "</table>\n",
              "<p>10133 rows × 4 columns</p>\n",
              "</div>"
            ],
            "text/plain": [
              "                                     site_path_timestamp  ...           y\n",
              "0      5a0546857ecc773753327266_046cfa46be49fc1083481...  ...  103.309456\n",
              "1      5a0546857ecc773753327266_046cfa46be49fc1083481...  ...  101.169914\n",
              "2      5a0546857ecc773753327266_046cfa46be49fc1083481...  ...  104.897163\n",
              "3      5a0546857ecc773753327266_046cfa46be49fc1083481...  ...  113.423668\n",
              "4      5a0546857ecc773753327266_046cfa46be49fc1083481...  ...  106.833618\n",
              "...                                                  ...  ...         ...\n",
              "10128  5dc8cea7659e181adb076a3f_fd64de8c4a2fc5ebb0e9f...  ...   96.926880\n",
              "10129  5dc8cea7659e181adb076a3f_fd64de8c4a2fc5ebb0e9f...  ...   97.085358\n",
              "10130  5dc8cea7659e181adb076a3f_fd64de8c4a2fc5ebb0e9f...  ...  109.200897\n",
              "10131  5dc8cea7659e181adb076a3f_fd64de8c4a2fc5ebb0e9f...  ...  112.418053\n",
              "10132  5dc8cea7659e181adb076a3f_fd64de8c4a2fc5ebb0e9f...  ...  113.847809\n",
              "\n",
              "[10133 rows x 4 columns]"
            ]
          },
          "metadata": {
            "tags": []
          },
          "execution_count": 82
        }
      ]
    },
    {
      "cell_type": "code",
      "metadata": {
        "id": "0YqGRBxHQLeT"
      },
      "source": [
        "all_preds.to_csv('submission_lstm_in_floor_08_before_post.csv')"
      ],
      "execution_count": null,
      "outputs": []
    },
    {
      "cell_type": "markdown",
      "metadata": {
        "id": "7sjXUggimdKe"
      },
      "source": [
        ""
      ]
    },
    {
      "cell_type": "code",
      "metadata": {
        "id": "v3BeSzeSmVJC"
      },
      "source": [
        "shutil.move('submission_lstm_in_floor_08_before_post.csv', '/content/drive/MyDrive')"
      ],
      "execution_count": null,
      "outputs": []
    },
    {
      "cell_type": "markdown",
      "metadata": {
        "id": "DpqyXaCzQLeT"
      },
      "source": [
        "That's it. \n",
        "\n",
        "Thank you for reading all of it.\n",
        "\n",
        "I hope it helps!\n",
        "\n",
        "Please make comments if you found something to point out, insights or suggestions. "
      ]
    }
  ]
}