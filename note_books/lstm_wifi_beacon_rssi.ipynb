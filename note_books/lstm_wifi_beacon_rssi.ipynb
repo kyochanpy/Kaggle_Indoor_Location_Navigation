{
  "nbformat": 4,
  "nbformat_minor": 0,
  "metadata": {
    "kernelspec": {
      "display_name": "Python 3",
      "language": "python",
      "name": "python3"
    },
    "language_info": {
      "codemirror_mode": {
        "name": "ipython",
        "version": 3
      },
      "file_extension": ".py",
      "mimetype": "text/x-python",
      "name": "python",
      "nbconvert_exporter": "python",
      "pygments_lexer": "ipython3",
      "version": "3.7.9"
    },
    "papermill": {
      "default_parameters": {},
      "duration": 8233.224271,
      "end_time": "2021-03-08T21:05:19.991855",
      "environment_variables": {},
      "exception": null,
      "input_path": "__notebook__.ipynb",
      "output_path": "__notebook__.ipynb",
      "parameters": {},
      "start_time": "2021-03-08T18:48:06.767584",
      "version": "2.2.2"
    },
    "colab": {
      "name": "lstm-unified-wi-fi-training-x-and-y-with-floor.ipynb",
      "provenance": [],
      "include_colab_link": true
    }
  },
  "cells": [
    {
      "cell_type": "markdown",
      "metadata": {
        "id": "view-in-github",
        "colab_type": "text"
      },
      "source": [
        "<a href=\"https://colab.research.google.com/github/kyochanpy/Kaggle_Indoor_Location_Navigation/blob/main/note_books/lstm_wifi_beacon_rssi.ipynb\" target=\"_parent\"><img src=\"https://colab.research.google.com/assets/colab-badge.svg\" alt=\"Open In Colab\"/></a>"
      ]
    },
    {
      "cell_type": "code",
      "metadata": {
        "colab": {
          "base_uri": "https://localhost:8080/"
        },
        "id": "ZLpoCjbwLkiK",
        "outputId": "9c803e38-b522-4415-90bc-a49f8e1300d2"
      },
      "source": [
        "!pip install tensorflow_addons"
      ],
      "execution_count": 1,
      "outputs": [
        {
          "output_type": "stream",
          "text": [
            "Collecting tensorflow_addons\n",
            "\u001b[?25l  Downloading https://files.pythonhosted.org/packages/74/e3/56d2fe76f0bb7c88ed9b2a6a557e25e83e252aec08f13de34369cd850a0b/tensorflow_addons-0.12.1-cp37-cp37m-manylinux2010_x86_64.whl (703kB)\n",
            "\u001b[K     |████████████████████████████████| 706kB 3.0MB/s \n",
            "\u001b[?25hRequirement already satisfied: typeguard>=2.7 in /usr/local/lib/python3.7/dist-packages (from tensorflow_addons) (2.7.1)\n",
            "Installing collected packages: tensorflow-addons\n",
            "Successfully installed tensorflow-addons-0.12.1\n"
          ],
          "name": "stdout"
        }
      ]
    },
    {
      "cell_type": "code",
      "metadata": {
        "execution": {
          "iopub.execute_input": "2021-03-08T18:48:13.273841Z",
          "iopub.status.busy": "2021-03-08T18:48:13.273185Z",
          "iopub.status.idle": "2021-03-08T18:48:20.608403Z",
          "shell.execute_reply": "2021-03-08T18:48:20.607483Z"
        },
        "papermill": {
          "duration": 7.353893,
          "end_time": "2021-03-08T18:48:20.608645",
          "exception": false,
          "start_time": "2021-03-08T18:48:13.254752",
          "status": "completed"
        },
        "tags": [],
        "id": "LarVwf5gLd9i"
      },
      "source": [
        "import numpy as np\n",
        "import pandas as pd\n",
        "import scipy.stats as stats\n",
        "from pathlib import Path\n",
        "import glob\n",
        "import pickle\n",
        "\n",
        "import random\n",
        "import os\n",
        "\n",
        "from sklearn.model_selection import StratifiedKFold\n",
        "from sklearn.preprocessing import StandardScaler, LabelEncoder\n",
        "\n",
        "import tensorflow as tf\n",
        "import tensorflow.keras.layers as L\n",
        "import tensorflow.keras.models as M\n",
        "import tensorflow.keras.backend as K\n",
        "import tensorflow_addons as tfa\n",
        "from tensorflow_addons.layers import WeightNormalization\n",
        "from tensorflow.keras.callbacks import ReduceLROnPlateau, ModelCheckpoint, EarlyStopping"
      ],
      "execution_count": 2,
      "outputs": []
    },
    {
      "cell_type": "code",
      "metadata": {
        "colab": {
          "base_uri": "https://localhost:8080/"
        },
        "id": "zGrJVfrcLv3P",
        "outputId": "b5f2ec06-1517-43f6-bed8-4a7e46e531a7"
      },
      "source": [
        "from google.colab import drive\n",
        "drive.mount('/content/drive')"
      ],
      "execution_count": 3,
      "outputs": [
        {
          "output_type": "stream",
          "text": [
            "Mounted at /content/drive\n"
          ],
          "name": "stdout"
        }
      ]
    },
    {
      "cell_type": "code",
      "metadata": {
        "execution": {
          "iopub.execute_input": "2021-03-08T18:48:20.676797Z",
          "iopub.status.busy": "2021-03-08T18:48:20.675706Z",
          "iopub.status.idle": "2021-03-08T18:48:20.679807Z",
          "shell.execute_reply": "2021-03-08T18:48:20.679233Z"
        },
        "papermill": {
          "duration": 0.024891,
          "end_time": "2021-03-08T18:48:20.679947",
          "exception": false,
          "start_time": "2021-03-08T18:48:20.655056",
          "status": "completed"
        },
        "tags": [],
        "id": "hneE_jeGLd9k"
      },
      "source": [
        "# options\n",
        "\n",
        "N_SPLITS = 10\n",
        "\n",
        "SEED = 2021\n",
        "\n",
        "NUM_WIFI_FEATS = 45 # number of features that we use. there are 100 feats but we don't need to use all of them\n",
        "NUM_BEACON_FEATS = 10\n",
        "\n",
        "\n",
        "base_path = '/content/drive/MyDrive'"
      ],
      "execution_count": 4,
      "outputs": []
    },
    {
      "cell_type": "code",
      "metadata": {
        "_cell_guid": "b1076dfc-b9ad-4769-8c92-a6c4dae69d19",
        "_uuid": "8f2839f25d086af736a60e9eeb907d3b93b6e0e5",
        "execution": {
          "iopub.execute_input": "2021-03-08T18:48:20.721340Z",
          "iopub.status.busy": "2021-03-08T18:48:20.720596Z",
          "iopub.status.idle": "2021-03-08T18:48:20.723922Z",
          "shell.execute_reply": "2021-03-08T18:48:20.723321Z"
        },
        "papermill": {
          "duration": 0.028682,
          "end_time": "2021-03-08T18:48:20.724117",
          "exception": false,
          "start_time": "2021-03-08T18:48:20.695435",
          "status": "completed"
        },
        "tags": [],
        "id": "OkJJ4YujLd9l"
      },
      "source": [
        "def set_seed(seed=42):\n",
        "    random.seed(seed)\n",
        "    os.environ['PYTHONHASHSEED'] = str(seed)\n",
        "    np.random.seed(seed)\n",
        "    tf.random.set_seed(seed)\n",
        "    session_conf = tf.compat.v1.ConfigProto(\n",
        "        intra_op_parallelism_threads=1,\n",
        "        inter_op_parallelism_threads=1\n",
        "    )\n",
        "    sess = tf.compat.v1.Session(graph=tf.compat.v1.get_default_graph(), config=session_conf)\n",
        "    tf.compat.v1.keras.backend.set_session(sess)\n",
        "    \n",
        "def comp_metric(xhat, yhat, fhat, x, y, f):\n",
        "    intermediate = np.sqrt(np.power(xhat-x, 2) + np.power(yhat-y, 2)) + 15 * np.abs(fhat-f)\n",
        "    return intermediate.sum()/xhat.shape[0]"
      ],
      "execution_count": 5,
      "outputs": []
    },
    {
      "cell_type": "code",
      "metadata": {
        "execution": {
          "iopub.execute_input": "2021-03-08T18:48:20.759143Z",
          "iopub.status.busy": "2021-03-08T18:48:20.758446Z",
          "iopub.status.idle": "2021-03-08T18:48:20.844477Z",
          "shell.execute_reply": "2021-03-08T18:48:20.843723Z"
        },
        "papermill": {
          "duration": 0.104971,
          "end_time": "2021-03-08T18:48:20.844647",
          "exception": false,
          "start_time": "2021-03-08T18:48:20.739676",
          "status": "completed"
        },
        "tags": [],
        "id": "ZIEJnOMyLd9m"
      },
      "source": [
        "feature_dir = f\"{base_path}/wifi_100_beacon_50\"\n",
        "train_files = sorted(glob.glob(os.path.join(feature_dir, '*_train.csv')))\n",
        "test_files = sorted(glob.glob(os.path.join(feature_dir, '*_test.csv')))\n",
        "subm = pd.read_csv(f'{base_path}/sample_submission.csv', index_col=0)"
      ],
      "execution_count": 6,
      "outputs": []
    },
    {
      "cell_type": "code",
      "metadata": {
        "execution": {
          "iopub.execute_input": "2021-03-08T18:48:20.882861Z",
          "iopub.status.busy": "2021-03-08T18:48:20.881845Z",
          "iopub.status.idle": "2021-03-08T18:48:45.931658Z",
          "shell.execute_reply": "2021-03-08T18:48:45.932283Z"
        },
        "papermill": {
          "duration": 25.071993,
          "end_time": "2021-03-08T18:48:45.932481",
          "exception": false,
          "start_time": "2021-03-08T18:48:20.860488",
          "status": "completed"
        },
        "tags": [],
        "id": "fWO5BLNlLd9n"
      },
      "source": [
        "with open(f'{feature_dir}/train_all.pkl', 'rb') as f:\n",
        "  data = pickle.load( f)\n",
        "\n",
        "with open(f'{feature_dir}/test_all.pkl', 'rb') as f:\n",
        "  test_data = pickle.load(f)"
      ],
      "execution_count": 7,
      "outputs": []
    },
    {
      "cell_type": "code",
      "metadata": {
        "execution": {
          "iopub.execute_input": "2021-03-08T18:48:45.970004Z",
          "iopub.status.busy": "2021-03-08T18:48:45.969272Z",
          "iopub.status.idle": "2021-03-08T18:48:45.973481Z",
          "shell.execute_reply": "2021-03-08T18:48:45.974018Z"
        },
        "papermill": {
          "duration": 0.025842,
          "end_time": "2021-03-08T18:48:45.974218",
          "exception": false,
          "start_time": "2021-03-08T18:48:45.948376",
          "status": "completed"
        },
        "tags": [],
        "id": "ihTOkN_zLd9o"
      },
      "source": [
        "# training target features\n",
        "\n",
        "WIFI_BSSID_FEATS = [f'wifi_bssid_{i}' for i in range(NUM_WIFI_FEATS)]\n",
        "WIFI_RSSI_FEATS  = [f'wifi_rssi_{i}' for i in range(NUM_WIFI_FEATS)]\n",
        "WIFI_TIMEGAP_FEATS = [f'wifi_timegap_{i}' for i in range(NUM_WIFI_FEATS)]\n",
        "\n",
        "BEACON_MACADDRESS_FEATS = [f'beacon_macaddress_{i}' for i in range(NUM_BEACON_FEATS)]\n",
        "BEACON_RSSI_FEATS  = [f'beacon_rssi_{i}' for i in range(NUM_BEACON_FEATS)]\n",
        "BEACON_TIMEGAP_FEATS = [f'beacon_timegap_{i}' for i in range(NUM_BEACON_FEATS)]"
      ],
      "execution_count": 8,
      "outputs": []
    },
    {
      "cell_type": "code",
      "metadata": {
        "id": "VwDVxRvQh3Ny"
      },
      "source": [
        "wifi_bssids_column = [i+3 for i in range(1, 306) if i % 3 == 0]\n",
        "wifi_bssids_column_test = [i+4 for i in range(1, 307) if i % 3 == 0]"
      ],
      "execution_count": 9,
      "outputs": []
    },
    {
      "cell_type": "code",
      "metadata": {
        "execution": {
          "iopub.execute_input": "2021-03-08T18:48:46.010156Z",
          "iopub.status.busy": "2021-03-08T18:48:46.009452Z",
          "iopub.status.idle": "2021-03-08T18:48:51.572292Z",
          "shell.execute_reply": "2021-03-08T18:48:51.571110Z"
        },
        "papermill": {
          "duration": 5.582255,
          "end_time": "2021-03-08T18:48:51.572494",
          "exception": false,
          "start_time": "2021-03-08T18:48:45.990239",
          "status": "completed"
        },
        "tags": [],
        "colab": {
          "base_uri": "https://localhost:8080/"
        },
        "id": "rqVROVaLLd9o",
        "outputId": "0d5e8b51-9c16-40fe-a9a8-fb5adb6ce400"
      },
      "source": [
        "# get numbers of bssids to embed them in a layer\n",
        "\n",
        "wifi_bssids = []\n",
        "for i in wifi_bssids_column:\n",
        "    wifi_bssids.extend(data.iloc[:,i].values.tolist())\n",
        "wifi_bssids = list(set(wifi_bssids))\n",
        "\n",
        "wifi_bssids_size = len(wifi_bssids)\n",
        "print(f'BSSID TYPES: {wifi_bssids_size}')\n",
        "\n",
        "wifi_bssids_test = []\n",
        "for i in wifi_bssids_column_test:\n",
        "    wifi_bssids_test.extend(test_data.iloc[:,i].values.tolist())\n",
        "wifi_bssids_test = list(set(wifi_bssids_test))\n",
        "\n",
        "wifi_bssids_size = len(wifi_bssids_test)\n",
        "print(f'BSSID TYPES: {wifi_bssids_size}')\n",
        "\n",
        "wifi_bssids.extend(wifi_bssids_test)\n",
        "wifi_bssids_size = len(wifi_bssids)"
      ],
      "execution_count": 10,
      "outputs": [
        {
          "output_type": "stream",
          "text": [
            "BSSID TYPES: 64925\n",
            "BSSID TYPES: 31894\n"
          ],
          "name": "stdout"
        }
      ]
    },
    {
      "cell_type": "code",
      "metadata": {
        "id": "-503K7zIiDKe"
      },
      "source": [
        "beacon_macaddress_column = [i+303 for i in range(1, 33) if i % 3 == 0]\n",
        "beacon_macaddress_column_test = [i+304 for i in range(1, 33) if i % 3 == 0]"
      ],
      "execution_count": 11,
      "outputs": []
    },
    {
      "cell_type": "code",
      "metadata": {
        "colab": {
          "base_uri": "https://localhost:8080/"
        },
        "id": "QNYgjHtPiEYC",
        "outputId": "106453c7-fabe-4063-d219-5fc933bedc8c"
      },
      "source": [
        "beacon_macaddress = []\n",
        "for i in beacon_macaddress_column:\n",
        "    beacon_macaddress.extend(data.iloc[:,i].values.tolist())\n",
        "beacon_macaddress = list(set(beacon_macaddress))\n",
        "\n",
        "beacon_macaddress_size = len(beacon_macaddress)\n",
        "print(f'MACADRESS TYPES: {beacon_macaddress_size}')\n",
        "\n",
        "beacon_macaddress_test = []\n",
        "for i in beacon_macaddress_column_test:\n",
        "    beacon_macaddress_test.extend(test_data.iloc[:,i].values.tolist())\n",
        "beacon_macaddress_test = list(set(beacon_macaddress_test))\n",
        "\n",
        "beacon_macaddress_size = len(beacon_macaddress_test)\n",
        "print(f'MACADRESS TYPES: {beacon_macaddress_size}')\n",
        "\n",
        "beacon_macaddress.extend(beacon_macaddress_test)\n",
        "beacon_macaddress_size = len(beacon_macaddress)"
      ],
      "execution_count": 12,
      "outputs": [
        {
          "output_type": "stream",
          "text": [
            "MACADRESS TYPES: 14161\n",
            "MACADRESS TYPES: 5733\n"
          ],
          "name": "stdout"
        }
      ]
    },
    {
      "cell_type": "code",
      "metadata": {
        "colab": {
          "base_uri": "https://localhost:8080/"
        },
        "id": "n_OSDcbyiEPu",
        "outputId": "6f39e376-76f2-4f93-d58c-11555e3320ca"
      },
      "source": [
        "le_wifi = LabelEncoder()\n",
        "le_wifi.fit(wifi_bssids)\n",
        "\n",
        "le_beacon = LabelEncoder()\n",
        "le_beacon.fit(beacon_macaddress)\n",
        "\n",
        "le_site = LabelEncoder()\n",
        "le_site.fit(data['site'])\n",
        "\n",
        "ss = StandardScaler()\n",
        "ss.fit(data.loc[:,WIFI_RSSI_FEATS+WIFI_TIMEGAP_FEATS+BEACON_RSSI_FEATS+BEACON_TIMEGAP_FEATS+['floor']])"
      ],
      "execution_count": 13,
      "outputs": [
        {
          "output_type": "execute_result",
          "data": {
            "text/plain": [
              "StandardScaler(copy=True, with_mean=True, with_std=True)"
            ]
          },
          "metadata": {
            "tags": []
          },
          "execution_count": 13
        }
      ]
    },
    {
      "cell_type": "code",
      "metadata": {
        "id": "zyx0yfQriZKT"
      },
      "source": [
        "data.loc[:,WIFI_RSSI_FEATS+WIFI_TIMEGAP_FEATS+BEACON_RSSI_FEATS+BEACON_TIMEGAP_FEATS+['floor']] = ss.transform(data.loc[:,WIFI_RSSI_FEATS+WIFI_TIMEGAP_FEATS+BEACON_RSSI_FEATS+BEACON_TIMEGAP_FEATS+['floor']])\n",
        "\n",
        "for i in WIFI_BSSID_FEATS:\n",
        "    data.loc[:,i] = le_wifi.transform(data.loc[:,i])\n",
        "    data.loc[:,i] = data.loc[:,i] + 1\n",
        "for i in BEACON_MACADDRESS_FEATS:\n",
        "    data.loc[:,i] = le_beacon.transform(data.loc[:,i])\n",
        "    data.loc[:,i] = data.loc[:,i] + 1\n",
        "    \n",
        "data.loc[:, 'site'] = le_site.transform(data.loc[:, 'site'])\n",
        "\n",
        "data.loc[:,WIFI_RSSI_FEATS+WIFI_TIMEGAP_FEATS+BEACON_RSSI_FEATS+BEACON_TIMEGAP_FEATS+['floor']] = ss.transform(data.loc[:,WIFI_RSSI_FEATS+WIFI_TIMEGAP_FEATS+BEACON_RSSI_FEATS+BEACON_TIMEGAP_FEATS+['floor']])"
      ],
      "execution_count": 14,
      "outputs": []
    },
    {
      "cell_type": "markdown",
      "metadata": {
        "papermill": {
          "duration": 0.017332,
          "end_time": "2021-03-08T18:49:35.563414",
          "exception": false,
          "start_time": "2021-03-08T18:49:35.546082",
          "status": "completed"
        },
        "tags": [],
        "id": "xFd3hjysLd9s"
      },
      "source": [
        "Add floor predictions."
      ]
    },
    {
      "cell_type": "code",
      "metadata": {
        "execution": {
          "iopub.execute_input": "2021-03-08T18:49:35.602297Z",
          "iopub.status.busy": "2021-03-08T18:49:35.601603Z",
          "iopub.status.idle": "2021-03-08T18:49:35.648478Z",
          "shell.execute_reply": "2021-03-08T18:49:35.649016Z"
        },
        "papermill": {
          "duration": 0.068003,
          "end_time": "2021-03-08T18:49:35.649203",
          "exception": false,
          "start_time": "2021-03-08T18:49:35.581200",
          "status": "completed"
        },
        "tags": [],
        "id": "jhr89H0TLd9s"
      },
      "source": [
        "simple_accurate_99 = pd.read_csv('/content/drive/MyDrive/submission_floor_accurate (1).csv') "
      ],
      "execution_count": 15,
      "outputs": []
    },
    {
      "cell_type": "code",
      "metadata": {
        "execution": {
          "iopub.execute_input": "2021-03-08T18:49:35.687921Z",
          "iopub.status.busy": "2021-03-08T18:49:35.687269Z",
          "iopub.status.idle": "2021-03-08T18:49:35.692803Z",
          "shell.execute_reply": "2021-03-08T18:49:35.693361Z"
        },
        "papermill": {
          "duration": 0.026916,
          "end_time": "2021-03-08T18:49:35.693563",
          "exception": false,
          "start_time": "2021-03-08T18:49:35.666647",
          "status": "completed"
        },
        "tags": [],
        "id": "PqCTO182Ld9t"
      },
      "source": [
        "test_data['floor'] = simple_accurate_99['floor'].values"
      ],
      "execution_count": 16,
      "outputs": []
    },
    {
      "cell_type": "code",
      "metadata": {
        "execution": {
          "iopub.execute_input": "2021-03-08T18:49:35.732579Z",
          "iopub.status.busy": "2021-03-08T18:49:35.731899Z",
          "iopub.status.idle": "2021-03-08T18:49:39.379323Z",
          "shell.execute_reply": "2021-03-08T18:49:39.379848Z"
        },
        "papermill": {
          "duration": 3.669004,
          "end_time": "2021-03-08T18:49:39.380104",
          "exception": false,
          "start_time": "2021-03-08T18:49:35.711100",
          "status": "completed"
        },
        "tags": [],
        "id": "SLvbZfGeLd9t"
      },
      "source": [
        "test_data.loc[:,WIFI_RSSI_FEATS+WIFI_TIMEGAP_FEATS+BEACON_RSSI_FEATS+BEACON_TIMEGAP_FEATS+['floor']] = ss.transform(test_data.loc[:,WIFI_RSSI_FEATS+WIFI_TIMEGAP_FEATS+BEACON_RSSI_FEATS+BEACON_TIMEGAP_FEATS+['floor']])\n",
        "\n",
        "for i in WIFI_BSSID_FEATS:\n",
        "    test_data.loc[:,i] = le_wifi.transform(test_data.loc[:,i])\n",
        "    test_data.loc[:,i] = test_data.loc[:,i] + 1\n",
        "for i in BEACON_MACADDRESS_FEATS:\n",
        "    test_data.loc[:,i] = le_beacon.transform(test_data.loc[:,i])\n",
        "    test_data.loc[:,i] = test_data.loc[:,i] + 1\n",
        "    \n",
        "test_data.loc[:, 'site'] = le_site.transform(test_data.loc[:, 'site'])\n",
        "\n",
        "test_data.loc[:,WIFI_RSSI_FEATS+WIFI_TIMEGAP_FEATS+BEACON_RSSI_FEATS+BEACON_TIMEGAP_FEATS+['floor']] = ss.transform(test_data.loc[:,WIFI_RSSI_FEATS+WIFI_TIMEGAP_FEATS+BEACON_RSSI_FEATS+BEACON_TIMEGAP_FEATS+['floor']])"
      ],
      "execution_count": 17,
      "outputs": []
    },
    {
      "cell_type": "code",
      "metadata": {
        "execution": {
          "iopub.execute_input": "2021-03-08T18:49:39.424217Z",
          "iopub.status.busy": "2021-03-08T18:49:39.423521Z",
          "iopub.status.idle": "2021-03-08T18:49:39.428274Z",
          "shell.execute_reply": "2021-03-08T18:49:39.428778Z"
        },
        "papermill": {
          "duration": 0.030607,
          "end_time": "2021-03-08T18:49:39.428977",
          "exception": false,
          "start_time": "2021-03-08T18:49:39.398370",
          "status": "completed"
        },
        "tags": [],
        "id": "p-EZcFkDLd9u"
      },
      "source": [
        "site_count = len(data['site'].unique())\n",
        "data.reset_index(drop=True, inplace=True)"
      ],
      "execution_count": 18,
      "outputs": []
    },
    {
      "cell_type": "code",
      "metadata": {
        "execution": {
          "iopub.execute_input": "2021-03-08T18:49:39.468664Z",
          "iopub.status.busy": "2021-03-08T18:49:39.468015Z",
          "iopub.status.idle": "2021-03-08T18:49:39.489082Z",
          "shell.execute_reply": "2021-03-08T18:49:39.488282Z"
        },
        "papermill": {
          "duration": 0.042109,
          "end_time": "2021-03-08T18:49:39.489254",
          "exception": false,
          "start_time": "2021-03-08T18:49:39.447145",
          "status": "completed"
        },
        "tags": [],
        "id": "tveNLeTkLd9u"
      },
      "source": [
        "set_seed(SEED)"
      ],
      "execution_count": 19,
      "outputs": []
    },
    {
      "cell_type": "markdown",
      "metadata": {
        "papermill": {
          "duration": 0.01759,
          "end_time": "2021-03-08T18:49:39.525075",
          "exception": false,
          "start_time": "2021-03-08T18:49:39.507485",
          "status": "completed"
        },
        "tags": [],
        "id": "xnwmksN8Ld9u"
      },
      "source": [
        "## The model\n",
        "The first Embedding layer is very important. <br>\n",
        "Thanks to the layer, we can make sense of these BSSID features. <br>\n",
        "<br>\n",
        "We concatenate all the features and put them into LSTM. <br>\n",
        "<br>\n",
        "If something is theoritically wrong, please correct me. Thank you in advance. "
      ]
    },
    {
      "cell_type": "code",
      "metadata": {
        "execution": {
          "iopub.execute_input": "2021-03-08T18:49:39.575650Z",
          "iopub.status.busy": "2021-03-08T18:49:39.574899Z",
          "iopub.status.idle": "2021-03-08T18:49:39.577197Z",
          "shell.execute_reply": "2021-03-08T18:49:39.577655Z"
        },
        "papermill": {
          "duration": 0.034624,
          "end_time": "2021-03-08T18:49:39.577875",
          "exception": false,
          "start_time": "2021-03-08T18:49:39.543251",
          "status": "completed"
        },
        "tags": [],
        "id": "u5AsXQTYLd9v"
      },
      "source": [
        "def create_model(input_data):\n",
        "\n",
        "    # bssid feats\n",
        "    input_dim = input_data[0].shape[1]\n",
        "\n",
        "    input_embd_bssid_layer = L.Input(shape=(input_dim,))\n",
        "    x1 = L.Embedding(wifi_bssids_size, 64)(input_embd_bssid_layer)\n",
        "    x1 = L.Flatten()(x1)\n",
        "\n",
        "    # wifi_rssi feats\n",
        "    input_dim = input_data[1].shape[1]\n",
        "\n",
        "    input_wifi_rssi_layer = L.Input(input_dim, )\n",
        "    x2 = L.BatchNormalization()(input_wifi_rssi_layer)\n",
        "    x2 = L.Dense(NUM_WIFI_FEATS * 64, activation='relu')(x2)\n",
        "\n",
        "    # wifi_timegap feats\n",
        "    input_dim = input_data[2].shape[1]\n",
        "\n",
        "    input_wifi_timegap_layer = L.Input(input_dim, )\n",
        "    x3 = L.BatchNormalization()(input_wifi_timegap_layer)\n",
        "    x3 = L.Dense(NUM_WIFI_FEATS * 64, activation='relu')(x3)\n",
        "\n",
        "    # macaddress feats\n",
        "    input_dim = input_data[3].shape[1]\n",
        "\n",
        "    input_embd_macaddress_layer = L.Input(shape=(input_dim,))\n",
        "    x4 = L.Embedding(beacon_macaddress_size, 64)(input_embd_macaddress_layer)\n",
        "    x4 = L.Flatten()(x4)\n",
        "\n",
        "\n",
        "    # beacon_rssi feats\n",
        "    input_dim = input_data[4].shape[1]\n",
        "\n",
        "    input_beacon_rssi_layer = L.Input(input_dim, )\n",
        "    x5 = L.BatchNormalization()(input_beacon_rssi_layer)\n",
        "    x5 = L.Dense(NUM_BEACON_FEATS * 64, activation='relu')(x5)\n",
        "\n",
        "    # beacon_timegap feats\n",
        "    input_dim = input_data[5].shape[1]\n",
        "\n",
        "    input_beacon_timegap_layer = L.Input(input_dim, )\n",
        "    x6 = L.BatchNormalization()(input_beacon_timegap_layer)\n",
        "    x6 = L.Dense(NUM_BEACON_FEATS * 64, activation='relu')(x6)\n",
        "\n",
        "    # site\n",
        "    input_site_layer = L.Input(shape=(1,))\n",
        "    x7 = L.Embedding(site_count, 1)(input_site_layer)\n",
        "    x7 = L.Flatten()(x7)\n",
        "\n",
        "    # main stream\n",
        "    x = L.Concatenate(axis=1)([x1, x2, x3, x4, x5, x6, x7])\n",
        "\n",
        "    x = L.BatchNormalization()(x)\n",
        "    x = L.Dropout(0.3)(x)\n",
        "    x = L.Dense(1280, activation='relu')(x)\n",
        "\n",
        "    x = L.Reshape((1, -1))(x)\n",
        "    x = L.BatchNormalization()(x)\n",
        "    #x = L.LSTM(128, dropout=0.3, recurrent_dropout=0.3, return_sequences=True, activation='relu')(x)\n",
        "    x = L.LSTM(1280, dropout=0.3, recurrent_dropout=0.3, return_sequences=True, activation='relu')(x)\n",
        "    x = L.LSTM(16, dropout=0.1, return_sequences=False, activation='relu')(x)\n",
        "\n",
        "    \n",
        "    output_layer_1 = L.Dense(2, name='xy')(x)\n",
        "    #output_layer_2 = L.Dense(1, activation='softmax', name='floor')(x)\n",
        "\n",
        "    model = M.Model([input_embd_bssid_layer, \n",
        "                     input_wifi_rssi_layer,\n",
        "                     input_wifi_timegap_layer,\n",
        "                     input_embd_macaddress_layer,\n",
        "                     input_beacon_rssi_layer,\n",
        "                     input_beacon_timegap_layer, \n",
        "                     input_site_layer], \n",
        "                     [output_layer_1])\n",
        "\n",
        "    model.compile(optimizer=tf.optimizers.Adam(lr=0.001),\n",
        "                  loss='mse', metrics=['mse'])\n",
        "\n",
        "    return model"
      ],
      "execution_count": 20,
      "outputs": []
    },
    {
      "cell_type": "code",
      "metadata": {
        "execution": {
          "iopub.execute_input": "2021-03-08T18:49:39.619112Z",
          "iopub.status.busy": "2021-03-08T18:49:39.618281Z",
          "iopub.status.idle": "2021-03-08T21:00:12.173910Z",
          "shell.execute_reply": "2021-03-08T21:00:12.173226Z"
        },
        "papermill": {
          "duration": 7832.577565,
          "end_time": "2021-03-08T21:00:12.174117",
          "exception": false,
          "start_time": "2021-03-08T18:49:39.596552",
          "status": "completed"
        },
        "tags": [],
        "colab": {
          "base_uri": "https://localhost:8080/"
        },
        "id": "qSR9R30mLd9w",
        "outputId": "298fa65d-ee9c-4cf3-9871-6102783d6b48"
      },
      "source": [
        "score_df = pd.DataFrame()\n",
        "predictions = list()\n",
        "\n",
        "preds_x, preds_y = 0, 0\n",
        "preds_f_arr = np.zeros((test_data.shape[0], N_SPLITS))\n",
        "\n",
        "for fold, (trn_idx, val_idx) in enumerate(StratifiedKFold(n_splits=N_SPLITS, shuffle=True, random_state=SEED).split(data.loc[:, 'path'], data.loc[:, 'path'])):\n",
        "    X_train = data.loc[trn_idx, WIFI_BSSID_FEATS + WIFI_RSSI_FEATS + WIFI_TIMEGAP_FEATS + BEACON_MACADDRESS_FEATS + BEACON_RSSI_FEATS + BEACON_TIMEGAP_FEATS + ['floor','site']]\n",
        "    y_trainx = data.loc[trn_idx, 'x']\n",
        "    y_trainy = data.loc[trn_idx, 'y']\n",
        "    y_trainf = data.loc[trn_idx, 'floor']\n",
        "\n",
        "    tmp = pd.concat([y_trainx, y_trainy], axis=1)\n",
        "    #y_train = [tmp, y_trainf]\n",
        "    y_train = tmp\n",
        "\n",
        "    X_valid = data.loc[val_idx, WIFI_BSSID_FEATS + WIFI_RSSI_FEATS + WIFI_TIMEGAP_FEATS + BEACON_MACADDRESS_FEATS + BEACON_RSSI_FEATS + BEACON_TIMEGAP_FEATS + ['floor','site']]\n",
        "    y_validx = data.loc[val_idx, 'x']\n",
        "    y_validy = data.loc[val_idx, 'y']\n",
        "    y_validf = data.loc[val_idx, 'floor']\n",
        "\n",
        "    tmp = pd.concat([y_validx, y_validy], axis=1)\n",
        "    #y_valid = [tmp, y_validf]\n",
        "    y_valid = tmp\n",
        "\n",
        "    model = create_model([X_train.loc[:,WIFI_BSSID_FEATS], \n",
        "                          X_train.loc[:,WIFI_RSSI_FEATS],\n",
        "                          X_train.loc[:,WIFI_TIMEGAP_FEATS],\n",
        "                          X_train.loc[:,BEACON_MACADDRESS_FEATS],\n",
        "                          X_train.loc[:,BEACON_RSSI_FEATS],\n",
        "                          X_train.loc[:,BEACON_TIMEGAP_FEATS+['floor']], \n",
        "                          X_train.loc[:,'site']])\n",
        "    model.fit([X_train.loc[:,WIFI_BSSID_FEATS], \n",
        "               X_train.loc[:,WIFI_RSSI_FEATS],\n",
        "               X_train.loc[:,WIFI_TIMEGAP_FEATS],\n",
        "               X_train.loc[:,BEACON_MACADDRESS_FEATS],\n",
        "               X_train.loc[:,BEACON_RSSI_FEATS],\n",
        "               X_train.loc[:,BEACON_TIMEGAP_FEATS+['floor']], \n",
        "               X_train.loc[:,'site']], y_train, \n",
        "                validation_data=([X_valid.loc[:,WIFI_BSSID_FEATS], \n",
        "                          X_valid.loc[:,WIFI_RSSI_FEATS],\n",
        "                          X_valid.loc[:,WIFI_TIMEGAP_FEATS],\n",
        "                          X_valid.loc[:,BEACON_MACADDRESS_FEATS],\n",
        "                          X_valid.loc[:,BEACON_RSSI_FEATS],\n",
        "                          X_valid.loc[:,BEACON_TIMEGAP_FEATS+['floor']], \n",
        "                          X_valid.loc[:,'site']], y_valid), \n",
        "                batch_size=128, epochs=1000,\n",
        "                callbacks=[\n",
        "                ReduceLROnPlateau(monitor='val_loss', factor=0.1, patience=3, verbose=1, min_delta=1e-4, mode='min')\n",
        "                , ModelCheckpoint(f'{base_path}/RNN_{SEED}_{fold}.hdf5', monitor='val_loss', verbose=0, save_best_only=True, save_weights_only=True, mode='min')\n",
        "                , EarlyStopping(monitor='val_loss', min_delta=1e-4, patience=5, mode='min', baseline=None, restore_best_weights=True)\n",
        "            ])\n",
        "\n",
        "    model.load_weights(f'{base_path}/RNN_{SEED}_{fold}.hdf5')\n",
        "    #val_pred = model.predict([X_valid.loc[:,BSSID_FEATS], X_valid.loc[:,RSSI_FEATS], X_valid.loc[:,'site_id'], X_valid.loc[:,'floor']])\n",
        "\n",
        "    pred = model.predict([test_data.loc[:,WIFI_BSSID_FEATS], \n",
        "                          test_data.loc[:,WIFI_RSSI_FEATS],\n",
        "                          test_data.loc[:,WIFI_TIMEGAP_FEATS],\n",
        "                          test_data.loc[:,BEACON_MACADDRESS_FEATS],\n",
        "                          test_data.loc[:,BEACON_RSSI_FEATS],\n",
        "                          test_data.loc[:,BEACON_TIMEGAP_FEATS+['floor']], \n",
        "                          test_data.loc[:,'site']]) # test_data.iloc[:, :-1])\n",
        "    preds_x += pred[:,0]\n",
        "    preds_y += pred[:,1]\n",
        "    #preds_f_arr[:, fold] = pred[1][:,0].astype(int)\n",
        "\n",
        "    \n",
        "\n",
        "    break # for demonstration, run just one fold as it takes much time.\n",
        "\n",
        "preds_x /= (fold + 1)\n",
        "preds_y /= (fold + 1)\n",
        "    \n",
        "print(\"*+\"*40)\n",
        "print(\"*+\"*40)\n",
        "\n",
        "#preds_f_mode = stats.mode(preds_f_arr, axis=1)\n",
        "#preds_f = preds_f_mode[0].astype(int).reshape(-1)\n",
        "preds_f = test_data['floor']\n",
        "test_preds = pd.DataFrame(np.stack((preds_f, preds_x, preds_y))).T\n",
        "test_preds.columns = subm.columns\n",
        "test_preds[\"floor\"] = test_preds[\"floor\"].astype(int)\n",
        "predictions.append(test_preds)"
      ],
      "execution_count": null,
      "outputs": [
        {
          "output_type": "stream",
          "text": [
            "/usr/local/lib/python3.7/dist-packages/sklearn/model_selection/_split.py:667: UserWarning: The least populated class in y has only 2 members, which is less than n_splits=10.\n",
            "  % (min_groups, self.n_splits)), UserWarning)\n"
          ],
          "name": "stderr"
        },
        {
          "output_type": "stream",
          "text": [
            "Epoch 1/1000\n",
            "530/530 [==============================] - 479s 893ms/step - loss: 2804.2632 - mse: 2804.2632 - val_loss: 788.9537 - val_mse: 788.9537\n",
            "Epoch 2/1000\n",
            "530/530 [==============================] - 500s 944ms/step - loss: 224.2208 - mse: 224.2208 - val_loss: 175.4229 - val_mse: 175.4229\n",
            "Epoch 3/1000\n",
            "530/530 [==============================] - 459s 866ms/step - loss: 173.5049 - mse: 173.5049 - val_loss: 138.6053 - val_mse: 138.6053\n",
            "Epoch 4/1000\n",
            "530/530 [==============================] - 454s 856ms/step - loss: 136.6731 - mse: 136.6731 - val_loss: 137.9182 - val_mse: 137.9182\n",
            "Epoch 5/1000\n",
            "530/530 [==============================] - 453s 854ms/step - loss: 119.0628 - mse: 119.0628 - val_loss: 88.5200 - val_mse: 88.5200\n",
            "Epoch 6/1000\n",
            "530/530 [==============================] - 455s 858ms/step - loss: 109.5573 - mse: 109.5573 - val_loss: 92.2298 - val_mse: 92.2298\n",
            "Epoch 7/1000\n",
            "530/530 [==============================] - 453s 855ms/step - loss: 102.5962 - mse: 102.5962 - val_loss: 78.8374 - val_mse: 78.8374\n",
            "Epoch 8/1000\n",
            "530/530 [==============================] - 450s 849ms/step - loss: 92.7948 - mse: 92.7948 - val_loss: 84.8322 - val_mse: 84.8322\n",
            "Epoch 9/1000\n",
            "530/530 [==============================] - 453s 856ms/step - loss: 90.9716 - mse: 90.9716 - val_loss: 101.5203 - val_mse: 101.5203\n",
            "Epoch 10/1000\n",
            "530/530 [==============================] - 452s 853ms/step - loss: 81.8377 - mse: 81.8377 - val_loss: 79.4474 - val_mse: 79.4474\n",
            "\n",
            "Epoch 00010: ReduceLROnPlateau reducing learning rate to 0.00010000000474974513.\n",
            "Epoch 11/1000\n",
            "530/530 [==============================] - 441s 832ms/step - loss: 63.9918 - mse: 63.9918 - val_loss: 58.8076 - val_mse: 58.8076\n",
            "Epoch 12/1000\n",
            "436/530 [=======================>......] - ETA: 1:17 - loss: 57.6217 - mse: 57.6217"
          ],
          "name": "stdout"
        }
      ]
    },
    {
      "cell_type": "code",
      "metadata": {
        "execution": {
          "iopub.execute_input": "2021-03-08T21:01:07.112943Z",
          "iopub.status.busy": "2021-03-08T21:01:07.111947Z",
          "iopub.status.idle": "2021-03-08T21:01:07.116445Z",
          "shell.execute_reply": "2021-03-08T21:01:07.115759Z"
        },
        "papermill": {
          "duration": 27.421309,
          "end_time": "2021-03-08T21:01:07.116610",
          "exception": false,
          "start_time": "2021-03-08T21:00:39.695301",
          "status": "completed"
        },
        "tags": [],
        "id": "nI8LfvEwLd9y"
      },
      "source": [
        "all_preds = pd.concat(predictions)\n",
        "all_preds = all_preds.reindex(subm.index)"
      ],
      "execution_count": null,
      "outputs": []
    },
    {
      "cell_type": "markdown",
      "metadata": {
        "papermill": {
          "duration": 27.393618,
          "end_time": "2021-03-08T21:02:01.913274",
          "exception": false,
          "start_time": "2021-03-08T21:01:34.519656",
          "status": "completed"
        },
        "tags": [],
        "id": "64Anns7TLd9y"
      },
      "source": [
        "## Fix the floor prediction\n",
        "So far, it is not successfully make the \"floor\" prediction part with this dataset. <br>\n",
        "To make it right, we can incorporate [@nigelhenry](https://www.kaggle.com/nigelhenry/)'s [excellent work](https://www.kaggle.com/nigelhenry/simple-99-accurate-floor-model). <br>"
      ]
    },
    {
      "cell_type": "code",
      "metadata": {
        "execution": {
          "iopub.execute_input": "2021-03-08T21:02:56.764395Z",
          "iopub.status.busy": "2021-03-08T21:02:56.763675Z",
          "iopub.status.idle": "2021-03-08T21:02:56.798814Z",
          "shell.execute_reply": "2021-03-08T21:02:56.798169Z"
        },
        "papermill": {
          "duration": 27.355186,
          "end_time": "2021-03-08T21:02:56.799018",
          "exception": false,
          "start_time": "2021-03-08T21:02:29.443832",
          "status": "completed"
        },
        "tags": [],
        "id": "JvrygkfDLd9z"
      },
      "source": [
        "simple_accurate_99 = pd.read_csv('/content/drive/MyDrive/submission_floor_accurate (1).csv')\n",
        "\n",
        "all_preds['floor'] = simple_accurate_99['floor'].values"
      ],
      "execution_count": null,
      "outputs": []
    },
    {
      "cell_type": "code",
      "metadata": {
        "execution": {
          "iopub.execute_input": "2021-03-08T21:03:51.740284Z",
          "iopub.status.busy": "2021-03-08T21:03:51.739330Z",
          "iopub.status.idle": "2021-03-08T21:03:51.821624Z",
          "shell.execute_reply": "2021-03-08T21:03:51.820935Z"
        },
        "papermill": {
          "duration": 27.593519,
          "end_time": "2021-03-08T21:03:51.821804",
          "exception": false,
          "start_time": "2021-03-08T21:03:24.228285",
          "status": "completed"
        },
        "tags": [],
        "id": "zaeOOWTJLd9z"
      },
      "source": [
        "all_preds.to_csv('submission_lstm_in_floor_09_before_post.csv')"
      ],
      "execution_count": null,
      "outputs": []
    },
    {
      "cell_type": "code",
      "metadata": {
        "id": "iOfuxNNMmsdQ"
      },
      "source": [
        "shutil.move('submission_lstm_in_floor_09_before_post.csv', '/content/drive/MyDrive')"
      ],
      "execution_count": null,
      "outputs": []
    },
    {
      "cell_type": "markdown",
      "metadata": {
        "papermill": {
          "duration": 27.381636,
          "end_time": "2021-03-08T21:04:46.477578",
          "exception": false,
          "start_time": "2021-03-08T21:04:19.095942",
          "status": "completed"
        },
        "tags": [],
        "id": "X71ddarxLd9z"
      },
      "source": [
        "That's it. \n",
        "\n",
        "Thank you for reading all of it.\n",
        "\n",
        "I hope it helps!\n",
        "\n",
        "Please make comments if you found something to point out, insights or suggestions. "
      ]
    }
  ]
}