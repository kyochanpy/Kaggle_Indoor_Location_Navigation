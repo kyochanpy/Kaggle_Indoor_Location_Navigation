{
  "nbformat": 4,
  "nbformat_minor": 0,
  "metadata": {
    "colab": {
      "name": "Untitled27.ipynb",
      "provenance": [],
      "machine_shape": "hm",
      "mount_file_id": "1eBQEDNQsrvBzvpaMNlswi5UTPeEAmLAW",
      "authorship_tag": "ABX9TyOCNxHBmihQLKTviBrZ3+x6",
      "include_colab_link": true
    },
    "kernelspec": {
      "name": "python3",
      "display_name": "Python 3"
    },
    "language_info": {
      "name": "python"
    },
    "accelerator": "TPU"
  },
  "cells": [
    {
      "cell_type": "markdown",
      "metadata": {
        "id": "view-in-github",
        "colab_type": "text"
      },
      "source": [
        "<a href=\"https://colab.research.google.com/github/kyochanpy/Kaggle_Indoor_Location_Navigation/blob/main/ccreate_dataset/unified_site_ids.ipynb\" target=\"_parent\"><img src=\"https://colab.research.google.com/assets/colab-badge.svg\" alt=\"Open In Colab\"/></a>"
      ]
    },
    {
      "cell_type": "code",
      "metadata": {
        "id": "EFUOjBl_8Ftq"
      },
      "source": [
        "import pandas as pd\n",
        "import numpy as np\n",
        "import glob\n",
        "import os\n",
        "import gc\n",
        "import json"
      ],
      "execution_count": 1,
      "outputs": []
    },
    {
      "cell_type": "code",
      "metadata": {
        "id": "bRuIrJCj8Hep"
      },
      "source": [
        "base_path = '/content/drive/MyDrive/fixed_train'\n"
      ],
      "execution_count": 2,
      "outputs": []
    },
    {
      "cell_type": "code",
      "metadata": {
        "id": "nj6gUPbr_dRH"
      },
      "source": [
        "feature_dir = \"/content/drive/MyDrive/wifi_500_01\"\n",
        "train_files = sorted(glob.glob(os.path.join(feature_dir, '*_train.csv')))\n",
        "test_files = sorted(glob.glob(os.path.join(feature_dir, '*_test.csv')))"
      ],
      "execution_count": 9,
      "outputs": []
    },
    {
      "cell_type": "code",
      "metadata": {
        "id": "92y1NGQp8Web"
      },
      "source": [
        "# pull out all the buildings actually used in the test set, given current method we don't need the other ones\n",
        "ssubm = pd.read_csv('/content/drive/MyDrive/sample_submission.csv')\n",
        "\n",
        "# only 24 of the total buildings are used in the test set, \n",
        "# this allows us to greatly reduce the intial size of the dataset\n",
        "\n",
        "ssubm_df = ssubm[\"site_path_timestamp\"].apply(lambda x: pd.Series(x.split(\"_\")))\n",
        "used_buildings = sorted(ssubm_df[0].value_counts().index.tolist())\n"
      ],
      "execution_count": 3,
      "outputs": []
    },
    {
      "cell_type": "code",
      "metadata": {
        "colab": {
          "base_uri": "https://localhost:8080/"
        },
        "id": "5kTgvrXl-jw0",
        "outputId": "5a037cdd-7077-4c51-d158-4ae6c0f4d67b"
      },
      "source": [
        "used_buildings"
      ],
      "execution_count": 4,
      "outputs": [
        {
          "output_type": "execute_result",
          "data": {
            "text/plain": [
              "['5a0546857ecc773753327266',\n",
              " '5c3c44b80379370013e0fd2b',\n",
              " '5d27075f03f801723c2e360f',\n",
              " '5d27096c03f801723c31e5e0',\n",
              " '5d27097f03f801723c320d97',\n",
              " '5d27099f03f801723c32511d',\n",
              " '5d2709a003f801723c3251bf',\n",
              " '5d2709b303f801723c327472',\n",
              " '5d2709bb03f801723c32852c',\n",
              " '5d2709c303f801723c3299ee',\n",
              " '5d2709d403f801723c32bd39',\n",
              " '5d2709e003f801723c32d896',\n",
              " '5da138274db8ce0c98bbd3d2',\n",
              " '5da1382d4db8ce0c98bbe92e',\n",
              " '5da138314db8ce0c98bbf3a0',\n",
              " '5da138364db8ce0c98bc00f1',\n",
              " '5da1383b4db8ce0c98bc11ab',\n",
              " '5da138754db8ce0c98bca82f',\n",
              " '5da138764db8ce0c98bcaa46',\n",
              " '5da1389e4db8ce0c98bd0547',\n",
              " '5da138b74db8ce0c98bd4774',\n",
              " '5da958dd46f8266d0737457b',\n",
              " '5dbc1d84c1eb61796cf7c010',\n",
              " '5dc8cea7659e181adb076a3f']"
            ]
          },
          "metadata": {
            "tags": []
          },
          "execution_count": 4
        }
      ]
    },
    {
      "cell_type": "code",
      "metadata": {
        "colab": {
          "base_uri": "https://localhost:8080/"
        },
        "id": "IJwcYpt3-k6r",
        "outputId": "1095fef1-cbe8-4395-dde4-5c46748927c6"
      },
      "source": [
        "train_files"
      ],
      "execution_count": 10,
      "outputs": [
        {
          "output_type": "execute_result",
          "data": {
            "text/plain": [
              "['/content/drive/MyDrive/wifi_500_01/5a0546857ecc773753327266_500_train.csv',\n",
              " '/content/drive/MyDrive/wifi_500_01/5c3c44b80379370013e0fd2b_500_train.csv',\n",
              " '/content/drive/MyDrive/wifi_500_01/5d27075f03f801723c2e360f_500_train.csv',\n",
              " '/content/drive/MyDrive/wifi_500_01/5d27096c03f801723c31e5e0_500_train.csv',\n",
              " '/content/drive/MyDrive/wifi_500_01/5d27097f03f801723c320d97_500_train.csv',\n",
              " '/content/drive/MyDrive/wifi_500_01/5d27099f03f801723c32511d_500_train.csv',\n",
              " '/content/drive/MyDrive/wifi_500_01/5d2709a003f801723c3251bf_500_train.csv',\n",
              " '/content/drive/MyDrive/wifi_500_01/5d2709b303f801723c327472_500_train.csv',\n",
              " '/content/drive/MyDrive/wifi_500_01/5d2709bb03f801723c32852c_500_train.csv',\n",
              " '/content/drive/MyDrive/wifi_500_01/5d2709c303f801723c3299ee_500_train.csv',\n",
              " '/content/drive/MyDrive/wifi_500_01/5d2709d403f801723c32bd39_500_train.csv',\n",
              " '/content/drive/MyDrive/wifi_500_01/5d2709e003f801723c32d896_500_train.csv',\n",
              " '/content/drive/MyDrive/wifi_500_01/5da138274db8ce0c98bbd3d2_500_train.csv',\n",
              " '/content/drive/MyDrive/wifi_500_01/5da1382d4db8ce0c98bbe92e_500_train.csv',\n",
              " '/content/drive/MyDrive/wifi_500_01/5da138314db8ce0c98bbf3a0_500_train.csv',\n",
              " '/content/drive/MyDrive/wifi_500_01/5da138364db8ce0c98bc00f1_500_train.csv',\n",
              " '/content/drive/MyDrive/wifi_500_01/5da1383b4db8ce0c98bc11ab_500_train.csv',\n",
              " '/content/drive/MyDrive/wifi_500_01/5da138754db8ce0c98bca82f_500_train.csv',\n",
              " '/content/drive/MyDrive/wifi_500_01/5da138764db8ce0c98bcaa46_500_train.csv',\n",
              " '/content/drive/MyDrive/wifi_500_01/5da1389e4db8ce0c98bd0547_500_train.csv',\n",
              " '/content/drive/MyDrive/wifi_500_01/5da138b74db8ce0c98bd4774_500_train.csv',\n",
              " '/content/drive/MyDrive/wifi_500_01/5da958dd46f8266d0737457b_500_train.csv',\n",
              " '/content/drive/MyDrive/wifi_500_01/5dbc1d84c1eb61796cf7c010_500_train.csv',\n",
              " '/content/drive/MyDrive/wifi_500_01/5dc8cea7659e181adb076a3f_500_train.csv']"
            ]
          },
          "metadata": {
            "tags": []
          },
          "execution_count": 10
        }
      ]
    },
    {
      "cell_type": "code",
      "metadata": {
        "colab": {
          "base_uri": "https://localhost:8080/",
          "height": 334
        },
        "id": "CvzM8XUF_jyj",
        "outputId": "fb31bd37-3e39-4665-a3bf-b34b3bd5796a"
      },
      "source": [
        "a  = pd.concat(train_files)"
      ],
      "execution_count": 11,
      "outputs": [
        {
          "output_type": "error",
          "ename": "TypeError",
          "evalue": "ignored",
          "traceback": [
            "\u001b[0;31m---------------------------------------------------------------------------\u001b[0m",
            "\u001b[0;31mTypeError\u001b[0m                                 Traceback (most recent call last)",
            "\u001b[0;32m<ipython-input-11-ba79d6d67708>\u001b[0m in \u001b[0;36m<module>\u001b[0;34m()\u001b[0m\n\u001b[0;32m----> 1\u001b[0;31m \u001b[0ma\u001b[0m  \u001b[0;34m=\u001b[0m \u001b[0mpd\u001b[0m\u001b[0;34m.\u001b[0m\u001b[0mconcat\u001b[0m\u001b[0;34m(\u001b[0m\u001b[0mtrain_files\u001b[0m\u001b[0;34m)\u001b[0m\u001b[0;34m\u001b[0m\u001b[0;34m\u001b[0m\u001b[0m\n\u001b[0m",
            "\u001b[0;32m/usr/local/lib/python3.7/dist-packages/pandas/core/reshape/concat.py\u001b[0m in \u001b[0;36mconcat\u001b[0;34m(objs, axis, join, ignore_index, keys, levels, names, verify_integrity, sort, copy)\u001b[0m\n\u001b[1;32m    282\u001b[0m         \u001b[0mverify_integrity\u001b[0m\u001b[0;34m=\u001b[0m\u001b[0mverify_integrity\u001b[0m\u001b[0;34m,\u001b[0m\u001b[0;34m\u001b[0m\u001b[0;34m\u001b[0m\u001b[0m\n\u001b[1;32m    283\u001b[0m         \u001b[0mcopy\u001b[0m\u001b[0;34m=\u001b[0m\u001b[0mcopy\u001b[0m\u001b[0;34m,\u001b[0m\u001b[0;34m\u001b[0m\u001b[0;34m\u001b[0m\u001b[0m\n\u001b[0;32m--> 284\u001b[0;31m         \u001b[0msort\u001b[0m\u001b[0;34m=\u001b[0m\u001b[0msort\u001b[0m\u001b[0;34m,\u001b[0m\u001b[0;34m\u001b[0m\u001b[0;34m\u001b[0m\u001b[0m\n\u001b[0m\u001b[1;32m    285\u001b[0m     )\n\u001b[1;32m    286\u001b[0m \u001b[0;34m\u001b[0m\u001b[0m\n",
            "\u001b[0;32m/usr/local/lib/python3.7/dist-packages/pandas/core/reshape/concat.py\u001b[0m in \u001b[0;36m__init__\u001b[0;34m(self, objs, axis, join, keys, levels, names, ignore_index, verify_integrity, copy, sort)\u001b[0m\n\u001b[1;32m    357\u001b[0m                     \u001b[0;34m\"only Series and DataFrame objs are valid\"\u001b[0m\u001b[0;34m\u001b[0m\u001b[0;34m\u001b[0m\u001b[0m\n\u001b[1;32m    358\u001b[0m                 )\n\u001b[0;32m--> 359\u001b[0;31m                 \u001b[0;32mraise\u001b[0m \u001b[0mTypeError\u001b[0m\u001b[0;34m(\u001b[0m\u001b[0mmsg\u001b[0m\u001b[0;34m)\u001b[0m\u001b[0;34m\u001b[0m\u001b[0;34m\u001b[0m\u001b[0m\n\u001b[0m\u001b[1;32m    360\u001b[0m \u001b[0;34m\u001b[0m\u001b[0m\n\u001b[1;32m    361\u001b[0m             \u001b[0;31m# consolidate\u001b[0m\u001b[0;34m\u001b[0m\u001b[0;34m\u001b[0m\u001b[0;34m\u001b[0m\u001b[0m\n",
            "\u001b[0;31mTypeError\u001b[0m: cannot concatenate object of type '<class 'str'>'; only Series and DataFrame objs are valid"
          ]
        }
      ]
    },
    {
      "cell_type": "code",
      "metadata": {
        "id": "tGVKW7XeFL3K"
      },
      "source": [
        "train_1 = pd.read_csv('/content/drive/MyDrive/unified_wifi_0/Unified_WiFi_5a0546857ecc773753327266_0_train.csv')\n",
        "train_1['site_id'] = '5a0546857ecc773753327266' \n",
        "\n",
        "train_2 = pd.read_csv('/content/drive/MyDrive/unified_wifi_0/Unified_WiFi_5c3c44b80379370013e0fd2b_0_train.csv')\n",
        "train_2['site_id'] = '5c3c44b80379370013e0fd2b' \n",
        "\n",
        "train_3 = pd.read_csv('/content/drive/MyDrive/unified_wifi_0/Unified_WiFi_5d27075f03f801723c2e360f_0_train.csv')\n",
        "train_3['site_id'] = '5d27075f03f801723c2e360f' \n",
        "\n",
        "train_4 = pd.read_csv('/content/drive/MyDrive/unified_wifi_0/Unified_WiFi_5d27096c03f801723c31e5e0_0_train.csv')\n",
        "train_4['site_id'] = '5d27096c03f801723c31e5e0' \n",
        "\n",
        "train_5 = pd.read_csv('/content/drive/MyDrive/unified_wifi_0/Unified_WiFi_5d27097f03f801723c320d97_0_train.csv')\n",
        "train_5['site_id'] = '5d27097f03f801723c320d97' \n",
        "\n",
        "train_6 = pd.read_csv('/content/drive/MyDrive/unified_wifi_0/Unified_WiFi_5d27099f03f801723c32511d_0_train.csv')\n",
        "train_6['site_id'] = '5d27099f03f801723c32511d' \n",
        "\n",
        "train_7 = pd.read_csv('/content/drive/MyDrive/unified_wifi_0/Unified_WiFi_5d2709a003f801723c3251bf_0_train.csv')\n",
        "train_7['site_id'] = '5d2709a003f801723c3251bf' \n",
        "\n",
        "train_8 = pd.read_csv('/content/drive/MyDrive/unified_wifi_0/Unified_WiFi_5d2709b303f801723c327472_0_train.csv')\n",
        "train_8['site_id'] = '5d2709b303f801723c327472' \n",
        "\n",
        "train_9 = pd.read_csv('/content/drive/MyDrive/unified_wifi_0/Unified_WiFi_5d2709bb03f801723c32852c_0_train.csv')\n",
        "train_9['site_id'] = '5d2709bb03f801723c32852c' \n",
        "\n",
        "train_10 = pd.read_csv('/content/drive/MyDrive/unified_wifi_0/Unified_WiFi_5d2709c303f801723c3299ee_0_train.csv')\n",
        "train_10['site_id'] = '5d2709c303f801723c3299ee' \n",
        "\n",
        "train_11 = pd.read_csv('/content/drive/MyDrive/unified_wifi_0/Unified_WiFi_5d2709d403f801723c32bd39_0_train.csv')\n",
        "train_11['site_id'] = '5d2709d403f801723c32bd39' \n",
        "\n",
        "train_12 = pd.read_csv('/content/drive/MyDrive/unified_wifi_0/Unified_WiFi_5d2709e003f801723c32d896_0_train.csv')\n",
        "train_12['site_id'] = '5d2709e003f801723c32d896' \n",
        "\n",
        "train_13 = pd.read_csv('/content/drive/MyDrive/unified_wifi_0/Unified_WiFi_5da138274db8ce0c98bbd3d2_0_train.csv')\n",
        "train_13['site_id'] = '5da138274db8ce0c98bbd3d2' \n",
        "\n",
        "train_14 = pd.read_csv('/content/drive/MyDrive/unified_wifi_0/Unified_WiFi_5da1382d4db8ce0c98bbe92e_0_train.csv')\n",
        "train_14['site_id'] = '5da1382d4db8ce0c98bbe92e' \n",
        "\n",
        "train_15 = pd.read_csv('/content/drive/MyDrive/unified_wifi_0/Unified_WiFi_5da138314db8ce0c98bbf3a0_0_train.csv')\n",
        "train_15['site_id'] = '5da138314db8ce0c98bbf3a0' \n",
        "\n",
        "train_16 = pd.read_csv('/content/drive/MyDrive/unified_wifi_0/Unified_WiFi_5da138364db8ce0c98bc00f1_0_train.csv')\n",
        "train_16['site_id'] = '5da138364db8ce0c98bc00f1' \n",
        "\n",
        "train_17 = pd.read_csv('/content/drive/MyDrive/unified_wifi_0/Unified_WiFi_5da1383b4db8ce0c98bc11ab_0_train.csv')\n",
        "train_17['site_id'] = '5da1383b4db8ce0c98bc11ab' \n",
        "\n",
        "train_18 = pd.read_csv('/content/drive/MyDrive/unified_wifi_0/Unified_WiFi_5da138754db8ce0c98bca82f_0_train.csv')\n",
        "train_18['site_id'] = '5da138754db8ce0c98bca82f' \n",
        "\n",
        "train_19 = pd.read_csv('/content/drive/MyDrive/unified_wifi_0/Unified_WiFi_5da138764db8ce0c98bcaa46_0_train.csv')\n",
        "train_19['site_id'] = '5da138764db8ce0c98bcaa46' \n",
        "\n",
        "train_20 = pd.read_csv('/content/drive/MyDrive/unified_wifi_0/Unified_WiFi_5da1389e4db8ce0c98bd0547_0_train.csv')\n",
        "train_20['site_id'] = '5da1389e4db8ce0c98bd0547' \n",
        "\n",
        "train_21 = pd.read_csv('/content/drive/MyDrive/unified_wifi_0/Unified_WiFi_5da138b74db8ce0c98bd4774_0_train.csv')\n",
        "train_21['site_id'] = '5da138b74db8ce0c98bd4774' \n",
        "\n",
        "train_22 = pd.read_csv('/content/drive/MyDrive/unified_wifi_0/Unified_WiFi_5da958dd46f8266d0737457b_0_train.csv')\n",
        "train_22['site_id'] = '5da958dd46f8266d0737457b' \n",
        "\n",
        "train_23 = pd.read_csv('/content/drive/MyDrive/unified_wifi_0/Unified_WiFi_5dbc1d84c1eb61796cf7c010_0_train.csv')\n",
        "train_23['site_id'] = '5dbc1d84c1eb61796cf7c010' \n",
        "\n",
        "train_24 = pd.read_csv('/content/drive/MyDrive/unified_wifi_0/Unified_WiFi_5dc8cea7659e181adb076a3f_0_train.csv')\n",
        "train_24['site_id'] = '5dc8cea7659e181adb076a3f' \n"
      ],
      "execution_count": 42,
      "outputs": []
    },
    {
      "cell_type": "code",
      "metadata": {
        "id": "Z2s15DigARVH"
      },
      "source": [
        "train_all = pd.concat([train_1, train_2])\n",
        "del train_1, train_2"
      ],
      "execution_count": 43,
      "outputs": []
    },
    {
      "cell_type": "code",
      "metadata": {
        "id": "S44jRxXJGRZd"
      },
      "source": [
        "train_all = pd.concat([train_all, train_3])\n",
        "del train_3"
      ],
      "execution_count": 44,
      "outputs": []
    },
    {
      "cell_type": "code",
      "metadata": {
        "id": "RjHZwWEvGRbj"
      },
      "source": [
        "train_all = pd.concat([train_all, train_4])\n",
        "del train_4"
      ],
      "execution_count": 45,
      "outputs": []
    },
    {
      "cell_type": "code",
      "metadata": {
        "id": "pEhCap-LGRed"
      },
      "source": [
        "train_all = pd.concat([train_all, train_5])\n",
        "del train_5"
      ],
      "execution_count": 46,
      "outputs": []
    },
    {
      "cell_type": "code",
      "metadata": {
        "id": "AxB1mh4dGRgt"
      },
      "source": [
        "train_all = pd.concat([train_all, train_6])\n",
        "del train_6"
      ],
      "execution_count": 47,
      "outputs": []
    },
    {
      "cell_type": "code",
      "metadata": {
        "id": "AMpWyiYiGRjb"
      },
      "source": [
        "train_all = pd.concat([train_all, train_7])\n",
        "del train_7"
      ],
      "execution_count": 48,
      "outputs": []
    },
    {
      "cell_type": "code",
      "metadata": {
        "id": "7jvZfVjUGRls"
      },
      "source": [
        "train_all = pd.concat([train_all, train_8])\n",
        "del train_8"
      ],
      "execution_count": 49,
      "outputs": []
    },
    {
      "cell_type": "code",
      "metadata": {
        "id": "ykuphReHGRoj"
      },
      "source": [
        "train_all = pd.concat([train_all, train_9])\n",
        "del train_9"
      ],
      "execution_count": 50,
      "outputs": []
    },
    {
      "cell_type": "code",
      "metadata": {
        "id": "T7FqXubWGRrD"
      },
      "source": [
        "train_all = pd.concat([train_all, train_10])\n",
        "del train_10"
      ],
      "execution_count": 51,
      "outputs": []
    },
    {
      "cell_type": "code",
      "metadata": {
        "id": "3HtYNc2zGRtn"
      },
      "source": [
        "train_all = pd.concat([train_all, train_11])\n",
        "del train_11"
      ],
      "execution_count": 52,
      "outputs": []
    },
    {
      "cell_type": "code",
      "metadata": {
        "id": "YpG52nvaGRv7"
      },
      "source": [
        "train_all = pd.concat([train_all, train_12])\n",
        "del train_12"
      ],
      "execution_count": 53,
      "outputs": []
    },
    {
      "cell_type": "code",
      "metadata": {
        "id": "hc0FIDeAGRyf"
      },
      "source": [
        "train_all = pd.concat([train_all, train_13])\n",
        "del train_13"
      ],
      "execution_count": 54,
      "outputs": []
    },
    {
      "cell_type": "code",
      "metadata": {
        "id": "2pNvvLvhGR0w"
      },
      "source": [
        "train_all = pd.concat([train_all, train_14])\n",
        "del train_14"
      ],
      "execution_count": 55,
      "outputs": []
    },
    {
      "cell_type": "code",
      "metadata": {
        "id": "A9piWj3jGR3S"
      },
      "source": [
        "train_all = pd.concat([train_all, train_15])\n",
        "del train_15"
      ],
      "execution_count": 56,
      "outputs": []
    },
    {
      "cell_type": "code",
      "metadata": {
        "id": "ZiCoGocEGR5T"
      },
      "source": [
        "train_all = pd.concat([train_all, train_16])\n",
        "del train_16"
      ],
      "execution_count": 57,
      "outputs": []
    },
    {
      "cell_type": "code",
      "metadata": {
        "id": "wcz4JATzGR8L"
      },
      "source": [
        "train_all = pd.concat([train_all, train_17])\n",
        "del train_17"
      ],
      "execution_count": 58,
      "outputs": []
    },
    {
      "cell_type": "code",
      "metadata": {
        "id": "UrhXQck5GR-3"
      },
      "source": [
        "train_all = pd.concat([train_all, train_18])\n",
        "del train_18"
      ],
      "execution_count": 59,
      "outputs": []
    },
    {
      "cell_type": "code",
      "metadata": {
        "id": "7HPr0QkBGSAh"
      },
      "source": [
        "train_all = pd.concat([train_all, train_19])\n",
        "del train_19"
      ],
      "execution_count": 60,
      "outputs": []
    },
    {
      "cell_type": "code",
      "metadata": {
        "id": "6D2wa2qSGSDE"
      },
      "source": [
        "train_all = pd.concat([train_all, train_20])\n",
        "del train_20"
      ],
      "execution_count": 61,
      "outputs": []
    },
    {
      "cell_type": "code",
      "metadata": {
        "id": "PkP5RhcQGSFQ"
      },
      "source": [
        "train_all = pd.concat([train_all, train_21])\n",
        "del train_21"
      ],
      "execution_count": 62,
      "outputs": []
    },
    {
      "cell_type": "code",
      "metadata": {
        "id": "7NMa96I1GSHb"
      },
      "source": [
        "train_all = pd.concat([train_all, train_22])\n",
        "del train_22"
      ],
      "execution_count": 63,
      "outputs": []
    },
    {
      "cell_type": "code",
      "metadata": {
        "id": "QJN3sCqqGSJZ"
      },
      "source": [
        "train_all = pd.concat([train_all, train_23])\n",
        "del train_23"
      ],
      "execution_count": 64,
      "outputs": []
    },
    {
      "cell_type": "code",
      "metadata": {
        "id": "HI2mdqg3GSLk"
      },
      "source": [
        "train_all = pd.concat([train_all, train_24])\n",
        "del train_24"
      ],
      "execution_count": 65,
      "outputs": []
    },
    {
      "cell_type": "code",
      "metadata": {
        "colab": {
          "base_uri": "https://localhost:8080/"
        },
        "id": "v1LtRAPQWdTH",
        "outputId": "ccfe2806-0e4e-490e-9cb8-a960d06501e6"
      },
      "source": [
        "train_all.columns"
      ],
      "execution_count": 66,
      "outputs": [
        {
          "output_type": "execute_result",
          "data": {
            "text/plain": [
              "Index(['bssid_0', 'bssid_1', 'bssid_2', 'bssid_3', 'bssid_4', 'bssid_5',\n",
              "       'bssid_6', 'bssid_7', 'bssid_8', 'bssid_9',\n",
              "       ...\n",
              "       'rssi_95', 'rssi_96', 'rssi_97', 'rssi_98', 'rssi_99', 'x', 'y',\n",
              "       'floor', 'path', 'site_id'],\n",
              "      dtype='object', length=205)"
            ]
          },
          "metadata": {
            "tags": []
          },
          "execution_count": 66
        }
      ]
    },
    {
      "cell_type": "code",
      "metadata": {
        "id": "UXhtQLyBPDXK"
      },
      "source": [
        "train_all.to_csv('train_all_csv', index=False)"
      ],
      "execution_count": 69,
      "outputs": []
    },
    {
      "cell_type": "code",
      "metadata": {
        "id": "_v-a96GxPDZz"
      },
      "source": [
        "train_all.to_pickle('train_all_pkl')"
      ],
      "execution_count": 70,
      "outputs": []
    },
    {
      "cell_type": "code",
      "metadata": {
        "id": "9Gpw-EvPcdp7"
      },
      "source": [
        "!mv /content/train_all_csv /content/drive/MyDrive/unified_wifi_0\n",
        "!mv /content/train_all_pkl /content/drive/MyDrive/unified_wifi_0\n"
      ],
      "execution_count": 71,
      "outputs": []
    },
    {
      "cell_type": "code",
      "metadata": {
        "id": "kQd9xFIHGSP5"
      },
      "source": [
        "test_1 = pd.read_csv('')\n",
        "test_2 = pd.read_csv('')\n",
        "test_3 = pd.read_csv('')\n",
        "test_4 = pd.read_csv('')\n",
        "test_5 = pd.read_csv('')\n",
        "test_6 = pd.read_csv('')\n",
        "test_7 = pd.read_csv('')\n",
        "test_8 = pd.read_csv('')\n",
        "test_9 = pd.read_csv('')\n",
        "test_10 = pd.read_csv('')\n",
        "test_11 = pd.read_csv('')\n",
        "test_12 = pd.read_csv('')\n",
        "test_13 = pd.read_csv('')\n",
        "test_14 = pd.read_csv('')\n",
        "test_15 = pd.read_csv('')\n",
        "test_16 = pd.read_csv('')\n",
        "test_17 = pd.read_csv('')\n",
        "test_18 = pd.read_csv('')\n",
        "test_19 = pd.read_csv('')\n",
        "test_20 = pd.read_csv('')\n",
        "test_21 = pd.read_csv('')\n",
        "test_22 = pd.read_csv('')\n",
        "test_23 = pd.read_csv('')\n",
        "test_24 = pd.read_csv('')"
      ],
      "execution_count": null,
      "outputs": []
    },
    {
      "cell_type": "code",
      "metadata": {
        "id": "WjgrN390dL9p"
      },
      "source": [
        "test_1 = pd.read_csv('/content/drive/MyDrive/unified_wifi_0/Unified_WiFi_5a0546857ecc773753327266_0_test.csv')\n",
        "test_1['site_id'] = '5a0546857ecc773753327266' \n",
        "\n",
        "test_2 = pd.read_csv('/content/drive/MyDrive/unified_wifi_0/Unified_WiFi_5c3c44b80379370013e0fd2b_0_test.csv')\n",
        "test_2['site_id'] = '5c3c44b80379370013e0fd2b' \n",
        "\n",
        "test_3 = pd.read_csv('/content/drive/MyDrive/unified_wifi_0/Unified_WiFi_5d27075f03f801723c2e360f_0_test.csv')\n",
        "test_3['site_id'] = '5d27075f03f801723c2e360f' \n",
        "\n",
        "test_4 = pd.read_csv('/content/drive/MyDrive/unified_wifi_0/Unified_WiFi_5d27096c03f801723c31e5e0_0_test.csv')\n",
        "test_4['site_id'] = '5d27096c03f801723c31e5e0' \n",
        "\n",
        "test_5 = pd.read_csv('/content/drive/MyDrive/unified_wifi_0/Unified_WiFi_5d27097f03f801723c320d97_0_test.csv')\n",
        "test_5['site_id'] = '5d27097f03f801723c320d97' \n",
        "\n",
        "test_6 = pd.read_csv('/content/drive/MyDrive/unified_wifi_0/Unified_WiFi_5d27099f03f801723c32511d_0_test.csv')\n",
        "test_6['site_id'] = '5d27099f03f801723c32511d' \n",
        "\n",
        "test_7 = pd.read_csv('/content/drive/MyDrive/unified_wifi_0/Unified_WiFi_5d2709a003f801723c3251bf_0_test.csv')\n",
        "test_7['site_id'] = '5d2709a003f801723c3251bf'\n",
        "\n",
        "test_8 = pd.read_csv('/content/drive/MyDrive/unified_wifi_0/Unified_WiFi_5d2709b303f801723c327472_0_test.csv')\n",
        "test_8['site_id'] = '5d2709b303f801723c327472' \n",
        "\n",
        "test_9 = pd.read_csv('/content/drive/MyDrive/unified_wifi_0/Unified_WiFi_5d2709bb03f801723c32852c_0_test.csv')\n",
        "test_9['site_id'] = '5d2709bb03f801723c32852c' \n",
        "\n",
        "test_10 = pd.read_csv('/content/drive/MyDrive/unified_wifi_0/Unified_WiFi_5d2709c303f801723c3299ee_0_test.csv')\n",
        "test_10['site_id'] = '5d2709c303f801723c3299ee' \n",
        "\n",
        "test_11 = pd.read_csv('/content/drive/MyDrive/unified_wifi_0/Unified_WiFi_5d2709d403f801723c32bd39_0_test.csv')\n",
        "test_11['site_id'] = '5d2709d403f801723c32bd39' \n",
        "\n",
        "test_12 = pd.read_csv('/content/drive/MyDrive/unified_wifi_0/Unified_WiFi_5d2709e003f801723c32d896_0_test.csv')\n",
        "test_12['site_id'] = '5d2709e003f801723c32d896' \n",
        "\n",
        "test_13 = pd.read_csv('/content/drive/MyDrive/unified_wifi_0/Unified_WiFi_5da138274db8ce0c98bbd3d2_0_test.csv')\n",
        "test_13['site_id'] = '5da138274db8ce0c98bbd3d2' \n",
        "\n",
        "test_14 = pd.read_csv('/content/drive/MyDrive/unified_wifi_0/Unified_WiFi_5da1382d4db8ce0c98bbe92e_0_test.csv')\n",
        "test_14['site_id'] = '5da1382d4db8ce0c98bbe92e' \n",
        "\n",
        "test_15 = pd.read_csv('/content/drive/MyDrive/unified_wifi_0/Unified_WiFi_5da138314db8ce0c98bbf3a0_0_test.csv')\n",
        "test_15['site_id'] = '5da138314db8ce0c98bbf3a0' \n",
        "\n",
        "test_16 = pd.read_csv('/content/drive/MyDrive/unified_wifi_0/Unified_WiFi_5da138364db8ce0c98bc00f1_0_test.csv')\n",
        "test_16['site_id'] = '5da138364db8ce0c98bc00f1' \n",
        "\n",
        "test_17 = pd.read_csv('/content/drive/MyDrive/unified_wifi_0/Unified_WiFi_5da1383b4db8ce0c98bc11ab_0_test.csv')\n",
        "test_17['site_id'] = '5da1383b4db8ce0c98bc11ab' \n",
        "\n",
        "test_18 = pd.read_csv('/content/drive/MyDrive/unified_wifi_0/Unified_WiFi_5da138754db8ce0c98bca82f_0_test.csv')\n",
        "test_18['site_id'] = '5da138754db8ce0c98bca82f' \n",
        "\n",
        "test_19 = pd.read_csv('/content/drive/MyDrive/unified_wifi_0/Unified_WiFi_5da138764db8ce0c98bcaa46_0_test.csv')\n",
        "test_19['site_id'] = '5da138764db8ce0c98bcaa46' \n",
        "\n",
        "test_20 = pd.read_csv('/content/drive/MyDrive/unified_wifi_0/Unified_WiFi_5da1389e4db8ce0c98bd0547_0_test.csv')\n",
        "test_20['site_id'] = '5da1389e4db8ce0c98bd0547' \n",
        "\n",
        "test_21 = pd.read_csv('/content/drive/MyDrive/unified_wifi_0/Unified_WiFi_5da138b74db8ce0c98bd4774_0_test.csv')\n",
        "test_21['site_id'] = '5da138b74db8ce0c98bd4774' \n",
        "\n",
        "test_22 = pd.read_csv('/content/drive/MyDrive/unified_wifi_0/Unified_WiFi_5da958dd46f8266d0737457b_0_test.csv')\n",
        "test_22['site_id'] = '5da958dd46f8266d0737457b' \n",
        "\n",
        "test_23 = pd.read_csv('/content/drive/MyDrive/unified_wifi_0/Unified_WiFi_5dbc1d84c1eb61796cf7c010_0_test.csv')\n",
        "test_23['site_id'] = '5dbc1d84c1eb61796cf7c010' \n",
        "\n",
        "test_24 = pd.read_csv('/content/drive/MyDrive/unified_wifi_0/Unified_WiFi_5dc8cea7659e181adb076a3f_0_test.csv')\n",
        "test_24['site_id'] = '5dc8cea7659e181adb076a3f' \n"
      ],
      "execution_count": 73,
      "outputs": []
    },
    {
      "cell_type": "code",
      "metadata": {
        "id": "aHmzfsmkH-64"
      },
      "source": [
        "test_all = pd.concat([test_1, test_2])\n",
        "del test_1, test_2"
      ],
      "execution_count": 74,
      "outputs": []
    },
    {
      "cell_type": "code",
      "metadata": {
        "id": "nbzhTLAWH--e"
      },
      "source": [
        "test_all = pd.concat([test_all, test_3])\n",
        "del test_3"
      ],
      "execution_count": 75,
      "outputs": []
    },
    {
      "cell_type": "code",
      "metadata": {
        "id": "v9A_CUHJH_BS"
      },
      "source": [
        "test_all = pd.concat([test_all, test_4])\n",
        "del test_4"
      ],
      "execution_count": 76,
      "outputs": []
    },
    {
      "cell_type": "code",
      "metadata": {
        "id": "gH_CgEiqIxH2"
      },
      "source": [
        "test_all = pd.concat([test_all, test_5])\n",
        "del test_5"
      ],
      "execution_count": 77,
      "outputs": []
    },
    {
      "cell_type": "code",
      "metadata": {
        "id": "8YyTxRc2IxKW"
      },
      "source": [
        "test_all = pd.concat([test_all, test_6])\n",
        "del test_6"
      ],
      "execution_count": 78,
      "outputs": []
    },
    {
      "cell_type": "code",
      "metadata": {
        "id": "fDSRYlGLIxNP"
      },
      "source": [
        "test_all = pd.concat([test_all, test_7])\n",
        "del test_7"
      ],
      "execution_count": 79,
      "outputs": []
    },
    {
      "cell_type": "code",
      "metadata": {
        "id": "66tw4m_HIxQg"
      },
      "source": [
        "test_all = pd.concat([test_all, test_8])\n",
        "del test_8"
      ],
      "execution_count": 80,
      "outputs": []
    },
    {
      "cell_type": "code",
      "metadata": {
        "id": "fYIbmnl8IxVk"
      },
      "source": [
        "test_all = pd.concat([test_all, test_9])\n",
        "del test_9"
      ],
      "execution_count": 81,
      "outputs": []
    },
    {
      "cell_type": "code",
      "metadata": {
        "id": "6vapB1yrIxYU"
      },
      "source": [
        "test_all = pd.concat([test_all, test_10])\n",
        "del test_10"
      ],
      "execution_count": 82,
      "outputs": []
    },
    {
      "cell_type": "code",
      "metadata": {
        "id": "PA8umkkFIxay"
      },
      "source": [
        "test_all = pd.concat([test_all, test_11])\n",
        "del test_11"
      ],
      "execution_count": 83,
      "outputs": []
    },
    {
      "cell_type": "code",
      "metadata": {
        "id": "VEWmkWjlIxdm"
      },
      "source": [
        "test_all = pd.concat([test_all, test_12])\n",
        "del test_12"
      ],
      "execution_count": 84,
      "outputs": []
    },
    {
      "cell_type": "code",
      "metadata": {
        "id": "0ivvaX3OIxgI"
      },
      "source": [
        "test_all = pd.concat([test_all, test_13])\n",
        "del test_13"
      ],
      "execution_count": 85,
      "outputs": []
    },
    {
      "cell_type": "code",
      "metadata": {
        "id": "gWj5dmCAIxjW"
      },
      "source": [
        "test_all = pd.concat([test_all, test_14])\n",
        "del test_14"
      ],
      "execution_count": 86,
      "outputs": []
    },
    {
      "cell_type": "code",
      "metadata": {
        "id": "4w0YtfBtIxmg"
      },
      "source": [
        "test_all = pd.concat([test_all, test_15])\n",
        "del test_15"
      ],
      "execution_count": 87,
      "outputs": []
    },
    {
      "cell_type": "code",
      "metadata": {
        "id": "aYh3I9VPIxpz"
      },
      "source": [
        "test_all = pd.concat([test_all, test_16])\n",
        "del test_16"
      ],
      "execution_count": 88,
      "outputs": []
    },
    {
      "cell_type": "code",
      "metadata": {
        "id": "3_o6A8CdIxsn"
      },
      "source": [
        "test_all = pd.concat([test_all, test_17])\n",
        "del test_17"
      ],
      "execution_count": 89,
      "outputs": []
    },
    {
      "cell_type": "code",
      "metadata": {
        "id": "di1FO_W8Ixv5"
      },
      "source": [
        "test_all = pd.concat([test_all, test_18])\n",
        "del test_18"
      ],
      "execution_count": 90,
      "outputs": []
    },
    {
      "cell_type": "code",
      "metadata": {
        "id": "Gu5l6ATSIxzC"
      },
      "source": [
        "test_all = pd.concat([test_all, test_19])\n",
        "del test_19"
      ],
      "execution_count": 91,
      "outputs": []
    },
    {
      "cell_type": "code",
      "metadata": {
        "id": "MUEaLtwBIx1N"
      },
      "source": [
        "test_all = pd.concat([test_all, test_20])\n",
        "del test_20"
      ],
      "execution_count": 92,
      "outputs": []
    },
    {
      "cell_type": "code",
      "metadata": {
        "id": "nO091i6GIx6G"
      },
      "source": [
        "test_all = pd.concat([test_all, test_21])\n",
        "del test_21"
      ],
      "execution_count": 93,
      "outputs": []
    },
    {
      "cell_type": "code",
      "metadata": {
        "id": "xDMMwjs0Ix9X"
      },
      "source": [
        "test_all = pd.concat([test_all, test_22])\n",
        "del test_22"
      ],
      "execution_count": 94,
      "outputs": []
    },
    {
      "cell_type": "code",
      "metadata": {
        "id": "QrvHbV2PIyZa"
      },
      "source": [
        "test_all = pd.concat([test_all, test_23])\n",
        "del test_23"
      ],
      "execution_count": 95,
      "outputs": []
    },
    {
      "cell_type": "code",
      "metadata": {
        "id": "RmVsM5iXIydq"
      },
      "source": [
        "test_all = pd.concat([test_all, test_24])\n",
        "del test_24"
      ],
      "execution_count": 96,
      "outputs": []
    },
    {
      "cell_type": "code",
      "metadata": {
        "id": "5tERcORkPkzU"
      },
      "source": [
        "test_all.to_csv('test_all_csv', index=False)"
      ],
      "execution_count": 97,
      "outputs": []
    },
    {
      "cell_type": "code",
      "metadata": {
        "id": "wjquQZz5Q2Pt"
      },
      "source": [
        "test_all.to_pickle('test_all_pkl')"
      ],
      "execution_count": 98,
      "outputs": []
    },
    {
      "cell_type": "code",
      "metadata": {
        "id": "ILMGMcE1jBW8"
      },
      "source": [
        "!mv /content/test_all_csv /content/drive/MyDrive/unified_wifi_0\n",
        "!mv /content/test_all_pkl /content/drive/MyDrive/unified_wifi_0"
      ],
      "execution_count": 99,
      "outputs": []
    },
    {
      "cell_type": "code",
      "metadata": {
        "id": "X1Amc9qDjqVt"
      },
      "source": [
        ""
      ],
      "execution_count": null,
      "outputs": []
    }
  ]
}