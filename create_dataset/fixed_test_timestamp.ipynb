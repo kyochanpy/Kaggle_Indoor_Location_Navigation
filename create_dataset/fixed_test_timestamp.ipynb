{
  "nbformat": 4,
  "nbformat_minor": 0,
  "metadata": {
    "colab": {
      "name": "Untitled56.ipynb",
      "provenance": [],
      "mount_file_id": "1fBrgs2aZ1kldXsUpMwvNTTd8aN7Rd3KV",
      "authorship_tag": "ABX9TyOYpSGhrVP49JRIXO/iIYDn",
      "include_colab_link": true
    },
    "kernelspec": {
      "name": "python3",
      "display_name": "Python 3"
    },
    "language_info": {
      "name": "python"
    }
  },
  "cells": [
    {
      "cell_type": "markdown",
      "metadata": {
        "id": "view-in-github",
        "colab_type": "text"
      },
      "source": [
        "<a href=\"https://colab.research.google.com/github/kyochanpy/Kaggle_Indoor_Location_Navigation/blob/main/create_dataset/fixed_test_timestamp.ipynb\" target=\"_parent\"><img src=\"https://colab.research.google.com/assets/colab-badge.svg\" alt=\"Open In Colab\"/></a>"
      ]
    },
    {
      "cell_type": "code",
      "metadata": {
        "id": "Tbn2-eW5gfsB"
      },
      "source": [
        "import pandas as pd\n",
        "import numpy as np\n",
        "import shutil"
      ],
      "execution_count": 4,
      "outputs": []
    },
    {
      "cell_type": "code",
      "metadata": {
        "id": "ZqtN9Vt5gpJH"
      },
      "source": [
        "# pull out all the buildings actually used in the test set, given current method we don't need the other ones\n",
        "ssubm = pd.read_csv('/content/drive/MyDrive/sample_submission.csv')\n",
        "\n",
        "# only 24 of the total buildings are used in the test set, \n",
        "# this allows us to greatly reduce the intial size of the dataset\n",
        "\n",
        "ssubm_df = ssubm[\"site_path_timestamp\"].apply(lambda x: pd.Series(x.split(\"_\")))\n",
        "used_buildings = sorted(ssubm_df[0].value_counts().index.tolist())\n",
        "\n",
        "# dictionary used to map the floor codes to the values used in the submission file. \n",
        "floor_map = {\"B2\":-2, \"B1\":-1, \"F1\":0, \"F2\": 1, \"F3\":2, \"F4\":3, \"F5\":4, \"F6\":5, \"F7\":6,\"F8\":7, \"F9\":8,\n",
        "             \"1F\":0, \"2F\":1, \"3F\":2, \"4F\":3, \"5F\":4, \"6F\":5, \"7F\":6, \"8F\": 7, \"9F\":8}"
      ],
      "execution_count": 15,
      "outputs": []
    },
    {
      "cell_type": "code",
      "metadata": {
        "id": "tj_34puLi1QO"
      },
      "source": [
        "real_test = pd.read_csv('/content/drive/MyDrive/fix_test_timestamp.csv')"
      ],
      "execution_count": 20,
      "outputs": []
    },
    {
      "cell_type": "code",
      "metadata": {
        "id": "j4XezmZLi92X"
      },
      "source": [
        "real_test_df = real_test[\"site_path_timestamp\"].apply(lambda x: pd.Series(x.split(\"_\")))\n",
        "real_test_df['site_path_timestamp'] = real_test['site_path_timestamp'].values\n",
        "real_test_df['timestamp'] = real_test['real_timestamp'].values"
      ],
      "execution_count": 21,
      "outputs": []
    },
    {
      "cell_type": "code",
      "metadata": {
        "id": "0y0WA4n0i9yS"
      },
      "source": [
        "for building in used_buildings:\n",
        "    real_test_df_ = real_test_df[real_test_df[0] == building]\n",
        "    real_test_df_.to_csv(f'{building}_fixed_time_test.csv')\n",
        "    shutil.move(f'{building}_fixed_time_test.csv', '/content/drive/MyDrive/fixed_test_timestamp')"
      ],
      "execution_count": 22,
      "outputs": []
    },
    {
      "cell_type": "code",
      "metadata": {
        "colab": {
          "base_uri": "https://localhost:8080/",
          "height": 456
        },
        "id": "T-aF1NFRwdHE",
        "outputId": "e34f2a75-ad54-4f40-a8ea-62c361ffa7f2"
      },
      "source": [
        "a = pd.read_csv('/content/drive/MyDrive/fixed_test_timestamp/5a0546857ecc773753327266_fixed_time_test.csv')"
      ],
      "execution_count": 23,
      "outputs": [
        {
          "output_type": "execute_result",
          "data": {
            "text/html": [
              "<div>\n",
              "<style scoped>\n",
              "    .dataframe tbody tr th:only-of-type {\n",
              "        vertical-align: middle;\n",
              "    }\n",
              "\n",
              "    .dataframe tbody tr th {\n",
              "        vertical-align: top;\n",
              "    }\n",
              "\n",
              "    .dataframe thead th {\n",
              "        text-align: right;\n",
              "    }\n",
              "</style>\n",
              "<table border=\"1\" class=\"dataframe\">\n",
              "  <thead>\n",
              "    <tr style=\"text-align: right;\">\n",
              "      <th></th>\n",
              "      <th>Unnamed: 0</th>\n",
              "      <th>0</th>\n",
              "      <th>1</th>\n",
              "      <th>2</th>\n",
              "      <th>site_path_timestamp</th>\n",
              "      <th>timestamp</th>\n",
              "    </tr>\n",
              "  </thead>\n",
              "  <tbody>\n",
              "    <tr>\n",
              "      <th>0</th>\n",
              "      <td>0</td>\n",
              "      <td>5a0546857ecc773753327266</td>\n",
              "      <td>046cfa46be49fc10834815c6</td>\n",
              "      <td>9</td>\n",
              "      <td>5a0546857ecc773753327266_046cfa46be49fc1083481...</td>\n",
              "      <td>1578474564146</td>\n",
              "    </tr>\n",
              "    <tr>\n",
              "      <th>1</th>\n",
              "      <td>1</td>\n",
              "      <td>5a0546857ecc773753327266</td>\n",
              "      <td>046cfa46be49fc10834815c6</td>\n",
              "      <td>9017</td>\n",
              "      <td>5a0546857ecc773753327266_046cfa46be49fc1083481...</td>\n",
              "      <td>1578474573154</td>\n",
              "    </tr>\n",
              "    <tr>\n",
              "      <th>2</th>\n",
              "      <td>2</td>\n",
              "      <td>5a0546857ecc773753327266</td>\n",
              "      <td>046cfa46be49fc10834815c6</td>\n",
              "      <td>15326</td>\n",
              "      <td>5a0546857ecc773753327266_046cfa46be49fc1083481...</td>\n",
              "      <td>1578474579463</td>\n",
              "    </tr>\n",
              "    <tr>\n",
              "      <th>3</th>\n",
              "      <td>3</td>\n",
              "      <td>5a0546857ecc773753327266</td>\n",
              "      <td>046cfa46be49fc10834815c6</td>\n",
              "      <td>18763</td>\n",
              "      <td>5a0546857ecc773753327266_046cfa46be49fc1083481...</td>\n",
              "      <td>1578474582900</td>\n",
              "    </tr>\n",
              "    <tr>\n",
              "      <th>4</th>\n",
              "      <td>4</td>\n",
              "      <td>5a0546857ecc773753327266</td>\n",
              "      <td>046cfa46be49fc10834815c6</td>\n",
              "      <td>22328</td>\n",
              "      <td>5a0546857ecc773753327266_046cfa46be49fc1083481...</td>\n",
              "      <td>1578474586465</td>\n",
              "    </tr>\n",
              "    <tr>\n",
              "      <th>...</th>\n",
              "      <td>...</td>\n",
              "      <td>...</td>\n",
              "      <td>...</td>\n",
              "      <td>...</td>\n",
              "      <td>...</td>\n",
              "      <td>...</td>\n",
              "    </tr>\n",
              "    <tr>\n",
              "      <th>294</th>\n",
              "      <td>294</td>\n",
              "      <td>5a0546857ecc773753327266</td>\n",
              "      <td>ffcd9524c80c0fa5bb859eaf</td>\n",
              "      <td>35117</td>\n",
              "      <td>5a0546857ecc773753327266_ffcd9524c80c0fa5bb859...</td>\n",
              "      <td>1578465350734</td>\n",
              "    </tr>\n",
              "    <tr>\n",
              "      <th>295</th>\n",
              "      <td>295</td>\n",
              "      <td>5a0546857ecc773753327266</td>\n",
              "      <td>ffcd9524c80c0fa5bb859eaf</td>\n",
              "      <td>41230</td>\n",
              "      <td>5a0546857ecc773753327266_ffcd9524c80c0fa5bb859...</td>\n",
              "      <td>1578465356847</td>\n",
              "    </tr>\n",
              "    <tr>\n",
              "      <th>296</th>\n",
              "      <td>296</td>\n",
              "      <td>5a0546857ecc773753327266</td>\n",
              "      <td>ffcd9524c80c0fa5bb859eaf</td>\n",
              "      <td>51634</td>\n",
              "      <td>5a0546857ecc773753327266_ffcd9524c80c0fa5bb859...</td>\n",
              "      <td>1578465367251</td>\n",
              "    </tr>\n",
              "    <tr>\n",
              "      <th>297</th>\n",
              "      <td>297</td>\n",
              "      <td>5a0546857ecc773753327266</td>\n",
              "      <td>ffcd9524c80c0fa5bb859eaf</td>\n",
              "      <td>60483</td>\n",
              "      <td>5a0546857ecc773753327266_ffcd9524c80c0fa5bb859...</td>\n",
              "      <td>1578465376100</td>\n",
              "    </tr>\n",
              "    <tr>\n",
              "      <th>298</th>\n",
              "      <td>298</td>\n",
              "      <td>5a0546857ecc773753327266</td>\n",
              "      <td>ffcd9524c80c0fa5bb859eaf</td>\n",
              "      <td>67146</td>\n",
              "      <td>5a0546857ecc773753327266_ffcd9524c80c0fa5bb859...</td>\n",
              "      <td>1578465382763</td>\n",
              "    </tr>\n",
              "  </tbody>\n",
              "</table>\n",
              "<p>299 rows × 6 columns</p>\n",
              "</div>"
            ],
            "text/plain": [
              "     Unnamed: 0  ...      timestamp\n",
              "0             0  ...  1578474564146\n",
              "1             1  ...  1578474573154\n",
              "2             2  ...  1578474579463\n",
              "3             3  ...  1578474582900\n",
              "4             4  ...  1578474586465\n",
              "..          ...  ...            ...\n",
              "294         294  ...  1578465350734\n",
              "295         295  ...  1578465356847\n",
              "296         296  ...  1578465367251\n",
              "297         297  ...  1578465376100\n",
              "298         298  ...  1578465382763\n",
              "\n",
              "[299 rows x 6 columns]"
            ]
          },
          "metadata": {
            "tags": []
          },
          "execution_count": 23
        }
      ]
    },
    {
      "cell_type": "code",
      "metadata": {
        "id": "iUWaopF3hKAp"
      },
      "source": [
        "for building in used_buildings:\n",
        "    test_df = pd.read_csv(f'/content/drive/MyDrive/wifi_0_02{building}_test')\n",
        "    test_df = test_df.drop('timrstamp', axis=1)"
      ],
      "execution_count": null,
      "outputs": []
    },
    {
      "cell_type": "code",
      "metadata": {
        "colab": {
          "base_uri": "https://localhost:8080/",
          "height": 419
        },
        "id": "0muOEgy218RN",
        "outputId": "b326a491-7a69-43d2-da62-417b43d40197"
      },
      "source": [
        "a = pd.read_csv('/content/drive/MyDrive/accelerometer/test/5a0546857ecc773753327266_accelerometer_test.csv')\n",
        "a"
      ],
      "execution_count": 24,
      "outputs": [
        {
          "output_type": "execute_result",
          "data": {
            "text/html": [
              "<div>\n",
              "<style scoped>\n",
              "    .dataframe tbody tr th:only-of-type {\n",
              "        vertical-align: middle;\n",
              "    }\n",
              "\n",
              "    .dataframe tbody tr th {\n",
              "        vertical-align: top;\n",
              "    }\n",
              "\n",
              "    .dataframe thead th {\n",
              "        text-align: right;\n",
              "    }\n",
              "</style>\n",
              "<table border=\"1\" class=\"dataframe\">\n",
              "  <thead>\n",
              "    <tr style=\"text-align: right;\">\n",
              "      <th></th>\n",
              "      <th>Unnamed: 0</th>\n",
              "      <th>timestamp</th>\n",
              "      <th>x</th>\n",
              "      <th>y</th>\n",
              "      <th>z</th>\n",
              "      <th>accuracy</th>\n",
              "    </tr>\n",
              "  </thead>\n",
              "  <tbody>\n",
              "    <tr>\n",
              "      <th>0</th>\n",
              "      <td>0</td>\n",
              "      <td>136</td>\n",
              "      <td>-0.574860</td>\n",
              "      <td>5.930573</td>\n",
              "      <td>7.481476</td>\n",
              "      <td>2.0</td>\n",
              "    </tr>\n",
              "    <tr>\n",
              "      <th>1</th>\n",
              "      <td>1</td>\n",
              "      <td>156</td>\n",
              "      <td>-0.799911</td>\n",
              "      <td>5.992218</td>\n",
              "      <td>7.241455</td>\n",
              "      <td>2.0</td>\n",
              "    </tr>\n",
              "    <tr>\n",
              "      <th>2</th>\n",
              "      <td>2</td>\n",
              "      <td>176</td>\n",
              "      <td>-0.826248</td>\n",
              "      <td>5.987427</td>\n",
              "      <td>7.306686</td>\n",
              "      <td>2.0</td>\n",
              "    </tr>\n",
              "    <tr>\n",
              "      <th>3</th>\n",
              "      <td>3</td>\n",
              "      <td>196</td>\n",
              "      <td>-0.743057</td>\n",
              "      <td>5.988632</td>\n",
              "      <td>7.240250</td>\n",
              "      <td>2.0</td>\n",
              "    </tr>\n",
              "    <tr>\n",
              "      <th>4</th>\n",
              "      <td>4</td>\n",
              "      <td>216</td>\n",
              "      <td>-0.753220</td>\n",
              "      <td>6.140060</td>\n",
              "      <td>7.322250</td>\n",
              "      <td>2.0</td>\n",
              "    </tr>\n",
              "    <tr>\n",
              "      <th>...</th>\n",
              "      <td>...</td>\n",
              "      <td>...</td>\n",
              "      <td>...</td>\n",
              "      <td>...</td>\n",
              "      <td>...</td>\n",
              "      <td>...</td>\n",
              "    </tr>\n",
              "    <tr>\n",
              "      <th>111716</th>\n",
              "      <td>5198</td>\n",
              "      <td>104987</td>\n",
              "      <td>-1.777344</td>\n",
              "      <td>5.369125</td>\n",
              "      <td>8.298492</td>\n",
              "      <td>2.0</td>\n",
              "    </tr>\n",
              "    <tr>\n",
              "      <th>111717</th>\n",
              "      <td>5199</td>\n",
              "      <td>105007</td>\n",
              "      <td>-1.701935</td>\n",
              "      <td>5.406830</td>\n",
              "      <td>6.622543</td>\n",
              "      <td>2.0</td>\n",
              "    </tr>\n",
              "    <tr>\n",
              "      <th>111718</th>\n",
              "      <td>5200</td>\n",
              "      <td>105027</td>\n",
              "      <td>-1.915008</td>\n",
              "      <td>5.109360</td>\n",
              "      <td>6.538742</td>\n",
              "      <td>2.0</td>\n",
              "    </tr>\n",
              "    <tr>\n",
              "      <th>111719</th>\n",
              "      <td>5201</td>\n",
              "      <td>105047</td>\n",
              "      <td>-1.936569</td>\n",
              "      <td>5.200333</td>\n",
              "      <td>8.996994</td>\n",
              "      <td>2.0</td>\n",
              "    </tr>\n",
              "    <tr>\n",
              "      <th>111720</th>\n",
              "      <td>5202</td>\n",
              "      <td>105068</td>\n",
              "      <td>-1.408646</td>\n",
              "      <td>5.017181</td>\n",
              "      <td>9.560226</td>\n",
              "      <td>2.0</td>\n",
              "    </tr>\n",
              "  </tbody>\n",
              "</table>\n",
              "<p>111721 rows × 6 columns</p>\n",
              "</div>"
            ],
            "text/plain": [
              "        Unnamed: 0  timestamp         x         y         z  accuracy\n",
              "0                0        136 -0.574860  5.930573  7.481476       2.0\n",
              "1                1        156 -0.799911  5.992218  7.241455       2.0\n",
              "2                2        176 -0.826248  5.987427  7.306686       2.0\n",
              "3                3        196 -0.743057  5.988632  7.240250       2.0\n",
              "4                4        216 -0.753220  6.140060  7.322250       2.0\n",
              "...            ...        ...       ...       ...       ...       ...\n",
              "111716        5198     104987 -1.777344  5.369125  8.298492       2.0\n",
              "111717        5199     105007 -1.701935  5.406830  6.622543       2.0\n",
              "111718        5200     105027 -1.915008  5.109360  6.538742       2.0\n",
              "111719        5201     105047 -1.936569  5.200333  8.996994       2.0\n",
              "111720        5202     105068 -1.408646  5.017181  9.560226       2.0\n",
              "\n",
              "[111721 rows x 6 columns]"
            ]
          },
          "metadata": {
            "tags": []
          },
          "execution_count": 24
        }
      ]
    },
    {
      "cell_type": "code",
      "metadata": {
        "id": "zoiL47g52Coi"
      },
      "source": [
        ""
      ],
      "execution_count": null,
      "outputs": []
    }
  ]
}