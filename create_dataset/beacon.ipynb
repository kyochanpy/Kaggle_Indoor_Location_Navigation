{
  "nbformat": 4,
  "nbformat_minor": 0,
  "metadata": {
    "colab": {
      "name": "Untitled9.ipynb",
      "provenance": [],
      "collapsed_sections": [],
      "machine_shape": "hm",
      "mount_file_id": "1kbLQasaJntBT6fysWjt137ZPpD70lDcr",
      "authorship_tag": "ABX9TyNY+ra9kqg7b18BcrHOfH3N",
      "include_colab_link": true
    },
    "kernelspec": {
      "name": "python3",
      "display_name": "Python 3"
    },
    "language_info": {
      "name": "python"
    },
    "accelerator": "GPU"
  },
  "cells": [
    {
      "cell_type": "markdown",
      "metadata": {
        "id": "view-in-github",
        "colab_type": "text"
      },
      "source": [
        "<a href=\"https://colab.research.google.com/github/kyochanpy/Kaggle_Indoor_Location_Navigation/blob/main/create_dataset/beacon.ipynb\" target=\"_parent\"><img src=\"https://colab.research.google.com/assets/colab-badge.svg\" alt=\"Open In Colab\"/></a>"
      ]
    },
    {
      "cell_type": "code",
      "metadata": {
        "id": "ctLWmu0sZWPj"
      },
      "source": [
        "import pandas as pd\n",
        "import numpy as np\n",
        "import glob\n",
        "import os\n",
        "import gc\n",
        "import json "
      ],
      "execution_count": null,
      "outputs": []
    },
    {
      "cell_type": "code",
      "metadata": {
        "id": "pUz0JIp8ZcbH"
      },
      "source": [
        "base_path = '/content/drive/MyDrive/fixed_train'\n"
      ],
      "execution_count": null,
      "outputs": []
    },
    {
      "cell_type": "code",
      "metadata": {
        "id": "GLLfV54LZe3m"
      },
      "source": [
        "ssubm = pd.read_csv('/content/drive/MyDrive/sample_submission.csv')\n",
        "\n",
        "# only 24 of the total buildings are used in the test set, \n",
        "# this allows us to greatly reduce the intial size of the dataset\n",
        "\n",
        "ssubm_df = ssubm[\"site_path_timestamp\"].apply(lambda x: pd.Series(x.split(\"_\")))\n",
        "used_buildings = sorted(ssubm_df[0].value_counts().index.tolist())\n",
        "\n",
        "# dictionary used to map the floor codes to the values used in the submission file. \n",
        "floor_map = {\"B2\":-2, \"B1\":-1, \"F1\":0, \"F2\": 1, \"F3\":2, \"F4\":3, \"F5\":4, \"F6\":5, \"F7\":6,\"F8\":7, \"F9\":8,\n",
        "             \"1F\":0, \"2F\":1, \"3F\":2, \"4F\":3, \"5F\":4, \"6F\":5, \"7F\":6, \"8F\": 7, \"9F\":8}"
      ],
      "execution_count": null,
      "outputs": []
    },
    {
      "cell_type": "code",
      "metadata": {
        "id": "5-5HH1yXRwVM"
      },
      "source": [
        "\n",
        "\n"
      ],
      "execution_count": null,
      "outputs": []
    },
    {
      "cell_type": "code",
      "metadata": {
        "colab": {
          "base_uri": "https://localhost:8080/",
          "height": 380
        },
        "id": "cSErEfP0q82F",
        "outputId": "8f4056ab-7c05-44b6-dfb1-1f2ff5ac6173"
      },
      "source": [
        "MAC_Adress = dict()\n",
        "\n",
        "for building in used_buildings:\n",
        "    folders = sorted(glob.glob(os.path.join(base_path,'train/'+building+'/*')))\n",
        "    print(building)\n",
        "    beacon = list()\n",
        "    for folder in folders:\n",
        "        floor = floor_map[folder.split('/')[-1]]\n",
        "        files = glob.glob(os.path.join(folder, \"*.txt\"))\n",
        "        for file in files:\n",
        "            with open(file) as f:\n",
        "                txt = f.readlines()\n",
        "                for e, line in enumerate(txt):\n",
        "                    tmp = line.strip().split()\n",
        "                    if tmp[1] == \"TYPE_BEACON\":\n",
        "                        beacon.append(tmp)\n",
        "                    \n",
        "    df = pd.DataFrame(beacon)\n",
        "    value_counts = df[8].value_counts()\n",
        "    top_MAC_Adress = value_counts[value_counts > 100].index.tolist()\n",
        "    print(len(top_MAC_Adress))\n",
        "    MAC_Adress[building] = top_MAC_Adress\n",
        "    del df\n",
        "    del beacon\n",
        "    gc.collect()"
      ],
      "execution_count": null,
      "outputs": [
        {
          "output_type": "stream",
          "text": [
            "5a0546857ecc773753327266\n"
          ],
          "name": "stdout"
        },
        {
          "output_type": "error",
          "ename": "KeyboardInterrupt",
          "evalue": "ignored",
          "traceback": [
            "\u001b[0;31m---------------------------------------------------------------------------\u001b[0m",
            "\u001b[0;31mKeyboardInterrupt\u001b[0m                         Traceback (most recent call last)",
            "\u001b[0;32m<ipython-input-4-ed3f608520e9>\u001b[0m in \u001b[0;36m<module>\u001b[0;34m()\u001b[0m\n\u001b[1;32m     10\u001b[0m         \u001b[0;32mfor\u001b[0m \u001b[0mfile\u001b[0m \u001b[0;32min\u001b[0m \u001b[0mfiles\u001b[0m\u001b[0;34m:\u001b[0m\u001b[0;34m\u001b[0m\u001b[0;34m\u001b[0m\u001b[0m\n\u001b[1;32m     11\u001b[0m             \u001b[0;32mwith\u001b[0m \u001b[0mopen\u001b[0m\u001b[0;34m(\u001b[0m\u001b[0mfile\u001b[0m\u001b[0;34m)\u001b[0m \u001b[0;32mas\u001b[0m \u001b[0mf\u001b[0m\u001b[0;34m:\u001b[0m\u001b[0;34m\u001b[0m\u001b[0;34m\u001b[0m\u001b[0m\n\u001b[0;32m---> 12\u001b[0;31m                 \u001b[0mtxt\u001b[0m \u001b[0;34m=\u001b[0m \u001b[0mf\u001b[0m\u001b[0;34m.\u001b[0m\u001b[0mreadlines\u001b[0m\u001b[0;34m(\u001b[0m\u001b[0;34m)\u001b[0m\u001b[0;34m\u001b[0m\u001b[0;34m\u001b[0m\u001b[0m\n\u001b[0m\u001b[1;32m     13\u001b[0m                 \u001b[0;32mfor\u001b[0m \u001b[0me\u001b[0m\u001b[0;34m,\u001b[0m \u001b[0mline\u001b[0m \u001b[0;32min\u001b[0m \u001b[0menumerate\u001b[0m\u001b[0;34m(\u001b[0m\u001b[0mtxt\u001b[0m\u001b[0;34m)\u001b[0m\u001b[0;34m:\u001b[0m\u001b[0;34m\u001b[0m\u001b[0;34m\u001b[0m\u001b[0m\n\u001b[1;32m     14\u001b[0m                     \u001b[0mtmp\u001b[0m \u001b[0;34m=\u001b[0m \u001b[0mline\u001b[0m\u001b[0;34m.\u001b[0m\u001b[0mstrip\u001b[0m\u001b[0;34m(\u001b[0m\u001b[0;34m)\u001b[0m\u001b[0;34m.\u001b[0m\u001b[0msplit\u001b[0m\u001b[0;34m(\u001b[0m\u001b[0;34m)\u001b[0m\u001b[0;34m\u001b[0m\u001b[0;34m\u001b[0m\u001b[0m\n",
            "\u001b[0;32m/usr/lib/python3.7/codecs.py\u001b[0m in \u001b[0;36mdecode\u001b[0;34m(self, input, final)\u001b[0m\n\u001b[1;32m    317\u001b[0m         \u001b[0;32mraise\u001b[0m \u001b[0mNotImplementedError\u001b[0m\u001b[0;34m\u001b[0m\u001b[0;34m\u001b[0m\u001b[0m\n\u001b[1;32m    318\u001b[0m \u001b[0;34m\u001b[0m\u001b[0m\n\u001b[0;32m--> 319\u001b[0;31m     \u001b[0;32mdef\u001b[0m \u001b[0mdecode\u001b[0m\u001b[0;34m(\u001b[0m\u001b[0mself\u001b[0m\u001b[0;34m,\u001b[0m \u001b[0minput\u001b[0m\u001b[0;34m,\u001b[0m \u001b[0mfinal\u001b[0m\u001b[0;34m=\u001b[0m\u001b[0;32mFalse\u001b[0m\u001b[0;34m)\u001b[0m\u001b[0;34m:\u001b[0m\u001b[0;34m\u001b[0m\u001b[0;34m\u001b[0m\u001b[0m\n\u001b[0m\u001b[1;32m    320\u001b[0m         \u001b[0;31m# decode input (taking the buffer into account)\u001b[0m\u001b[0;34m\u001b[0m\u001b[0;34m\u001b[0m\u001b[0;34m\u001b[0m\u001b[0m\n\u001b[1;32m    321\u001b[0m         \u001b[0mdata\u001b[0m \u001b[0;34m=\u001b[0m \u001b[0mself\u001b[0m\u001b[0;34m.\u001b[0m\u001b[0mbuffer\u001b[0m \u001b[0;34m+\u001b[0m \u001b[0minput\u001b[0m\u001b[0;34m\u001b[0m\u001b[0;34m\u001b[0m\u001b[0m\n",
            "\u001b[0;31mKeyboardInterrupt\u001b[0m: "
          ]
        }
      ]
    },
    {
      "cell_type": "code",
      "metadata": {
        "colab": {
          "base_uri": "https://localhost:8080/",
          "height": 419
        },
        "id": "v84Lc8N0fCFj",
        "outputId": "e95fd89f-c32b-4ba6-fef4-bfd9e63e0259"
      },
      "source": [
        "ssubm_df"
      ],
      "execution_count": null,
      "outputs": [
        {
          "output_type": "execute_result",
          "data": {
            "text/html": [
              "<div>\n",
              "<style scoped>\n",
              "    .dataframe tbody tr th:only-of-type {\n",
              "        vertical-align: middle;\n",
              "    }\n",
              "\n",
              "    .dataframe tbody tr th {\n",
              "        vertical-align: top;\n",
              "    }\n",
              "\n",
              "    .dataframe thead th {\n",
              "        text-align: right;\n",
              "    }\n",
              "</style>\n",
              "<table border=\"1\" class=\"dataframe\">\n",
              "  <thead>\n",
              "    <tr style=\"text-align: right;\">\n",
              "      <th></th>\n",
              "      <th>0</th>\n",
              "      <th>1</th>\n",
              "      <th>2</th>\n",
              "    </tr>\n",
              "  </thead>\n",
              "  <tbody>\n",
              "    <tr>\n",
              "      <th>0</th>\n",
              "      <td>5a0546857ecc773753327266</td>\n",
              "      <td>046cfa46be49fc10834815c6</td>\n",
              "      <td>0000000000009</td>\n",
              "    </tr>\n",
              "    <tr>\n",
              "      <th>1</th>\n",
              "      <td>5a0546857ecc773753327266</td>\n",
              "      <td>046cfa46be49fc10834815c6</td>\n",
              "      <td>0000000009017</td>\n",
              "    </tr>\n",
              "    <tr>\n",
              "      <th>2</th>\n",
              "      <td>5a0546857ecc773753327266</td>\n",
              "      <td>046cfa46be49fc10834815c6</td>\n",
              "      <td>0000000015326</td>\n",
              "    </tr>\n",
              "    <tr>\n",
              "      <th>3</th>\n",
              "      <td>5a0546857ecc773753327266</td>\n",
              "      <td>046cfa46be49fc10834815c6</td>\n",
              "      <td>0000000018763</td>\n",
              "    </tr>\n",
              "    <tr>\n",
              "      <th>4</th>\n",
              "      <td>5a0546857ecc773753327266</td>\n",
              "      <td>046cfa46be49fc10834815c6</td>\n",
              "      <td>0000000022328</td>\n",
              "    </tr>\n",
              "    <tr>\n",
              "      <th>...</th>\n",
              "      <td>...</td>\n",
              "      <td>...</td>\n",
              "      <td>...</td>\n",
              "    </tr>\n",
              "    <tr>\n",
              "      <th>10128</th>\n",
              "      <td>5dc8cea7659e181adb076a3f</td>\n",
              "      <td>fd64de8c4a2fc5ebb0e9f412</td>\n",
              "      <td>0000000082589</td>\n",
              "    </tr>\n",
              "    <tr>\n",
              "      <th>10129</th>\n",
              "      <td>5dc8cea7659e181adb076a3f</td>\n",
              "      <td>fd64de8c4a2fc5ebb0e9f412</td>\n",
              "      <td>0000000085758</td>\n",
              "    </tr>\n",
              "    <tr>\n",
              "      <th>10130</th>\n",
              "      <td>5dc8cea7659e181adb076a3f</td>\n",
              "      <td>fd64de8c4a2fc5ebb0e9f412</td>\n",
              "      <td>0000000090895</td>\n",
              "    </tr>\n",
              "    <tr>\n",
              "      <th>10131</th>\n",
              "      <td>5dc8cea7659e181adb076a3f</td>\n",
              "      <td>fd64de8c4a2fc5ebb0e9f412</td>\n",
              "      <td>0000000096899</td>\n",
              "    </tr>\n",
              "    <tr>\n",
              "      <th>10132</th>\n",
              "      <td>5dc8cea7659e181adb076a3f</td>\n",
              "      <td>fd64de8c4a2fc5ebb0e9f412</td>\n",
              "      <td>0000000100447</td>\n",
              "    </tr>\n",
              "  </tbody>\n",
              "</table>\n",
              "<p>10133 rows × 3 columns</p>\n",
              "</div>"
            ],
            "text/plain": [
              "                              0                         1              2\n",
              "0      5a0546857ecc773753327266  046cfa46be49fc10834815c6  0000000000009\n",
              "1      5a0546857ecc773753327266  046cfa46be49fc10834815c6  0000000009017\n",
              "2      5a0546857ecc773753327266  046cfa46be49fc10834815c6  0000000015326\n",
              "3      5a0546857ecc773753327266  046cfa46be49fc10834815c6  0000000018763\n",
              "4      5a0546857ecc773753327266  046cfa46be49fc10834815c6  0000000022328\n",
              "...                         ...                       ...            ...\n",
              "10128  5dc8cea7659e181adb076a3f  fd64de8c4a2fc5ebb0e9f412  0000000082589\n",
              "10129  5dc8cea7659e181adb076a3f  fd64de8c4a2fc5ebb0e9f412  0000000085758\n",
              "10130  5dc8cea7659e181adb076a3f  fd64de8c4a2fc5ebb0e9f412  0000000090895\n",
              "10131  5dc8cea7659e181adb076a3f  fd64de8c4a2fc5ebb0e9f412  0000000096899\n",
              "10132  5dc8cea7659e181adb076a3f  fd64de8c4a2fc5ebb0e9f412  0000000100447\n",
              "\n",
              "[10133 rows x 3 columns]"
            ]
          },
          "metadata": {
            "tags": []
          },
          "execution_count": 15
        }
      ]
    },
    {
      "cell_type": "code",
      "metadata": {
        "id": "JiKqJbS9ssAO"
      },
      "source": [
        "# Generate the features for the test set\n",
        "\n",
        "ssubm_building_g = ssubm_df.groupby(0)\n",
        "feature_dict = dict()\n",
        "\n",
        "for gid0, g0 in ssubm_building_g:\n",
        "    Px_Power_dfs = list()\n",
        "    RSSI_dfs = list()\n",
        "    Distance_dfs = list()\n",
        "    index = sorted(MAC_Adress[g0.iloc[0,0]])\n",
        "    feats = list()\n",
        "    print(gid0)\n",
        "    for gid,g in g0.groupby(1):\n",
        "\n",
        "        # get all wifi time locations, \n",
        "        with open(os.path.join(base_path, 'test/' + g.iloc[0,1] + '.txt')) as f:\n",
        "            txt = f.readlines()\n",
        "\n",
        "        beacon = list()\n",
        "\n",
        "        for line in txt:\n",
        "            line = line.strip().split()\n",
        "            if line[1] == \"TYPE_BEACON\":\n",
        "                beacon.append(line)\n",
        "\n",
        "            \n",
        "        if not beacon:\n",
        "            nun_df = pd.DataFrame()\n",
        "            nun_df.to_csv(gid0+\"_beacon_test.csv\")\n",
        "            break\n",
        "            \n",
        "        beacon_df = pd.DataFrame(beacon)\n",
        "\n",
        "        beacon_points = pd.DataFrame(beacon_df.groupby(0).count().index.tolist())\n",
        "            \n",
        "        for timepoint in g.iloc[:,2].tolist():\n",
        "\n",
        "            deltas = (beacon_points.astype(int) - int(timepoint)).abs()\n",
        "            min_delta_idx = deltas.values.argmin()\n",
        "            beacon_block_timestamp = beacon_points.iloc[min_delta_idx].values[0]\n",
        "            \n",
        "            beacon_block = beacon_df[beacon_df[0] == beacon_block_timestamp].drop_duplicates(subset=8)\n",
        "\n",
        "            feat_Px_Power = beacon_block.loc[:,[5,8]].set_index(8).reindex(index).replace(np.nan, -999).T.dropna().add_prefix(\"Tx_Power_\")\n",
        "            feat_RSSI = beacon_block.loc[:,[6,8]].loc[:,[6,8]].set_index(8).reindex(index).replace(np.nan, -999).T.dropna().add_prefix(\"RSSI_\")\n",
        "            feat_Distance = beacon_block.loc[:,[7,8]].loc[:,[7,8]].set_index(8).reindex(index).replace(np.nan, 0).T.dropna().add_prefix(\"Distance_\")\n",
        "            \n",
        "            Px_Power_dfs.append(feat_Px_Power)\n",
        "            RSSI_dfs.append(feat_RSSI)\n",
        "            Distance_dfs.append(feat_Distance)\n",
        "\n",
        "            feat = pd.DataFrame()\n",
        "            feat['site_path_timestamp'] = g.iloc[0,0] + \"_\" + g.iloc[0,1] + \"_\" + timepoint\n",
        "            feats.append(feat)\n",
        "\n",
        "    Px_Power_df = pd.concat(Px_Power_dfs)\n",
        "    RSSI_df = pd.concat(RSSI_dfs)\n",
        "    Distance_df = pd.concat(Distance_dfs)\n",
        "    df = pd.concat(feats)\n",
        "    building_df = pd.concat([Px_Power_df.reset_index(), RSSI_df.reset_index(), Distance_df.reset_index(), df.reset_index()], axis=1)    \n",
        "    building_df.to_csv(gid0+\"_beacon_test.csv\")\n",
        "\n",
        "    "
      ],
      "execution_count": null,
      "outputs": []
    },
    {
      "cell_type": "code",
      "metadata": {
        "id": "3wX196xhCaCd",
        "colab": {
          "base_uri": "https://localhost:8080/",
          "height": 170
        },
        "outputId": "c4e7d3a3-a636-431d-991f-29a1413537ce"
      },
      "source": [
        "nun_df"
      ],
      "execution_count": null,
      "outputs": [
        {
          "output_type": "error",
          "ename": "NameError",
          "evalue": "ignored",
          "traceback": [
            "\u001b[0;31m---------------------------------------------------------------------------\u001b[0m",
            "\u001b[0;31mNameError\u001b[0m                                 Traceback (most recent call last)",
            "\u001b[0;32m<ipython-input-8-361b6c41838c>\u001b[0m in \u001b[0;36m<module>\u001b[0;34m()\u001b[0m\n\u001b[0;32m----> 1\u001b[0;31m \u001b[0mnun_df\u001b[0m\u001b[0;34m\u001b[0m\u001b[0;34m\u001b[0m\u001b[0m\n\u001b[0m",
            "\u001b[0;31mNameError\u001b[0m: name 'nun_df' is not defined"
          ]
        }
      ]
    },
    {
      "cell_type": "code",
      "metadata": {
        "id": "7fUxdxQlVHo_"
      },
      "source": [
        ""
      ],
      "execution_count": null,
      "outputs": []
    }
  ]
}