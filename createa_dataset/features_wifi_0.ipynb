{
  "nbformat": 4,
  "nbformat_minor": 0,
  "metadata": {
    "kernelspec": {
      "display_name": "Python 3",
      "language": "python",
      "name": "python3"
    },
    "language_info": {
      "codemirror_mode": {
        "name": "ipython",
        "version": 3
      },
      "file_extension": ".py",
      "mimetype": "text/x-python",
      "name": "python",
      "nbconvert_exporter": "python",
      "pygments_lexer": "ipython3",
      "version": "3.7.9"
    },
    "papermill": {
      "default_parameters": {},
      "duration": 9.894085,
      "end_time": "2021-02-03T20:30:10.083699",
      "environment_variables": {},
      "exception": null,
      "input_path": "__notebook__.ipynb",
      "output_path": "__notebook__.ipynb",
      "parameters": {},
      "start_time": "2021-02-03T20:30:00.189614",
      "version": "2.2.2"
    },
    "colab": {
      "name": "wifi-features.ipynb",
      "provenance": [],
      "machine_shape": "hm",
      "include_colab_link": true
    },
    "accelerator": "GPU"
  },
  "cells": [
    {
      "cell_type": "markdown",
      "metadata": {
        "id": "view-in-github",
        "colab_type": "text"
      },
      "source": [
        "<a href=\"https://colab.research.google.com/github/kyochanpy/Kaggle_Indoor_Location_Navigation/blob/main/createa_dataset/features_wifi_0.ipynb\" target=\"_parent\"><img src=\"https://colab.research.google.com/assets/colab-badge.svg\" alt=\"Open In Colab\"/></a>"
      ]
    },
    {
      "cell_type": "code",
      "metadata": {
        "id": "1XW9J-NM3klo"
      },
      "source": [
        ""
      ],
      "execution_count": null,
      "outputs": []
    },
    {
      "cell_type": "code",
      "metadata": {
        "_cell_guid": "b1076dfc-b9ad-4769-8c92-a6c4dae69d19",
        "_uuid": "8f2839f25d086af736a60e9eeb907d3b93b6e0e5",
        "execution": {
          "iopub.execute_input": "2021-02-03T20:30:06.590945Z",
          "iopub.status.busy": "2021-02-03T20:30:06.589984Z",
          "iopub.status.idle": "2021-02-03T20:30:06.593594Z",
          "shell.execute_reply": "2021-02-03T20:30:06.592887Z"
        },
        "papermill": {
          "duration": 0.01623,
          "end_time": "2021-02-03T20:30:06.593847",
          "exception": false,
          "start_time": "2021-02-03T20:30:06.577617",
          "status": "completed"
        },
        "tags": [],
        "id": "2tlkntP9-TdJ"
      },
      "source": [
        "import pandas as pd\n",
        "import numpy as np\n",
        "import glob\n",
        "import os\n",
        "import gc\n",
        "import json "
      ],
      "execution_count": 2,
      "outputs": []
    },
    {
      "cell_type": "code",
      "metadata": {
        "execution": {
          "iopub.execute_input": "2021-02-03T20:30:06.614521Z",
          "iopub.status.busy": "2021-02-03T20:30:06.613572Z",
          "iopub.status.idle": "2021-02-03T20:30:06.616669Z",
          "shell.execute_reply": "2021-02-03T20:30:06.616121Z"
        },
        "papermill": {
          "duration": 0.015585,
          "end_time": "2021-02-03T20:30:06.616837",
          "exception": false,
          "start_time": "2021-02-03T20:30:06.601252",
          "status": "completed"
        },
        "tags": [],
        "id": "cVqUpCVQ-TdL"
      },
      "source": [
        "base_path = '/content/drive/MyDrive/fixed_train'"
      ],
      "execution_count": 3,
      "outputs": []
    },
    {
      "cell_type": "code",
      "metadata": {
        "execution": {
          "iopub.execute_input": "2021-02-03T20:30:06.639011Z",
          "iopub.status.busy": "2021-02-03T20:30:06.638118Z",
          "iopub.status.idle": "2021-02-03T20:30:09.333807Z",
          "shell.execute_reply": "2021-02-03T20:30:09.334360Z"
        },
        "papermill": {
          "duration": 2.711076,
          "end_time": "2021-02-03T20:30:09.334617",
          "exception": false,
          "start_time": "2021-02-03T20:30:06.623541",
          "status": "completed"
        },
        "tags": [],
        "id": "ai0A4w0j-TdL"
      },
      "source": [
        "# pull out all the buildings actually used in the test set, given current method we don't need the other ones\n",
        "ssubm = pd.read_csv('/content/drive/MyDrive/sample_submission.csv')\n",
        "\n",
        "# only 24 of the total buildings are used in the test set, \n",
        "# this allows us to greatly reduce the intial size of the dataset\n",
        "\n",
        "ssubm_df = ssubm[\"site_path_timestamp\"].apply(lambda x: pd.Series(x.split(\"_\")))\n",
        "used_buildings = sorted(ssubm_df[0].value_counts().index.tolist())\n",
        "\n",
        "# dictionary used to map the floor codes to the values used in the submission file. \n",
        "floor_map = {\"B2\":-2, \"B1\":-1, \"F1\":0, \"F2\": 1, \"F3\":2, \"F4\":3, \"F5\":4, \"F6\":5, \"F7\":6,\"F8\":7, \"F9\":8,\n",
        "             \"1F\":0, \"2F\":1, \"3F\":2, \"4F\":3, \"5F\":4, \"6F\":5, \"7F\":6, \"8F\": 7, \"9F\":8}"
      ],
      "execution_count": 4,
      "outputs": []
    },
    {
      "cell_type": "code",
      "metadata": {
        "execution": {
          "iopub.execute_input": "2021-02-03T20:30:09.359905Z",
          "iopub.status.busy": "2021-02-03T20:30:09.359123Z",
          "iopub.status.idle": "2021-02-03T20:30:09.362909Z",
          "shell.execute_reply": "2021-02-03T20:30:09.362224Z"
        },
        "papermill": {
          "duration": 0.021272,
          "end_time": "2021-02-03T20:30:09.363069",
          "exception": false,
          "start_time": "2021-02-03T20:30:09.341797",
          "status": "completed"
        },
        "tags": [],
        "colab": {
          "base_uri": "https://localhost:8080/"
        },
        "id": "fg88Qg2p-TdN",
        "outputId": "1262c1f6-d1e9-4d67-c7be-6304813438e9"
      },
      "source": [
        "# get only the wifi bssid that occur over 1000 times(this number can be experimented with)\n",
        "# these will be the only ones used when constructing features\n",
        "bssid = dict()\n",
        "\n",
        "for building in used_buildings:\n",
        "    folders = sorted(glob.glob(os.path.join(base_path,'train/'+building+'/*')))\n",
        "    print(building)\n",
        "    wifi = list()\n",
        "    for folder in folders:\n",
        "        floor = floor_map[folder.split('/')[-1]]\n",
        "        files = glob.glob(os.path.join(folder, \"*.txt\"))\n",
        "        for file in files:\n",
        "            with open(file) as f:\n",
        "                txt = f.readlines()\n",
        "                for e, line in enumerate(txt):\n",
        "                    tmp = line.strip().split()\n",
        "                    if tmp[1] == \"TYPE_WIFI\":\n",
        "                        wifi.append(tmp)\n",
        "    df = pd.DataFrame(wifi)\n",
        "    #top_bssid = df[3].value_counts().iloc[:500].index.tolist()\n",
        "    value_counts = df[3].value_counts()\n",
        "    top_bssid = value_counts[value_counts > 0].index.tolist()\n",
        "    print(len(top_bssid))\n",
        "    bssid[building] = top_bssid\n",
        "    del df\n",
        "    del wifi\n",
        "    gc.collect()"
      ],
      "execution_count": 5,
      "outputs": [
        {
          "output_type": "stream",
          "text": [
            "5a0546857ecc773753327266\n",
            "3397\n",
            "5c3c44b80379370013e0fd2b\n",
            "3063\n",
            "5d27075f03f801723c2e360f\n",
            "7029\n",
            "5d27096c03f801723c31e5e0\n",
            "4964\n",
            "5d27097f03f801723c320d97\n",
            "2490\n",
            "5d27099f03f801723c32511d\n",
            "925\n",
            "5d2709a003f801723c3251bf\n",
            "1252\n",
            "5d2709b303f801723c327472\n",
            "1913\n",
            "5d2709bb03f801723c32852c\n",
            "2452\n",
            "5d2709c303f801723c3299ee\n",
            "5831\n",
            "5d2709d403f801723c32bd39\n",
            "2139\n",
            "5d2709e003f801723c32d896\n",
            "1309\n",
            "5da138274db8ce0c98bbd3d2\n",
            "490\n",
            "5da1382d4db8ce0c98bbe92e\n",
            "2862\n",
            "5da138314db8ce0c98bbf3a0\n",
            "1212\n",
            "5da138364db8ce0c98bc00f1\n",
            "822\n",
            "5da1383b4db8ce0c98bc11ab\n",
            "1525\n",
            "5da138754db8ce0c98bca82f\n",
            "1627\n",
            "5da138764db8ce0c98bcaa46\n",
            "1888\n",
            "5da1389e4db8ce0c98bd0547\n",
            "1021\n",
            "5da138b74db8ce0c98bd4774\n",
            "3535\n",
            "5da958dd46f8266d0737457b\n",
            "3499\n",
            "5dbc1d84c1eb61796cf7c010\n",
            "4519\n",
            "5dc8cea7659e181adb076a3f\n",
            "4864\n"
          ],
          "name": "stdout"
        }
      ]
    },
    {
      "cell_type": "code",
      "metadata": {
        "execution": {
          "iopub.execute_input": "2021-02-03T20:30:09.383252Z",
          "iopub.status.busy": "2021-02-03T20:30:09.382581Z",
          "iopub.status.idle": "2021-02-03T20:30:09.386704Z",
          "shell.execute_reply": "2021-02-03T20:30:09.385809Z"
        },
        "papermill": {
          "duration": 0.016635,
          "end_time": "2021-02-03T20:30:09.386885",
          "exception": false,
          "start_time": "2021-02-03T20:30:09.370250",
          "status": "completed"
        },
        "tags": [],
        "id": "rGYWKnkr-TdO"
      },
      "source": [
        "with open(\"bssid_0.json\", \"w\") as f:\n",
        "    json.dump(bssid, f)\n",
        "\n",
        "with open(\"bssid_0.json\") as f:\n",
        "    bssid = json.load(f)"
      ],
      "execution_count": 6,
      "outputs": []
    },
    {
      "cell_type": "code",
      "metadata": {
        "execution": {
          "iopub.execute_input": "2021-02-03T20:30:09.418284Z",
          "iopub.status.busy": "2021-02-03T20:30:09.417119Z",
          "iopub.status.idle": "2021-02-03T20:30:09.420513Z",
          "shell.execute_reply": "2021-02-03T20:30:09.419767Z"
        },
        "papermill": {
          "duration": 0.026514,
          "end_time": "2021-02-03T20:30:09.420694",
          "exception": false,
          "start_time": "2021-02-03T20:30:09.394180",
          "status": "completed"
        },
        "tags": [],
        "colab": {
          "base_uri": "https://localhost:8080/"
        },
        "id": "kQyrPYcl-TdP",
        "outputId": "24470105-c57e-4213-d11b-cac1d3e32291"
      },
      "source": [
        "# generate all the training data \n",
        "building_dfs = dict()\n",
        "\n",
        "for building in used_buildings:\n",
        "    folders = sorted(glob.glob(os.path.join(base_path,'train', building +'/*')))\n",
        "    dfs = list()\n",
        "    index = sorted(bssid[building])\n",
        "    print(building)\n",
        "    for folder in folders:\n",
        "        floor = floor_map[folder.split('/')[-1]]\n",
        "        files = glob.glob(os.path.join(folder, \"*.txt\"))\n",
        "        print(floor)\n",
        "        for file in files:\n",
        "            wifi = list()\n",
        "            waypoint = list()\n",
        "            with open(file) as f:\n",
        "                txt = f.readlines()\n",
        "            for line in txt:\n",
        "                line = line.strip().split()\n",
        "                if line[1] == \"TYPE_WAYPOINT\":\n",
        "                    waypoint.append(line)\n",
        "                if line[1] == \"TYPE_WIFI\":\n",
        "                    wifi.append(line)\n",
        "\n",
        "            df = pd.DataFrame(np.array(wifi))    \n",
        "\n",
        "            # generate a feature, and label for each wifi block\n",
        "            for gid, g in df.groupby(0):\n",
        "                dists = list()\n",
        "                for e, k in enumerate(waypoint):\n",
        "                    dist = abs(int(gid) - int(k[0]))\n",
        "                    dists.append(dist)\n",
        "                nearest_wp_index = np.argmin(dists)\n",
        "                \n",
        "                g = g.drop_duplicates(subset=3)\n",
        "                tmp = g.iloc[:,3:5]\n",
        "                feat = tmp.set_index(3).reindex(index).replace(np.nan, -999).T\n",
        "                feat[\"x\"] = float(waypoint[nearest_wp_index][2])\n",
        "                feat[\"y\"] = float(waypoint[nearest_wp_index][3])\n",
        "                feat[\"f\"] = floor\n",
        "                feat[\"path\"] = file.split('/')[-1].split('.')[0] # useful for crossvalidation\n",
        "                dfs.append(feat)\n",
        "                \n",
        "    building_df = pd.concat(dfs)\n",
        "    building_dfs[building] = df\n",
        "    building_df.to_csv(building+\"_0_train.csv\")"
      ],
      "execution_count": 7,
      "outputs": [
        {
          "output_type": "stream",
          "text": [
            "5a0546857ecc773753327266\n",
            "-1\n",
            "0\n",
            "1\n",
            "2\n",
            "3\n",
            "5c3c44b80379370013e0fd2b\n",
            "-1\n",
            "0\n",
            "1\n",
            "2\n",
            "3\n",
            "4\n",
            "5d27075f03f801723c2e360f\n",
            "-1\n",
            "0\n",
            "1\n",
            "2\n",
            "3\n",
            "4\n",
            "5\n",
            "6\n",
            "5d27096c03f801723c31e5e0\n",
            "-1\n",
            "0\n",
            "1\n",
            "2\n",
            "3\n",
            "4\n",
            "5\n",
            "5d27097f03f801723c320d97\n",
            "-1\n",
            "-2\n",
            "0\n",
            "1\n",
            "2\n",
            "3\n",
            "4\n",
            "5d27099f03f801723c32511d\n",
            "-1\n",
            "0\n",
            "1\n",
            "2\n",
            "3\n",
            "5d2709a003f801723c3251bf\n",
            "0\n",
            "1\n",
            "2\n",
            "3\n",
            "5d2709b303f801723c327472\n",
            "0\n",
            "1\n",
            "2\n",
            "3\n",
            "-1\n",
            "5d2709bb03f801723c32852c\n",
            "-1\n",
            "0\n",
            "1\n",
            "2\n",
            "3\n",
            "5d2709c303f801723c3299ee\n",
            "0\n",
            "1\n",
            "2\n",
            "3\n",
            "4\n",
            "5\n",
            "6\n",
            "7\n",
            "8\n",
            "-1\n",
            "5d2709d403f801723c32bd39\n",
            "0\n",
            "1\n",
            "2\n",
            "-1\n",
            "5d2709e003f801723c32d896\n",
            "-1\n",
            "0\n",
            "1\n",
            "2\n",
            "3\n",
            "4\n",
            "5da138274db8ce0c98bbd3d2\n",
            "0\n",
            "1\n",
            "2\n",
            "5da1382d4db8ce0c98bbe92e\n",
            "-1\n",
            "0\n",
            "1\n",
            "2\n",
            "3\n",
            "4\n",
            "5da138314db8ce0c98bbf3a0\n",
            "-1\n",
            "-2\n",
            "0\n",
            "1\n",
            "2\n",
            "5da138364db8ce0c98bc00f1\n",
            "0\n",
            "1\n",
            "2\n",
            "5da1383b4db8ce0c98bc11ab\n",
            "0\n",
            "1\n",
            "2\n",
            "5da138754db8ce0c98bca82f\n",
            "0\n",
            "1\n",
            "2\n",
            "3\n",
            "5da138764db8ce0c98bcaa46\n",
            "-1\n",
            "0\n",
            "1\n",
            "2\n",
            "3\n",
            "4\n",
            "5da1389e4db8ce0c98bd0547\n",
            "-1\n",
            "-2\n",
            "0\n",
            "1\n",
            "2\n",
            "3\n",
            "5da138b74db8ce0c98bd4774\n",
            "-1\n",
            "-2\n",
            "0\n",
            "1\n",
            "2\n",
            "3\n",
            "4\n",
            "5da958dd46f8266d0737457b\n",
            "-1\n",
            "0\n",
            "1\n",
            "2\n",
            "3\n",
            "4\n",
            "5\n",
            "6\n",
            "5dbc1d84c1eb61796cf7c010\n",
            "-1\n",
            "1\n",
            "2\n",
            "3\n",
            "4\n",
            "5\n",
            "6\n",
            "7\n",
            "5dc8cea7659e181adb076a3f\n",
            "-1\n",
            "0\n",
            "1\n",
            "2\n",
            "3\n",
            "4\n",
            "5\n",
            "6\n"
          ],
          "name": "stdout"
        }
      ]
    },
    {
      "cell_type": "code",
      "metadata": {
        "execution": {
          "iopub.execute_input": "2021-02-03T20:30:09.454304Z",
          "iopub.status.busy": "2021-02-03T20:30:09.451093Z",
          "iopub.status.idle": "2021-02-03T20:30:09.464308Z",
          "shell.execute_reply": "2021-02-03T20:30:09.464854Z"
        },
        "papermill": {
          "duration": 0.036471,
          "end_time": "2021-02-03T20:30:09.465079",
          "exception": false,
          "start_time": "2021-02-03T20:30:09.428608",
          "status": "completed"
        },
        "tags": [],
        "colab": {
          "base_uri": "https://localhost:8080/"
        },
        "id": "SCa9JXzL-TdR",
        "outputId": "a87e50e4-edab-436f-cd5f-dc25db272764"
      },
      "source": [
        "# Generate the features for the test set\n",
        "\n",
        "ssubm_building_g = ssubm_df.groupby(0)\n",
        "feature_dict = dict()\n",
        "\n",
        "for gid0, g0 in ssubm_building_g:\n",
        "    index = sorted(bssid[g0.iloc[0,0]])\n",
        "    feats = list()\n",
        "    print(gid0)\n",
        "    for gid,g in g0.groupby(1):\n",
        "\n",
        "        # get all wifi time locations, \n",
        "        with open(os.path.join(base_path, 'test/' + g.iloc[0,1] + '.txt')) as f:\n",
        "            txt = f.readlines()\n",
        "\n",
        "        wifi = list()\n",
        "\n",
        "        for line in txt:\n",
        "            line = line.strip().split()\n",
        "            if line[1] == \"TYPE_WIFI\":\n",
        "                wifi.append(line)\n",
        "\n",
        "        wifi_df = pd.DataFrame(wifi)\n",
        "        wifi_points = pd.DataFrame(wifi_df.groupby(0).count().index.tolist())\n",
        "        \n",
        "        for timepoint in g.iloc[:,2].tolist():\n",
        "\n",
        "            deltas = (wifi_points.astype(int) - int(timepoint)).abs()\n",
        "            min_delta_idx = deltas.values.argmin()\n",
        "            wifi_block_timestamp = wifi_points.iloc[min_delta_idx].values[0]\n",
        "            \n",
        "            wifi_block = wifi_df[wifi_df[0] == wifi_block_timestamp].drop_duplicates(subset=3)\n",
        "            feat = wifi_block.set_index(3)[4].reindex(index).fillna(-999)\n",
        "\n",
        "            feat['site_path_timestamp'] = g.iloc[0,0] + \"_\" + g.iloc[0,1] + \"_\" + timepoint\n",
        "            feats.append(feat)\n",
        "    feature_df = pd.concat(feats, axis=1).T\n",
        "    feature_df.to_csv(gid0+\"_0_test.csv\")\n",
        "    feature_dict[gid0] = feature_df"
      ],
      "execution_count": 8,
      "outputs": [
        {
          "output_type": "stream",
          "text": [
            "5a0546857ecc773753327266\n",
            "5c3c44b80379370013e0fd2b\n",
            "5d27075f03f801723c2e360f\n",
            "5d27096c03f801723c31e5e0\n",
            "5d27097f03f801723c320d97\n",
            "5d27099f03f801723c32511d\n",
            "5d2709a003f801723c3251bf\n",
            "5d2709b303f801723c327472\n",
            "5d2709bb03f801723c32852c\n",
            "5d2709c303f801723c3299ee\n",
            "5d2709d403f801723c32bd39\n",
            "5d2709e003f801723c32d896\n",
            "5da138274db8ce0c98bbd3d2\n",
            "5da1382d4db8ce0c98bbe92e\n",
            "5da138314db8ce0c98bbf3a0\n",
            "5da138364db8ce0c98bc00f1\n",
            "5da1383b4db8ce0c98bc11ab\n",
            "5da138754db8ce0c98bca82f\n",
            "5da138764db8ce0c98bcaa46\n",
            "5da1389e4db8ce0c98bd0547\n",
            "5da138b74db8ce0c98bd4774\n",
            "5da958dd46f8266d0737457b\n",
            "5dbc1d84c1eb61796cf7c010\n",
            "5dc8cea7659e181adb076a3f\n"
          ],
          "name": "stdout"
        }
      ]
    },
    {
      "cell_type": "code",
      "metadata": {
        "colab": {
          "base_uri": "https://localhost:8080/"
        },
        "id": "47NGgInG-2GY",
        "outputId": "af96c82c-48b4-4f7c-8fc5-b535ca4afcd1"
      },
      "source": [
        "from google.colab import drive\n",
        "drive.mount('/content/drive')"
      ],
      "execution_count": 1,
      "outputs": [
        {
          "output_type": "stream",
          "text": [
            "Mounted at /content/drive\n"
          ],
          "name": "stdout"
        }
      ]
    },
    {
      "cell_type": "code",
      "metadata": {
        "id": "TFFNdUt5-28w"
      },
      "source": [
        "!mv /content/5a0546857ecc773753327266_0_train.csv /content/drive/MyDrive/wifi_0\n",
        "!mv /content/5c3c44b80379370013e0fd2b_0_train.csv /content/drive/MyDrive/wifi_0\n",
        "!mv /content/5d27075f03f801723c2e360f_0_train.csv /content/drive/MyDrive/wifi_0\n",
        "!mv /content/5d27096c03f801723c31e5e0_0_train.csv /content/drive/MyDrive/wifi_0\n",
        "!mv /content/5d27097f03f801723c320d97_0_train.csv /content/drive/MyDrive/wifi_0\n",
        "!mv /content/5d27099f03f801723c32511d_0_train.csv /content/drive/MyDrive/wifi_0\n",
        "!mv /content/5d2709a003f801723c3251bf_0_train.csv /content/drive/MyDrive/wifi_0\n",
        "!mv /content/5d2709b303f801723c327472_0_train.csv /content/drive/MyDrive/wifi_0\n",
        "!mv /content/5d2709bb03f801723c32852c_0_train.csv /content/drive/MyDrive/wifi_0\n",
        "!mv /content/5d2709c303f801723c3299ee_0_train.csv /content/drive/MyDrive/wifi_0\n",
        "!mv /content/5d2709d403f801723c32bd39_0_train.csv /content/drive/MyDrive/wifi_0\n",
        "!mv /content/5d2709e003f801723c32d896_0_train.csv /content/drive/MyDrive/wifi_0\n",
        "!mv /content/5da138274db8ce0c98bbd3d2_0_train.csv /content/drive/MyDrive/wifi_0\n",
        "!mv /content/5da1382d4db8ce0c98bbe92e_0_train.csv /content/drive/MyDrive/wifi_0\n",
        "!mv /content/5da138314db8ce0c98bbf3a0_0_train.csv /content/drive/MyDrive/wifi_0\n",
        "!mv /content/5da138364db8ce0c98bc00f1_0_train.csv /content/drive/MyDrive/wifi_0\n",
        "!mv /content/5da1383b4db8ce0c98bc11ab_0_train.csv /content/drive/MyDrive/wifi_0\n",
        "!mv /content/5da138754db8ce0c98bca82f_0_train.csv /content/drive/MyDrive/wifi_0\n",
        "!mv /content/5da138764db8ce0c98bcaa46_0_train.csv /content/drive/MyDrive/wifi_0\n",
        "!mv /content/5da1389e4db8ce0c98bd0547_0_train.csv /content/drive/MyDrive/wifi_0\n",
        "!mv /content/5da138b74db8ce0c98bd4774_0_train.csv /content/drive/MyDrive/wifi_0\n",
        "!mv /content/5da958dd46f8266d0737457b_0_train.csv /content/drive/MyDrive/wifi_0\n",
        "!mv /content/5dbc1d84c1eb61796cf7c010_0_train.csv /content/drive/MyDrive/wifi_0\n",
        "!mv /content/5dc8cea7659e181adb076a3f_0_train.csv /content/drive/MyDrive/wifi_0"
      ],
      "execution_count": 9,
      "outputs": []
    },
    {
      "cell_type": "code",
      "metadata": {
        "id": "58ErVtmmUEeY"
      },
      "source": [
        "!mv /content/5a0546857ecc773753327266_0_test.csv /content/drive/MyDrive/wifi_0\n",
        "!mv /content/5c3c44b80379370013e0fd2b_0_test.csv /content/drive/MyDrive/wifi_0\n",
        "!mv /content/5d27075f03f801723c2e360f_0_test.csv /content/drive/MyDrive/wifi_0\n",
        "!mv /content/5d27096c03f801723c31e5e0_0_test.csv /content/drive/MyDrive/wifi_0\n",
        "!mv /content/5d27097f03f801723c320d97_0_test.csv /content/drive/MyDrive/wifi_0\n",
        "!mv /content/5d27099f03f801723c32511d_0_test.csv /content/drive/MyDrive/wifi_0\n",
        "!mv /content/5d2709a003f801723c3251bf_0_test.csv /content/drive/MyDrive/wifi_0\n",
        "!mv /content/5d2709b303f801723c327472_0_test.csv /content/drive/MyDrive/wifi_0\n",
        "!mv /content/5d2709bb03f801723c32852c_0_test.csv /content/drive/MyDrive/wifi_0\n",
        "!mv /content/5d2709c303f801723c3299ee_0_test.csv /content/drive/MyDrive/wifi_0\n",
        "!mv /content/5d2709d403f801723c32bd39_0_test.csv /content/drive/MyDrive/wifi_0\n",
        "!mv /content/5d2709e003f801723c32d896_0_test.csv /content/drive/MyDrive/wifi_0\n",
        "!mv /content/5da138274db8ce0c98bbd3d2_0_test.csv /content/drive/MyDrive/wifi_0\n",
        "!mv /content/5da1382d4db8ce0c98bbe92e_0_test.csv /content/drive/MyDrive/wifi_0\n",
        "!mv /content/5da138314db8ce0c98bbf3a0_0_test.csv /content/drive/MyDrive/wifi_0\n",
        "!mv /content/5da138364db8ce0c98bc00f1_0_test.csv /content/drive/MyDrive/wifi_0\n",
        "!mv /content/5da1383b4db8ce0c98bc11ab_0_test.csv /content/drive/MyDrive/wifi_0\n",
        "!mv /content/5da138754db8ce0c98bca82f_0_test.csv /content/drive/MyDrive/wifi_0\n",
        "!mv /content/5da138764db8ce0c98bcaa46_0_test.csv /content/drive/MyDrive/wifi_0\n",
        "!mv /content/5da1389e4db8ce0c98bd0547_0_test.csv /content/drive/MyDrive/wifi_0\n",
        "!mv /content/5da138b74db8ce0c98bd4774_0_test.csv /content/drive/MyDrive/wifi_0\n",
        "!mv /content/5da958dd46f8266d0737457b_0_test.csv /content/drive/MyDrive/wifi_0\n",
        "!mv /content/5dbc1d84c1eb61796cf7c010_0_test.csv /content/drive/MyDrive/wifi_0\n",
        "!mv /content/5dc8cea7659e181adb076a3f_0_test.csv /content/drive/MyDrive/wifi_0"
      ],
      "execution_count": 10,
      "outputs": []
    },
    {
      "cell_type": "code",
      "metadata": {
        "id": "z77KLdicUb02"
      },
      "source": [
        ""
      ],
      "execution_count": null,
      "outputs": []
    }
  ]
}